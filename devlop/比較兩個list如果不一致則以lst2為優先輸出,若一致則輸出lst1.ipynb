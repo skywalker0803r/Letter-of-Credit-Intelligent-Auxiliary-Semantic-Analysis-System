{
  "nbformat": 4,
  "nbformat_minor": 0,
  "metadata": {
    "colab": {
      "name": "比較兩個list如果不一致則以lst2為優先輸出,若一致則輸出lst1.ipynb",
      "provenance": [],
      "collapsed_sections": [],
      "authorship_tag": "ABX9TyNDNGidSzquRmjcppDbB6mW",
      "include_colab_link": true
    },
    "kernelspec": {
      "name": "python3",
      "display_name": "Python 3"
    },
    "language_info": {
      "name": "python"
    }
  },
  "cells": [
    {
      "cell_type": "markdown",
      "metadata": {
        "id": "view-in-github",
        "colab_type": "text"
      },
      "source": [
        "<a href=\"https://colab.research.google.com/github/skywalker0803r/Letter-of-Credit-Intelligent-Auxiliary-Semantic-Analysis-System/blob/main/devlop/%E6%AF%94%E8%BC%83%E5%85%A9%E5%80%8Blist%E5%A6%82%E6%9E%9C%E4%B8%8D%E4%B8%80%E8%87%B4%E5%89%87%E4%BB%A5lst2%E7%82%BA%E5%84%AA%E5%85%88%E8%BC%B8%E5%87%BA%2C%E8%8B%A5%E4%B8%80%E8%87%B4%E5%89%87%E8%BC%B8%E5%87%BAlst1.ipynb\" target=\"_parent\"><img src=\"https://colab.research.google.com/assets/colab-badge.svg\" alt=\"Open In Colab\"/></a>"
      ]
    },
    {
      "cell_type": "code",
      "execution_count": 17,
      "metadata": {
        "id": "iVbOQuuj5rOr"
      },
      "outputs": [],
      "source": [
        "def compare2list(lst1,lst2):\n",
        "  '''\n",
        "  比較兩個list如果不一致則以lst2為優先輸出,若一致則輸出lst1\n",
        "  '''\n",
        "  if len((list(set(lst1).symmetric_difference(set(lst2))))) != 0:\n",
        "    return lst2\n",
        "  else:\n",
        "    return lst1"
      ]
    },
    {
      "cell_type": "markdown",
      "source": [
        "# demo"
      ],
      "metadata": {
        "id": "XW4mDh3a6t7z"
      }
    },
    {
      "cell_type": "code",
      "source": [
        "a = ['a','b','c']\n",
        "b = ['a','b','d']\n",
        "compare2list(a,b)"
      ],
      "metadata": {
        "colab": {
          "base_uri": "https://localhost:8080/"
        },
        "id": "L21L8sNm6ABc",
        "outputId": "a17050c7-99dc-4992-f788-03a7069dd1f8"
      },
      "execution_count": 18,
      "outputs": [
        {
          "output_type": "execute_result",
          "data": {
            "text/plain": [
              "['a', 'b', 'd']"
            ]
          },
          "metadata": {},
          "execution_count": 18
        }
      ]
    },
    {
      "cell_type": "code",
      "source": [
        "a = ['a','b','c']\n",
        "b = ['a','b','c']\n",
        "compare2list(a,b)"
      ],
      "metadata": {
        "colab": {
          "base_uri": "https://localhost:8080/"
        },
        "id": "HAUwsWty6G8C",
        "outputId": "2df93a0b-b959-414e-9544-955ef595439f"
      },
      "execution_count": 19,
      "outputs": [
        {
          "output_type": "execute_result",
          "data": {
            "text/plain": [
              "['a', 'b', 'c']"
            ]
          },
          "metadata": {},
          "execution_count": 19
        }
      ]
    },
    {
      "cell_type": "code",
      "source": [
        ""
      ],
      "metadata": {
        "id": "7nKjiyfh6JnB"
      },
      "execution_count": 19,
      "outputs": []
    }
  ]
}