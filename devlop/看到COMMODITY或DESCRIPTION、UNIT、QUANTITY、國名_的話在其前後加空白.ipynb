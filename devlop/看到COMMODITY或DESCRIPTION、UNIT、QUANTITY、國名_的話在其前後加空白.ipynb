{
  "nbformat": 4,
  "nbformat_minor": 0,
  "metadata": {
    "colab": {
      "name": "看到COMMODITY或DESCRIPTION、UNIT、QUANTITY、國名 的話在其前後加空白.ipynb",
      "provenance": [],
      "collapsed_sections": [],
      "authorship_tag": "ABX9TyNKlIKvRK3xibGT08gveh7S",
      "include_colab_link": true
    },
    "kernelspec": {
      "name": "python3",
      "display_name": "Python 3"
    },
    "language_info": {
      "name": "python"
    }
  },
  "cells": [
    {
      "cell_type": "markdown",
      "metadata": {
        "id": "view-in-github",
        "colab_type": "text"
      },
      "source": [
        "<a href=\"https://colab.research.google.com/github/skywalker0803r/Letter-of-Credit-Intelligent-Auxiliary-Semantic-Analysis-System/blob/main/devlop/%E7%9C%8B%E5%88%B0COMMODITY%E6%88%96DESCRIPTION%E3%80%81UNIT%E3%80%81QUANTITY%E3%80%81%E5%9C%8B%E5%90%8D_%E7%9A%84%E8%A9%B1%E5%9C%A8%E5%85%B6%E5%89%8D%E5%BE%8C%E5%8A%A0%E7%A9%BA%E7%99%BD.ipynb\" target=\"_parent\"><img src=\"https://colab.research.google.com/assets/colab-badge.svg\" alt=\"Open In Colab\"/></a>"
      ]
    },
    {
      "cell_type": "code",
      "execution_count": 104,
      "metadata": {
        "colab": {
          "base_uri": "https://localhost:8080/",
          "height": 35
        },
        "id": "sb32b8xsYeZu",
        "outputId": "c6fe554d-00be-4dc4-d45c-6aa13cafd63a"
      },
      "outputs": [
        {
          "output_type": "execute_result",
          "data": {
            "text/plain": [
              "'apple AFGHANISTAN banana'"
            ],
            "application/vnd.google.colaboratory.intrinsic+json": {
              "type": "string"
            }
          },
          "metadata": {},
          "execution_count": 104
        }
      ],
      "source": [
        "'''\n",
        "再幫我修一個細節 就是在對45A做前處理的時候，\n",
        "如果看到COMMODITY或DESCRIPTION、UNIT、QUANTITY、國名 的話在其前後加空白 \n",
        "(之後再把多重空白去除成單個)\n",
        "'''\n",
        "import pandas as pd\n",
        "國名列表 = pd.read_excel('/content/國名.xls',engine='xlrd')['國家代碼與地區對照表'].dropna().values.tolist()\n",
        "def preprocess_45A_sentence(x,國名列表=None):\n",
        "  x = str(x)\n",
        "  for i in 國名列表:\n",
        "    i = str(i).strip()\n",
        "    if i in x:\n",
        "      關鍵字起始 = x.index(i)\n",
        "      關鍵字結束 = x.index(i)+len(i)\n",
        "      前文 = x[:關鍵字起始]\n",
        "      後文 = x[關鍵字結束:]\n",
        "      關鍵字 = x[關鍵字起始:關鍵字結束]\n",
        "      output = 前文+' '+關鍵字+' '+後文\n",
        "      return output\n",
        "  return x\n",
        "x = 'appleAFGHANISTANbanana'\n",
        "preprocess_45A_sentence(x,國名列表=國名列表)\n"
      ]
    },
    {
      "cell_type": "code",
      "source": [
        ""
      ],
      "metadata": {
        "id": "mq_Yn5YTg1Ni"
      },
      "execution_count": 103,
      "outputs": []
    }
  ]
}