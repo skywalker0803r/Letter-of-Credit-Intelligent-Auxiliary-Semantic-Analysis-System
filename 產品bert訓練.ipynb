{
 "cells": [
  {
   "cell_type": "code",
   "execution_count": 1,
   "source": [
    "import pandas as pd\r\n",
    "import numpy as np\r\n",
    "from tqdm import tqdm_notebook as tqdm\r\n",
    "from torch.optim.optimizer import Optimizer\r\n",
    "import matplotlib.pyplot as plt\r\n",
    "from copy import deepcopy\r\n",
    "import numpy as np\r\n",
    "import random\r\n",
    "import torch\r\n",
    "import warnings \r\n",
    "warnings.filterwarnings('ignore')\r\n",
    "from pytorch_lightning import seed_everything\r\n",
    "import os\r\n",
    "import gc\r\n",
    "from transformers import pipeline\r\n",
    "import requests\r\n",
    "from transformers import DistilBertTokenizerFast\r\n",
    "from transformers import DistilBertForQuestionAnswering\r\n",
    "from transformers import Trainer, TrainingArguments\r\n",
    "import torch\r\n",
    "from torch.utils.data import DataLoader\r\n",
    "import matplotlib.pyplot as plt \r\n",
    "gc.collect()"
   ],
   "outputs": [
    {
     "output_type": "execute_result",
     "data": {
      "text/plain": [
       "0"
      ]
     },
     "metadata": {},
     "execution_count": 1
    }
   ],
   "metadata": {}
  },
  {
   "cell_type": "markdown",
   "source": [
    "# functions"
   ],
   "metadata": {}
  },
  {
   "cell_type": "code",
   "execution_count": 2,
   "source": [
    "def get_jaccard_sim(str1, str2): \r\n",
    "    a = set(str1.split()) \r\n",
    "    b = set(str2.split())\r\n",
    "    c = a.intersection(b)\r\n",
    "    return float(len(c)) / (len(a) + len(b) - len(c))\r\n",
    "\r\n",
    "def set_seed(seed = int):\r\n",
    "    '''Sets the seed of the entire notebook so results are the same every time we run.\r\n",
    "    This is for REPRODUCIBILITY.'''\r\n",
    "    np.random.seed(seed)\r\n",
    "    random_state = np.random.RandomState(seed)\r\n",
    "    random.seed(seed)\r\n",
    "    torch.manual_seed(seed)\r\n",
    "    torch.cuda.manual_seed(seed)\r\n",
    "    torch.backends.cudnn.deterministic = True\r\n",
    "    torch.backends.cudnn.benchmark = False\r\n",
    "    os.environ['PYTHONHASHSEED'] = str(seed)\r\n",
    "    seed_everything(seed)\r\n",
    "    return random_state\r\n",
    "random_state = set_seed(42)\r\n",
    "\r\n",
    "#MADGRAD \r\n",
    "exec(requests.get('https://raw.githubusercontent.com/facebookresearch/madgrad/main/madgrad/madgrad.py').text)"
   ],
   "outputs": [
    {
     "output_type": "stream",
     "name": "stderr",
     "text": [
      "Global seed set to 42\n"
     ]
    }
   ],
   "metadata": {}
  },
  {
   "cell_type": "markdown",
   "source": [
    "# load data and split data (train,val)"
   ],
   "metadata": {}
  },
  {
   "cell_type": "code",
   "execution_count": 3,
   "source": [
    "\r\n",
    "from sklearn.model_selection import train_test_split\r\n",
    "df = pd.read_csv('../data/preprocess_for_SQUAD_產品.csv',index_col=0)[['string_X_train','Y_label','string_Y_1','string_Y_2']].dropna(axis=0)\r\n",
    "print(df.shape)\r\n",
    "train_df, val_df = train_test_split(df,test_size=0.2,random_state=random_state)\r\n",
    "display(train_df.head(3)),display(val_df.head(3))"
   ],
   "outputs": [
    {
     "output_type": "stream",
     "name": "stdout",
     "text": [
      "(6114, 4)\n"
     ]
    },
    {
     "output_type": "display_data",
     "data": {
      "text/html": [
       "<div>\n",
       "<style scoped>\n",
       "    .dataframe tbody tr th:only-of-type {\n",
       "        vertical-align: middle;\n",
       "    }\n",
       "\n",
       "    .dataframe tbody tr th {\n",
       "        vertical-align: top;\n",
       "    }\n",
       "\n",
       "    .dataframe thead th {\n",
       "        text-align: right;\n",
       "    }\n",
       "</style>\n",
       "<table border=\"1\" class=\"dataframe\">\n",
       "  <thead>\n",
       "    <tr style=\"text-align: right;\">\n",
       "      <th></th>\n",
       "      <th>string_X_train</th>\n",
       "      <th>Y_label</th>\n",
       "      <th>string_Y_1</th>\n",
       "      <th>string_Y_2</th>\n",
       "    </tr>\n",
       "  </thead>\n",
       "  <tbody>\n",
       "    <tr>\n",
       "      <th>7153</th>\n",
       "      <td>CIF HAIPHONG VIETNAMABS RESIN GRADE NO ABSAG 1...</td>\n",
       "      <td>3K</td>\n",
       "      <td>83</td>\n",
       "      <td>85</td>\n",
       "    </tr>\n",
       "    <tr>\n",
       "      <th>4861</th>\n",
       "      <td>1 CONTRACT NO 21RTS030CARBON FIBER TC3535R48K ...</td>\n",
       "      <td>3K</td>\n",
       "      <td>496</td>\n",
       "      <td>498</td>\n",
       "    </tr>\n",
       "    <tr>\n",
       "      <th>2170</th>\n",
       "      <td>1 COMMODITY ETHYLENEPROPYLENE COPOLYMERS PP CO...</td>\n",
       "      <td>YUNGSOX 3015</td>\n",
       "      <td>54</td>\n",
       "      <td>66</td>\n",
       "    </tr>\n",
       "  </tbody>\n",
       "</table>\n",
       "</div>"
      ],
      "text/plain": [
       "                                         string_X_train       Y_label  \\\n",
       "7153  CIF HAIPHONG VIETNAMABS RESIN GRADE NO ABSAG 1...            3K   \n",
       "4861  1 CONTRACT NO 21RTS030CARBON FIBER TC3535R48K ...            3K   \n",
       "2170  1 COMMODITY ETHYLENEPROPYLENE COPOLYMERS PP CO...  YUNGSOX 3015   \n",
       "\n",
       "      string_Y_1  string_Y_2  \n",
       "7153          83          85  \n",
       "4861         496         498  \n",
       "2170          54          66  "
      ]
     },
     "metadata": {}
    },
    {
     "output_type": "display_data",
     "data": {
      "text/html": [
       "<div>\n",
       "<style scoped>\n",
       "    .dataframe tbody tr th:only-of-type {\n",
       "        vertical-align: middle;\n",
       "    }\n",
       "\n",
       "    .dataframe tbody tr th {\n",
       "        vertical-align: top;\n",
       "    }\n",
       "\n",
       "    .dataframe thead th {\n",
       "        text-align: right;\n",
       "    }\n",
       "</style>\n",
       "<table border=\"1\" class=\"dataframe\">\n",
       "  <thead>\n",
       "    <tr style=\"text-align: right;\">\n",
       "      <th></th>\n",
       "      <th>string_X_train</th>\n",
       "      <th>Y_label</th>\n",
       "      <th>string_Y_1</th>\n",
       "      <th>string_Y_2</th>\n",
       "    </tr>\n",
       "  </thead>\n",
       "  <tbody>\n",
       "    <tr>\n",
       "      <th>19271</th>\n",
       "      <td>DESCRIPTION                   GRADE     QUANTI...</td>\n",
       "      <td>GRADE</td>\n",
       "      <td>30</td>\n",
       "      <td>35</td>\n",
       "    </tr>\n",
       "    <tr>\n",
       "      <th>7617</th>\n",
       "      <td>COVERING 100 PERCENT OF INVOICE VALUE OF GOODS...</td>\n",
       "      <td>TAISOX 9003</td>\n",
       "      <td>139</td>\n",
       "      <td>150</td>\n",
       "    </tr>\n",
       "    <tr>\n",
       "      <th>5812</th>\n",
       "      <td>HS CODE 7410211000 COPPER CLAD LAMINATE QTY147...</td>\n",
       "      <td>GLASS EPOXY PREPREG</td>\n",
       "      <td>95</td>\n",
       "      <td>114</td>\n",
       "    </tr>\n",
       "  </tbody>\n",
       "</table>\n",
       "</div>"
      ],
      "text/plain": [
       "                                          string_X_train              Y_label  \\\n",
       "19271  DESCRIPTION                   GRADE     QUANTI...                GRADE   \n",
       "7617   COVERING 100 PERCENT OF INVOICE VALUE OF GOODS...          TAISOX 9003   \n",
       "5812   HS CODE 7410211000 COPPER CLAD LAMINATE QTY147...  GLASS EPOXY PREPREG   \n",
       "\n",
       "       string_Y_1  string_Y_2  \n",
       "19271          30          35  \n",
       "7617          139         150  \n",
       "5812           95         114  "
      ]
     },
     "metadata": {}
    },
    {
     "output_type": "execute_result",
     "data": {
      "text/plain": [
       "(None, None)"
      ]
     },
     "metadata": {},
     "execution_count": 3
    }
   ],
   "metadata": {}
  },
  {
   "cell_type": "markdown",
   "source": [
    "# load model and tokenizer"
   ],
   "metadata": {}
  },
  {
   "cell_type": "code",
   "execution_count": 4,
   "source": [
    "tokenizer = DistilBertTokenizerFast.from_pretrained('distilbert-base-uncased')\r\n",
    "model = DistilBertForQuestionAnswering.from_pretrained(\"distilbert-base-uncased\")"
   ],
   "outputs": [
    {
     "output_type": "stream",
     "name": "stderr",
     "text": [
      "Some weights of the model checkpoint at distilbert-base-uncased were not used when initializing DistilBertForQuestionAnswering: ['vocab_transform.bias', 'vocab_transform.weight', 'vocab_layer_norm.bias', 'vocab_projector.weight', 'vocab_layer_norm.weight', 'vocab_projector.bias']\n",
      "- This IS expected if you are initializing DistilBertForQuestionAnswering from the checkpoint of a model trained on another task or with another architecture (e.g. initializing a BertForSequenceClassification model from a BertForPreTraining model).\n",
      "- This IS NOT expected if you are initializing DistilBertForQuestionAnswering from the checkpoint of a model that you expect to be exactly identical (initializing a BertForSequenceClassification model from a BertForSequenceClassification model).\n",
      "Some weights of DistilBertForQuestionAnswering were not initialized from the model checkpoint at distilbert-base-uncased and are newly initialized: ['qa_outputs.weight', 'qa_outputs.bias']\n",
      "You should probably TRAIN this model on a down-stream task to be able to use it for predictions and inference.\n"
     ]
    }
   ],
   "metadata": {}
  },
  {
   "cell_type": "markdown",
   "source": [
    "# Data preprocessing"
   ],
   "metadata": {}
  },
  {
   "cell_type": "code",
   "execution_count": 5,
   "source": [
    "def preprocessing(df):\r\n",
    "    contexts = df['string_X_train'].values.tolist()\r\n",
    "    questions = [ 'What is the product name ?' for i in range(len(df))]\r\n",
    "    answers = []\r\n",
    "    for idx in df.index:\r\n",
    "        answers.append({\r\n",
    "            'text':df.loc[idx,'Y_label'],\r\n",
    "            'answer_start':df.loc[idx,'string_Y_1'],\r\n",
    "            'answer_end':df.loc[idx,'string_Y_2'],\r\n",
    "            })\r\n",
    "    return contexts ,questions ,answers"
   ],
   "outputs": [],
   "metadata": {}
  },
  {
   "cell_type": "code",
   "execution_count": 6,
   "source": [
    "def add_token_positions(encodings, answers):\r\n",
    "    start_positions = []\r\n",
    "    end_positions = []\r\n",
    "    for i in range(len(answers)):\r\n",
    "        start_positions.append(encodings.char_to_token(i, answers[i]['answer_start']))\r\n",
    "        end_positions.append(encodings.char_to_token(i, answers[i]['answer_end'] - 1))\r\n",
    "\r\n",
    "        # if start position is None, the answer passage has been truncated\r\n",
    "        if start_positions[-1] is None:\r\n",
    "            start_positions[-1] = tokenizer.model_max_length\r\n",
    "        if end_positions[-1] is None:\r\n",
    "            end_positions[-1] = tokenizer.model_max_length\r\n",
    "\r\n",
    "    encodings.update({'start_positions': start_positions, 'end_positions': end_positions})\r\n",
    "    return encodings"
   ],
   "outputs": [],
   "metadata": {}
  },
  {
   "cell_type": "code",
   "execution_count": 7,
   "source": [
    "class SquadDataset(torch.utils.data.Dataset):\r\n",
    "    def __init__(self, encodings):\r\n",
    "        self.encodings = encodings\r\n",
    "\r\n",
    "    def __getitem__(self, idx):\r\n",
    "        return {key: torch.tensor(val[idx]) for key, val in self.encodings.items()}\r\n",
    "\r\n",
    "    def __len__(self):\r\n",
    "        return len(self.encodings.input_ids)"
   ],
   "outputs": [],
   "metadata": {}
  },
  {
   "cell_type": "code",
   "execution_count": 8,
   "source": [
    "def df2Dataloader(df):\r\n",
    "    contexts ,questions ,answers = preprocessing(df)\r\n",
    "    encodings = tokenizer(contexts, questions, truncation=True, padding=True)\r\n",
    "    encodings = add_token_positions(encodings, answers)\r\n",
    "    dataset = SquadDataset(encodings)\r\n",
    "    return DataLoader(dataset,batch_size=8)"
   ],
   "outputs": [],
   "metadata": {}
  },
  {
   "cell_type": "code",
   "execution_count": 9,
   "source": [
    "train_loader = df2Dataloader(train_df)\r\n",
    "val_loader = df2Dataloader(val_df)"
   ],
   "outputs": [],
   "metadata": {}
  },
  {
   "cell_type": "markdown",
   "source": [
    "# train model"
   ],
   "metadata": {}
  },
  {
   "cell_type": "code",
   "execution_count": 10,
   "source": [
    "device = torch.device('cuda') if torch.cuda.is_available() else torch.device('cpu')\r\n",
    "model.to(device)\r\n",
    "model.train()\r\n",
    "optimizer = MADGRAD(model.parameters() ,lr = 5e-5)"
   ],
   "outputs": [],
   "metadata": {}
  },
  {
   "cell_type": "code",
   "execution_count": 11,
   "source": [
    "def step(model,batch,optimizer,device,mode='train'):\r\n",
    "    model = model.to(device)\r\n",
    "    # change mode\r\n",
    "    if mode == 'train':\r\n",
    "        model.train()\r\n",
    "    if mode == 'val':\r\n",
    "        model.eval()\r\n",
    "    # forward pass\r\n",
    "    input_ids = batch['input_ids'].to(device)\r\n",
    "    attention_mask = batch['attention_mask'].to(device)\r\n",
    "    start_positions = batch['start_positions'].to(device)\r\n",
    "    end_positions = batch['end_positions'].to(device)\r\n",
    "    outputs = model(input_ids, attention_mask=attention_mask, start_positions=start_positions, end_positions=end_positions)\r\n",
    "    loss = outputs[0]\r\n",
    "    # update model if mode == train\r\n",
    "    if mode == 'train': \r\n",
    "        loss.backward()\r\n",
    "        optimizer.step()\r\n",
    "        optimizer.zero_grad()\r\n",
    "    return loss.item()"
   ],
   "outputs": [],
   "metadata": {}
  },
  {
   "cell_type": "code",
   "execution_count": 12,
   "source": [
    "def train_loop(model,train_loader,val_loader,optimizer,max_epochs=5):\r\n",
    "    history = {'train_loss':[],'val_loss':[]}\r\n",
    "    best_loss = np.inf\r\n",
    "    best_model = None\r\n",
    "    for epoch in tqdm(range(max_epochs)):        \r\n",
    "        epoch_train_loss = 0.0\r\n",
    "        epoch_val_loss = 0.0\r\n",
    "        for i,batch in enumerate(tqdm(train_loader)):\r\n",
    "            epoch_train_loss += step(model,batch,optimizer,device,mode='train')\r\n",
    "        for j,batch in enumerate(tqdm(val_loader)):\r\n",
    "            epoch_val_loss += step(model,batch,optimizer,device,mode='val')\r\n",
    "        history['train_loss'].append(epoch_train_loss/i)\r\n",
    "        history['val_loss'].append(epoch_val_loss/j)\r\n",
    "        print(f'epoch:{epoch} train_loss:{epoch_train_loss/i} val_loss:{epoch_val_loss/j}')\r\n",
    "        if history['val_loss'][-1] <= best_loss: \r\n",
    "            best_model = deepcopy(model.eval())\r\n",
    "            best_loss = history['val_loss'][-1]\r\n",
    "            print(f'save best_model now_val_best_loss is:{best_loss}')\r\n",
    "    return best_model.eval() ,history"
   ],
   "outputs": [],
   "metadata": {}
  },
  {
   "cell_type": "code",
   "execution_count": 13,
   "source": [
    "best_model ,history = train_loop(model,train_loader,val_loader,optimizer,max_epochs=3)"
   ],
   "outputs": [
    {
     "output_type": "display_data",
     "data": {
      "application/vnd.jupyter.widget-view+json": {
       "version_major": 2,
       "version_minor": 0,
       "model_id": "ac10c4bfb3b24aaa91c3a94a8afbb5db"
      },
      "text/plain": [
       "HBox(children=(HTML(value=''), FloatProgress(value=0.0, max=3.0), HTML(value='')))"
      ]
     },
     "metadata": {}
    },
    {
     "output_type": "display_data",
     "data": {
      "application/vnd.jupyter.widget-view+json": {
       "version_major": 2,
       "version_minor": 0,
       "model_id": "6eeb30f4a5e242368b5a042516172456"
      },
      "text/plain": [
       "HBox(children=(HTML(value=''), FloatProgress(value=0.0, max=612.0), HTML(value='')))"
      ]
     },
     "metadata": {}
    },
    {
     "output_type": "stream",
     "name": "stdout",
     "text": [
      "\n"
     ]
    },
    {
     "output_type": "display_data",
     "data": {
      "application/vnd.jupyter.widget-view+json": {
       "version_major": 2,
       "version_minor": 0,
       "model_id": "711fb420361440a3b00d3e0be02e42e8"
      },
      "text/plain": [
       "HBox(children=(HTML(value=''), FloatProgress(value=0.0, max=153.0), HTML(value='')))"
      ]
     },
     "metadata": {}
    },
    {
     "output_type": "stream",
     "name": "stdout",
     "text": [
      "\n",
      "epoch:0 train_loss:0.46105080337679766 val_loss:0.17683198537767902\n",
      "save best_model now_val_best_loss is:0.17683198537767902\n"
     ]
    },
    {
     "output_type": "display_data",
     "data": {
      "application/vnd.jupyter.widget-view+json": {
       "version_major": 2,
       "version_minor": 0,
       "model_id": "972dd23fb6af487596b58ac3bd256499"
      },
      "text/plain": [
       "HBox(children=(HTML(value=''), FloatProgress(value=0.0, max=612.0), HTML(value='')))"
      ]
     },
     "metadata": {}
    },
    {
     "output_type": "stream",
     "name": "stdout",
     "text": [
      "\n"
     ]
    },
    {
     "output_type": "display_data",
     "data": {
      "application/vnd.jupyter.widget-view+json": {
       "version_major": 2,
       "version_minor": 0,
       "model_id": "791c68fe43b247459ecf26ef17107ec2"
      },
      "text/plain": [
       "HBox(children=(HTML(value=''), FloatProgress(value=0.0, max=153.0), HTML(value='')))"
      ]
     },
     "metadata": {}
    },
    {
     "output_type": "stream",
     "name": "stdout",
     "text": [
      "\n",
      "epoch:1 train_loss:0.1318614236313154 val_loss:0.07292718547976045\n",
      "save best_model now_val_best_loss is:0.07292718547976045\n"
     ]
    },
    {
     "output_type": "display_data",
     "data": {
      "application/vnd.jupyter.widget-view+json": {
       "version_major": 2,
       "version_minor": 0,
       "model_id": "393e341e934f411c98ef9c503b08da19"
      },
      "text/plain": [
       "HBox(children=(HTML(value=''), FloatProgress(value=0.0, max=612.0), HTML(value='')))"
      ]
     },
     "metadata": {}
    },
    {
     "output_type": "stream",
     "name": "stdout",
     "text": [
      "\n"
     ]
    },
    {
     "output_type": "display_data",
     "data": {
      "application/vnd.jupyter.widget-view+json": {
       "version_major": 2,
       "version_minor": 0,
       "model_id": "e15f02307268494bae80130deaac5adc"
      },
      "text/plain": [
       "HBox(children=(HTML(value=''), FloatProgress(value=0.0, max=153.0), HTML(value='')))"
      ]
     },
     "metadata": {}
    },
    {
     "output_type": "stream",
     "name": "stdout",
     "text": [
      "\n",
      "epoch:2 train_loss:0.09783935359770951 val_loss:0.28793223881616303\n",
      "\n"
     ]
    }
   ],
   "metadata": {}
  },
  {
   "cell_type": "markdown",
   "source": [
    "# save model"
   ],
   "metadata": {}
  },
  {
   "cell_type": "code",
   "execution_count": 14,
   "source": [
    "import matplotlib.pyplot as plt\r\n",
    "plt.plot(history['train_loss'],label='train')\r\n",
    "plt.plot(history['val_loss'],label='test')\r\n",
    "plt.legend()\r\n",
    "plt.show()"
   ],
   "outputs": [
    {
     "output_type": "display_data",
     "data": {
      "image/png": "[encoded data removed]",
      "text/plain": [
       "<Figure size 432x288 with 1 Axes>"
      ]
     },
     "metadata": {
      "needs_background": "light"
     }
    }
   ],
   "metadata": {}
  },
  {
   "cell_type": "code",
   "execution_count": 15,
   "source": [
    "model_path = '../models/Product_Data_SQuAD_model_product.pt'\r\n",
    "torch.save(best_model.state_dict(),model_path)"
   ],
   "outputs": [],
   "metadata": {}
  },
  {
   "cell_type": "markdown",
   "source": [
    "# load trained model"
   ],
   "metadata": {}
  },
  {
   "cell_type": "code",
   "execution_count": 16,
   "source": [
    "model = DistilBertForQuestionAnswering.from_pretrained(\"distilbert-base-uncased\")\r\n",
    "model.load_state_dict(torch.load(model_path))\r\n",
    "model.eval()\r\n",
    "nlp = pipeline('question-answering', model=model.to('cpu'), tokenizer=tokenizer)"
   ],
   "outputs": [
    {
     "output_type": "stream",
     "name": "stderr",
     "text": [
      "Some weights of the model checkpoint at distilbert-base-uncased were not used when initializing DistilBertForQuestionAnswering: ['vocab_transform.bias', 'vocab_transform.weight', 'vocab_layer_norm.bias', 'vocab_projector.weight', 'vocab_layer_norm.weight', 'vocab_projector.bias']\n",
      "- This IS expected if you are initializing DistilBertForQuestionAnswering from the checkpoint of a model trained on another task or with another architecture (e.g. initializing a BertForSequenceClassification model from a BertForPreTraining model).\n",
      "- This IS NOT expected if you are initializing DistilBertForQuestionAnswering from the checkpoint of a model that you expect to be exactly identical (initializing a BertForSequenceClassification model from a BertForSequenceClassification model).\n",
      "Some weights of DistilBertForQuestionAnswering were not initialized from the model checkpoint at distilbert-base-uncased and are newly initialized: ['qa_outputs.weight', 'qa_outputs.bias']\n",
      "You should probably TRAIN this model on a down-stream task to be able to use it for predictions and inference.\n"
     ]
    }
   ],
   "metadata": {}
  },
  {
   "cell_type": "markdown",
   "source": [
    "# test"
   ],
   "metadata": {}
  },
  {
   "cell_type": "code",
   "execution_count": 17,
   "source": [
    "def test_model(nlp,df):\r\n",
    "    table = pd.DataFrame()\r\n",
    "    for i in tqdm(df.index):\r\n",
    "        sample = df.loc[[i]]\r\n",
    "        string_X_train = sample['string_X_train'].values[0]\r\n",
    "        Y_label = sample['Y_label'].values[0]  \r\n",
    "        QA_input = {\r\n",
    "            'question': 'What is the product name?',\r\n",
    "            'context': string_X_train\r\n",
    "        }\r\n",
    "        res = nlp(QA_input)\r\n",
    "        predict = QA_input['context'][res['start']:res['end']]\r\n",
    "        row = pd.DataFrame({'Y_label':Y_label,'predict':predict},index=[i])\r\n",
    "        if Y_label == predict:\r\n",
    "            row['是否全對'] = 'Yes'\r\n",
    "        else:\r\n",
    "            row['是否全對'] = 'No'\r\n",
    "        table = table.append(row)\r\n",
    "    return table"
   ],
   "outputs": [],
   "metadata": {}
  },
  {
   "cell_type": "code",
   "execution_count": 18,
   "source": [
    "table = test_model(nlp,val_df)\r\n",
    "display(table)"
   ],
   "outputs": [
    {
     "output_type": "display_data",
     "data": {
      "application/vnd.jupyter.widget-view+json": {
       "version_major": 2,
       "version_minor": 0,
       "model_id": "48f80be0727348cc80a62d8f23a98930"
      },
      "text/plain": [
       "HBox(children=(HTML(value=''), FloatProgress(value=0.0, max=1223.0), HTML(value='')))"
      ]
     },
     "metadata": {}
    },
    {
     "output_type": "stream",
     "name": "stdout",
     "text": [
      "\n"
     ]
    },
    {
     "output_type": "display_data",
     "data": {
      "text/html": [
       "<div>\n",
       "<style scoped>\n",
       "    .dataframe tbody tr th:only-of-type {\n",
       "        vertical-align: middle;\n",
       "    }\n",
       "\n",
       "    .dataframe tbody tr th {\n",
       "        vertical-align: top;\n",
       "    }\n",
       "\n",
       "    .dataframe thead th {\n",
       "        text-align: right;\n",
       "    }\n",
       "</style>\n",
       "<table border=\"1\" class=\"dataframe\">\n",
       "  <thead>\n",
       "    <tr style=\"text-align: right;\">\n",
       "      <th></th>\n",
       "      <th>Y_label</th>\n",
       "      <th>predict</th>\n",
       "      <th>是否全對</th>\n",
       "    </tr>\n",
       "  </thead>\n",
       "  <tbody>\n",
       "    <tr>\n",
       "      <th>19271</th>\n",
       "      <td>GRADE</td>\n",
       "      <td>GRADE</td>\n",
       "      <td>Yes</td>\n",
       "    </tr>\n",
       "    <tr>\n",
       "      <th>7617</th>\n",
       "      <td>TAISOX 9003</td>\n",
       "      <td>TAISOX 8050</td>\n",
       "      <td>No</td>\n",
       "    </tr>\n",
       "    <tr>\n",
       "      <th>5812</th>\n",
       "      <td>GLASS EPOXY PREPREG</td>\n",
       "      <td>GLASS EPOXY PREPREG</td>\n",
       "      <td>Yes</td>\n",
       "    </tr>\n",
       "    <tr>\n",
       "      <th>4729</th>\n",
       "      <td>GRADE</td>\n",
       "      <td>GRADE</td>\n",
       "      <td>Yes</td>\n",
       "    </tr>\n",
       "    <tr>\n",
       "      <th>20655</th>\n",
       "      <td>GRADE</td>\n",
       "      <td>GRADE</td>\n",
       "      <td>Yes</td>\n",
       "    </tr>\n",
       "    <tr>\n",
       "      <th>...</th>\n",
       "      <td>...</td>\n",
       "      <td>...</td>\n",
       "      <td>...</td>\n",
       "    </tr>\n",
       "    <tr>\n",
       "      <th>4641</th>\n",
       "      <td>GLASS EPOXY PREPREG</td>\n",
       "      <td>GLASS EPOXY PREPREG</td>\n",
       "      <td>Yes</td>\n",
       "    </tr>\n",
       "    <tr>\n",
       "      <th>5745</th>\n",
       "      <td>GRADE</td>\n",
       "      <td>GRADE</td>\n",
       "      <td>Yes</td>\n",
       "    </tr>\n",
       "    <tr>\n",
       "      <th>15746</th>\n",
       "      <td>YARN</td>\n",
       "      <td>YARN</td>\n",
       "      <td>Yes</td>\n",
       "    </tr>\n",
       "    <tr>\n",
       "      <th>4775</th>\n",
       "      <td>GLASS EPOXY PREPREG</td>\n",
       "      <td>GLASS EPOXY PREPREG</td>\n",
       "      <td>Yes</td>\n",
       "    </tr>\n",
       "    <tr>\n",
       "      <th>19817</th>\n",
       "      <td>48K</td>\n",
       "      <td>48K</td>\n",
       "      <td>Yes</td>\n",
       "    </tr>\n",
       "  </tbody>\n",
       "</table>\n",
       "<p>1223 rows × 3 columns</p>\n",
       "</div>"
      ],
      "text/plain": [
       "                   Y_label              predict 是否全對\n",
       "19271                GRADE                GRADE  Yes\n",
       "7617           TAISOX 9003          TAISOX 8050   No\n",
       "5812   GLASS EPOXY PREPREG  GLASS EPOXY PREPREG  Yes\n",
       "4729                 GRADE                GRADE  Yes\n",
       "20655                GRADE                GRADE  Yes\n",
       "...                    ...                  ...  ...\n",
       "4641   GLASS EPOXY PREPREG  GLASS EPOXY PREPREG  Yes\n",
       "5745                 GRADE                GRADE  Yes\n",
       "15746                 YARN                 YARN  Yes\n",
       "4775   GLASS EPOXY PREPREG  GLASS EPOXY PREPREG  Yes\n",
       "19817                  48K                  48K  Yes\n",
       "\n",
       "[1223 rows x 3 columns]"
      ]
     },
     "metadata": {}
    }
   ],
   "metadata": {}
  },
  {
   "cell_type": "code",
   "execution_count": 19,
   "source": [
    "display(table[table['是否全對']=='Yes'])"
   ],
   "outputs": [
    {
     "output_type": "display_data",
     "data": {
      "text/html": [
       "<div>\n",
       "<style scoped>\n",
       "    .dataframe tbody tr th:only-of-type {\n",
       "        vertical-align: middle;\n",
       "    }\n",
       "\n",
       "    .dataframe tbody tr th {\n",
       "        vertical-align: top;\n",
       "    }\n",
       "\n",
       "    .dataframe thead th {\n",
       "        text-align: right;\n",
       "    }\n",
       "</style>\n",
       "<table border=\"1\" class=\"dataframe\">\n",
       "  <thead>\n",
       "    <tr style=\"text-align: right;\">\n",
       "      <th></th>\n",
       "      <th>Y_label</th>\n",
       "      <th>predict</th>\n",
       "      <th>是否全對</th>\n",
       "    </tr>\n",
       "  </thead>\n",
       "  <tbody>\n",
       "    <tr>\n",
       "      <th>19271</th>\n",
       "      <td>GRADE</td>\n",
       "      <td>GRADE</td>\n",
       "      <td>Yes</td>\n",
       "    </tr>\n",
       "    <tr>\n",
       "      <th>5812</th>\n",
       "      <td>GLASS EPOXY PREPREG</td>\n",
       "      <td>GLASS EPOXY PREPREG</td>\n",
       "      <td>Yes</td>\n",
       "    </tr>\n",
       "    <tr>\n",
       "      <th>4729</th>\n",
       "      <td>GRADE</td>\n",
       "      <td>GRADE</td>\n",
       "      <td>Yes</td>\n",
       "    </tr>\n",
       "    <tr>\n",
       "      <th>20655</th>\n",
       "      <td>GRADE</td>\n",
       "      <td>GRADE</td>\n",
       "      <td>Yes</td>\n",
       "    </tr>\n",
       "    <tr>\n",
       "      <th>3285</th>\n",
       "      <td>ACID</td>\n",
       "      <td>ACID</td>\n",
       "      <td>Yes</td>\n",
       "    </tr>\n",
       "    <tr>\n",
       "      <th>...</th>\n",
       "      <td>...</td>\n",
       "      <td>...</td>\n",
       "      <td>...</td>\n",
       "    </tr>\n",
       "    <tr>\n",
       "      <th>4641</th>\n",
       "      <td>GLASS EPOXY PREPREG</td>\n",
       "      <td>GLASS EPOXY PREPREG</td>\n",
       "      <td>Yes</td>\n",
       "    </tr>\n",
       "    <tr>\n",
       "      <th>5745</th>\n",
       "      <td>GRADE</td>\n",
       "      <td>GRADE</td>\n",
       "      <td>Yes</td>\n",
       "    </tr>\n",
       "    <tr>\n",
       "      <th>15746</th>\n",
       "      <td>YARN</td>\n",
       "      <td>YARN</td>\n",
       "      <td>Yes</td>\n",
       "    </tr>\n",
       "    <tr>\n",
       "      <th>4775</th>\n",
       "      <td>GLASS EPOXY PREPREG</td>\n",
       "      <td>GLASS EPOXY PREPREG</td>\n",
       "      <td>Yes</td>\n",
       "    </tr>\n",
       "    <tr>\n",
       "      <th>19817</th>\n",
       "      <td>48K</td>\n",
       "      <td>48K</td>\n",
       "      <td>Yes</td>\n",
       "    </tr>\n",
       "  </tbody>\n",
       "</table>\n",
       "<p>1121 rows × 3 columns</p>\n",
       "</div>"
      ],
      "text/plain": [
       "                   Y_label              predict 是否全對\n",
       "19271                GRADE                GRADE  Yes\n",
       "5812   GLASS EPOXY PREPREG  GLASS EPOXY PREPREG  Yes\n",
       "4729                 GRADE                GRADE  Yes\n",
       "20655                GRADE                GRADE  Yes\n",
       "3285                  ACID                 ACID  Yes\n",
       "...                    ...                  ...  ...\n",
       "4641   GLASS EPOXY PREPREG  GLASS EPOXY PREPREG  Yes\n",
       "5745                 GRADE                GRADE  Yes\n",
       "15746                 YARN                 YARN  Yes\n",
       "4775   GLASS EPOXY PREPREG  GLASS EPOXY PREPREG  Yes\n",
       "19817                  48K                  48K  Yes\n",
       "\n",
       "[1121 rows x 3 columns]"
      ]
     },
     "metadata": {}
    }
   ],
   "metadata": {}
  },
  {
   "cell_type": "code",
   "execution_count": 20,
   "source": [
    "display(table[table['是否全對']=='No'])"
   ],
   "outputs": [
    {
     "output_type": "display_data",
     "data": {
      "text/html": [
       "<div>\n",
       "<style scoped>\n",
       "    .dataframe tbody tr th:only-of-type {\n",
       "        vertical-align: middle;\n",
       "    }\n",
       "\n",
       "    .dataframe tbody tr th {\n",
       "        vertical-align: top;\n",
       "    }\n",
       "\n",
       "    .dataframe thead th {\n",
       "        text-align: right;\n",
       "    }\n",
       "</style>\n",
       "<table border=\"1\" class=\"dataframe\">\n",
       "  <thead>\n",
       "    <tr style=\"text-align: right;\">\n",
       "      <th></th>\n",
       "      <th>Y_label</th>\n",
       "      <th>predict</th>\n",
       "      <th>是否全對</th>\n",
       "    </tr>\n",
       "  </thead>\n",
       "  <tbody>\n",
       "    <tr>\n",
       "      <th>7617</th>\n",
       "      <td>TAISOX 9003</td>\n",
       "      <td>TAISOX 8050</td>\n",
       "      <td>No</td>\n",
       "    </tr>\n",
       "    <tr>\n",
       "      <th>8232</th>\n",
       "      <td>FM130</td>\n",
       "      <td>POM FORMOCON</td>\n",
       "      <td>No</td>\n",
       "    </tr>\n",
       "    <tr>\n",
       "      <th>5430</th>\n",
       "      <td>AG12A0</td>\n",
       "      <td>AG15A0</td>\n",
       "      <td>No</td>\n",
       "    </tr>\n",
       "    <tr>\n",
       "      <th>3981</th>\n",
       "      <td>RELEASE FILM</td>\n",
       "      <td>FILM</td>\n",
       "      <td>No</td>\n",
       "    </tr>\n",
       "    <tr>\n",
       "      <th>3853</th>\n",
       "      <td>AG10NP</td>\n",
       "      <td>AG15A1H ABS ABS RESIN</td>\n",
       "      <td>No</td>\n",
       "    </tr>\n",
       "    <tr>\n",
       "      <th>...</th>\n",
       "      <td>...</td>\n",
       "      <td>...</td>\n",
       "      <td>...</td>\n",
       "    </tr>\n",
       "    <tr>\n",
       "      <th>20641</th>\n",
       "      <td>TAISOX 7470M</td>\n",
       "      <td>TAISOX 7350M</td>\n",
       "      <td>No</td>\n",
       "    </tr>\n",
       "    <tr>\n",
       "      <th>171</th>\n",
       "      <td>BASE OIL 500N</td>\n",
       "      <td>BASE OIL 150N</td>\n",
       "      <td>No</td>\n",
       "    </tr>\n",
       "    <tr>\n",
       "      <th>2032</th>\n",
       "      <td>AF3535</td>\n",
       "      <td>PHONG</td>\n",
       "      <td>No</td>\n",
       "    </tr>\n",
       "    <tr>\n",
       "      <th>4211</th>\n",
       "      <td>TAISOX 9003</td>\n",
       "      <td>TAISOX 8010</td>\n",
       "      <td>No</td>\n",
       "    </tr>\n",
       "    <tr>\n",
       "      <th>15527</th>\n",
       "      <td>WHITE OIL F550N</td>\n",
       "      <td>WHITE OIL F380N</td>\n",
       "      <td>No</td>\n",
       "    </tr>\n",
       "  </tbody>\n",
       "</table>\n",
       "<p>102 rows × 3 columns</p>\n",
       "</div>"
      ],
      "text/plain": [
       "               Y_label                predict 是否全對\n",
       "7617       TAISOX 9003            TAISOX 8050   No\n",
       "8232             FM130           POM FORMOCON   No\n",
       "5430            AG12A0                 AG15A0   No\n",
       "3981      RELEASE FILM                   FILM   No\n",
       "3853            AG10NP  AG15A1H ABS ABS RESIN   No\n",
       "...                ...                    ...  ...\n",
       "20641     TAISOX 7470M           TAISOX 7350M   No\n",
       "171      BASE OIL 500N          BASE OIL 150N   No\n",
       "2032            AF3535                  PHONG   No\n",
       "4211       TAISOX 9003            TAISOX 8010   No\n",
       "15527  WHITE OIL F550N        WHITE OIL F380N   No\n",
       "\n",
       "[102 rows x 3 columns]"
      ]
     },
     "metadata": {}
    }
   ],
   "metadata": {}
  },
  {
   "cell_type": "markdown",
   "source": [
    "# claculate acc and jaccard"
   ],
   "metadata": {}
  },
  {
   "cell_type": "code",
   "execution_count": 21,
   "source": [
    "def get_acc(df,t=1):\r\n",
    "    correct = []\r\n",
    "    correct_label = []\r\n",
    "    for i in df.index:\r\n",
    "        jac = get_jaccard_sim(df.loc[i,'Y_label'],df.loc[i,'predict'])\r\n",
    "        if jac >= t:\r\n",
    "            correct.append('yes')\r\n",
    "        else:\r\n",
    "            correct.append('no')\r\n",
    "    a = pd.Series(correct)\r\n",
    "    return a.value_counts()['yes']/len(a)"
   ],
   "outputs": [],
   "metadata": {}
  },
  {
   "cell_type": "code",
   "execution_count": 22,
   "source": [
    "print('jaccard_avg_score:',np.mean([ get_jaccard_sim(table['Y_label'].loc[i],table['predict'].loc[i]) for i in table.index]))\r\n",
    "print('acc:',get_acc(table,1))\r\n",
    "print('放水acc:',get_acc(table,0.75))\r\n",
    "print('放水acc:',get_acc(table,0.5))\r\n",
    "print('放水acc:',get_acc(table,0.25))"
   ],
   "outputs": [
    {
     "output_type": "stream",
     "name": "stdout",
     "text": [
      "jaccard_avg_score: 0.9410738620877623\n",
      "acc: 0.9215044971381848\n",
      "放水acc: 0.9255928045789044\n",
      "放水acc: 0.9452166802943581\n",
      "放水acc: 0.9599345870809485\n"
     ]
    }
   ],
   "metadata": {}
  },
  {
   "cell_type": "code",
   "execution_count": null,
   "source": [],
   "outputs": [],
   "metadata": {}
  },
  {
   "cell_type": "code",
   "execution_count": null,
   "source": [],
   "outputs": [],
   "metadata": {}
  },
  {
   "cell_type": "code",
   "execution_count": null,
   "source": [],
   "outputs": [],
   "metadata": {}
  },
  {
   "cell_type": "code",
   "execution_count": null,
   "source": [],
   "outputs": [],
   "metadata": {}
  },
  {
   "cell_type": "code",
   "execution_count": null,
   "source": [],
   "outputs": [],
   "metadata": {}
  },
  {
   "cell_type": "code",
   "execution_count": null,
   "source": [],
   "outputs": [],
   "metadata": {}
  },
  {
   "cell_type": "code",
   "execution_count": null,
   "source": [],
   "outputs": [],
   "metadata": {}
  },
  {
   "cell_type": "code",
   "execution_count": null,
   "source": [],
   "outputs": [],
   "metadata": {}
  }
 ],
 "metadata": {
  "interpreter": {
   "hash": "2ccee5cc862501c1aad1cf19888c2a2eca4026b72d187db43d5e889cbdc6ee97"
  },
  "kernelspec": {
   "name": "python3",
   "display_name": "Python 3.8.5 64-bit ('base': conda)"
  },
  "language_info": {
   "codemirror_mode": {
    "name": "ipython",
    "version": 3
   },
   "file_extension": ".py",
   "mimetype": "text/x-python",
   "name": "python",
   "nbconvert_exporter": "python",
   "pygments_lexer": "ipython3",
   "version": "3.8.5"
  }
 },
 "nbformat": 4,
 "nbformat_minor": 2
}