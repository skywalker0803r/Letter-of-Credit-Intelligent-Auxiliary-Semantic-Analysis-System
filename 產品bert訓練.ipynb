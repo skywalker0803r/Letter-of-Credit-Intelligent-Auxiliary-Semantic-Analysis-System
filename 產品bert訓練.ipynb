{
 "cells": [
  {
   "cell_type": "code",
   "execution_count": 60,
   "source": [
    "import pandas as pd\r\n",
    "import numpy as np\r\n",
    "from tqdm import tqdm_notebook as tqdm\r\n",
    "from torch.optim.optimizer import Optimizer\r\n",
    "import matplotlib.pyplot as plt\r\n",
    "from copy import deepcopy\r\n",
    "import numpy as np\r\n",
    "import random\r\n",
    "import torch\r\n",
    "import warnings \r\n",
    "warnings.filterwarnings('ignore')\r\n",
    "from pytorch_lightning import seed_everything\r\n",
    "import os\r\n",
    "import gc\r\n",
    "from transformers import pipeline\r\n",
    "import requests"
   ],
   "outputs": [],
   "metadata": {}
  },
  {
   "cell_type": "markdown",
   "source": [
    "# functions"
   ],
   "metadata": {}
  },
  {
   "cell_type": "code",
   "execution_count": 61,
   "source": [
    "def get_jaccard_sim(str1, str2): \r\n",
    "    a = set(str1.split()) \r\n",
    "    b = set(str2.split())\r\n",
    "    c = a.intersection(b)\r\n",
    "    return float(len(c)) / (len(a) + len(b) - len(c))\r\n",
    "\r\n",
    "def set_seed(seed = int):\r\n",
    "    '''Sets the seed of the entire notebook so results are the same every time we run.\r\n",
    "    This is for REPRODUCIBILITY.'''\r\n",
    "    np.random.seed(seed)\r\n",
    "    random_state = np.random.RandomState(seed)\r\n",
    "    random.seed(seed)\r\n",
    "    torch.manual_seed(seed)\r\n",
    "    torch.cuda.manual_seed(seed)\r\n",
    "    torch.backends.cudnn.deterministic = True\r\n",
    "    torch.backends.cudnn.benchmark = False\r\n",
    "    os.environ['PYTHONHASHSEED'] = str(seed)\r\n",
    "    seed_everything(seed)\r\n",
    "    return random_state\r\n",
    "random_state = set_seed(42)\r\n",
    "exec(requests.get('https://raw.githubusercontent.com/facebookresearch/madgrad/main/madgrad/madgrad.py').text)"
   ],
   "outputs": [
    {
     "output_type": "stream",
     "name": "stderr",
     "text": [
      "Global seed set to 42\n"
     ]
    }
   ],
   "metadata": {}
  },
  {
   "cell_type": "markdown",
   "source": [
    "# load data and split data (train,val)"
   ],
   "metadata": {}
  },
  {
   "cell_type": "code",
   "execution_count": 62,
   "source": [
    "\r\n",
    "from sklearn.model_selection import train_test_split\r\n",
    "df = pd.read_csv('../data/preprocess_for_SQUAD_產品.csv',index_col=0)[['45A','Y_label','string_Y_1','string_Y_2']].dropna(axis=0).head(300)\r\n",
    "df.iloc[:,-2:] = df.iloc[:,-2:].astype(int)\r\n",
    "df = df.dropna(axis=0).reset_index(drop=True).rename(columns={'45A':'string_X_train'})\r\n",
    "train_df, val_df = train_test_split(df,test_size=0.2,random_state=42)\r\n",
    "display(train_df.head(3))\r\n",
    "display(val_df.head(3))\r\n",
    "for i in tqdm(range(len(df))):\r\n",
    "    assert df['Y_label'].values[i] in df['string_X_train'].values[i]"
   ],
   "outputs": [
    {
     "output_type": "display_data",
     "data": {
      "text/plain": [
       "                                        string_X_train        Y_label  \\\n",
       "232  PRODUCT ACRYLONITRILE QUANTITY 1500 MT PLUS MI...  ACRYLONITRILE   \n",
       "59   HDPE RESIN TAISOX 8040 C 1008 MT AT USD 1075 M...     HDPE RESIN   \n",
       "6    COMMODITY TAISOX 7470 M QUANTITY 100 MT UNIT P...         TAISOX   \n",
       "\n",
       "     string_Y_1  string_Y_2  \n",
       "232           8          21  \n",
       "59            0          10  \n",
       "6            10          16  "
      ],
      "text/html": [
       "<div>\n",
       "<style scoped>\n",
       "    .dataframe tbody tr th:only-of-type {\n",
       "        vertical-align: middle;\n",
       "    }\n",
       "\n",
       "    .dataframe tbody tr th {\n",
       "        vertical-align: top;\n",
       "    }\n",
       "\n",
       "    .dataframe thead th {\n",
       "        text-align: right;\n",
       "    }\n",
       "</style>\n",
       "<table border=\"1\" class=\"dataframe\">\n",
       "  <thead>\n",
       "    <tr style=\"text-align: right;\">\n",
       "      <th></th>\n",
       "      <th>string_X_train</th>\n",
       "      <th>Y_label</th>\n",
       "      <th>string_Y_1</th>\n",
       "      <th>string_Y_2</th>\n",
       "    </tr>\n",
       "  </thead>\n",
       "  <tbody>\n",
       "    <tr>\n",
       "      <th>232</th>\n",
       "      <td>PRODUCT ACRYLONITRILE QUANTITY 1500 MT PLUS MI...</td>\n",
       "      <td>ACRYLONITRILE</td>\n",
       "      <td>8</td>\n",
       "      <td>21</td>\n",
       "    </tr>\n",
       "    <tr>\n",
       "      <th>59</th>\n",
       "      <td>HDPE RESIN TAISOX 8040 C 1008 MT AT USD 1075 M...</td>\n",
       "      <td>HDPE RESIN</td>\n",
       "      <td>0</td>\n",
       "      <td>10</td>\n",
       "    </tr>\n",
       "    <tr>\n",
       "      <th>6</th>\n",
       "      <td>COMMODITY TAISOX 7470 M QUANTITY 100 MT UNIT P...</td>\n",
       "      <td>TAISOX</td>\n",
       "      <td>10</td>\n",
       "      <td>16</td>\n",
       "    </tr>\n",
       "  </tbody>\n",
       "</table>\n",
       "</div>"
      ]
     },
     "metadata": {}
    },
    {
     "output_type": "display_data",
     "data": {
      "text/plain": [
       "                                        string_X_train          Y_label  \\\n",
       "203  COMMODITY BASE OIL 500N QUANTITY 80000 MT - 5 ...    BASE OIL 500N   \n",
       "266  ITEM 1 EVA TAISOX 7340 M 25 MT USD 2505 MT C I...  EVA TAISOX 7350   \n",
       "152  PVC RESIN S-65 QUANTITY 64 MTS AT USD 134000 P...   PVC RESIN S-65   \n",
       "\n",
       "     string_Y_1  string_Y_2  \n",
       "203          10          23  \n",
       "266         175         190  \n",
       "152           0          14  "
      ],
      "text/html": [
       "<div>\n",
       "<style scoped>\n",
       "    .dataframe tbody tr th:only-of-type {\n",
       "        vertical-align: middle;\n",
       "    }\n",
       "\n",
       "    .dataframe tbody tr th {\n",
       "        vertical-align: top;\n",
       "    }\n",
       "\n",
       "    .dataframe thead th {\n",
       "        text-align: right;\n",
       "    }\n",
       "</style>\n",
       "<table border=\"1\" class=\"dataframe\">\n",
       "  <thead>\n",
       "    <tr style=\"text-align: right;\">\n",
       "      <th></th>\n",
       "      <th>string_X_train</th>\n",
       "      <th>Y_label</th>\n",
       "      <th>string_Y_1</th>\n",
       "      <th>string_Y_2</th>\n",
       "    </tr>\n",
       "  </thead>\n",
       "  <tbody>\n",
       "    <tr>\n",
       "      <th>203</th>\n",
       "      <td>COMMODITY BASE OIL 500N QUANTITY 80000 MT - 5 ...</td>\n",
       "      <td>BASE OIL 500N</td>\n",
       "      <td>10</td>\n",
       "      <td>23</td>\n",
       "    </tr>\n",
       "    <tr>\n",
       "      <th>266</th>\n",
       "      <td>ITEM 1 EVA TAISOX 7340 M 25 MT USD 2505 MT C I...</td>\n",
       "      <td>EVA TAISOX 7350</td>\n",
       "      <td>175</td>\n",
       "      <td>190</td>\n",
       "    </tr>\n",
       "    <tr>\n",
       "      <th>152</th>\n",
       "      <td>PVC RESIN S-65 QUANTITY 64 MTS AT USD 134000 P...</td>\n",
       "      <td>PVC RESIN S-65</td>\n",
       "      <td>0</td>\n",
       "      <td>14</td>\n",
       "    </tr>\n",
       "  </tbody>\n",
       "</table>\n",
       "</div>"
      ]
     },
     "metadata": {}
    },
    {
     "output_type": "display_data",
     "data": {
      "text/plain": [
       "HBox(children=(HTML(value=''), FloatProgress(value=0.0, max=300.0), HTML(value='')))"
      ],
      "application/vnd.jupyter.widget-view+json": {
       "version_major": 2,
       "version_minor": 0,
       "model_id": "9c4c2d4e73294352ac2098c78e3d5e64"
      }
     },
     "metadata": {}
    },
    {
     "output_type": "stream",
     "name": "stdout",
     "text": [
      "\n"
     ]
    }
   ],
   "metadata": {}
  },
  {
   "cell_type": "markdown",
   "source": [
    "# Model and Tokenizer Initialization"
   ],
   "metadata": {}
  },
  {
   "cell_type": "code",
   "execution_count": 63,
   "source": [
    "\r\n",
    "from transformers import DistilBertTokenizerFast\r\n",
    "from transformers import DistilBertForQuestionAnswering\r\n",
    "import torch\r\n",
    "from torch.utils.data import DataLoader\r\n",
    "tokenizer = DistilBertTokenizerFast.from_pretrained('distilbert-base-uncased')\r\n",
    "model = DistilBertForQuestionAnswering.from_pretrained(\"distilbert-base-uncased\")"
   ],
   "outputs": [
    {
     "output_type": "stream",
     "name": "stderr",
     "text": [
      "Some weights of the model checkpoint at distilbert-base-uncased were not used when initializing DistilBertForQuestionAnswering: ['vocab_transform.bias', 'vocab_transform.weight', 'vocab_projector.weight', 'vocab_projector.bias', 'vocab_layer_norm.weight', 'vocab_layer_norm.bias']\n",
      "- This IS expected if you are initializing DistilBertForQuestionAnswering from the checkpoint of a model trained on another task or with another architecture (e.g. initializing a BertForSequenceClassification model from a BertForPreTraining model).\n",
      "- This IS NOT expected if you are initializing DistilBertForQuestionAnswering from the checkpoint of a model that you expect to be exactly identical (initializing a BertForSequenceClassification model from a BertForSequenceClassification model).\n",
      "Some weights of DistilBertForQuestionAnswering were not initialized from the model checkpoint at distilbert-base-uncased and are newly initialized: ['qa_outputs.weight', 'qa_outputs.bias']\n",
      "You should probably TRAIN this model on a down-stream task to be able to use it for predictions and inference.\n"
     ]
    }
   ],
   "metadata": {}
  },
  {
   "cell_type": "markdown",
   "source": [
    "# Data preprocessing"
   ],
   "metadata": {}
  },
  {
   "cell_type": "code",
   "execution_count": 64,
   "source": [
    "\r\n",
    "def preprocessing(df):\r\n",
    "    contexts = df['string_X_train'].values.tolist()\r\n",
    "    questions = [ 'What is the bank name?' for i in range(len(df))]\r\n",
    "    answers = []\r\n",
    "    for idx in df.index:\r\n",
    "        answers.append({\r\n",
    "            'text':df.loc[idx,'Y_label'],\r\n",
    "            'answer_start':df.loc[idx,'string_Y_1'],\r\n",
    "            'answer_end':df.loc[idx,'string_Y_2'],\r\n",
    "            })\r\n",
    "    return contexts ,questions ,answers\r\n",
    "\r\n",
    "def add_token_positions(encodings, answers):\r\n",
    "    start_positions = []\r\n",
    "    end_positions = []\r\n",
    "    for i in range(len(answers)):\r\n",
    "        start_positions.append(encodings.char_to_token(i, answers[i]['answer_start']))\r\n",
    "        end_positions.append(encodings.char_to_token(i, answers[i]['answer_end'] - 1))\r\n",
    "\r\n",
    "        # if start position is None, the answer passage has been truncated\r\n",
    "        if start_positions[-1] is None:\r\n",
    "            start_positions[-1] = tokenizer.model_max_length\r\n",
    "        if end_positions[-1] is None:\r\n",
    "            end_positions[-1] = tokenizer.model_max_length\r\n",
    "\r\n",
    "    encodings.update({'start_positions': start_positions, 'end_positions': end_positions})\r\n",
    "    return encodings\r\n",
    "\r\n",
    "class SquadDataset(torch.utils.data.Dataset):\r\n",
    "    def __init__(self, encodings):\r\n",
    "        self.encodings = encodings\r\n",
    "\r\n",
    "    def __getitem__(self, idx):\r\n",
    "        return {key: torch.tensor(val[idx]) for key, val in self.encodings.items()}\r\n",
    "\r\n",
    "    def __len__(self):\r\n",
    "        return len(self.encodings.input_ids)\r\n",
    "\r\n",
    "def df2DataLoader(df):\r\n",
    "    contexts ,questions ,answers = preprocessing(df)\r\n",
    "    encodings = tokenizer(contexts, questions, truncation=True, padding=True)\r\n",
    "    encodings = add_token_positions(encodings, answers)\r\n",
    "    dataset = SquadDataset(encodings)\r\n",
    "    loader = DataLoader(dataset, batch_size = 8, shuffle=True)\r\n",
    "    return loader\r\n",
    "\r\n",
    "train_loader = df2DataLoader(train_df)\r\n",
    "val_loader = df2DataLoader(val_df)"
   ],
   "outputs": [],
   "metadata": {}
  },
  {
   "cell_type": "markdown",
   "source": [
    "# train loop"
   ],
   "metadata": {}
  },
  {
   "cell_type": "code",
   "execution_count": 65,
   "source": [
    "device = torch.device('cuda') if torch.cuda.is_available() else torch.device('cpu')\r\n",
    "model.to(device)\r\n",
    "model.train()\r\n",
    "optimizer = MADGRAD(model.parameters() ,lr = 5e-5)\r\n",
    "\r\n",
    "def train_step(model,batch,optimizer):\r\n",
    "    model = model.to(device)\r\n",
    "    model.train()\r\n",
    "    input_ids = batch['input_ids'].to(device)\r\n",
    "    attention_mask = batch['attention_mask'].to(device)\r\n",
    "    start_positions = batch['start_positions'].to(device)\r\n",
    "    end_positions = batch['end_positions'].to(device)\r\n",
    "    \r\n",
    "    # forward\r\n",
    "    outputs = model(input_ids, attention_mask=attention_mask, start_positions=start_positions, end_positions=end_positions)\r\n",
    "    loss = outputs[0]\r\n",
    "    \r\n",
    "    # backward\r\n",
    "    loss.backward()\r\n",
    "    optimizer.step()\r\n",
    "    optimizer.zero_grad()\r\n",
    "    \r\n",
    "    gc.collect()\r\n",
    "    return loss.item()\r\n",
    "\r\n",
    "def val_step(model,batch,optimizer):\r\n",
    "    model = model.to(device)\r\n",
    "    model.eval()\r\n",
    "    input_ids = batch['input_ids'].to(device)\r\n",
    "    attention_mask = batch['attention_mask'].to(device)\r\n",
    "    start_positions = batch['start_positions'].to(device)\r\n",
    "    end_positions = batch['end_positions'].to(device)\r\n",
    "    \r\n",
    "    # forward\r\n",
    "    outputs = model(input_ids, attention_mask=attention_mask, start_positions=start_positions, end_positions=end_positions)\r\n",
    "    loss = outputs[0]\r\n",
    "    \r\n",
    "    gc.collect()\r\n",
    "    return loss.item()\r\n",
    "\r\n",
    "def train_loop(model,train_loader,val_loader,optimizer,max_epochs=5,patience=3):\r\n",
    "    history = {'train_loss':[],'val_loss':[]}\r\n",
    "    best_loss = np.inf\r\n",
    "    best_model = None\r\n",
    "    not_improve_count = 0\r\n",
    "    for epoch in tqdm(range(max_epochs)):        \r\n",
    "        epoch_train_loss = 0.0\r\n",
    "        epoch_val_loss = 0.0\r\n",
    "        \r\n",
    "        for i,batch in enumerate(tqdm(train_loader)):\r\n",
    "            epoch_train_loss += train_step(model,batch,optimizer)\r\n",
    "        \r\n",
    "        for j,batch in enumerate(tqdm(val_loader)):\r\n",
    "            epoch_val_loss += val_step(model,batch,optimizer)\r\n",
    "        \r\n",
    "        history['train_loss'].append(epoch_train_loss/i)\r\n",
    "        history['val_loss'].append(epoch_val_loss/j)\r\n",
    "        \r\n",
    "        print(f'epoch:{epoch} train_loss:{epoch_train_loss/i} val_loss:{epoch_val_loss/j}')\r\n",
    "        \r\n",
    "        if history['val_loss'][-1] <= best_loss: \r\n",
    "            best_model = deepcopy(model.eval())\r\n",
    "            best_loss = history['val_loss'][-1]\r\n",
    "            print(f'save best_model now_val_best_loss is:{best_loss}')\r\n",
    "\r\n",
    "        if history['val_loss'][-1] > best_loss:\r\n",
    "            not_improve_count += 1\r\n",
    "            print(f'not_improve_count:{not_improve_count}')\r\n",
    "            if not_improve_count > patience:\r\n",
    "                print('early_stoping')\r\n",
    "                break\r\n",
    "\r\n",
    "    # get best_model.eval()\r\n",
    "    model = best_model.eval()\r\n",
    "    return model,history"
   ],
   "outputs": [],
   "metadata": {}
  },
  {
   "cell_type": "code",
   "execution_count": 66,
   "source": [
    "def test_model(nlp,df,test_n=30):\r\n",
    "    table = pd.DataFrame()\r\n",
    "    persudo_val_df = df\r\n",
    "    \r\n",
    "    # 如果是測試模式隨機sample n個點\r\n",
    "    if test_n != None:\r\n",
    "        idx_list = df.sample(test_n).index.tolist()\r\n",
    "    \r\n",
    "    # 否則使用全部\r\n",
    "    else:\r\n",
    "        idx_list = df.index.tolist()\r\n",
    "    \r\n",
    "    # 遍歷樣本\r\n",
    "    for i in tqdm(idx_list):\r\n",
    "        sample = df.loc[[i]]\r\n",
    "        string_X_train = sample['string_X_train'].values[0]\r\n",
    "        string_Y_1 = sample['string_Y_1'].values[0]\r\n",
    "        string_Y_2 = sample['string_Y_2'].values[0]\r\n",
    "        \r\n",
    "        # 製作QA\r\n",
    "        QA_input = {\r\n",
    "            'question': 'What is the product name?',\r\n",
    "            'context': string_X_train\r\n",
    "        }\r\n",
    "        \r\n",
    "        # 得到nlp預測結果\r\n",
    "        res = nlp(QA_input)\r\n",
    "        \r\n",
    "        predict = QA_input['context'][res['start']:res['end']]\r\n",
    "        \r\n",
    "        # 製作成一條dataframe的row\r\n",
    "        row = pd.DataFrame({\r\n",
    "            'label':string_X_train[string_Y_1:string_Y_2],\r\n",
    "            'predict:':predict},index=[i])\r\n",
    "        \r\n",
    "        if string_X_train[string_Y_1:string_Y_2] == predict:\r\n",
    "            row['是否全對'] = 'Yes'\r\n",
    "        else:\r\n",
    "            row['是否全對'] = 'No'\r\n",
    "        \r\n",
    "        table = table.append(row)\r\n",
    "        \r\n",
    "        # make persudo label by nlp output \r\n",
    "        persudo_val_df.loc[i]['string_Y_1'] = res['start']\r\n",
    "        persudo_val_df.loc[i]['string_Y_2'] = res['end']\r\n",
    "        persudo_val_df.loc[i]['Y_label'] = predict\r\n",
    "    \r\n",
    "    # 計算得分\r\n",
    "    jaccard_avg_score = np.mean([get_jaccard_sim(table.label[i],table['predict:'][i]) for i in table.index])\r\n",
    "    \r\n",
    "    acc = table['是否全對'].value_counts()['Yes'] / len(table)\r\n",
    "    \r\n",
    "    # 返回預測結果表,jac分數,acc分數,persudo_val_df\r\n",
    "    return table ,jaccard_avg_score ,acc ,persudo_val_df"
   ],
   "outputs": [],
   "metadata": {}
  },
  {
   "cell_type": "markdown",
   "source": [
    "# knowledge_distillation"
   ],
   "metadata": {}
  },
  {
   "cell_type": "code",
   "execution_count": 67,
   "source": [
    "gc.collect()\r\n",
    "def knowledge_distillation(n=2,max_epochs=2,patience=1):\r\n",
    "    # initialize tokenizer ,model and train_loader\r\n",
    "    tokenizer = DistilBertTokenizerFast.from_pretrained('distilbert-base-uncased')\r\n",
    "    model = DistilBertForQuestionAnswering.from_pretrained(\"distilbert-base-uncased\")\r\n",
    "    device = torch.device('cuda') if torch.cuda.is_available() else torch.device('cpu')\r\n",
    "    model.to(device)\r\n",
    "    train_df_extra_loader = train_loader\r\n",
    "    \r\n",
    "    history = {'train_loss':[],'val_loss':[]}\r\n",
    "    best_jaccard = 0\r\n",
    "    best_model = None\r\n",
    "    \r\n",
    "    #knowledge_distillation loop\r\n",
    "    for i in range(n):\r\n",
    "        # 1.training model by MADGRAD optimizer\r\n",
    "        optimizer = MADGRAD(model.parameters(),lr=5e-5)\r\n",
    "        model,history = train_loop(model,train_df_extra_loader,val_loader,optimizer,max_epochs=max_epochs,patience=patience)\r\n",
    "        nlp = pipeline('question-answering', model=model.to('cpu'), tokenizer=tokenizer)\r\n",
    "        # 2.get persudo_label(by trained_model)\r\n",
    "        table,jaccard_avg_score,acc,persudo_val_df = test_model(nlp,val_df,test_n=33)\r\n",
    "        \r\n",
    "        # if model is good save checkpoint\r\n",
    "        if jaccard_avg_score >= best_jaccard:\r\n",
    "            best_jaccard = jaccard_avg_score\r\n",
    "            best_model = deepcopy(model.eval())\r\n",
    "        \r\n",
    "        # 3.add persudo_label to trainset\r\n",
    "        train_df_extra_loader = df2DataLoader(train_df.append(persudo_val_df).reset_index(drop=True))\r\n",
    "        model = model.to(device)\r\n",
    "        gc.collect()\r\n",
    "    \r\n",
    "    return best_model.eval()"
   ],
   "outputs": [],
   "metadata": {}
  },
  {
   "cell_type": "code",
   "execution_count": 68,
   "source": [
    "os.environ[\"TOKENIZERS_PARALLELISM\"] = \"false\"\r\n",
    "knowledge_distillation_model = knowledge_distillation(n=4,max_epochs=4,patience=2)"
   ],
   "outputs": [
    {
     "output_type": "stream",
     "name": "stderr",
     "text": [
      "Some weights of the model checkpoint at distilbert-base-uncased were not used when initializing DistilBertForQuestionAnswering: ['vocab_transform.bias', 'vocab_transform.weight', 'vocab_projector.weight', 'vocab_projector.bias', 'vocab_layer_norm.weight', 'vocab_layer_norm.bias']\n",
      "- This IS expected if you are initializing DistilBertForQuestionAnswering from the checkpoint of a model trained on another task or with another architecture (e.g. initializing a BertForSequenceClassification model from a BertForPreTraining model).\n",
      "- This IS NOT expected if you are initializing DistilBertForQuestionAnswering from the checkpoint of a model that you expect to be exactly identical (initializing a BertForSequenceClassification model from a BertForSequenceClassification model).\n",
      "Some weights of DistilBertForQuestionAnswering were not initialized from the model checkpoint at distilbert-base-uncased and are newly initialized: ['qa_outputs.weight', 'qa_outputs.bias']\n",
      "You should probably TRAIN this model on a down-stream task to be able to use it for predictions and inference.\n"
     ]
    },
    {
     "output_type": "display_data",
     "data": {
      "text/plain": [
       "HBox(children=(HTML(value=''), FloatProgress(value=0.0, max=4.0), HTML(value='')))"
      ],
      "application/vnd.jupyter.widget-view+json": {
       "version_major": 2,
       "version_minor": 0,
       "model_id": "187f7e5daf184ac5bbf2f4497378cff3"
      }
     },
     "metadata": {}
    },
    {
     "output_type": "display_data",
     "data": {
      "text/plain": [
       "HBox(children=(HTML(value=''), FloatProgress(value=0.0, max=30.0), HTML(value='')))"
      ],
      "application/vnd.jupyter.widget-view+json": {
       "version_major": 2,
       "version_minor": 0,
       "model_id": "b6448501975d4c65b0d99aaaa6f81651"
      }
     },
     "metadata": {}
    },
    {
     "output_type": "stream",
     "name": "stdout",
     "text": [
      "\n"
     ]
    },
    {
     "output_type": "display_data",
     "data": {
      "text/plain": [
       "HBox(children=(HTML(value=''), FloatProgress(value=0.0, max=8.0), HTML(value='')))"
      ],
      "application/vnd.jupyter.widget-view+json": {
       "version_major": 2,
       "version_minor": 0,
       "model_id": "d731398096f0432794615ca039b1ac61"
      }
     },
     "metadata": {}
    },
    {
     "output_type": "stream",
     "name": "stdout",
     "text": [
      "\n",
      "epoch:0 train_loss:2.681900534136542 val_loss:1.2326379077775138\n",
      "save best_model now_val_best_loss is:1.2326379077775138\n"
     ]
    },
    {
     "output_type": "display_data",
     "data": {
      "text/plain": [
       "HBox(children=(HTML(value=''), FloatProgress(value=0.0, max=30.0), HTML(value='')))"
      ],
      "application/vnd.jupyter.widget-view+json": {
       "version_major": 2,
       "version_minor": 0,
       "model_id": "17ad770bba41441fa6ed061382a6843a"
      }
     },
     "metadata": {}
    },
    {
     "output_type": "stream",
     "name": "stdout",
     "text": [
      "\n"
     ]
    },
    {
     "output_type": "display_data",
     "data": {
      "text/plain": [
       "HBox(children=(HTML(value=''), FloatProgress(value=0.0, max=8.0), HTML(value='')))"
      ],
      "application/vnd.jupyter.widget-view+json": {
       "version_major": 2,
       "version_minor": 0,
       "model_id": "750bd8ab64a0432cbb82ad2dd3e8421d"
      }
     },
     "metadata": {}
    },
    {
     "output_type": "stream",
     "name": "stdout",
     "text": [
      "\n",
      "epoch:1 train_loss:0.6215758226041136 val_loss:0.7559536067502839\n",
      "save best_model now_val_best_loss is:0.7559536067502839\n"
     ]
    },
    {
     "output_type": "display_data",
     "data": {
      "text/plain": [
       "HBox(children=(HTML(value=''), FloatProgress(value=0.0, max=30.0), HTML(value='')))"
      ],
      "application/vnd.jupyter.widget-view+json": {
       "version_major": 2,
       "version_minor": 0,
       "model_id": "0dddb6987d544f50a61a450378c2b4d3"
      }
     },
     "metadata": {}
    },
    {
     "output_type": "stream",
     "name": "stdout",
     "text": [
      "\n"
     ]
    },
    {
     "output_type": "display_data",
     "data": {
      "text/plain": [
       "HBox(children=(HTML(value=''), FloatProgress(value=0.0, max=8.0), HTML(value='')))"
      ],
      "application/vnd.jupyter.widget-view+json": {
       "version_major": 2,
       "version_minor": 0,
       "model_id": "69cb5a399b2e4685b25b834003cda1c5"
      }
     },
     "metadata": {}
    },
    {
     "output_type": "stream",
     "name": "stdout",
     "text": [
      "\n",
      "epoch:2 train_loss:0.40435277734851016 val_loss:0.7197299131325313\n",
      "save best_model now_val_best_loss is:0.7197299131325313\n"
     ]
    },
    {
     "output_type": "display_data",
     "data": {
      "text/plain": [
       "HBox(children=(HTML(value=''), FloatProgress(value=0.0, max=30.0), HTML(value='')))"
      ],
      "application/vnd.jupyter.widget-view+json": {
       "version_major": 2,
       "version_minor": 0,
       "model_id": "aa9549a24cca4c6d850d54d43f280ccb"
      }
     },
     "metadata": {}
    },
    {
     "output_type": "stream",
     "name": "stdout",
     "text": [
      "\n"
     ]
    },
    {
     "output_type": "display_data",
     "data": {
      "text/plain": [
       "HBox(children=(HTML(value=''), FloatProgress(value=0.0, max=8.0), HTML(value='')))"
      ],
      "application/vnd.jupyter.widget-view+json": {
       "version_major": 2,
       "version_minor": 0,
       "model_id": "5811801ddb8642299091ec1fd9fa600c"
      }
     },
     "metadata": {}
    },
    {
     "output_type": "stream",
     "name": "stdout",
     "text": [
      "\n",
      "epoch:3 train_loss:0.2691328674554825 val_loss:1.0486538058945112\n",
      "not_improve_count:1\n",
      "\n"
     ]
    },
    {
     "output_type": "display_data",
     "data": {
      "text/plain": [
       "HBox(children=(HTML(value=''), FloatProgress(value=0.0, max=33.0), HTML(value='')))"
      ],
      "application/vnd.jupyter.widget-view+json": {
       "version_major": 2,
       "version_minor": 0,
       "model_id": "8e31ac6736e84a0ba15a601ca81b6b68"
      }
     },
     "metadata": {}
    },
    {
     "output_type": "stream",
     "name": "stdout",
     "text": [
      "\n"
     ]
    },
    {
     "output_type": "display_data",
     "data": {
      "text/plain": [
       "HBox(children=(HTML(value=''), FloatProgress(value=0.0, max=4.0), HTML(value='')))"
      ],
      "application/vnd.jupyter.widget-view+json": {
       "version_major": 2,
       "version_minor": 0,
       "model_id": "8c42660b668d4b1194be36c06d679fe3"
      }
     },
     "metadata": {}
    },
    {
     "output_type": "display_data",
     "data": {
      "text/plain": [
       "HBox(children=(HTML(value=''), FloatProgress(value=0.0, max=38.0), HTML(value='')))"
      ],
      "application/vnd.jupyter.widget-view+json": {
       "version_major": 2,
       "version_minor": 0,
       "model_id": "1913930359e2457eb1b005f85ca848a0"
      }
     },
     "metadata": {}
    },
    {
     "output_type": "stream",
     "name": "stdout",
     "text": [
      "\n"
     ]
    },
    {
     "output_type": "display_data",
     "data": {
      "text/plain": [
       "HBox(children=(HTML(value=''), FloatProgress(value=0.0, max=8.0), HTML(value='')))"
      ],
      "application/vnd.jupyter.widget-view+json": {
       "version_major": 2,
       "version_minor": 0,
       "model_id": "4983b275401640ceabbc3d843afea8cb"
      }
     },
     "metadata": {}
    },
    {
     "output_type": "stream",
     "name": "stdout",
     "text": [
      "\n",
      "epoch:0 train_loss:0.3728768484213868 val_loss:0.31723643626485554\n",
      "save best_model now_val_best_loss is:0.31723643626485554\n"
     ]
    },
    {
     "output_type": "display_data",
     "data": {
      "text/plain": [
       "HBox(children=(HTML(value=''), FloatProgress(value=0.0, max=38.0), HTML(value='')))"
      ],
      "application/vnd.jupyter.widget-view+json": {
       "version_major": 2,
       "version_minor": 0,
       "model_id": "8dbad3bd1ea044829dbf4e076b1572d9"
      }
     },
     "metadata": {}
    },
    {
     "output_type": "stream",
     "name": "stdout",
     "text": [
      "\n"
     ]
    },
    {
     "output_type": "display_data",
     "data": {
      "text/plain": [
       "HBox(children=(HTML(value=''), FloatProgress(value=0.0, max=8.0), HTML(value='')))"
      ],
      "application/vnd.jupyter.widget-view+json": {
       "version_major": 2,
       "version_minor": 0,
       "model_id": "c4ece2983d7f4add99954e384391c440"
      }
     },
     "metadata": {}
    },
    {
     "output_type": "stream",
     "name": "stdout",
     "text": [
      "\n",
      "epoch:1 train_loss:0.2612915195625376 val_loss:0.29286858971629826\n",
      "save best_model now_val_best_loss is:0.29286858971629826\n"
     ]
    },
    {
     "output_type": "display_data",
     "data": {
      "text/plain": [
       "HBox(children=(HTML(value=''), FloatProgress(value=0.0, max=38.0), HTML(value='')))"
      ],
      "application/vnd.jupyter.widget-view+json": {
       "version_major": 2,
       "version_minor": 0,
       "model_id": "43cbcd268be04b00a37c58c7aba0e06f"
      }
     },
     "metadata": {}
    },
    {
     "output_type": "stream",
     "name": "stdout",
     "text": [
      "\n"
     ]
    },
    {
     "output_type": "display_data",
     "data": {
      "text/plain": [
       "HBox(children=(HTML(value=''), FloatProgress(value=0.0, max=8.0), HTML(value='')))"
      ],
      "application/vnd.jupyter.widget-view+json": {
       "version_major": 2,
       "version_minor": 0,
       "model_id": "4ff927ab43a64607badf43d127e3f33e"
      }
     },
     "metadata": {}
    },
    {
     "output_type": "stream",
     "name": "stdout",
     "text": [
      "\n",
      "epoch:2 train_loss:0.2698506599770406 val_loss:0.16777354844712786\n",
      "save best_model now_val_best_loss is:0.16777354844712786\n"
     ]
    },
    {
     "output_type": "display_data",
     "data": {
      "text/plain": [
       "HBox(children=(HTML(value=''), FloatProgress(value=0.0, max=38.0), HTML(value='')))"
      ],
      "application/vnd.jupyter.widget-view+json": {
       "version_major": 2,
       "version_minor": 0,
       "model_id": "3f608a822ec343c28d77eee534b7da22"
      }
     },
     "metadata": {}
    },
    {
     "output_type": "stream",
     "name": "stdout",
     "text": [
      "\n"
     ]
    },
    {
     "output_type": "display_data",
     "data": {
      "text/plain": [
       "HBox(children=(HTML(value=''), FloatProgress(value=0.0, max=8.0), HTML(value='')))"
      ],
      "application/vnd.jupyter.widget-view+json": {
       "version_major": 2,
       "version_minor": 0,
       "model_id": "d6de53b13d7d49318545ac07fb7306bc"
      }
     },
     "metadata": {}
    },
    {
     "output_type": "stream",
     "name": "stdout",
     "text": [
      "\n",
      "epoch:3 train_loss:0.2124235578938513 val_loss:0.10182124416210822\n",
      "save best_model now_val_best_loss is:0.10182124416210822\n",
      "\n"
     ]
    },
    {
     "output_type": "display_data",
     "data": {
      "text/plain": [
       "HBox(children=(HTML(value=''), FloatProgress(value=0.0, max=33.0), HTML(value='')))"
      ],
      "application/vnd.jupyter.widget-view+json": {
       "version_major": 2,
       "version_minor": 0,
       "model_id": "248e085b1177401b9a3812115442b15c"
      }
     },
     "metadata": {}
    },
    {
     "output_type": "stream",
     "name": "stdout",
     "text": [
      "\n"
     ]
    },
    {
     "output_type": "display_data",
     "data": {
      "text/plain": [
       "HBox(children=(HTML(value=''), FloatProgress(value=0.0, max=4.0), HTML(value='')))"
      ],
      "application/vnd.jupyter.widget-view+json": {
       "version_major": 2,
       "version_minor": 0,
       "model_id": "782c90c797d744a586dcebfdb6f2be34"
      }
     },
     "metadata": {}
    },
    {
     "output_type": "display_data",
     "data": {
      "text/plain": [
       "HBox(children=(HTML(value=''), FloatProgress(value=0.0, max=38.0), HTML(value='')))"
      ],
      "application/vnd.jupyter.widget-view+json": {
       "version_major": 2,
       "version_minor": 0,
       "model_id": "f13d53e359c340a9ad4dbe5415147f34"
      }
     },
     "metadata": {}
    },
    {
     "output_type": "stream",
     "name": "stdout",
     "text": [
      "\n"
     ]
    },
    {
     "output_type": "display_data",
     "data": {
      "text/plain": [
       "HBox(children=(HTML(value=''), FloatProgress(value=0.0, max=8.0), HTML(value='')))"
      ],
      "application/vnd.jupyter.widget-view+json": {
       "version_major": 2,
       "version_minor": 0,
       "model_id": "e9a91d266f4d47f380582af6ef331b16"
      }
     },
     "metadata": {}
    },
    {
     "output_type": "stream",
     "name": "stdout",
     "text": [
      "\n",
      "epoch:0 train_loss:0.15554375256682318 val_loss:0.15182165801525116\n",
      "save best_model now_val_best_loss is:0.15182165801525116\n"
     ]
    },
    {
     "output_type": "display_data",
     "data": {
      "text/plain": [
       "HBox(children=(HTML(value=''), FloatProgress(value=0.0, max=38.0), HTML(value='')))"
      ],
      "application/vnd.jupyter.widget-view+json": {
       "version_major": 2,
       "version_minor": 0,
       "model_id": "d5d24eb8a06943459283585ba64e8b33"
      }
     },
     "metadata": {}
    },
    {
     "output_type": "stream",
     "name": "stdout",
     "text": [
      "\n"
     ]
    },
    {
     "output_type": "display_data",
     "data": {
      "text/plain": [
       "HBox(children=(HTML(value=''), FloatProgress(value=0.0, max=8.0), HTML(value='')))"
      ],
      "application/vnd.jupyter.widget-view+json": {
       "version_major": 2,
       "version_minor": 0,
       "model_id": "7f942741ab5f46c5ad53b2427adefee9"
      }
     },
     "metadata": {}
    },
    {
     "output_type": "stream",
     "name": "stdout",
     "text": [
      "\n",
      "epoch:1 train_loss:0.1350681741747099 val_loss:0.14434838266710617\n",
      "save best_model now_val_best_loss is:0.14434838266710617\n"
     ]
    },
    {
     "output_type": "display_data",
     "data": {
      "text/plain": [
       "HBox(children=(HTML(value=''), FloatProgress(value=0.0, max=38.0), HTML(value='')))"
      ],
      "application/vnd.jupyter.widget-view+json": {
       "version_major": 2,
       "version_minor": 0,
       "model_id": "75c4ac7397b54d7ea27c13da20d0e431"
      }
     },
     "metadata": {}
    },
    {
     "output_type": "stream",
     "name": "stdout",
     "text": [
      "\n"
     ]
    },
    {
     "output_type": "display_data",
     "data": {
      "text/plain": [
       "HBox(children=(HTML(value=''), FloatProgress(value=0.0, max=8.0), HTML(value='')))"
      ],
      "application/vnd.jupyter.widget-view+json": {
       "version_major": 2,
       "version_minor": 0,
       "model_id": "7327ae7991774abc8372a367558b7c2c"
      }
     },
     "metadata": {}
    },
    {
     "output_type": "stream",
     "name": "stdout",
     "text": [
      "\n",
      "epoch:2 train_loss:0.14648977054811613 val_loss:0.10361379289367635\n",
      "save best_model now_val_best_loss is:0.10361379289367635\n"
     ]
    },
    {
     "output_type": "display_data",
     "data": {
      "text/plain": [
       "HBox(children=(HTML(value=''), FloatProgress(value=0.0, max=38.0), HTML(value='')))"
      ],
      "application/vnd.jupyter.widget-view+json": {
       "version_major": 2,
       "version_minor": 0,
       "model_id": "543923fb11af4b3195de2ba610529635"
      }
     },
     "metadata": {}
    },
    {
     "output_type": "stream",
     "name": "stdout",
     "text": [
      "\n"
     ]
    },
    {
     "output_type": "display_data",
     "data": {
      "text/plain": [
       "HBox(children=(HTML(value=''), FloatProgress(value=0.0, max=8.0), HTML(value='')))"
      ],
      "application/vnd.jupyter.widget-view+json": {
       "version_major": 2,
       "version_minor": 0,
       "model_id": "4e244ccc73cd491b85791014fcbb5d1e"
      }
     },
     "metadata": {}
    },
    {
     "output_type": "stream",
     "name": "stdout",
     "text": [
      "\n",
      "epoch:3 train_loss:0.13665464466337013 val_loss:0.21535741165280342\n",
      "not_improve_count:1\n",
      "\n"
     ]
    },
    {
     "output_type": "display_data",
     "data": {
      "text/plain": [
       "HBox(children=(HTML(value=''), FloatProgress(value=0.0, max=33.0), HTML(value='')))"
      ],
      "application/vnd.jupyter.widget-view+json": {
       "version_major": 2,
       "version_minor": 0,
       "model_id": "c190e39b43af4f5a8ebe7a78d3f6a764"
      }
     },
     "metadata": {}
    },
    {
     "output_type": "stream",
     "name": "stdout",
     "text": [
      "\n"
     ]
    },
    {
     "output_type": "display_data",
     "data": {
      "text/plain": [
       "HBox(children=(HTML(value=''), FloatProgress(value=0.0, max=4.0), HTML(value='')))"
      ],
      "application/vnd.jupyter.widget-view+json": {
       "version_major": 2,
       "version_minor": 0,
       "model_id": "0adfd9d9db36410e909057fd6a0a3385"
      }
     },
     "metadata": {}
    },
    {
     "output_type": "display_data",
     "data": {
      "text/plain": [
       "HBox(children=(HTML(value=''), FloatProgress(value=0.0, max=38.0), HTML(value='')))"
      ],
      "application/vnd.jupyter.widget-view+json": {
       "version_major": 2,
       "version_minor": 0,
       "model_id": "40667cad46084ef2b9120c621aedc5b4"
      }
     },
     "metadata": {}
    },
    {
     "output_type": "stream",
     "name": "stdout",
     "text": [
      "\n"
     ]
    },
    {
     "output_type": "display_data",
     "data": {
      "text/plain": [
       "HBox(children=(HTML(value=''), FloatProgress(value=0.0, max=8.0), HTML(value='')))"
      ],
      "application/vnd.jupyter.widget-view+json": {
       "version_major": 2,
       "version_minor": 0,
       "model_id": "0e0ec73fbf7e45b5bca522bbc15c37cc"
      }
     },
     "metadata": {}
    },
    {
     "output_type": "stream",
     "name": "stdout",
     "text": [
      "\n",
      "epoch:0 train_loss:0.11391850938152119 val_loss:0.12458645246390786\n",
      "save best_model now_val_best_loss is:0.12458645246390786\n"
     ]
    },
    {
     "output_type": "display_data",
     "data": {
      "text/plain": [
       "HBox(children=(HTML(value=''), FloatProgress(value=0.0, max=38.0), HTML(value='')))"
      ],
      "application/vnd.jupyter.widget-view+json": {
       "version_major": 2,
       "version_minor": 0,
       "model_id": "07ac644c14f8452fbd776f19f512323c"
      }
     },
     "metadata": {}
    },
    {
     "output_type": "stream",
     "name": "stdout",
     "text": [
      "\n"
     ]
    },
    {
     "output_type": "display_data",
     "data": {
      "text/plain": [
       "HBox(children=(HTML(value=''), FloatProgress(value=0.0, max=8.0), HTML(value='')))"
      ],
      "application/vnd.jupyter.widget-view+json": {
       "version_major": 2,
       "version_minor": 0,
       "model_id": "c0a18da11bb548868a49778c13c5ddb9"
      }
     },
     "metadata": {}
    },
    {
     "output_type": "stream",
     "name": "stdout",
     "text": [
      "\n",
      "epoch:1 train_loss:0.18059806373738055 val_loss:0.10405523083837968\n",
      "save best_model now_val_best_loss is:0.10405523083837968\n"
     ]
    },
    {
     "output_type": "display_data",
     "data": {
      "text/plain": [
       "HBox(children=(HTML(value=''), FloatProgress(value=0.0, max=38.0), HTML(value='')))"
      ],
      "application/vnd.jupyter.widget-view+json": {
       "version_major": 2,
       "version_minor": 0,
       "model_id": "49357a65605143bc8f62e3046e275b53"
      }
     },
     "metadata": {}
    },
    {
     "output_type": "stream",
     "name": "stdout",
     "text": [
      "\n"
     ]
    },
    {
     "output_type": "display_data",
     "data": {
      "text/plain": [
       "HBox(children=(HTML(value=''), FloatProgress(value=0.0, max=8.0), HTML(value='')))"
      ],
      "application/vnd.jupyter.widget-view+json": {
       "version_major": 2,
       "version_minor": 0,
       "model_id": "d44d91d4836545ab9f7a5a3469dec659"
      }
     },
     "metadata": {}
    },
    {
     "output_type": "stream",
     "name": "stdout",
     "text": [
      "\n",
      "epoch:2 train_loss:0.1736292191214759 val_loss:0.13516531299267495\n",
      "not_improve_count:1\n"
     ]
    },
    {
     "output_type": "display_data",
     "data": {
      "text/plain": [
       "HBox(children=(HTML(value=''), FloatProgress(value=0.0, max=38.0), HTML(value='')))"
      ],
      "application/vnd.jupyter.widget-view+json": {
       "version_major": 2,
       "version_minor": 0,
       "model_id": "52ea0029ea02454698544d6c9c94686c"
      }
     },
     "metadata": {}
    },
    {
     "output_type": "stream",
     "name": "stdout",
     "text": [
      "\n"
     ]
    },
    {
     "output_type": "display_data",
     "data": {
      "text/plain": [
       "HBox(children=(HTML(value=''), FloatProgress(value=0.0, max=8.0), HTML(value='')))"
      ],
      "application/vnd.jupyter.widget-view+json": {
       "version_major": 2,
       "version_minor": 0,
       "model_id": "4fd3c86496b644a38061da2978c7a176"
      }
     },
     "metadata": {}
    },
    {
     "output_type": "stream",
     "name": "stdout",
     "text": [
      "\n",
      "epoch:3 train_loss:0.18091239762214026 val_loss:0.13901750024940288\n",
      "not_improve_count:2\n",
      "\n"
     ]
    },
    {
     "output_type": "display_data",
     "data": {
      "text/plain": [
       "HBox(children=(HTML(value=''), FloatProgress(value=0.0, max=33.0), HTML(value='')))"
      ],
      "application/vnd.jupyter.widget-view+json": {
       "version_major": 2,
       "version_minor": 0,
       "model_id": "e78fe1033478440c84f2b640e7c3155b"
      }
     },
     "metadata": {}
    },
    {
     "output_type": "stream",
     "name": "stdout",
     "text": [
      "\n"
     ]
    }
   ],
   "metadata": {}
  },
  {
   "cell_type": "markdown",
   "source": [
    "# question-answering pipeline"
   ],
   "metadata": {}
  },
  {
   "cell_type": "code",
   "execution_count": 69,
   "source": [
    "\r\n",
    "nlp = pipeline('question-answering', model=knowledge_distillation_model.to('cpu'), tokenizer=tokenizer)"
   ],
   "outputs": [],
   "metadata": {}
  },
  {
   "cell_type": "markdown",
   "source": [
    "# test"
   ],
   "metadata": {}
  },
  {
   "cell_type": "code",
   "execution_count": 70,
   "source": [
    "table,jaccard_avg_score,acc,persudo_val_df = test_model(nlp,val_df,test_n=len(val_df))\r\n",
    "print(f'jaccard_avg_score:{jaccard_avg_score}')\r\n",
    "print(f'acc:{acc}')\r\n",
    "display(table)"
   ],
   "outputs": [
    {
     "output_type": "display_data",
     "data": {
      "text/plain": [
       "HBox(children=(HTML(value=''), FloatProgress(value=0.0, max=60.0), HTML(value='')))"
      ],
      "application/vnd.jupyter.widget-view+json": {
       "version_major": 2,
       "version_minor": 0,
       "model_id": "04cbc83c86f849e7975dec2f5bb92442"
      }
     },
     "metadata": {}
    },
    {
     "output_type": "stream",
     "name": "stdout",
     "text": [
      "\n",
      "jaccard_avg_score:0.8777777777777779\n",
      "acc:0.8166666666666667\n"
     ]
    },
    {
     "output_type": "display_data",
     "data": {
      "text/plain": [
       "                                   label                             predict:  \\\n",
       "73                  VISCOSE STAPLE FIBER              VISCOSE STAPLE FIBER15D   \n",
       "25                                  PACK                            PACKAGING   \n",
       "45                         BASE OIL 150N                        BASE OIL 150N   \n",
       "77                       EVA TAISOX 7350                      EVA TAISOX 7350   \n",
       "109                                  DOP                                  DOP   \n",
       "78                       EVA TAISOX 7350                      EVA TAISOX 7350   \n",
       "75                                TAISOX                          TAISOX 7350   \n",
       "9                             EVA TAISOX                           EVA TAISOX   \n",
       "286                          HDPE TAISOX                          HDPE TAISOX   \n",
       "182                               GASOIL                               GASOIL   \n",
       "144                 PVC SUSPENSION RESIN                 PVC SUSPENSION RESIN   \n",
       "218                        BASE OIL 150N                        BASE OIL 150N   \n",
       "297                           EVA TAISOX                           EVA TAISOX   \n",
       "215                                  DOP                                  DOP   \n",
       "111                        BASE OIL 500N                        BASE OIL 500N   \n",
       "250                            ABS RESIN                            ABS RESIN   \n",
       "90                        PVC RESIN S-60                       PVC RESIN S-60   \n",
       "233                                 DOTP                                 DOTP   \n",
       "57                                GASOIL                               GASOIL   \n",
       "24   MONOETHYLENE GLYCOL MEG FIBER GRADE  MONOETHYLENE GLYCOL MEG FIBER GRADE   \n",
       "7                                 GASOIL                               GASOIL   \n",
       "266                      EVA TAISOX 7350                      EVA TAISOX 7350   \n",
       "289                      EVA TAISOX 7350                      EVA TAISOX 7350   \n",
       "60                            HDPE RESIN                           HDPE RESIN   \n",
       "281                            HDPE 8001                            HDPE 8010   \n",
       "234                 VISCOSE STAPLE FIBER              VISCOSE STAPLE FIBER15D   \n",
       "239                          TAISOX 8001                               TAISOX   \n",
       "76                            TAISOX EVA                           TAISOX EVA   \n",
       "63                         BASE OIL 150N                        BASE OIL 150N   \n",
       "175                           TAISOX EVA                           TAISOX EVA   \n",
       "238                                 TOTM                                 TOTM   \n",
       "17                       PVC RESIN S-65D                       PVC RESIN S-60   \n",
       "249                            ABS RESIN                            ABS RESIN   \n",
       "104                  PVC MASS RESIN B-57                  PVC MASS RESIN B-57   \n",
       "295                      EVA TAISOX 7350                      EVA TAISOX 7350   \n",
       "192                        BASE OIL 150N                        BASE OIL 150N   \n",
       "203                        BASE OIL 500N                        BASE OIL 500N   \n",
       "211                                 PACK                            PACKAGING   \n",
       "46                         BASE OIL 150N                        BASE OIL 150N   \n",
       "278                                  INA                                CHINA   \n",
       "93                              BASE OIL                             BASE OIL   \n",
       "196            HIGH DENSITY POLYETHYLENE            HIGH DENSITY POLYETHYLENE   \n",
       "164                                  EVA                                  EVA   \n",
       "231                             PARAFFIN                             PARAFFIN   \n",
       "92                            EVA TAISOX                           EVA TAISOX   \n",
       "180                               GASOIL                               GASOIL   \n",
       "42                           HDPE TAISOX                          HDPE TAISOX   \n",
       "148                 PVC SUSPENSION RESIN                 PVC SUSPENSION RESIN   \n",
       "119                           EVA TAISOX                           EVA TAISOX   \n",
       "165                            ABS RESIN                           ABS RESINS   \n",
       "152                       PVC RESIN S-65                       PVC RESIN S-65   \n",
       "157                        BASE OIL 150N                        BASE OIL 150N   \n",
       "97             PVC SUSPENSION RESIN S-70            PVC SUSPENSION RESIN S-70   \n",
       "226                 VISCOSE STAPLE FIBER                 VISCOSE STAPLE FIBER   \n",
       "5                       HDPE TAISOX 8010                     HDPE TAISOX 8010   \n",
       "33                           PROCESS OIL                          PROCESS OIL   \n",
       "221                          EPOXY RESIN                          EPOXY RESIN   \n",
       "229                        BASE OIL 150N                        BASE OIL 500N   \n",
       "237                            EVA-7360M                            EVA-7360M   \n",
       "113                            EVA-7360M                            EVA-7360M   \n",
       "\n",
       "    是否全對  \n",
       "73    No  \n",
       "25    No  \n",
       "45   Yes  \n",
       "77   Yes  \n",
       "109  Yes  \n",
       "78   Yes  \n",
       "75    No  \n",
       "9    Yes  \n",
       "286  Yes  \n",
       "182  Yes  \n",
       "144  Yes  \n",
       "218  Yes  \n",
       "297  Yes  \n",
       "215  Yes  \n",
       "111  Yes  \n",
       "250  Yes  \n",
       "90   Yes  \n",
       "233  Yes  \n",
       "57   Yes  \n",
       "24   Yes  \n",
       "7    Yes  \n",
       "266  Yes  \n",
       "289  Yes  \n",
       "60   Yes  \n",
       "281   No  \n",
       "234   No  \n",
       "239   No  \n",
       "76   Yes  \n",
       "63   Yes  \n",
       "175  Yes  \n",
       "238  Yes  \n",
       "17    No  \n",
       "249  Yes  \n",
       "104  Yes  \n",
       "295  Yes  \n",
       "192  Yes  \n",
       "203  Yes  \n",
       "211   No  \n",
       "46   Yes  \n",
       "278   No  \n",
       "93   Yes  \n",
       "196  Yes  \n",
       "164  Yes  \n",
       "231  Yes  \n",
       "92   Yes  \n",
       "180  Yes  \n",
       "42   Yes  \n",
       "148  Yes  \n",
       "119  Yes  \n",
       "165   No  \n",
       "152  Yes  \n",
       "157  Yes  \n",
       "97   Yes  \n",
       "226  Yes  \n",
       "5    Yes  \n",
       "33   Yes  \n",
       "221  Yes  \n",
       "229   No  \n",
       "237  Yes  \n",
       "113  Yes  "
      ],
      "text/html": [
       "<div>\n",
       "<style scoped>\n",
       "    .dataframe tbody tr th:only-of-type {\n",
       "        vertical-align: middle;\n",
       "    }\n",
       "\n",
       "    .dataframe tbody tr th {\n",
       "        vertical-align: top;\n",
       "    }\n",
       "\n",
       "    .dataframe thead th {\n",
       "        text-align: right;\n",
       "    }\n",
       "</style>\n",
       "<table border=\"1\" class=\"dataframe\">\n",
       "  <thead>\n",
       "    <tr style=\"text-align: right;\">\n",
       "      <th></th>\n",
       "      <th>label</th>\n",
       "      <th>predict:</th>\n",
       "      <th>是否全對</th>\n",
       "    </tr>\n",
       "  </thead>\n",
       "  <tbody>\n",
       "    <tr>\n",
       "      <th>73</th>\n",
       "      <td>VISCOSE STAPLE FIBER</td>\n",
       "      <td>VISCOSE STAPLE FIBER15D</td>\n",
       "      <td>No</td>\n",
       "    </tr>\n",
       "    <tr>\n",
       "      <th>25</th>\n",
       "      <td>PACK</td>\n",
       "      <td>PACKAGING</td>\n",
       "      <td>No</td>\n",
       "    </tr>\n",
       "    <tr>\n",
       "      <th>45</th>\n",
       "      <td>BASE OIL 150N</td>\n",
       "      <td>BASE OIL 150N</td>\n",
       "      <td>Yes</td>\n",
       "    </tr>\n",
       "    <tr>\n",
       "      <th>77</th>\n",
       "      <td>EVA TAISOX 7350</td>\n",
       "      <td>EVA TAISOX 7350</td>\n",
       "      <td>Yes</td>\n",
       "    </tr>\n",
       "    <tr>\n",
       "      <th>109</th>\n",
       "      <td>DOP</td>\n",
       "      <td>DOP</td>\n",
       "      <td>Yes</td>\n",
       "    </tr>\n",
       "    <tr>\n",
       "      <th>78</th>\n",
       "      <td>EVA TAISOX 7350</td>\n",
       "      <td>EVA TAISOX 7350</td>\n",
       "      <td>Yes</td>\n",
       "    </tr>\n",
       "    <tr>\n",
       "      <th>75</th>\n",
       "      <td>TAISOX</td>\n",
       "      <td>TAISOX 7350</td>\n",
       "      <td>No</td>\n",
       "    </tr>\n",
       "    <tr>\n",
       "      <th>9</th>\n",
       "      <td>EVA TAISOX</td>\n",
       "      <td>EVA TAISOX</td>\n",
       "      <td>Yes</td>\n",
       "    </tr>\n",
       "    <tr>\n",
       "      <th>286</th>\n",
       "      <td>HDPE TAISOX</td>\n",
       "      <td>HDPE TAISOX</td>\n",
       "      <td>Yes</td>\n",
       "    </tr>\n",
       "    <tr>\n",
       "      <th>182</th>\n",
       "      <td>GASOIL</td>\n",
       "      <td>GASOIL</td>\n",
       "      <td>Yes</td>\n",
       "    </tr>\n",
       "    <tr>\n",
       "      <th>144</th>\n",
       "      <td>PVC SUSPENSION RESIN</td>\n",
       "      <td>PVC SUSPENSION RESIN</td>\n",
       "      <td>Yes</td>\n",
       "    </tr>\n",
       "    <tr>\n",
       "      <th>218</th>\n",
       "      <td>BASE OIL 150N</td>\n",
       "      <td>BASE OIL 150N</td>\n",
       "      <td>Yes</td>\n",
       "    </tr>\n",
       "    <tr>\n",
       "      <th>297</th>\n",
       "      <td>EVA TAISOX</td>\n",
       "      <td>EVA TAISOX</td>\n",
       "      <td>Yes</td>\n",
       "    </tr>\n",
       "    <tr>\n",
       "      <th>215</th>\n",
       "      <td>DOP</td>\n",
       "      <td>DOP</td>\n",
       "      <td>Yes</td>\n",
       "    </tr>\n",
       "    <tr>\n",
       "      <th>111</th>\n",
       "      <td>BASE OIL 500N</td>\n",
       "      <td>BASE OIL 500N</td>\n",
       "      <td>Yes</td>\n",
       "    </tr>\n",
       "    <tr>\n",
       "      <th>250</th>\n",
       "      <td>ABS RESIN</td>\n",
       "      <td>ABS RESIN</td>\n",
       "      <td>Yes</td>\n",
       "    </tr>\n",
       "    <tr>\n",
       "      <th>90</th>\n",
       "      <td>PVC RESIN S-60</td>\n",
       "      <td>PVC RESIN S-60</td>\n",
       "      <td>Yes</td>\n",
       "    </tr>\n",
       "    <tr>\n",
       "      <th>233</th>\n",
       "      <td>DOTP</td>\n",
       "      <td>DOTP</td>\n",
       "      <td>Yes</td>\n",
       "    </tr>\n",
       "    <tr>\n",
       "      <th>57</th>\n",
       "      <td>GASOIL</td>\n",
       "      <td>GASOIL</td>\n",
       "      <td>Yes</td>\n",
       "    </tr>\n",
       "    <tr>\n",
       "      <th>24</th>\n",
       "      <td>MONOETHYLENE GLYCOL MEG FIBER GRADE</td>\n",
       "      <td>MONOETHYLENE GLYCOL MEG FIBER GRADE</td>\n",
       "      <td>Yes</td>\n",
       "    </tr>\n",
       "    <tr>\n",
       "      <th>7</th>\n",
       "      <td>GASOIL</td>\n",
       "      <td>GASOIL</td>\n",
       "      <td>Yes</td>\n",
       "    </tr>\n",
       "    <tr>\n",
       "      <th>266</th>\n",
       "      <td>EVA TAISOX 7350</td>\n",
       "      <td>EVA TAISOX 7350</td>\n",
       "      <td>Yes</td>\n",
       "    </tr>\n",
       "    <tr>\n",
       "      <th>289</th>\n",
       "      <td>EVA TAISOX 7350</td>\n",
       "      <td>EVA TAISOX 7350</td>\n",
       "      <td>Yes</td>\n",
       "    </tr>\n",
       "    <tr>\n",
       "      <th>60</th>\n",
       "      <td>HDPE RESIN</td>\n",
       "      <td>HDPE RESIN</td>\n",
       "      <td>Yes</td>\n",
       "    </tr>\n",
       "    <tr>\n",
       "      <th>281</th>\n",
       "      <td>HDPE 8001</td>\n",
       "      <td>HDPE 8010</td>\n",
       "      <td>No</td>\n",
       "    </tr>\n",
       "    <tr>\n",
       "      <th>234</th>\n",
       "      <td>VISCOSE STAPLE FIBER</td>\n",
       "      <td>VISCOSE STAPLE FIBER15D</td>\n",
       "      <td>No</td>\n",
       "    </tr>\n",
       "    <tr>\n",
       "      <th>239</th>\n",
       "      <td>TAISOX 8001</td>\n",
       "      <td>TAISOX</td>\n",
       "      <td>No</td>\n",
       "    </tr>\n",
       "    <tr>\n",
       "      <th>76</th>\n",
       "      <td>TAISOX EVA</td>\n",
       "      <td>TAISOX EVA</td>\n",
       "      <td>Yes</td>\n",
       "    </tr>\n",
       "    <tr>\n",
       "      <th>63</th>\n",
       "      <td>BASE OIL 150N</td>\n",
       "      <td>BASE OIL 150N</td>\n",
       "      <td>Yes</td>\n",
       "    </tr>\n",
       "    <tr>\n",
       "      <th>175</th>\n",
       "      <td>TAISOX EVA</td>\n",
       "      <td>TAISOX EVA</td>\n",
       "      <td>Yes</td>\n",
       "    </tr>\n",
       "    <tr>\n",
       "      <th>238</th>\n",
       "      <td>TOTM</td>\n",
       "      <td>TOTM</td>\n",
       "      <td>Yes</td>\n",
       "    </tr>\n",
       "    <tr>\n",
       "      <th>17</th>\n",
       "      <td>PVC RESIN S-65D</td>\n",
       "      <td>PVC RESIN S-60</td>\n",
       "      <td>No</td>\n",
       "    </tr>\n",
       "    <tr>\n",
       "      <th>249</th>\n",
       "      <td>ABS RESIN</td>\n",
       "      <td>ABS RESIN</td>\n",
       "      <td>Yes</td>\n",
       "    </tr>\n",
       "    <tr>\n",
       "      <th>104</th>\n",
       "      <td>PVC MASS RESIN B-57</td>\n",
       "      <td>PVC MASS RESIN B-57</td>\n",
       "      <td>Yes</td>\n",
       "    </tr>\n",
       "    <tr>\n",
       "      <th>295</th>\n",
       "      <td>EVA TAISOX 7350</td>\n",
       "      <td>EVA TAISOX 7350</td>\n",
       "      <td>Yes</td>\n",
       "    </tr>\n",
       "    <tr>\n",
       "      <th>192</th>\n",
       "      <td>BASE OIL 150N</td>\n",
       "      <td>BASE OIL 150N</td>\n",
       "      <td>Yes</td>\n",
       "    </tr>\n",
       "    <tr>\n",
       "      <th>203</th>\n",
       "      <td>BASE OIL 500N</td>\n",
       "      <td>BASE OIL 500N</td>\n",
       "      <td>Yes</td>\n",
       "    </tr>\n",
       "    <tr>\n",
       "      <th>211</th>\n",
       "      <td>PACK</td>\n",
       "      <td>PACKAGING</td>\n",
       "      <td>No</td>\n",
       "    </tr>\n",
       "    <tr>\n",
       "      <th>46</th>\n",
       "      <td>BASE OIL 150N</td>\n",
       "      <td>BASE OIL 150N</td>\n",
       "      <td>Yes</td>\n",
       "    </tr>\n",
       "    <tr>\n",
       "      <th>278</th>\n",
       "      <td>INA</td>\n",
       "      <td>CHINA</td>\n",
       "      <td>No</td>\n",
       "    </tr>\n",
       "    <tr>\n",
       "      <th>93</th>\n",
       "      <td>BASE OIL</td>\n",
       "      <td>BASE OIL</td>\n",
       "      <td>Yes</td>\n",
       "    </tr>\n",
       "    <tr>\n",
       "      <th>196</th>\n",
       "      <td>HIGH DENSITY POLYETHYLENE</td>\n",
       "      <td>HIGH DENSITY POLYETHYLENE</td>\n",
       "      <td>Yes</td>\n",
       "    </tr>\n",
       "    <tr>\n",
       "      <th>164</th>\n",
       "      <td>EVA</td>\n",
       "      <td>EVA</td>\n",
       "      <td>Yes</td>\n",
       "    </tr>\n",
       "    <tr>\n",
       "      <th>231</th>\n",
       "      <td>PARAFFIN</td>\n",
       "      <td>PARAFFIN</td>\n",
       "      <td>Yes</td>\n",
       "    </tr>\n",
       "    <tr>\n",
       "      <th>92</th>\n",
       "      <td>EVA TAISOX</td>\n",
       "      <td>EVA TAISOX</td>\n",
       "      <td>Yes</td>\n",
       "    </tr>\n",
       "    <tr>\n",
       "      <th>180</th>\n",
       "      <td>GASOIL</td>\n",
       "      <td>GASOIL</td>\n",
       "      <td>Yes</td>\n",
       "    </tr>\n",
       "    <tr>\n",
       "      <th>42</th>\n",
       "      <td>HDPE TAISOX</td>\n",
       "      <td>HDPE TAISOX</td>\n",
       "      <td>Yes</td>\n",
       "    </tr>\n",
       "    <tr>\n",
       "      <th>148</th>\n",
       "      <td>PVC SUSPENSION RESIN</td>\n",
       "      <td>PVC SUSPENSION RESIN</td>\n",
       "      <td>Yes</td>\n",
       "    </tr>\n",
       "    <tr>\n",
       "      <th>119</th>\n",
       "      <td>EVA TAISOX</td>\n",
       "      <td>EVA TAISOX</td>\n",
       "      <td>Yes</td>\n",
       "    </tr>\n",
       "    <tr>\n",
       "      <th>165</th>\n",
       "      <td>ABS RESIN</td>\n",
       "      <td>ABS RESINS</td>\n",
       "      <td>No</td>\n",
       "    </tr>\n",
       "    <tr>\n",
       "      <th>152</th>\n",
       "      <td>PVC RESIN S-65</td>\n",
       "      <td>PVC RESIN S-65</td>\n",
       "      <td>Yes</td>\n",
       "    </tr>\n",
       "    <tr>\n",
       "      <th>157</th>\n",
       "      <td>BASE OIL 150N</td>\n",
       "      <td>BASE OIL 150N</td>\n",
       "      <td>Yes</td>\n",
       "    </tr>\n",
       "    <tr>\n",
       "      <th>97</th>\n",
       "      <td>PVC SUSPENSION RESIN S-70</td>\n",
       "      <td>PVC SUSPENSION RESIN S-70</td>\n",
       "      <td>Yes</td>\n",
       "    </tr>\n",
       "    <tr>\n",
       "      <th>226</th>\n",
       "      <td>VISCOSE STAPLE FIBER</td>\n",
       "      <td>VISCOSE STAPLE FIBER</td>\n",
       "      <td>Yes</td>\n",
       "    </tr>\n",
       "    <tr>\n",
       "      <th>5</th>\n",
       "      <td>HDPE TAISOX 8010</td>\n",
       "      <td>HDPE TAISOX 8010</td>\n",
       "      <td>Yes</td>\n",
       "    </tr>\n",
       "    <tr>\n",
       "      <th>33</th>\n",
       "      <td>PROCESS OIL</td>\n",
       "      <td>PROCESS OIL</td>\n",
       "      <td>Yes</td>\n",
       "    </tr>\n",
       "    <tr>\n",
       "      <th>221</th>\n",
       "      <td>EPOXY RESIN</td>\n",
       "      <td>EPOXY RESIN</td>\n",
       "      <td>Yes</td>\n",
       "    </tr>\n",
       "    <tr>\n",
       "      <th>229</th>\n",
       "      <td>BASE OIL 150N</td>\n",
       "      <td>BASE OIL 500N</td>\n",
       "      <td>No</td>\n",
       "    </tr>\n",
       "    <tr>\n",
       "      <th>237</th>\n",
       "      <td>EVA-7360M</td>\n",
       "      <td>EVA-7360M</td>\n",
       "      <td>Yes</td>\n",
       "    </tr>\n",
       "    <tr>\n",
       "      <th>113</th>\n",
       "      <td>EVA-7360M</td>\n",
       "      <td>EVA-7360M</td>\n",
       "      <td>Yes</td>\n",
       "    </tr>\n",
       "  </tbody>\n",
       "</table>\n",
       "</div>"
      ]
     },
     "metadata": {}
    }
   ],
   "metadata": {}
  },
  {
   "cell_type": "markdown",
   "source": [
    "# claculate acc and jaccard"
   ],
   "metadata": {}
  },
  {
   "cell_type": "code",
   "execution_count": 71,
   "source": [
    "def get_acc(df,t=1):\r\n",
    "    correct = []\r\n",
    "    correct_label = []\r\n",
    "    for i in df.index:\r\n",
    "        jac = get_jaccard_sim(df.loc[i,'label'],df.loc[i,'predict:'])\r\n",
    "        if jac >= t:\r\n",
    "            correct.append('yes')\r\n",
    "        else:\r\n",
    "            correct.append('no')\r\n",
    "    a = pd.Series(correct)\r\n",
    "    return a.value_counts()['yes']/len(a)"
   ],
   "outputs": [],
   "metadata": {}
  },
  {
   "cell_type": "code",
   "execution_count": 72,
   "source": [
    "print('jaccard_avg_score:',np.mean([ get_jaccard_sim(table['label'].loc[i],table['predict:'].loc[i]) for i in table.index]))\r\n",
    "print('acc:',get_acc(table,1))\r\n",
    "print('放水acc:',get_acc(table,0.75))"
   ],
   "outputs": [
    {
     "output_type": "stream",
     "name": "stdout",
     "text": [
      "jaccard_avg_score: 0.8777777777777779\n",
      "acc: 0.8166666666666667\n",
      "放水acc: 0.8166666666666667\n"
     ]
    }
   ],
   "metadata": {}
  },
  {
   "cell_type": "code",
   "execution_count": 73,
   "source": [
    "torch.save(model.state_dict(),'../models/Product_Data_SQuAD_model_產品.pt')"
   ],
   "outputs": [],
   "metadata": {}
  },
  {
   "cell_type": "code",
   "execution_count": null,
   "source": [],
   "outputs": [],
   "metadata": {}
  },
  {
   "cell_type": "code",
   "execution_count": null,
   "source": [],
   "outputs": [],
   "metadata": {}
  },
  {
   "cell_type": "code",
   "execution_count": null,
   "source": [],
   "outputs": [],
   "metadata": {}
  },
  {
   "cell_type": "code",
   "execution_count": null,
   "source": [],
   "outputs": [],
   "metadata": {}
  },
  {
   "cell_type": "code",
   "execution_count": null,
   "source": [],
   "outputs": [],
   "metadata": {}
  },
  {
   "cell_type": "code",
   "execution_count": null,
   "source": [],
   "outputs": [],
   "metadata": {}
  },
  {
   "cell_type": "code",
   "execution_count": null,
   "source": [],
   "outputs": [],
   "metadata": {}
  },
  {
   "cell_type": "code",
   "execution_count": null,
   "source": [],
   "outputs": [],
   "metadata": {}
  }
 ],
 "metadata": {
  "interpreter": {
   "hash": "2ccee5cc862501c1aad1cf19888c2a2eca4026b72d187db43d5e889cbdc6ee97"
  },
  "kernelspec": {
   "name": "python3",
   "display_name": "Python 3.8.5 64-bit ('base': conda)"
  },
  "language_info": {
   "codemirror_mode": {
    "name": "ipython",
    "version": 3
   },
   "file_extension": ".py",
   "mimetype": "text/x-python",
   "name": "python",
   "nbconvert_exporter": "python",
   "pygments_lexer": "ipython3",
   "version": "3.8.5"
  }
 },
 "nbformat": 4,
 "nbformat_minor": 2
}