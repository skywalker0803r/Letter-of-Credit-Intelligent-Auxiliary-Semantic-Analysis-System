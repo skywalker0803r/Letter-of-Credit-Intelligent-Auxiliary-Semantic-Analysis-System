{
 "cells": [
  {
   "cell_type": "code",
   "execution_count": 2,
   "metadata": {},
   "outputs": [],
   "source": [
    "# 讀取開狀人寶典,尾綴\n",
    "import pandas as pd\n",
    "開狀人寶典 = pd.read_csv('../data/寶典/開狀人寶典.csv')\n",
    "開狀人尾綴 = pd.read_csv('../data/寶典/開狀人尾綴.csv')"
   ]
  },
  {
   "cell_type": "code",
   "execution_count": 10,
   "metadata": {},
   "outputs": [
    {
     "data": {
      "text/plain": [
       "array(['CHUZHOU HANSHANG ELECTRICAL', 'HOA AN IMPORT EXPORT JOINT STOCK',\n",
       "       'POSCO INTERNATIONAL CORPORATION', ..., 'UNIEXCEL LTD',\n",
       "       'GEMMA KNITS THAILAND  COLTD', 'KEMIC JOINT STOCK COMPANY'],\n",
       "      dtype=object)"
      ]
     },
     "execution_count": 10,
     "metadata": {},
     "output_type": "execute_result"
    }
   ],
   "source": [
    "a = 開狀人寶典['開狀人'].values\n",
    "a"
   ]
  },
  {
   "cell_type": "code",
   "execution_count": 11,
   "metadata": {},
   "outputs": [
    {
     "data": {
      "text/plain": [
       "array(['OJUS PETROCHEMICALS LLPC',\n",
       "       'AHMED SAEED AFIFI FACTORY CO FORRESINS LTD',\n",
       "       'MINH KHANG CHEMICAL TRADINGJOINT', ..., 'MARUBENI INTEX COLTD121',\n",
       "       'PREMIER POLYFILM LTDA13',\n",
       "       'YASH PACKAGINGPLOT NO A22220 3RD PHASEGIDC VAPI VALSADGUJARAT396195'],\n",
       "      dtype=object)"
      ]
     },
     "execution_count": 11,
     "metadata": {},
     "output_type": "execute_result"
    }
   ],
   "source": [
    "EXPNO對應表 = pd.read_csv('..\\data\\對應表\\EXPNO對應表.csv')\n",
    "b = EXPNO對應表['開狀人'].values\n",
    "b"
   ]
  },
  {
   "cell_type": "code",
   "execution_count": 14,
   "metadata": {},
   "outputs": [
    {
     "data": {
      "text/plain": [
       "0.027758501040943788"
      ]
     },
     "execution_count": 14,
     "metadata": {},
     "output_type": "execute_result"
    }
   ],
   "source": [
    "len(set(a)&set(b))/len(a)"
   ]
  },
  {
   "cell_type": "code",
   "execution_count": null,
   "metadata": {},
   "outputs": [],
   "source": []
  }
 ],
 "metadata": {
  "interpreter": {
   "hash": "993826b923065dd66fa4bf5d15ab27fb473cbe0d9ee1e2a0f60195f6a60c263f"
  },
  "kernelspec": {
   "display_name": "Python 3.7.11 ('bert_env')",
   "language": "python",
   "name": "python3"
  },
  "language_info": {
   "codemirror_mode": {
    "name": "ipython",
    "version": 3
   },
   "file_extension": ".py",
   "mimetype": "text/x-python",
   "name": "python",
   "nbconvert_exporter": "python",
   "pygments_lexer": "ipython3",
   "version": "3.7.11"
  },
  "orig_nbformat": 4
 },
 "nbformat": 4,
 "nbformat_minor": 2
}
