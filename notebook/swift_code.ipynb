{
 "cells": [
  {
   "cell_type": "code",
   "execution_count": 54,
   "metadata": {},
   "outputs": [
    {
     "data": {
      "text/plain": [
       "0                  ICICI BANK LIMITED, VISAKHAPATNAM\n",
       "1                           YES BANK LIMITED, MUMBAI\n",
       "2                  ICICI BANK LIMITED, VISAKHAPATNAM\n",
       "3                  STATE BANK OF INDIA, YAMUNA NAGAR\n",
       "4                              AKBANK T.A.S., SAMSUN\n",
       "                            ...                     \n",
       "2422    BANGKOK BANK PUBLIC COMPANY LIMITED, BANGKOK\n",
       "2423                        COMMERZBANK AG, SHANGHAI\n",
       "2424                         HDFC BANK LIMITED, PUNE\n",
       "2425                        MIZUHO BANK, LTD., TOKYO\n",
       "2426                     INDUSIND BANK LIMITED, VAPI\n",
       "Name: bank_city, Length: 2427, dtype: object"
      ]
     },
     "execution_count": 54,
     "metadata": {},
     "output_type": "execute_result"
    }
   ],
   "source": [
    "import pandas as pd\n",
    "\n",
    "# Create mapping\n",
    "df = pd.read_csv('../data/寶典/SwiftCodes.csv')[['swift_code','bank_city']]\n",
    "df = df.dropna(axis=0)\n",
    "df['swift_code'] = df['swift_code'].apply(lambda x:str(x)[:8])\n",
    "swift_code_mapping = dict(zip(df.swift_code,df.bank_city))\n",
    "\n",
    "# load test_df\n",
    "test_df = pd.read_csv('../data/測試數據/0927到2022.csv')\n",
    "test_df['ltaddress的前八碼'] = test_df['LTADDRESS.1'].apply(lambda x:str(x)[:8])\n",
    "\n",
    "# exec\n",
    "def mapping_swift_code2bank_city(swift_code):\n",
    "    try:\n",
    "        return swift_code_mapping[swift_code]\n",
    "    except:\n",
    "        return None\n",
    "test_df['bank_city'] = test_df['ltaddress的前八碼'].apply(mapping_swift_code2bank_city)\n",
    "test_df['bank_city']"
   ]
  },
  {
   "cell_type": "code",
   "execution_count": null,
   "metadata": {},
   "outputs": [],
   "source": []
  }
 ],
 "metadata": {
  "interpreter": {
   "hash": "993826b923065dd66fa4bf5d15ab27fb473cbe0d9ee1e2a0f60195f6a60c263f"
  },
  "kernelspec": {
   "display_name": "Python 3.7.11 ('bert_env')",
   "language": "python",
   "name": "python3"
  },
  "language_info": {
   "codemirror_mode": {
    "name": "ipython",
    "version": 3
   },
   "file_extension": ".py",
   "mimetype": "text/x-python",
   "name": "python",
   "nbconvert_exporter": "python",
   "pygments_lexer": "ipython3",
   "version": "3.7.11"
  },
  "orig_nbformat": 4
 },
 "nbformat": 4,
 "nbformat_minor": 2
}
