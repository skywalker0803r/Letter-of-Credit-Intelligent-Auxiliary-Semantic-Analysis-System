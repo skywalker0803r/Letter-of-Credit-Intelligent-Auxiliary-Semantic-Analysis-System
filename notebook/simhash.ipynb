{
 "cells": [
  {
   "cell_type": "code",
   "execution_count": 94,
   "metadata": {},
   "outputs": [],
   "source": [
    "import re \n",
    "import requests\n",
    "import numpy as np\n",
    "import pandas as pd\n",
    "from tqdm import tqdm_notebook as tqdm\n",
    "from simhash import Simhash"
   ]
  },
  {
   "cell_type": "markdown",
   "metadata": {},
   "source": [
    "# 核心算法"
   ]
  },
  {
   "cell_type": "code",
   "execution_count": 95,
   "metadata": {},
   "outputs": [],
   "source": [
    "# MSKTS文本相似度比對算法\n",
    "url = 'https://gist.githubusercontent.com/skywalker0803r/7c00d680d731b99ab549dd40a96006ce/raw/d9bb060a42285053faa5227df521b43f381f1a0b/MSKTS.py'\n",
    "exec(requests.get(url).text)"
   ]
  },
  {
   "cell_type": "markdown",
   "metadata": {},
   "source": [
    "# help function"
   ]
  },
  {
   "cell_type": "code",
   "execution_count": 96,
   "metadata": {},
   "outputs": [],
   "source": [
    "# 保留英文字母\n",
    "def keep_alpha(str1): \n",
    "  char = \"\" \n",
    "  for x in str(str1):\n",
    "    if x.isalpha(): \n",
    "      char = \"\".join([char, x])\n",
    "  return char \n",
    "\n",
    "# 基於規則之關鍵字匹配算法\n",
    "def matching(sentence,database):\n",
    "  candidate_list = []\n",
    "  for word in database:\n",
    "    if word in sentence: \n",
    "      candidate_list.append(word)\n",
    "  return candidate_list\n",
    "\n",
    "# rule對出來的word若為其他word的子集則剔除\n",
    "def substringSieve(string_list):\n",
    "    string_list.sort(key=lambda s: len(s), reverse=True)\n",
    "    out = []\n",
    "    for s in string_list:\n",
    "      if not any([s in o for o in out]):\n",
    "        out.append(s)\n",
    "    return out\n",
    "\n",
    "# 輸入sentence前處理\n",
    "def preprocess_raw_sentence(x):\n",
    "  x = str(x).upper() # 轉大寫字串\n",
    "  x = re.sub('[\\u4e00-\\u9fa5]', '', x) # 去除中文\n",
    "  x = re.sub(r'[^\\w\\s]','',x) # 去除標點符號\n",
    "  x = x.replace('\\n', '').replace('\\r', '').replace('\\t', '') # 去除換行符號\n",
    "  str.strip(x) # 移除左右空白\n",
    "  x = x.replace('   ', ' ')# 去除三重空白\n",
    "  x = x.replace('  ', ' ')# 去除雙重空白\n",
    "  x = ' ' + x + ' '# 出現在頭的 就不可能對到前後加空格的 這種情形要想想怎麼對照(加上左右空白)\n",
    "  return x\n",
    "\n",
    "# 產品後處理\n",
    "def product_name_postprocess(x):\n",
    "  x = str(x).upper() # 轉大寫字串\n",
    "  x = x.replace('-','')# 去除標點符號\n",
    "  x = x.replace('.','')# 去除標點符號\n",
    "  x = x.replace(',','')# 去除標點符號\n",
    "  x = x.strip() # 去除空白\n",
    "  return x\n",
    "\n",
    "# 基於關鍵字比對方法的預測函數\n",
    "def predict_keyword(title,test_df,Unrecognized,input_col,database,output_col):\n",
    "  result = []\n",
    "  for i in tqdm(test_df.index):\n",
    "    candidate_list = matching(\n",
    "        sentence = test_df.loc[i,input_col],\n",
    "        database = set(database) - set(Unrecognized)\n",
    "        )\n",
    "    result.append(substringSieve(candidate_list))\n",
    "  test_df[output_col] = result\n",
    "  return test_df"
   ]
  },
  {
   "cell_type": "markdown",
   "metadata": {},
   "source": [
    "# 載入數據\n"
   ]
  },
  {
   "cell_type": "code",
   "execution_count": 97,
   "metadata": {},
   "outputs": [],
   "source": [
    "# 資料庫\n",
    "database = pd.read_excel('../data/combined_excel.xlsx')\n",
    "# 測試數據\n",
    "test_data = pd.read_csv('../data/測試數據/0927到2022.csv')\n",
    "\n",
    "# 讀取產品名資料庫\n",
    "品名寶典 = pd.read_excel('../data/寶典/寶典人工處理後/寶典.v8.202111202.xlsx',engine='openpyxl')[['CODIV','DIVNM','ITEMNM']]\n",
    "品名寶典 = 品名寶典.rename(columns={'ITEMNM':'品名','DIVNM':'公司事業部門','CODIV':'公司代號'})\n",
    "品名寶典['品名'] = 品名寶典['品名'].apply(lambda x:product_name_postprocess(x))\n",
    "\n",
    "# 讀取開狀人資料庫\n",
    "開狀人寶典 = pd.read_csv('../data/寶典/開狀人寶典.csv')\n",
    "\n",
    "# 讀取公司寶典\n",
    "公司寶典 = pd.read_csv('../data/寶典/公司寶典加尾綴.csv')"
   ]
  },
  {
   "cell_type": "markdown",
   "metadata": {},
   "source": [
    "# 按照時間排序資料"
   ]
  },
  {
   "cell_type": "code",
   "execution_count": 98,
   "metadata": {},
   "outputs": [],
   "source": [
    "def sort_by_form(df):\n",
    "    df = df.sort_values(by='from')\n",
    "    df = df.reset_index(drop=True)\n",
    "    return df\n",
    "database = sort_by_form(database)\n",
    "test_data = sort_by_form(test_data)"
   ]
  },
  {
   "cell_type": "markdown",
   "metadata": {},
   "source": [
    "# 預處理函數"
   ]
  },
  {
   "cell_type": "code",
   "execution_count": 99,
   "metadata": {},
   "outputs": [],
   "source": [
    "產品名輸入 = '45A' #產品名\n",
    "開狀人輸入 = '50' #開狀人\n",
    "受益人輸入 = '59' #受益人\n",
    "開狀銀行輸入 = 'LTADDRESS.1' #銀行輸入\n",
    "輸出欄位 = ['產品名','開狀人','受益人','開狀銀行']\n",
    "輸入欄位 = ['45A','50','59','LTADDRESS.1']\n",
    "# 針對模型輸入做預處理\n",
    "def 預處理(df):\n",
    "  產品名輸入 = '45A' #產品名\n",
    "  開狀人輸入 = '50' #開狀人\n",
    "  受益人輸入 = '59' #受益人\n",
    "  開狀銀行輸入 = 'LTADDRESS.1' #銀行輸入\n",
    "  for i in [產品名輸入,開狀人輸入,受益人輸入]:\n",
    "    df[i] = df[i].apply(lambda x:preprocess_raw_sentence(x))\n",
    "  return df"
   ]
  },
  {
   "cell_type": "markdown",
   "metadata": {},
   "source": [
    "# 抽特徵函數"
   ]
  },
  {
   "cell_type": "code",
   "execution_count": 100,
   "metadata": {},
   "outputs": [],
   "source": [
    "def 抽特徵(df):\n",
    "  # 1.預測產品\n",
    "  df = predict_keyword(\n",
    "      title = '正在預測產品',\n",
    "      test_df = df,\n",
    "      Unrecognized = ['PE','MA','EA','GRADE','INA','PACK','PP','PA','',' '],\n",
    "      input_col = 產品名輸入,\n",
    "      database = 品名寶典['品名'].values.tolist(),\n",
    "      output_col = '產品名',\n",
    "      )\n",
    "\n",
    "  # 2.預測開狀人\n",
    "  df = predict_keyword(\n",
    "      title = '正在預測開狀人',\n",
    "      test_df = df,\n",
    "      Unrecognized = ['',' '],\n",
    "      input_col = 開狀人輸入,\n",
    "      database = 開狀人寶典['開狀人'].values.tolist(),\n",
    "      output_col = '開狀人',\n",
    "      )\n",
    "\n",
    "  # 3.預測公司\n",
    "  df = predict_keyword(\n",
    "      title = '正在預測受益人',\n",
    "      test_df = df,\n",
    "      Unrecognized = ['',' '],\n",
    "      input_col = 受益人輸入,\n",
    "      database = 公司寶典['公司英文名稱'].values.tolist(),\n",
    "      output_col = '受益人',\n",
    "      )\n",
    "\n",
    "  # 4.預測銀行\n",
    "  df['開狀銀行'] = df[開狀銀行輸入].apply(lambda x:str(x)[:8])\n",
    "  return df"
   ]
  },
  {
   "cell_type": "code",
   "execution_count": 101,
   "metadata": {},
   "outputs": [
    {
     "name": "stderr",
     "output_type": "stream",
     "text": [
      "C:\\Users\\ricky\\anaconda3\\envs\\bert_env\\lib\\site-packages\\ipykernel_launcher.py:50: TqdmDeprecationWarning: This function will be removed in tqdm==5.0.0\n",
      "Please use `tqdm.notebook.tqdm` instead of `tqdm.tqdm_notebook`\n"
     ]
    },
    {
     "data": {
      "application/vnd.jupyter.widget-view+json": {
       "model_id": "2e884bfb557443eeb1f66ac9b4629087",
       "version_major": 2,
       "version_minor": 0
      },
      "text/plain": [
       "  0%|          | 0/20737 [00:00<?, ?it/s]"
      ]
     },
     "metadata": {},
     "output_type": "display_data"
    },
    {
     "data": {
      "application/vnd.jupyter.widget-view+json": {
       "model_id": "4abbd5a3f0b3402aa557490c4acf0964",
       "version_major": 2,
       "version_minor": 0
      },
      "text/plain": [
       "  0%|          | 0/20737 [00:00<?, ?it/s]"
      ]
     },
     "metadata": {},
     "output_type": "display_data"
    },
    {
     "data": {
      "application/vnd.jupyter.widget-view+json": {
       "model_id": "8d6094ae34424447b003ca49a8c1a043",
       "version_major": 2,
       "version_minor": 0
      },
      "text/plain": [
       "  0%|          | 0/20737 [00:00<?, ?it/s]"
      ]
     },
     "metadata": {},
     "output_type": "display_data"
    },
    {
     "data": {
      "text/html": [
       "<div>\n",
       "<style scoped>\n",
       "    .dataframe tbody tr th:only-of-type {\n",
       "        vertical-align: middle;\n",
       "    }\n",
       "\n",
       "    .dataframe tbody tr th {\n",
       "        vertical-align: top;\n",
       "    }\n",
       "\n",
       "    .dataframe thead th {\n",
       "        text-align: right;\n",
       "    }\n",
       "</style>\n",
       "<table border=\"1\" class=\"dataframe\">\n",
       "  <thead>\n",
       "    <tr style=\"text-align: right;\">\n",
       "      <th></th>\n",
       "      <th>產品名</th>\n",
       "      <th>開狀人</th>\n",
       "      <th>受益人</th>\n",
       "      <th>開狀銀行</th>\n",
       "    </tr>\n",
       "  </thead>\n",
       "  <tbody>\n",
       "    <tr>\n",
       "      <th>0</th>\n",
       "      <td>[NAN]</td>\n",
       "      <td>[]</td>\n",
       "      <td>[]</td>\n",
       "      <td>BKTWTWT0</td>\n",
       "    </tr>\n",
       "    <tr>\n",
       "      <th>1</th>\n",
       "      <td>[NAN]</td>\n",
       "      <td>[]</td>\n",
       "      <td>[]</td>\n",
       "      <td>BKTWTWT0</td>\n",
       "    </tr>\n",
       "    <tr>\n",
       "      <th>2</th>\n",
       "      <td>[NAN]</td>\n",
       "      <td>[]</td>\n",
       "      <td>[]</td>\n",
       "      <td>BKTWTWT0</td>\n",
       "    </tr>\n",
       "    <tr>\n",
       "      <th>3</th>\n",
       "      <td>[NAN]</td>\n",
       "      <td>[]</td>\n",
       "      <td>[]</td>\n",
       "      <td>BKTWTWT0</td>\n",
       "    </tr>\n",
       "    <tr>\n",
       "      <th>4</th>\n",
       "      <td>[NAN]</td>\n",
       "      <td>[]</td>\n",
       "      <td>[]</td>\n",
       "      <td>BKTWTWT0</td>\n",
       "    </tr>\n",
       "  </tbody>\n",
       "</table>\n",
       "</div>"
      ],
      "text/plain": [
       "     產品名 開狀人 受益人      開狀銀行\n",
       "0  [NAN]  []  []  BKTWTWT0\n",
       "1  [NAN]  []  []  BKTWTWT0\n",
       "2  [NAN]  []  []  BKTWTWT0\n",
       "3  [NAN]  []  []  BKTWTWT0\n",
       "4  [NAN]  []  []  BKTWTWT0"
      ]
     },
     "execution_count": 101,
     "metadata": {},
     "output_type": "execute_result"
    }
   ],
   "source": [
    "# 準備訓練資料\n",
    "train_data = database\n",
    "train_data = 抽特徵(預處理(train_data))\n",
    "train_data[輸出欄位].head()"
   ]
  },
  {
   "cell_type": "code",
   "execution_count": 102,
   "metadata": {},
   "outputs": [
    {
     "name": "stderr",
     "output_type": "stream",
     "text": [
      "C:\\Users\\ricky\\anaconda3\\envs\\bert_env\\lib\\site-packages\\ipykernel_launcher.py:50: TqdmDeprecationWarning: This function will be removed in tqdm==5.0.0\n",
      "Please use `tqdm.notebook.tqdm` instead of `tqdm.tqdm_notebook`\n"
     ]
    },
    {
     "data": {
      "application/vnd.jupyter.widget-view+json": {
       "model_id": "2b95bb5c529148ad925cf3470cd39280",
       "version_major": 2,
       "version_minor": 0
      },
      "text/plain": [
       "  0%|          | 0/2427 [00:00<?, ?it/s]"
      ]
     },
     "metadata": {},
     "output_type": "display_data"
    },
    {
     "data": {
      "application/vnd.jupyter.widget-view+json": {
       "model_id": "b8b48ed65dcd4463abdee3a9341b1324",
       "version_major": 2,
       "version_minor": 0
      },
      "text/plain": [
       "  0%|          | 0/2427 [00:00<?, ?it/s]"
      ]
     },
     "metadata": {},
     "output_type": "display_data"
    },
    {
     "data": {
      "application/vnd.jupyter.widget-view+json": {
       "model_id": "68969948a8de4a21bbfd4329883b2a7a",
       "version_major": 2,
       "version_minor": 0
      },
      "text/plain": [
       "  0%|          | 0/2427 [00:00<?, ?it/s]"
      ]
     },
     "metadata": {},
     "output_type": "display_data"
    },
    {
     "data": {
      "text/html": [
       "<div>\n",
       "<style scoped>\n",
       "    .dataframe tbody tr th:only-of-type {\n",
       "        vertical-align: middle;\n",
       "    }\n",
       "\n",
       "    .dataframe tbody tr th {\n",
       "        vertical-align: top;\n",
       "    }\n",
       "\n",
       "    .dataframe thead th {\n",
       "        text-align: right;\n",
       "    }\n",
       "</style>\n",
       "<table border=\"1\" class=\"dataframe\">\n",
       "  <thead>\n",
       "    <tr style=\"text-align: right;\">\n",
       "      <th></th>\n",
       "      <th>產品名</th>\n",
       "      <th>開狀人</th>\n",
       "      <th>受益人</th>\n",
       "      <th>開狀銀行</th>\n",
       "    </tr>\n",
       "  </thead>\n",
       "  <tbody>\n",
       "    <tr>\n",
       "      <th>0</th>\n",
       "      <td>[PVC SUSPENSION RESIN]</td>\n",
       "      <td>[DEEP JYOTI WAX TRADERS]</td>\n",
       "      <td>[FORMOSA PLASTICS]</td>\n",
       "      <td>ICICINBB</td>\n",
       "    </tr>\n",
       "    <tr>\n",
       "      <th>1</th>\n",
       "      <td>[MONO ETHYLENE GLYCOL MEG]</td>\n",
       "      <td>[CHEMNEWS CORP]</td>\n",
       "      <td>[NAN YA PLASTICS]</td>\n",
       "      <td>CZNBKRSE</td>\n",
       "    </tr>\n",
       "    <tr>\n",
       "      <th>2</th>\n",
       "      <td>[MONO ETHYLENE GLYCOL MEG]</td>\n",
       "      <td>[CHEMNEWS CORP]</td>\n",
       "      <td>[NAN YA PLASTICS]</td>\n",
       "      <td>CZNBKRSE</td>\n",
       "    </tr>\n",
       "    <tr>\n",
       "      <th>3</th>\n",
       "      <td>[PVC SUSPENSION RESIN]</td>\n",
       "      <td>[GOVERDHAN ENERGY]</td>\n",
       "      <td>[FORMOSA PLASTICS]</td>\n",
       "      <td>INDBINBB</td>\n",
       "    </tr>\n",
       "    <tr>\n",
       "      <th>4</th>\n",
       "      <td>[PVC TRANSPARENT SHEET]</td>\n",
       "      <td>[SOJITZ CORPORATION]</td>\n",
       "      <td>[NAN YA PLASTICS]</td>\n",
       "      <td>BOTKJPJT</td>\n",
       "    </tr>\n",
       "  </tbody>\n",
       "</table>\n",
       "</div>"
      ],
      "text/plain": [
       "                          產品名                       開狀人                 受益人  \\\n",
       "0      [PVC SUSPENSION RESIN]  [DEEP JYOTI WAX TRADERS]  [FORMOSA PLASTICS]   \n",
       "1  [MONO ETHYLENE GLYCOL MEG]           [CHEMNEWS CORP]   [NAN YA PLASTICS]   \n",
       "2  [MONO ETHYLENE GLYCOL MEG]           [CHEMNEWS CORP]   [NAN YA PLASTICS]   \n",
       "3      [PVC SUSPENSION RESIN]        [GOVERDHAN ENERGY]  [FORMOSA PLASTICS]   \n",
       "4     [PVC TRANSPARENT SHEET]      [SOJITZ CORPORATION]   [NAN YA PLASTICS]   \n",
       "\n",
       "       開狀銀行  \n",
       "0  ICICINBB  \n",
       "1  CZNBKRSE  \n",
       "2  CZNBKRSE  \n",
       "3  INDBINBB  \n",
       "4  BOTKJPJT  "
      ]
     },
     "execution_count": 102,
     "metadata": {},
     "output_type": "execute_result"
    }
   ],
   "source": [
    "# 準備測試資料\n",
    "test_data = 抽特徵(預處理(test_data))\n",
    "\n",
    "test_data[輸出欄位].head()"
   ]
  },
  {
   "cell_type": "markdown",
   "metadata": {},
   "source": [
    "# 模型測試"
   ]
  },
  {
   "cell_type": "code",
   "execution_count": 103,
   "metadata": {},
   "outputs": [],
   "source": [
    "def 根據特定欄位和索引給出候選答案清單(col,idx,k,database_size=100,database=None,test_data=None):\n",
    "  # 預處理\n",
    "  database['處理過的資料'] = (database[col]).apply(keep_alpha)\n",
    "  test_data['處理過的資料'] = (test_data[col]).apply(keep_alpha)\n",
    "  # 建立模型\n",
    "  model = MSKTS()\n",
    "  model.fit(database['處理過的資料'].sample(database_size).values.tolist())\n",
    "  # 產生預測答案清單\n",
    "  output = model.predict(test_data['處理過的資料'][idx],k=k)\n",
    "  output = [i[0] for i in output]\n",
    "  預測答案清單 = database.loc[database['處理過的資料'].isin(output),'EXPNO'].dropna().apply(lambda x:str(x)[:2]).values.tolist()\n",
    "  return 預測答案清單"
   ]
  },
  {
   "cell_type": "markdown",
   "metadata": {},
   "source": [
    "# 正確率"
   ]
  },
  {
   "cell_type": "code",
   "execution_count": 104,
   "metadata": {},
   "outputs": [
    {
     "name": "stderr",
     "output_type": "stream",
     "text": [
      "C:\\Users\\ricky\\anaconda3\\envs\\bert_env\\lib\\site-packages\\ipykernel_launcher.py:2: TqdmDeprecationWarning: This function will be removed in tqdm==5.0.0\n",
      "Please use `tqdm.notebook.tqdm` instead of `tqdm.tqdm_notebook`\n",
      "  \n"
     ]
    },
    {
     "data": {
      "application/vnd.jupyter.widget-view+json": {
       "model_id": "ee1f26e8673f43d3ab6b63ef2ad7edfb",
       "version_major": 2,
       "version_minor": 0
      },
      "text/plain": [
       "  0%|          | 0/10 [00:00<?, ?it/s]"
      ]
     },
     "metadata": {},
     "output_type": "display_data"
    },
    {
     "name": "stdout",
     "output_type": "stream",
     "text": [
      "正確率: 0.7\n"
     ]
    }
   ],
   "source": [
    "correct = []\n",
    "for idx in tqdm(range(10)):\n",
    "  o1 = 根據特定欄位和索引給出候選答案清單(\n",
    "    col='產品名',idx=idx,k=3,database_size=len(database),database=database,test_data=test_data)\n",
    "  o2 = 根據特定欄位和索引給出候選答案清單(\n",
    "    col='開狀人',idx=idx,k=3,database_size=len(database),database=database,test_data=test_data)\n",
    "  o3 = 根據特定欄位和索引給出候選答案清單(\n",
    "    col='受益人',idx=idx,k=3,database_size=len(database),database=database,test_data=test_data)\n",
    "  o4 = 根據特定欄位和索引給出候選答案清單(\n",
    "    col='開狀銀行',idx=idx,k=3,database_size=len(database),database=database,test_data=test_data)\n",
    "  o = o1#+o2+o3#+o4\n",
    "  ensemble_output = max(o,key=o.count)\n",
    "  if ensemble_output == test_data['推薦公司事業部'][idx]:\n",
    "    correct.append(True)\n",
    "  else:\n",
    "    correct.append(False)\n",
    "print('正確率:',np.mean(correct))"
   ]
  },
  {
   "cell_type": "markdown",
   "metadata": {},
   "source": [
    "# 觀察不同資料筆數 對正確率的影響"
   ]
  },
  {
   "cell_type": "code",
   "execution_count": 105,
   "metadata": {},
   "outputs": [],
   "source": [
    "def 目標函數(database_size):\n",
    "  correct = []\n",
    "  for idx in tqdm(range(10)):\n",
    "    o1 = 根據特定欄位和索引給出候選答案清單(\n",
    "      col='產品名',idx=idx,k=3,database_size=database_size,database=database,test_data=test_data)\n",
    "    o2 = 根據特定欄位和索引給出候選答案清單(\n",
    "      col='開狀人',idx=idx,k=3,database_size=database_size,database=database,test_data=test_data)\n",
    "    o3 = 根據特定欄位和索引給出候選答案清單(\n",
    "      col='受益人',idx=idx,k=3,database_size=database_size,database=database,test_data=test_data)\n",
    "    o4 = 根據特定欄位和索引給出候選答案清單(\n",
    "      col='開狀銀行',idx=idx,k=3,database_size=database_size,database=database,test_data=test_data)\n",
    "    o = o1#+o2+o3+o4\n",
    "    try:\n",
    "      ensemble_output = max(o,key=o.count)\n",
    "    except:\n",
    "      ensemble_output = 'not find'\n",
    "    if ensemble_output == test_data['推薦公司事業部'][idx]:\n",
    "      correct.append(True)\n",
    "    else:\n",
    "      correct.append(False)\n",
    "  return np.mean(correct)"
   ]
  },
  {
   "cell_type": "code",
   "execution_count": 106,
   "metadata": {},
   "outputs": [
    {
     "name": "stderr",
     "output_type": "stream",
     "text": [
      "C:\\Users\\ricky\\anaconda3\\envs\\bert_env\\lib\\site-packages\\ipykernel_launcher.py:3: TqdmDeprecationWarning: This function will be removed in tqdm==5.0.0\n",
      "Please use `tqdm.notebook.tqdm` instead of `tqdm.tqdm_notebook`\n",
      "  This is separate from the ipykernel package so we can avoid doing imports until\n"
     ]
    },
    {
     "data": {
      "application/vnd.jupyter.widget-view+json": {
       "model_id": "4f4c48118ac64099a2bca416d1818d08",
       "version_major": 2,
       "version_minor": 0
      },
      "text/plain": [
       "  0%|          | 0/10 [00:00<?, ?it/s]"
      ]
     },
     "metadata": {},
     "output_type": "display_data"
    },
    {
     "data": {
      "application/vnd.jupyter.widget-view+json": {
       "model_id": "5991474b346944038e71098754722642",
       "version_major": 2,
       "version_minor": 0
      },
      "text/plain": [
       "  0%|          | 0/10 [00:00<?, ?it/s]"
      ]
     },
     "metadata": {},
     "output_type": "display_data"
    },
    {
     "data": {
      "application/vnd.jupyter.widget-view+json": {
       "model_id": "fe19a02fd7064c0da634fac39a618d8e",
       "version_major": 2,
       "version_minor": 0
      },
      "text/plain": [
       "  0%|          | 0/10 [00:00<?, ?it/s]"
      ]
     },
     "metadata": {},
     "output_type": "display_data"
    },
    {
     "data": {
      "application/vnd.jupyter.widget-view+json": {
       "model_id": "ab5368d8f4dc47a59586351062397e52",
       "version_major": 2,
       "version_minor": 0
      },
      "text/plain": [
       "  0%|          | 0/10 [00:00<?, ?it/s]"
      ]
     },
     "metadata": {},
     "output_type": "display_data"
    },
    {
     "data": {
      "application/vnd.jupyter.widget-view+json": {
       "model_id": "f416ba8daa4f40d0a1033c461d87a6b4",
       "version_major": 2,
       "version_minor": 0
      },
      "text/plain": [
       "  0%|          | 0/10 [00:00<?, ?it/s]"
      ]
     },
     "metadata": {},
     "output_type": "display_data"
    }
   ],
   "source": [
    "x = [\n",
    "    10,\n",
    "    100,\n",
    "    1000,\n",
    "    10000,\n",
    "    len(database)\n",
    "    ]\n",
    "y = [目標函數(i) for i in x]\n"
   ]
  },
  {
   "cell_type": "code",
   "execution_count": 107,
   "metadata": {},
   "outputs": [
    {
     "name": "stdout",
     "output_type": "stream",
     "text": [
      "[10, 100, 1000, 10000, 20737] [0.2, 0.6, 0.6, 0.7, 0.7]\n"
     ]
    },
    {
     "data": {
      "image/png": "[encoded data removed]",
      "text/plain": [
       "<Figure size 432x288 with 1 Axes>"
      ]
     },
     "metadata": {
      "needs_background": "light"
     },
     "output_type": "display_data"
    }
   ],
   "source": [
    "import matplotlib.pyplot as plt\n",
    "print(x,y)\n",
    "fig = plt.figure()\n",
    "ax = fig.add_axes([0,0,1,1])\n",
    "ax.bar([str(i) for i in x],y)\n",
    "plt.show()"
   ]
  },
  {
   "cell_type": "markdown",
   "metadata": {},
   "source": [
    "# 滾動式預測"
   ]
  },
  {
   "cell_type": "code",
   "execution_count": 108,
   "metadata": {},
   "outputs": [],
   "source": [
    "def 目標函數(database_size):\n",
    "  correct = []\n",
    "  for idx in tqdm(range(len(test_data)-10,len(test_data),1)):\n",
    "    can_add_data = test_data[test_data['from'] < test_data.loc[idx,'from']] #此時間以前\n",
    "    can_add_data = can_add_data.rename(columns={'推薦公司事業部':'EXPNO'}) #統一命名\n",
    "    can_add_data = can_add_data[輸入欄位+輸出欄位+['EXPNO']] #保留必要欄位\n",
    "    \n",
    "    o1 = 根據特定欄位和索引給出候選答案清單(\n",
    "      col='產品名',idx=idx,k=3,\n",
    "      database_size=database_size,\n",
    "      database=database.append(can_add_data),\n",
    "      test_data=test_data)\n",
    "    \n",
    "    o2 = 根據特定欄位和索引給出候選答案清單(\n",
    "      col='開狀人',idx=idx,k=3,\n",
    "      database_size=database_size,\n",
    "      database=database.append(can_add_data),\n",
    "      test_data=test_data)\n",
    "    \n",
    "    o3 = 根據特定欄位和索引給出候選答案清單(\n",
    "      col='受益人',idx=idx,k=3,\n",
    "      database_size=database_size,\n",
    "      database=database.append(can_add_data),\n",
    "      test_data=test_data)\n",
    "    \n",
    "    o4 = 根據特定欄位和索引給出候選答案清單(\n",
    "      col='開狀銀行',idx=idx,k=3,\n",
    "      database_size=database_size,\n",
    "      database=database.append(can_add_data),\n",
    "      test_data=test_data)\n",
    "    \n",
    "    o = o1#+o2+o3+o4\n",
    "    \n",
    "    try:\n",
    "      ensemble_output = max(o,key=o.count)\n",
    "    except:\n",
    "      ensemble_output = 'not find'\n",
    "    \n",
    "    if ensemble_output == test_data['推薦公司事業部'][idx]:\n",
    "      correct.append(True)\n",
    "    else:\n",
    "      correct.append(False)\n",
    "  \n",
    "  return np.mean(correct)"
   ]
  },
  {
   "cell_type": "code",
   "execution_count": 109,
   "metadata": {},
   "outputs": [
    {
     "name": "stderr",
     "output_type": "stream",
     "text": [
      "C:\\Users\\ricky\\anaconda3\\envs\\bert_env\\lib\\site-packages\\ipykernel_launcher.py:3: TqdmDeprecationWarning: This function will be removed in tqdm==5.0.0\n",
      "Please use `tqdm.notebook.tqdm` instead of `tqdm.tqdm_notebook`\n",
      "  This is separate from the ipykernel package so we can avoid doing imports until\n"
     ]
    },
    {
     "data": {
      "application/vnd.jupyter.widget-view+json": {
       "model_id": "657529d7a2de4ead9540f1e714f8e148",
       "version_major": 2,
       "version_minor": 0
      },
      "text/plain": [
       "  0%|          | 0/10 [00:00<?, ?it/s]"
      ]
     },
     "metadata": {},
     "output_type": "display_data"
    },
    {
     "data": {
      "application/vnd.jupyter.widget-view+json": {
       "model_id": "bffd88b7631d4a9887a485c995200e5b",
       "version_major": 2,
       "version_minor": 0
      },
      "text/plain": [
       "  0%|          | 0/10 [00:00<?, ?it/s]"
      ]
     },
     "metadata": {},
     "output_type": "display_data"
    },
    {
     "data": {
      "application/vnd.jupyter.widget-view+json": {
       "model_id": "a79c2b9a5a404367a5079659c9236e04",
       "version_major": 2,
       "version_minor": 0
      },
      "text/plain": [
       "  0%|          | 0/10 [00:00<?, ?it/s]"
      ]
     },
     "metadata": {},
     "output_type": "display_data"
    },
    {
     "data": {
      "application/vnd.jupyter.widget-view+json": {
       "model_id": "ed8127bbfdad4ffebe48a4f2d69d86ba",
       "version_major": 2,
       "version_minor": 0
      },
      "text/plain": [
       "  0%|          | 0/10 [00:00<?, ?it/s]"
      ]
     },
     "metadata": {},
     "output_type": "display_data"
    },
    {
     "data": {
      "application/vnd.jupyter.widget-view+json": {
       "model_id": "5065d36a6a524ef890db847973c92ace",
       "version_major": 2,
       "version_minor": 0
      },
      "text/plain": [
       "  0%|          | 0/10 [00:00<?, ?it/s]"
      ]
     },
     "metadata": {},
     "output_type": "display_data"
    }
   ],
   "source": [
    "x = [\n",
    "    10,\n",
    "    100,\n",
    "    1000,\n",
    "    10000,\n",
    "    len(database)\n",
    "    ]\n",
    "y = [目標函數(i) for i in x]\n"
   ]
  },
  {
   "cell_type": "code",
   "execution_count": 113,
   "metadata": {},
   "outputs": [
    {
     "name": "stdout",
     "output_type": "stream",
     "text": [
      "[10, 100, 1000, 10000, 20737] [0.2, 0.3, 0.5, 0.6, 0.6]\n"
     ]
    },
    {
     "data": {
      "image/png": "[encoded data removed]",
      "text/plain": [
       "<Figure size 432x288 with 1 Axes>"
      ]
     },
     "metadata": {
      "needs_background": "light"
     },
     "output_type": "display_data"
    }
   ],
   "source": [
    "import matplotlib.pyplot as plt\n",
    "print(x,y)\n",
    "fig = plt.figure()\n",
    "ax = fig.add_axes([0,0,1,1])\n",
    "ax.bar([str(i) for i in x],y)\n",
    "plt.show()"
   ]
  },
  {
   "cell_type": "code",
   "execution_count": null,
   "metadata": {},
   "outputs": [],
   "source": []
  }
 ],
 "metadata": {
  "interpreter": {
   "hash": "993826b923065dd66fa4bf5d15ab27fb473cbe0d9ee1e2a0f60195f6a60c263f"
  },
  "kernelspec": {
   "display_name": "Python 3.7.11 ('bert_env')",
   "language": "python",
   "name": "python3"
  },
  "language_info": {
   "codemirror_mode": {
    "name": "ipython",
    "version": 3
   },
   "file_extension": ".py",
   "mimetype": "text/x-python",
   "name": "python",
   "nbconvert_exporter": "python",
   "pygments_lexer": "ipython3",
   "version": "3.7.11"
  },
  "orig_nbformat": 4
 },
 "nbformat": 4,
 "nbformat_minor": 2
}
