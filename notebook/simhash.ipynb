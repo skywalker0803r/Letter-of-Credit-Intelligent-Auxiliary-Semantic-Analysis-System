{
 "cells": [
  {
   "cell_type": "code",
   "execution_count": 18,
   "metadata": {},
   "outputs": [],
   "source": [
    "import re \n",
    "import requests\n",
    "import numpy as np\n",
    "import pandas as pd\n",
    "from tqdm import tqdm_notebook as tqdm\n",
    "from simhash import Simhash\n",
    "import matplotlib.pyplot as plt"
   ]
  },
  {
   "cell_type": "markdown",
   "metadata": {},
   "source": [
    "# 核心算法"
   ]
  },
  {
   "cell_type": "code",
   "execution_count": 19,
   "metadata": {},
   "outputs": [],
   "source": [
    "# MSKTS文本相似度比對算法\n",
    "url = 'https://gist.githubusercontent.com/skywalker0803r/7c00d680d731b99ab549dd40a96006ce/raw/d9bb060a42285053faa5227df521b43f381f1a0b/MSKTS.py'\n",
    "exec(requests.get(url).text)"
   ]
  },
  {
   "cell_type": "markdown",
   "metadata": {},
   "source": [
    "# help function"
   ]
  },
  {
   "cell_type": "code",
   "execution_count": 20,
   "metadata": {},
   "outputs": [],
   "source": [
    "# 保留英文字母\n",
    "def keep_alpha(str1): \n",
    "  char = \"\" \n",
    "  for x in str(str1):\n",
    "    if x.isalpha(): \n",
    "      char = \"\".join([char, x])\n",
    "  return char \n",
    "\n",
    "# 基於規則之關鍵字匹配算法\n",
    "def matching(sentence,database):\n",
    "  candidate_list = []\n",
    "  for word in database:\n",
    "    if word in sentence: \n",
    "      candidate_list.append(word)\n",
    "  return candidate_list\n",
    "\n",
    "# string_list中的string若為其他string的\"子集\"則剔除\n",
    "def substringSieve(string_list):\n",
    "    string_list.sort(key=lambda s: len(s), reverse=True)\n",
    "    out = []\n",
    "    for s in string_list:\n",
    "      if not any([s in o for o in out]):\n",
    "        out.append(s)\n",
    "    return out\n",
    "\n",
    "# 輸入sentence前處理\n",
    "def preprocess_raw_sentence(x):\n",
    "  x = str(x).upper() # 轉大寫字串\n",
    "  x = re.sub('[\\u4e00-\\u9fa5]', '', x) # 去除中文\n",
    "  x = re.sub(r'[^\\w\\s]','',x) # 去除標點符號\n",
    "  x = x.replace('\\n', '').replace('\\r', '').replace('\\t', '') # 去除換行符號\n",
    "  str.strip(x) # 移除左右空白\n",
    "  x = x.replace(' '*3,' '*1)# 去除\"三重\"空白\n",
    "  x = x.replace(' '*2,' '*1)# 去除\"雙重\"空白\n",
    "  x = ' ' + x + ' '# 出現在頭的 就不可能對到前後加空格的 這種情形要想想怎麼對照(加上左右空白)\n",
    "  return x\n",
    "\n",
    "# 產品後處理\n",
    "def product_name_postprocess(x):\n",
    "  x = str(x).upper() # 轉大寫字串\n",
    "  x = x.replace('-','')# 去除標點符號\n",
    "  x = x.replace('.','')# 去除標點符號\n",
    "  x = x.replace(',','')# 去除標點符號\n",
    "  x = x.strip() # 去除空白\n",
    "  return x\n",
    "\n",
    "# 基於關鍵字比對方法的預測函數\n",
    "def predict_keyword(title,test_df,Unrecognized,input_col,database,output_col):\n",
    "  result = []\n",
    "  for i in tqdm(test_df.index):\n",
    "    candidate_list = matching(\n",
    "        sentence = test_df.loc[i,input_col],\n",
    "        database = set(database) - set(Unrecognized)\n",
    "        )\n",
    "    result.append(substringSieve(candidate_list))\n",
    "  test_df[output_col] = result\n",
    "  return test_df"
   ]
  },
  {
   "cell_type": "markdown",
   "metadata": {},
   "source": [
    "# 載入數據\n"
   ]
  },
  {
   "cell_type": "code",
   "execution_count": 21,
   "metadata": {},
   "outputs": [],
   "source": [
    "# 歷史資料庫\n",
    "database = pd.read_excel('../data/combined_excel.xlsx')\n",
    "# 新的測試數據\n",
    "test_data = pd.read_csv('../data/測試數據/0927到2022.csv')\n",
    "\n",
    "# 讀取\"產品名\"寶典\n",
    "品名寶典 = pd.read_excel('../data/寶典/寶典人工處理後/寶典.v8.202111202.xlsx',engine='openpyxl')[['CODIV','DIVNM','ITEMNM']]\n",
    "品名寶典 = 品名寶典.rename(columns={'ITEMNM':'品名','DIVNM':'公司事業部門','CODIV':'公司代號'})\n",
    "品名寶典['品名'] = 品名寶典['品名'].apply(lambda x:product_name_postprocess(x))\n",
    "\n",
    "# 讀取\"開狀人\"寶典\n",
    "開狀人寶典 = pd.read_csv('../data/寶典/開狀人寶典.csv')\n",
    "\n",
    "# 讀取\"公司\"寶典\n",
    "公司寶典 = pd.read_csv('../data/寶典/公司寶典加尾綴.csv')"
   ]
  },
  {
   "cell_type": "markdown",
   "metadata": {},
   "source": [
    "# 按照時間排序資料"
   ]
  },
  {
   "cell_type": "code",
   "execution_count": 22,
   "metadata": {},
   "outputs": [],
   "source": [
    "def sort_by_form(df):\n",
    "    df = df.sort_values(by='from')\n",
    "    df = df.reset_index(drop=True)\n",
    "    return df\n",
    "database = sort_by_form(database)\n",
    "test_data = sort_by_form(test_data)"
   ]
  },
  {
   "cell_type": "markdown",
   "metadata": {},
   "source": [
    "# 定義欄位"
   ]
  },
  {
   "cell_type": "code",
   "execution_count": 23,
   "metadata": {},
   "outputs": [],
   "source": [
    "產品名輸入 = '45A' #產品名\n",
    "開狀人輸入 = '50' #開狀人\n",
    "受益人輸入 = '59' #受益人\n",
    "開狀銀行輸入 = 'LTADDRESS.1' #銀行輸入\n",
    "輸出欄位 = ['產品名','開狀人','受益人','開狀銀行']\n",
    "輸入欄位 = ['45A','50','59','LTADDRESS.1']"
   ]
  },
  {
   "cell_type": "markdown",
   "metadata": {},
   "source": [
    "# 預處理函數"
   ]
  },
  {
   "cell_type": "code",
   "execution_count": 24,
   "metadata": {},
   "outputs": [],
   "source": [
    "# 針對模型輸入做預處理\n",
    "def 預處理(df):\n",
    "  產品名輸入 = '45A' #產品名\n",
    "  開狀人輸入 = '50' #開狀人\n",
    "  受益人輸入 = '59' #受益人\n",
    "  開狀銀行輸入 = 'LTADDRESS.1' #銀行輸入\n",
    "  for i in [產品名輸入,開狀人輸入,受益人輸入]:\n",
    "    df[i] = df[i].apply(lambda x:preprocess_raw_sentence(x))\n",
    "  return df"
   ]
  },
  {
   "cell_type": "markdown",
   "metadata": {},
   "source": [
    "# 抽特徵函數"
   ]
  },
  {
   "cell_type": "code",
   "execution_count": 25,
   "metadata": {},
   "outputs": [],
   "source": [
    "def 抽特徵(df):\n",
    "  # 預測產品\n",
    "  df = predict_keyword(\n",
    "      title = '正在預測產品',\n",
    "      test_df = df,\n",
    "      Unrecognized = ['PE','MA','EA','GRADE','INA','PACK','PP','PA','',' '*1,' '*2],\n",
    "      input_col = 產品名輸入,\n",
    "      database = 品名寶典['品名'].values.tolist(),\n",
    "      output_col = '產品名',\n",
    "      )\n",
    "\n",
    "  # 預測開狀人\n",
    "  df = predict_keyword(\n",
    "      title = '正在預測開狀人',\n",
    "      test_df = df,\n",
    "      Unrecognized = ['',' '*1,' '*2],\n",
    "      input_col = 開狀人輸入,\n",
    "      database = 開狀人寶典['開狀人'].values.tolist(),\n",
    "      output_col = '開狀人',\n",
    "      )\n",
    "\n",
    "  # 預測公司(受益人)\n",
    "  df = predict_keyword(\n",
    "      title = '正在預測受益人',\n",
    "      test_df = df,\n",
    "      Unrecognized = ['',' '*1,' '*2],\n",
    "      input_col = 受益人輸入,\n",
    "      database = 公司寶典['公司英文名稱'].values.tolist(),\n",
    "      output_col = '受益人',\n",
    "      )\n",
    "\n",
    "  # 預測開狀銀行\n",
    "  df['開狀銀行'] = df[開狀銀行輸入].apply(lambda x:str(x)[:8])\n",
    "  return df"
   ]
  },
  {
   "cell_type": "markdown",
   "metadata": {},
   "source": [
    "# 準備訓練資料"
   ]
  },
  {
   "cell_type": "code",
   "execution_count": 26,
   "metadata": {},
   "outputs": [
    {
     "name": "stderr",
     "output_type": "stream",
     "text": [
      "C:\\Users\\ricky\\anaconda3\\envs\\bert_env\\lib\\site-packages\\ipykernel_launcher.py:50: TqdmDeprecationWarning: This function will be removed in tqdm==5.0.0\n",
      "Please use `tqdm.notebook.tqdm` instead of `tqdm.tqdm_notebook`\n"
     ]
    },
    {
     "data": {
      "application/vnd.jupyter.widget-view+json": {
       "model_id": "428b91165ece42ceada358492ae11dc1",
       "version_major": 2,
       "version_minor": 0
      },
      "text/plain": [
       "  0%|          | 0/20737 [00:00<?, ?it/s]"
      ]
     },
     "metadata": {},
     "output_type": "display_data"
    },
    {
     "data": {
      "application/vnd.jupyter.widget-view+json": {
       "model_id": "9c8a15ada3914ae39d28e45cb6d1d824",
       "version_major": 2,
       "version_minor": 0
      },
      "text/plain": [
       "  0%|          | 0/20737 [00:00<?, ?it/s]"
      ]
     },
     "metadata": {},
     "output_type": "display_data"
    },
    {
     "data": {
      "application/vnd.jupyter.widget-view+json": {
       "model_id": "92e5cf9cb0134958bf0bafa178af50ab",
       "version_major": 2,
       "version_minor": 0
      },
      "text/plain": [
       "  0%|          | 0/20737 [00:00<?, ?it/s]"
      ]
     },
     "metadata": {},
     "output_type": "display_data"
    },
    {
     "data": {
      "text/html": [
       "<div>\n",
       "<style scoped>\n",
       "    .dataframe tbody tr th:only-of-type {\n",
       "        vertical-align: middle;\n",
       "    }\n",
       "\n",
       "    .dataframe tbody tr th {\n",
       "        vertical-align: top;\n",
       "    }\n",
       "\n",
       "    .dataframe thead th {\n",
       "        text-align: right;\n",
       "    }\n",
       "</style>\n",
       "<table border=\"1\" class=\"dataframe\">\n",
       "  <thead>\n",
       "    <tr style=\"text-align: right;\">\n",
       "      <th></th>\n",
       "      <th>產品名</th>\n",
       "      <th>開狀人</th>\n",
       "      <th>受益人</th>\n",
       "      <th>開狀銀行</th>\n",
       "    </tr>\n",
       "  </thead>\n",
       "  <tbody>\n",
       "    <tr>\n",
       "      <th>20732</th>\n",
       "      <td>[NYLON 6 FILAMENT YARN]</td>\n",
       "      <td>[SKY INDUSTRIES LTD]</td>\n",
       "      <td>[FORMOSA CHEMICALS AND FIBRE]</td>\n",
       "      <td>KKBKINBB</td>\n",
       "    </tr>\n",
       "    <tr>\n",
       "      <th>20733</th>\n",
       "      <td>[PVC SUSPENSION RESIN]</td>\n",
       "      <td>[L D INTERNATIONAL]</td>\n",
       "      <td>[FORMOSA PLASTICS]</td>\n",
       "      <td>KKBKINBB</td>\n",
       "    </tr>\n",
       "    <tr>\n",
       "      <th>20734</th>\n",
       "      <td>[EPOXY RESIN, NPEF]</td>\n",
       "      <td>[ALLCHEM INTERNATIONAL PTY LTD]</td>\n",
       "      <td>[NAN YA PLASTICS]</td>\n",
       "      <td>CTCBHKHH</td>\n",
       "    </tr>\n",
       "    <tr>\n",
       "      <th>20735</th>\n",
       "      <td>[EPOXY RESIN, NPEL]</td>\n",
       "      <td>[ALLCHEM INTERNATIONAL PTY LTD]</td>\n",
       "      <td>[NAN YA PLASTICS]</td>\n",
       "      <td>CTCBHKHH</td>\n",
       "    </tr>\n",
       "    <tr>\n",
       "      <th>20736</th>\n",
       "      <td>[PVC RESIN]</td>\n",
       "      <td>[PRAGYA FLEXIFILM INDUSTRIES]</td>\n",
       "      <td>[FORMOSA PLASTICS]</td>\n",
       "      <td>KKBKINBB</td>\n",
       "    </tr>\n",
       "  </tbody>\n",
       "</table>\n",
       "</div>"
      ],
      "text/plain": [
       "                           產品名                              開狀人  \\\n",
       "20732  [NYLON 6 FILAMENT YARN]             [SKY INDUSTRIES LTD]   \n",
       "20733   [PVC SUSPENSION RESIN]              [L D INTERNATIONAL]   \n",
       "20734      [EPOXY RESIN, NPEF]  [ALLCHEM INTERNATIONAL PTY LTD]   \n",
       "20735      [EPOXY RESIN, NPEL]  [ALLCHEM INTERNATIONAL PTY LTD]   \n",
       "20736              [PVC RESIN]    [PRAGYA FLEXIFILM INDUSTRIES]   \n",
       "\n",
       "                                 受益人      開狀銀行  \n",
       "20732  [FORMOSA CHEMICALS AND FIBRE]  KKBKINBB  \n",
       "20733             [FORMOSA PLASTICS]  KKBKINBB  \n",
       "20734              [NAN YA PLASTICS]  CTCBHKHH  \n",
       "20735              [NAN YA PLASTICS]  CTCBHKHH  \n",
       "20736             [FORMOSA PLASTICS]  KKBKINBB  "
      ]
     },
     "execution_count": 26,
     "metadata": {},
     "output_type": "execute_result"
    }
   ],
   "source": [
    "database = 抽特徵(預處理(database))\n",
    "database[輸出欄位].tail(5)"
   ]
  },
  {
   "cell_type": "markdown",
   "metadata": {},
   "source": [
    "# 準備測試資料"
   ]
  },
  {
   "cell_type": "code",
   "execution_count": 27,
   "metadata": {},
   "outputs": [
    {
     "name": "stderr",
     "output_type": "stream",
     "text": [
      "C:\\Users\\ricky\\anaconda3\\envs\\bert_env\\lib\\site-packages\\ipykernel_launcher.py:50: TqdmDeprecationWarning: This function will be removed in tqdm==5.0.0\n",
      "Please use `tqdm.notebook.tqdm` instead of `tqdm.tqdm_notebook`\n"
     ]
    },
    {
     "data": {
      "application/vnd.jupyter.widget-view+json": {
       "model_id": "02cbc0068f694ce2a3edf87a43f2a233",
       "version_major": 2,
       "version_minor": 0
      },
      "text/plain": [
       "  0%|          | 0/2427 [00:00<?, ?it/s]"
      ]
     },
     "metadata": {},
     "output_type": "display_data"
    },
    {
     "data": {
      "application/vnd.jupyter.widget-view+json": {
       "model_id": "ebd04533568048bbac7775f9935cbf80",
       "version_major": 2,
       "version_minor": 0
      },
      "text/plain": [
       "  0%|          | 0/2427 [00:00<?, ?it/s]"
      ]
     },
     "metadata": {},
     "output_type": "display_data"
    },
    {
     "data": {
      "application/vnd.jupyter.widget-view+json": {
       "model_id": "9e9b8f1b2e514bb39fa891196acd837c",
       "version_major": 2,
       "version_minor": 0
      },
      "text/plain": [
       "  0%|          | 0/2427 [00:00<?, ?it/s]"
      ]
     },
     "metadata": {},
     "output_type": "display_data"
    },
    {
     "data": {
      "text/html": [
       "<div>\n",
       "<style scoped>\n",
       "    .dataframe tbody tr th:only-of-type {\n",
       "        vertical-align: middle;\n",
       "    }\n",
       "\n",
       "    .dataframe tbody tr th {\n",
       "        vertical-align: top;\n",
       "    }\n",
       "\n",
       "    .dataframe thead th {\n",
       "        text-align: right;\n",
       "    }\n",
       "</style>\n",
       "<table border=\"1\" class=\"dataframe\">\n",
       "  <thead>\n",
       "    <tr style=\"text-align: right;\">\n",
       "      <th></th>\n",
       "      <th>產品名</th>\n",
       "      <th>開狀人</th>\n",
       "      <th>受益人</th>\n",
       "      <th>開狀銀行</th>\n",
       "    </tr>\n",
       "  </thead>\n",
       "  <tbody>\n",
       "    <tr>\n",
       "      <th>2422</th>\n",
       "      <td>[ETHYLENEPROPYLENE COPOLYMER, PLASTIC RESIN, P...</td>\n",
       "      <td>[DRACO KING INDUSTRIES LIMITED]</td>\n",
       "      <td>[FORMOSA PLASTICS]</td>\n",
       "      <td>HNBKHKHH</td>\n",
       "    </tr>\n",
       "    <tr>\n",
       "      <th>2423</th>\n",
       "      <td>[MONO ETHYLENE GLYCOL]</td>\n",
       "      <td>[CHI BAO CORPORATION]</td>\n",
       "      <td>[NAN YA PLASTICS]</td>\n",
       "      <td>TPBKTWTP</td>\n",
       "    </tr>\n",
       "    <tr>\n",
       "      <th>2424</th>\n",
       "      <td>[RESIN]</td>\n",
       "      <td>[PEGASUS CHEMICALS CO LTD]</td>\n",
       "      <td>[FORMOSA PLASTICS]</td>\n",
       "      <td>ICBCTWTP</td>\n",
       "    </tr>\n",
       "    <tr>\n",
       "      <th>2425</th>\n",
       "      <td>[COVERING, GP5350]</td>\n",
       "      <td>[BRENNTAG CANADA INC]</td>\n",
       "      <td>[FORMOSA CHEMICALS AND FIBRE]</td>\n",
       "      <td>NOSCCATT</td>\n",
       "    </tr>\n",
       "    <tr>\n",
       "      <th>2426</th>\n",
       "      <td>[PVC COPOLYMER RESIN]</td>\n",
       "      <td>[S R POLYVINYL LIMITED]</td>\n",
       "      <td>[FORMOSA PLASTICS]</td>\n",
       "      <td>INDBINBB</td>\n",
       "    </tr>\n",
       "  </tbody>\n",
       "</table>\n",
       "</div>"
      ],
      "text/plain": [
       "                                                    產品名  \\\n",
       "2422  [ETHYLENEPROPYLENE COPOLYMER, PLASTIC RESIN, P...   \n",
       "2423                             [MONO ETHYLENE GLYCOL]   \n",
       "2424                                            [RESIN]   \n",
       "2425                                 [COVERING, GP5350]   \n",
       "2426                              [PVC COPOLYMER RESIN]   \n",
       "\n",
       "                                  開狀人                            受益人      開狀銀行  \n",
       "2422  [DRACO KING INDUSTRIES LIMITED]             [FORMOSA PLASTICS]  HNBKHKHH  \n",
       "2423            [CHI BAO CORPORATION]              [NAN YA PLASTICS]  TPBKTWTP  \n",
       "2424       [PEGASUS CHEMICALS CO LTD]             [FORMOSA PLASTICS]  ICBCTWTP  \n",
       "2425            [BRENNTAG CANADA INC]  [FORMOSA CHEMICALS AND FIBRE]  NOSCCATT  \n",
       "2426          [S R POLYVINYL LIMITED]             [FORMOSA PLASTICS]  INDBINBB  "
      ]
     },
     "execution_count": 27,
     "metadata": {},
     "output_type": "execute_result"
    }
   ],
   "source": [
    "test_data = 抽特徵(預處理(test_data))\n",
    "test_data[輸出欄位].tail(5)"
   ]
  },
  {
   "cell_type": "markdown",
   "metadata": {},
   "source": [
    "# 模型測試"
   ]
  },
  {
   "cell_type": "code",
   "execution_count": 28,
   "metadata": {},
   "outputs": [],
   "source": [
    "def 根據特定欄位和索引給出候選答案清單(col,idx,k,database_size=100,database=None,test_data=None):\n",
    "  # 預處理\n",
    "  database['處理過的資料'] = (database[col]).apply(keep_alpha)\n",
    "  test_data['處理過的資料'] = (test_data[col]).apply(keep_alpha)\n",
    "  # 建立模型\n",
    "  model = MSKTS()\n",
    "  model.fit(list(set(database['處理過的資料'].sample(database_size).values.tolist()) - set(['',' '*1,' '*2]))) #去除空白\n",
    "  # 產生預測答案清單\n",
    "  output = [i[0] for i in model.predict(test_data['處理過的資料'][idx],k=k)]\n",
    "  預測答案清單 = database.loc[database['處理過的資料'].isin(output),'EXPNO'].dropna().apply(lambda x:str(x)[:2]).values.tolist()\n",
    "  return 預測答案清單"
   ]
  },
  {
   "cell_type": "markdown",
   "metadata": {},
   "source": [
    "# 正確率"
   ]
  },
  {
   "cell_type": "code",
   "execution_count": 29,
   "metadata": {},
   "outputs": [
    {
     "name": "stderr",
     "output_type": "stream",
     "text": [
      "C:\\Users\\ricky\\anaconda3\\envs\\bert_env\\lib\\site-packages\\ipykernel_launcher.py:3: TqdmDeprecationWarning: This function will be removed in tqdm==5.0.0\n",
      "Please use `tqdm.notebook.tqdm` instead of `tqdm.tqdm_notebook`\n",
      "  This is separate from the ipykernel package so we can avoid doing imports until\n"
     ]
    },
    {
     "data": {
      "application/vnd.jupyter.widget-view+json": {
       "model_id": "177b5f356e0f48f2a8eb29b832f70060",
       "version_major": 2,
       "version_minor": 0
      },
      "text/plain": [
       "  0%|          | 0/20 [00:00<?, ?it/s]"
      ]
     },
     "metadata": {},
     "output_type": "display_data"
    },
    {
     "name": "stdout",
     "output_type": "stream",
     "text": [
      "正確率: 0.85\n"
     ]
    }
   ],
   "source": [
    "test_n = 20\n",
    "correct = []\n",
    "for idx in tqdm(range(test_n)):\n",
    "  o1 = 根據特定欄位和索引給出候選答案清單(\n",
    "    col='產品名',idx=idx,k=3,database_size=len(database),database=database,test_data=test_data)\n",
    "  o2 = 根據特定欄位和索引給出候選答案清單(\n",
    "    col='開狀人',idx=idx,k=3,database_size=len(database),database=database,test_data=test_data)\n",
    "  o3 = 根據特定欄位和索引給出候選答案清單(\n",
    "    col='受益人',idx=idx,k=3,database_size=len(database),database=database,test_data=test_data)\n",
    "  o4 = 根據特定欄位和索引給出候選答案清單(\n",
    "    col='開狀銀行',idx=idx,k=3,database_size=len(database),database=database,test_data=test_data)\n",
    "  o = o1#+o2+o3#+o4\n",
    "  try:\n",
    "    ensemble_output = max(o,key=o.count)\n",
    "  except:\n",
    "    ensemble_output = 'not find'\n",
    "  if ensemble_output == test_data['推薦公司事業部'][idx]:\n",
    "    correct.append(True)\n",
    "  else:\n",
    "    correct.append(False)\n",
    "print('正確率:',np.mean(correct))"
   ]
  },
  {
   "cell_type": "markdown",
   "metadata": {},
   "source": [
    "# 觀察不同資料筆數 對正確率的影響"
   ]
  },
  {
   "cell_type": "code",
   "execution_count": 30,
   "metadata": {},
   "outputs": [
    {
     "name": "stderr",
     "output_type": "stream",
     "text": [
      "C:\\Users\\ricky\\anaconda3\\envs\\bert_env\\lib\\site-packages\\ipykernel_launcher.py:3: TqdmDeprecationWarning: This function will be removed in tqdm==5.0.0\n",
      "Please use `tqdm.notebook.tqdm` instead of `tqdm.tqdm_notebook`\n",
      "  This is separate from the ipykernel package so we can avoid doing imports until\n"
     ]
    },
    {
     "data": {
      "application/vnd.jupyter.widget-view+json": {
       "model_id": "05e4e9516aee4eeca2f4f434246a9cfd",
       "version_major": 2,
       "version_minor": 0
      },
      "text/plain": [
       "  0%|          | 0/20 [00:00<?, ?it/s]"
      ]
     },
     "metadata": {},
     "output_type": "display_data"
    },
    {
     "data": {
      "application/vnd.jupyter.widget-view+json": {
       "model_id": "cc5731a43d9d42a8b6bc13c8931fe9bf",
       "version_major": 2,
       "version_minor": 0
      },
      "text/plain": [
       "  0%|          | 0/20 [00:00<?, ?it/s]"
      ]
     },
     "metadata": {},
     "output_type": "display_data"
    },
    {
     "data": {
      "application/vnd.jupyter.widget-view+json": {
       "model_id": "fd0cd23f701441e2bd4ba0390efb718d",
       "version_major": 2,
       "version_minor": 0
      },
      "text/plain": [
       "  0%|          | 0/20 [00:00<?, ?it/s]"
      ]
     },
     "metadata": {},
     "output_type": "display_data"
    },
    {
     "data": {
      "application/vnd.jupyter.widget-view+json": {
       "model_id": "584e776e113448cfaf15ef3544579946",
       "version_major": 2,
       "version_minor": 0
      },
      "text/plain": [
       "  0%|          | 0/20 [00:00<?, ?it/s]"
      ]
     },
     "metadata": {},
     "output_type": "display_data"
    },
    {
     "name": "stdout",
     "output_type": "stream",
     "text": [
      "[10, 100, 1000, 20737] [0.05, 0.5, 0.75, 0.85]\n"
     ]
    },
    {
     "data": {
      "image/png": "[encoded data removed]",
      "text/plain": [
       "<Figure size 432x288 with 1 Axes>"
      ]
     },
     "metadata": {
      "needs_background": "light"
     },
     "output_type": "display_data"
    }
   ],
   "source": [
    "def 目標函數(database_size):\n",
    "  correct = []\n",
    "  for idx in tqdm(range(test_n)):\n",
    "    o1 = 根據特定欄位和索引給出候選答案清單(\n",
    "      col='產品名',idx=idx,k=3,\n",
    "      database_size=database_size,\n",
    "      database=database,test_data=test_data)\n",
    "    o2 = 根據特定欄位和索引給出候選答案清單(\n",
    "      col='開狀人',idx=idx,k=3,\n",
    "      database_size=database_size,\n",
    "      database=database,test_data=test_data)\n",
    "    o3 = 根據特定欄位和索引給出候選答案清單(\n",
    "      col='受益人',idx=idx,k=3,\n",
    "      database_size=database_size,\n",
    "      database=database,test_data=test_data)\n",
    "    o4 = 根據特定欄位和索引給出候選答案清單(\n",
    "      col='開狀銀行',idx=idx,k=3,\n",
    "      database_size=database_size,\n",
    "      database=database,test_data=test_data)\n",
    "    o = o1#+o2+o3+o4\n",
    "    try:\n",
    "      ensemble_output = max(o,key=o.count)\n",
    "    except:\n",
    "      ensemble_output = 'not find'\n",
    "    if ensemble_output == test_data['推薦公司事業部'][idx]:\n",
    "      correct.append(True)\n",
    "    else:\n",
    "      correct.append(False)\n",
    "  return np.mean(correct)\n",
    "x = [10,100,1000,len(database)]\n",
    "y = [目標函數(i) for i in x]\n",
    "print(x,y)\n",
    "fig = plt.figure()\n",
    "ax = fig.add_axes([0,0,1,1])\n",
    "ax.bar([str(i) for i in x],y)\n",
    "plt.show()"
   ]
  },
  {
   "cell_type": "markdown",
   "metadata": {},
   "source": [
    "# 觀察不同database對正確率的影響"
   ]
  },
  {
   "cell_type": "code",
   "execution_count": 31,
   "metadata": {},
   "outputs": [
    {
     "data": {
      "text/html": [
       "<div>\n",
       "<style scoped>\n",
       "    .dataframe tbody tr th:only-of-type {\n",
       "        vertical-align: middle;\n",
       "    }\n",
       "\n",
       "    .dataframe tbody tr th {\n",
       "        vertical-align: top;\n",
       "    }\n",
       "\n",
       "    .dataframe thead th {\n",
       "        text-align: right;\n",
       "    }\n",
       "</style>\n",
       "<table border=\"1\" class=\"dataframe\">\n",
       "  <thead>\n",
       "    <tr style=\"text-align: right;\">\n",
       "      <th></th>\n",
       "      <th>Unnamed: 0</th>\n",
       "      <th>信用狀代碼</th>\n",
       "      <th>EXPNO</th>\n",
       "      <th>TXDAT</th>\n",
       "      <th>59</th>\n",
       "      <th>45A</th>\n",
       "      <th>50</th>\n",
       "      <th>LTADDRESS.1</th>\n",
       "      <th>from</th>\n",
       "    </tr>\n",
       "  </thead>\n",
       "  <tbody>\n",
       "    <tr>\n",
       "      <th>0</th>\n",
       "      <td>0</td>\n",
       "      <td>0505120IM0000875</td>\n",
       "      <td>11A11G09</td>\n",
       "      <td>20210120</td>\n",
       "      <td>FORMOSA PLASTICS CORPORATION\\r\\n201, TUNG HWA ...</td>\n",
       "      <td>108.50 MT PVC RESIN SUSPENSION GRADE S-70 OF F...</td>\n",
       "      <td>RMG POLYVINYL INDIA LTD\\r\\n10/1 INDUSTRIAL ARE...</td>\n",
       "      <td>SBININBBAFXD</td>\n",
       "      <td>021-20201216-1231.xlsx</td>\n",
       "    </tr>\n",
       "    <tr>\n",
       "      <th>1</th>\n",
       "      <td>1</td>\n",
       "      <td>FDC0129000052021</td>\n",
       "      <td>11A11J95</td>\n",
       "      <td>20210130</td>\n",
       "      <td>NaN</td>\n",
       "      <td>NaN</td>\n",
       "      <td>NaN</td>\n",
       "      <td>NaN</td>\n",
       "      <td>NaN</td>\n",
       "    </tr>\n",
       "    <tr>\n",
       "      <th>2</th>\n",
       "      <td>2</td>\n",
       "      <td>FDC0129000052021</td>\n",
       "      <td>11A11J95</td>\n",
       "      <td>20210130</td>\n",
       "      <td>NaN</td>\n",
       "      <td>NaN</td>\n",
       "      <td>NaN</td>\n",
       "      <td>NaN</td>\n",
       "      <td>NaN</td>\n",
       "    </tr>\n",
       "    <tr>\n",
       "      <th>3</th>\n",
       "      <td>3</td>\n",
       "      <td>FDC0129000052021</td>\n",
       "      <td>11A11J95</td>\n",
       "      <td>20210130</td>\n",
       "      <td>NaN</td>\n",
       "      <td>NaN</td>\n",
       "      <td>NaN</td>\n",
       "      <td>NaN</td>\n",
       "      <td>NaN</td>\n",
       "    </tr>\n",
       "    <tr>\n",
       "      <th>4</th>\n",
       "      <td>4</td>\n",
       "      <td>1287IMLC22754</td>\n",
       "      <td>11A12F88</td>\n",
       "      <td>20210218</td>\n",
       "      <td>NaN</td>\n",
       "      <td>NaN</td>\n",
       "      <td>NaN</td>\n",
       "      <td>NaN</td>\n",
       "      <td>NaN</td>\n",
       "    </tr>\n",
       "  </tbody>\n",
       "</table>\n",
       "</div>"
      ],
      "text/plain": [
       "   Unnamed: 0             信用狀代碼     EXPNO     TXDAT  \\\n",
       "0           0  0505120IM0000875  11A11G09  20210120   \n",
       "1           1  FDC0129000052021  11A11J95  20210130   \n",
       "2           2  FDC0129000052021  11A11J95  20210130   \n",
       "3           3  FDC0129000052021  11A11J95  20210130   \n",
       "4           4     1287IMLC22754  11A12F88  20210218   \n",
       "\n",
       "                                                  59  \\\n",
       "0  FORMOSA PLASTICS CORPORATION\\r\\n201, TUNG HWA ...   \n",
       "1                                                NaN   \n",
       "2                                                NaN   \n",
       "3                                                NaN   \n",
       "4                                                NaN   \n",
       "\n",
       "                                                 45A  \\\n",
       "0  108.50 MT PVC RESIN SUSPENSION GRADE S-70 OF F...   \n",
       "1                                                NaN   \n",
       "2                                                NaN   \n",
       "3                                                NaN   \n",
       "4                                                NaN   \n",
       "\n",
       "                                                  50   LTADDRESS.1  \\\n",
       "0  RMG POLYVINYL INDIA LTD\\r\\n10/1 INDUSTRIAL ARE...  SBININBBAFXD   \n",
       "1                                                NaN           NaN   \n",
       "2                                                NaN           NaN   \n",
       "3                                                NaN           NaN   \n",
       "4                                                NaN           NaN   \n",
       "\n",
       "                     from  \n",
       "0  021-20201216-1231.xlsx  \n",
       "1                     NaN  \n",
       "2                     NaN  \n",
       "3                     NaN  \n",
       "4                     NaN  "
      ]
     },
     "metadata": {},
     "output_type": "display_data"
    },
    {
     "data": {
      "text/html": [
       "<div>\n",
       "<style scoped>\n",
       "    .dataframe tbody tr th:only-of-type {\n",
       "        vertical-align: middle;\n",
       "    }\n",
       "\n",
       "    .dataframe tbody tr th {\n",
       "        vertical-align: top;\n",
       "    }\n",
       "\n",
       "    .dataframe thead th {\n",
       "        text-align: right;\n",
       "    }\n",
       "</style>\n",
       "<table border=\"1\" class=\"dataframe\">\n",
       "  <thead>\n",
       "    <tr style=\"text-align: right;\">\n",
       "      <th></th>\n",
       "      <th>Unnamed: 0</th>\n",
       "      <th>59</th>\n",
       "      <th>45A</th>\n",
       "      <th>50</th>\n",
       "      <th>LTADDRESS.1</th>\n",
       "      <th>信用狀代碼</th>\n",
       "      <th>EXPNO</th>\n",
       "      <th>TXDAT</th>\n",
       "      <th>from</th>\n",
       "    </tr>\n",
       "  </thead>\n",
       "  <tbody>\n",
       "    <tr>\n",
       "      <th>0</th>\n",
       "      <td>0</td>\n",
       "      <td>FORMOSA PLASTICS</td>\n",
       "      <td>PVC RESIN SUSPENSION \\nGRADE S-70</td>\n",
       "      <td>RMG POLYVINYL INDIA LTD\\n10/1 INDUSTRIAL AREA\\...</td>\n",
       "      <td>STATE BANK OF INDIA</td>\n",
       "      <td>0505120IM0000875</td>\n",
       "      <td>11A11G09</td>\n",
       "      <td>20210120</td>\n",
       "      <td>021-20201216-1231.xlsx</td>\n",
       "    </tr>\n",
       "    <tr>\n",
       "      <th>1</th>\n",
       "      <td>1</td>\n",
       "      <td>FORMOSA PLASTICS</td>\n",
       "      <td>MASS PVC RESIN,GRADE B-57</td>\n",
       "      <td>RUBCHEM INDIA PVT LTD</td>\n",
       "      <td>THE SOUTH INDIAN BANK LTD</td>\n",
       "      <td>FDC0129000052021</td>\n",
       "      <td>11A11J95</td>\n",
       "      <td>20210130</td>\n",
       "      <td>NaN</td>\n",
       "    </tr>\n",
       "    <tr>\n",
       "      <th>2</th>\n",
       "      <td>2</td>\n",
       "      <td>FORMOSA PLASTICS</td>\n",
       "      <td>PVC SUSPENSION RESIN,\\nGRADE S-65</td>\n",
       "      <td>RUBCHEM INDIA PVT LTD</td>\n",
       "      <td>THE SOUTH INDIAN BANK LTD</td>\n",
       "      <td>FDC0129000052021</td>\n",
       "      <td>11A11J95</td>\n",
       "      <td>20210130</td>\n",
       "      <td>NaN</td>\n",
       "    </tr>\n",
       "    <tr>\n",
       "      <th>3</th>\n",
       "      <td>3</td>\n",
       "      <td>FORMOSA PLASTICS</td>\n",
       "      <td>PVC SUSPENSION RESIN,\\nGRADE S-65D</td>\n",
       "      <td>RUBCHEM INDIA PVT LTD</td>\n",
       "      <td>THE SOUTH INDIAN BANK LTD</td>\n",
       "      <td>FDC0129000052021</td>\n",
       "      <td>11A11J95</td>\n",
       "      <td>20210130</td>\n",
       "      <td>NaN</td>\n",
       "    </tr>\n",
       "    <tr>\n",
       "      <th>4</th>\n",
       "      <td>4</td>\n",
       "      <td>FORMOSA PLASTICS</td>\n",
       "      <td>PVC SUSPENSION RESIN \\nS-65D</td>\n",
       "      <td>ALPHA POLYMERS</td>\n",
       "      <td>THE FEDERALBANK LTD\\nP B NO 20 RAMAKRISHNA ROA...</td>\n",
       "      <td>1287IMLC22754</td>\n",
       "      <td>11A12F88</td>\n",
       "      <td>20210218</td>\n",
       "      <td>NaN</td>\n",
       "    </tr>\n",
       "  </tbody>\n",
       "</table>\n",
       "</div>"
      ],
      "text/plain": [
       "   Unnamed: 0                 59                                 45A  \\\n",
       "0           0  FORMOSA PLASTICS    PVC RESIN SUSPENSION \\nGRADE S-70   \n",
       "1           1  FORMOSA PLASTICS            MASS PVC RESIN,GRADE B-57   \n",
       "2           2  FORMOSA PLASTICS    PVC SUSPENSION RESIN,\\nGRADE S-65   \n",
       "3           3  FORMOSA PLASTICS   PVC SUSPENSION RESIN,\\nGRADE S-65D   \n",
       "4           4  FORMOSA PLASTICS         PVC SUSPENSION RESIN \\nS-65D   \n",
       "\n",
       "                                                  50  \\\n",
       "0  RMG POLYVINYL INDIA LTD\\n10/1 INDUSTRIAL AREA\\...   \n",
       "1                              RUBCHEM INDIA PVT LTD   \n",
       "2                              RUBCHEM INDIA PVT LTD   \n",
       "3                              RUBCHEM INDIA PVT LTD   \n",
       "4                                     ALPHA POLYMERS   \n",
       "\n",
       "                                         LTADDRESS.1             信用狀代碼  \\\n",
       "0                                STATE BANK OF INDIA  0505120IM0000875   \n",
       "1                          THE SOUTH INDIAN BANK LTD  FDC0129000052021   \n",
       "2                          THE SOUTH INDIAN BANK LTD  FDC0129000052021   \n",
       "3                          THE SOUTH INDIAN BANK LTD  FDC0129000052021   \n",
       "4  THE FEDERALBANK LTD\\nP B NO 20 RAMAKRISHNA ROA...     1287IMLC22754   \n",
       "\n",
       "      EXPNO     TXDAT                    from  \n",
       "0  11A11G09  20210120  021-20201216-1231.xlsx  \n",
       "1  11A11J95  20210130                     NaN  \n",
       "2  11A11J95  20210130                     NaN  \n",
       "3  11A11J95  20210130                     NaN  \n",
       "4  11A12F88  20210218                     NaN  "
      ]
     },
     "metadata": {},
     "output_type": "display_data"
    }
   ],
   "source": [
    "# 載入數據\n",
    "database2 = pd.read_excel('../data/combined_excel_D.xlsx')\n",
    "\n",
    "# 欄位定義\n",
    "database2col = []\n",
    "for i in database2.columns:\n",
    "    if 'ERP' not in i:\n",
    "        database2col.append(i)\n",
    "\n",
    "# 欄位定義\n",
    "database3col = []\n",
    "for i in database2.columns:\n",
    "    if '電文' not in i:\n",
    "        database3col.append(i)\n",
    "\n",
    "# 切分資料\n",
    "database2,database3 = database2[database2col],database2[database3col]\n",
    "\n",
    "# 統一命名\n",
    "database2 = database2.rename(\n",
    "    columns={\n",
    "        '產品名_電文':'45A',\n",
    "        '開狀人_電文':'50',\n",
    "        '受益人_電文':'59',\n",
    "        '開狀銀行_電文':'LTADDRESS.1',\n",
    "        '出口代碼':'EXPNO',\n",
    "    })\n",
    "display(database2.head())\n",
    "\n",
    "# 統一命名\n",
    "database3 = database3.rename(\n",
    "    columns={\n",
    "        '產品名_ERP':'45A',\n",
    "        '開狀人_ERP':'50',\n",
    "        '受益人_ERP':'59',\n",
    "        '開狀銀行_ERP':'LTADDRESS.1',\n",
    "        '出口代碼':'EXPNO',\n",
    "    })\n",
    "display(database3.head())"
   ]
  },
  {
   "cell_type": "code",
   "execution_count": 33,
   "metadata": {},
   "outputs": [
    {
     "name": "stderr",
     "output_type": "stream",
     "text": [
      "C:\\Users\\ricky\\anaconda3\\envs\\bert_env\\lib\\site-packages\\ipykernel_launcher.py:50: TqdmDeprecationWarning: This function will be removed in tqdm==5.0.0\n",
      "Please use `tqdm.notebook.tqdm` instead of `tqdm.tqdm_notebook`\n"
     ]
    },
    {
     "data": {
      "application/vnd.jupyter.widget-view+json": {
       "model_id": "5182f2ad12d44b2f969f832c2928a6d6",
       "version_major": 2,
       "version_minor": 0
      },
      "text/plain": [
       "  0%|          | 0/20737 [00:00<?, ?it/s]"
      ]
     },
     "metadata": {},
     "output_type": "display_data"
    },
    {
     "data": {
      "application/vnd.jupyter.widget-view+json": {
       "model_id": "79b2e7996ac44b2eaa42eaf8c0ae6010",
       "version_major": 2,
       "version_minor": 0
      },
      "text/plain": [
       "  0%|          | 0/20737 [00:00<?, ?it/s]"
      ]
     },
     "metadata": {},
     "output_type": "display_data"
    },
    {
     "data": {
      "application/vnd.jupyter.widget-view+json": {
       "model_id": "f07f24500dc24decb62314e30a9675e1",
       "version_major": 2,
       "version_minor": 0
      },
      "text/plain": [
       "  0%|          | 0/20737 [00:00<?, ?it/s]"
      ]
     },
     "metadata": {},
     "output_type": "display_data"
    },
    {
     "data": {
      "application/vnd.jupyter.widget-view+json": {
       "model_id": "af2f901f608c44ba87af37b32dfa2614",
       "version_major": 2,
       "version_minor": 0
      },
      "text/plain": [
       "  0%|          | 0/42096 [00:00<?, ?it/s]"
      ]
     },
     "metadata": {},
     "output_type": "display_data"
    },
    {
     "data": {
      "application/vnd.jupyter.widget-view+json": {
       "model_id": "c34f1fdcbadc481dbc4749c637d722ff",
       "version_major": 2,
       "version_minor": 0
      },
      "text/plain": [
       "  0%|          | 0/42096 [00:00<?, ?it/s]"
      ]
     },
     "metadata": {},
     "output_type": "display_data"
    },
    {
     "data": {
      "application/vnd.jupyter.widget-view+json": {
       "model_id": "0a607be45b5444fd8a027ae9292598f1",
       "version_major": 2,
       "version_minor": 0
      },
      "text/plain": [
       "  0%|          | 0/42096 [00:00<?, ?it/s]"
      ]
     },
     "metadata": {},
     "output_type": "display_data"
    },
    {
     "data": {
      "application/vnd.jupyter.widget-view+json": {
       "model_id": "1d370bad2f514297b4ea96232fa9dbce",
       "version_major": 2,
       "version_minor": 0
      },
      "text/plain": [
       "  0%|          | 0/42096 [00:00<?, ?it/s]"
      ]
     },
     "metadata": {},
     "output_type": "display_data"
    },
    {
     "data": {
      "application/vnd.jupyter.widget-view+json": {
       "model_id": "6c0bb2cc3b704b17aea48c67570ed6b1",
       "version_major": 2,
       "version_minor": 0
      },
      "text/plain": [
       "  0%|          | 0/42096 [00:00<?, ?it/s]"
      ]
     },
     "metadata": {},
     "output_type": "display_data"
    },
    {
     "data": {
      "application/vnd.jupyter.widget-view+json": {
       "model_id": "419a3440b4c6498cac13bacb5d243d40",
       "version_major": 2,
       "version_minor": 0
      },
      "text/plain": [
       "  0%|          | 0/42096 [00:00<?, ?it/s]"
      ]
     },
     "metadata": {},
     "output_type": "display_data"
    },
    {
     "name": "stderr",
     "output_type": "stream",
     "text": [
      "C:\\Users\\ricky\\anaconda3\\envs\\bert_env\\lib\\site-packages\\ipykernel_launcher.py:4: TqdmDeprecationWarning: This function will be removed in tqdm==5.0.0\n",
      "Please use `tqdm.notebook.tqdm` instead of `tqdm.tqdm_notebook`\n",
      "  after removing the cwd from sys.path.\n"
     ]
    },
    {
     "data": {
      "application/vnd.jupyter.widget-view+json": {
       "model_id": "04db5f3e869a44c083a1c298286d0fd8",
       "version_major": 2,
       "version_minor": 0
      },
      "text/plain": [
       "  0%|          | 0/20 [00:00<?, ?it/s]"
      ]
     },
     "metadata": {},
     "output_type": "display_data"
    },
    {
     "data": {
      "application/vnd.jupyter.widget-view+json": {
       "model_id": "0aed233e44d34fef96f96f1461ddd640",
       "version_major": 2,
       "version_minor": 0
      },
      "text/plain": [
       "  0%|          | 0/20 [00:00<?, ?it/s]"
      ]
     },
     "metadata": {},
     "output_type": "display_data"
    },
    {
     "data": {
      "application/vnd.jupyter.widget-view+json": {
       "model_id": "95241781ffca4cc6aae7959edb5c1f92",
       "version_major": 2,
       "version_minor": 0
      },
      "text/plain": [
       "  0%|          | 0/20 [00:00<?, ?it/s]"
      ]
     },
     "metadata": {},
     "output_type": "display_data"
    },
    {
     "data": {
      "image/png": "[encoded data removed]",
      "text/plain": [
       "<Figure size 432x288 with 1 Axes>"
      ]
     },
     "metadata": {
      "needs_background": "light"
     },
     "output_type": "display_data"
    }
   ],
   "source": [
    "def 目標函數(database):\n",
    "  database_size = len(database)\n",
    "  correct = []\n",
    "  for idx in tqdm(range(test_n)):\n",
    "    o1 = 根據特定欄位和索引給出候選答案清單(\n",
    "      col='產品名',idx=idx,k=3,\n",
    "      database_size=database_size,\n",
    "      database=database,test_data=test_data)\n",
    "    o2 = 根據特定欄位和索引給出候選答案清單(\n",
    "      col='開狀人',idx=idx,k=3,\n",
    "      database_size=database_size,\n",
    "      database=database,test_data=test_data)\n",
    "    o3 = 根據特定欄位和索引給出候選答案清單(\n",
    "      col='受益人',idx=idx,k=3,\n",
    "      database_size=database_size,\n",
    "      database=database,test_data=test_data)\n",
    "    o4 = 根據特定欄位和索引給出候選答案清單(\n",
    "      col='開狀銀行',idx=idx,k=3,\n",
    "      database_size=database_size,\n",
    "      database=database,test_data=test_data)\n",
    "    o = o1#+o2+o3+o4\n",
    "    try:\n",
    "      ensemble_output = max(o,key=o.count)\n",
    "    except:\n",
    "      ensemble_output = 'not find'\n",
    "    if ensemble_output == test_data['推薦公司事業部'][idx]:\n",
    "      correct.append(True)\n",
    "    else:\n",
    "      correct.append(False)\n",
    "  return np.mean(correct)\n",
    "x = [抽特徵(預處理(database)),抽特徵(預處理(database2)),抽特徵(預處理(database3))]\n",
    "y = [目標函數(i) for i in x]\n",
    "fig = plt.figure()\n",
    "ax = fig.add_axes([0,0,1,1])\n",
    "ax.bar(['database','database2','database3'],y)\n",
    "plt.show()"
   ]
  },
  {
   "cell_type": "markdown",
   "metadata": {},
   "source": [
    "# 輸出預測結果"
   ]
  },
  {
   "cell_type": "code",
   "execution_count": 39,
   "metadata": {},
   "outputs": [
    {
     "name": "stderr",
     "output_type": "stream",
     "text": [
      "C:\\Users\\ricky\\anaconda3\\envs\\bert_env\\lib\\site-packages\\ipykernel_launcher.py:50: TqdmDeprecationWarning: This function will be removed in tqdm==5.0.0\n",
      "Please use `tqdm.notebook.tqdm` instead of `tqdm.tqdm_notebook`\n"
     ]
    },
    {
     "data": {
      "application/vnd.jupyter.widget-view+json": {
       "model_id": "f11128c88c12475d9385bce441946f05",
       "version_major": 2,
       "version_minor": 0
      },
      "text/plain": [
       "  0%|          | 0/2427 [00:00<?, ?it/s]"
      ]
     },
     "metadata": {},
     "output_type": "display_data"
    },
    {
     "data": {
      "application/vnd.jupyter.widget-view+json": {
       "model_id": "c2488a80d62c47748c8dac5e5b55cb3e",
       "version_major": 2,
       "version_minor": 0
      },
      "text/plain": [
       "  0%|          | 0/2427 [00:00<?, ?it/s]"
      ]
     },
     "metadata": {},
     "output_type": "display_data"
    },
    {
     "data": {
      "application/vnd.jupyter.widget-view+json": {
       "model_id": "01afcc22454b45898d61b9f08d9e9244",
       "version_major": 2,
       "version_minor": 0
      },
      "text/plain": [
       "  0%|          | 0/2427 [00:00<?, ?it/s]"
      ]
     },
     "metadata": {},
     "output_type": "display_data"
    },
    {
     "data": {
      "text/html": [
       "<div>\n",
       "<style scoped>\n",
       "    .dataframe tbody tr th:only-of-type {\n",
       "        vertical-align: middle;\n",
       "    }\n",
       "\n",
       "    .dataframe tbody tr th {\n",
       "        vertical-align: top;\n",
       "    }\n",
       "\n",
       "    .dataframe thead th {\n",
       "        text-align: right;\n",
       "    }\n",
       "</style>\n",
       "<table border=\"1\" class=\"dataframe\">\n",
       "  <thead>\n",
       "    <tr style=\"text-align: right;\">\n",
       "      <th></th>\n",
       "      <th>產品名</th>\n",
       "      <th>開狀人</th>\n",
       "      <th>受益人</th>\n",
       "      <th>開狀銀行</th>\n",
       "      <th>推薦公司事業部</th>\n",
       "    </tr>\n",
       "  </thead>\n",
       "  <tbody>\n",
       "    <tr>\n",
       "      <th>0</th>\n",
       "      <td>[PVC SUSPENSION RESIN]</td>\n",
       "      <td>[DEEP JYOTI WAX TRADERS]</td>\n",
       "      <td>[FORMOSA PLASTICS]</td>\n",
       "      <td>ICICINBB</td>\n",
       "      <td>11</td>\n",
       "    </tr>\n",
       "    <tr>\n",
       "      <th>1</th>\n",
       "      <td>[MONO ETHYLENE GLYCOL MEG]</td>\n",
       "      <td>[CHEMNEWS CORP]</td>\n",
       "      <td>[NAN YA PLASTICS]</td>\n",
       "      <td>CZNBKRSE</td>\n",
       "      <td>2A</td>\n",
       "    </tr>\n",
       "    <tr>\n",
       "      <th>2</th>\n",
       "      <td>[MONO ETHYLENE GLYCOL MEG]</td>\n",
       "      <td>[CHEMNEWS CORP]</td>\n",
       "      <td>[NAN YA PLASTICS]</td>\n",
       "      <td>CZNBKRSE</td>\n",
       "      <td>2A</td>\n",
       "    </tr>\n",
       "    <tr>\n",
       "      <th>3</th>\n",
       "      <td>[PVC SUSPENSION RESIN]</td>\n",
       "      <td>[GOVERDHAN ENERGY]</td>\n",
       "      <td>[FORMOSA PLASTICS]</td>\n",
       "      <td>INDBINBB</td>\n",
       "      <td>11</td>\n",
       "    </tr>\n",
       "    <tr>\n",
       "      <th>4</th>\n",
       "      <td>[PVC TRANSPARENT SHEET]</td>\n",
       "      <td>[SOJITZ CORPORATION]</td>\n",
       "      <td>[NAN YA PLASTICS]</td>\n",
       "      <td>BOTKJPJT</td>\n",
       "      <td>21</td>\n",
       "    </tr>\n",
       "    <tr>\n",
       "      <th>...</th>\n",
       "      <td>...</td>\n",
       "      <td>...</td>\n",
       "      <td>...</td>\n",
       "      <td>...</td>\n",
       "      <td>...</td>\n",
       "    </tr>\n",
       "    <tr>\n",
       "      <th>2422</th>\n",
       "      <td>[ETHYLENEPROPYLENE COPOLYMER, PLASTIC RESIN, P...</td>\n",
       "      <td>[DRACO KING INDUSTRIES LIMITED]</td>\n",
       "      <td>[FORMOSA PLASTICS]</td>\n",
       "      <td>HNBKHKHH</td>\n",
       "      <td>1P</td>\n",
       "    </tr>\n",
       "    <tr>\n",
       "      <th>2423</th>\n",
       "      <td>[MONO ETHYLENE GLYCOL]</td>\n",
       "      <td>[CHI BAO CORPORATION]</td>\n",
       "      <td>[NAN YA PLASTICS]</td>\n",
       "      <td>TPBKTWTP</td>\n",
       "      <td>2A</td>\n",
       "    </tr>\n",
       "    <tr>\n",
       "      <th>2424</th>\n",
       "      <td>[RESIN]</td>\n",
       "      <td>[PEGASUS CHEMICALS CO LTD]</td>\n",
       "      <td>[FORMOSA PLASTICS]</td>\n",
       "      <td>ICBCTWTP</td>\n",
       "      <td>11</td>\n",
       "    </tr>\n",
       "    <tr>\n",
       "      <th>2425</th>\n",
       "      <td>[COVERING, GP5350]</td>\n",
       "      <td>[BRENNTAG CANADA INC]</td>\n",
       "      <td>[FORMOSA CHEMICALS AND FIBRE]</td>\n",
       "      <td>NOSCCATT</td>\n",
       "      <td>42</td>\n",
       "    </tr>\n",
       "    <tr>\n",
       "      <th>2426</th>\n",
       "      <td>[PVC COPOLYMER RESIN]</td>\n",
       "      <td>[S R POLYVINYL LIMITED]</td>\n",
       "      <td>[FORMOSA PLASTICS]</td>\n",
       "      <td>INDBINBB</td>\n",
       "      <td>11</td>\n",
       "    </tr>\n",
       "  </tbody>\n",
       "</table>\n",
       "<p>2427 rows × 5 columns</p>\n",
       "</div>"
      ],
      "text/plain": [
       "                                                    產品名  \\\n",
       "0                                [PVC SUSPENSION RESIN]   \n",
       "1                            [MONO ETHYLENE GLYCOL MEG]   \n",
       "2                            [MONO ETHYLENE GLYCOL MEG]   \n",
       "3                                [PVC SUSPENSION RESIN]   \n",
       "4                               [PVC TRANSPARENT SHEET]   \n",
       "...                                                 ...   \n",
       "2422  [ETHYLENEPROPYLENE COPOLYMER, PLASTIC RESIN, P...   \n",
       "2423                             [MONO ETHYLENE GLYCOL]   \n",
       "2424                                            [RESIN]   \n",
       "2425                                 [COVERING, GP5350]   \n",
       "2426                              [PVC COPOLYMER RESIN]   \n",
       "\n",
       "                                  開狀人                            受益人  \\\n",
       "0            [DEEP JYOTI WAX TRADERS]             [FORMOSA PLASTICS]   \n",
       "1                     [CHEMNEWS CORP]              [NAN YA PLASTICS]   \n",
       "2                     [CHEMNEWS CORP]              [NAN YA PLASTICS]   \n",
       "3                  [GOVERDHAN ENERGY]             [FORMOSA PLASTICS]   \n",
       "4                [SOJITZ CORPORATION]              [NAN YA PLASTICS]   \n",
       "...                               ...                            ...   \n",
       "2422  [DRACO KING INDUSTRIES LIMITED]             [FORMOSA PLASTICS]   \n",
       "2423            [CHI BAO CORPORATION]              [NAN YA PLASTICS]   \n",
       "2424       [PEGASUS CHEMICALS CO LTD]             [FORMOSA PLASTICS]   \n",
       "2425            [BRENNTAG CANADA INC]  [FORMOSA CHEMICALS AND FIBRE]   \n",
       "2426          [S R POLYVINYL LIMITED]             [FORMOSA PLASTICS]   \n",
       "\n",
       "          開狀銀行 推薦公司事業部  \n",
       "0     ICICINBB      11  \n",
       "1     CZNBKRSE      2A  \n",
       "2     CZNBKRSE      2A  \n",
       "3     INDBINBB      11  \n",
       "4     BOTKJPJT      21  \n",
       "...        ...     ...  \n",
       "2422  HNBKHKHH      1P  \n",
       "2423  TPBKTWTP      2A  \n",
       "2424  ICBCTWTP      11  \n",
       "2425  NOSCCATT      42  \n",
       "2426  INDBINBB      11  \n",
       "\n",
       "[2427 rows x 5 columns]"
      ]
     },
     "execution_count": 39,
     "metadata": {},
     "output_type": "execute_result"
    }
   ],
   "source": [
    "抽特徵(預處理(test_data))[輸出欄位+['推薦公司事業部']]"
   ]
  },
  {
   "cell_type": "code",
   "execution_count": 40,
   "metadata": {},
   "outputs": [
    {
     "name": "stderr",
     "output_type": "stream",
     "text": [
      "C:\\Users\\ricky\\anaconda3\\envs\\bert_env\\lib\\site-packages\\ipykernel_launcher.py:5: TqdmDeprecationWarning: This function will be removed in tqdm==5.0.0\n",
      "Please use `tqdm.notebook.tqdm` instead of `tqdm.tqdm_notebook`\n",
      "  \"\"\"\n"
     ]
    },
    {
     "data": {
      "application/vnd.jupyter.widget-view+json": {
       "model_id": "1ec53831948a407fa0c99e39a63e4c41",
       "version_major": 2,
       "version_minor": 0
      },
      "text/plain": [
       "  0%|          | 0/20 [00:00<?, ?it/s]"
      ]
     },
     "metadata": {},
     "output_type": "display_data"
    },
    {
     "name": "stdout",
     "output_type": "stream",
     "text": [
      "acc: 0.85\n"
     ]
    },
    {
     "data": {
      "text/html": [
       "<div>\n",
       "<style scoped>\n",
       "    .dataframe tbody tr th:only-of-type {\n",
       "        vertical-align: middle;\n",
       "    }\n",
       "\n",
       "    .dataframe tbody tr th {\n",
       "        vertical-align: top;\n",
       "    }\n",
       "\n",
       "    .dataframe thead th {\n",
       "        text-align: right;\n",
       "    }\n",
       "</style>\n",
       "<table border=\"1\" class=\"dataframe\">\n",
       "  <thead>\n",
       "    <tr style=\"text-align: right;\">\n",
       "      <th></th>\n",
       "      <th>Unnamed: 0</th>\n",
       "      <th>項次</th>\n",
       "      <th>電文代號</th>\n",
       "      <th>銀行</th>\n",
       "      <th>20</th>\n",
       "      <th>回傳代碼</th>\n",
       "      <th>回傳訊息</th>\n",
       "      <th>建檔日期</th>\n",
       "      <th>受益人</th>\n",
       "      <th>金額</th>\n",
       "      <th>...</th>\n",
       "      <th>47A</th>\n",
       "      <th>78</th>\n",
       "      <th>LTADDRESS.1</th>\n",
       "      <th>memo</th>\n",
       "      <th>Unnamed: 5</th>\n",
       "      <th>產品名</th>\n",
       "      <th>開狀人</th>\n",
       "      <th>開狀銀行</th>\n",
       "      <th>處理過的資料</th>\n",
       "      <th>預測EXPNO</th>\n",
       "    </tr>\n",
       "  </thead>\n",
       "  <tbody>\n",
       "    <tr>\n",
       "      <th>0</th>\n",
       "      <td>7</td>\n",
       "      <td>8</td>\n",
       "      <td>mt700</td>\n",
       "      <td>16</td>\n",
       "      <td>0006MLC00034022</td>\n",
       "      <td>200</td>\n",
       "      <td>{\"MESSAGE\":\"\",\"CODE\":200}</td>\n",
       "      <td>2021/09/24 12:31:17</td>\n",
       "      <td>[FORMOSA PLASTICS]</td>\n",
       "      <td>USD136080,00</td>\n",
       "      <td>...</td>\n",
       "      <td>1. ALL DOCUMENTS MUST BE IN ENGLISH.\\r\\n2. ALL...</td>\n",
       "      <td>UPON RECEIPT OF CREDIT COMPLIANT DOCUMENTS AT ...</td>\n",
       "      <td>ICICINBBACTS</td>\n",
       "      <td>NaN</td>\n",
       "      <td>NaN</td>\n",
       "      <td>[PVC SUSPENSION RESIN]</td>\n",
       "      <td>[DEEP JYOTI WAX TRADERS]</td>\n",
       "      <td>ICICINBB</td>\n",
       "      <td>ICICINBB</td>\n",
       "      <td>11</td>\n",
       "    </tr>\n",
       "    <tr>\n",
       "      <th>1</th>\n",
       "      <td>35</td>\n",
       "      <td>36</td>\n",
       "      <td>mt700</td>\n",
       "      <td>16</td>\n",
       "      <td>M100H2109SS00178</td>\n",
       "      <td>200</td>\n",
       "      <td>{\"MESSAGE\":\"\",\"CODE\":200}</td>\n",
       "      <td>2021/09/24 12:00:20</td>\n",
       "      <td>[NAN YA PLASTICS]</td>\n",
       "      <td>USD710000,</td>\n",
       "      <td>...</td>\n",
       "      <td>+ BOTH QUANTITY AND LC AMOUNT 5 PERCENT LESS I...</td>\n",
       "      <td>+THE AMOUNT OF EACH DRAWING MUST BE NOTED ON T...</td>\n",
       "      <td>CZNBKRSEAXXX</td>\n",
       "      <td>NaN</td>\n",
       "      <td>NaN</td>\n",
       "      <td>[MONO ETHYLENE GLYCOL MEG]</td>\n",
       "      <td>[CHEMNEWS CORP]</td>\n",
       "      <td>CZNBKRSE</td>\n",
       "      <td>CZNBKRSE</td>\n",
       "      <td>2A</td>\n",
       "    </tr>\n",
       "    <tr>\n",
       "      <th>2</th>\n",
       "      <td>36</td>\n",
       "      <td>37</td>\n",
       "      <td>mt700</td>\n",
       "      <td>16</td>\n",
       "      <td>M100H2109SS00185</td>\n",
       "      <td>200</td>\n",
       "      <td>{\"MESSAGE\":\"\",\"CODE\":200}</td>\n",
       "      <td>2021/09/24 12:00:38</td>\n",
       "      <td>[NAN YA PLASTICS]</td>\n",
       "      <td>USD710000,</td>\n",
       "      <td>...</td>\n",
       "      <td>- BOTH QUANTITY AND LC AMOUNT 5 PERCENT LESS I...</td>\n",
       "      <td>+THE AMOUNT OF EACH DRAWING MUST BE NOTED ON T...</td>\n",
       "      <td>CZNBKRSEAXXX</td>\n",
       "      <td>NaN</td>\n",
       "      <td>NaN</td>\n",
       "      <td>[MONO ETHYLENE GLYCOL MEG]</td>\n",
       "      <td>[CHEMNEWS CORP]</td>\n",
       "      <td>CZNBKRSE</td>\n",
       "      <td>CZNBKRSE</td>\n",
       "      <td>2A</td>\n",
       "    </tr>\n",
       "    <tr>\n",
       "      <th>3</th>\n",
       "      <td>37</td>\n",
       "      <td>38</td>\n",
       "      <td>mt700</td>\n",
       "      <td>16</td>\n",
       "      <td>OLC0025210044889</td>\n",
       "      <td>200</td>\n",
       "      <td>{\"MESSAGE\":\"\",\"CODE\":200}</td>\n",
       "      <td>2021/09/24 12:31:55</td>\n",
       "      <td>[FORMOSA PLASTICS]</td>\n",
       "      <td>USD140875,00</td>\n",
       "      <td>...</td>\n",
       "      <td>1. FIELD 50 APPLICANT DETAILS:\\r\\nGOVERDHAN EN...</td>\n",
       "      <td>THE NEGOTIATING BANK TO COURIER FULL SET OF DO...</td>\n",
       "      <td>INDBINBBANAS</td>\n",
       "      <td>NaN</td>\n",
       "      <td>NaN</td>\n",
       "      <td>[PVC SUSPENSION RESIN]</td>\n",
       "      <td>[GOVERDHAN ENERGY]</td>\n",
       "      <td>INDBINBB</td>\n",
       "      <td>INDBINBB</td>\n",
       "      <td>11</td>\n",
       "    </tr>\n",
       "    <tr>\n",
       "      <th>4</th>\n",
       "      <td>38</td>\n",
       "      <td>39</td>\n",
       "      <td>mt700</td>\n",
       "      <td>16</td>\n",
       "      <td>S-321-2021242</td>\n",
       "      <td>200</td>\n",
       "      <td>{\"MESSAGE\":\"\",\"CODE\":200}</td>\n",
       "      <td>2021/09/24 12:40:42</td>\n",
       "      <td>[NAN YA PLASTICS]</td>\n",
       "      <td>USD39631,45</td>\n",
       "      <td>...</td>\n",
       "      <td>+ALL DOCUMENTS MUST BE ISSUED IN ENGLISH LANGU...</td>\n",
       "      <td>REIMBURSEMENT BY TELECOMMUNICATION IS PROHIBIT...</td>\n",
       "      <td>BOTKJPJTAXXX</td>\n",
       "      <td>NaN</td>\n",
       "      <td>NaN</td>\n",
       "      <td>[PVC TRANSPARENT SHEET]</td>\n",
       "      <td>[SOJITZ CORPORATION]</td>\n",
       "      <td>BOTKJPJT</td>\n",
       "      <td>BOTKJPJT</td>\n",
       "      <td>21</td>\n",
       "    </tr>\n",
       "  </tbody>\n",
       "</table>\n",
       "<p>5 rows × 28 columns</p>\n",
       "</div>"
      ],
      "text/plain": [
       "   Unnamed: 0  項次   電文代號  銀行                20  回傳代碼  \\\n",
       "0           7   8  mt700  16   0006MLC00034022   200   \n",
       "1          35  36  mt700  16  M100H2109SS00178   200   \n",
       "2          36  37  mt700  16  M100H2109SS00185   200   \n",
       "3          37  38  mt700  16  OLC0025210044889   200   \n",
       "4          38  39  mt700  16     S-321-2021242   200   \n",
       "\n",
       "                        回傳訊息                 建檔日期                 受益人  \\\n",
       "0  {\"MESSAGE\":\"\",\"CODE\":200}  2021/09/24 12:31:17  [FORMOSA PLASTICS]   \n",
       "1  {\"MESSAGE\":\"\",\"CODE\":200}  2021/09/24 12:00:20   [NAN YA PLASTICS]   \n",
       "2  {\"MESSAGE\":\"\",\"CODE\":200}  2021/09/24 12:00:38   [NAN YA PLASTICS]   \n",
       "3  {\"MESSAGE\":\"\",\"CODE\":200}  2021/09/24 12:31:55  [FORMOSA PLASTICS]   \n",
       "4  {\"MESSAGE\":\"\",\"CODE\":200}  2021/09/24 12:40:42   [NAN YA PLASTICS]   \n",
       "\n",
       "             金額  ...                                                47A  \\\n",
       "0  USD136080,00  ...  1. ALL DOCUMENTS MUST BE IN ENGLISH.\\r\\n2. ALL...   \n",
       "1    USD710000,  ...  + BOTH QUANTITY AND LC AMOUNT 5 PERCENT LESS I...   \n",
       "2    USD710000,  ...  - BOTH QUANTITY AND LC AMOUNT 5 PERCENT LESS I...   \n",
       "3  USD140875,00  ...  1. FIELD 50 APPLICANT DETAILS:\\r\\nGOVERDHAN EN...   \n",
       "4   USD39631,45  ...  +ALL DOCUMENTS MUST BE ISSUED IN ENGLISH LANGU...   \n",
       "\n",
       "                                                  78   LTADDRESS.1 memo  \\\n",
       "0  UPON RECEIPT OF CREDIT COMPLIANT DOCUMENTS AT ...  ICICINBBACTS  NaN   \n",
       "1  +THE AMOUNT OF EACH DRAWING MUST BE NOTED ON T...  CZNBKRSEAXXX  NaN   \n",
       "2  +THE AMOUNT OF EACH DRAWING MUST BE NOTED ON T...  CZNBKRSEAXXX  NaN   \n",
       "3  THE NEGOTIATING BANK TO COURIER FULL SET OF DO...  INDBINBBANAS  NaN   \n",
       "4  REIMBURSEMENT BY TELECOMMUNICATION IS PROHIBIT...  BOTKJPJTAXXX  NaN   \n",
       "\n",
       "  Unnamed: 5                         產品名                       開狀人      開狀銀行  \\\n",
       "0        NaN      [PVC SUSPENSION RESIN]  [DEEP JYOTI WAX TRADERS]  ICICINBB   \n",
       "1        NaN  [MONO ETHYLENE GLYCOL MEG]           [CHEMNEWS CORP]  CZNBKRSE   \n",
       "2        NaN  [MONO ETHYLENE GLYCOL MEG]           [CHEMNEWS CORP]  CZNBKRSE   \n",
       "3        NaN      [PVC SUSPENSION RESIN]        [GOVERDHAN ENERGY]  INDBINBB   \n",
       "4        NaN     [PVC TRANSPARENT SHEET]      [SOJITZ CORPORATION]  BOTKJPJT   \n",
       "\n",
       "     處理過的資料 預測EXPNO  \n",
       "0  ICICINBB      11  \n",
       "1  CZNBKRSE      2A  \n",
       "2  CZNBKRSE      2A  \n",
       "3  INDBINBB      11  \n",
       "4  BOTKJPJT      21  \n",
       "\n",
       "[5 rows x 28 columns]"
      ]
     },
     "execution_count": 40,
     "metadata": {},
     "output_type": "execute_result"
    }
   ],
   "source": [
    "def 推論函數(database,test_data):\n",
    "  test_data['預測EXPNO'] = None\n",
    "  database_size = len(database)\n",
    "  correct = []\n",
    "  for idx in tqdm(range(test_n)):\n",
    "    o1 = 根據特定欄位和索引給出候選答案清單(\n",
    "      col='產品名',idx=idx,k=3,\n",
    "      database_size=database_size,\n",
    "      database=database,test_data=test_data)\n",
    "    o2 = 根據特定欄位和索引給出候選答案清單(\n",
    "      col='開狀人',idx=idx,k=3,\n",
    "      database_size=database_size,\n",
    "      database=database,test_data=test_data)\n",
    "    o3 = 根據特定欄位和索引給出候選答案清單(\n",
    "      col='受益人',idx=idx,k=3,\n",
    "      database_size=database_size,\n",
    "      database=database,test_data=test_data)\n",
    "    o4 = 根據特定欄位和索引給出候選答案清單(\n",
    "      col='開狀銀行',idx=idx,k=3,\n",
    "      database_size=database_size,\n",
    "      database=database,test_data=test_data)\n",
    "    o = o1#+o2+o3+o4\n",
    "    # 產生最終答案\n",
    "    try:\n",
    "      ensemble_output = max(o,key=o.count)\n",
    "    except:\n",
    "      ensemble_output = 'not find'\n",
    "    test_data.loc[idx,'預測EXPNO'] = ensemble_output\n",
    "    # 確認是否正確\n",
    "    if ensemble_output == test_data['推薦公司事業部'][idx]:\n",
    "      correct.append(True)\n",
    "    else:\n",
    "      correct.append(False)\n",
    "  print('acc:',np.mean(correct))\n",
    "  return test_data\n",
    "test_data = 推論函數(database,test_data)\n",
    "test_data.head()"
   ]
  },
  {
   "cell_type": "code",
   "execution_count": 42,
   "metadata": {},
   "outputs": [
    {
     "name": "stderr",
     "output_type": "stream",
     "text": [
      "C:\\Users\\ricky\\anaconda3\\envs\\bert_env\\lib\\site-packages\\ipykernel_launcher.py:6: TqdmDeprecationWarning: This function will be removed in tqdm==5.0.0\n",
      "Please use `tqdm.notebook.tqdm` instead of `tqdm.tqdm_notebook`\n",
      "  \n"
     ]
    },
    {
     "data": {
      "application/vnd.jupyter.widget-view+json": {
       "model_id": "38f3ec1dc3c94ed48fa4ff3d5e7ff3b8",
       "version_major": 2,
       "version_minor": 0
      },
      "text/plain": [
       "  0%|          | 0/2427 [00:00<?, ?it/s]"
      ]
     },
     "metadata": {},
     "output_type": "display_data"
    },
    {
     "name": "stdout",
     "output_type": "stream",
     "text": [
      "acc: 0.6975690152451587\n"
     ]
    },
    {
     "data": {
      "text/html": [
       "<div>\n",
       "<style scoped>\n",
       "    .dataframe tbody tr th:only-of-type {\n",
       "        vertical-align: middle;\n",
       "    }\n",
       "\n",
       "    .dataframe tbody tr th {\n",
       "        vertical-align: top;\n",
       "    }\n",
       "\n",
       "    .dataframe thead th {\n",
       "        text-align: right;\n",
       "    }\n",
       "</style>\n",
       "<table border=\"1\" class=\"dataframe\">\n",
       "  <thead>\n",
       "    <tr style=\"text-align: right;\">\n",
       "      <th></th>\n",
       "      <th>Unnamed: 0</th>\n",
       "      <th>項次</th>\n",
       "      <th>電文代號</th>\n",
       "      <th>銀行</th>\n",
       "      <th>20</th>\n",
       "      <th>回傳代碼</th>\n",
       "      <th>回傳訊息</th>\n",
       "      <th>建檔日期</th>\n",
       "      <th>受益人</th>\n",
       "      <th>金額</th>\n",
       "      <th>...</th>\n",
       "      <th>47A</th>\n",
       "      <th>78</th>\n",
       "      <th>LTADDRESS.1</th>\n",
       "      <th>memo</th>\n",
       "      <th>Unnamed: 5</th>\n",
       "      <th>產品名</th>\n",
       "      <th>開狀人</th>\n",
       "      <th>開狀銀行</th>\n",
       "      <th>處理過的資料</th>\n",
       "      <th>預測EXPNO</th>\n",
       "    </tr>\n",
       "  </thead>\n",
       "  <tbody>\n",
       "    <tr>\n",
       "      <th>0</th>\n",
       "      <td>7</td>\n",
       "      <td>8</td>\n",
       "      <td>mt700</td>\n",
       "      <td>16</td>\n",
       "      <td>0006MLC00034022</td>\n",
       "      <td>200</td>\n",
       "      <td>{\"MESSAGE\":\"\",\"CODE\":200}</td>\n",
       "      <td>2021/09/24 12:31:17</td>\n",
       "      <td>[FORMOSA PLASTICS]</td>\n",
       "      <td>USD136080,00</td>\n",
       "      <td>...</td>\n",
       "      <td>1. ALL DOCUMENTS MUST BE IN ENGLISH.\\r\\n2. ALL...</td>\n",
       "      <td>UPON RECEIPT OF CREDIT COMPLIANT DOCUMENTS AT ...</td>\n",
       "      <td>ICICINBBACTS</td>\n",
       "      <td>NaN</td>\n",
       "      <td>NaN</td>\n",
       "      <td>[PVC SUSPENSION RESIN]</td>\n",
       "      <td>[DEEP JYOTI WAX TRADERS]</td>\n",
       "      <td>ICICINBB</td>\n",
       "      <td>ICICINBB</td>\n",
       "      <td>11</td>\n",
       "    </tr>\n",
       "    <tr>\n",
       "      <th>1</th>\n",
       "      <td>35</td>\n",
       "      <td>36</td>\n",
       "      <td>mt700</td>\n",
       "      <td>16</td>\n",
       "      <td>M100H2109SS00178</td>\n",
       "      <td>200</td>\n",
       "      <td>{\"MESSAGE\":\"\",\"CODE\":200}</td>\n",
       "      <td>2021/09/24 12:00:20</td>\n",
       "      <td>[NAN YA PLASTICS]</td>\n",
       "      <td>USD710000,</td>\n",
       "      <td>...</td>\n",
       "      <td>+ BOTH QUANTITY AND LC AMOUNT 5 PERCENT LESS I...</td>\n",
       "      <td>+THE AMOUNT OF EACH DRAWING MUST BE NOTED ON T...</td>\n",
       "      <td>CZNBKRSEAXXX</td>\n",
       "      <td>NaN</td>\n",
       "      <td>NaN</td>\n",
       "      <td>[MONO ETHYLENE GLYCOL MEG]</td>\n",
       "      <td>[CHEMNEWS CORP]</td>\n",
       "      <td>CZNBKRSE</td>\n",
       "      <td>CZNBKRSE</td>\n",
       "      <td>2A</td>\n",
       "    </tr>\n",
       "    <tr>\n",
       "      <th>2</th>\n",
       "      <td>36</td>\n",
       "      <td>37</td>\n",
       "      <td>mt700</td>\n",
       "      <td>16</td>\n",
       "      <td>M100H2109SS00185</td>\n",
       "      <td>200</td>\n",
       "      <td>{\"MESSAGE\":\"\",\"CODE\":200}</td>\n",
       "      <td>2021/09/24 12:00:38</td>\n",
       "      <td>[NAN YA PLASTICS]</td>\n",
       "      <td>USD710000,</td>\n",
       "      <td>...</td>\n",
       "      <td>- BOTH QUANTITY AND LC AMOUNT 5 PERCENT LESS I...</td>\n",
       "      <td>+THE AMOUNT OF EACH DRAWING MUST BE NOTED ON T...</td>\n",
       "      <td>CZNBKRSEAXXX</td>\n",
       "      <td>NaN</td>\n",
       "      <td>NaN</td>\n",
       "      <td>[MONO ETHYLENE GLYCOL MEG]</td>\n",
       "      <td>[CHEMNEWS CORP]</td>\n",
       "      <td>CZNBKRSE</td>\n",
       "      <td>CZNBKRSE</td>\n",
       "      <td>2A</td>\n",
       "    </tr>\n",
       "    <tr>\n",
       "      <th>3</th>\n",
       "      <td>37</td>\n",
       "      <td>38</td>\n",
       "      <td>mt700</td>\n",
       "      <td>16</td>\n",
       "      <td>OLC0025210044889</td>\n",
       "      <td>200</td>\n",
       "      <td>{\"MESSAGE\":\"\",\"CODE\":200}</td>\n",
       "      <td>2021/09/24 12:31:55</td>\n",
       "      <td>[FORMOSA PLASTICS]</td>\n",
       "      <td>USD140875,00</td>\n",
       "      <td>...</td>\n",
       "      <td>1. FIELD 50 APPLICANT DETAILS:\\r\\nGOVERDHAN EN...</td>\n",
       "      <td>THE NEGOTIATING BANK TO COURIER FULL SET OF DO...</td>\n",
       "      <td>INDBINBBANAS</td>\n",
       "      <td>NaN</td>\n",
       "      <td>NaN</td>\n",
       "      <td>[PVC SUSPENSION RESIN]</td>\n",
       "      <td>[GOVERDHAN ENERGY]</td>\n",
       "      <td>INDBINBB</td>\n",
       "      <td>INDBINBB</td>\n",
       "      <td>11</td>\n",
       "    </tr>\n",
       "    <tr>\n",
       "      <th>4</th>\n",
       "      <td>38</td>\n",
       "      <td>39</td>\n",
       "      <td>mt700</td>\n",
       "      <td>16</td>\n",
       "      <td>S-321-2021242</td>\n",
       "      <td>200</td>\n",
       "      <td>{\"MESSAGE\":\"\",\"CODE\":200}</td>\n",
       "      <td>2021/09/24 12:40:42</td>\n",
       "      <td>[NAN YA PLASTICS]</td>\n",
       "      <td>USD39631,45</td>\n",
       "      <td>...</td>\n",
       "      <td>+ALL DOCUMENTS MUST BE ISSUED IN ENGLISH LANGU...</td>\n",
       "      <td>REIMBURSEMENT BY TELECOMMUNICATION IS PROHIBIT...</td>\n",
       "      <td>BOTKJPJTAXXX</td>\n",
       "      <td>NaN</td>\n",
       "      <td>NaN</td>\n",
       "      <td>[PVC TRANSPARENT SHEET]</td>\n",
       "      <td>[SOJITZ CORPORATION]</td>\n",
       "      <td>BOTKJPJT</td>\n",
       "      <td>BOTKJPJT</td>\n",
       "      <td>21</td>\n",
       "    </tr>\n",
       "  </tbody>\n",
       "</table>\n",
       "<p>5 rows × 28 columns</p>\n",
       "</div>"
      ],
      "text/plain": [
       "   Unnamed: 0  項次   電文代號  銀行                20  回傳代碼  \\\n",
       "0           7   8  mt700  16   0006MLC00034022   200   \n",
       "1          35  36  mt700  16  M100H2109SS00178   200   \n",
       "2          36  37  mt700  16  M100H2109SS00185   200   \n",
       "3          37  38  mt700  16  OLC0025210044889   200   \n",
       "4          38  39  mt700  16     S-321-2021242   200   \n",
       "\n",
       "                        回傳訊息                 建檔日期                 受益人  \\\n",
       "0  {\"MESSAGE\":\"\",\"CODE\":200}  2021/09/24 12:31:17  [FORMOSA PLASTICS]   \n",
       "1  {\"MESSAGE\":\"\",\"CODE\":200}  2021/09/24 12:00:20   [NAN YA PLASTICS]   \n",
       "2  {\"MESSAGE\":\"\",\"CODE\":200}  2021/09/24 12:00:38   [NAN YA PLASTICS]   \n",
       "3  {\"MESSAGE\":\"\",\"CODE\":200}  2021/09/24 12:31:55  [FORMOSA PLASTICS]   \n",
       "4  {\"MESSAGE\":\"\",\"CODE\":200}  2021/09/24 12:40:42   [NAN YA PLASTICS]   \n",
       "\n",
       "             金額  ...                                                47A  \\\n",
       "0  USD136080,00  ...  1. ALL DOCUMENTS MUST BE IN ENGLISH.\\r\\n2. ALL...   \n",
       "1    USD710000,  ...  + BOTH QUANTITY AND LC AMOUNT 5 PERCENT LESS I...   \n",
       "2    USD710000,  ...  - BOTH QUANTITY AND LC AMOUNT 5 PERCENT LESS I...   \n",
       "3  USD140875,00  ...  1. FIELD 50 APPLICANT DETAILS:\\r\\nGOVERDHAN EN...   \n",
       "4   USD39631,45  ...  +ALL DOCUMENTS MUST BE ISSUED IN ENGLISH LANGU...   \n",
       "\n",
       "                                                  78   LTADDRESS.1 memo  \\\n",
       "0  UPON RECEIPT OF CREDIT COMPLIANT DOCUMENTS AT ...  ICICINBBACTS  NaN   \n",
       "1  +THE AMOUNT OF EACH DRAWING MUST BE NOTED ON T...  CZNBKRSEAXXX  NaN   \n",
       "2  +THE AMOUNT OF EACH DRAWING MUST BE NOTED ON T...  CZNBKRSEAXXX  NaN   \n",
       "3  THE NEGOTIATING BANK TO COURIER FULL SET OF DO...  INDBINBBANAS  NaN   \n",
       "4  REIMBURSEMENT BY TELECOMMUNICATION IS PROHIBIT...  BOTKJPJTAXXX  NaN   \n",
       "\n",
       "  Unnamed: 5                         產品名                       開狀人      開狀銀行  \\\n",
       "0        NaN      [PVC SUSPENSION RESIN]  [DEEP JYOTI WAX TRADERS]  ICICINBB   \n",
       "1        NaN  [MONO ETHYLENE GLYCOL MEG]           [CHEMNEWS CORP]  CZNBKRSE   \n",
       "2        NaN  [MONO ETHYLENE GLYCOL MEG]           [CHEMNEWS CORP]  CZNBKRSE   \n",
       "3        NaN      [PVC SUSPENSION RESIN]        [GOVERDHAN ENERGY]  INDBINBB   \n",
       "4        NaN     [PVC TRANSPARENT SHEET]      [SOJITZ CORPORATION]  BOTKJPJT   \n",
       "\n",
       "     處理過的資料 預測EXPNO  \n",
       "0  ICICINBB      11  \n",
       "1  CZNBKRSE      2A  \n",
       "2  CZNBKRSE      2A  \n",
       "3  INDBINBB      11  \n",
       "4  BOTKJPJT      21  \n",
       "\n",
       "[5 rows x 28 columns]"
      ]
     },
     "execution_count": 42,
     "metadata": {},
     "output_type": "execute_result"
    }
   ],
   "source": [
    "test_n = len(test_data)\n",
    "def 推論函數(database,test_data):\n",
    "  test_data['預測EXPNO'] = None\n",
    "  database_size = len(database)\n",
    "  correct = []\n",
    "  for idx in tqdm(range(test_n)):\n",
    "    o1 = 根據特定欄位和索引給出候選答案清單(\n",
    "      col='產品名',idx=idx,k=3,\n",
    "      database_size=database_size,\n",
    "      database=database,test_data=test_data)\n",
    "    o2 = 根據特定欄位和索引給出候選答案清單(\n",
    "      col='開狀人',idx=idx,k=3,\n",
    "      database_size=database_size,\n",
    "      database=database,test_data=test_data)\n",
    "    o3 = 根據特定欄位和索引給出候選答案清單(\n",
    "      col='受益人',idx=idx,k=3,\n",
    "      database_size=database_size,\n",
    "      database=database,test_data=test_data)\n",
    "    o4 = 根據特定欄位和索引給出候選答案清單(\n",
    "      col='開狀銀行',idx=idx,k=3,\n",
    "      database_size=database_size,\n",
    "      database=database,test_data=test_data)\n",
    "    o = o1#+o2+o3+o4\n",
    "    # 產生最終答案\n",
    "    try:\n",
    "      ensemble_output = max(o,key=o.count)\n",
    "    except:\n",
    "      ensemble_output = 'not find'\n",
    "    test_data.loc[idx,'預測EXPNO'] = ensemble_output\n",
    "    # 確認是否正確\n",
    "    if ensemble_output == test_data['推薦公司事業部'][idx]:\n",
    "      correct.append(True)\n",
    "    else:\n",
    "      correct.append(False)\n",
    "  print('acc:',np.mean(correct))\n",
    "  return test_data\n",
    "test_data = 推論函數(database,test_data)\n",
    "test_data.head()"
   ]
  },
  {
   "cell_type": "code",
   "execution_count": 46,
   "metadata": {},
   "outputs": [],
   "source": [
    "test_data[輸出欄位+['推薦公司事業部','預測EXPNO']].to_excel('../predict_result/預測結果.xlsx')"
   ]
  },
  {
   "cell_type": "code",
   "execution_count": null,
   "metadata": {},
   "outputs": [],
   "source": []
  }
 ],
 "metadata": {
  "interpreter": {
   "hash": "993826b923065dd66fa4bf5d15ab27fb473cbe0d9ee1e2a0f60195f6a60c263f"
  },
  "kernelspec": {
   "display_name": "Python 3.7.11 ('bert_env')",
   "language": "python",
   "name": "python3"
  },
  "language_info": {
   "codemirror_mode": {
    "name": "ipython",
    "version": 3
   },
   "file_extension": ".py",
   "mimetype": "text/x-python",
   "name": "python",
   "nbconvert_exporter": "python",
   "pygments_lexer": "ipython3",
   "version": "3.7.11"
  },
  "orig_nbformat": 4
 },
 "nbformat": 4,
 "nbformat_minor": 2
}
