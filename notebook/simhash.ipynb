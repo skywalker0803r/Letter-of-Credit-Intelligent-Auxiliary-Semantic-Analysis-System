{
 "cells": [
  {
   "cell_type": "code",
   "execution_count": 63,
   "metadata": {},
   "outputs": [],
   "source": [
    "import re \n",
    "import requests\n",
    "import numpy as np\n",
    "import pandas as pd\n",
    "from tqdm import tqdm_notebook as tqdm\n",
    "from simhash import Simhash\n",
    "import matplotlib.pyplot as plt\n",
    "\n",
    "def seed_everything(seed: int):\n",
    "    import random, os\n",
    "    import numpy as np\n",
    "    random.seed(seed)\n",
    "    os.environ['PYTHONHASHSEED'] = str(seed)\n",
    "    np.random.seed(seed)\n",
    "seed_everything(42)"
   ]
  },
  {
   "cell_type": "markdown",
   "metadata": {},
   "source": [
    "# 核心算法"
   ]
  },
  {
   "cell_type": "code",
   "execution_count": 64,
   "metadata": {},
   "outputs": [],
   "source": [
    "# MSKTS文本相似度比對算法\n",
    "url = 'https://gist.githubusercontent.com/skywalker0803r/7c00d680d731b99ab549dd40a96006ce/raw/d9bb060a42285053faa5227df521b43f381f1a0b/MSKTS.py'\n",
    "exec(requests.get(url).text)"
   ]
  },
  {
   "cell_type": "markdown",
   "metadata": {},
   "source": [
    "# help function"
   ]
  },
  {
   "cell_type": "code",
   "execution_count": 65,
   "metadata": {},
   "outputs": [],
   "source": [
    "# 只保留英文字母\n",
    "def keep_alpha(str1): \n",
    "  char = \"\" \n",
    "  for x in str(str1):\n",
    "    if x.isalpha(): \n",
    "      char = \"\".join([char, x])\n",
    "  return char\n",
    "\n",
    "# 基於規則之關鍵字匹配算法\n",
    "def matching(sentence,database):\n",
    "  candidate_list = []\n",
    "  for word in database:\n",
    "    if word in sentence: \n",
    "      candidate_list.append(word)\n",
    "  return candidate_list\n",
    "\n",
    "# string_list中的string若為其他string的\"子集\"則剔除\n",
    "def substringSieve(string_list):\n",
    "    string_list.sort(key=lambda s: len(s), reverse=True)\n",
    "    out = []\n",
    "    for s in string_list:\n",
    "      if not any([s in o for o in out]):\n",
    "        out.append(s)\n",
    "    return out\n",
    "\n",
    "# 去除多重空白\n",
    "def remove_multiple_blanks(x):\n",
    "  for i in range(2,10,1):\n",
    "    x = x.replace(' '*i,' ')\n",
    "  return x\n",
    "\n",
    "# 輸入sentence前處理\n",
    "def preprocess_raw_sentence(x):\n",
    "  x = str(x).upper() # 轉大寫字串\n",
    "  x = re.sub('[\\u4e00-\\u9fa5]', '', x) # 去除中文\n",
    "  x = re.sub(r'[^\\w\\s]','',x) # 去除標點符號\n",
    "  x = x.replace('\\n', '').replace('\\r', '').replace('\\t', '') # 去除換行符號\n",
    "  str.strip(x) # 移除左右空白\n",
    "  x = remove_multiple_blanks(x) # 去除多重空白\n",
    "  x = ' ' + x + ' '# 出現在頭的 就不可能對到前後加空格的 這種情形要想想怎麼對照(加上左右空白)\n",
    "  return x\n",
    "\n",
    "# 字串長度小於3的單詞前後加空白\n",
    "def add_space(x):\n",
    "    if (' ' not in x) and (len(x)<=3): \n",
    "        return ' ' + x + ' '\n",
    "    else:\n",
    "        return x\n",
    "\n",
    "# 產品後處理\n",
    "def product_name_postprocess(x):\n",
    "  x = str(x).upper() # 轉大寫字串\n",
    "  x = re.sub(r'[^\\w\\s]','',x) # 去除標點符號\n",
    "  x = x.strip() # 去除空白\n",
    "  x = add_space(x)# 字串長度小於3的單詞前後加空白\n",
    "  return x\n",
    "\n",
    "# 基於關鍵字比對方法的預測函數\n",
    "def predict_keyword(title,test_df,Unrecognized,input_col,database,output_col):\n",
    "  result = []\n",
    "  for i in tqdm(test_df.index):\n",
    "    candidate_list = matching(\n",
    "        sentence = test_df.loc[i,input_col],\n",
    "        database = set(database) - set(Unrecognized)\n",
    "        )\n",
    "    result.append(substringSieve(candidate_list))\n",
    "  test_df[output_col] = result\n",
    "  return test_df\n",
    "\n",
    "# 取得dataframe的空列表索引\n",
    "def get_empty_list_idx(df,col):\n",
    "  error_idx = []\n",
    "  for idx,name in enumerate(df[col].values.tolist()):\n",
    "    if len(name) == 0:\n",
    "      error_idx.append(idx)\n",
    "  return error_idx\n",
    "  "
   ]
  },
  {
   "cell_type": "markdown",
   "metadata": {},
   "source": [
    "# 載入數據\n"
   ]
  },
  {
   "cell_type": "code",
   "execution_count": 66,
   "metadata": {},
   "outputs": [],
   "source": [
    "# 歷史資料庫\n",
    "database = pd.read_excel('../data/combined_excel.xlsx')\n",
    "# 新的測試數據\n",
    "test_data = pd.read_csv('../data/測試數據/0927到2022.csv')\n",
    "\n",
    "# 讀取\"產品名\"寶典\n",
    "品名寶典 = pd.read_excel('../data/寶典/寶典人工處理後/寶典.v9.202111202.xlsx',engine='openpyxl')[['CODIV','DIVNM','ITEMNM']]\n",
    "品名寶典 = 品名寶典.rename(columns={'ITEMNM':'品名','DIVNM':'公司事業部門','CODIV':'公司代號'})\n",
    "品名寶典['品名'] = 品名寶典['品名'].apply(lambda x:product_name_postprocess(x))\n",
    "\n",
    "# 讀取\"開狀人\"寶典\n",
    "開狀人寶典 = pd.read_csv('../data/寶典/開狀人寶典.csv')\n",
    "\n",
    "# 讀取\"公司\"寶典\n",
    "公司寶典 = pd.read_csv('../data/寶典/公司寶典加尾綴.csv')"
   ]
  },
  {
   "cell_type": "code",
   "execution_count": 67,
   "metadata": {},
   "outputs": [
    {
     "data": {
      "text/plain": [
       "['AF',\n",
       " 'AH',\n",
       " 'AL',\n",
       " 'BM',\n",
       " 'BN',\n",
       " 'GF',\n",
       " 'IF',\n",
       " 'RS',\n",
       " 'RW',\n",
       " 'RZ',\n",
       " 'XU',\n",
       " 'XZ',\n",
       " 'BQ',\n",
       " 'RC',\n",
       " 'RP',\n",
       " 'RA',\n",
       " 'RV',\n",
       " 'TN',\n",
       " 'TR',\n",
       " 'BW']"
      ]
     },
     "execution_count": 67,
     "metadata": {},
     "output_type": "execute_result"
    }
   ],
   "source": [
    "小公司列表 = []\n",
    "for i in 公司寶典['代號']:\n",
    "    if (len(i) == 2) and (i[0].isalpha()) and (i[1].isalpha()):\n",
    "        小公司列表.append(i)\n",
    "小公司列表"
   ]
  },
  {
   "cell_type": "markdown",
   "metadata": {},
   "source": [
    "# 按照時間排序資料"
   ]
  },
  {
   "cell_type": "code",
   "execution_count": 68,
   "metadata": {},
   "outputs": [],
   "source": [
    "def sort_by_form(df):\n",
    "    df = df.sort_values(by='from')\n",
    "    df = df.reset_index(drop=True)\n",
    "    return df\n",
    "database = sort_by_form(database)\n",
    "test_data = sort_by_form(test_data)"
   ]
  },
  {
   "cell_type": "markdown",
   "metadata": {},
   "source": [
    "# 定義欄位"
   ]
  },
  {
   "cell_type": "code",
   "execution_count": 69,
   "metadata": {},
   "outputs": [],
   "source": [
    "產品名輸入 = '45A' #產品名\n",
    "開狀人輸入 = '50' #開狀人\n",
    "受益人輸入 = '59' #受益人\n",
    "開狀銀行輸入 = 'LTADDRESS.1' #銀行輸入\n",
    "輸出欄位 = ['產品名','開狀人','受益人','開狀銀行']\n",
    "輸入欄位 = ['45A','50','59','LTADDRESS.1']"
   ]
  },
  {
   "cell_type": "markdown",
   "metadata": {},
   "source": [
    "# 預處理函數"
   ]
  },
  {
   "cell_type": "code",
   "execution_count": 70,
   "metadata": {},
   "outputs": [],
   "source": [
    "# 針對模型輸入做預處理\n",
    "def 預處理(df):\n",
    "  產品名輸入 = '45A' #產品名\n",
    "  開狀人輸入 = '50' #開狀人\n",
    "  受益人輸入 = '59' #受益人\n",
    "  開狀銀行輸入 = 'LTADDRESS.1' #銀行輸入\n",
    "  for i in [產品名輸入,開狀人輸入,受益人輸入]:\n",
    "    df[i] = df[i].apply(lambda x:preprocess_raw_sentence(x))\n",
    "  return df"
   ]
  },
  {
   "cell_type": "markdown",
   "metadata": {},
   "source": [
    "# 抽特徵函數"
   ]
  },
  {
   "cell_type": "code",
   "execution_count": 71,
   "metadata": {},
   "outputs": [],
   "source": [
    "def 抽特徵(df,品名寶典=None,開狀人寶典=None,公司寶典=None):\n",
    "  # 預測產品\n",
    "  df = predict_keyword(\n",
    "      title = '正在預測產品',\n",
    "      test_df = df,\n",
    "      Unrecognized = ['PE','MA','EA','GRADE','INA','PACK','PP','PA','']+[' '*i for i in range(1,10,1)],\n",
    "      input_col = 產品名輸入,\n",
    "      database = list(map(lambda x:str(x).upper(),品名寶典['品名'].values.tolist())),\n",
    "      output_col = '產品名',\n",
    "      )\n",
    "\n",
    "  # 預測開狀人\n",
    "  df = predict_keyword(\n",
    "      title = '正在預測開狀人',\n",
    "      test_df = df,\n",
    "      Unrecognized = ['']+[' '*i for i in range(1,10,1)],\n",
    "      input_col = 開狀人輸入,\n",
    "      database = list(map(lambda x:str(x).upper(),開狀人寶典['開狀人'].values.tolist())),\n",
    "      output_col = '開狀人',\n",
    "      )\n",
    "\n",
    "  # 預測公司(受益人)\n",
    "  df = predict_keyword(\n",
    "      title = '正在預測受益人',\n",
    "      test_df = df,\n",
    "      Unrecognized = ['']+[' '*i for i in range(1,10,1)],\n",
    "      input_col = 受益人輸入,\n",
    "      database = list(map(lambda x:str(x).upper(),公司寶典['公司英文名稱'].values.tolist())),\n",
    "      output_col = '受益人',\n",
    "      )\n",
    "\n",
    "  # 預測開狀銀行\n",
    "  df['開狀銀行'] = df[開狀銀行輸入].apply(lambda x:str(x)[:8])\n",
    "  return df"
   ]
  },
  {
   "cell_type": "markdown",
   "metadata": {},
   "source": [
    "# 準備訓練資料"
   ]
  },
  {
   "cell_type": "code",
   "execution_count": 72,
   "metadata": {},
   "outputs": [
    {
     "name": "stderr",
     "output_type": "stream",
     "text": [
      "<ipython-input-65-4e4c7646e576>:61: TqdmDeprecationWarning: This function will be removed in tqdm==5.0.0\n",
      "Please use `tqdm.notebook.tqdm` instead of `tqdm.tqdm_notebook`\n",
      "  for i in tqdm(test_df.index):\n"
     ]
    },
    {
     "data": {
      "application/vnd.jupyter.widget-view+json": {
       "model_id": "a9c5a9d260894970bf1092ff83b74ab8",
       "version_major": 2,
       "version_minor": 0
      },
      "text/plain": [
       "HBox(children=(FloatProgress(value=0.0, max=20737.0), HTML(value='')))"
      ]
     },
     "metadata": {},
     "output_type": "display_data"
    },
    {
     "name": "stdout",
     "output_type": "stream",
     "text": [
      "\n"
     ]
    },
    {
     "data": {
      "application/vnd.jupyter.widget-view+json": {
       "model_id": "0a4151e3dfb448ae8176da3be9334979",
       "version_major": 2,
       "version_minor": 0
      },
      "text/plain": [
       "HBox(children=(FloatProgress(value=0.0, max=20737.0), HTML(value='')))"
      ]
     },
     "metadata": {},
     "output_type": "display_data"
    },
    {
     "name": "stdout",
     "output_type": "stream",
     "text": [
      "\n"
     ]
    },
    {
     "data": {
      "application/vnd.jupyter.widget-view+json": {
       "model_id": "05ccb8c8efaf416b82f08685f75623db",
       "version_major": 2,
       "version_minor": 0
      },
      "text/plain": [
       "HBox(children=(FloatProgress(value=0.0, max=20737.0), HTML(value='')))"
      ]
     },
     "metadata": {},
     "output_type": "display_data"
    },
    {
     "name": "stdout",
     "output_type": "stream",
     "text": [
      "\n",
      "產品名 空列表數量: 7397\n",
      "開狀人 空列表數量: 7081\n",
      "受益人 空列表數量: 6885\n",
      "開狀銀行 空列表數量: 0\n"
     ]
    },
    {
     "data": {
      "text/html": [
       "<div>\n",
       "<style scoped>\n",
       "    .dataframe tbody tr th:only-of-type {\n",
       "        vertical-align: middle;\n",
       "    }\n",
       "\n",
       "    .dataframe tbody tr th {\n",
       "        vertical-align: top;\n",
       "    }\n",
       "\n",
       "    .dataframe thead th {\n",
       "        text-align: right;\n",
       "    }\n",
       "</style>\n",
       "<table border=\"1\" class=\"dataframe\">\n",
       "  <thead>\n",
       "    <tr style=\"text-align: right;\">\n",
       "      <th></th>\n",
       "      <th>產品名</th>\n",
       "      <th>開狀人</th>\n",
       "      <th>受益人</th>\n",
       "      <th>開狀銀行</th>\n",
       "    </tr>\n",
       "  </thead>\n",
       "  <tbody>\n",
       "    <tr>\n",
       "      <th>20732</th>\n",
       "      <td>[NYLON 6 FILAMENT YARN]</td>\n",
       "      <td>[SKY INDUSTRIES LTD]</td>\n",
       "      <td>[FORMOSA CHEMICALS AND FIBRE]</td>\n",
       "      <td>KKBKINBB</td>\n",
       "    </tr>\n",
       "    <tr>\n",
       "      <th>20733</th>\n",
       "      <td>[PVC SUSPENSION RESIN]</td>\n",
       "      <td>[L D INTERNATIONAL]</td>\n",
       "      <td>[FORMOSA PLASTICS]</td>\n",
       "      <td>KKBKINBB</td>\n",
       "    </tr>\n",
       "    <tr>\n",
       "      <th>20734</th>\n",
       "      <td>[EPOXY RESIN, NPEF]</td>\n",
       "      <td>[ALLCHEM INTERNATIONAL PTY LTD]</td>\n",
       "      <td>[NAN YA PLASTICS]</td>\n",
       "      <td>CTCBHKHH</td>\n",
       "    </tr>\n",
       "    <tr>\n",
       "      <th>20735</th>\n",
       "      <td>[EPOXY RESIN, NPEL]</td>\n",
       "      <td>[ALLCHEM INTERNATIONAL PTY LTD]</td>\n",
       "      <td>[NAN YA PLASTICS]</td>\n",
       "      <td>CTCBHKHH</td>\n",
       "    </tr>\n",
       "    <tr>\n",
       "      <th>20736</th>\n",
       "      <td>[PVC RESIN]</td>\n",
       "      <td>[PRAGYA FLEXIFILM INDUSTRIES]</td>\n",
       "      <td>[FORMOSA PLASTICS]</td>\n",
       "      <td>KKBKINBB</td>\n",
       "    </tr>\n",
       "  </tbody>\n",
       "</table>\n",
       "</div>"
      ],
      "text/plain": [
       "                           產品名                              開狀人  \\\n",
       "20732  [NYLON 6 FILAMENT YARN]             [SKY INDUSTRIES LTD]   \n",
       "20733   [PVC SUSPENSION RESIN]              [L D INTERNATIONAL]   \n",
       "20734      [EPOXY RESIN, NPEF]  [ALLCHEM INTERNATIONAL PTY LTD]   \n",
       "20735      [EPOXY RESIN, NPEL]  [ALLCHEM INTERNATIONAL PTY LTD]   \n",
       "20736              [PVC RESIN]    [PRAGYA FLEXIFILM INDUSTRIES]   \n",
       "\n",
       "                                 受益人      開狀銀行  \n",
       "20732  [FORMOSA CHEMICALS AND FIBRE]  KKBKINBB  \n",
       "20733             [FORMOSA PLASTICS]  KKBKINBB  \n",
       "20734              [NAN YA PLASTICS]  CTCBHKHH  \n",
       "20735              [NAN YA PLASTICS]  CTCBHKHH  \n",
       "20736             [FORMOSA PLASTICS]  KKBKINBB  "
      ]
     },
     "execution_count": 72,
     "metadata": {},
     "output_type": "execute_result"
    }
   ],
   "source": [
    "database = 抽特徵(預處理(database),品名寶典=品名寶典,開狀人寶典=開狀人寶典,公司寶典=公司寶典)\n",
    "for i in 輸出欄位:\n",
    "    number = get_empty_list_idx(df=database,col=i)\n",
    "    print(i,'空列表數量:',len(number))\n",
    "database[輸出欄位].tail(5)"
   ]
  },
  {
   "cell_type": "markdown",
   "metadata": {},
   "source": [
    "# 準備測試資料"
   ]
  },
  {
   "cell_type": "code",
   "execution_count": 73,
   "metadata": {},
   "outputs": [
    {
     "name": "stderr",
     "output_type": "stream",
     "text": [
      "<ipython-input-65-4e4c7646e576>:61: TqdmDeprecationWarning: This function will be removed in tqdm==5.0.0\n",
      "Please use `tqdm.notebook.tqdm` instead of `tqdm.tqdm_notebook`\n",
      "  for i in tqdm(test_df.index):\n"
     ]
    },
    {
     "data": {
      "application/vnd.jupyter.widget-view+json": {
       "model_id": "84c56a2027334bb0923ab1b9b69e2209",
       "version_major": 2,
       "version_minor": 0
      },
      "text/plain": [
       "HBox(children=(FloatProgress(value=0.0, max=2427.0), HTML(value='')))"
      ]
     },
     "metadata": {},
     "output_type": "display_data"
    },
    {
     "name": "stdout",
     "output_type": "stream",
     "text": [
      "\n"
     ]
    },
    {
     "data": {
      "application/vnd.jupyter.widget-view+json": {
       "model_id": "482ee60f8b11481e80f0e635366eabbe",
       "version_major": 2,
       "version_minor": 0
      },
      "text/plain": [
       "HBox(children=(FloatProgress(value=0.0, max=2427.0), HTML(value='')))"
      ]
     },
     "metadata": {},
     "output_type": "display_data"
    },
    {
     "name": "stdout",
     "output_type": "stream",
     "text": [
      "\n"
     ]
    },
    {
     "data": {
      "application/vnd.jupyter.widget-view+json": {
       "model_id": "5c6f352cc7624c99ae5885b59f58898c",
       "version_major": 2,
       "version_minor": 0
      },
      "text/plain": [
       "HBox(children=(FloatProgress(value=0.0, max=2427.0), HTML(value='')))"
      ]
     },
     "metadata": {},
     "output_type": "display_data"
    },
    {
     "name": "stdout",
     "output_type": "stream",
     "text": [
      "\n",
      "產品名 空列表數量: 176\n",
      "開狀人 空列表數量: 571\n",
      "受益人 空列表數量: 73\n",
      "開狀銀行 空列表數量: 0\n"
     ]
    },
    {
     "data": {
      "text/html": [
       "<div>\n",
       "<style scoped>\n",
       "    .dataframe tbody tr th:only-of-type {\n",
       "        vertical-align: middle;\n",
       "    }\n",
       "\n",
       "    .dataframe tbody tr th {\n",
       "        vertical-align: top;\n",
       "    }\n",
       "\n",
       "    .dataframe thead th {\n",
       "        text-align: right;\n",
       "    }\n",
       "</style>\n",
       "<table border=\"1\" class=\"dataframe\">\n",
       "  <thead>\n",
       "    <tr style=\"text-align: right;\">\n",
       "      <th></th>\n",
       "      <th>產品名</th>\n",
       "      <th>開狀人</th>\n",
       "      <th>受益人</th>\n",
       "      <th>開狀銀行</th>\n",
       "    </tr>\n",
       "  </thead>\n",
       "  <tbody>\n",
       "    <tr>\n",
       "      <th>2422</th>\n",
       "      <td>[ETHYLENEPROPYLENE COPOLYMER, PLASTIC RESIN, P...</td>\n",
       "      <td>[DRACO KING INDUSTRIES LIMITED]</td>\n",
       "      <td>[FORMOSA PLASTICS]</td>\n",
       "      <td>HNBKHKHH</td>\n",
       "    </tr>\n",
       "    <tr>\n",
       "      <th>2423</th>\n",
       "      <td>[MONO ETHYLENE GLYCOL]</td>\n",
       "      <td>[CHI BAO CORPORATION]</td>\n",
       "      <td>[NAN YA PLASTICS]</td>\n",
       "      <td>TPBKTWTP</td>\n",
       "    </tr>\n",
       "    <tr>\n",
       "      <th>2424</th>\n",
       "      <td>[RESIN]</td>\n",
       "      <td>[PEGASUS CHEMICALS CO LTD]</td>\n",
       "      <td>[FORMOSA PLASTICS]</td>\n",
       "      <td>ICBCTWTP</td>\n",
       "    </tr>\n",
       "    <tr>\n",
       "      <th>2425</th>\n",
       "      <td>[COVERING, GP5350]</td>\n",
       "      <td>[BRENNTAG CANADA INC]</td>\n",
       "      <td>[FORMOSA CHEMICALS AND FIBRE]</td>\n",
       "      <td>NOSCCATT</td>\n",
       "    </tr>\n",
       "    <tr>\n",
       "      <th>2426</th>\n",
       "      <td>[PVC COPOLYMER RESIN]</td>\n",
       "      <td>[S R POLYVINYL LIMITED]</td>\n",
       "      <td>[FORMOSA PLASTICS]</td>\n",
       "      <td>INDBINBB</td>\n",
       "    </tr>\n",
       "  </tbody>\n",
       "</table>\n",
       "</div>"
      ],
      "text/plain": [
       "                                                    產品名  \\\n",
       "2422  [ETHYLENEPROPYLENE COPOLYMER, PLASTIC RESIN, P...   \n",
       "2423                             [MONO ETHYLENE GLYCOL]   \n",
       "2424                                            [RESIN]   \n",
       "2425                                 [COVERING, GP5350]   \n",
       "2426                              [PVC COPOLYMER RESIN]   \n",
       "\n",
       "                                  開狀人                            受益人      開狀銀行  \n",
       "2422  [DRACO KING INDUSTRIES LIMITED]             [FORMOSA PLASTICS]  HNBKHKHH  \n",
       "2423            [CHI BAO CORPORATION]              [NAN YA PLASTICS]  TPBKTWTP  \n",
       "2424       [PEGASUS CHEMICALS CO LTD]             [FORMOSA PLASTICS]  ICBCTWTP  \n",
       "2425            [BRENNTAG CANADA INC]  [FORMOSA CHEMICALS AND FIBRE]  NOSCCATT  \n",
       "2426          [S R POLYVINYL LIMITED]             [FORMOSA PLASTICS]  INDBINBB  "
      ]
     },
     "execution_count": 73,
     "metadata": {},
     "output_type": "execute_result"
    }
   ],
   "source": [
    "test_data = 抽特徵(預處理(test_data),品名寶典=品名寶典,開狀人寶典=開狀人寶典,公司寶典=公司寶典)\n",
    "for i in 輸出欄位:\n",
    "    number = get_empty_list_idx(df=test_data,col=i)\n",
    "    print(i,'空列表數量:',len(number))\n",
    "test_data[輸出欄位].tail(5)"
   ]
  },
  {
   "cell_type": "markdown",
   "metadata": {},
   "source": [
    "# 模型測試"
   ]
  },
  {
   "cell_type": "code",
   "execution_count": 74,
   "metadata": {},
   "outputs": [],
   "source": [
    "def 根據特定欄位和索引給出候選答案清單(col,idx,k,database_size=100,database=None,test_data=None):\n",
    "  # 判斷是否為空列表\n",
    "  if len(test_data[col][idx]) == 0:\n",
    "    return []\n",
    "  # 預處理\n",
    "  database['處理過的資料'] = (database[col]).apply(keep_alpha)\n",
    "  test_data['處理過的資料'] = (test_data[col]).apply(keep_alpha)\n",
    "  # 建立模型\n",
    "  model = MSKTS()\n",
    "  model.fit(list(set(database['處理過的資料'].sample(database_size).values.tolist()) - set(['']+[' '*i for i in range(1,10,1)])))\n",
    "  # 產生預測答案清單\n",
    "  output = [i[0] for i in model.predict(test_data['處理過的資料'][idx],k=k)]\n",
    "  預測答案清單 = database.loc[database['處理過的資料'].isin(output),'EXPNO'].dropna().apply(lambda x:str(x)[:2]).values.tolist()\n",
    "  return 預測答案清單"
   ]
  },
  {
   "cell_type": "markdown",
   "metadata": {},
   "source": [
    "# 測試正確率"
   ]
  },
  {
   "cell_type": "code",
   "execution_count": 75,
   "metadata": {},
   "outputs": [
    {
     "name": "stderr",
     "output_type": "stream",
     "text": [
      "<ipython-input-75-172715e99a0e>:5: TqdmDeprecationWarning: This function will be removed in tqdm==5.0.0\n",
      "Please use `tqdm.notebook.tqdm` instead of `tqdm.tqdm_notebook`\n",
      "  for idx in tqdm(range(test_n)):\n"
     ]
    },
    {
     "data": {
      "application/vnd.jupyter.widget-view+json": {
       "model_id": "a89009dac6e64ac6b7a243db4d5fee96",
       "version_major": 2,
       "version_minor": 0
      },
      "text/plain": [
       "HBox(children=(FloatProgress(value=0.0, max=20.0), HTML(value='')))"
      ]
     },
     "metadata": {},
     "output_type": "display_data"
    },
    {
     "name": "stdout",
     "output_type": "stream",
     "text": [
      "\n",
      "正確率: 0.85\n"
     ]
    }
   ],
   "source": [
    "def 目標函數(database_size,database,test_data,test_n=20):\n",
    "  # 根據四項欄位做預測\n",
    "  test_data['預測EXPNO'] = None\n",
    "  correct = []\n",
    "  for idx in tqdm(range(test_n)):\n",
    "    o1 = 根據特定欄位和索引給出候選答案清單(\n",
    "      col='產品名',idx=idx,k=3,\n",
    "      database_size=database_size,\n",
    "      database=database,test_data=test_data)\n",
    "    o2 = 根據特定欄位和索引給出候選答案清單(\n",
    "      col='開狀人',idx=idx,k=3,\n",
    "      database_size=database_size,\n",
    "      database=database,test_data=test_data)\n",
    "    o3 = 根據特定欄位和索引給出候選答案清單(\n",
    "      col='受益人',idx=idx,k=3,\n",
    "      database_size=database_size,\n",
    "      database=database,test_data=test_data)\n",
    "    o4 = 根據特定欄位和索引給出候選答案清單(\n",
    "      col='開狀銀行',idx=idx,k=3,\n",
    "      database_size=database_size,\n",
    "      database=database,test_data=test_data)\n",
    "    o = o1+o3\n",
    "    # 判斷是否為小公司\n",
    "    if len(set(o)&set(小公司列表)) > 0:\n",
    "      o = list(set(o)&set(小公司列表))\n",
    "    else:\n",
    "      o = o1\n",
    "    # 取眾數\n",
    "    try:\n",
    "      ensemble_output = max(o,key=o.count)\n",
    "    except:\n",
    "      ensemble_output = 'not find'\n",
    "    # 指派預測值至test_data\n",
    "    test_data.loc[idx,'預測EXPNO'] = ensemble_output\n",
    "    # 計算正確率\n",
    "    if ensemble_output == test_data['推薦公司事業部'][idx]:\n",
    "      correct.append(True)\n",
    "    else:\n",
    "      correct.append(False)\n",
    "  return np.mean(correct),test_data\n",
    "acc,test_data = 目標函數(database_size=len(database),database=database,test_data=test_data)\n",
    "print('正確率:',acc)"
   ]
  },
  {
   "cell_type": "markdown",
   "metadata": {},
   "source": [
    "# 加入錯誤feedback寶典後再測試"
   ]
  },
  {
   "cell_type": "code",
   "execution_count": 76,
   "metadata": {},
   "outputs": [
    {
     "data": {
      "text/html": [
       "<div>\n",
       "<style scoped>\n",
       "    .dataframe tbody tr th:only-of-type {\n",
       "        vertical-align: middle;\n",
       "    }\n",
       "\n",
       "    .dataframe tbody tr th {\n",
       "        vertical-align: top;\n",
       "    }\n",
       "\n",
       "    .dataframe thead th {\n",
       "        text-align: right;\n",
       "    }\n",
       "</style>\n",
       "<table border=\"1\" class=\"dataframe\">\n",
       "  <thead>\n",
       "    <tr style=\"text-align: right;\">\n",
       "      <th></th>\n",
       "      <th>公司代號</th>\n",
       "      <th>公司事業部門</th>\n",
       "      <th>品名</th>\n",
       "    </tr>\n",
       "  </thead>\n",
       "  <tbody>\n",
       "    <tr>\n",
       "      <th>7</th>\n",
       "      <td>2E</td>\n",
       "      <td>not find</td>\n",
       "      <td>TAIRILIN BRAND POLYESTER FILM</td>\n",
       "    </tr>\n",
       "    <tr>\n",
       "      <th>9</th>\n",
       "      <td>25</td>\n",
       "      <td>not find</td>\n",
       "      <td>POLYESTER PET CHIP</td>\n",
       "    </tr>\n",
       "    <tr>\n",
       "      <th>18</th>\n",
       "      <td>4A</td>\n",
       "      <td>not find</td>\n",
       "      <td>TAIRISAN SAN RESINS</td>\n",
       "    </tr>\n",
       "    <tr>\n",
       "      <th>28</th>\n",
       "      <td>2P</td>\n",
       "      <td>not find</td>\n",
       "      <td>BUTANEDIOL</td>\n",
       "    </tr>\n",
       "    <tr>\n",
       "      <th>41</th>\n",
       "      <td>28</td>\n",
       "      <td>not find</td>\n",
       "      <td>GLASS FABRICS</td>\n",
       "    </tr>\n",
       "  </tbody>\n",
       "</table>\n",
       "</div>"
      ],
      "text/plain": [
       "   公司代號    公司事業部門                              品名\n",
       "7    2E  not find   TAIRILIN BRAND POLYESTER FILM\n",
       "9    25  not find              POLYESTER PET CHIP\n",
       "18   4A  not find             TAIRISAN SAN RESINS\n",
       "28   2P  not find                      BUTANEDIOL\n",
       "41   28  not find                   GLASS FABRICS"
      ]
     },
     "metadata": {},
     "output_type": "display_data"
    },
    {
     "data": {
      "text/html": [
       "<div>\n",
       "<style scoped>\n",
       "    .dataframe tbody tr th:only-of-type {\n",
       "        vertical-align: middle;\n",
       "    }\n",
       "\n",
       "    .dataframe tbody tr th {\n",
       "        vertical-align: top;\n",
       "    }\n",
       "\n",
       "    .dataframe thead th {\n",
       "        text-align: right;\n",
       "    }\n",
       "</style>\n",
       "<table border=\"1\" class=\"dataframe\">\n",
       "  <thead>\n",
       "    <tr style=\"text-align: right;\">\n",
       "      <th></th>\n",
       "      <th>公司代號</th>\n",
       "      <th>公司事業部門</th>\n",
       "      <th>品名</th>\n",
       "    </tr>\n",
       "  </thead>\n",
       "  <tbody>\n",
       "    <tr>\n",
       "      <th>0</th>\n",
       "      <td>11</td>\n",
       "      <td>塑膠事業部</td>\n",
       "      <td>COPOLYMER PVC C1250M</td>\n",
       "    </tr>\n",
       "    <tr>\n",
       "      <th>1</th>\n",
       "      <td>11</td>\n",
       "      <td>塑膠事業部</td>\n",
       "      <td>COPOLYMER PVC C15</td>\n",
       "    </tr>\n",
       "    <tr>\n",
       "      <th>2</th>\n",
       "      <td>11</td>\n",
       "      <td>塑膠事業部</td>\n",
       "      <td>COPOLYMER PVC C8</td>\n",
       "    </tr>\n",
       "    <tr>\n",
       "      <th>3</th>\n",
       "      <td>11</td>\n",
       "      <td>塑膠事業部</td>\n",
       "      <td>MASS PVC B57</td>\n",
       "    </tr>\n",
       "    <tr>\n",
       "      <th>4</th>\n",
       "      <td>11</td>\n",
       "      <td>塑膠事業部</td>\n",
       "      <td>MASS PVC B57C</td>\n",
       "    </tr>\n",
       "    <tr>\n",
       "      <th>...</th>\n",
       "      <td>...</td>\n",
       "      <td>...</td>\n",
       "      <td>...</td>\n",
       "    </tr>\n",
       "    <tr>\n",
       "      <th>1190</th>\n",
       "      <td>25</td>\n",
       "      <td>not find</td>\n",
       "      <td>polyester fiber</td>\n",
       "    </tr>\n",
       "    <tr>\n",
       "      <th>1191</th>\n",
       "      <td>48</td>\n",
       "      <td>not find</td>\n",
       "      <td>PTA</td>\n",
       "    </tr>\n",
       "    <tr>\n",
       "      <th>1193</th>\n",
       "      <td>1P</td>\n",
       "      <td>not find</td>\n",
       "      <td>PLASTIC RESIN</td>\n",
       "    </tr>\n",
       "    <tr>\n",
       "      <th>1196</th>\n",
       "      <td>2R</td>\n",
       "      <td>not find</td>\n",
       "      <td>TPN1</td>\n",
       "    </tr>\n",
       "    <tr>\n",
       "      <th>1197</th>\n",
       "      <td>22</td>\n",
       "      <td>not find</td>\n",
       "      <td>SYNTHETIC PAPER</td>\n",
       "    </tr>\n",
       "  </tbody>\n",
       "</table>\n",
       "<p>1158 rows × 3 columns</p>\n",
       "</div>"
      ],
      "text/plain": [
       "     公司代號    公司事業部門                    品名\n",
       "0      11     塑膠事業部  COPOLYMER PVC C1250M\n",
       "1      11     塑膠事業部     COPOLYMER PVC C15\n",
       "2      11     塑膠事業部      COPOLYMER PVC C8\n",
       "3      11     塑膠事業部          MASS PVC B57\n",
       "4      11     塑膠事業部         MASS PVC B57C\n",
       "...   ...       ...                   ...\n",
       "1190   25  not find       polyester fiber\n",
       "1191   48  not find                   PTA\n",
       "1193   1P  not find         PLASTIC RESIN\n",
       "1196   2R  not find                  TPN1\n",
       "1197   22  not find       SYNTHETIC PAPER\n",
       "\n",
       "[1158 rows x 3 columns]"
      ]
     },
     "metadata": {},
     "output_type": "display_data"
    },
    {
     "name": "stderr",
     "output_type": "stream",
     "text": [
      "<ipython-input-65-4e4c7646e576>:61: TqdmDeprecationWarning: This function will be removed in tqdm==5.0.0\n",
      "Please use `tqdm.notebook.tqdm` instead of `tqdm.tqdm_notebook`\n",
      "  for i in tqdm(test_df.index):\n"
     ]
    },
    {
     "data": {
      "application/vnd.jupyter.widget-view+json": {
       "model_id": "bab6e90d46e44759a6b1143b38d9ab06",
       "version_major": 2,
       "version_minor": 0
      },
      "text/plain": [
       "HBox(children=(FloatProgress(value=0.0, max=20737.0), HTML(value='')))"
      ]
     },
     "metadata": {},
     "output_type": "display_data"
    },
    {
     "name": "stdout",
     "output_type": "stream",
     "text": [
      "\n"
     ]
    },
    {
     "data": {
      "application/vnd.jupyter.widget-view+json": {
       "model_id": "cef853687503482ba693e060b3100872",
       "version_major": 2,
       "version_minor": 0
      },
      "text/plain": [
       "HBox(children=(FloatProgress(value=0.0, max=20737.0), HTML(value='')))"
      ]
     },
     "metadata": {},
     "output_type": "display_data"
    },
    {
     "name": "stdout",
     "output_type": "stream",
     "text": [
      "\n"
     ]
    },
    {
     "data": {
      "application/vnd.jupyter.widget-view+json": {
       "model_id": "b090fd81f2a340b5959da9d21a009bec",
       "version_major": 2,
       "version_minor": 0
      },
      "text/plain": [
       "HBox(children=(FloatProgress(value=0.0, max=20737.0), HTML(value='')))"
      ]
     },
     "metadata": {},
     "output_type": "display_data"
    },
    {
     "name": "stdout",
     "output_type": "stream",
     "text": [
      "\n",
      "產品名 空列表數量: 7036\n",
      "開狀人 空列表數量: 7081\n",
      "受益人 空列表數量: 6885\n",
      "開狀銀行 空列表數量: 0\n"
     ]
    },
    {
     "data": {
      "text/html": [
       "<div>\n",
       "<style scoped>\n",
       "    .dataframe tbody tr th:only-of-type {\n",
       "        vertical-align: middle;\n",
       "    }\n",
       "\n",
       "    .dataframe tbody tr th {\n",
       "        vertical-align: top;\n",
       "    }\n",
       "\n",
       "    .dataframe thead th {\n",
       "        text-align: right;\n",
       "    }\n",
       "</style>\n",
       "<table border=\"1\" class=\"dataframe\">\n",
       "  <thead>\n",
       "    <tr style=\"text-align: right;\">\n",
       "      <th></th>\n",
       "      <th>產品名</th>\n",
       "      <th>開狀人</th>\n",
       "      <th>受益人</th>\n",
       "      <th>開狀銀行</th>\n",
       "    </tr>\n",
       "  </thead>\n",
       "  <tbody>\n",
       "    <tr>\n",
       "      <th>20732</th>\n",
       "      <td>[NYLON 6 FILAMENT YARN]</td>\n",
       "      <td>[SKY INDUSTRIES LTD]</td>\n",
       "      <td>[FORMOSA CHEMICALS AND FIBRE]</td>\n",
       "      <td>KKBKINBB</td>\n",
       "    </tr>\n",
       "    <tr>\n",
       "      <th>20733</th>\n",
       "      <td>[PVC SUSPENSION RESIN]</td>\n",
       "      <td>[L D INTERNATIONAL]</td>\n",
       "      <td>[FORMOSA PLASTICS]</td>\n",
       "      <td>KKBKINBB</td>\n",
       "    </tr>\n",
       "    <tr>\n",
       "      <th>20734</th>\n",
       "      <td>[EPOXY RESIN, NPEF]</td>\n",
       "      <td>[ALLCHEM INTERNATIONAL PTY LTD]</td>\n",
       "      <td>[NAN YA PLASTICS]</td>\n",
       "      <td>CTCBHKHH</td>\n",
       "    </tr>\n",
       "    <tr>\n",
       "      <th>20735</th>\n",
       "      <td>[EPOXY RESIN, NPEL]</td>\n",
       "      <td>[ALLCHEM INTERNATIONAL PTY LTD]</td>\n",
       "      <td>[NAN YA PLASTICS]</td>\n",
       "      <td>CTCBHKHH</td>\n",
       "    </tr>\n",
       "    <tr>\n",
       "      <th>20736</th>\n",
       "      <td>[PVC RESIN]</td>\n",
       "      <td>[PRAGYA FLEXIFILM INDUSTRIES]</td>\n",
       "      <td>[FORMOSA PLASTICS]</td>\n",
       "      <td>KKBKINBB</td>\n",
       "    </tr>\n",
       "  </tbody>\n",
       "</table>\n",
       "</div>"
      ],
      "text/plain": [
       "                           產品名                              開狀人  \\\n",
       "20732  [NYLON 6 FILAMENT YARN]             [SKY INDUSTRIES LTD]   \n",
       "20733   [PVC SUSPENSION RESIN]              [L D INTERNATIONAL]   \n",
       "20734      [EPOXY RESIN, NPEF]  [ALLCHEM INTERNATIONAL PTY LTD]   \n",
       "20735      [EPOXY RESIN, NPEL]  [ALLCHEM INTERNATIONAL PTY LTD]   \n",
       "20736              [PVC RESIN]    [PRAGYA FLEXIFILM INDUSTRIES]   \n",
       "\n",
       "                                 受益人      開狀銀行  \n",
       "20732  [FORMOSA CHEMICALS AND FIBRE]  KKBKINBB  \n",
       "20733             [FORMOSA PLASTICS]  KKBKINBB  \n",
       "20734              [NAN YA PLASTICS]  CTCBHKHH  \n",
       "20735              [NAN YA PLASTICS]  CTCBHKHH  \n",
       "20736             [FORMOSA PLASTICS]  KKBKINBB  "
      ]
     },
     "metadata": {},
     "output_type": "display_data"
    },
    {
     "name": "stderr",
     "output_type": "stream",
     "text": [
      "<ipython-input-65-4e4c7646e576>:61: TqdmDeprecationWarning: This function will be removed in tqdm==5.0.0\n",
      "Please use `tqdm.notebook.tqdm` instead of `tqdm.tqdm_notebook`\n",
      "  for i in tqdm(test_df.index):\n"
     ]
    },
    {
     "data": {
      "application/vnd.jupyter.widget-view+json": {
       "model_id": "a3f1f44aa3924096ac5660a7466cf4fb",
       "version_major": 2,
       "version_minor": 0
      },
      "text/plain": [
       "HBox(children=(FloatProgress(value=0.0, max=2427.0), HTML(value='')))"
      ]
     },
     "metadata": {},
     "output_type": "display_data"
    },
    {
     "name": "stdout",
     "output_type": "stream",
     "text": [
      "\n"
     ]
    },
    {
     "data": {
      "application/vnd.jupyter.widget-view+json": {
       "model_id": "8cd89004a4524b508133d02b4b03d1b3",
       "version_major": 2,
       "version_minor": 0
      },
      "text/plain": [
       "HBox(children=(FloatProgress(value=0.0, max=2427.0), HTML(value='')))"
      ]
     },
     "metadata": {},
     "output_type": "display_data"
    },
    {
     "name": "stdout",
     "output_type": "stream",
     "text": [
      "\n"
     ]
    },
    {
     "data": {
      "application/vnd.jupyter.widget-view+json": {
       "model_id": "aa62e1c45d574793b8ae0a6f934e1db2",
       "version_major": 2,
       "version_minor": 0
      },
      "text/plain": [
       "HBox(children=(FloatProgress(value=0.0, max=2427.0), HTML(value='')))"
      ]
     },
     "metadata": {},
     "output_type": "display_data"
    },
    {
     "name": "stdout",
     "output_type": "stream",
     "text": [
      "\n",
      "產品名 空列表數量: 122\n",
      "開狀人 空列表數量: 571\n",
      "受益人 空列表數量: 73\n",
      "開狀銀行 空列表數量: 0\n"
     ]
    },
    {
     "data": {
      "text/html": [
       "<div>\n",
       "<style scoped>\n",
       "    .dataframe tbody tr th:only-of-type {\n",
       "        vertical-align: middle;\n",
       "    }\n",
       "\n",
       "    .dataframe tbody tr th {\n",
       "        vertical-align: top;\n",
       "    }\n",
       "\n",
       "    .dataframe thead th {\n",
       "        text-align: right;\n",
       "    }\n",
       "</style>\n",
       "<table border=\"1\" class=\"dataframe\">\n",
       "  <thead>\n",
       "    <tr style=\"text-align: right;\">\n",
       "      <th></th>\n",
       "      <th>產品名</th>\n",
       "      <th>開狀人</th>\n",
       "      <th>受益人</th>\n",
       "      <th>開狀銀行</th>\n",
       "    </tr>\n",
       "  </thead>\n",
       "  <tbody>\n",
       "    <tr>\n",
       "      <th>2422</th>\n",
       "      <td>[ETHYLENEPROPYLENE COPOLYMER, PLASTIC RESIN, P...</td>\n",
       "      <td>[DRACO KING INDUSTRIES LIMITED]</td>\n",
       "      <td>[FORMOSA PLASTICS]</td>\n",
       "      <td>HNBKHKHH</td>\n",
       "    </tr>\n",
       "    <tr>\n",
       "      <th>2423</th>\n",
       "      <td>[MONO ETHYLENE GLYCOL]</td>\n",
       "      <td>[CHI BAO CORPORATION]</td>\n",
       "      <td>[NAN YA PLASTICS]</td>\n",
       "      <td>TPBKTWTP</td>\n",
       "    </tr>\n",
       "    <tr>\n",
       "      <th>2424</th>\n",
       "      <td>[RESIN]</td>\n",
       "      <td>[PEGASUS CHEMICALS CO LTD]</td>\n",
       "      <td>[FORMOSA PLASTICS]</td>\n",
       "      <td>ICBCTWTP</td>\n",
       "    </tr>\n",
       "    <tr>\n",
       "      <th>2425</th>\n",
       "      <td>[COVERING, GP5350]</td>\n",
       "      <td>[BRENNTAG CANADA INC]</td>\n",
       "      <td>[FORMOSA CHEMICALS AND FIBRE]</td>\n",
       "      <td>NOSCCATT</td>\n",
       "    </tr>\n",
       "    <tr>\n",
       "      <th>2426</th>\n",
       "      <td>[PVC COPOLYMER RESIN]</td>\n",
       "      <td>[S R POLYVINYL LIMITED]</td>\n",
       "      <td>[FORMOSA PLASTICS]</td>\n",
       "      <td>INDBINBB</td>\n",
       "    </tr>\n",
       "  </tbody>\n",
       "</table>\n",
       "</div>"
      ],
      "text/plain": [
       "                                                    產品名  \\\n",
       "2422  [ETHYLENEPROPYLENE COPOLYMER, PLASTIC RESIN, P...   \n",
       "2423                             [MONO ETHYLENE GLYCOL]   \n",
       "2424                                            [RESIN]   \n",
       "2425                                 [COVERING, GP5350]   \n",
       "2426                              [PVC COPOLYMER RESIN]   \n",
       "\n",
       "                                  開狀人                            受益人      開狀銀行  \n",
       "2422  [DRACO KING INDUSTRIES LIMITED]             [FORMOSA PLASTICS]  HNBKHKHH  \n",
       "2423            [CHI BAO CORPORATION]              [NAN YA PLASTICS]  TPBKTWTP  \n",
       "2424       [PEGASUS CHEMICALS CO LTD]             [FORMOSA PLASTICS]  ICBCTWTP  \n",
       "2425            [BRENNTAG CANADA INC]  [FORMOSA CHEMICALS AND FIBRE]  NOSCCATT  \n",
       "2426          [S R POLYVINYL LIMITED]             [FORMOSA PLASTICS]  INDBINBB  "
      ]
     },
     "metadata": {},
     "output_type": "display_data"
    },
    {
     "name": "stderr",
     "output_type": "stream",
     "text": [
      "<ipython-input-75-172715e99a0e>:5: TqdmDeprecationWarning: This function will be removed in tqdm==5.0.0\n",
      "Please use `tqdm.notebook.tqdm` instead of `tqdm.tqdm_notebook`\n",
      "  for idx in tqdm(range(test_n)):\n"
     ]
    },
    {
     "data": {
      "application/vnd.jupyter.widget-view+json": {
       "model_id": "acbf3530da1141fe9a44233cf40d2370",
       "version_major": 2,
       "version_minor": 0
      },
      "text/plain": [
       "HBox(children=(FloatProgress(value=0.0, max=20.0), HTML(value='')))"
      ]
     },
     "metadata": {},
     "output_type": "display_data"
    },
    {
     "name": "stdout",
     "output_type": "stream",
     "text": [
      "\n"
     ]
    },
    {
     "data": {
      "text/plain": [
       "'正確率:'"
      ]
     },
     "metadata": {},
     "output_type": "display_data"
    },
    {
     "data": {
      "text/plain": [
       "0.85"
      ]
     },
     "metadata": {},
     "output_type": "display_data"
    }
   ],
   "source": [
    "feedback = pd.read_excel('../data\\寶典\\寶典人工處理後\\寶典_feedback.xlsx',index_col=0)\n",
    "display(feedback.head())\n",
    "\n",
    "品名寶典_加入錯誤feedback = 品名寶典.append(feedback).reset_index(drop=True).drop_duplicates()\n",
    "display(品名寶典_加入錯誤feedback)\n",
    "\n",
    "database = 抽特徵(預處理(database),品名寶典=品名寶典_加入錯誤feedback,開狀人寶典=開狀人寶典,公司寶典=公司寶典)\n",
    "for i in 輸出欄位:\n",
    "    number = get_empty_list_idx(df=database,col=i)\n",
    "    print(i,'空列表數量:',len(number))\n",
    "display(database[輸出欄位].tail(5))\n",
    "\n",
    "test_data = 抽特徵(預處理(test_data),品名寶典=品名寶典_加入錯誤feedback,開狀人寶典=開狀人寶典,公司寶典=公司寶典)\n",
    "for i in 輸出欄位:\n",
    "    number = get_empty_list_idx(df=test_data,col=i)\n",
    "    print(i,'空列表數量:',len(number))\n",
    "display(test_data[輸出欄位].tail(5))\n",
    "\n",
    "acc,test_data = 目標函數(database_size=len(database),database=database,test_data=test_data)\n",
    "display('正確率:',acc)"
   ]
  },
  {
   "cell_type": "markdown",
   "metadata": {},
   "source": [
    "# 觀察不同資料筆數 對正確率的影響"
   ]
  },
  {
   "cell_type": "code",
   "execution_count": 77,
   "metadata": {},
   "outputs": [
    {
     "name": "stderr",
     "output_type": "stream",
     "text": [
      "<ipython-input-75-172715e99a0e>:5: TqdmDeprecationWarning: This function will be removed in tqdm==5.0.0\n",
      "Please use `tqdm.notebook.tqdm` instead of `tqdm.tqdm_notebook`\n",
      "  for idx in tqdm(range(test_n)):\n"
     ]
    },
    {
     "data": {
      "application/vnd.jupyter.widget-view+json": {
       "model_id": "46dd9998c1e64712b98bfa0b7610635c",
       "version_major": 2,
       "version_minor": 0
      },
      "text/plain": [
       "HBox(children=(FloatProgress(value=0.0, max=20.0), HTML(value='')))"
      ]
     },
     "metadata": {},
     "output_type": "display_data"
    },
    {
     "name": "stdout",
     "output_type": "stream",
     "text": [
      "\n"
     ]
    },
    {
     "data": {
      "application/vnd.jupyter.widget-view+json": {
       "model_id": "1e3a0d8edf384ca591e91a1bf1133b9c",
       "version_major": 2,
       "version_minor": 0
      },
      "text/plain": [
       "HBox(children=(FloatProgress(value=0.0, max=20.0), HTML(value='')))"
      ]
     },
     "metadata": {},
     "output_type": "display_data"
    },
    {
     "name": "stdout",
     "output_type": "stream",
     "text": [
      "\n"
     ]
    },
    {
     "data": {
      "application/vnd.jupyter.widget-view+json": {
       "model_id": "6feea2258ff34b2e8d88e1fb7b3fd83c",
       "version_major": 2,
       "version_minor": 0
      },
      "text/plain": [
       "HBox(children=(FloatProgress(value=0.0, max=20.0), HTML(value='')))"
      ]
     },
     "metadata": {},
     "output_type": "display_data"
    },
    {
     "name": "stdout",
     "output_type": "stream",
     "text": [
      "\n"
     ]
    },
    {
     "data": {
      "application/vnd.jupyter.widget-view+json": {
       "model_id": "2da530e4cc914ce7a0f3a4077323798f",
       "version_major": 2,
       "version_minor": 0
      },
      "text/plain": [
       "HBox(children=(FloatProgress(value=0.0, max=20.0), HTML(value='')))"
      ]
     },
     "metadata": {},
     "output_type": "display_data"
    },
    {
     "name": "stdout",
     "output_type": "stream",
     "text": [
      "\n",
      "[10, 100, 1000, 20737] [0.3, 0.6, 0.6, 0.85]\n"
     ]
    },
    {
     "data": {
      "image/png": "[encoded data removed]",
      "text/plain": [
       "<Figure size 432x288 with 1 Axes>"
      ]
     },
     "metadata": {
      "needs_background": "light"
     },
     "output_type": "display_data"
    }
   ],
   "source": [
    "x = [10,100,1000,len(database)]\n",
    "y = [目標函數(database_size=i,database=database,test_data=test_data)[0] for i in x]\n",
    "print(x,y)\n",
    "fig = plt.figure()\n",
    "ax = fig.add_axes([0,0,1,1])\n",
    "ax.bar([str(i) for i in x],y)\n",
    "plt.show()"
   ]
  },
  {
   "cell_type": "markdown",
   "metadata": {},
   "source": [
    "# 觀察不同database對正確率的影響"
   ]
  },
  {
   "cell_type": "code",
   "execution_count": null,
   "metadata": {},
   "outputs": [],
   "source": [
    "# 載入數據\n",
    "database2 = pd.read_excel('../data/combined_excel_D.xlsx')\n",
    "\n",
    "# 欄位定義\n",
    "database2col = []\n",
    "for i in database2.columns:\n",
    "    if 'ERP' not in i:\n",
    "        database2col.append(i)\n",
    "\n",
    "# 欄位定義\n",
    "database3col = []\n",
    "for i in database2.columns:\n",
    "    if '電文' not in i:\n",
    "        database3col.append(i)\n",
    "\n",
    "# 切分資料\n",
    "database2,database3 = database2[database2col],database2[database3col]\n",
    "\n",
    "# 統一命名\n",
    "database2 = database2.rename(\n",
    "    columns={\n",
    "        '產品名_電文':'45A',\n",
    "        '開狀人_電文':'50',\n",
    "        '受益人_電文':'59',\n",
    "        '開狀銀行_電文':'LTADDRESS.1',\n",
    "        '出口代碼':'EXPNO',\n",
    "    })\n",
    "display(database2.head())\n",
    "\n",
    "# 統一命名\n",
    "database3 = database3.rename(\n",
    "    columns={\n",
    "        '產品名_ERP':'45A',\n",
    "        '開狀人_ERP':'50',\n",
    "        '受益人_ERP':'59',\n",
    "        '開狀銀行_ERP':'LTADDRESS.1',\n",
    "        '出口代碼':'EXPNO',\n",
    "    })\n",
    "display(database3.head())"
   ]
  },
  {
   "cell_type": "code",
   "execution_count": null,
   "metadata": {},
   "outputs": [
    {
     "name": "stderr",
     "output_type": "stream",
     "text": [
      "C:\\Users\\ricky\\anaconda3\\envs\\bert_env\\lib\\site-packages\\ipykernel_launcher.py:61: TqdmDeprecationWarning: This function will be removed in tqdm==5.0.0\n",
      "Please use `tqdm.notebook.tqdm` instead of `tqdm.tqdm_notebook`\n"
     ]
    },
    {
     "data": {
      "application/vnd.jupyter.widget-view+json": {
       "model_id": "b34f7b3a1c2846cc967567233957a2ad",
       "version_major": 2,
       "version_minor": 0
      },
      "text/plain": [
       "  0%|          | 0/20737 [00:00<?, ?it/s]"
      ]
     },
     "metadata": {},
     "output_type": "display_data"
    },
    {
     "data": {
      "application/vnd.jupyter.widget-view+json": {
       "model_id": "ab0657480cc643da925a8445c01e3090",
       "version_major": 2,
       "version_minor": 0
      },
      "text/plain": [
       "  0%|          | 0/20737 [00:00<?, ?it/s]"
      ]
     },
     "metadata": {},
     "output_type": "display_data"
    },
    {
     "data": {
      "application/vnd.jupyter.widget-view+json": {
       "model_id": "b15157b15e394a11b8470b60a47d03fe",
       "version_major": 2,
       "version_minor": 0
      },
      "text/plain": [
       "  0%|          | 0/20737 [00:00<?, ?it/s]"
      ]
     },
     "metadata": {},
     "output_type": "display_data"
    },
    {
     "data": {
      "application/vnd.jupyter.widget-view+json": {
       "model_id": "bbdbf952d3b04db58c35ca397c50a2a8",
       "version_major": 2,
       "version_minor": 0
      },
      "text/plain": [
       "  0%|          | 0/42096 [00:00<?, ?it/s]"
      ]
     },
     "metadata": {},
     "output_type": "display_data"
    },
    {
     "data": {
      "application/vnd.jupyter.widget-view+json": {
       "model_id": "b94a4a77205a49cd910c6c6632b77879",
       "version_major": 2,
       "version_minor": 0
      },
      "text/plain": [
       "  0%|          | 0/42096 [00:00<?, ?it/s]"
      ]
     },
     "metadata": {},
     "output_type": "display_data"
    },
    {
     "data": {
      "application/vnd.jupyter.widget-view+json": {
       "model_id": "f8c658e68ecb46bfaa4f5181df1ebc93",
       "version_major": 2,
       "version_minor": 0
      },
      "text/plain": [
       "  0%|          | 0/42096 [00:00<?, ?it/s]"
      ]
     },
     "metadata": {},
     "output_type": "display_data"
    },
    {
     "data": {
      "application/vnd.jupyter.widget-view+json": {
       "model_id": "fe0c3c23b0ba471db9ce186aad7b17f7",
       "version_major": 2,
       "version_minor": 0
      },
      "text/plain": [
       "  0%|          | 0/42096 [00:00<?, ?it/s]"
      ]
     },
     "metadata": {},
     "output_type": "display_data"
    },
    {
     "data": {
      "application/vnd.jupyter.widget-view+json": {
       "model_id": "433089b57be24c4fa54c97910779511f",
       "version_major": 2,
       "version_minor": 0
      },
      "text/plain": [
       "  0%|          | 0/42096 [00:00<?, ?it/s]"
      ]
     },
     "metadata": {},
     "output_type": "display_data"
    },
    {
     "data": {
      "application/vnd.jupyter.widget-view+json": {
       "model_id": "73c7d1711bfd4757b59123a90c688db8",
       "version_major": 2,
       "version_minor": 0
      },
      "text/plain": [
       "  0%|          | 0/42096 [00:00<?, ?it/s]"
      ]
     },
     "metadata": {},
     "output_type": "display_data"
    },
    {
     "name": "stderr",
     "output_type": "stream",
     "text": [
      "C:\\Users\\ricky\\anaconda3\\envs\\bert_env\\lib\\site-packages\\ipykernel_launcher.py:5: TqdmDeprecationWarning: This function will be removed in tqdm==5.0.0\n",
      "Please use `tqdm.notebook.tqdm` instead of `tqdm.tqdm_notebook`\n",
      "  \"\"\"\n"
     ]
    },
    {
     "data": {
      "application/vnd.jupyter.widget-view+json": {
       "model_id": "172e17bf37c346bb9d96a9dc736f5bd1",
       "version_major": 2,
       "version_minor": 0
      },
      "text/plain": [
       "  0%|          | 0/20 [00:00<?, ?it/s]"
      ]
     },
     "metadata": {},
     "output_type": "display_data"
    },
    {
     "data": {
      "application/vnd.jupyter.widget-view+json": {
       "model_id": "d8d25f72f21045a79f005cfe8d531001",
       "version_major": 2,
       "version_minor": 0
      },
      "text/plain": [
       "  0%|          | 0/20 [00:00<?, ?it/s]"
      ]
     },
     "metadata": {},
     "output_type": "display_data"
    },
    {
     "data": {
      "application/vnd.jupyter.widget-view+json": {
       "model_id": "e80f60f997784eb98ed5b014f657cf60",
       "version_major": 2,
       "version_minor": 0
      },
      "text/plain": [
       "  0%|          | 0/20 [00:00<?, ?it/s]"
      ]
     },
     "metadata": {},
     "output_type": "display_data"
    },
    {
     "data": {
      "image/png": "[encoded data removed]",
      "text/plain": [
       "<Figure size 432x288 with 1 Axes>"
      ]
     },
     "metadata": {
      "needs_background": "light"
     },
     "output_type": "display_data"
    }
   ],
   "source": [
    "x = [抽特徵(預處理(database)),抽特徵(預處理(database2)),抽特徵(預處理(database3))]\n",
    "y = [目標函數(database_size=len(i),database=i,test_data=test_data,test_n=20)[0] for i in x]\n",
    "fig = plt.figure()\n",
    "ax = fig.add_axes([0,0,1,1])\n",
    "ax.bar(['database','database2','database3'],y)\n",
    "plt.show()"
   ]
  },
  {
   "cell_type": "markdown",
   "metadata": {},
   "source": [
    "# 輸出預測結果"
   ]
  },
  {
   "cell_type": "code",
   "execution_count": null,
   "metadata": {},
   "outputs": [
    {
     "name": "stderr",
     "output_type": "stream",
     "text": [
      "C:\\Users\\ricky\\anaconda3\\envs\\bert_env\\lib\\site-packages\\ipykernel_launcher.py:5: TqdmDeprecationWarning: This function will be removed in tqdm==5.0.0\n",
      "Please use `tqdm.notebook.tqdm` instead of `tqdm.tqdm_notebook`\n",
      "  \"\"\"\n"
     ]
    },
    {
     "data": {
      "application/vnd.jupyter.widget-view+json": {
       "model_id": "3dc155463e724b3a9ac9d23be9318303",
       "version_major": 2,
       "version_minor": 0
      },
      "text/plain": [
       "  0%|          | 0/2427 [00:00<?, ?it/s]"
      ]
     },
     "metadata": {},
     "output_type": "display_data"
    },
    {
     "name": "stdout",
     "output_type": "stream",
     "text": [
      "正確率:0.7136382365059745\n"
     ]
    },
    {
     "data": {
      "text/html": [
       "<div>\n",
       "<style scoped>\n",
       "    .dataframe tbody tr th:only-of-type {\n",
       "        vertical-align: middle;\n",
       "    }\n",
       "\n",
       "    .dataframe tbody tr th {\n",
       "        vertical-align: top;\n",
       "    }\n",
       "\n",
       "    .dataframe thead th {\n",
       "        text-align: right;\n",
       "    }\n",
       "</style>\n",
       "<table border=\"1\" class=\"dataframe\">\n",
       "  <thead>\n",
       "    <tr style=\"text-align: right;\">\n",
       "      <th></th>\n",
       "      <th>產品名</th>\n",
       "      <th>開狀人</th>\n",
       "      <th>受益人</th>\n",
       "      <th>開狀銀行</th>\n",
       "      <th>推薦公司事業部</th>\n",
       "      <th>預測EXPNO</th>\n",
       "    </tr>\n",
       "  </thead>\n",
       "  <tbody>\n",
       "    <tr>\n",
       "      <th>0</th>\n",
       "      <td>[PVC SUSPENSION RESIN]</td>\n",
       "      <td>[DEEP JYOTI WAX TRADERS]</td>\n",
       "      <td>[FORMOSA PLASTICS]</td>\n",
       "      <td>ICICINBB</td>\n",
       "      <td>11</td>\n",
       "      <td>11</td>\n",
       "    </tr>\n",
       "    <tr>\n",
       "      <th>1</th>\n",
       "      <td>[MONO ETHYLENE GLYCOL MEG]</td>\n",
       "      <td>[CHEMNEWS CORP]</td>\n",
       "      <td>[NAN YA PLASTICS]</td>\n",
       "      <td>CZNBKRSE</td>\n",
       "      <td>2A</td>\n",
       "      <td>2A</td>\n",
       "    </tr>\n",
       "    <tr>\n",
       "      <th>2</th>\n",
       "      <td>[MONO ETHYLENE GLYCOL MEG]</td>\n",
       "      <td>[CHEMNEWS CORP]</td>\n",
       "      <td>[NAN YA PLASTICS]</td>\n",
       "      <td>CZNBKRSE</td>\n",
       "      <td>2A</td>\n",
       "      <td>2A</td>\n",
       "    </tr>\n",
       "    <tr>\n",
       "      <th>3</th>\n",
       "      <td>[PVC SUSPENSION RESIN]</td>\n",
       "      <td>[GOVERDHAN ENERGY]</td>\n",
       "      <td>[FORMOSA PLASTICS]</td>\n",
       "      <td>INDBINBB</td>\n",
       "      <td>11</td>\n",
       "      <td>11</td>\n",
       "    </tr>\n",
       "    <tr>\n",
       "      <th>4</th>\n",
       "      <td>[PVC TRANSPARENT SHEET]</td>\n",
       "      <td>[SOJITZ CORPORATION]</td>\n",
       "      <td>[NAN YA PLASTICS]</td>\n",
       "      <td>BOTKJPJT</td>\n",
       "      <td>21</td>\n",
       "      <td>12</td>\n",
       "    </tr>\n",
       "  </tbody>\n",
       "</table>\n",
       "</div>"
      ],
      "text/plain": [
       "                          產品名                       開狀人                 受益人  \\\n",
       "0      [PVC SUSPENSION RESIN]  [DEEP JYOTI WAX TRADERS]  [FORMOSA PLASTICS]   \n",
       "1  [MONO ETHYLENE GLYCOL MEG]           [CHEMNEWS CORP]   [NAN YA PLASTICS]   \n",
       "2  [MONO ETHYLENE GLYCOL MEG]           [CHEMNEWS CORP]   [NAN YA PLASTICS]   \n",
       "3      [PVC SUSPENSION RESIN]        [GOVERDHAN ENERGY]  [FORMOSA PLASTICS]   \n",
       "4     [PVC TRANSPARENT SHEET]      [SOJITZ CORPORATION]   [NAN YA PLASTICS]   \n",
       "\n",
       "       開狀銀行 推薦公司事業部 預測EXPNO  \n",
       "0  ICICINBB      11      11  \n",
       "1  CZNBKRSE      2A      2A  \n",
       "2  CZNBKRSE      2A      2A  \n",
       "3  INDBINBB      11      11  \n",
       "4  BOTKJPJT      21      12  "
      ]
     },
     "execution_count": 17,
     "metadata": {},
     "output_type": "execute_result"
    }
   ],
   "source": [
    "acc,test_data = 目標函數(\n",
    "    database_size=len(database),\n",
    "    database=database,\n",
    "    test_data=test_data,\n",
    "    test_n=len(test_data))\n",
    "print(f'正確率:{acc}')\n",
    "test_data[輸出欄位+['推薦公司事業部','預測EXPNO']].head()"
   ]
  },
  {
   "cell_type": "markdown",
   "metadata": {},
   "source": [
    "# save"
   ]
  },
  {
   "cell_type": "code",
   "execution_count": null,
   "metadata": {},
   "outputs": [],
   "source": [
    "test_data[輸出欄位+['推薦公司事業部','預測EXPNO']].to_excel('../predict_result/預測結果.xlsx')"
   ]
  }
 ],
 "metadata": {
  "interpreter": {
   "hash": "993826b923065dd66fa4bf5d15ab27fb473cbe0d9ee1e2a0f60195f6a60c263f"
  },
  "kernelspec": {
   "display_name": "Python 3.7.11 ('bert_env')",
   "language": "python",
   "name": "python3"
  },
  "language_info": {
   "codemirror_mode": {
    "name": "ipython",
    "version": 3
   },
   "file_extension": ".py",
   "mimetype": "text/x-python",
   "name": "python",
   "nbconvert_exporter": "python",
   "pygments_lexer": "ipython3",
   "version": "3.8.3"
  },
  "orig_nbformat": 4
 },
 "nbformat": 4,
 "nbformat_minor": 2
}
