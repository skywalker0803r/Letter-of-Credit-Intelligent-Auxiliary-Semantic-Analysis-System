{
 "cells": [
  {
   "cell_type": "code",
   "execution_count": 66,
   "metadata": {},
   "outputs": [],
   "source": [
    "import re \n",
    "import requests\n",
    "import numpy as np\n",
    "import pandas as pd\n",
    "from tqdm import tqdm_notebook as tqdm\n",
    "from simhash import Simhash\n",
    "import matplotlib.pyplot as plt\n",
    "import editdistance\n",
    "\n",
    "def seed_everything(seed: int):\n",
    "    import random, os\n",
    "    import numpy as np\n",
    "    random.seed(seed)\n",
    "    os.environ['PYTHONHASHSEED'] = str(seed)\n",
    "    np.random.seed(seed)\n",
    "seed_everything(42)"
   ]
  },
  {
   "cell_type": "markdown",
   "metadata": {},
   "source": [
    "# 核心算法"
   ]
  },
  {
   "cell_type": "code",
   "execution_count": 67,
   "metadata": {},
   "outputs": [],
   "source": [
    "# MSKTS文本相似度比對算法\n",
    "url = 'https://gist.githubusercontent.com/skywalker0803r/7c00d680d731b99ab549dd40a96006ce/raw/d9bb060a42285053faa5227df521b43f381f1a0b/MSKTS.py'\n",
    "exec(requests.get(url).text)"
   ]
  },
  {
   "cell_type": "markdown",
   "metadata": {},
   "source": [
    "# help function"
   ]
  },
  {
   "cell_type": "code",
   "execution_count": 68,
   "metadata": {},
   "outputs": [],
   "source": [
    "# 只保留英文字母\n",
    "def keep_alpha(str1): \n",
    "  char = \"\" \n",
    "  for x in str(str1):\n",
    "    if x.isalpha(): \n",
    "      char = \"\".join([char, x])\n",
    "  return char\n",
    "\n",
    "# 基於規則之關鍵字匹配算法\n",
    "def matching(sentence,database,use_X000D=False):\n",
    "  candidate_list = []\n",
    "  for word in database:\n",
    "    if word in sentence: \n",
    "      candidate_list.append(word)\n",
    "  if (use_X000D == True) and (len(candidate_list) == 0):\n",
    "    candidate_list.append(sentence.split('_X000D')[0])\n",
    "  if len(candidate_list) == 0:\n",
    "    candidate_list.append('not find')\n",
    "  return candidate_list\n",
    "\n",
    "# string_list中的string若為其他string的\"子集\"則剔除\n",
    "def substringSieve(string_list):\n",
    "    string_list.sort(key=lambda s: len(s), reverse=True)\n",
    "    out = []\n",
    "    for s in string_list:\n",
    "      if not any([s in o for o in out]):\n",
    "        out.append(s)\n",
    "    return out\n",
    "\n",
    "# 去除多重空白\n",
    "def remove_multiple_blanks(x):\n",
    "  for i in range(2,10,1):\n",
    "    x = x.replace(' '*i,' ')\n",
    "  return x\n",
    "\n",
    "# 輸入sentence前處理\n",
    "def preprocess_raw_sentence(x):\n",
    "  x = str(x).upper() # 轉大寫字串\n",
    "  x = re.sub('[\\u4e00-\\u9fa5]', '', x) # 去除中文\n",
    "  x = re.sub(r'[^\\w\\s]','',x) # 去除標點符號\n",
    "  x = x.replace('\\n', '').replace('\\r', '').replace('\\t', '') # 去除換行符號\n",
    "  str.strip(x) # 移除左右空白\n",
    "  x = remove_multiple_blanks(x) # 去除多重空白\n",
    "  x = ' ' + x + ' '# 出現在頭的 就不可能對到前後加空格的 這種情形要想想怎麼對照(加上左右空白)\n",
    "  return x\n",
    "\n",
    "# 字串長度小於3的單詞前後加空白\n",
    "def add_space(x):\n",
    "    if (' ' not in x) and (len(x)<=3): \n",
    "        return ' ' + x + ' '\n",
    "    else:\n",
    "        return x\n",
    "\n",
    "# 產品後處理\n",
    "def product_name_postprocess(x):\n",
    "  x = str(x).split('(')[0] # 擷取括號前面的字串\n",
    "  x = str(x).upper() # 轉大寫字串\n",
    "  x = re.sub(r'[^\\w\\s]','',x) # 去除標點符號\n",
    "  x = x.strip() # 去除空白\n",
    "  x = add_space(x)# 字串長度小於3的單詞前後加空白\n",
    "  return x\n",
    "\n",
    "# 基於關鍵字比對方法的預測函數\n",
    "def predict_keyword(title,test_df,Unrecognized,input_col,database,output_col,use_X000D=False):\n",
    "  result = []\n",
    "  for i in tqdm(test_df.index):\n",
    "    candidate_list = matching(\n",
    "        sentence = test_df.loc[i,input_col],\n",
    "        database = set(database) - set(Unrecognized),\n",
    "        use_X000D = use_X000D\n",
    "        )\n",
    "    result.append(substringSieve(candidate_list))\n",
    "  test_df[output_col] = result\n",
    "  return test_df\n",
    "\n",
    "# 取得dataframe的空列表索引\n",
    "def get_empty_list_idx(df,col):\n",
    "  error_idx = []\n",
    "  for idx,name in enumerate(df[col].values.tolist()):\n",
    "    if len(name) == 0:\n",
    "      error_idx.append(idx)\n",
    "  return error_idx\n",
    "\n",
    "# 公司英文名稱模糊比對函數\n",
    "def 公司英文名稱模糊比對函數(input_data,公司寶典):\n",
    "    # 去[]\n",
    "    input_data = input_data[0]\n",
    "    # 去尾綴\n",
    "    for 尾綴 in 公司寶典['尾綴']:\n",
    "      input_data = input_data.replace(尾綴,'')\n",
    "    # 去空白\n",
    "    input_data = input_data.strip()\n",
    "    # 幾種意外情況\n",
    "    if input_data == 'not find':\n",
    "      return [input_data]\n",
    "    if input_data.encode('utf-8').isalpha() == False:\n",
    "      return [input_data]\n",
    "    # 模糊搜索最相似公司\n",
    "    score = {}\n",
    "    for history_data in 公司寶典['公司英文名稱']:\n",
    "        score[history_data] = editdistance.eval(input_data,history_data)\n",
    "    return min(score,key=score.get)\n",
    "\n",
    "# 公司英文名稱2代號函數\n",
    "def 公司英文名稱2代號函數(input_data,公司寶典):\n",
    "    score = {}\n",
    "    for history_data in 公司寶典['公司英文名稱']:\n",
    "      score[history_data] = editdistance.eval(input_data,history_data)\n",
    "    return 公司寶典.loc[公司寶典['公司英文名稱']==min(score,key=score.get),'代號']"
   ]
  },
  {
   "cell_type": "markdown",
   "metadata": {},
   "source": [
    "# 載入數據\n"
   ]
  },
  {
   "cell_type": "code",
   "execution_count": 69,
   "metadata": {},
   "outputs": [],
   "source": [
    "# 歷史資料庫\n",
    "database = pd.read_excel('../data/combined_excel.xlsx')\n",
    "# 新的測試數據\n",
    "test_data = pd.read_csv('../data/測試數據/0927到2022.csv')\n",
    "\n",
    "# 讀取\"產品名\"寶典\n",
    "品名寶典 = pd.read_excel('../data/寶典/寶典人工處理後/寶典.v8.202111202.xlsx',engine='openpyxl')[['CODIV','DIVNM','ITEMNM']]\n",
    "品名寶典 = 品名寶典.rename(columns={'ITEMNM':'品名','DIVNM':'公司事業部門','CODIV':'公司代號'})\n",
    "品名寶典['品名'] = 品名寶典['品名'].apply(lambda x:product_name_postprocess(x))\n",
    "\n",
    "# 讀取\"開狀人\"寶典\n",
    "開狀人寶典 = pd.read_csv('../data/寶典/開狀人寶典.csv')\n",
    "\n",
    "# 讀取\"公司\"寶典\n",
    "公司寶典 = pd.read_csv('../data/寶典/公司寶典加尾綴.csv',index_col=0).astype(str).reset_index(drop=True)"
   ]
  },
  {
   "cell_type": "code",
   "execution_count": 70,
   "metadata": {},
   "outputs": [],
   "source": [
    "#dict(zip(品名寶典['品名'],品名寶典['公司代號']))"
   ]
  },
  {
   "cell_type": "code",
   "execution_count": 71,
   "metadata": {},
   "outputs": [],
   "source": [
    "#new_row = pd.DataFrame([['2','NANYA PLASTICS','CORPORATION']],columns=['代號','公司英文名稱','尾綴'])\n",
    "#公司寶典 = 公司寶典.append(new_row)\n",
    "#公司寶典"
   ]
  },
  {
   "cell_type": "code",
   "execution_count": 72,
   "metadata": {},
   "outputs": [
    {
     "data": {
      "text/plain": [
       "['1', '2', '4', '6', 'C', 'J']"
      ]
     },
     "execution_count": 72,
     "metadata": {},
     "output_type": "execute_result"
    }
   ],
   "source": [
    "大公司列表 = []\n",
    "for i in 公司寶典['代號']:\n",
    "    if (len(i) == 1):\n",
    "        大公司列表.append(i)\n",
    "大公司列表"
   ]
  },
  {
   "cell_type": "code",
   "execution_count": 73,
   "metadata": {},
   "outputs": [
    {
     "data": {
      "text/plain": [
       "['AF',\n",
       " 'AH',\n",
       " 'AL',\n",
       " 'BM',\n",
       " 'BN',\n",
       " 'GF',\n",
       " 'IF',\n",
       " 'RS',\n",
       " 'RW',\n",
       " 'RZ',\n",
       " 'XU',\n",
       " 'XZ',\n",
       " 'BQ',\n",
       " 'RC',\n",
       " 'RP',\n",
       " 'RA',\n",
       " 'RV',\n",
       " 'TN',\n",
       " 'TR',\n",
       " 'BW']"
      ]
     },
     "execution_count": 73,
     "metadata": {},
     "output_type": "execute_result"
    }
   ],
   "source": [
    "小公司列表 = []\n",
    "for i in 公司寶典['代號']:\n",
    "    if (len(i) == 2) and (i[0].isalpha()) and (i[1].isalpha()):\n",
    "        小公司列表.append(i)\n",
    "小公司列表"
   ]
  },
  {
   "cell_type": "markdown",
   "metadata": {},
   "source": [
    "# 按照時間排序資料"
   ]
  },
  {
   "cell_type": "code",
   "execution_count": 74,
   "metadata": {},
   "outputs": [],
   "source": [
    "def sort_by_form(df):\n",
    "    df = df.sort_values(by='from')\n",
    "    df = df.reset_index(drop=True)\n",
    "    return df\n",
    "database = sort_by_form(database)\n",
    "test_data = sort_by_form(test_data)"
   ]
  },
  {
   "cell_type": "markdown",
   "metadata": {},
   "source": [
    "# 定義欄位"
   ]
  },
  {
   "cell_type": "code",
   "execution_count": 75,
   "metadata": {},
   "outputs": [],
   "source": [
    "產品名輸入 = '45A' #產品名\n",
    "開狀人輸入 = '50' #開狀人\n",
    "受益人輸入 = '59' #受益人\n",
    "開狀銀行輸入 = 'LTADDRESS.1' #銀行輸入\n",
    "輸出欄位 = ['產品名','開狀人','受益人','開狀銀行']\n",
    "輸入欄位 = ['45A','50','59','LTADDRESS.1']"
   ]
  },
  {
   "cell_type": "markdown",
   "metadata": {},
   "source": [
    "# 預處理函數"
   ]
  },
  {
   "cell_type": "code",
   "execution_count": 76,
   "metadata": {},
   "outputs": [],
   "source": [
    "# 針對模型輸入做預處理\n",
    "def 預處理(df):\n",
    "  產品名輸入 = '45A' #產品名\n",
    "  開狀人輸入 = '50' #開狀人\n",
    "  受益人輸入 = '59' #受益人\n",
    "  開狀銀行輸入 = 'LTADDRESS.1' #銀行輸入\n",
    "  for i in [產品名輸入,開狀人輸入,受益人輸入]:\n",
    "    df[i] = df[i].apply(lambda x:preprocess_raw_sentence(x))\n",
    "  return df"
   ]
  },
  {
   "cell_type": "markdown",
   "metadata": {},
   "source": [
    "# 抽特徵函數"
   ]
  },
  {
   "cell_type": "code",
   "execution_count": 77,
   "metadata": {},
   "outputs": [],
   "source": [
    "def 抽特徵(df,品名寶典=None,開狀人寶典=None,公司寶典=None):\n",
    "  # 預測產品(利用品名寶典)\n",
    "  df = predict_keyword(\n",
    "      title = '正在預測產品',\n",
    "      test_df = df,\n",
    "      Unrecognized = ['PE','MA','EA','GRADE','INA','PACK','PP','PA','']+[' '*i for i in range(1,10,1)],\n",
    "      input_col = 產品名輸入,\n",
    "      database = list(map(lambda x:str(x).upper(),品名寶典['品名'].values.tolist())),\n",
    "      output_col = '產品名',\n",
    "      use_X000D = False,\n",
    "      )\n",
    "\n",
    "  # 預測開狀人(善用X000D)\n",
    "  df = predict_keyword(\n",
    "      title = '正在預測開狀人',\n",
    "      test_df = df,\n",
    "      Unrecognized = ['']+[' '*i for i in range(1,10,1)],\n",
    "      input_col = 開狀人輸入,\n",
    "      database = list(map(lambda x:str(x).upper(),開狀人寶典['開狀人'].values.tolist())),\n",
    "      output_col = '開狀人',\n",
    "      use_X000D = True,\n",
    "      )\n",
    "\n",
    "  # 搜索法預測公司(受益人)\n",
    "  df = predict_keyword(\n",
    "      title = '正在預測受益人',\n",
    "      test_df = df,\n",
    "      Unrecognized = ['']+[' '*i for i in range(1,10,1)],\n",
    "      input_col = 受益人輸入,\n",
    "      database = list(map(lambda x:str(x).upper(),公司寶典['公司英文名稱'].values.tolist())),\n",
    "      output_col = '受益人',\n",
    "      use_X000D = True,\n",
    "      )\n",
    "  # 受益人(公司)模糊比對,確保跟寶典上寫的一致\n",
    "  df['受益人'] = df['受益人'].apply(lambda x:公司英文名稱模糊比對函數(x,公司寶典))\n",
    "\n",
    "  # 預測開狀銀行靠規則比對篩選前8碼即可\n",
    "  df['開狀銀行'] = df[開狀銀行輸入].apply(lambda x:str(x)[:8])\n",
    "  return df"
   ]
  },
  {
   "cell_type": "markdown",
   "metadata": {},
   "source": [
    "# 準備訓練資料"
   ]
  },
  {
   "cell_type": "code",
   "execution_count": 78,
   "metadata": {},
   "outputs": [
    {
     "name": "stderr",
     "output_type": "stream",
     "text": [
      "C:\\Users\\ricky\\anaconda3\\envs\\bert_env\\lib\\site-packages\\ipykernel_launcher.py:66: TqdmDeprecationWarning: This function will be removed in tqdm==5.0.0\n",
      "Please use `tqdm.notebook.tqdm` instead of `tqdm.tqdm_notebook`\n"
     ]
    },
    {
     "data": {
      "application/vnd.jupyter.widget-view+json": {
       "model_id": "10c463c6a59f44e09bcde63d76418f88",
       "version_major": 2,
       "version_minor": 0
      },
      "text/plain": [
       "  0%|          | 0/20737 [00:00<?, ?it/s]"
      ]
     },
     "metadata": {},
     "output_type": "display_data"
    },
    {
     "data": {
      "application/vnd.jupyter.widget-view+json": {
       "model_id": "738934126a5a4d13a23b98461e35ad3a",
       "version_major": 2,
       "version_minor": 0
      },
      "text/plain": [
       "  0%|          | 0/20737 [00:00<?, ?it/s]"
      ]
     },
     "metadata": {},
     "output_type": "display_data"
    },
    {
     "data": {
      "application/vnd.jupyter.widget-view+json": {
       "model_id": "df814822082c4b0dad7c9147828668d0",
       "version_major": 2,
       "version_minor": 0
      },
      "text/plain": [
       "  0%|          | 0/20737 [00:00<?, ?it/s]"
      ]
     },
     "metadata": {},
     "output_type": "display_data"
    },
    {
     "name": "stdout",
     "output_type": "stream",
     "text": [
      "產品名 空列表數量: 0\n",
      "開狀人 空列表數量: 0\n",
      "受益人 空列表數量: 0\n",
      "開狀銀行 空列表數量: 0\n"
     ]
    },
    {
     "data": {
      "text/html": [
       "<div>\n",
       "<style scoped>\n",
       "    .dataframe tbody tr th:only-of-type {\n",
       "        vertical-align: middle;\n",
       "    }\n",
       "\n",
       "    .dataframe tbody tr th {\n",
       "        vertical-align: top;\n",
       "    }\n",
       "\n",
       "    .dataframe thead th {\n",
       "        text-align: right;\n",
       "    }\n",
       "</style>\n",
       "<table border=\"1\" class=\"dataframe\">\n",
       "  <thead>\n",
       "    <tr style=\"text-align: right;\">\n",
       "      <th></th>\n",
       "      <th>產品名</th>\n",
       "      <th>開狀人</th>\n",
       "      <th>受益人</th>\n",
       "      <th>開狀銀行</th>\n",
       "    </tr>\n",
       "  </thead>\n",
       "  <tbody>\n",
       "    <tr>\n",
       "      <th>20732</th>\n",
       "      <td>[NYLON 6 FILAMENT YARN]</td>\n",
       "      <td>[SKY INDUSTRIES LTD]</td>\n",
       "      <td>[FORMOSA CHEMICALS AND FIBRE]</td>\n",
       "      <td>KKBKINBB</td>\n",
       "    </tr>\n",
       "    <tr>\n",
       "      <th>20733</th>\n",
       "      <td>[PVC SUSPENSION RESIN]</td>\n",
       "      <td>[L D INTERNATIONAL]</td>\n",
       "      <td>[FORMOSA PLASTICS]</td>\n",
       "      <td>KKBKINBB</td>\n",
       "    </tr>\n",
       "    <tr>\n",
       "      <th>20734</th>\n",
       "      <td>[EPOXY RESIN, NPEF]</td>\n",
       "      <td>[ALLCHEM INTERNATIONAL PTY LTD]</td>\n",
       "      <td>[NAN YA PLASTICS]</td>\n",
       "      <td>CTCBHKHH</td>\n",
       "    </tr>\n",
       "    <tr>\n",
       "      <th>20735</th>\n",
       "      <td>[EPOXY RESIN, NPEL]</td>\n",
       "      <td>[ALLCHEM INTERNATIONAL PTY LTD]</td>\n",
       "      <td>[NAN YA PLASTICS]</td>\n",
       "      <td>CTCBHKHH</td>\n",
       "    </tr>\n",
       "    <tr>\n",
       "      <th>20736</th>\n",
       "      <td>[PVC RESIN]</td>\n",
       "      <td>[PRAGYA FLEXIFILM INDUSTRIES]</td>\n",
       "      <td>[FORMOSA PLASTICS]</td>\n",
       "      <td>KKBKINBB</td>\n",
       "    </tr>\n",
       "  </tbody>\n",
       "</table>\n",
       "</div>"
      ],
      "text/plain": [
       "                           產品名                              開狀人  \\\n",
       "20732  [NYLON 6 FILAMENT YARN]             [SKY INDUSTRIES LTD]   \n",
       "20733   [PVC SUSPENSION RESIN]              [L D INTERNATIONAL]   \n",
       "20734      [EPOXY RESIN, NPEF]  [ALLCHEM INTERNATIONAL PTY LTD]   \n",
       "20735      [EPOXY RESIN, NPEL]  [ALLCHEM INTERNATIONAL PTY LTD]   \n",
       "20736              [PVC RESIN]    [PRAGYA FLEXIFILM INDUSTRIES]   \n",
       "\n",
       "                                 受益人      開狀銀行  \n",
       "20732  [FORMOSA CHEMICALS AND FIBRE]  KKBKINBB  \n",
       "20733             [FORMOSA PLASTICS]  KKBKINBB  \n",
       "20734              [NAN YA PLASTICS]  CTCBHKHH  \n",
       "20735              [NAN YA PLASTICS]  CTCBHKHH  \n",
       "20736             [FORMOSA PLASTICS]  KKBKINBB  "
      ]
     },
     "execution_count": 78,
     "metadata": {},
     "output_type": "execute_result"
    }
   ],
   "source": [
    "database = 抽特徵(預處理(database),品名寶典=品名寶典,開狀人寶典=開狀人寶典,公司寶典=公司寶典)\n",
    "for i in 輸出欄位:\n",
    "    number = get_empty_list_idx(df=database,col=i)\n",
    "    print(i,'空列表數量:',len(number))\n",
    "database[輸出欄位].tail(5)"
   ]
  },
  {
   "cell_type": "markdown",
   "metadata": {},
   "source": [
    "# 準備測試資料"
   ]
  },
  {
   "cell_type": "code",
   "execution_count": 79,
   "metadata": {},
   "outputs": [
    {
     "name": "stderr",
     "output_type": "stream",
     "text": [
      "C:\\Users\\ricky\\anaconda3\\envs\\bert_env\\lib\\site-packages\\ipykernel_launcher.py:66: TqdmDeprecationWarning: This function will be removed in tqdm==5.0.0\n",
      "Please use `tqdm.notebook.tqdm` instead of `tqdm.tqdm_notebook`\n"
     ]
    },
    {
     "data": {
      "application/vnd.jupyter.widget-view+json": {
       "model_id": "4c62611581d24f60aee6ba836c799fe3",
       "version_major": 2,
       "version_minor": 0
      },
      "text/plain": [
       "  0%|          | 0/2427 [00:00<?, ?it/s]"
      ]
     },
     "metadata": {},
     "output_type": "display_data"
    },
    {
     "data": {
      "application/vnd.jupyter.widget-view+json": {
       "model_id": "10ca2747c8fe4ce18fabe38e2e84e13a",
       "version_major": 2,
       "version_minor": 0
      },
      "text/plain": [
       "  0%|          | 0/2427 [00:00<?, ?it/s]"
      ]
     },
     "metadata": {},
     "output_type": "display_data"
    },
    {
     "data": {
      "application/vnd.jupyter.widget-view+json": {
       "model_id": "18516e9ce64e4a4f8dac49e6cf2dc27f",
       "version_major": 2,
       "version_minor": 0
      },
      "text/plain": [
       "  0%|          | 0/2427 [00:00<?, ?it/s]"
      ]
     },
     "metadata": {},
     "output_type": "display_data"
    },
    {
     "name": "stdout",
     "output_type": "stream",
     "text": [
      "產品名 空列表數量: 0\n",
      "開狀人 空列表數量: 0\n",
      "受益人 空列表數量: 0\n",
      "開狀銀行 空列表數量: 0\n"
     ]
    },
    {
     "data": {
      "text/html": [
       "<div>\n",
       "<style scoped>\n",
       "    .dataframe tbody tr th:only-of-type {\n",
       "        vertical-align: middle;\n",
       "    }\n",
       "\n",
       "    .dataframe tbody tr th {\n",
       "        vertical-align: top;\n",
       "    }\n",
       "\n",
       "    .dataframe thead th {\n",
       "        text-align: right;\n",
       "    }\n",
       "</style>\n",
       "<table border=\"1\" class=\"dataframe\">\n",
       "  <thead>\n",
       "    <tr style=\"text-align: right;\">\n",
       "      <th></th>\n",
       "      <th>產品名</th>\n",
       "      <th>開狀人</th>\n",
       "      <th>受益人</th>\n",
       "      <th>開狀銀行</th>\n",
       "    </tr>\n",
       "  </thead>\n",
       "  <tbody>\n",
       "    <tr>\n",
       "      <th>2422</th>\n",
       "      <td>[ETHYLENEPROPYLENE COPOLYMER, PLASTIC RESIN, P...</td>\n",
       "      <td>[DRACO KING INDUSTRIES LIMITED]</td>\n",
       "      <td>[FORMOSA PLASTICS]</td>\n",
       "      <td>HNBKHKHH</td>\n",
       "    </tr>\n",
       "    <tr>\n",
       "      <th>2423</th>\n",
       "      <td>[MONO ETHYLENE GLYCOL]</td>\n",
       "      <td>[CHI BAO CORPORATION]</td>\n",
       "      <td>[NAN YA PLASTICS]</td>\n",
       "      <td>TPBKTWTP</td>\n",
       "    </tr>\n",
       "    <tr>\n",
       "      <th>2424</th>\n",
       "      <td>[RESIN]</td>\n",
       "      <td>[PEGASUS CHEMICALS CO LTD]</td>\n",
       "      <td>[FORMOSA PLASTICS]</td>\n",
       "      <td>ICBCTWTP</td>\n",
       "    </tr>\n",
       "    <tr>\n",
       "      <th>2425</th>\n",
       "      <td>[COVERING, GP5350]</td>\n",
       "      <td>[BRENNTAG CANADA INC]</td>\n",
       "      <td>[FORMOSA CHEMICALS AND FIBRE]</td>\n",
       "      <td>NOSCCATT</td>\n",
       "    </tr>\n",
       "    <tr>\n",
       "      <th>2426</th>\n",
       "      <td>[PVC COPOLYMER RESIN]</td>\n",
       "      <td>[S R POLYVINYL LIMITED]</td>\n",
       "      <td>[FORMOSA PLASTICS]</td>\n",
       "      <td>INDBINBB</td>\n",
       "    </tr>\n",
       "  </tbody>\n",
       "</table>\n",
       "</div>"
      ],
      "text/plain": [
       "                                                    產品名  \\\n",
       "2422  [ETHYLENEPROPYLENE COPOLYMER, PLASTIC RESIN, P...   \n",
       "2423                             [MONO ETHYLENE GLYCOL]   \n",
       "2424                                            [RESIN]   \n",
       "2425                                 [COVERING, GP5350]   \n",
       "2426                              [PVC COPOLYMER RESIN]   \n",
       "\n",
       "                                  開狀人                            受益人      開狀銀行  \n",
       "2422  [DRACO KING INDUSTRIES LIMITED]             [FORMOSA PLASTICS]  HNBKHKHH  \n",
       "2423            [CHI BAO CORPORATION]              [NAN YA PLASTICS]  TPBKTWTP  \n",
       "2424       [PEGASUS CHEMICALS CO LTD]             [FORMOSA PLASTICS]  ICBCTWTP  \n",
       "2425            [BRENNTAG CANADA INC]  [FORMOSA CHEMICALS AND FIBRE]  NOSCCATT  \n",
       "2426          [S R POLYVINYL LIMITED]             [FORMOSA PLASTICS]  INDBINBB  "
      ]
     },
     "execution_count": 79,
     "metadata": {},
     "output_type": "execute_result"
    }
   ],
   "source": [
    "test_data = 抽特徵(預處理(test_data),品名寶典=品名寶典,開狀人寶典=開狀人寶典,公司寶典=公司寶典)\n",
    "for i in 輸出欄位:\n",
    "    number = get_empty_list_idx(df=test_data,col=i)\n",
    "    print(i,'空列表數量:',len(number))\n",
    "test_data[輸出欄位].tail(5)"
   ]
  },
  {
   "cell_type": "markdown",
   "metadata": {},
   "source": [
    "# 模型測試"
   ]
  },
  {
   "cell_type": "code",
   "execution_count": 80,
   "metadata": {},
   "outputs": [],
   "source": [
    "def 根據特定欄位和索引給出候選答案清單(col,idx,k,database_size=100,database=None,test_data=None):\n",
    "  # 判斷是否為空列表\n",
    "  if len(test_data[col][idx]) == 0:\n",
    "    return []\n",
    "  # 預處理\n",
    "  database['處理過的資料'] = (database[col]).apply(keep_alpha)\n",
    "  test_data['處理過的資料'] = (test_data[col]).apply(keep_alpha)\n",
    "  # 建立模型\n",
    "  model = MSKTS()\n",
    "  model.fit(list(set(database['處理過的資料'].sample(database_size).values.tolist()) - set(['']+[' '*i for i in range(1,10,1)])))\n",
    "  # 產生預測答案清單\n",
    "  predict_answer = [i for i in model.predict(test_data['處理過的資料'][idx],k=k)]\n",
    "  # 預測最相似文本\n",
    "  預測最相似文本 = [i[0] for i in predict_answer]\n",
    "  預測EXPNO前兩碼 = database.loc[database['處理過的資料'].isin(預測最相似文本),'EXPNO'].dropna().apply(lambda x:str(x)[:2]).values.tolist()\n",
    "  # 相似度距離\n",
    "  相似度距離 = [i[1] for i in predict_answer]\n",
    "  # 預測完整EXPNO\n",
    "  預測完整EXPNO = database.loc[database['處理過的資料'].isin(預測最相似文本),'EXPNO'].dropna().apply(lambda x:str(x)[:]).values.tolist()\n",
    "  # 最相似前案\n",
    "  最相似前案 = database.loc[database['處理過的資料'].isin(預測最相似文本),col].dropna().apply(lambda x:str(x)[:]).values.tolist()\n",
    "  # 最相似前案時間\n",
    "  最相似前案時間 = database.loc[database['處理過的資料'].isin(預測最相似文本),'from'].dropna().apply(lambda x:str(x)[:]).values.tolist()\n",
    "  return 預測EXPNO前兩碼,相似度距離,預測完整EXPNO,最相似前案,最相似前案時間"
   ]
  },
  {
   "cell_type": "code",
   "execution_count": 81,
   "metadata": {},
   "outputs": [
    {
     "data": {
      "text/html": [
       "<div>\n",
       "<style scoped>\n",
       "    .dataframe tbody tr th:only-of-type {\n",
       "        vertical-align: middle;\n",
       "    }\n",
       "\n",
       "    .dataframe tbody tr th {\n",
       "        vertical-align: top;\n",
       "    }\n",
       "\n",
       "    .dataframe thead th {\n",
       "        text-align: right;\n",
       "    }\n",
       "</style>\n",
       "<table border=\"1\" class=\"dataframe\">\n",
       "  <thead>\n",
       "    <tr style=\"text-align: right;\">\n",
       "      <th></th>\n",
       "      <th>59</th>\n",
       "      <th>受益人</th>\n",
       "    </tr>\n",
       "  </thead>\n",
       "  <tbody>\n",
       "  </tbody>\n",
       "</table>\n",
       "</div>"
      ],
      "text/plain": [
       "Empty DataFrame\n",
       "Columns: [59, 受益人]\n",
       "Index: []"
      ]
     },
     "execution_count": 81,
     "metadata": {},
     "output_type": "execute_result"
    }
   ],
   "source": [
    "issue_idx = test_data['受益人'][test_data['受益人'].apply(lambda x:str(x)[0])=='not find'].index\n",
    "test_data.loc[issue_idx,['59','受益人']]"
   ]
  },
  {
   "cell_type": "code",
   "execution_count": 82,
   "metadata": {},
   "outputs": [
    {
     "data": {
      "text/html": [
       "<div>\n",
       "<style scoped>\n",
       "    .dataframe tbody tr th:only-of-type {\n",
       "        vertical-align: middle;\n",
       "    }\n",
       "\n",
       "    .dataframe tbody tr th {\n",
       "        vertical-align: top;\n",
       "    }\n",
       "\n",
       "    .dataframe thead th {\n",
       "        text-align: right;\n",
       "    }\n",
       "</style>\n",
       "<table border=\"1\" class=\"dataframe\">\n",
       "  <thead>\n",
       "    <tr style=\"text-align: right;\">\n",
       "      <th></th>\n",
       "      <th>產品名</th>\n",
       "      <th>開狀人</th>\n",
       "      <th>受益人</th>\n",
       "      <th>開狀銀行</th>\n",
       "    </tr>\n",
       "  </thead>\n",
       "  <tbody>\n",
       "    <tr>\n",
       "      <th>0</th>\n",
       "      <td>[PVC SUSPENSION RESIN]</td>\n",
       "      <td>[DEEP JYOTI WAX TRADERS]</td>\n",
       "      <td>[FORMOSA PLASTICS]</td>\n",
       "      <td>ICICINBB</td>\n",
       "    </tr>\n",
       "    <tr>\n",
       "      <th>1</th>\n",
       "      <td>[MONO ETHYLENE GLYCOL MEG]</td>\n",
       "      <td>[CHEMNEWS CORP]</td>\n",
       "      <td>[NAN YA PLASTICS]</td>\n",
       "      <td>CZNBKRSE</td>\n",
       "    </tr>\n",
       "    <tr>\n",
       "      <th>2</th>\n",
       "      <td>[MONO ETHYLENE GLYCOL MEG]</td>\n",
       "      <td>[CHEMNEWS CORP]</td>\n",
       "      <td>[NAN YA PLASTICS]</td>\n",
       "      <td>CZNBKRSE</td>\n",
       "    </tr>\n",
       "    <tr>\n",
       "      <th>3</th>\n",
       "      <td>[PVC SUSPENSION RESIN]</td>\n",
       "      <td>[GOVERDHAN ENERGY]</td>\n",
       "      <td>[FORMOSA PLASTICS]</td>\n",
       "      <td>INDBINBB</td>\n",
       "    </tr>\n",
       "    <tr>\n",
       "      <th>4</th>\n",
       "      <td>[PVC TRANSPARENT SHEET]</td>\n",
       "      <td>[SOJITZ CORPORATION]</td>\n",
       "      <td>[NAN YA PLASTICS]</td>\n",
       "      <td>BOTKJPJT</td>\n",
       "    </tr>\n",
       "  </tbody>\n",
       "</table>\n",
       "</div>"
      ],
      "text/plain": [
       "                          產品名                       開狀人                 受益人  \\\n",
       "0      [PVC SUSPENSION RESIN]  [DEEP JYOTI WAX TRADERS]  [FORMOSA PLASTICS]   \n",
       "1  [MONO ETHYLENE GLYCOL MEG]           [CHEMNEWS CORP]   [NAN YA PLASTICS]   \n",
       "2  [MONO ETHYLENE GLYCOL MEG]           [CHEMNEWS CORP]   [NAN YA PLASTICS]   \n",
       "3      [PVC SUSPENSION RESIN]        [GOVERDHAN ENERGY]  [FORMOSA PLASTICS]   \n",
       "4     [PVC TRANSPARENT SHEET]      [SOJITZ CORPORATION]   [NAN YA PLASTICS]   \n",
       "\n",
       "       開狀銀行  \n",
       "0  ICICINBB  \n",
       "1  CZNBKRSE  \n",
       "2  CZNBKRSE  \n",
       "3  INDBINBB  \n",
       "4  BOTKJPJT  "
      ]
     },
     "execution_count": 82,
     "metadata": {},
     "output_type": "execute_result"
    }
   ],
   "source": [
    "test_data[輸出欄位].head()"
   ]
  },
  {
   "cell_type": "markdown",
   "metadata": {},
   "source": [
    "# 測試正確率"
   ]
  },
  {
   "cell_type": "code",
   "execution_count": 83,
   "metadata": {},
   "outputs": [],
   "source": [
    "def 根據受益人限縮database(test_data,公司寶典):\n",
    "    公司英文名稱2代號 = dict(zip(公司寶典['公司英文名稱'],公司寶典['代號']))\n",
    "    公司英文名稱 = test_data['受益人'].apply(lambda x:公司英文名稱模糊比對函數(x,公司寶典)[0]).values.tolist()\n",
    "    expno第一碼 = [ 公司英文名稱2代號函數(i,公司寶典).values.tolist()[0] for i in 公司英文名稱]\n",
    "    return database.loc[database['EXPNO'].apply(lambda x:str(x)[0])=='2',:]"
   ]
  },
  {
   "cell_type": "code",
   "execution_count": 84,
   "metadata": {},
   "outputs": [
    {
     "name": "stderr",
     "output_type": "stream",
     "text": [
      "C:\\Users\\ricky\\anaconda3\\envs\\bert_env\\lib\\site-packages\\ipykernel_launcher.py:8: TqdmDeprecationWarning: This function will be removed in tqdm==5.0.0\n",
      "Please use `tqdm.notebook.tqdm` instead of `tqdm.tqdm_notebook`\n",
      "  \n"
     ]
    },
    {
     "data": {
      "application/vnd.jupyter.widget-view+json": {
       "model_id": "e06eaf53808d45a39e3702dd23130b99",
       "version_major": 2,
       "version_minor": 0
      },
      "text/plain": [
       "  0%|          | 0/20 [00:00<?, ?it/s]"
      ]
     },
     "metadata": {},
     "output_type": "display_data"
    },
    {
     "name": "stdout",
     "output_type": "stream",
     "text": [
      "正確率: 0.85\n"
     ]
    }
   ],
   "source": [
    "def 目標函數(database_size,database,test_data,test_n=20,k=1):\n",
    "  # 初始化'預測EXPNO'和correct\n",
    "  test_data['預測EXPNO'] = None\n",
    "  correct = []\n",
    "  # 先根據公司限縮database\n",
    "  restricted_database = database#根據受益人限縮database(test_data,公司寶典)\n",
    "  # 遍歷test_data做推論\n",
    "  for idx in tqdm(range(test_n)):\n",
    "    # 先用品名映射到代號\n",
    "    try:\n",
    "      品名 = test_data.loc[idx,'產品名'][0]\n",
    "      代號 = dict(zip(品名寶典['品名'],品名寶典['公司代號']))[品名]\n",
    "    except:\n",
    "      代號 = None\n",
    "    o1,d1,e1,n1,t1 = 根據特定欄位和索引給出候選答案清單(\n",
    "      col='產品名',idx=idx,k=k,\n",
    "      database_size=min(database_size,len(restricted_database)),\n",
    "      database=restricted_database,\n",
    "      test_data=test_data)\n",
    "    o2,d2,e2,n2,t2 = 根據特定欄位和索引給出候選答案清單(\n",
    "      col='開狀人',idx=idx,k=k,\n",
    "      database_size=min(database_size,len(restricted_database)),\n",
    "      database=restricted_database,\n",
    "      test_data=test_data)\n",
    "    o3,d3,e3,n3,t3 = 根據特定欄位和索引給出候選答案清單(\n",
    "      col='受益人',idx=idx,k=k,\n",
    "      database_size=min(database_size,len(restricted_database)),\n",
    "      database=restricted_database,\n",
    "      test_data=test_data)\n",
    "    o4,d4,e4,n4,t4 = 根據特定欄位和索引給出候選答案清單(\n",
    "      col='開狀銀行',idx=idx,k=k,\n",
    "      database_size=min(database_size,len(restricted_database)),\n",
    "      database=restricted_database,\n",
    "      test_data=test_data)\n",
    "    # 判斷是否為小公司\n",
    "    if len(set(o3) & set(小公司列表)) > 0:\n",
    "      o = list(set(o3) & set(小公司列表))\n",
    "    # 判斷是否為大公司\n",
    "    elif len(set([str(i[0]) for i in o3]) & set(大公司列表)) > 0:\n",
    "      new_o = []\n",
    "      # 從o1中做篩選\n",
    "      for expno前兩碼 in o1:\n",
    "        expno第一碼 = str(expno前兩碼[0])\n",
    "        if expno第一碼 in 大公司列表:\n",
    "          new_o.append(expno前兩碼)\n",
    "      o = new_o\n",
    "    # 其他情況\n",
    "    else:\n",
    "      o = o1 + o3\n",
    "    # 對o取眾數得到ensemble_output\n",
    "    try:\n",
    "      try:\n",
    "        ensemble_output = max(o,key=o.count)\n",
    "      except:\n",
    "        ensemble_output = max(o1+o3,key=(o1+o3).count)\n",
    "    except:\n",
    "      ensemble_output = 'not find'\n",
    "    # 如果代號 != None 指派代號至ensemble_output\n",
    "    if 代號 != None:\n",
    "      ensemble_output = 代號\n",
    "    # 指派前案特徵至test_data\n",
    "    for i in [n1,n2,n3,n4]:\n",
    "      if len(i) == 0:\n",
    "        i.append('not find')\n",
    "    test_data.loc[idx,'前案產品名'] = max(n1,key=n1.count)\n",
    "    test_data.loc[idx,'前案開狀人'] = max(n2,key=n2.count)\n",
    "    test_data.loc[idx,'前案受益人'] = max(n3,key=n3.count)\n",
    "    test_data.loc[idx,'前案開狀銀行'] = max(n4,key=n4.count)\n",
    "    # 指派前案時間至test_data\n",
    "    try:\n",
    "      test_data.loc[idx,'最相似前案時間'] = max(t1+t2+t3+t4,key=(t1+t2+t3+t4).count)\n",
    "    except:\n",
    "      test_data.loc[idx,'最相似前案時間'] = 'not find'\n",
    "    # 指派預測值至test_data\n",
    "    test_data.loc[idx,'預測EXPNO'] = ensemble_output\n",
    "    # 指派距離至test_data\n",
    "    test_data.loc[idx,'相似度距離'] = np.sum(d1+d2+d3+d4)\n",
    "    # 指派完整EXPNO至test_data\n",
    "    完整EXPNO候選清單 =[]\n",
    "    for expno in e1+e3+e3+e4:\n",
    "      if expno[:2] == ensemble_output:\n",
    "        完整EXPNO候選清單.append(expno)\n",
    "    try:\n",
    "      test_data.loc[idx,'預測完整EXPNO'] = max(完整EXPNO候選清單,key=完整EXPNO候選清單.count)\n",
    "    except:\n",
    "      test_data.loc[idx,'預測完整EXPNO'] = 'not find'\n",
    "    # 計算正確率\n",
    "    if ensemble_output == test_data['推薦公司事業部'][idx]:\n",
    "      correct.append(True)\n",
    "    else:\n",
    "      correct.append(False)\n",
    "  return np.mean(correct),test_data\n",
    "acc,test_data = 目標函數(database_size=len(database),database=database,test_data=test_data)\n",
    "print('正確率:',acc)"
   ]
  },
  {
   "cell_type": "code",
   "execution_count": 85,
   "metadata": {},
   "outputs": [
    {
     "data": {
      "text/html": [
       "<div>\n",
       "<style scoped>\n",
       "    .dataframe tbody tr th:only-of-type {\n",
       "        vertical-align: middle;\n",
       "    }\n",
       "\n",
       "    .dataframe tbody tr th {\n",
       "        vertical-align: top;\n",
       "    }\n",
       "\n",
       "    .dataframe thead th {\n",
       "        text-align: right;\n",
       "    }\n",
       "</style>\n",
       "<table border=\"1\" class=\"dataframe\">\n",
       "  <thead>\n",
       "    <tr style=\"text-align: right;\">\n",
       "      <th></th>\n",
       "      <th>45A</th>\n",
       "      <th>50</th>\n",
       "      <th>59</th>\n",
       "      <th>LTADDRESS.1</th>\n",
       "      <th>產品名</th>\n",
       "      <th>開狀人</th>\n",
       "      <th>受益人</th>\n",
       "      <th>開狀銀行</th>\n",
       "      <th>相似度距離</th>\n",
       "      <th>from</th>\n",
       "      <th>20</th>\n",
       "      <th>預測EXPNO</th>\n",
       "      <th>預測完整EXPNO</th>\n",
       "      <th>推薦公司事業部</th>\n",
       "      <th>最相似前案時間</th>\n",
       "      <th>前案產品名</th>\n",
       "      <th>前案開狀人</th>\n",
       "      <th>前案受益人</th>\n",
       "      <th>前案開狀銀行</th>\n",
       "    </tr>\n",
       "  </thead>\n",
       "  <tbody>\n",
       "    <tr>\n",
       "      <th>5</th>\n",
       "      <td>16 MTS OF PROPYLENE COPOLYMER GRADE NOT8002_X...</td>\n",
       "      <td>THE EGYPTIAN COMPANY FOR_X000D_THE PRODUCTION...</td>\n",
       "      <td>FORMOSA CHEMICALS AND FIBRE_X000D_CORP 201 TU...</td>\n",
       "      <td>BMISEGCXATFC</td>\n",
       "      <td>[PROPYLENE COPOLYMER]</td>\n",
       "      <td>[THE EGYPTIAN COMPANY FOR]</td>\n",
       "      <td>[FORMOSA CHEMICALS AND FIBRE]</td>\n",
       "      <td>BMISEGCX</td>\n",
       "      <td>0.0</td>\n",
       "      <td>0927.xls</td>\n",
       "      <td>TFCIMP0211742520</td>\n",
       "      <td>NaN</td>\n",
       "      <td>not find</td>\n",
       "      <td>4A</td>\n",
       "      <td>021-202101.xlsx</td>\n",
       "      <td>['PROPYLENE COPOLYMER']</td>\n",
       "      <td>['THE EGYPTIAN COMPANY FOR']</td>\n",
       "      <td>['FORMOSA CHEMICALS AND FIBRE']</td>\n",
       "      <td>BMISEGCX</td>\n",
       "    </tr>\n",
       "    <tr>\n",
       "      <th>6</th>\n",
       "      <td>14400 KG_X000D_TETRAHYDROFURAN_X000D_AS PER P...</td>\n",
       "      <td>PIRAMAL PHARMA LTD_X000D_ENNORE EXPRESS HIGHW...</td>\n",
       "      <td>NAN YA PLASTICS CORPORATION_X000D_PETROCHEMIC...</td>\n",
       "      <td>KKBKINBBACPC</td>\n",
       "      <td>[TETRAHYDROFURAN]</td>\n",
       "      <td>[ PIRAMAL PHARMA LTD]</td>\n",
       "      <td>[NAN YA PLASTICS]</td>\n",
       "      <td>KKBKINBB</td>\n",
       "      <td>19.0</td>\n",
       "      <td>0927.xls</td>\n",
       "      <td>0462ILF210010760</td>\n",
       "      <td>2P</td>\n",
       "      <td>2PL14132</td>\n",
       "      <td>24</td>\n",
       "      <td>021-202101.xlsx</td>\n",
       "      <td>['TETRAHYDROFURAN']</td>\n",
       "      <td>['PIRAMAL PHARMA LIMITED']</td>\n",
       "      <td>['NAN YA PLASTICS']</td>\n",
       "      <td>KKBKINBB</td>\n",
       "    </tr>\n",
       "    <tr>\n",
       "      <th>16</th>\n",
       "      <td>PVC SHEET_X000D__X000D_CIF VIETNAM</td>\n",
       "      <td>AKROS TRADING CO LTD _X000D_BWING 241 SHIBAKO...</td>\n",
       "      <td>NAN YA PLASTICS CORPORATION_X000D_201TUNG HWA...</td>\n",
       "      <td>MHCBJPJTDXXX</td>\n",
       "      <td>[PVC SHEET]</td>\n",
       "      <td>[AKROS TRADING CO LTD]</td>\n",
       "      <td>[NAN YA PLASTICS]</td>\n",
       "      <td>MHCBJPJT</td>\n",
       "      <td>0.0</td>\n",
       "      <td>0927.xls</td>\n",
       "      <td>LC011100042932</td>\n",
       "      <td>23</td>\n",
       "      <td>23J15014</td>\n",
       "      <td>21</td>\n",
       "      <td>021-202104.xlsx</td>\n",
       "      <td>['PVC SHEET']</td>\n",
       "      <td>['AKROS TRADING CO LTD']</td>\n",
       "      <td>['NAN YA PLASTICS']</td>\n",
       "      <td>MHCBJPJT</td>\n",
       "    </tr>\n",
       "  </tbody>\n",
       "</table>\n",
       "</div>"
      ],
      "text/plain": [
       "                                                  45A  \\\n",
       "5    16 MTS OF PROPYLENE COPOLYMER GRADE NOT8002_X...   \n",
       "6    14400 KG_X000D_TETRAHYDROFURAN_X000D_AS PER P...   \n",
       "16                PVC SHEET_X000D__X000D_CIF VIETNAM    \n",
       "\n",
       "                                                   50  \\\n",
       "5    THE EGYPTIAN COMPANY FOR_X000D_THE PRODUCTION...   \n",
       "6    PIRAMAL PHARMA LTD_X000D_ENNORE EXPRESS HIGHW...   \n",
       "16   AKROS TRADING CO LTD _X000D_BWING 241 SHIBAKO...   \n",
       "\n",
       "                                                   59   LTADDRESS.1  \\\n",
       "5    FORMOSA CHEMICALS AND FIBRE_X000D_CORP 201 TU...  BMISEGCXATFC   \n",
       "6    NAN YA PLASTICS CORPORATION_X000D_PETROCHEMIC...  KKBKINBBACPC   \n",
       "16   NAN YA PLASTICS CORPORATION_X000D_201TUNG HWA...  MHCBJPJTDXXX   \n",
       "\n",
       "                      產品名                         開狀人  \\\n",
       "5   [PROPYLENE COPOLYMER]  [THE EGYPTIAN COMPANY FOR]   \n",
       "6       [TETRAHYDROFURAN]       [ PIRAMAL PHARMA LTD]   \n",
       "16            [PVC SHEET]      [AKROS TRADING CO LTD]   \n",
       "\n",
       "                              受益人      開狀銀行  相似度距離      from  \\\n",
       "5   [FORMOSA CHEMICALS AND FIBRE]  BMISEGCX    0.0  0927.xls   \n",
       "6               [NAN YA PLASTICS]  KKBKINBB   19.0  0927.xls   \n",
       "16              [NAN YA PLASTICS]  MHCBJPJT    0.0  0927.xls   \n",
       "\n",
       "                  20 預測EXPNO 預測完整EXPNO 推薦公司事業部          最相似前案時間  \\\n",
       "5   TFCIMP0211742520     NaN  not find      4A  021-202101.xlsx   \n",
       "6   0462ILF210010760      2P  2PL14132      24  021-202101.xlsx   \n",
       "16    LC011100042932      23  23J15014      21  021-202104.xlsx   \n",
       "\n",
       "                      前案產品名                         前案開狀人  \\\n",
       "5   ['PROPYLENE COPOLYMER']  ['THE EGYPTIAN COMPANY FOR']   \n",
       "6       ['TETRAHYDROFURAN']    ['PIRAMAL PHARMA LIMITED']   \n",
       "16            ['PVC SHEET']      ['AKROS TRADING CO LTD']   \n",
       "\n",
       "                              前案受益人    前案開狀銀行  \n",
       "5   ['FORMOSA CHEMICALS AND FIBRE']  BMISEGCX  \n",
       "6               ['NAN YA PLASTICS']  KKBKINBB  \n",
       "16              ['NAN YA PLASTICS']  MHCBJPJT  "
      ]
     },
     "execution_count": 85,
     "metadata": {},
     "output_type": "execute_result"
    }
   ],
   "source": [
    "最終所有必須欄位 = 輸入欄位+輸出欄位+['相似度距離','from','20','預測EXPNO','預測完整EXPNO','推薦公司事業部',\n",
    "    '最相似前案時間','前案產品名','前案開狀人','前案受益人','前案開狀銀行']\n",
    "test_data.head(20).loc[test_data['預測EXPNO']!=test_data['推薦公司事業部'],最終所有必須欄位]"
   ]
  },
  {
   "cell_type": "markdown",
   "metadata": {},
   "source": [
    "# 加入錯誤feedback寶典後再測試"
   ]
  },
  {
   "cell_type": "code",
   "execution_count": 86,
   "metadata": {},
   "outputs": [
    {
     "data": {
      "text/html": [
       "<div>\n",
       "<style scoped>\n",
       "    .dataframe tbody tr th:only-of-type {\n",
       "        vertical-align: middle;\n",
       "    }\n",
       "\n",
       "    .dataframe tbody tr th {\n",
       "        vertical-align: top;\n",
       "    }\n",
       "\n",
       "    .dataframe thead th {\n",
       "        text-align: right;\n",
       "    }\n",
       "</style>\n",
       "<table border=\"1\" class=\"dataframe\">\n",
       "  <thead>\n",
       "    <tr style=\"text-align: right;\">\n",
       "      <th></th>\n",
       "      <th>公司代號</th>\n",
       "      <th>公司事業部門</th>\n",
       "      <th>品名</th>\n",
       "    </tr>\n",
       "  </thead>\n",
       "  <tbody>\n",
       "    <tr>\n",
       "      <th>7</th>\n",
       "      <td>2E</td>\n",
       "      <td>not find</td>\n",
       "      <td>TAIRILIN BRAND POLYESTER FILM</td>\n",
       "    </tr>\n",
       "    <tr>\n",
       "      <th>9</th>\n",
       "      <td>25</td>\n",
       "      <td>not find</td>\n",
       "      <td>POLYESTER PET CHIP</td>\n",
       "    </tr>\n",
       "    <tr>\n",
       "      <th>18</th>\n",
       "      <td>4A</td>\n",
       "      <td>not find</td>\n",
       "      <td>TAIRISAN SAN RESINS</td>\n",
       "    </tr>\n",
       "    <tr>\n",
       "      <th>28</th>\n",
       "      <td>2P</td>\n",
       "      <td>not find</td>\n",
       "      <td>BUTANEDIOL</td>\n",
       "    </tr>\n",
       "    <tr>\n",
       "      <th>41</th>\n",
       "      <td>28</td>\n",
       "      <td>not find</td>\n",
       "      <td>GLASS FABRICS</td>\n",
       "    </tr>\n",
       "  </tbody>\n",
       "</table>\n",
       "</div>"
      ],
      "text/plain": [
       "   公司代號    公司事業部門                              品名\n",
       "7    2E  not find   TAIRILIN BRAND POLYESTER FILM\n",
       "9    25  not find              POLYESTER PET CHIP\n",
       "18   4A  not find             TAIRISAN SAN RESINS\n",
       "28   2P  not find                      BUTANEDIOL\n",
       "41   28  not find                   GLASS FABRICS"
      ]
     },
     "metadata": {},
     "output_type": "display_data"
    },
    {
     "data": {
      "text/html": [
       "<div>\n",
       "<style scoped>\n",
       "    .dataframe tbody tr th:only-of-type {\n",
       "        vertical-align: middle;\n",
       "    }\n",
       "\n",
       "    .dataframe tbody tr th {\n",
       "        vertical-align: top;\n",
       "    }\n",
       "\n",
       "    .dataframe thead th {\n",
       "        text-align: right;\n",
       "    }\n",
       "</style>\n",
       "<table border=\"1\" class=\"dataframe\">\n",
       "  <thead>\n",
       "    <tr style=\"text-align: right;\">\n",
       "      <th></th>\n",
       "      <th>公司代號</th>\n",
       "      <th>公司事業部門</th>\n",
       "      <th>品名</th>\n",
       "    </tr>\n",
       "  </thead>\n",
       "  <tbody>\n",
       "    <tr>\n",
       "      <th>0</th>\n",
       "      <td>11</td>\n",
       "      <td>塑膠事業部</td>\n",
       "      <td>COPOLYMER PVC C1250M</td>\n",
       "    </tr>\n",
       "    <tr>\n",
       "      <th>1</th>\n",
       "      <td>11</td>\n",
       "      <td>塑膠事業部</td>\n",
       "      <td>COPOLYMER PVC C15</td>\n",
       "    </tr>\n",
       "    <tr>\n",
       "      <th>2</th>\n",
       "      <td>11</td>\n",
       "      <td>塑膠事業部</td>\n",
       "      <td>COPOLYMER PVC C8</td>\n",
       "    </tr>\n",
       "    <tr>\n",
       "      <th>3</th>\n",
       "      <td>11</td>\n",
       "      <td>塑膠事業部</td>\n",
       "      <td>MASS PVC B57</td>\n",
       "    </tr>\n",
       "    <tr>\n",
       "      <th>4</th>\n",
       "      <td>11</td>\n",
       "      <td>塑膠事業部</td>\n",
       "      <td>MASS PVC B57C</td>\n",
       "    </tr>\n",
       "    <tr>\n",
       "      <th>...</th>\n",
       "      <td>...</td>\n",
       "      <td>...</td>\n",
       "      <td>...</td>\n",
       "    </tr>\n",
       "    <tr>\n",
       "      <th>1235</th>\n",
       "      <td>2P</td>\n",
       "      <td>not find</td>\n",
       "      <td>14 BUTANEDIOL</td>\n",
       "    </tr>\n",
       "    <tr>\n",
       "      <th>1236</th>\n",
       "      <td>4A</td>\n",
       "      <td>not find</td>\n",
       "      <td>PLASTIC RESIN</td>\n",
       "    </tr>\n",
       "    <tr>\n",
       "      <th>1237</th>\n",
       "      <td>4A</td>\n",
       "      <td>not find</td>\n",
       "      <td>POLYPROPYLENE</td>\n",
       "    </tr>\n",
       "    <tr>\n",
       "      <th>1238</th>\n",
       "      <td>2M</td>\n",
       "      <td>not find</td>\n",
       "      <td>LAMINATE</td>\n",
       "    </tr>\n",
       "    <tr>\n",
       "      <th>1239</th>\n",
       "      <td>11</td>\n",
       "      <td>not find</td>\n",
       "      <td>IMPACT MODIFIER</td>\n",
       "    </tr>\n",
       "  </tbody>\n",
       "</table>\n",
       "<p>1177 rows × 3 columns</p>\n",
       "</div>"
      ],
      "text/plain": [
       "     公司代號    公司事業部門                    品名\n",
       "0      11     塑膠事業部  COPOLYMER PVC C1250M\n",
       "1      11     塑膠事業部     COPOLYMER PVC C15\n",
       "2      11     塑膠事業部      COPOLYMER PVC C8\n",
       "3      11     塑膠事業部          MASS PVC B57\n",
       "4      11     塑膠事業部         MASS PVC B57C\n",
       "...   ...       ...                   ...\n",
       "1235   2P  not find         14 BUTANEDIOL\n",
       "1236   4A  not find         PLASTIC RESIN\n",
       "1237   4A  not find         POLYPROPYLENE\n",
       "1238   2M  not find              LAMINATE\n",
       "1239   11  not find       IMPACT MODIFIER\n",
       "\n",
       "[1177 rows x 3 columns]"
      ]
     },
     "metadata": {},
     "output_type": "display_data"
    },
    {
     "name": "stderr",
     "output_type": "stream",
     "text": [
      "C:\\Users\\ricky\\anaconda3\\envs\\bert_env\\lib\\site-packages\\ipykernel_launcher.py:66: TqdmDeprecationWarning: This function will be removed in tqdm==5.0.0\n",
      "Please use `tqdm.notebook.tqdm` instead of `tqdm.tqdm_notebook`\n"
     ]
    },
    {
     "data": {
      "application/vnd.jupyter.widget-view+json": {
       "model_id": "0345cecaa9a7460abe6dfd8defe93e90",
       "version_major": 2,
       "version_minor": 0
      },
      "text/plain": [
       "  0%|          | 0/20737 [00:00<?, ?it/s]"
      ]
     },
     "metadata": {},
     "output_type": "display_data"
    },
    {
     "data": {
      "application/vnd.jupyter.widget-view+json": {
       "model_id": "e40afab32e8e487faa405fd6cc7da7d5",
       "version_major": 2,
       "version_minor": 0
      },
      "text/plain": [
       "  0%|          | 0/20737 [00:00<?, ?it/s]"
      ]
     },
     "metadata": {},
     "output_type": "display_data"
    },
    {
     "data": {
      "application/vnd.jupyter.widget-view+json": {
       "model_id": "798638c9ee114aee9e11f33ad9396061",
       "version_major": 2,
       "version_minor": 0
      },
      "text/plain": [
       "  0%|          | 0/20737 [00:00<?, ?it/s]"
      ]
     },
     "metadata": {},
     "output_type": "display_data"
    },
    {
     "name": "stdout",
     "output_type": "stream",
     "text": [
      "產品名 空列表數量: 0\n",
      "開狀人 空列表數量: 0\n",
      "受益人 空列表數量: 0\n",
      "開狀銀行 空列表數量: 0\n"
     ]
    },
    {
     "data": {
      "text/html": [
       "<div>\n",
       "<style scoped>\n",
       "    .dataframe tbody tr th:only-of-type {\n",
       "        vertical-align: middle;\n",
       "    }\n",
       "\n",
       "    .dataframe tbody tr th {\n",
       "        vertical-align: top;\n",
       "    }\n",
       "\n",
       "    .dataframe thead th {\n",
       "        text-align: right;\n",
       "    }\n",
       "</style>\n",
       "<table border=\"1\" class=\"dataframe\">\n",
       "  <thead>\n",
       "    <tr style=\"text-align: right;\">\n",
       "      <th></th>\n",
       "      <th>產品名</th>\n",
       "      <th>開狀人</th>\n",
       "      <th>受益人</th>\n",
       "      <th>開狀銀行</th>\n",
       "    </tr>\n",
       "  </thead>\n",
       "  <tbody>\n",
       "    <tr>\n",
       "      <th>20732</th>\n",
       "      <td>[NYLON 6 FILAMENT YARN]</td>\n",
       "      <td>[SKY INDUSTRIES LTD]</td>\n",
       "      <td>[FORMOSA CHEMICALS AND FIBRE]</td>\n",
       "      <td>KKBKINBB</td>\n",
       "    </tr>\n",
       "    <tr>\n",
       "      <th>20733</th>\n",
       "      <td>[PVC SUSPENSION RESIN]</td>\n",
       "      <td>[L D INTERNATIONAL]</td>\n",
       "      <td>[FORMOSA PLASTICS]</td>\n",
       "      <td>KKBKINBB</td>\n",
       "    </tr>\n",
       "    <tr>\n",
       "      <th>20734</th>\n",
       "      <td>[EPOXY RESIN, NPEF]</td>\n",
       "      <td>[ALLCHEM INTERNATIONAL PTY LTD]</td>\n",
       "      <td>[NAN YA PLASTICS]</td>\n",
       "      <td>CTCBHKHH</td>\n",
       "    </tr>\n",
       "    <tr>\n",
       "      <th>20735</th>\n",
       "      <td>[EPOXY RESIN, NPEL]</td>\n",
       "      <td>[ALLCHEM INTERNATIONAL PTY LTD]</td>\n",
       "      <td>[NAN YA PLASTICS]</td>\n",
       "      <td>CTCBHKHH</td>\n",
       "    </tr>\n",
       "    <tr>\n",
       "      <th>20736</th>\n",
       "      <td>[PVC RESIN]</td>\n",
       "      <td>[PRAGYA FLEXIFILM INDUSTRIES]</td>\n",
       "      <td>[FORMOSA PLASTICS]</td>\n",
       "      <td>KKBKINBB</td>\n",
       "    </tr>\n",
       "  </tbody>\n",
       "</table>\n",
       "</div>"
      ],
      "text/plain": [
       "                           產品名                              開狀人  \\\n",
       "20732  [NYLON 6 FILAMENT YARN]             [SKY INDUSTRIES LTD]   \n",
       "20733   [PVC SUSPENSION RESIN]              [L D INTERNATIONAL]   \n",
       "20734      [EPOXY RESIN, NPEF]  [ALLCHEM INTERNATIONAL PTY LTD]   \n",
       "20735      [EPOXY RESIN, NPEL]  [ALLCHEM INTERNATIONAL PTY LTD]   \n",
       "20736              [PVC RESIN]    [PRAGYA FLEXIFILM INDUSTRIES]   \n",
       "\n",
       "                                 受益人      開狀銀行  \n",
       "20732  [FORMOSA CHEMICALS AND FIBRE]  KKBKINBB  \n",
       "20733             [FORMOSA PLASTICS]  KKBKINBB  \n",
       "20734              [NAN YA PLASTICS]  CTCBHKHH  \n",
       "20735              [NAN YA PLASTICS]  CTCBHKHH  \n",
       "20736             [FORMOSA PLASTICS]  KKBKINBB  "
      ]
     },
     "metadata": {},
     "output_type": "display_data"
    },
    {
     "name": "stderr",
     "output_type": "stream",
     "text": [
      "C:\\Users\\ricky\\anaconda3\\envs\\bert_env\\lib\\site-packages\\ipykernel_launcher.py:66: TqdmDeprecationWarning: This function will be removed in tqdm==5.0.0\n",
      "Please use `tqdm.notebook.tqdm` instead of `tqdm.tqdm_notebook`\n"
     ]
    },
    {
     "data": {
      "application/vnd.jupyter.widget-view+json": {
       "model_id": "fe8bfa55647145daa7c87ace7a0ae300",
       "version_major": 2,
       "version_minor": 0
      },
      "text/plain": [
       "  0%|          | 0/2427 [00:00<?, ?it/s]"
      ]
     },
     "metadata": {},
     "output_type": "display_data"
    },
    {
     "data": {
      "application/vnd.jupyter.widget-view+json": {
       "model_id": "704d2745ae1d4b60b3ae7a38e3b13bdf",
       "version_major": 2,
       "version_minor": 0
      },
      "text/plain": [
       "  0%|          | 0/2427 [00:00<?, ?it/s]"
      ]
     },
     "metadata": {},
     "output_type": "display_data"
    },
    {
     "data": {
      "application/vnd.jupyter.widget-view+json": {
       "model_id": "1f696b7c338f4038b5178b131b7b58ca",
       "version_major": 2,
       "version_minor": 0
      },
      "text/plain": [
       "  0%|          | 0/2427 [00:00<?, ?it/s]"
      ]
     },
     "metadata": {},
     "output_type": "display_data"
    },
    {
     "name": "stdout",
     "output_type": "stream",
     "text": [
      "產品名 空列表數量: 0\n",
      "開狀人 空列表數量: 0\n",
      "受益人 空列表數量: 0\n",
      "開狀銀行 空列表數量: 0\n"
     ]
    },
    {
     "data": {
      "text/html": [
       "<div>\n",
       "<style scoped>\n",
       "    .dataframe tbody tr th:only-of-type {\n",
       "        vertical-align: middle;\n",
       "    }\n",
       "\n",
       "    .dataframe tbody tr th {\n",
       "        vertical-align: top;\n",
       "    }\n",
       "\n",
       "    .dataframe thead th {\n",
       "        text-align: right;\n",
       "    }\n",
       "</style>\n",
       "<table border=\"1\" class=\"dataframe\">\n",
       "  <thead>\n",
       "    <tr style=\"text-align: right;\">\n",
       "      <th></th>\n",
       "      <th>產品名</th>\n",
       "      <th>開狀人</th>\n",
       "      <th>受益人</th>\n",
       "      <th>開狀銀行</th>\n",
       "    </tr>\n",
       "  </thead>\n",
       "  <tbody>\n",
       "    <tr>\n",
       "      <th>2422</th>\n",
       "      <td>[ETHYLENEPROPYLENE COPOLYMER, PLASTIC RESIN, P...</td>\n",
       "      <td>[DRACO KING INDUSTRIES LIMITED]</td>\n",
       "      <td>[FORMOSA PLASTICS]</td>\n",
       "      <td>HNBKHKHH</td>\n",
       "    </tr>\n",
       "    <tr>\n",
       "      <th>2423</th>\n",
       "      <td>[MONO ETHYLENE GLYCOL]</td>\n",
       "      <td>[CHI BAO CORPORATION]</td>\n",
       "      <td>[NAN YA PLASTICS]</td>\n",
       "      <td>TPBKTWTP</td>\n",
       "    </tr>\n",
       "    <tr>\n",
       "      <th>2424</th>\n",
       "      <td>[ IMPACT MODIFIER, RESIN]</td>\n",
       "      <td>[PEGASUS CHEMICALS CO LTD]</td>\n",
       "      <td>[FORMOSA PLASTICS]</td>\n",
       "      <td>ICBCTWTP</td>\n",
       "    </tr>\n",
       "    <tr>\n",
       "      <th>2425</th>\n",
       "      <td>[COVERING, GP5350]</td>\n",
       "      <td>[BRENNTAG CANADA INC]</td>\n",
       "      <td>[FORMOSA CHEMICALS AND FIBRE]</td>\n",
       "      <td>NOSCCATT</td>\n",
       "    </tr>\n",
       "    <tr>\n",
       "      <th>2426</th>\n",
       "      <td>[PVC COPOLYMER RESIN]</td>\n",
       "      <td>[S R POLYVINYL LIMITED]</td>\n",
       "      <td>[FORMOSA PLASTICS]</td>\n",
       "      <td>INDBINBB</td>\n",
       "    </tr>\n",
       "  </tbody>\n",
       "</table>\n",
       "</div>"
      ],
      "text/plain": [
       "                                                    產品名  \\\n",
       "2422  [ETHYLENEPROPYLENE COPOLYMER, PLASTIC RESIN, P...   \n",
       "2423                             [MONO ETHYLENE GLYCOL]   \n",
       "2424                          [ IMPACT MODIFIER, RESIN]   \n",
       "2425                                 [COVERING, GP5350]   \n",
       "2426                              [PVC COPOLYMER RESIN]   \n",
       "\n",
       "                                  開狀人                            受益人      開狀銀行  \n",
       "2422  [DRACO KING INDUSTRIES LIMITED]             [FORMOSA PLASTICS]  HNBKHKHH  \n",
       "2423            [CHI BAO CORPORATION]              [NAN YA PLASTICS]  TPBKTWTP  \n",
       "2424       [PEGASUS CHEMICALS CO LTD]             [FORMOSA PLASTICS]  ICBCTWTP  \n",
       "2425            [BRENNTAG CANADA INC]  [FORMOSA CHEMICALS AND FIBRE]  NOSCCATT  \n",
       "2426          [S R POLYVINYL LIMITED]             [FORMOSA PLASTICS]  INDBINBB  "
      ]
     },
     "metadata": {},
     "output_type": "display_data"
    },
    {
     "name": "stderr",
     "output_type": "stream",
     "text": [
      "C:\\Users\\ricky\\anaconda3\\envs\\bert_env\\lib\\site-packages\\ipykernel_launcher.py:8: TqdmDeprecationWarning: This function will be removed in tqdm==5.0.0\n",
      "Please use `tqdm.notebook.tqdm` instead of `tqdm.tqdm_notebook`\n",
      "  \n"
     ]
    },
    {
     "data": {
      "application/vnd.jupyter.widget-view+json": {
       "model_id": "2b17cc725e4f4f4a9b05839be4f5ceea",
       "version_major": 2,
       "version_minor": 0
      },
      "text/plain": [
       "  0%|          | 0/20 [00:00<?, ?it/s]"
      ]
     },
     "metadata": {},
     "output_type": "display_data"
    },
    {
     "data": {
      "text/plain": [
       "'正確率:'"
      ]
     },
     "metadata": {},
     "output_type": "display_data"
    },
    {
     "data": {
      "text/plain": [
       "0.85"
      ]
     },
     "metadata": {},
     "output_type": "display_data"
    }
   ],
   "source": [
    "feedback = pd.read_excel('../data\\寶典\\寶典人工處理後\\寶典_feedback.xlsx',index_col=0)\n",
    "display(feedback.head())\n",
    "\n",
    "品名寶典_加入錯誤feedback = 品名寶典.append(feedback).reset_index(drop=True).drop_duplicates()\n",
    "display(品名寶典_加入錯誤feedback)\n",
    "\n",
    "database = 抽特徵(預處理(database),品名寶典=品名寶典_加入錯誤feedback,開狀人寶典=開狀人寶典,公司寶典=公司寶典)\n",
    "for i in 輸出欄位:\n",
    "    number = get_empty_list_idx(df=database,col=i)\n",
    "    print(i,'空列表數量:',len(number))\n",
    "display(database[輸出欄位].tail(5))\n",
    "\n",
    "test_data = 抽特徵(預處理(test_data),品名寶典=品名寶典_加入錯誤feedback,開狀人寶典=開狀人寶典,公司寶典=公司寶典)\n",
    "for i in 輸出欄位:\n",
    "    number = get_empty_list_idx(df=test_data,col=i)\n",
    "    print(i,'空列表數量:',len(number))\n",
    "display(test_data[輸出欄位].tail(5))\n",
    "\n",
    "acc,test_data = 目標函數(database_size=len(database),database=database,test_data=test_data)\n",
    "display('正確率:',acc)"
   ]
  },
  {
   "cell_type": "markdown",
   "metadata": {},
   "source": [
    "# 觀察不同資料筆數 對正確率的影響"
   ]
  },
  {
   "cell_type": "code",
   "execution_count": 87,
   "metadata": {},
   "outputs": [
    {
     "name": "stderr",
     "output_type": "stream",
     "text": [
      "C:\\Users\\ricky\\anaconda3\\envs\\bert_env\\lib\\site-packages\\ipykernel_launcher.py:8: TqdmDeprecationWarning: This function will be removed in tqdm==5.0.0\n",
      "Please use `tqdm.notebook.tqdm` instead of `tqdm.tqdm_notebook`\n",
      "  \n"
     ]
    },
    {
     "data": {
      "application/vnd.jupyter.widget-view+json": {
       "model_id": "ac0422f8ae4d4d58ab6cb492e148d37d",
       "version_major": 2,
       "version_minor": 0
      },
      "text/plain": [
       "  0%|          | 0/20 [00:00<?, ?it/s]"
      ]
     },
     "metadata": {},
     "output_type": "display_data"
    },
    {
     "data": {
      "application/vnd.jupyter.widget-view+json": {
       "model_id": "a0b223218ac54387bb3b4613fc7de61f",
       "version_major": 2,
       "version_minor": 0
      },
      "text/plain": [
       "  0%|          | 0/20 [00:00<?, ?it/s]"
      ]
     },
     "metadata": {},
     "output_type": "display_data"
    },
    {
     "data": {
      "application/vnd.jupyter.widget-view+json": {
       "model_id": "31b30abb063447bc9107317b6028e559",
       "version_major": 2,
       "version_minor": 0
      },
      "text/plain": [
       "  0%|          | 0/20 [00:00<?, ?it/s]"
      ]
     },
     "metadata": {},
     "output_type": "display_data"
    },
    {
     "data": {
      "application/vnd.jupyter.widget-view+json": {
       "model_id": "4a9dec7f68cd4e1f95d65817a91599be",
       "version_major": 2,
       "version_minor": 0
      },
      "text/plain": [
       "  0%|          | 0/20 [00:00<?, ?it/s]"
      ]
     },
     "metadata": {},
     "output_type": "display_data"
    },
    {
     "name": "stdout",
     "output_type": "stream",
     "text": [
      "[10, 100, 1000, 20737] [0.8, 0.85, 0.85, 0.85]\n"
     ]
    },
    {
     "data": {
      "image/png": "[encoded data removed]",
      "text/plain": [
       "<Figure size 432x288 with 1 Axes>"
      ]
     },
     "metadata": {
      "needs_background": "light"
     },
     "output_type": "display_data"
    }
   ],
   "source": [
    "x = [10,100,1000,len(database)]\n",
    "y = [目標函數(database_size=i,database=database,test_data=test_data)[0] for i in x]\n",
    "print(x,y)\n",
    "fig = plt.figure()\n",
    "ax = fig.add_axes([0,0,1,1])\n",
    "ax.bar([str(i) for i in x],y)\n",
    "plt.show()"
   ]
  },
  {
   "cell_type": "markdown",
   "metadata": {},
   "source": [
    "# 觀察不同database對正確率的影響"
   ]
  },
  {
   "cell_type": "code",
   "execution_count": 88,
   "metadata": {},
   "outputs": [
    {
     "data": {
      "text/html": [
       "<div>\n",
       "<style scoped>\n",
       "    .dataframe tbody tr th:only-of-type {\n",
       "        vertical-align: middle;\n",
       "    }\n",
       "\n",
       "    .dataframe tbody tr th {\n",
       "        vertical-align: top;\n",
       "    }\n",
       "\n",
       "    .dataframe thead th {\n",
       "        text-align: right;\n",
       "    }\n",
       "</style>\n",
       "<table border=\"1\" class=\"dataframe\">\n",
       "  <thead>\n",
       "    <tr style=\"text-align: right;\">\n",
       "      <th></th>\n",
       "      <th>Unnamed: 0</th>\n",
       "      <th>信用狀代碼</th>\n",
       "      <th>EXPNO</th>\n",
       "      <th>TXDAT</th>\n",
       "      <th>59</th>\n",
       "      <th>45A</th>\n",
       "      <th>50</th>\n",
       "      <th>LTADDRESS.1</th>\n",
       "      <th>from</th>\n",
       "    </tr>\n",
       "  </thead>\n",
       "  <tbody>\n",
       "    <tr>\n",
       "      <th>0</th>\n",
       "      <td>0</td>\n",
       "      <td>0505120IM0000875</td>\n",
       "      <td>11A11G09</td>\n",
       "      <td>20210120</td>\n",
       "      <td>FORMOSA PLASTICS CORPORATION\\r\\n201, TUNG HWA ...</td>\n",
       "      <td>108.50 MT PVC RESIN SUSPENSION GRADE S-70 OF F...</td>\n",
       "      <td>RMG POLYVINYL INDIA LTD\\r\\n10/1 INDUSTRIAL ARE...</td>\n",
       "      <td>SBININBBAFXD</td>\n",
       "      <td>021-20201216-1231.xlsx</td>\n",
       "    </tr>\n",
       "    <tr>\n",
       "      <th>1</th>\n",
       "      <td>1</td>\n",
       "      <td>FDC0129000052021</td>\n",
       "      <td>11A11J95</td>\n",
       "      <td>20210130</td>\n",
       "      <td>NaN</td>\n",
       "      <td>NaN</td>\n",
       "      <td>NaN</td>\n",
       "      <td>NaN</td>\n",
       "      <td>NaN</td>\n",
       "    </tr>\n",
       "    <tr>\n",
       "      <th>2</th>\n",
       "      <td>2</td>\n",
       "      <td>FDC0129000052021</td>\n",
       "      <td>11A11J95</td>\n",
       "      <td>20210130</td>\n",
       "      <td>NaN</td>\n",
       "      <td>NaN</td>\n",
       "      <td>NaN</td>\n",
       "      <td>NaN</td>\n",
       "      <td>NaN</td>\n",
       "    </tr>\n",
       "    <tr>\n",
       "      <th>3</th>\n",
       "      <td>3</td>\n",
       "      <td>FDC0129000052021</td>\n",
       "      <td>11A11J95</td>\n",
       "      <td>20210130</td>\n",
       "      <td>NaN</td>\n",
       "      <td>NaN</td>\n",
       "      <td>NaN</td>\n",
       "      <td>NaN</td>\n",
       "      <td>NaN</td>\n",
       "    </tr>\n",
       "    <tr>\n",
       "      <th>4</th>\n",
       "      <td>4</td>\n",
       "      <td>1287IMLC22754</td>\n",
       "      <td>11A12F88</td>\n",
       "      <td>20210218</td>\n",
       "      <td>NaN</td>\n",
       "      <td>NaN</td>\n",
       "      <td>NaN</td>\n",
       "      <td>NaN</td>\n",
       "      <td>NaN</td>\n",
       "    </tr>\n",
       "  </tbody>\n",
       "</table>\n",
       "</div>"
      ],
      "text/plain": [
       "   Unnamed: 0             信用狀代碼     EXPNO     TXDAT  \\\n",
       "0           0  0505120IM0000875  11A11G09  20210120   \n",
       "1           1  FDC0129000052021  11A11J95  20210130   \n",
       "2           2  FDC0129000052021  11A11J95  20210130   \n",
       "3           3  FDC0129000052021  11A11J95  20210130   \n",
       "4           4     1287IMLC22754  11A12F88  20210218   \n",
       "\n",
       "                                                  59  \\\n",
       "0  FORMOSA PLASTICS CORPORATION\\r\\n201, TUNG HWA ...   \n",
       "1                                                NaN   \n",
       "2                                                NaN   \n",
       "3                                                NaN   \n",
       "4                                                NaN   \n",
       "\n",
       "                                                 45A  \\\n",
       "0  108.50 MT PVC RESIN SUSPENSION GRADE S-70 OF F...   \n",
       "1                                                NaN   \n",
       "2                                                NaN   \n",
       "3                                                NaN   \n",
       "4                                                NaN   \n",
       "\n",
       "                                                  50   LTADDRESS.1  \\\n",
       "0  RMG POLYVINYL INDIA LTD\\r\\n10/1 INDUSTRIAL ARE...  SBININBBAFXD   \n",
       "1                                                NaN           NaN   \n",
       "2                                                NaN           NaN   \n",
       "3                                                NaN           NaN   \n",
       "4                                                NaN           NaN   \n",
       "\n",
       "                     from  \n",
       "0  021-20201216-1231.xlsx  \n",
       "1                     NaN  \n",
       "2                     NaN  \n",
       "3                     NaN  \n",
       "4                     NaN  "
      ]
     },
     "metadata": {},
     "output_type": "display_data"
    },
    {
     "data": {
      "text/html": [
       "<div>\n",
       "<style scoped>\n",
       "    .dataframe tbody tr th:only-of-type {\n",
       "        vertical-align: middle;\n",
       "    }\n",
       "\n",
       "    .dataframe tbody tr th {\n",
       "        vertical-align: top;\n",
       "    }\n",
       "\n",
       "    .dataframe thead th {\n",
       "        text-align: right;\n",
       "    }\n",
       "</style>\n",
       "<table border=\"1\" class=\"dataframe\">\n",
       "  <thead>\n",
       "    <tr style=\"text-align: right;\">\n",
       "      <th></th>\n",
       "      <th>Unnamed: 0</th>\n",
       "      <th>59</th>\n",
       "      <th>45A</th>\n",
       "      <th>50</th>\n",
       "      <th>LTADDRESS.1</th>\n",
       "      <th>信用狀代碼</th>\n",
       "      <th>EXPNO</th>\n",
       "      <th>TXDAT</th>\n",
       "      <th>from</th>\n",
       "    </tr>\n",
       "  </thead>\n",
       "  <tbody>\n",
       "    <tr>\n",
       "      <th>0</th>\n",
       "      <td>0</td>\n",
       "      <td>FORMOSA PLASTICS</td>\n",
       "      <td>PVC RESIN SUSPENSION \\nGRADE S-70</td>\n",
       "      <td>RMG POLYVINYL INDIA LTD\\n10/1 INDUSTRIAL AREA\\...</td>\n",
       "      <td>STATE BANK OF INDIA</td>\n",
       "      <td>0505120IM0000875</td>\n",
       "      <td>11A11G09</td>\n",
       "      <td>20210120</td>\n",
       "      <td>021-20201216-1231.xlsx</td>\n",
       "    </tr>\n",
       "    <tr>\n",
       "      <th>1</th>\n",
       "      <td>1</td>\n",
       "      <td>FORMOSA PLASTICS</td>\n",
       "      <td>MASS PVC RESIN,GRADE B-57</td>\n",
       "      <td>RUBCHEM INDIA PVT LTD</td>\n",
       "      <td>THE SOUTH INDIAN BANK LTD</td>\n",
       "      <td>FDC0129000052021</td>\n",
       "      <td>11A11J95</td>\n",
       "      <td>20210130</td>\n",
       "      <td>NaN</td>\n",
       "    </tr>\n",
       "    <tr>\n",
       "      <th>2</th>\n",
       "      <td>2</td>\n",
       "      <td>FORMOSA PLASTICS</td>\n",
       "      <td>PVC SUSPENSION RESIN,\\nGRADE S-65</td>\n",
       "      <td>RUBCHEM INDIA PVT LTD</td>\n",
       "      <td>THE SOUTH INDIAN BANK LTD</td>\n",
       "      <td>FDC0129000052021</td>\n",
       "      <td>11A11J95</td>\n",
       "      <td>20210130</td>\n",
       "      <td>NaN</td>\n",
       "    </tr>\n",
       "    <tr>\n",
       "      <th>3</th>\n",
       "      <td>3</td>\n",
       "      <td>FORMOSA PLASTICS</td>\n",
       "      <td>PVC SUSPENSION RESIN,\\nGRADE S-65D</td>\n",
       "      <td>RUBCHEM INDIA PVT LTD</td>\n",
       "      <td>THE SOUTH INDIAN BANK LTD</td>\n",
       "      <td>FDC0129000052021</td>\n",
       "      <td>11A11J95</td>\n",
       "      <td>20210130</td>\n",
       "      <td>NaN</td>\n",
       "    </tr>\n",
       "    <tr>\n",
       "      <th>4</th>\n",
       "      <td>4</td>\n",
       "      <td>FORMOSA PLASTICS</td>\n",
       "      <td>PVC SUSPENSION RESIN \\nS-65D</td>\n",
       "      <td>ALPHA POLYMERS</td>\n",
       "      <td>THE FEDERALBANK LTD\\nP B NO 20 RAMAKRISHNA ROA...</td>\n",
       "      <td>1287IMLC22754</td>\n",
       "      <td>11A12F88</td>\n",
       "      <td>20210218</td>\n",
       "      <td>NaN</td>\n",
       "    </tr>\n",
       "  </tbody>\n",
       "</table>\n",
       "</div>"
      ],
      "text/plain": [
       "   Unnamed: 0                 59                                 45A  \\\n",
       "0           0  FORMOSA PLASTICS    PVC RESIN SUSPENSION \\nGRADE S-70   \n",
       "1           1  FORMOSA PLASTICS            MASS PVC RESIN,GRADE B-57   \n",
       "2           2  FORMOSA PLASTICS    PVC SUSPENSION RESIN,\\nGRADE S-65   \n",
       "3           3  FORMOSA PLASTICS   PVC SUSPENSION RESIN,\\nGRADE S-65D   \n",
       "4           4  FORMOSA PLASTICS         PVC SUSPENSION RESIN \\nS-65D   \n",
       "\n",
       "                                                  50  \\\n",
       "0  RMG POLYVINYL INDIA LTD\\n10/1 INDUSTRIAL AREA\\...   \n",
       "1                              RUBCHEM INDIA PVT LTD   \n",
       "2                              RUBCHEM INDIA PVT LTD   \n",
       "3                              RUBCHEM INDIA PVT LTD   \n",
       "4                                     ALPHA POLYMERS   \n",
       "\n",
       "                                         LTADDRESS.1             信用狀代碼  \\\n",
       "0                                STATE BANK OF INDIA  0505120IM0000875   \n",
       "1                          THE SOUTH INDIAN BANK LTD  FDC0129000052021   \n",
       "2                          THE SOUTH INDIAN BANK LTD  FDC0129000052021   \n",
       "3                          THE SOUTH INDIAN BANK LTD  FDC0129000052021   \n",
       "4  THE FEDERALBANK LTD\\nP B NO 20 RAMAKRISHNA ROA...     1287IMLC22754   \n",
       "\n",
       "      EXPNO     TXDAT                    from  \n",
       "0  11A11G09  20210120  021-20201216-1231.xlsx  \n",
       "1  11A11J95  20210130                     NaN  \n",
       "2  11A11J95  20210130                     NaN  \n",
       "3  11A11J95  20210130                     NaN  \n",
       "4  11A12F88  20210218                     NaN  "
      ]
     },
     "metadata": {},
     "output_type": "display_data"
    }
   ],
   "source": [
    "# 載入數據\n",
    "database2 = pd.read_excel('../data/combined_excel_D.xlsx')\n",
    "\n",
    "# 欄位定義\n",
    "database2col = []\n",
    "for i in database2.columns:\n",
    "    if 'ERP' not in i:\n",
    "        database2col.append(i)\n",
    "\n",
    "# 欄位定義\n",
    "database3col = []\n",
    "for i in database2.columns:\n",
    "    if '電文' not in i:\n",
    "        database3col.append(i)\n",
    "\n",
    "# 切分資料\n",
    "database2,database3 = database2[database2col],database2[database3col]\n",
    "\n",
    "# 統一命名\n",
    "database2 = database2.rename(\n",
    "    columns={\n",
    "        '產品名_電文':'45A',\n",
    "        '開狀人_電文':'50',\n",
    "        '受益人_電文':'59',\n",
    "        '開狀銀行_電文':'LTADDRESS.1',\n",
    "        '出口代碼':'EXPNO',\n",
    "    })\n",
    "display(database2.head())\n",
    "\n",
    "# 統一命名\n",
    "database3 = database3.rename(\n",
    "    columns={\n",
    "        '產品名_ERP':'45A',\n",
    "        '開狀人_ERP':'50',\n",
    "        '受益人_ERP':'59',\n",
    "        '開狀銀行_ERP':'LTADDRESS.1',\n",
    "        '出口代碼':'EXPNO',\n",
    "    })\n",
    "display(database3.head())"
   ]
  },
  {
   "cell_type": "code",
   "execution_count": 89,
   "metadata": {},
   "outputs": [
    {
     "name": "stderr",
     "output_type": "stream",
     "text": [
      "C:\\Users\\ricky\\anaconda3\\envs\\bert_env\\lib\\site-packages\\ipykernel_launcher.py:66: TqdmDeprecationWarning: This function will be removed in tqdm==5.0.0\n",
      "Please use `tqdm.notebook.tqdm` instead of `tqdm.tqdm_notebook`\n"
     ]
    },
    {
     "data": {
      "application/vnd.jupyter.widget-view+json": {
       "model_id": "8429c4413b5f4243a01e65b0ecd29287",
       "version_major": 2,
       "version_minor": 0
      },
      "text/plain": [
       "  0%|          | 0/20737 [00:00<?, ?it/s]"
      ]
     },
     "metadata": {},
     "output_type": "display_data"
    },
    {
     "data": {
      "application/vnd.jupyter.widget-view+json": {
       "model_id": "b1abadd49623495dab72ee7587dfb500",
       "version_major": 2,
       "version_minor": 0
      },
      "text/plain": [
       "  0%|          | 0/20737 [00:00<?, ?it/s]"
      ]
     },
     "metadata": {},
     "output_type": "display_data"
    },
    {
     "data": {
      "application/vnd.jupyter.widget-view+json": {
       "model_id": "01cb0ab05bcf40aebe9b3f98d2e2dc4b",
       "version_major": 2,
       "version_minor": 0
      },
      "text/plain": [
       "  0%|          | 0/20737 [00:00<?, ?it/s]"
      ]
     },
     "metadata": {},
     "output_type": "display_data"
    },
    {
     "data": {
      "application/vnd.jupyter.widget-view+json": {
       "model_id": "32c461c43e064206a0d19eb839f6129c",
       "version_major": 2,
       "version_minor": 0
      },
      "text/plain": [
       "  0%|          | 0/42096 [00:00<?, ?it/s]"
      ]
     },
     "metadata": {},
     "output_type": "display_data"
    },
    {
     "data": {
      "application/vnd.jupyter.widget-view+json": {
       "model_id": "4e6547055b1c4b06a358904298a16f0d",
       "version_major": 2,
       "version_minor": 0
      },
      "text/plain": [
       "  0%|          | 0/42096 [00:00<?, ?it/s]"
      ]
     },
     "metadata": {},
     "output_type": "display_data"
    },
    {
     "data": {
      "application/vnd.jupyter.widget-view+json": {
       "model_id": "4da5d1566b514b158d465ec861431297",
       "version_major": 2,
       "version_minor": 0
      },
      "text/plain": [
       "  0%|          | 0/42096 [00:00<?, ?it/s]"
      ]
     },
     "metadata": {},
     "output_type": "display_data"
    },
    {
     "data": {
      "application/vnd.jupyter.widget-view+json": {
       "model_id": "e86136206b0d47678432cbfa6a5117c9",
       "version_major": 2,
       "version_minor": 0
      },
      "text/plain": [
       "  0%|          | 0/42096 [00:00<?, ?it/s]"
      ]
     },
     "metadata": {},
     "output_type": "display_data"
    },
    {
     "data": {
      "application/vnd.jupyter.widget-view+json": {
       "model_id": "a18d68bdfc89486aa4f5298d4583da83",
       "version_major": 2,
       "version_minor": 0
      },
      "text/plain": [
       "  0%|          | 0/42096 [00:00<?, ?it/s]"
      ]
     },
     "metadata": {},
     "output_type": "display_data"
    },
    {
     "data": {
      "application/vnd.jupyter.widget-view+json": {
       "model_id": "9dc579ef7dd24dc784e516c9663a1c33",
       "version_major": 2,
       "version_minor": 0
      },
      "text/plain": [
       "  0%|          | 0/42096 [00:00<?, ?it/s]"
      ]
     },
     "metadata": {},
     "output_type": "display_data"
    },
    {
     "name": "stderr",
     "output_type": "stream",
     "text": [
      "C:\\Users\\ricky\\anaconda3\\envs\\bert_env\\lib\\site-packages\\ipykernel_launcher.py:8: TqdmDeprecationWarning: This function will be removed in tqdm==5.0.0\n",
      "Please use `tqdm.notebook.tqdm` instead of `tqdm.tqdm_notebook`\n",
      "  \n"
     ]
    },
    {
     "data": {
      "application/vnd.jupyter.widget-view+json": {
       "model_id": "d965eaf103264df8aa91a822aae0e90a",
       "version_major": 2,
       "version_minor": 0
      },
      "text/plain": [
       "  0%|          | 0/20 [00:00<?, ?it/s]"
      ]
     },
     "metadata": {},
     "output_type": "display_data"
    },
    {
     "data": {
      "application/vnd.jupyter.widget-view+json": {
       "model_id": "9f2dfea99c974207a5ff94836a6902d5",
       "version_major": 2,
       "version_minor": 0
      },
      "text/plain": [
       "  0%|          | 0/20 [00:00<?, ?it/s]"
      ]
     },
     "metadata": {},
     "output_type": "display_data"
    },
    {
     "data": {
      "application/vnd.jupyter.widget-view+json": {
       "model_id": "bf5ef27b809e4b1b869060cf660aec70",
       "version_major": 2,
       "version_minor": 0
      },
      "text/plain": [
       "  0%|          | 0/20 [00:00<?, ?it/s]"
      ]
     },
     "metadata": {},
     "output_type": "display_data"
    },
    {
     "data": {
      "image/png": "[encoded data removed]",
      "text/plain": [
       "<Figure size 432x288 with 1 Axes>"
      ]
     },
     "metadata": {
      "needs_background": "light"
     },
     "output_type": "display_data"
    }
   ],
   "source": [
    "x = [\n",
    "    抽特徵(預處理(database),品名寶典=品名寶典,開狀人寶典=開狀人寶典,公司寶典=公司寶典),\n",
    "    抽特徵(預處理(database2),品名寶典=品名寶典,開狀人寶典=開狀人寶典,公司寶典=公司寶典),\n",
    "    抽特徵(預處理(database3),品名寶典=品名寶典,開狀人寶典=開狀人寶典,公司寶典=公司寶典),\n",
    "    ]\n",
    "y = [目標函數(database_size=len(i),database=i,test_data=test_data,test_n=20)[0] for i in x]\n",
    "fig = plt.figure()\n",
    "ax = fig.add_axes([0,0,1,1])\n",
    "ax.bar(['database','database2','database3'],y)\n",
    "plt.show()"
   ]
  },
  {
   "cell_type": "markdown",
   "metadata": {},
   "source": [
    "# 輸出預測結果"
   ]
  },
  {
   "cell_type": "code",
   "execution_count": 90,
   "metadata": {},
   "outputs": [
    {
     "name": "stderr",
     "output_type": "stream",
     "text": [
      "C:\\Users\\ricky\\anaconda3\\envs\\bert_env\\lib\\site-packages\\ipykernel_launcher.py:8: TqdmDeprecationWarning: This function will be removed in tqdm==5.0.0\n",
      "Please use `tqdm.notebook.tqdm` instead of `tqdm.tqdm_notebook`\n",
      "  \n"
     ]
    },
    {
     "data": {
      "application/vnd.jupyter.widget-view+json": {
       "model_id": "1d16f61117d84190bc14202debb4f2b2",
       "version_major": 2,
       "version_minor": 0
      },
      "text/plain": [
       "  0%|          | 0/2427 [00:00<?, ?it/s]"
      ]
     },
     "metadata": {},
     "output_type": "display_data"
    },
    {
     "name": "stdout",
     "output_type": "stream",
     "text": [
      "正確率:0.8108776266996292\n"
     ]
    },
    {
     "data": {
      "text/html": [
       "<div>\n",
       "<style scoped>\n",
       "    .dataframe tbody tr th:only-of-type {\n",
       "        vertical-align: middle;\n",
       "    }\n",
       "\n",
       "    .dataframe tbody tr th {\n",
       "        vertical-align: top;\n",
       "    }\n",
       "\n",
       "    .dataframe thead th {\n",
       "        text-align: right;\n",
       "    }\n",
       "</style>\n",
       "<table border=\"1\" class=\"dataframe\">\n",
       "  <thead>\n",
       "    <tr style=\"text-align: right;\">\n",
       "      <th></th>\n",
       "      <th>45A</th>\n",
       "      <th>50</th>\n",
       "      <th>59</th>\n",
       "      <th>LTADDRESS.1</th>\n",
       "      <th>產品名</th>\n",
       "      <th>開狀人</th>\n",
       "      <th>受益人</th>\n",
       "      <th>開狀銀行</th>\n",
       "      <th>相似度距離</th>\n",
       "      <th>from</th>\n",
       "      <th>20</th>\n",
       "      <th>預測EXPNO</th>\n",
       "      <th>預測完整EXPNO</th>\n",
       "      <th>推薦公司事業部</th>\n",
       "      <th>最相似前案時間</th>\n",
       "      <th>前案產品名</th>\n",
       "      <th>前案開狀人</th>\n",
       "      <th>前案受益人</th>\n",
       "      <th>前案開狀銀行</th>\n",
       "    </tr>\n",
       "  </thead>\n",
       "  <tbody>\n",
       "    <tr>\n",
       "      <th>0</th>\n",
       "      <td>48 MT PVC SUSPENSION RESIN GRADE S65_X000D_A...</td>\n",
       "      <td>DEEP JYOTI WAX TRADERS_X000D_PRIVATE LIMITED...</td>\n",
       "      <td>FORMOSA PLASTICS CORPORATION_X000D_201 TUNG ...</td>\n",
       "      <td>ICICINBBACTS</td>\n",
       "      <td>[PVC SUSPENSION RESIN]</td>\n",
       "      <td>[DEEP JYOTI WAX TRADERS]</td>\n",
       "      <td>[FORMOSA PLASTICS]</td>\n",
       "      <td>ICICINBB</td>\n",
       "      <td>0.0</td>\n",
       "      <td>0927.xls</td>\n",
       "      <td>0006MLC00034022</td>\n",
       "      <td>11</td>\n",
       "      <td>11N11A50</td>\n",
       "      <td>11</td>\n",
       "      <td>017-202101-03.xlsx</td>\n",
       "      <td>['PVC SUSPENSION RESIN']</td>\n",
       "      <td>['DEEP JYOTI WAX TRADERS']</td>\n",
       "      <td>['FORMOSA PLASTICS']</td>\n",
       "      <td>ICICINBB</td>\n",
       "    </tr>\n",
       "    <tr>\n",
       "      <th>1</th>\n",
       "      <td>TERMS OF PRICE CFR FUZHOU CHINA_X000D_ COUNT...</td>\n",
       "      <td>CHEMNEWS CORP_X000D_ROOM 601 6FL SUNGJI BUIL...</td>\n",
       "      <td>NAN YA PLASTICS CORPORATION_X000D_PETROCHEMI...</td>\n",
       "      <td>CZNBKRSEAXXX</td>\n",
       "      <td>[MONO ETHYLENE GLYCOL MEG]</td>\n",
       "      <td>[CHEMNEWS CORP]</td>\n",
       "      <td>[NAN YA PLASTICS]</td>\n",
       "      <td>CZNBKRSE</td>\n",
       "      <td>0.0</td>\n",
       "      <td>0927.xls</td>\n",
       "      <td>M100H2109SS00178</td>\n",
       "      <td>2A</td>\n",
       "      <td>2AD01224</td>\n",
       "      <td>2A</td>\n",
       "      <td>021-202104.xlsx</td>\n",
       "      <td>['MONO ETHYLENE GLYCOL MEG']</td>\n",
       "      <td>['CHEMNEWS CORP']</td>\n",
       "      <td>['NAN YA PLASTICS']</td>\n",
       "      <td>CZNBKRSE</td>\n",
       "    </tr>\n",
       "    <tr>\n",
       "      <th>2</th>\n",
       "      <td>TERMS OF PRICE CFR FUZHOU CHINA_X000D_ COUNT...</td>\n",
       "      <td>CHEMNEWS CORP_X000D_ROOM 601 6FL SUNGJI BUIL...</td>\n",
       "      <td>NAN YA PLASTICS CORPORATION_X000D_PETROCHEMI...</td>\n",
       "      <td>CZNBKRSEAXXX</td>\n",
       "      <td>[MONO ETHYLENE GLYCOL MEG]</td>\n",
       "      <td>[CHEMNEWS CORP]</td>\n",
       "      <td>[NAN YA PLASTICS]</td>\n",
       "      <td>CZNBKRSE</td>\n",
       "      <td>0.0</td>\n",
       "      <td>0927.xls</td>\n",
       "      <td>M100H2109SS00185</td>\n",
       "      <td>2A</td>\n",
       "      <td>2AD01224</td>\n",
       "      <td>2A</td>\n",
       "      <td>021-202104.xlsx</td>\n",
       "      <td>['MONO ETHYLENE GLYCOL MEG']</td>\n",
       "      <td>['CHEMNEWS CORP']</td>\n",
       "      <td>['NAN YA PLASTICS']</td>\n",
       "      <td>CZNBKRSE</td>\n",
       "    </tr>\n",
       "    <tr>\n",
       "      <th>3</th>\n",
       "      <td>PVC SUSPENSION RESIN GRADE B57 8750 MT UNIT ...</td>\n",
       "      <td>GOVERDHAN ENERGY_X000D_PETROCHEMICALS_X000D_...</td>\n",
       "      <td>FORMOSA PLASTICS CORPORATION_X000D_TAIWAN_X0...</td>\n",
       "      <td>INDBINBBANAS</td>\n",
       "      <td>[PVC SUSPENSION RESIN]</td>\n",
       "      <td>[GOVERDHAN ENERGY]</td>\n",
       "      <td>[FORMOSA PLASTICS]</td>\n",
       "      <td>INDBINBB</td>\n",
       "      <td>0.0</td>\n",
       "      <td>0927.xls</td>\n",
       "      <td>OLC0025210044889</td>\n",
       "      <td>11</td>\n",
       "      <td>11N11A50</td>\n",
       "      <td>11</td>\n",
       "      <td>017-202101-03.xlsx</td>\n",
       "      <td>['PVC SUSPENSION RESIN']</td>\n",
       "      <td>['GOVERDHAN ENERGY']</td>\n",
       "      <td>['FORMOSA PLASTICS']</td>\n",
       "      <td>INDBINBB</td>\n",
       "    </tr>\n",
       "    <tr>\n",
       "      <th>4</th>\n",
       "      <td>PVC TRANSPARENT SHEET TTL 17340M_X000D_03MMX...</td>\n",
       "      <td>SOJITZ CORPORATION_X000D_OSAKA OFFICE 310UME...</td>\n",
       "      <td>NAN YA PLASTICS CORPORATION_X000D_201 TUNG H...</td>\n",
       "      <td>BOTKJPJTAXXX</td>\n",
       "      <td>[PVC TRANSPARENT SHEET]</td>\n",
       "      <td>[SOJITZ CORPORATION]</td>\n",
       "      <td>[NAN YA PLASTICS]</td>\n",
       "      <td>BOTKJPJT</td>\n",
       "      <td>0.0</td>\n",
       "      <td>0927.xls</td>\n",
       "      <td>S-321-2021242</td>\n",
       "      <td>21</td>\n",
       "      <td>21K16002</td>\n",
       "      <td>21</td>\n",
       "      <td>021-202101.xlsx</td>\n",
       "      <td>['PVC TRANSPARENT SHEET']</td>\n",
       "      <td>['SOJITZ CORPORATION']</td>\n",
       "      <td>['NAN YA PLASTICS']</td>\n",
       "      <td>BOTKJPJT</td>\n",
       "    </tr>\n",
       "  </tbody>\n",
       "</table>\n",
       "</div>"
      ],
      "text/plain": [
       "                                                 45A  \\\n",
       "0    48 MT PVC SUSPENSION RESIN GRADE S65_X000D_A...   \n",
       "1    TERMS OF PRICE CFR FUZHOU CHINA_X000D_ COUNT...   \n",
       "2    TERMS OF PRICE CFR FUZHOU CHINA_X000D_ COUNT...   \n",
       "3    PVC SUSPENSION RESIN GRADE B57 8750 MT UNIT ...   \n",
       "4    PVC TRANSPARENT SHEET TTL 17340M_X000D_03MMX...   \n",
       "\n",
       "                                                  50  \\\n",
       "0    DEEP JYOTI WAX TRADERS_X000D_PRIVATE LIMITED...   \n",
       "1    CHEMNEWS CORP_X000D_ROOM 601 6FL SUNGJI BUIL...   \n",
       "2    CHEMNEWS CORP_X000D_ROOM 601 6FL SUNGJI BUIL...   \n",
       "3    GOVERDHAN ENERGY_X000D_PETROCHEMICALS_X000D_...   \n",
       "4    SOJITZ CORPORATION_X000D_OSAKA OFFICE 310UME...   \n",
       "\n",
       "                                                  59   LTADDRESS.1  \\\n",
       "0    FORMOSA PLASTICS CORPORATION_X000D_201 TUNG ...  ICICINBBACTS   \n",
       "1    NAN YA PLASTICS CORPORATION_X000D_PETROCHEMI...  CZNBKRSEAXXX   \n",
       "2    NAN YA PLASTICS CORPORATION_X000D_PETROCHEMI...  CZNBKRSEAXXX   \n",
       "3    FORMOSA PLASTICS CORPORATION_X000D_TAIWAN_X0...  INDBINBBANAS   \n",
       "4    NAN YA PLASTICS CORPORATION_X000D_201 TUNG H...  BOTKJPJTAXXX   \n",
       "\n",
       "                          產品名                       開狀人                 受益人  \\\n",
       "0      [PVC SUSPENSION RESIN]  [DEEP JYOTI WAX TRADERS]  [FORMOSA PLASTICS]   \n",
       "1  [MONO ETHYLENE GLYCOL MEG]           [CHEMNEWS CORP]   [NAN YA PLASTICS]   \n",
       "2  [MONO ETHYLENE GLYCOL MEG]           [CHEMNEWS CORP]   [NAN YA PLASTICS]   \n",
       "3      [PVC SUSPENSION RESIN]        [GOVERDHAN ENERGY]  [FORMOSA PLASTICS]   \n",
       "4     [PVC TRANSPARENT SHEET]      [SOJITZ CORPORATION]   [NAN YA PLASTICS]   \n",
       "\n",
       "       開狀銀行  相似度距離      from                20 預測EXPNO 預測完整EXPNO 推薦公司事業部  \\\n",
       "0  ICICINBB    0.0  0927.xls   0006MLC00034022      11  11N11A50      11   \n",
       "1  CZNBKRSE    0.0  0927.xls  M100H2109SS00178      2A  2AD01224      2A   \n",
       "2  CZNBKRSE    0.0  0927.xls  M100H2109SS00185      2A  2AD01224      2A   \n",
       "3  INDBINBB    0.0  0927.xls  OLC0025210044889      11  11N11A50      11   \n",
       "4  BOTKJPJT    0.0  0927.xls     S-321-2021242      21  21K16002      21   \n",
       "\n",
       "              最相似前案時間                         前案產品名  \\\n",
       "0  017-202101-03.xlsx      ['PVC SUSPENSION RESIN']   \n",
       "1     021-202104.xlsx  ['MONO ETHYLENE GLYCOL MEG']   \n",
       "2     021-202104.xlsx  ['MONO ETHYLENE GLYCOL MEG']   \n",
       "3  017-202101-03.xlsx      ['PVC SUSPENSION RESIN']   \n",
       "4     021-202101.xlsx     ['PVC TRANSPARENT SHEET']   \n",
       "\n",
       "                        前案開狀人                 前案受益人    前案開狀銀行  \n",
       "0  ['DEEP JYOTI WAX TRADERS']  ['FORMOSA PLASTICS']  ICICINBB  \n",
       "1           ['CHEMNEWS CORP']   ['NAN YA PLASTICS']  CZNBKRSE  \n",
       "2           ['CHEMNEWS CORP']   ['NAN YA PLASTICS']  CZNBKRSE  \n",
       "3        ['GOVERDHAN ENERGY']  ['FORMOSA PLASTICS']  INDBINBB  \n",
       "4      ['SOJITZ CORPORATION']   ['NAN YA PLASTICS']  BOTKJPJT  "
      ]
     },
     "execution_count": 90,
     "metadata": {},
     "output_type": "execute_result"
    }
   ],
   "source": [
    "acc,test_data = 目標函數(\n",
    "    database_size=len(database),\n",
    "    database=database,\n",
    "    test_data=test_data,\n",
    "    test_n=len(test_data))\n",
    "print(f'正確率:{acc}')\n",
    "test_data[最終所有必須欄位].head()"
   ]
  },
  {
   "cell_type": "markdown",
   "metadata": {},
   "source": [
    "# save"
   ]
  },
  {
   "cell_type": "code",
   "execution_count": 91,
   "metadata": {},
   "outputs": [],
   "source": [
    "test_data[最終所有必須欄位].to_excel('../predict_result/預測結果.xlsx')"
   ]
  },
  {
   "cell_type": "code",
   "execution_count": 92,
   "metadata": {},
   "outputs": [],
   "source": [
    "#ok"
   ]
  },
  {
   "cell_type": "code",
   "execution_count": null,
   "metadata": {},
   "outputs": [],
   "source": []
  }
 ],
 "metadata": {
  "interpreter": {
   "hash": "993826b923065dd66fa4bf5d15ab27fb473cbe0d9ee1e2a0f60195f6a60c263f"
  },
  "kernelspec": {
   "display_name": "Python 3.7.11 ('bert_env')",
   "language": "python",
   "name": "python3"
  },
  "language_info": {
   "codemirror_mode": {
    "name": "ipython",
    "version": 3
   },
   "file_extension": ".py",
   "mimetype": "text/x-python",
   "name": "python",
   "nbconvert_exporter": "python",
   "pygments_lexer": "ipython3",
   "version": "3.7.11"
  },
  "orig_nbformat": 4
 },
 "nbformat": 4,
 "nbformat_minor": 2
}
