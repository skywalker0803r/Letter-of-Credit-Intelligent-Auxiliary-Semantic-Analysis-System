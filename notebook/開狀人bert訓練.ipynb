{
 "cells": [
  {
   "cell_type": "code",
   "execution_count": 5,
   "source": [
    "\r\n",
    "import pandas as pd\r\n",
    "import numpy as np\r\n",
    "from tqdm import tqdm_notebook as tqdm\r\n",
    "from torch.optim.optimizer import Optimizer\r\n",
    "import matplotlib.pyplot as plt\r\n",
    "from copy import deepcopy\r\n",
    "import numpy as np\r\n",
    "import random\r\n",
    "import torch\r\n",
    "import warnings \r\n",
    "warnings.filterwarnings('ignore')\r\n",
    "from pytorch_lightning import seed_everything\r\n",
    "import os\r\n",
    "import gc\r\n",
    "from transformers import pipeline\r\n",
    "import requests\r\n",
    "from transformers import DistilBertTokenizerFast\r\n",
    "from transformers import DistilBertForQuestionAnswering\r\n",
    "from transformers import Trainer, TrainingArguments\r\n",
    "import torch\r\n",
    "from torch.utils.data import DataLoader\r\n",
    "import matplotlib.pyplot as plt \r\n",
    "gc.collect()"
   ],
   "outputs": [
    {
     "output_type": "execute_result",
     "data": {
      "text/plain": [
       "374"
      ]
     },
     "metadata": {},
     "execution_count": 5
    }
   ],
   "metadata": {}
  },
  {
   "cell_type": "markdown",
   "source": [
    "# functions"
   ],
   "metadata": {}
  },
  {
   "cell_type": "code",
   "execution_count": 6,
   "source": [
    "def get_jaccard_sim(str1, str2): \r\n",
    "    a = set(str1.split()) \r\n",
    "    b = set(str2.split())\r\n",
    "    c = a.intersection(b)\r\n",
    "    return float(len(c)) / (len(a) + len(b) - len(c))\r\n",
    "\r\n",
    "def set_seed(seed = int):\r\n",
    "    '''Sets the seed of the entire notebook so results are the same every time we run.\r\n",
    "    This is for REPRODUCIBILITY.'''\r\n",
    "    np.random.seed(seed)\r\n",
    "    random_state = np.random.RandomState(seed)\r\n",
    "    random.seed(seed)\r\n",
    "    torch.manual_seed(seed)\r\n",
    "    torch.cuda.manual_seed(seed)\r\n",
    "    torch.backends.cudnn.deterministic = True\r\n",
    "    torch.backends.cudnn.benchmark = False\r\n",
    "    os.environ['PYTHONHASHSEED'] = str(seed)\r\n",
    "    seed_everything(seed)\r\n",
    "    return random_state\r\n",
    "random_state = set_seed(42)\r\n",
    "\r\n",
    "#MADGRAD \r\n",
    "exec(requests.get('https://raw.githubusercontent.com/facebookresearch/madgrad/main/madgrad/madgrad.py').text)"
   ],
   "outputs": [
    {
     "output_type": "stream",
     "name": "stderr",
     "text": [
      "Global seed set to 42\n"
     ]
    }
   ],
   "metadata": {}
  },
  {
   "cell_type": "markdown",
   "source": [
    "# LOAD DATA"
   ],
   "metadata": {}
  },
  {
   "cell_type": "code",
   "execution_count": 9,
   "source": [
    "from sklearn.model_selection import train_test_split\r\n",
    "df = pd.read_csv('../data/preprocess_for_SQUAD_開狀人.csv',index_col=0)\r\n",
    "#df['string_X_train'] = df['string_X_train'].apply(lambda x:x.replace('x000D',' '))\r\n",
    "train_df, val_df = train_test_split(df, test_size=0.2, random_state=42)\r\n",
    "display(train_df)\r\n",
    "display(val_df)"
   ],
   "outputs": [
    {
     "output_type": "display_data",
     "data": {
      "text/html": [
       "<div>\n",
       "<style scoped>\n",
       "    .dataframe tbody tr th:only-of-type {\n",
       "        vertical-align: middle;\n",
       "    }\n",
       "\n",
       "    .dataframe tbody tr th {\n",
       "        vertical-align: top;\n",
       "    }\n",
       "\n",
       "    .dataframe thead th {\n",
       "        text-align: right;\n",
       "    }\n",
       "</style>\n",
       "<table border=\"1\" class=\"dataframe\">\n",
       "  <thead>\n",
       "    <tr style=\"text-align: right;\">\n",
       "      <th></th>\n",
       "      <th>string_X_train</th>\n",
       "      <th>Y_label</th>\n",
       "      <th>string_Y_1</th>\n",
       "      <th>string_Y_2</th>\n",
       "    </tr>\n",
       "  </thead>\n",
       "  <tbody>\n",
       "    <tr>\n",
       "      <th>123</th>\n",
       "      <td>VINMAR INTERNATIONAL LLC_x000D_16825 NORTHCHAS...</td>\n",
       "      <td>VINMAR INTERNATIONAL LLC</td>\n",
       "      <td>0</td>\n",
       "      <td>24</td>\n",
       "    </tr>\n",
       "    <tr>\n",
       "      <th>12224</th>\n",
       "      <td>HYUNDAI CORPORATION_x000D_25 YULGOKRO 2GIL JON...</td>\n",
       "      <td>HYUNDAI CORPORATION</td>\n",
       "      <td>0</td>\n",
       "      <td>19</td>\n",
       "    </tr>\n",
       "    <tr>\n",
       "      <th>1952</th>\n",
       "      <td>GOVERDHAN VENTURES PRIVATE LIMITED_x000D_19A S...</td>\n",
       "      <td>GOVERDHAN VENTURES PRIVATE LIMITED</td>\n",
       "      <td>0</td>\n",
       "      <td>34</td>\n",
       "    </tr>\n",
       "    <tr>\n",
       "      <th>10600</th>\n",
       "      <td>FIRSTEVER ENTERPRISES LIMITED_x000D_JIPFA BUIL...</td>\n",
       "      <td>FIRSTEVER ENTERPRISES LIMITED</td>\n",
       "      <td>0</td>\n",
       "      <td>29</td>\n",
       "    </tr>\n",
       "    <tr>\n",
       "      <th>6843</th>\n",
       "      <td>ARUM ELECYRONICS  COLTD_x000D_6475SEONGGOKDONG...</td>\n",
       "      <td>ARUM ELECYRONICS  COLTD</td>\n",
       "      <td>0</td>\n",
       "      <td>23</td>\n",
       "    </tr>\n",
       "    <tr>\n",
       "      <th>...</th>\n",
       "      <td>...</td>\n",
       "      <td>...</td>\n",
       "      <td>...</td>\n",
       "      <td>...</td>\n",
       "    </tr>\n",
       "    <tr>\n",
       "      <th>11964</th>\n",
       "      <td>SODINOR_x000D_456 AVENUE DE LATTRE DE TASSIGNY...</td>\n",
       "      <td>SODINOR</td>\n",
       "      <td>0</td>\n",
       "      <td>7</td>\n",
       "    </tr>\n",
       "    <tr>\n",
       "      <th>5191</th>\n",
       "      <td>CHIRIPAL POLYFILMS LIMITED_x000D_CHIRIPAL HOUS...</td>\n",
       "      <td>CHIRIPAL POLYFILMS LIMITED</td>\n",
       "      <td>0</td>\n",
       "      <td>26</td>\n",
       "    </tr>\n",
       "    <tr>\n",
       "      <th>5390</th>\n",
       "      <td>AKROS TRADING CO LTD _x000D_BWING 241 SHIBAKOE...</td>\n",
       "      <td>AKROS TRADING CO LTD</td>\n",
       "      <td>0</td>\n",
       "      <td>20</td>\n",
       "    </tr>\n",
       "    <tr>\n",
       "      <th>860</th>\n",
       "      <td>ZHEJIANG MINGRI HOLDINGS GROUP CO_x000D_LTD NO...</td>\n",
       "      <td>ZHEJIANG MINGRI HOLDINGS GROUP CO</td>\n",
       "      <td>0</td>\n",
       "      <td>33</td>\n",
       "    </tr>\n",
       "    <tr>\n",
       "      <th>7270</th>\n",
       "      <td>DONG A PLASTIC COMPANY LIMITED_x000D_CHAU SON ...</td>\n",
       "      <td>DONG A PLASTIC COMPANY LIMITED</td>\n",
       "      <td>0</td>\n",
       "      <td>30</td>\n",
       "    </tr>\n",
       "  </tbody>\n",
       "</table>\n",
       "<p>9902 rows × 4 columns</p>\n",
       "</div>"
      ],
      "text/plain": [
       "                                          string_X_train  \\\n",
       "123    VINMAR INTERNATIONAL LLC_x000D_16825 NORTHCHAS...   \n",
       "12224  HYUNDAI CORPORATION_x000D_25 YULGOKRO 2GIL JON...   \n",
       "1952   GOVERDHAN VENTURES PRIVATE LIMITED_x000D_19A S...   \n",
       "10600  FIRSTEVER ENTERPRISES LIMITED_x000D_JIPFA BUIL...   \n",
       "6843   ARUM ELECYRONICS  COLTD_x000D_6475SEONGGOKDONG...   \n",
       "...                                                  ...   \n",
       "11964  SODINOR_x000D_456 AVENUE DE LATTRE DE TASSIGNY...   \n",
       "5191   CHIRIPAL POLYFILMS LIMITED_x000D_CHIRIPAL HOUS...   \n",
       "5390   AKROS TRADING CO LTD _x000D_BWING 241 SHIBAKOE...   \n",
       "860    ZHEJIANG MINGRI HOLDINGS GROUP CO_x000D_LTD NO...   \n",
       "7270   DONG A PLASTIC COMPANY LIMITED_x000D_CHAU SON ...   \n",
       "\n",
       "                                  Y_label  string_Y_1  string_Y_2  \n",
       "123              VINMAR INTERNATIONAL LLC           0          24  \n",
       "12224                 HYUNDAI CORPORATION           0          19  \n",
       "1952   GOVERDHAN VENTURES PRIVATE LIMITED           0          34  \n",
       "10600       FIRSTEVER ENTERPRISES LIMITED           0          29  \n",
       "6843              ARUM ELECYRONICS  COLTD           0          23  \n",
       "...                                   ...         ...         ...  \n",
       "11964                             SODINOR           0           7  \n",
       "5191           CHIRIPAL POLYFILMS LIMITED           0          26  \n",
       "5390                 AKROS TRADING CO LTD           0          20  \n",
       "860     ZHEJIANG MINGRI HOLDINGS GROUP CO           0          33  \n",
       "7270       DONG A PLASTIC COMPANY LIMITED           0          30  \n",
       "\n",
       "[9902 rows x 4 columns]"
      ]
     },
     "metadata": {}
    },
    {
     "output_type": "display_data",
     "data": {
      "text/html": [
       "<div>\n",
       "<style scoped>\n",
       "    .dataframe tbody tr th:only-of-type {\n",
       "        vertical-align: middle;\n",
       "    }\n",
       "\n",
       "    .dataframe tbody tr th {\n",
       "        vertical-align: top;\n",
       "    }\n",
       "\n",
       "    .dataframe thead th {\n",
       "        text-align: right;\n",
       "    }\n",
       "</style>\n",
       "<table border=\"1\" class=\"dataframe\">\n",
       "  <thead>\n",
       "    <tr style=\"text-align: right;\">\n",
       "      <th></th>\n",
       "      <th>string_X_train</th>\n",
       "      <th>Y_label</th>\n",
       "      <th>string_Y_1</th>\n",
       "      <th>string_Y_2</th>\n",
       "    </tr>\n",
       "  </thead>\n",
       "  <tbody>\n",
       "    <tr>\n",
       "      <th>3693</th>\n",
       "      <td>CURRENT INC_x000D_30 TYLER ST EXTENSION_x000D_...</td>\n",
       "      <td>CURRENT INC</td>\n",
       "      <td>0</td>\n",
       "      <td>11</td>\n",
       "    </tr>\n",
       "    <tr>\n",
       "      <th>4902</th>\n",
       "      <td>UNICO GLOBAL INC_x000D_904 PANGYO WOOLIM WCITY...</td>\n",
       "      <td>UNICO GLOBAL INC</td>\n",
       "      <td>0</td>\n",
       "      <td>16</td>\n",
       "    </tr>\n",
       "    <tr>\n",
       "      <th>4913</th>\n",
       "      <td>UNICO GLOBAL INC_x000D_904 PANGYO WOOLIM WCITY...</td>\n",
       "      <td>UNICO GLOBAL INC</td>\n",
       "      <td>0</td>\n",
       "      <td>16</td>\n",
       "    </tr>\n",
       "    <tr>\n",
       "      <th>3154</th>\n",
       "      <td>UNIEXCEL LIMITED TAIWAN BRANCH_x000D_HONG KONG...</td>\n",
       "      <td>UNIEXCEL LIMITED TAIWAN BRANCH</td>\n",
       "      <td>0</td>\n",
       "      <td>30</td>\n",
       "    </tr>\n",
       "    <tr>\n",
       "      <th>4415</th>\n",
       "      <td>SHRIRAM AXIALL PRIVATE LIMITED_x000D_SHRIRAM N...</td>\n",
       "      <td>SHRIRAM AXIALL PRIVATE LIMITED</td>\n",
       "      <td>0</td>\n",
       "      <td>30</td>\n",
       "    </tr>\n",
       "    <tr>\n",
       "      <th>...</th>\n",
       "      <td>...</td>\n",
       "      <td>...</td>\n",
       "      <td>...</td>\n",
       "      <td>...</td>\n",
       "    </tr>\n",
       "    <tr>\n",
       "      <th>10920</th>\n",
       "      <td>YUEYANG GUANSHENG INVESTMENT_x000D_DEVELOPMENT...</td>\n",
       "      <td>YUEYANG GUANSHENG INVESTMENT</td>\n",
       "      <td>0</td>\n",
       "      <td>28</td>\n",
       "    </tr>\n",
       "    <tr>\n",
       "      <th>7903</th>\n",
       "      <td>FUJIAN JINLUN FIBER SHAREHOLDING_x000D_COMPANY...</td>\n",
       "      <td>FUJIAN JINLUN FIBER SHAREHOLDING</td>\n",
       "      <td>0</td>\n",
       "      <td>32</td>\n",
       "    </tr>\n",
       "    <tr>\n",
       "      <th>7729</th>\n",
       "      <td>L D INTERNATIONAL_x000D_308 KARKAR DOOMA VILLA...</td>\n",
       "      <td>L D INTERNATIONAL</td>\n",
       "      <td>0</td>\n",
       "      <td>17</td>\n",
       "    </tr>\n",
       "    <tr>\n",
       "      <th>1691</th>\n",
       "      <td>FUTURE COMPOSITES TECHNOLOGY LLC_x000D_SAIH SH...</td>\n",
       "      <td>FUTURE COMPOSITES TECHNOLOGY LLC</td>\n",
       "      <td>0</td>\n",
       "      <td>32</td>\n",
       "    </tr>\n",
       "    <tr>\n",
       "      <th>11907</th>\n",
       "      <td>MICRO PLASTICS PRIVATE LIMITED_x000D_REFER FIE...</td>\n",
       "      <td>MICRO PLASTICS PRIVATE LIMITED</td>\n",
       "      <td>0</td>\n",
       "      <td>30</td>\n",
       "    </tr>\n",
       "  </tbody>\n",
       "</table>\n",
       "<p>2476 rows × 4 columns</p>\n",
       "</div>"
      ],
      "text/plain": [
       "                                          string_X_train  \\\n",
       "3693   CURRENT INC_x000D_30 TYLER ST EXTENSION_x000D_...   \n",
       "4902   UNICO GLOBAL INC_x000D_904 PANGYO WOOLIM WCITY...   \n",
       "4913   UNICO GLOBAL INC_x000D_904 PANGYO WOOLIM WCITY...   \n",
       "3154   UNIEXCEL LIMITED TAIWAN BRANCH_x000D_HONG KONG...   \n",
       "4415   SHRIRAM AXIALL PRIVATE LIMITED_x000D_SHRIRAM N...   \n",
       "...                                                  ...   \n",
       "10920  YUEYANG GUANSHENG INVESTMENT_x000D_DEVELOPMENT...   \n",
       "7903   FUJIAN JINLUN FIBER SHAREHOLDING_x000D_COMPANY...   \n",
       "7729   L D INTERNATIONAL_x000D_308 KARKAR DOOMA VILLA...   \n",
       "1691   FUTURE COMPOSITES TECHNOLOGY LLC_x000D_SAIH SH...   \n",
       "11907  MICRO PLASTICS PRIVATE LIMITED_x000D_REFER FIE...   \n",
       "\n",
       "                                Y_label  string_Y_1  string_Y_2  \n",
       "3693                        CURRENT INC           0          11  \n",
       "4902                   UNICO GLOBAL INC           0          16  \n",
       "4913                   UNICO GLOBAL INC           0          16  \n",
       "3154     UNIEXCEL LIMITED TAIWAN BRANCH           0          30  \n",
       "4415     SHRIRAM AXIALL PRIVATE LIMITED           0          30  \n",
       "...                                 ...         ...         ...  \n",
       "10920      YUEYANG GUANSHENG INVESTMENT           0          28  \n",
       "7903   FUJIAN JINLUN FIBER SHAREHOLDING           0          32  \n",
       "7729                  L D INTERNATIONAL           0          17  \n",
       "1691   FUTURE COMPOSITES TECHNOLOGY LLC           0          32  \n",
       "11907    MICRO PLASTICS PRIVATE LIMITED           0          30  \n",
       "\n",
       "[2476 rows x 4 columns]"
      ]
     },
     "metadata": {}
    }
   ],
   "metadata": {}
  },
  {
   "cell_type": "markdown",
   "source": [
    "# Model and Tokenizer Initialization"
   ],
   "metadata": {}
  },
  {
   "cell_type": "code",
   "execution_count": 10,
   "source": [
    "from transformers import DistilBertTokenizerFast\r\n",
    "from transformers import DistilBertForQuestionAnswering\r\n",
    "\r\n",
    "tokenizer = DistilBertTokenizerFast.from_pretrained('distilbert-base-uncased')\r\n",
    "model = DistilBertForQuestionAnswering.from_pretrained(\"distilbert-base-uncased\")\r\n",
    "gc.collect()"
   ],
   "outputs": [
    {
     "output_type": "stream",
     "name": "stderr",
     "text": [
      "Some weights of the model checkpoint at distilbert-base-uncased were not used when initializing DistilBertForQuestionAnswering: ['vocab_projector.bias', 'vocab_projector.weight', 'vocab_transform.bias', 'vocab_layer_norm.weight', 'vocab_transform.weight', 'vocab_layer_norm.bias']\n",
      "- This IS expected if you are initializing DistilBertForQuestionAnswering from the checkpoint of a model trained on another task or with another architecture (e.g. initializing a BertForSequenceClassification model from a BertForPreTraining model).\n",
      "- This IS NOT expected if you are initializing DistilBertForQuestionAnswering from the checkpoint of a model that you expect to be exactly identical (initializing a BertForSequenceClassification model from a BertForSequenceClassification model).\n",
      "Some weights of DistilBertForQuestionAnswering were not initialized from the model checkpoint at distilbert-base-uncased and are newly initialized: ['qa_outputs.weight', 'qa_outputs.bias']\n",
      "You should probably TRAIN this model on a down-stream task to be able to use it for predictions and inference.\n"
     ]
    },
    {
     "output_type": "execute_result",
     "data": {
      "text/plain": [
       "752"
      ]
     },
     "metadata": {},
     "execution_count": 10
    }
   ],
   "metadata": {}
  },
  {
   "cell_type": "markdown",
   "source": [
    "# Data preprocessing"
   ],
   "metadata": {}
  },
  {
   "cell_type": "code",
   "execution_count": 11,
   "source": [
    "def preprocessing(df):\r\n",
    "    contexts = df['string_X_train'].values.tolist()\r\n",
    "    questions = [ 'What is the Applicant name ?' for i in range(len(df))]\r\n",
    "    answers = []\r\n",
    "    for idx in df.index:\r\n",
    "        answers.append({\r\n",
    "            'text':df.loc[idx,'Y_label'],\r\n",
    "            'answer_start':df.loc[idx,'string_Y_1'],\r\n",
    "            'answer_end':df.loc[idx,'string_Y_2'],\r\n",
    "            })\r\n",
    "    return contexts ,questions ,answers"
   ],
   "outputs": [],
   "metadata": {}
  },
  {
   "cell_type": "code",
   "execution_count": 12,
   "source": [
    "def add_token_positions(encodings, answers):\r\n",
    "    start_positions = []\r\n",
    "    end_positions = []\r\n",
    "    for i in range(len(answers)):\r\n",
    "        start_positions.append(encodings.char_to_token(i, answers[i]['answer_start']))\r\n",
    "        end_positions.append(encodings.char_to_token(i, answers[i]['answer_end'] - 1))\r\n",
    "\r\n",
    "        # if start position is None, the answer passage has been truncated\r\n",
    "        if start_positions[-1] is None:\r\n",
    "            start_positions[-1] = tokenizer.model_max_length\r\n",
    "        if end_positions[-1] is None:\r\n",
    "            end_positions[-1] = tokenizer.model_max_length\r\n",
    "\r\n",
    "    encodings.update({'start_positions': start_positions, 'end_positions': end_positions})\r\n",
    "    return encodings"
   ],
   "outputs": [],
   "metadata": {}
  },
  {
   "cell_type": "code",
   "execution_count": 13,
   "source": [
    "class SquadDataset(torch.utils.data.Dataset):\r\n",
    "    def __init__(self, encodings):\r\n",
    "        self.encodings = encodings\r\n",
    "\r\n",
    "    def __getitem__(self, idx):\r\n",
    "        return {key: torch.tensor(val[idx]) for key, val in self.encodings.items()}\r\n",
    "\r\n",
    "    def __len__(self):\r\n",
    "        return len(self.encodings.input_ids)"
   ],
   "outputs": [],
   "metadata": {}
  },
  {
   "cell_type": "code",
   "execution_count": 14,
   "source": [
    "def df2Dataloader(df):\r\n",
    "    contexts ,questions ,answers = preprocessing(df)\r\n",
    "    encodings = tokenizer(contexts, questions, truncation=True, padding=True)\r\n",
    "    encodings = add_token_positions(encodings, answers)\r\n",
    "    dataset = SquadDataset(encodings)\r\n",
    "    return DataLoader(dataset,batch_size=8)"
   ],
   "outputs": [],
   "metadata": {}
  },
  {
   "cell_type": "code",
   "execution_count": 15,
   "source": [
    "train_loader = df2Dataloader(train_df)\r\n",
    "val_loader = df2Dataloader(val_df)"
   ],
   "outputs": [],
   "metadata": {}
  },
  {
   "cell_type": "markdown",
   "source": [
    "# train model"
   ],
   "metadata": {}
  },
  {
   "cell_type": "code",
   "execution_count": 16,
   "source": [
    "device = torch.device('cuda') if torch.cuda.is_available() else torch.device('cpu')\r\n",
    "model.to(device)\r\n",
    "model.train()\r\n",
    "optimizer = MADGRAD(model.parameters() ,lr = 5e-5)"
   ],
   "outputs": [],
   "metadata": {}
  },
  {
   "cell_type": "code",
   "execution_count": 17,
   "source": [
    "\r\n",
    "def step(model,batch,optimizer,device,mode='train'):\r\n",
    "    model = model.to(device)\r\n",
    "    # change mode\r\n",
    "    if mode == 'train':\r\n",
    "        model.train()\r\n",
    "    if mode == 'val':\r\n",
    "        model.eval()\r\n",
    "    # forward pass\r\n",
    "    input_ids = batch['input_ids'].to(device)\r\n",
    "    attention_mask = batch['attention_mask'].to(device)\r\n",
    "    start_positions = batch['start_positions'].to(device)\r\n",
    "    end_positions = batch['end_positions'].to(device)\r\n",
    "    outputs = model(input_ids, attention_mask=attention_mask, start_positions=start_positions, end_positions=end_positions)\r\n",
    "    loss = outputs[0]\r\n",
    "    # update model if mode == train\r\n",
    "    if mode == 'train': \r\n",
    "        loss.backward()\r\n",
    "        optimizer.step()\r\n",
    "        optimizer.zero_grad()\r\n",
    "    return loss.item()"
   ],
   "outputs": [],
   "metadata": {}
  },
  {
   "cell_type": "code",
   "execution_count": 18,
   "source": [
    "def train_loop(model,train_loader,val_loader,optimizer,max_epochs=5):\r\n",
    "    history = {'train_loss':[],'val_loss':[]}\r\n",
    "    best_loss = np.inf\r\n",
    "    best_model = None\r\n",
    "    for epoch in tqdm(range(max_epochs)):        \r\n",
    "        epoch_train_loss = 0.0\r\n",
    "        epoch_val_loss = 0.0\r\n",
    "        for i,batch in enumerate(tqdm(train_loader)):\r\n",
    "            epoch_train_loss += step(model,batch,optimizer,device,mode='train')\r\n",
    "        for j,batch in enumerate(tqdm(val_loader)):\r\n",
    "            epoch_val_loss += step(model,batch,optimizer,device,mode='val')\r\n",
    "        history['train_loss'].append(epoch_train_loss/i)\r\n",
    "        history['val_loss'].append(epoch_val_loss/j)\r\n",
    "        print(f'epoch:{epoch} train_loss:{epoch_train_loss/i} val_loss:{epoch_val_loss/j}')\r\n",
    "        if history['val_loss'][-1] <= best_loss: \r\n",
    "            best_model = deepcopy(model.eval())\r\n",
    "            best_loss = history['val_loss'][-1]\r\n",
    "            print(f'save best_model now_val_best_loss is:{best_loss}')\r\n",
    "    return best_model.eval() ,history"
   ],
   "outputs": [],
   "metadata": {}
  },
  {
   "cell_type": "code",
   "execution_count": 19,
   "source": [
    "best_model ,history = train_loop(model,train_loader,val_loader,optimizer,max_epochs=3)"
   ],
   "outputs": [
    {
     "output_type": "display_data",
     "data": {
      "application/vnd.jupyter.widget-view+json": {
       "version_major": 2,
       "version_minor": 0,
       "model_id": "57f4458f17d4482ba9c39d12becc57cf"
      },
      "text/plain": [
       "HBox(children=(HTML(value=''), FloatProgress(value=0.0, max=3.0), HTML(value='')))"
      ]
     },
     "metadata": {}
    },
    {
     "output_type": "display_data",
     "data": {
      "application/vnd.jupyter.widget-view+json": {
       "version_major": 2,
       "version_minor": 0,
       "model_id": "65eb4fcba0eb4e0f81ba9105890c0a93"
      },
      "text/plain": [
       "HBox(children=(HTML(value=''), FloatProgress(value=0.0, max=1238.0), HTML(value='')))"
      ]
     },
     "metadata": {}
    },
    {
     "output_type": "stream",
     "name": "stdout",
     "text": [
      "\n"
     ]
    },
    {
     "output_type": "display_data",
     "data": {
      "application/vnd.jupyter.widget-view+json": {
       "version_major": 2,
       "version_minor": 0,
       "model_id": "ec65acf72d544a1abb78e3b4d6b40c89"
      },
      "text/plain": [
       "HBox(children=(HTML(value=''), FloatProgress(value=0.0, max=310.0), HTML(value='')))"
      ]
     },
     "metadata": {}
    },
    {
     "output_type": "stream",
     "name": "stdout",
     "text": [
      "\n",
      "epoch:0 train_loss:0.050796260801199235 val_loss:0.004509508229408682\n",
      "save best_model now_val_best_loss is:0.004509508229408682\n"
     ]
    },
    {
     "output_type": "display_data",
     "data": {
      "application/vnd.jupyter.widget-view+json": {
       "version_major": 2,
       "version_minor": 0,
       "model_id": "eac8275b207b4e988c15f32dafca62f2"
      },
      "text/plain": [
       "HBox(children=(HTML(value=''), FloatProgress(value=0.0, max=1238.0), HTML(value='')))"
      ]
     },
     "metadata": {}
    },
    {
     "output_type": "stream",
     "name": "stdout",
     "text": [
      "\n"
     ]
    },
    {
     "output_type": "display_data",
     "data": {
      "application/vnd.jupyter.widget-view+json": {
       "version_major": 2,
       "version_minor": 0,
       "model_id": "d01189ebd899438f9c3bd7cb0515cffa"
      },
      "text/plain": [
       "HBox(children=(HTML(value=''), FloatProgress(value=0.0, max=310.0), HTML(value='')))"
      ]
     },
     "metadata": {}
    },
    {
     "output_type": "stream",
     "name": "stdout",
     "text": [
      "\n",
      "epoch:1 train_loss:0.002433770482584967 val_loss:0.006214910042170432\n"
     ]
    },
    {
     "output_type": "display_data",
     "data": {
      "application/vnd.jupyter.widget-view+json": {
       "version_major": 2,
       "version_minor": 0,
       "model_id": "b8eac136ca9f481b9fcbad5a607f8dea"
      },
      "text/plain": [
       "HBox(children=(HTML(value=''), FloatProgress(value=0.0, max=1238.0), HTML(value='')))"
      ]
     },
     "metadata": {}
    },
    {
     "output_type": "stream",
     "name": "stdout",
     "text": [
      "\n"
     ]
    },
    {
     "output_type": "display_data",
     "data": {
      "application/vnd.jupyter.widget-view+json": {
       "version_major": 2,
       "version_minor": 0,
       "model_id": "7d99e25458954367980f6558b2176d9c"
      },
      "text/plain": [
       "HBox(children=(HTML(value=''), FloatProgress(value=0.0, max=310.0), HTML(value='')))"
      ]
     },
     "metadata": {}
    },
    {
     "output_type": "stream",
     "name": "stdout",
     "text": [
      "\n",
      "epoch:2 train_loss:0.017164842573296223 val_loss:3.378217360029595e-05\n",
      "save best_model now_val_best_loss is:3.378217360029595e-05\n",
      "\n"
     ]
    }
   ],
   "metadata": {}
  },
  {
   "cell_type": "markdown",
   "source": [
    "# save model"
   ],
   "metadata": {}
  },
  {
   "cell_type": "code",
   "execution_count": 20,
   "source": [
    "\r\n",
    "import matplotlib.pyplot as plt\r\n",
    "plt.plot(history['train_loss'],label='train')\r\n",
    "plt.plot(history['val_loss'],label='test')\r\n",
    "plt.legend()\r\n",
    "plt.show()"
   ],
   "outputs": [
    {
     "output_type": "display_data",
     "data": {
      "image/png": "[encoded data removed]",
      "text/plain": [
       "<Figure size 432x288 with 1 Axes>"
      ]
     },
     "metadata": {
      "needs_background": "light"
     }
    }
   ],
   "metadata": {}
  },
  {
   "cell_type": "code",
   "execution_count": 21,
   "source": [
    "model_path = '../models/Product_Data_SQuAD_model_開狀人.pt'\r\n",
    "torch.save(best_model.state_dict(),model_path)"
   ],
   "outputs": [],
   "metadata": {}
  },
  {
   "cell_type": "markdown",
   "source": [
    "# load trained model"
   ],
   "metadata": {}
  },
  {
   "cell_type": "code",
   "execution_count": 22,
   "source": [
    "model = DistilBertForQuestionAnswering.from_pretrained(\"distilbert-base-uncased\")\r\n",
    "model.load_state_dict(torch.load(model_path))\r\n",
    "model.eval()\r\n",
    "nlp = pipeline('question-answering', model=model.to('cpu'), tokenizer=tokenizer)"
   ],
   "outputs": [
    {
     "output_type": "stream",
     "name": "stderr",
     "text": [
      "Some weights of the model checkpoint at distilbert-base-uncased were not used when initializing DistilBertForQuestionAnswering: ['vocab_projector.bias', 'vocab_projector.weight', 'vocab_transform.bias', 'vocab_layer_norm.weight', 'vocab_transform.weight', 'vocab_layer_norm.bias']\n",
      "- This IS expected if you are initializing DistilBertForQuestionAnswering from the checkpoint of a model trained on another task or with another architecture (e.g. initializing a BertForSequenceClassification model from a BertForPreTraining model).\n",
      "- This IS NOT expected if you are initializing DistilBertForQuestionAnswering from the checkpoint of a model that you expect to be exactly identical (initializing a BertForSequenceClassification model from a BertForSequenceClassification model).\n",
      "Some weights of DistilBertForQuestionAnswering were not initialized from the model checkpoint at distilbert-base-uncased and are newly initialized: ['qa_outputs.weight', 'qa_outputs.bias']\n",
      "You should probably TRAIN this model on a down-stream task to be able to use it for predictions and inference.\n"
     ]
    }
   ],
   "metadata": {}
  },
  {
   "cell_type": "markdown",
   "source": [
    "# test"
   ],
   "metadata": {}
  },
  {
   "cell_type": "code",
   "execution_count": 23,
   "source": [
    "def test_model(nlp,df):\r\n",
    "    table = pd.DataFrame()\r\n",
    "    for i in tqdm(df.index):\r\n",
    "        sample = df.loc[[i]]\r\n",
    "        string_X_train = sample['string_X_train'].values[0]\r\n",
    "        Y_label = sample['Y_label'].values[0]  \r\n",
    "        QA_input = {\r\n",
    "            'question': 'What is the Applicant name ?',\r\n",
    "            'context': string_X_train\r\n",
    "        }\r\n",
    "        res = nlp(QA_input)\r\n",
    "        predict = QA_input['context'][0:res['end']]\r\n",
    "        row = pd.DataFrame({'Y_label':Y_label,'predict':predict},index=[i])\r\n",
    "        if Y_label == predict:\r\n",
    "            row['是否全對'] = 'Yes'\r\n",
    "        else:\r\n",
    "            row['是否全對'] = 'No'\r\n",
    "        table = table.append(row)\r\n",
    "    return table"
   ],
   "outputs": [],
   "metadata": {}
  },
  {
   "cell_type": "code",
   "execution_count": 24,
   "source": [
    "table = test_model(nlp,val_df)\r\n",
    "display(table)"
   ],
   "outputs": [
    {
     "output_type": "display_data",
     "data": {
      "application/vnd.jupyter.widget-view+json": {
       "version_major": 2,
       "version_minor": 0,
       "model_id": "6c4d2557ca4d42ebb1b4bf15e333d914"
      },
      "text/plain": [
       "HBox(children=(HTML(value=''), FloatProgress(value=0.0, max=2476.0), HTML(value='')))"
      ]
     },
     "metadata": {}
    },
    {
     "output_type": "stream",
     "name": "stdout",
     "text": [
      "\n"
     ]
    },
    {
     "output_type": "display_data",
     "data": {
      "text/html": [
       "<div>\n",
       "<style scoped>\n",
       "    .dataframe tbody tr th:only-of-type {\n",
       "        vertical-align: middle;\n",
       "    }\n",
       "\n",
       "    .dataframe tbody tr th {\n",
       "        vertical-align: top;\n",
       "    }\n",
       "\n",
       "    .dataframe thead th {\n",
       "        text-align: right;\n",
       "    }\n",
       "</style>\n",
       "<table border=\"1\" class=\"dataframe\">\n",
       "  <thead>\n",
       "    <tr style=\"text-align: right;\">\n",
       "      <th></th>\n",
       "      <th>Y_label</th>\n",
       "      <th>predict</th>\n",
       "      <th>是否全對</th>\n",
       "    </tr>\n",
       "  </thead>\n",
       "  <tbody>\n",
       "    <tr>\n",
       "      <th>3693</th>\n",
       "      <td>CURRENT INC</td>\n",
       "      <td>CURRENT INC</td>\n",
       "      <td>Yes</td>\n",
       "    </tr>\n",
       "    <tr>\n",
       "      <th>4902</th>\n",
       "      <td>UNICO GLOBAL INC</td>\n",
       "      <td>UNICO GLOBAL INC</td>\n",
       "      <td>Yes</td>\n",
       "    </tr>\n",
       "    <tr>\n",
       "      <th>4913</th>\n",
       "      <td>UNICO GLOBAL INC</td>\n",
       "      <td>UNICO GLOBAL INC</td>\n",
       "      <td>Yes</td>\n",
       "    </tr>\n",
       "    <tr>\n",
       "      <th>3154</th>\n",
       "      <td>UNIEXCEL LIMITED TAIWAN BRANCH</td>\n",
       "      <td>UNIEXCEL LIMITED TAIWAN BRANCH</td>\n",
       "      <td>Yes</td>\n",
       "    </tr>\n",
       "    <tr>\n",
       "      <th>4415</th>\n",
       "      <td>SHRIRAM AXIALL PRIVATE LIMITED</td>\n",
       "      <td>SHRIRAM AXIALL PRIVATE LIMITED</td>\n",
       "      <td>Yes</td>\n",
       "    </tr>\n",
       "    <tr>\n",
       "      <th>...</th>\n",
       "      <td>...</td>\n",
       "      <td>...</td>\n",
       "      <td>...</td>\n",
       "    </tr>\n",
       "    <tr>\n",
       "      <th>10920</th>\n",
       "      <td>YUEYANG GUANSHENG INVESTMENT</td>\n",
       "      <td>YUEYANG GUANSHENG INVESTMENT</td>\n",
       "      <td>Yes</td>\n",
       "    </tr>\n",
       "    <tr>\n",
       "      <th>7903</th>\n",
       "      <td>FUJIAN JINLUN FIBER SHAREHOLDING</td>\n",
       "      <td>FUJIAN JINLUN FIBER SHAREHOLDING</td>\n",
       "      <td>Yes</td>\n",
       "    </tr>\n",
       "    <tr>\n",
       "      <th>7729</th>\n",
       "      <td>L D INTERNATIONAL</td>\n",
       "      <td>L D INTERNATIONAL</td>\n",
       "      <td>Yes</td>\n",
       "    </tr>\n",
       "    <tr>\n",
       "      <th>1691</th>\n",
       "      <td>FUTURE COMPOSITES TECHNOLOGY LLC</td>\n",
       "      <td>FUTURE COMPOSITES TECHNOLOGY LLC</td>\n",
       "      <td>Yes</td>\n",
       "    </tr>\n",
       "    <tr>\n",
       "      <th>11907</th>\n",
       "      <td>MICRO PLASTICS PRIVATE LIMITED</td>\n",
       "      <td>MICRO PLASTICS PRIVATE LIMITED</td>\n",
       "      <td>Yes</td>\n",
       "    </tr>\n",
       "  </tbody>\n",
       "</table>\n",
       "<p>2476 rows × 3 columns</p>\n",
       "</div>"
      ],
      "text/plain": [
       "                                Y_label                           predict 是否全對\n",
       "3693                        CURRENT INC                       CURRENT INC  Yes\n",
       "4902                   UNICO GLOBAL INC                  UNICO GLOBAL INC  Yes\n",
       "4913                   UNICO GLOBAL INC                  UNICO GLOBAL INC  Yes\n",
       "3154     UNIEXCEL LIMITED TAIWAN BRANCH    UNIEXCEL LIMITED TAIWAN BRANCH  Yes\n",
       "4415     SHRIRAM AXIALL PRIVATE LIMITED    SHRIRAM AXIALL PRIVATE LIMITED  Yes\n",
       "...                                 ...                               ...  ...\n",
       "10920      YUEYANG GUANSHENG INVESTMENT      YUEYANG GUANSHENG INVESTMENT  Yes\n",
       "7903   FUJIAN JINLUN FIBER SHAREHOLDING  FUJIAN JINLUN FIBER SHAREHOLDING  Yes\n",
       "7729                  L D INTERNATIONAL                 L D INTERNATIONAL  Yes\n",
       "1691   FUTURE COMPOSITES TECHNOLOGY LLC  FUTURE COMPOSITES TECHNOLOGY LLC  Yes\n",
       "11907    MICRO PLASTICS PRIVATE LIMITED    MICRO PLASTICS PRIVATE LIMITED  Yes\n",
       "\n",
       "[2476 rows x 3 columns]"
      ]
     },
     "metadata": {}
    }
   ],
   "metadata": {}
  },
  {
   "cell_type": "markdown",
   "source": [
    "# claculate acc and jaccard"
   ],
   "metadata": {}
  },
  {
   "cell_type": "code",
   "execution_count": 25,
   "source": [
    "def get_acc(df,t=1):\r\n",
    "    correct = []\r\n",
    "    correct_label = []\r\n",
    "    for i in df.index:\r\n",
    "        jac = get_jaccard_sim(df.loc[i,'Y_label'],df.loc[i,'predict'])\r\n",
    "        if jac >= t:\r\n",
    "            correct.append('yes')\r\n",
    "        else:\r\n",
    "            correct.append('no')\r\n",
    "    a = pd.Series(correct)\r\n",
    "    return a.value_counts()['yes']/len(a)"
   ],
   "outputs": [],
   "metadata": {}
  },
  {
   "cell_type": "code",
   "execution_count": 26,
   "source": [
    "\r\n",
    "print('jaccard_avg_score:',np.mean([ get_jaccard_sim(table['Y_label'].loc[i],table['predict'].loc[i]) for i in table.index]))\r\n",
    "print('acc:',get_acc(table,1))\r\n",
    "print('放水acc:',get_acc(table,0.75))\r\n",
    "print('放水acc:',get_acc(table,0.5))\r\n",
    "print('放水acc:',get_acc(table,0.25))"
   ],
   "outputs": [
    {
     "output_type": "stream",
     "name": "stdout",
     "text": [
      "jaccard_avg_score: 0.9697546373031026\n",
      "acc: 0.9466882067851373\n",
      "放水acc: 0.9584006462035541\n",
      "放水acc: 0.970113085621971\n",
      "放水acc: 0.9830371567043619\n"
     ]
    }
   ],
   "metadata": {}
  },
  {
   "cell_type": "code",
   "execution_count": null,
   "source": [],
   "outputs": [],
   "metadata": {}
  },
  {
   "cell_type": "code",
   "execution_count": null,
   "source": [],
   "outputs": [],
   "metadata": {}
  },
  {
   "cell_type": "code",
   "execution_count": null,
   "source": [],
   "outputs": [],
   "metadata": {}
  },
  {
   "cell_type": "code",
   "execution_count": null,
   "source": [],
   "outputs": [],
   "metadata": {}
  },
  {
   "cell_type": "code",
   "execution_count": null,
   "source": [],
   "outputs": [],
   "metadata": {}
  }
 ],
 "metadata": {
  "interpreter": {
   "hash": "2ccee5cc862501c1aad1cf19888c2a2eca4026b72d187db43d5e889cbdc6ee97"
  },
  "kernelspec": {
   "name": "python3",
   "display_name": "Python 3.8.5 64-bit ('base': conda)"
  },
  "language_info": {
   "codemirror_mode": {
    "name": "ipython",
    "version": 3
   },
   "file_extension": ".py",
   "mimetype": "text/x-python",
   "name": "python",
   "nbconvert_exporter": "python",
   "pygments_lexer": "ipython3",
   "version": "3.8.5"
  }
 },
 "nbformat": 4,
 "nbformat_minor": 2
}