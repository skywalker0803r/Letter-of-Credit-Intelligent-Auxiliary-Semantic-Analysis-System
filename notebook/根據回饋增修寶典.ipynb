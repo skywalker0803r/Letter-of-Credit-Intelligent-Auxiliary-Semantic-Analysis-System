{
 "cells": [
  {
   "cell_type": "code",
   "execution_count": 16,
   "metadata": {},
   "outputs": [
    {
     "data": {
      "text/plain": [
       "['0928測試結果.checked.xlsx',\n",
       " '0929測試結果.checked.xlsx',\n",
       " '1004測試結果.checked.xlsx',\n",
       " '1006測試結果.checked.xlsx',\n",
       " '1012測試結果.checked.xlsx',\n",
       " '1023測試結果.checked.xlsx',\n",
       " '1026測試結果.checked.xlsx',\n",
       " '1027測試結果.checked.xlsx',\n",
       " '1028測試結果.checked.xlsx',\n",
       " '1029測試結果.checked.xlsx',\n",
       " '1101測試結果.checked.xlsx',\n",
       " '1102測試結果.checked.xlsx',\n",
       " '1103測試結果.checked.xlsx',\n",
       " '1104測試結果.checked.xlsx',\n",
       " '1105測試結果.checked.xlsx',\n",
       " '1113測試結果.checked.xlsx',\n",
       " '1116測試結果.checked.xlsx',\n",
       " '1117測試結果.checked.xlsx',\n",
       " '1118測試結果.checked.xlsx',\n",
       " '1119測試結果.checked.xlsx']"
      ]
     },
     "execution_count": 16,
     "metadata": {},
     "output_type": "execute_result"
    }
   ],
   "source": [
    "import pandas as pd\n",
    "import os\n",
    "from tqdm import tqdm\n",
    "root = '../data/feedback/'\n",
    "filelist = os.listdir(root)\n",
    "filelist"
   ]
  },
  {
   "cell_type": "code",
   "execution_count": 17,
   "metadata": {},
   "outputs": [
    {
     "name": "stderr",
     "output_type": "stream",
     "text": [
      "100%|██████████| 20/20 [00:00<00:00, 23.31it/s]"
     ]
    },
    {
     "name": "stdout",
     "output_type": "stream",
     "text": [
      "(127, 3)\n"
     ]
    },
    {
     "name": "stderr",
     "output_type": "stream",
     "text": [
      "\n"
     ]
    },
    {
     "data": {
      "text/html": [
       "<div>\n",
       "<style scoped>\n",
       "    .dataframe tbody tr th:only-of-type {\n",
       "        vertical-align: middle;\n",
       "    }\n",
       "\n",
       "    .dataframe tbody tr th {\n",
       "        vertical-align: top;\n",
       "    }\n",
       "\n",
       "    .dataframe thead th {\n",
       "        text-align: right;\n",
       "    }\n",
       "</style>\n",
       "<table border=\"1\" class=\"dataframe\">\n",
       "  <thead>\n",
       "    <tr style=\"text-align: right;\">\n",
       "      <th></th>\n",
       "      <th>公司代號</th>\n",
       "      <th>公司事業部門</th>\n",
       "      <th>品名</th>\n",
       "    </tr>\n",
       "  </thead>\n",
       "  <tbody>\n",
       "    <tr>\n",
       "      <th>7</th>\n",
       "      <td>2E</td>\n",
       "      <td>not find</td>\n",
       "      <td>TAIRILIN BRAND POLYESTER FILM</td>\n",
       "    </tr>\n",
       "    <tr>\n",
       "      <th>9</th>\n",
       "      <td>25</td>\n",
       "      <td>not find</td>\n",
       "      <td>POLYESTER PET CHIP</td>\n",
       "    </tr>\n",
       "    <tr>\n",
       "      <th>18</th>\n",
       "      <td>4A</td>\n",
       "      <td>not find</td>\n",
       "      <td>TAIRISAN SAN RESINS</td>\n",
       "    </tr>\n",
       "    <tr>\n",
       "      <th>28</th>\n",
       "      <td>2P</td>\n",
       "      <td>not find</td>\n",
       "      <td>BUTANEDIOL</td>\n",
       "    </tr>\n",
       "    <tr>\n",
       "      <th>41</th>\n",
       "      <td>28</td>\n",
       "      <td>not find</td>\n",
       "      <td>GLASS FABRICS</td>\n",
       "    </tr>\n",
       "    <tr>\n",
       "      <th>...</th>\n",
       "      <td>...</td>\n",
       "      <td>...</td>\n",
       "      <td>...</td>\n",
       "    </tr>\n",
       "    <tr>\n",
       "      <th>28</th>\n",
       "      <td>2P</td>\n",
       "      <td>not find</td>\n",
       "      <td>14 BUTANEDIOL</td>\n",
       "    </tr>\n",
       "    <tr>\n",
       "      <th>13</th>\n",
       "      <td>4A</td>\n",
       "      <td>not find</td>\n",
       "      <td>PLASTIC RESIN</td>\n",
       "    </tr>\n",
       "    <tr>\n",
       "      <th>22</th>\n",
       "      <td>4A</td>\n",
       "      <td>not find</td>\n",
       "      <td>POLYPROPYLENE</td>\n",
       "    </tr>\n",
       "    <tr>\n",
       "      <th>23</th>\n",
       "      <td>2M</td>\n",
       "      <td>not find</td>\n",
       "      <td>LAMINATE</td>\n",
       "    </tr>\n",
       "    <tr>\n",
       "      <th>24</th>\n",
       "      <td>11</td>\n",
       "      <td>not find</td>\n",
       "      <td>IMPACT MODIFIER</td>\n",
       "    </tr>\n",
       "  </tbody>\n",
       "</table>\n",
       "<p>127 rows × 3 columns</p>\n",
       "</div>"
      ],
      "text/plain": [
       "   公司代號    公司事業部門                              品名\n",
       "7    2E  not find   TAIRILIN BRAND POLYESTER FILM\n",
       "9    25  not find              POLYESTER PET CHIP\n",
       "18   4A  not find             TAIRISAN SAN RESINS\n",
       "28   2P  not find                      BUTANEDIOL\n",
       "41   28  not find                   GLASS FABRICS\n",
       "..  ...       ...                             ...\n",
       "28   2P  not find                   14 BUTANEDIOL\n",
       "13   4A  not find                   PLASTIC RESIN\n",
       "22   4A  not find                   POLYPROPYLENE\n",
       "23   2M  not find                        LAMINATE\n",
       "24   11  not find                 IMPACT MODIFIER\n",
       "\n",
       "[127 rows x 3 columns]"
      ]
     },
     "execution_count": 17,
     "metadata": {},
     "output_type": "execute_result"
    }
   ],
   "source": [
    "feedback = pd.DataFrame(columns = ['公司代號','公司事業部門','品名'])\n",
    "for f in tqdm(filelist):\n",
    "    a = pd.read_excel(root+f)\n",
    "    checked_col = a.columns.tolist()[-2]\n",
    "    a = a.dropna(subset=[checked_col]).iloc[:,-2:]\n",
    "    a['公司事業部門'] = 'not find'\n",
    "    a.columns = ['公司代號','品名','公司事業部門']\n",
    "    feedback = feedback.append(a)\n",
    "print(feedback.shape)\n",
    "feedback"
   ]
  },
  {
   "cell_type": "code",
   "execution_count": 18,
   "metadata": {},
   "outputs": [],
   "source": [
    "feedback.to_excel('../data/寶典/寶典人工處理後/寶典_feedback.xlsx')"
   ]
  },
  {
   "cell_type": "code",
   "execution_count": null,
   "metadata": {},
   "outputs": [],
   "source": []
  }
 ],
 "metadata": {
  "interpreter": {
   "hash": "2ccee5cc862501c1aad1cf19888c2a2eca4026b72d187db43d5e889cbdc6ee97"
  },
  "kernelspec": {
   "display_name": "Python 3.8.5 64-bit ('base': conda)",
   "language": "python",
   "name": "python3"
  },
  "language_info": {
   "codemirror_mode": {
    "name": "ipython",
    "version": 3
   },
   "file_extension": ".py",
   "mimetype": "text/x-python",
   "name": "python",
   "nbconvert_exporter": "python",
   "pygments_lexer": "ipython3",
   "version": "3.8.5"
  },
  "orig_nbformat": 4
 },
 "nbformat": 4,
 "nbformat_minor": 2
}
