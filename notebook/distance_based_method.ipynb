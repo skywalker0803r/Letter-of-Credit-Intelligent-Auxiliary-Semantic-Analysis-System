{
  "nbformat": 4,
  "nbformat_minor": 0,
  "metadata": {
    "colab": {
      "name": "Untitled333.ipynb",
      "provenance": [],
      "collapsed_sections": [],
      "mount_file_id": "15Q70DR_rZ2z7eAhe_1kHQhqLVhLrQLvY",
      "authorship_tag": "ABX9TyMGD+8Vs/LYH7SVQOFcX10U",
      "include_colab_link": true
    },
    "kernelspec": {
      "name": "python3",
      "display_name": "Python 3"
    },
    "language_info": {
      "name": "python"
    }
  },
  "cells": [
    {
      "cell_type": "markdown",
      "metadata": {
        "id": "view-in-github",
        "colab_type": "text"
      },
      "source": [
        "<a href=\"https://colab.research.google.com/github/skywalker0803r/Letter-of-Credit-Intelligent-Auxiliary-Semantic-Analysis-System/blob/main/notebook/distance_based_method.ipynb\" target=\"_parent\"><img src=\"https://colab.research.google.com/assets/colab-badge.svg\" alt=\"Open In Colab\"/></a>"
      ]
    },
    {
      "cell_type": "code",
      "source": [
        "!pip install transformers\n",
        "!pip install nmslib"
      ],
      "metadata": {
        "colab": {
          "base_uri": "https://localhost:8080/"
        },
        "id": "FvzOXCEjVLLB",
        "outputId": "c653bcad-a019-46f9-df42-df0f765e0e06"
      },
      "execution_count": 1,
      "outputs": [
        {
          "output_type": "stream",
          "name": "stdout",
          "text": [
            "Requirement already satisfied: transformers in /usr/local/lib/python3.7/dist-packages (4.15.0)\n",
            "Requirement already satisfied: numpy>=1.17 in /usr/local/lib/python3.7/dist-packages (from transformers) (1.19.5)\n",
            "Requirement already satisfied: packaging>=20.0 in /usr/local/lib/python3.7/dist-packages (from transformers) (21.3)\n",
            "Requirement already satisfied: regex!=2019.12.17 in /usr/local/lib/python3.7/dist-packages (from transformers) (2019.12.20)\n",
            "Requirement already satisfied: tokenizers<0.11,>=0.10.1 in /usr/local/lib/python3.7/dist-packages (from transformers) (0.10.3)\n",
            "Requirement already satisfied: pyyaml>=5.1 in /usr/local/lib/python3.7/dist-packages (from transformers) (6.0)\n",
            "Requirement already satisfied: tqdm>=4.27 in /usr/local/lib/python3.7/dist-packages (from transformers) (4.62.3)\n",
            "Requirement already satisfied: requests in /usr/local/lib/python3.7/dist-packages (from transformers) (2.23.0)\n",
            "Requirement already satisfied: huggingface-hub<1.0,>=0.1.0 in /usr/local/lib/python3.7/dist-packages (from transformers) (0.2.1)\n",
            "Requirement already satisfied: importlib-metadata in /usr/local/lib/python3.7/dist-packages (from transformers) (4.8.2)\n",
            "Requirement already satisfied: sacremoses in /usr/local/lib/python3.7/dist-packages (from transformers) (0.0.46)\n",
            "Requirement already satisfied: filelock in /usr/local/lib/python3.7/dist-packages (from transformers) (3.4.0)\n",
            "Requirement already satisfied: typing-extensions>=3.7.4.3 in /usr/local/lib/python3.7/dist-packages (from huggingface-hub<1.0,>=0.1.0->transformers) (3.10.0.2)\n",
            "Requirement already satisfied: pyparsing!=3.0.5,>=2.0.2 in /usr/local/lib/python3.7/dist-packages (from packaging>=20.0->transformers) (3.0.6)\n",
            "Requirement already satisfied: zipp>=0.5 in /usr/local/lib/python3.7/dist-packages (from importlib-metadata->transformers) (3.6.0)\n",
            "Requirement already satisfied: idna<3,>=2.5 in /usr/local/lib/python3.7/dist-packages (from requests->transformers) (2.10)\n",
            "Requirement already satisfied: urllib3!=1.25.0,!=1.25.1,<1.26,>=1.21.1 in /usr/local/lib/python3.7/dist-packages (from requests->transformers) (1.24.3)\n",
            "Requirement already satisfied: certifi>=2017.4.17 in /usr/local/lib/python3.7/dist-packages (from requests->transformers) (2021.10.8)\n",
            "Requirement already satisfied: chardet<4,>=3.0.2 in /usr/local/lib/python3.7/dist-packages (from requests->transformers) (3.0.4)\n",
            "Requirement already satisfied: click in /usr/local/lib/python3.7/dist-packages (from sacremoses->transformers) (7.1.2)\n",
            "Requirement already satisfied: joblib in /usr/local/lib/python3.7/dist-packages (from sacremoses->transformers) (1.1.0)\n",
            "Requirement already satisfied: six in /usr/local/lib/python3.7/dist-packages (from sacremoses->transformers) (1.15.0)\n",
            "Requirement already satisfied: nmslib in /usr/local/lib/python3.7/dist-packages (2.1.1)\n",
            "Requirement already satisfied: psutil in /usr/local/lib/python3.7/dist-packages (from nmslib) (5.4.8)\n",
            "Requirement already satisfied: numpy>=1.10.0 in /usr/local/lib/python3.7/dist-packages (from nmslib) (1.19.5)\n",
            "Requirement already satisfied: pybind11<2.6.2 in /usr/local/lib/python3.7/dist-packages (from nmslib) (2.6.1)\n"
          ]
        }
      ]
    },
    {
      "cell_type": "code",
      "source": [
        "import requests\n",
        "import pandas as pd\n",
        "url = 'https://gist.githubusercontent.com/skywalker0803r/7d1c5c3e8f11b6713a7994f08b62fbe9/raw/51992fcd154ea85b99f9332165fb5b4275139138/knn_nlp.py'\n",
        "exec(requests.get(url).text)\n",
        "data = pd.read_csv('/content/drive/MyDrive/NLP_dataset/Letter-of-Credit-Intelligent-Auxiliary-Semantic-Analysis-System/data/對應表/EXPNO對應表.csv')\n",
        "train_data = data['45A'].head(3).values.tolist()\n",
        "test_data = data['45A'].head(3).values.tolist()\n",
        "model = coresystem(train_data,str_max_len=1000)\n",
        "for i,j in zip(train_data,model.predict(test_data)):\n",
        "  assert i==j"
      ],
      "metadata": {
        "colab": {
          "base_uri": "https://localhost:8080/"
        },
        "id": "ighKdPARWhaY",
        "outputId": "eb2948a2-dda4-47a8-8382-ab59433c6c6c"
      },
      "execution_count": 2,
      "outputs": [
        {
          "output_type": "stream",
          "name": "stderr",
          "text": [
            "Some weights of the model checkpoint at distilbert-base-uncased were not used when initializing DistilBertForQuestionAnswering: ['vocab_transform.weight', 'vocab_layer_norm.weight', 'vocab_projector.bias', 'vocab_layer_norm.bias', 'vocab_transform.bias', 'vocab_projector.weight']\n",
            "- This IS expected if you are initializing DistilBertForQuestionAnswering from the checkpoint of a model trained on another task or with another architecture (e.g. initializing a BertForSequenceClassification model from a BertForPreTraining model).\n",
            "- This IS NOT expected if you are initializing DistilBertForQuestionAnswering from the checkpoint of a model that you expect to be exactly identical (initializing a BertForSequenceClassification model from a BertForSequenceClassification model).\n",
            "Some weights of DistilBertForQuestionAnswering were not initialized from the model checkpoint at distilbert-base-uncased and are newly initialized: ['qa_outputs.weight', 'qa_outputs.bias']\n",
            "You should probably TRAIN this model on a down-stream task to be able to use it for predictions and inference.\n"
          ]
        }
      ]
    },
    {
      "cell_type": "code",
      "source": [
        "model.predict(test_data)"
      ],
      "metadata": {
        "colab": {
          "base_uri": "https://localhost:8080/"
        },
        "id": "pCjfJ-CCXQhp",
        "outputId": "2900b3d1-45a1-49e7-9969-519bc98feacb"
      },
      "execution_count": 3,
      "outputs": [
        {
          "output_type": "execute_result",
          "data": {
            "text/plain": [
              "['MASS PVC RESIN, B-57QUANTITY 175 MT AT 1300 USD/MTAS PER PROFORMA INVOICE NO. A0B002-11DATED 10-12-2020..CIF PIPAVAV PORT, INDIA, INCOTERMS 2010',\n",
              " 'PHTHALIC ANHYDRIDE (PA)QUANTITY = 306 MT UNIT PRICE = 1205 USD/MTCIF JEDDAH SEAPORT KSAAS PER INCOTERMS 2020.',\n",
              " '+ COMMODITY: LLDPE TAISOX 3470+ QUANTITY: 32.0MT (2FCL/20FT)+ UNIT PRICE: USD1100.00/MT CIF HAIPHONG PORT,VIETNAM(INCOTERMS 2010).+ TOTAL AMOUNT:USD35,200.00+ COUNTRY OF ORIGIN: TAIWAN+ MAKER: FORMOSA PLASTICS CORPORATION+ PACKING: BY 25KGS NET PER BAG WITHOUT PALLET+ OTHER TERMS AND CONDITIONS AS PER CONTRACT NO.H9Q581 DATE 2020/12/14']"
            ]
          },
          "metadata": {},
          "execution_count": 3
        }
      ]
    },
    {
      "cell_type": "code",
      "source": [
        "train_data"
      ],
      "metadata": {
        "colab": {
          "base_uri": "https://localhost:8080/"
        },
        "id": "StlW91hBW51U",
        "outputId": "ef0d3c87-3763-4374-a88a-8aa3d3592009"
      },
      "execution_count": 4,
      "outputs": [
        {
          "output_type": "execute_result",
          "data": {
            "text/plain": [
              "['MASS PVC RESIN, B-57QUANTITY 175 MT AT 1300 USD/MTAS PER PROFORMA INVOICE NO. A0B002-11DATED 10-12-2020..CIF PIPAVAV PORT, INDIA, INCOTERMS 2010',\n",
              " 'PHTHALIC ANHYDRIDE (PA)QUANTITY = 306 MT UNIT PRICE = 1205 USD/MTCIF JEDDAH SEAPORT KSAAS PER INCOTERMS 2020.',\n",
              " '+ COMMODITY: LLDPE TAISOX 3470+ QUANTITY: 32.0MT (2FCL/20FT)+ UNIT PRICE: USD1100.00/MT CIF HAIPHONG PORT,VIETNAM(INCOTERMS 2010).+ TOTAL AMOUNT:USD35,200.00+ COUNTRY OF ORIGIN: TAIWAN+ MAKER: FORMOSA PLASTICS CORPORATION+ PACKING: BY 25KGS NET PER BAG WITHOUT PALLET+ OTHER TERMS AND CONDITIONS AS PER CONTRACT NO.H9Q581 DATE 2020/12/14']"
            ]
          },
          "metadata": {},
          "execution_count": 4
        }
      ]
    },
    {
      "cell_type": "code",
      "source": [
        ""
      ],
      "metadata": {
        "id": "wuIcVVW3a4Jb"
      },
      "execution_count": null,
      "outputs": []
    }
  ]
}