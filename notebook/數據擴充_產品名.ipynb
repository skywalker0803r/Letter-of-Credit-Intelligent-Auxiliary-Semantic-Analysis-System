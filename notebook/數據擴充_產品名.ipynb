{
 "cells": [
  {
   "cell_type": "code",
   "execution_count": 3,
   "source": [
    "import pandas as pd\r\n",
    "\r\n",
    "# 製作寶典\r\n",
    "df1 = pd.read_excel('../data/台塑企業_ 產品寶典20210303.xlsx',engine='openpyxl').iloc[:,:-1]\r\n",
    "df2 = pd.read_excel('../data/寶典.v3.台塑網.20210901.xlsx',engine='openpyxl')\r\n",
    "df2.columns = df1.columns\r\n",
    "df = df1.append(df2)\r\n",
    "df['品名'] = df['品名'].apply(lambda x:x.strip())\r\n",
    "val_df = pd.read_csv('../data/preprocess_for_SQUAD_產品.csv',index_col=0)[['string_X_train','Y_label','EXPNO','from']]\r\n",
    "寶典 = set([ i.strip() for i in df['品名'].values.tolist()] + [ i.strip() for i in val_df.loc[:,'Y_label'].values.tolist()])\r\n",
    "\r\n",
    "# 讀取no label data\r\n",
    "df = pd.read_csv('../submit/no_label_data.csv',index_col=0)\r\n",
    "\r\n",
    "# select 成功 label data\r\n",
    "df_label = df[df.predict.isin(寶典)]\r\n",
    "df_label = df_label.rename(columns={'predict':'Y_label'})\r\n",
    "\r\n",
    "# 起始結束位置標註 Y1 Y2\r\n",
    "def str2index(context,string):\r\n",
    "    ys = context.find(string)\r\n",
    "    ye = ys + len(string)\r\n",
    "    return ys,ye\r\n",
    "\r\n",
    "ys_lst,ye_lst = [],[]\r\n",
    "for i in range(len(df_label)):\r\n",
    "    ys,ye = str2index(df_label['string_X_train'].values[i],df_label['Y_label'].values[i])\r\n",
    "    ys_lst.append(ys),ye_lst.append(ye)\r\n",
    "    \r\n",
    "df_label['string_Y_1'] = ys_lst\r\n",
    "df_label['string_Y_2'] = ye_lst\r\n",
    "\r\n",
    "# df_label 是用bert inference出的的 no_label_data 用來做數據擴充\r\n",
    "print(df_label.shape)\r\n",
    "df_label.head()"
   ],
   "outputs": [
    {
     "output_type": "stream",
     "name": "stdout",
     "text": [
      "(614, 6)\n"
     ]
    },
    {
     "output_type": "execute_result",
     "data": {
      "text/html": [
       "<div>\n",
       "<style scoped>\n",
       "    .dataframe tbody tr th:only-of-type {\n",
       "        vertical-align: middle;\n",
       "    }\n",
       "\n",
       "    .dataframe tbody tr th {\n",
       "        vertical-align: top;\n",
       "    }\n",
       "\n",
       "    .dataframe thead th {\n",
       "        text-align: right;\n",
       "    }\n",
       "</style>\n",
       "<table border=\"1\" class=\"dataframe\">\n",
       "  <thead>\n",
       "    <tr style=\"text-align: right;\">\n",
       "      <th></th>\n",
       "      <th>string_X_train</th>\n",
       "      <th>Y_label</th>\n",
       "      <th>EXPNO</th>\n",
       "      <th>from</th>\n",
       "      <th>string_Y_1</th>\n",
       "      <th>string_Y_2</th>\n",
       "    </tr>\n",
       "  </thead>\n",
       "  <tbody>\n",
       "    <tr>\n",
       "      <th>1</th>\n",
       "      <td>17 MT  PVC COPOLYMER RESIN C15  AT USD 1470  P...</td>\n",
       "      <td>PVC COPOLYMER</td>\n",
       "      <td>NaN</td>\n",
       "      <td>20210103.xlsx</td>\n",
       "      <td>7</td>\n",
       "      <td>20</td>\n",
       "    </tr>\n",
       "    <tr>\n",
       "      <th>3</th>\n",
       "      <td>MASS PVC RESIN B57QUANTITY 175 MT AT 1300 USDM...</td>\n",
       "      <td>PVC RESIN</td>\n",
       "      <td>11</td>\n",
       "      <td>20210103.xlsx</td>\n",
       "      <td>5</td>\n",
       "      <td>14</td>\n",
       "    </tr>\n",
       "    <tr>\n",
       "      <th>20</th>\n",
       "      <td>FOR PRESENTATION OF FOLLOWING CONFORM DOCUMENT...</td>\n",
       "      <td>SAP</td>\n",
       "      <td>NaN</td>\n",
       "      <td>20210103.xlsx</td>\n",
       "      <td>93</td>\n",
       "      <td>96</td>\n",
       "    </tr>\n",
       "    <tr>\n",
       "      <th>67</th>\n",
       "      <td>54 MT OF PVC RESIN SUSPENSION S65DAT USD 1270 ...</td>\n",
       "      <td>PVC RESIN</td>\n",
       "      <td>11</td>\n",
       "      <td>20210103.xlsx</td>\n",
       "      <td>9</td>\n",
       "      <td>18</td>\n",
       "    </tr>\n",
       "    <tr>\n",
       "      <th>92</th>\n",
       "      <td>5250 MTS PVC RESIN B57 AT USD 1320 PER MT AS P...</td>\n",
       "      <td>PVC RESIN</td>\n",
       "      <td>NaN</td>\n",
       "      <td>20210103.xlsx</td>\n",
       "      <td>9</td>\n",
       "      <td>18</td>\n",
       "    </tr>\n",
       "  </tbody>\n",
       "</table>\n",
       "</div>"
      ],
      "text/plain": [
       "                                       string_X_train        Y_label EXPNO  \\\n",
       "1   17 MT  PVC COPOLYMER RESIN C15  AT USD 1470  P...  PVC COPOLYMER   NaN   \n",
       "3   MASS PVC RESIN B57QUANTITY 175 MT AT 1300 USDM...      PVC RESIN    11   \n",
       "20  FOR PRESENTATION OF FOLLOWING CONFORM DOCUMENT...            SAP   NaN   \n",
       "67  54 MT OF PVC RESIN SUSPENSION S65DAT USD 1270 ...      PVC RESIN    11   \n",
       "92  5250 MTS PVC RESIN B57 AT USD 1320 PER MT AS P...      PVC RESIN   NaN   \n",
       "\n",
       "             from  string_Y_1  string_Y_2  \n",
       "1   20210103.xlsx           7          20  \n",
       "3   20210103.xlsx           5          14  \n",
       "20  20210103.xlsx          93          96  \n",
       "67  20210103.xlsx           9          18  \n",
       "92  20210103.xlsx           9          18  "
      ]
     },
     "metadata": {},
     "execution_count": 3
    }
   ],
   "metadata": {}
  },
  {
   "cell_type": "code",
   "execution_count": 4,
   "source": [
    "df['匹配成功與否'] = 'no'\r\n",
    "df.loc[df_label.index,'匹配成功與否'] = 'yes'\r\n",
    "df.head(10)"
   ],
   "outputs": [
    {
     "output_type": "execute_result",
     "data": {
      "text/html": [
       "<div>\n",
       "<style scoped>\n",
       "    .dataframe tbody tr th:only-of-type {\n",
       "        vertical-align: middle;\n",
       "    }\n",
       "\n",
       "    .dataframe tbody tr th {\n",
       "        vertical-align: top;\n",
       "    }\n",
       "\n",
       "    .dataframe thead th {\n",
       "        text-align: right;\n",
       "    }\n",
       "</style>\n",
       "<table border=\"1\" class=\"dataframe\">\n",
       "  <thead>\n",
       "    <tr style=\"text-align: right;\">\n",
       "      <th></th>\n",
       "      <th>string_X_train</th>\n",
       "      <th>predict</th>\n",
       "      <th>EXPNO</th>\n",
       "      <th>from</th>\n",
       "      <th>匹配成功與否</th>\n",
       "    </tr>\n",
       "  </thead>\n",
       "  <tbody>\n",
       "    <tr>\n",
       "      <th>1</th>\n",
       "      <td>17 MT  PVC COPOLYMER RESIN C15  AT USD 1470  P...</td>\n",
       "      <td>PVC COPOLYMER</td>\n",
       "      <td>NaN</td>\n",
       "      <td>20210103.xlsx</td>\n",
       "      <td>yes</td>\n",
       "    </tr>\n",
       "    <tr>\n",
       "      <th>3</th>\n",
       "      <td>MASS PVC RESIN B57QUANTITY 175 MT AT 1300 USDM...</td>\n",
       "      <td>PVC RESIN</td>\n",
       "      <td>11</td>\n",
       "      <td>20210103.xlsx</td>\n",
       "      <td>yes</td>\n",
       "    </tr>\n",
       "    <tr>\n",
       "      <th>17</th>\n",
       "      <td>TERM OF SALE CIF MUNDRA SEAPORT INDIA17 MT OF ...</td>\n",
       "      <td>PVC COPOLYMER RESINC1517</td>\n",
       "      <td>NaN</td>\n",
       "      <td>20210103.xlsx</td>\n",
       "      <td>no</td>\n",
       "    </tr>\n",
       "    <tr>\n",
       "      <th>20</th>\n",
       "      <td>FOR PRESENTATION OF FOLLOWING CONFORM DOCUMENT...</td>\n",
       "      <td>SAP</td>\n",
       "      <td>NaN</td>\n",
       "      <td>20210103.xlsx</td>\n",
       "      <td>yes</td>\n",
       "    </tr>\n",
       "    <tr>\n",
       "      <th>22</th>\n",
       "      <td>300000 BBLS 10PCT OF GASOIL 10PPMUNIT PRICE TH...</td>\n",
       "      <td>BBLS 10PCT</td>\n",
       "      <td>61</td>\n",
       "      <td>20210103.xlsx</td>\n",
       "      <td>no</td>\n",
       "    </tr>\n",
       "    <tr>\n",
       "      <th>23</th>\n",
       "      <td>300000 BBLS 10PCT OF GASOIL 10PPMUNIT PRICE TH...</td>\n",
       "      <td>BBLS 10PCT</td>\n",
       "      <td>61</td>\n",
       "      <td>20210103.xlsx</td>\n",
       "      <td>no</td>\n",
       "    </tr>\n",
       "    <tr>\n",
       "      <th>24</th>\n",
       "      <td>300000 BBLS 10PCT OF GASOIL 10PPMUNIT PRICE TH...</td>\n",
       "      <td>BBLS 10PCT</td>\n",
       "      <td>61</td>\n",
       "      <td>20210103.xlsx</td>\n",
       "      <td>no</td>\n",
       "    </tr>\n",
       "    <tr>\n",
       "      <th>30</th>\n",
       "      <td>300000 BBLS 10PCT OF GASOIL 10PPMUNIT PRICE TH...</td>\n",
       "      <td>BBLS 10PCT OF GASOIL</td>\n",
       "      <td>61</td>\n",
       "      <td>20210103.xlsx</td>\n",
       "      <td>no</td>\n",
       "    </tr>\n",
       "    <tr>\n",
       "      <th>52</th>\n",
       "      <td>NO  COMMODITY    QUANTITY     UNIT PRICE    AM...</td>\n",
       "      <td>EVA7360M</td>\n",
       "      <td>18</td>\n",
       "      <td>20210103.xlsx</td>\n",
       "      <td>no</td>\n",
       "    </tr>\n",
       "    <tr>\n",
       "      <th>53</th>\n",
       "      <td>NO  COMMODITY    QUANTITY     UNIT PRICE    AM...</td>\n",
       "      <td>EVA7360M</td>\n",
       "      <td>18</td>\n",
       "      <td>20210103.xlsx</td>\n",
       "      <td>no</td>\n",
       "    </tr>\n",
       "  </tbody>\n",
       "</table>\n",
       "</div>"
      ],
      "text/plain": [
       "                                       string_X_train  \\\n",
       "1   17 MT  PVC COPOLYMER RESIN C15  AT USD 1470  P...   \n",
       "3   MASS PVC RESIN B57QUANTITY 175 MT AT 1300 USDM...   \n",
       "17  TERM OF SALE CIF MUNDRA SEAPORT INDIA17 MT OF ...   \n",
       "20  FOR PRESENTATION OF FOLLOWING CONFORM DOCUMENT...   \n",
       "22  300000 BBLS 10PCT OF GASOIL 10PPMUNIT PRICE TH...   \n",
       "23  300000 BBLS 10PCT OF GASOIL 10PPMUNIT PRICE TH...   \n",
       "24  300000 BBLS 10PCT OF GASOIL 10PPMUNIT PRICE TH...   \n",
       "30  300000 BBLS 10PCT OF GASOIL 10PPMUNIT PRICE TH...   \n",
       "52  NO  COMMODITY    QUANTITY     UNIT PRICE    AM...   \n",
       "53  NO  COMMODITY    QUANTITY     UNIT PRICE    AM...   \n",
       "\n",
       "                     predict EXPNO           from 匹配成功與否  \n",
       "1              PVC COPOLYMER   NaN  20210103.xlsx    yes  \n",
       "3                  PVC RESIN    11  20210103.xlsx    yes  \n",
       "17  PVC COPOLYMER RESINC1517   NaN  20210103.xlsx     no  \n",
       "20                       SAP   NaN  20210103.xlsx    yes  \n",
       "22                BBLS 10PCT    61  20210103.xlsx     no  \n",
       "23                BBLS 10PCT    61  20210103.xlsx     no  \n",
       "24                BBLS 10PCT    61  20210103.xlsx     no  \n",
       "30      BBLS 10PCT OF GASOIL    61  20210103.xlsx     no  \n",
       "52                  EVA7360M    18  20210103.xlsx     no  \n",
       "53                  EVA7360M    18  20210103.xlsx     no  "
      ]
     },
     "metadata": {},
     "execution_count": 4
    }
   ],
   "metadata": {}
  },
  {
   "cell_type": "code",
   "execution_count": 5,
   "source": [
    "df.to_csv('submit_no_label_data.csv')"
   ],
   "outputs": [],
   "metadata": {}
  },
  {
   "cell_type": "code",
   "execution_count": 4,
   "source": [
    "import requests\r\n",
    "import gc\r\n",
    "import pandas as pd\r\n",
    "import requests\r\n",
    "from sklearn.model_selection import train_test_split\r\n",
    "gc.collect()\r\n",
    "\r\n",
    "df = pd.read_csv('../data/preprocess_for_SQUAD_產品.csv',index_col=0)\r\n",
    "train_df, val_df = train_test_split(df, test_size=0.2, random_state=42)\r\n",
    "url = 'https://gist.githubusercontent.com/skywalker0803r/1e1d0d25999094bf8ec23dc143e02478/raw/2b751c959a1b48a14e627eaf956f9ae3df821f46/bert_train_pipeline.py'\r\n",
    "exec(requests.get(url).text)\r\n",
    "qustion = 'What is the product name?'\r\n",
    "model_path = '../models/Product_Data_SQuAD_model_product.pt'\r\n",
    "\r\n",
    "val_df = val_df.append(df_label) # 數據擴充(加到驗證資料)\r\n",
    "\r\n",
    "print(train_df.shape,val_df.shape)\r\n",
    "\r\n",
    "res,table = bert_train_pipeline(train_df,val_df,qustion,model_path)"
   ],
   "outputs": [
    {
     "output_type": "stream",
     "name": "stderr",
     "text": [
      "Global seed set to 42\n"
     ]
    },
    {
     "output_type": "stream",
     "name": "stdout",
     "text": [
      "(8960, 6) (2854, 6)\n"
     ]
    },
    {
     "output_type": "stream",
     "name": "stderr",
     "text": [
      "Some weights of the model checkpoint at distilbert-base-uncased were not used when initializing DistilBertForQuestionAnswering: ['vocab_layer_norm.bias', 'vocab_transform.weight', 'vocab_layer_norm.weight', 'vocab_projector.weight', 'vocab_projector.bias', 'vocab_transform.bias']\n",
      "- This IS expected if you are initializing DistilBertForQuestionAnswering from the checkpoint of a model trained on another task or with another architecture (e.g. initializing a BertForSequenceClassification model from a BertForPreTraining model).\n",
      "- This IS NOT expected if you are initializing DistilBertForQuestionAnswering from the checkpoint of a model that you expect to be exactly identical (initializing a BertForSequenceClassification model from a BertForSequenceClassification model).\n",
      "Some weights of DistilBertForQuestionAnswering were not initialized from the model checkpoint at distilbert-base-uncased and are newly initialized: ['qa_outputs.bias', 'qa_outputs.weight']\n",
      "You should probably TRAIN this model on a down-stream task to be able to use it for predictions and inference.\n"
     ]
    },
    {
     "output_type": "display_data",
     "data": {
      "application/vnd.jupyter.widget-view+json": {
       "version_major": 2,
       "version_minor": 0,
       "model_id": "826a5ac82957404b91d225dd5c3c87c2"
      },
      "text/plain": [
       "HBox(children=(HTML(value=''), FloatProgress(value=0.0, max=3.0), HTML(value='')))"
      ]
     },
     "metadata": {}
    },
    {
     "output_type": "display_data",
     "data": {
      "application/vnd.jupyter.widget-view+json": {
       "version_major": 2,
       "version_minor": 0,
       "model_id": "7f0cd20ea7b94bd9825e504538df8c38"
      },
      "text/plain": [
       "HBox(children=(HTML(value=''), FloatProgress(value=0.0, max=1120.0), HTML(value='')))"
      ]
     },
     "metadata": {}
    },
    {
     "output_type": "stream",
     "name": "stdout",
     "text": [
      "\n"
     ]
    },
    {
     "output_type": "display_data",
     "data": {
      "application/vnd.jupyter.widget-view+json": {
       "version_major": 2,
       "version_minor": 0,
       "model_id": "d51c58c566f6413eb05c239eb0ab618a"
      },
      "text/plain": [
       "HBox(children=(HTML(value=''), FloatProgress(value=0.0, max=357.0), HTML(value='')))"
      ]
     },
     "metadata": {}
    },
    {
     "output_type": "stream",
     "name": "stdout",
     "text": [
      "\n",
      "epoch:0 train_loss:0.3198707189608208 val_loss:0.3432427639945468\n",
      "save best_model now_val_best_loss is:0.3432427639945468\n"
     ]
    },
    {
     "output_type": "display_data",
     "data": {
      "application/vnd.jupyter.widget-view+json": {
       "version_major": 2,
       "version_minor": 0,
       "model_id": "bbff49bbe15848e8a673744cb80d04ef"
      },
      "text/plain": [
       "HBox(children=(HTML(value=''), FloatProgress(value=0.0, max=1120.0), HTML(value='')))"
      ]
     },
     "metadata": {}
    },
    {
     "output_type": "stream",
     "name": "stdout",
     "text": [
      "\n"
     ]
    },
    {
     "output_type": "display_data",
     "data": {
      "application/vnd.jupyter.widget-view+json": {
       "version_major": 2,
       "version_minor": 0,
       "model_id": "9ba5348673934b6eb482726822c605ac"
      },
      "text/plain": [
       "HBox(children=(HTML(value=''), FloatProgress(value=0.0, max=357.0), HTML(value='')))"
      ]
     },
     "metadata": {}
    },
    {
     "output_type": "stream",
     "name": "stdout",
     "text": [
      "\n",
      "epoch:1 train_loss:0.1291514887763682 val_loss:0.8356639058609371\n"
     ]
    },
    {
     "output_type": "display_data",
     "data": {
      "application/vnd.jupyter.widget-view+json": {
       "version_major": 2,
       "version_minor": 0,
       "model_id": "9a88951273a84354adf53c5204890b3d"
      },
      "text/plain": [
       "HBox(children=(HTML(value=''), FloatProgress(value=0.0, max=1120.0), HTML(value='')))"
      ]
     },
     "metadata": {}
    },
    {
     "output_type": "stream",
     "name": "stdout",
     "text": [
      "\n"
     ]
    },
    {
     "output_type": "display_data",
     "data": {
      "application/vnd.jupyter.widget-view+json": {
       "version_major": 2,
       "version_minor": 0,
       "model_id": "f1d34fa3146b4067b0ed31595800b0a6"
      },
      "text/plain": [
       "HBox(children=(HTML(value=''), FloatProgress(value=0.0, max=357.0), HTML(value='')))"
      ]
     },
     "metadata": {}
    },
    {
     "output_type": "stream",
     "name": "stdout",
     "text": [
      "\n",
      "epoch:2 train_loss:0.08935910925436741 val_loss:0.46239244658335765\n",
      "\n"
     ]
    },
    {
     "output_type": "display_data",
     "data": {
      "image/png": "[encoded data removed]",
      "text/plain": [
       "<Figure size 432x288 with 1 Axes>"
      ]
     },
     "metadata": {
      "needs_background": "light"
     }
    },
    {
     "output_type": "stream",
     "name": "stdout",
     "text": [
      "best_model is saved!\n"
     ]
    },
    {
     "output_type": "stream",
     "name": "stderr",
     "text": [
      "Some weights of the model checkpoint at distilbert-base-uncased were not used when initializing DistilBertForQuestionAnswering: ['vocab_layer_norm.bias', 'vocab_transform.weight', 'vocab_layer_norm.weight', 'vocab_projector.weight', 'vocab_projector.bias', 'vocab_transform.bias']\n",
      "- This IS expected if you are initializing DistilBertForQuestionAnswering from the checkpoint of a model trained on another task or with another architecture (e.g. initializing a BertForSequenceClassification model from a BertForPreTraining model).\n",
      "- This IS NOT expected if you are initializing DistilBertForQuestionAnswering from the checkpoint of a model that you expect to be exactly identical (initializing a BertForSequenceClassification model from a BertForSequenceClassification model).\n",
      "Some weights of DistilBertForQuestionAnswering were not initialized from the model checkpoint at distilbert-base-uncased and are newly initialized: ['qa_outputs.bias', 'qa_outputs.weight']\n",
      "You should probably TRAIN this model on a down-stream task to be able to use it for predictions and inference.\n"
     ]
    },
    {
     "output_type": "display_data",
     "data": {
      "application/vnd.jupyter.widget-view+json": {
       "version_major": 2,
       "version_minor": 0,
       "model_id": "84990fbbfea84b569c7753e4202ccbc3"
      },
      "text/plain": [
       "HBox(children=(HTML(value=''), FloatProgress(value=0.0, max=2854.0), HTML(value='')))"
      ]
     },
     "metadata": {}
    },
    {
     "output_type": "stream",
     "name": "stdout",
     "text": [
      "\n"
     ]
    }
   ],
   "metadata": {}
  },
  {
   "cell_type": "code",
   "execution_count": 7,
   "source": [
    "res"
   ],
   "outputs": [
    {
     "output_type": "execute_result",
     "data": {
      "text/html": [
       "<div>\n",
       "<style scoped>\n",
       "    .dataframe tbody tr th:only-of-type {\n",
       "        vertical-align: middle;\n",
       "    }\n",
       "\n",
       "    .dataframe tbody tr th {\n",
       "        vertical-align: top;\n",
       "    }\n",
       "\n",
       "    .dataframe thead th {\n",
       "        text-align: right;\n",
       "    }\n",
       "</style>\n",
       "<table border=\"1\" class=\"dataframe\">\n",
       "  <thead>\n",
       "    <tr style=\"text-align: right;\">\n",
       "      <th></th>\n",
       "      <th>jaccard</th>\n",
       "      <th>acc(1.0)</th>\n",
       "      <th>acc(0.75)</th>\n",
       "      <th>acc(0.5)</th>\n",
       "      <th>acc(0.25)</th>\n",
       "    </tr>\n",
       "  </thead>\n",
       "  <tbody>\n",
       "    <tr>\n",
       "      <th>0</th>\n",
       "      <td>0.94941</td>\n",
       "      <td>0.923616</td>\n",
       "      <td>0.928171</td>\n",
       "      <td>0.958304</td>\n",
       "      <td>0.978626</td>\n",
       "    </tr>\n",
       "  </tbody>\n",
       "</table>\n",
       "</div>"
      ],
      "text/plain": [
       "   jaccard  acc(1.0)  acc(0.75)  acc(0.5)  acc(0.25)\n",
       "0  0.94941  0.923616   0.928171  0.958304   0.978626"
      ]
     },
     "metadata": {},
     "execution_count": 7
    }
   ],
   "metadata": {}
  },
  {
   "cell_type": "code",
   "execution_count": 8,
   "source": [
    "table"
   ],
   "outputs": [
    {
     "output_type": "execute_result",
     "data": {
      "text/html": [
       "<div>\n",
       "<style scoped>\n",
       "    .dataframe tbody tr th:only-of-type {\n",
       "        vertical-align: middle;\n",
       "    }\n",
       "\n",
       "    .dataframe tbody tr th {\n",
       "        vertical-align: top;\n",
       "    }\n",
       "\n",
       "    .dataframe thead th {\n",
       "        text-align: right;\n",
       "    }\n",
       "</style>\n",
       "<table border=\"1\" class=\"dataframe\">\n",
       "  <thead>\n",
       "    <tr style=\"text-align: right;\">\n",
       "      <th></th>\n",
       "      <th>Y_label</th>\n",
       "      <th>predict</th>\n",
       "      <th>是否全對</th>\n",
       "    </tr>\n",
       "  </thead>\n",
       "  <tbody>\n",
       "    <tr>\n",
       "      <th>4499</th>\n",
       "      <td>METHYL METHACRYLATE</td>\n",
       "      <td>METHYL METHACRYLATE</td>\n",
       "      <td>Yes</td>\n",
       "    </tr>\n",
       "    <tr>\n",
       "      <th>3653</th>\n",
       "      <td>GRADE</td>\n",
       "      <td>GRADE</td>\n",
       "      <td>Yes</td>\n",
       "    </tr>\n",
       "    <tr>\n",
       "      <th>4883</th>\n",
       "      <td>AG12A0</td>\n",
       "      <td>AG12A0</td>\n",
       "      <td>Yes</td>\n",
       "    </tr>\n",
       "    <tr>\n",
       "      <th>7498</th>\n",
       "      <td>AG12A0</td>\n",
       "      <td>AG12A0</td>\n",
       "      <td>Yes</td>\n",
       "    </tr>\n",
       "    <tr>\n",
       "      <th>17941</th>\n",
       "      <td>GRADE</td>\n",
       "      <td>GRADE</td>\n",
       "      <td>Yes</td>\n",
       "    </tr>\n",
       "    <tr>\n",
       "      <th>...</th>\n",
       "      <td>...</td>\n",
       "      <td>...</td>\n",
       "      <td>...</td>\n",
       "    </tr>\n",
       "    <tr>\n",
       "      <th>20582</th>\n",
       "      <td>PLASTIC RESIN</td>\n",
       "      <td>PLASTIC RESIN</td>\n",
       "      <td>Yes</td>\n",
       "    </tr>\n",
       "    <tr>\n",
       "      <th>20653</th>\n",
       "      <td>PVC RESIN</td>\n",
       "      <td>PVC RESIN</td>\n",
       "      <td>Yes</td>\n",
       "    </tr>\n",
       "    <tr>\n",
       "      <th>20677</th>\n",
       "      <td>PVC RESIN</td>\n",
       "      <td>PVC RESIN SUSPENSIONFORMOLON BRAND TAIWAN ORIG...</td>\n",
       "      <td>No</td>\n",
       "    </tr>\n",
       "    <tr>\n",
       "      <th>20693</th>\n",
       "      <td>ACRYLATE</td>\n",
       "      <td>ACRYLATE</td>\n",
       "      <td>Yes</td>\n",
       "    </tr>\n",
       "    <tr>\n",
       "      <th>20721</th>\n",
       "      <td>ACRYLATE</td>\n",
       "      <td>ACRYLATE</td>\n",
       "      <td>Yes</td>\n",
       "    </tr>\n",
       "  </tbody>\n",
       "</table>\n",
       "<p>2854 rows × 3 columns</p>\n",
       "</div>"
      ],
      "text/plain": [
       "                   Y_label                                            predict  \\\n",
       "4499   METHYL METHACRYLATE                                METHYL METHACRYLATE   \n",
       "3653                 GRADE                                              GRADE   \n",
       "4883                AG12A0                                             AG12A0   \n",
       "7498                AG12A0                                             AG12A0   \n",
       "17941                GRADE                                              GRADE   \n",
       "...                    ...                                                ...   \n",
       "20582        PLASTIC RESIN                                      PLASTIC RESIN   \n",
       "20653            PVC RESIN                                          PVC RESIN   \n",
       "20677            PVC RESIN  PVC RESIN SUSPENSIONFORMOLON BRAND TAIWAN ORIG...   \n",
       "20693             ACRYLATE                                           ACRYLATE   \n",
       "20721             ACRYLATE                                           ACRYLATE   \n",
       "\n",
       "      是否全對  \n",
       "4499   Yes  \n",
       "3653   Yes  \n",
       "4883   Yes  \n",
       "7498   Yes  \n",
       "17941  Yes  \n",
       "...    ...  \n",
       "20582  Yes  \n",
       "20653  Yes  \n",
       "20677   No  \n",
       "20693  Yes  \n",
       "20721  Yes  \n",
       "\n",
       "[2854 rows x 3 columns]"
      ]
     },
     "metadata": {},
     "execution_count": 8
    }
   ],
   "metadata": {}
  },
  {
   "cell_type": "code",
   "execution_count": null,
   "source": [],
   "outputs": [],
   "metadata": {}
  }
 ],
 "metadata": {
  "orig_nbformat": 4,
  "language_info": {
   "name": "python",
   "version": "3.8.5",
   "mimetype": "text/x-python",
   "codemirror_mode": {
    "name": "ipython",
    "version": 3
   },
   "pygments_lexer": "ipython3",
   "nbconvert_exporter": "python",
   "file_extension": ".py"
  },
  "kernelspec": {
   "name": "python3",
   "display_name": "Python 3.8.5 64-bit ('base': conda)"
  },
  "interpreter": {
   "hash": "2ccee5cc862501c1aad1cf19888c2a2eca4026b72d187db43d5e889cbdc6ee97"
  }
 },
 "nbformat": 4,
 "nbformat_minor": 2
}