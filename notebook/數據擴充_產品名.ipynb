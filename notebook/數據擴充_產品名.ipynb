{
 "cells": [
  {
   "cell_type": "code",
   "execution_count": 3,
   "source": [
    "import pandas as pd\r\n",
    "\r\n",
    "# 製作寶典\r\n",
    "df1 = pd.read_excel('../data/台塑企業_ 產品寶典20210303.xlsx',engine='openpyxl').iloc[:,:-1]\r\n",
    "df2 = pd.read_excel('../data/寶典.v3.台塑網.20210901.xlsx',engine='openpyxl')\r\n",
    "df2.columns = df1.columns\r\n",
    "df = df1.append(df2)\r\n",
    "df['品名'] = df['品名'].apply(lambda x:x.strip())\r\n",
    "val_df = pd.read_csv('../data/preprocess_for_SQUAD_產品.csv',index_col=0)[['string_X_train','Y_label','EXPNO','from']]\r\n",
    "寶典 = set(df['品名'].values.tolist() + val_df.loc[:,'Y_label'].values.tolist())\r\n",
    "\r\n",
    "# 讀取no label data\r\n",
    "df = pd.read_csv('../submit/no_label_data.csv',index_col=0)\r\n",
    "\r\n",
    "# select 成功 label data\r\n",
    "df_label = df[df.predict.isin(寶典)]\r\n",
    "df_label = df_label.rename(columns={'predict':'Y_label'})\r\n",
    "\r\n",
    "# 起始結束位置標註 Y1 Y2\r\n",
    "def str2index(context,string):\r\n",
    "    ys = context.find(string)\r\n",
    "    ye = ys + len(string)\r\n",
    "    return ys,ye\r\n",
    "\r\n",
    "ys_lst,ye_lst = [],[]\r\n",
    "for i in range(len(df_label)):\r\n",
    "    ys,ye = str2index(df_label['string_X_train'].values[i],df_label['Y_label'].values[i])\r\n",
    "    ys_lst.append(ys),ye_lst.append(ye)\r\n",
    "    \r\n",
    "df_label['string_Y_1'] = ys_lst\r\n",
    "df_label['string_Y_2'] = ye_lst\r\n",
    "\r\n",
    "# df_label 是用bert inference出的的 no_label_data 用來做數據擴充\r\n",
    "print(df_label.shape)\r\n",
    "df_label.head()"
   ],
   "outputs": [
    {
     "output_type": "stream",
     "name": "stdout",
     "text": [
      "(614, 6)\n"
     ]
    },
    {
     "output_type": "execute_result",
     "data": {
      "text/html": [
       "<div>\n",
       "<style scoped>\n",
       "    .dataframe tbody tr th:only-of-type {\n",
       "        vertical-align: middle;\n",
       "    }\n",
       "\n",
       "    .dataframe tbody tr th {\n",
       "        vertical-align: top;\n",
       "    }\n",
       "\n",
       "    .dataframe thead th {\n",
       "        text-align: right;\n",
       "    }\n",
       "</style>\n",
       "<table border=\"1\" class=\"dataframe\">\n",
       "  <thead>\n",
       "    <tr style=\"text-align: right;\">\n",
       "      <th></th>\n",
       "      <th>string_X_train</th>\n",
       "      <th>Y_label</th>\n",
       "      <th>EXPNO</th>\n",
       "      <th>from</th>\n",
       "      <th>string_Y_1</th>\n",
       "      <th>string_Y_2</th>\n",
       "    </tr>\n",
       "  </thead>\n",
       "  <tbody>\n",
       "    <tr>\n",
       "      <th>1</th>\n",
       "      <td>17 MT  PVC COPOLYMER RESIN C15  AT USD 1470  P...</td>\n",
       "      <td>PVC COPOLYMER</td>\n",
       "      <td>NaN</td>\n",
       "      <td>20210103.xlsx</td>\n",
       "      <td>7</td>\n",
       "      <td>20</td>\n",
       "    </tr>\n",
       "    <tr>\n",
       "      <th>3</th>\n",
       "      <td>MASS PVC RESIN B57QUANTITY 175 MT AT 1300 USDM...</td>\n",
       "      <td>PVC RESIN</td>\n",
       "      <td>11</td>\n",
       "      <td>20210103.xlsx</td>\n",
       "      <td>5</td>\n",
       "      <td>14</td>\n",
       "    </tr>\n",
       "    <tr>\n",
       "      <th>20</th>\n",
       "      <td>FOR PRESENTATION OF FOLLOWING CONFORM DOCUMENT...</td>\n",
       "      <td>SAP</td>\n",
       "      <td>NaN</td>\n",
       "      <td>20210103.xlsx</td>\n",
       "      <td>93</td>\n",
       "      <td>96</td>\n",
       "    </tr>\n",
       "    <tr>\n",
       "      <th>67</th>\n",
       "      <td>54 MT OF PVC RESIN SUSPENSION S65DAT USD 1270 ...</td>\n",
       "      <td>PVC RESIN</td>\n",
       "      <td>11</td>\n",
       "      <td>20210103.xlsx</td>\n",
       "      <td>9</td>\n",
       "      <td>18</td>\n",
       "    </tr>\n",
       "    <tr>\n",
       "      <th>92</th>\n",
       "      <td>5250 MTS PVC RESIN B57 AT USD 1320 PER MT AS P...</td>\n",
       "      <td>PVC RESIN</td>\n",
       "      <td>NaN</td>\n",
       "      <td>20210103.xlsx</td>\n",
       "      <td>9</td>\n",
       "      <td>18</td>\n",
       "    </tr>\n",
       "  </tbody>\n",
       "</table>\n",
       "</div>"
      ],
      "text/plain": [
       "                                       string_X_train        Y_label EXPNO  \\\n",
       "1   17 MT  PVC COPOLYMER RESIN C15  AT USD 1470  P...  PVC COPOLYMER   NaN   \n",
       "3   MASS PVC RESIN B57QUANTITY 175 MT AT 1300 USDM...      PVC RESIN    11   \n",
       "20  FOR PRESENTATION OF FOLLOWING CONFORM DOCUMENT...            SAP   NaN   \n",
       "67  54 MT OF PVC RESIN SUSPENSION S65DAT USD 1270 ...      PVC RESIN    11   \n",
       "92  5250 MTS PVC RESIN B57 AT USD 1320 PER MT AS P...      PVC RESIN   NaN   \n",
       "\n",
       "             from  string_Y_1  string_Y_2  \n",
       "1   20210103.xlsx           7          20  \n",
       "3   20210103.xlsx           5          14  \n",
       "20  20210103.xlsx          93          96  \n",
       "67  20210103.xlsx           9          18  \n",
       "92  20210103.xlsx           9          18  "
      ]
     },
     "metadata": {},
     "execution_count": 3
    }
   ],
   "metadata": {}
  },
  {
   "cell_type": "code",
   "execution_count": 4,
   "source": [
    "import requests\r\n",
    "import gc\r\n",
    "import pandas as pd\r\n",
    "import requests\r\n",
    "from sklearn.model_selection import train_test_split\r\n",
    "gc.collect()\r\n",
    "\r\n",
    "df = pd.read_csv('../data/preprocess_for_SQUAD_產品.csv',index_col=0)\r\n",
    "train_df, val_df = train_test_split(df, test_size=0.2, random_state=42)\r\n",
    "url = 'https://gist.githubusercontent.com/skywalker0803r/1e1d0d25999094bf8ec23dc143e02478/raw/2b751c959a1b48a14e627eaf956f9ae3df821f46/bert_train_pipeline.py'\r\n",
    "exec(requests.get(url).text)\r\n",
    "qustion = 'What is the product name?'\r\n",
    "model_path = '../models/Product_Data_SQuAD_model_product.pt'\r\n",
    "train_df = train_df.append(df_label) # 數據擴充\r\n",
    "print(train_df.shape,val_df.shape)\r\n",
    "res,table = bert_train_pipeline(train_df,val_df,qustion,model_path)"
   ],
   "outputs": [
    {
     "output_type": "stream",
     "name": "stderr",
     "text": [
      "Global seed set to 42\n"
     ]
    },
    {
     "output_type": "stream",
     "name": "stdout",
     "text": [
      "(9574, 6) (2240, 6)\n"
     ]
    },
    {
     "output_type": "stream",
     "name": "stderr",
     "text": [
      "Some weights of the model checkpoint at distilbert-base-uncased were not used when initializing DistilBertForQuestionAnswering: ['vocab_projector.bias', 'vocab_layer_norm.weight', 'vocab_projector.weight', 'vocab_transform.bias', 'vocab_transform.weight', 'vocab_layer_norm.bias']\n",
      "- This IS expected if you are initializing DistilBertForQuestionAnswering from the checkpoint of a model trained on another task or with another architecture (e.g. initializing a BertForSequenceClassification model from a BertForPreTraining model).\n",
      "- This IS NOT expected if you are initializing DistilBertForQuestionAnswering from the checkpoint of a model that you expect to be exactly identical (initializing a BertForSequenceClassification model from a BertForSequenceClassification model).\n",
      "Some weights of DistilBertForQuestionAnswering were not initialized from the model checkpoint at distilbert-base-uncased and are newly initialized: ['qa_outputs.weight', 'qa_outputs.bias']\n",
      "You should probably TRAIN this model on a down-stream task to be able to use it for predictions and inference.\n"
     ]
    },
    {
     "output_type": "display_data",
     "data": {
      "application/vnd.jupyter.widget-view+json": {
       "version_major": 2,
       "version_minor": 0,
       "model_id": "f229af83f2af4396be7f9bd7fdb333ab"
      },
      "text/plain": [
       "HBox(children=(HTML(value=''), FloatProgress(value=0.0, max=3.0), HTML(value='')))"
      ]
     },
     "metadata": {}
    },
    {
     "output_type": "display_data",
     "data": {
      "application/vnd.jupyter.widget-view+json": {
       "version_major": 2,
       "version_minor": 0,
       "model_id": "c26822c0560342ed8a0016e800f2d622"
      },
      "text/plain": [
       "HBox(children=(HTML(value=''), FloatProgress(value=0.0, max=1197.0), HTML(value='')))"
      ]
     },
     "metadata": {}
    },
    {
     "output_type": "stream",
     "name": "stdout",
     "text": [
      "\n"
     ]
    },
    {
     "output_type": "display_data",
     "data": {
      "application/vnd.jupyter.widget-view+json": {
       "version_major": 2,
       "version_minor": 0,
       "model_id": "7754a44ee0bc42d18111aaccabc5cf3e"
      },
      "text/plain": [
       "HBox(children=(HTML(value=''), FloatProgress(value=0.0, max=280.0), HTML(value='')))"
      ]
     },
     "metadata": {}
    },
    {
     "output_type": "stream",
     "name": "stdout",
     "text": [
      "\n",
      "epoch:0 train_loss:0.32646479002847856 val_loss:0.5524132435467081\n",
      "save best_model now_val_best_loss is:0.5524132435467081\n"
     ]
    },
    {
     "output_type": "display_data",
     "data": {
      "application/vnd.jupyter.widget-view+json": {
       "version_major": 2,
       "version_minor": 0,
       "model_id": "809c6c63845a47f3a75a93b3b22ab5cd"
      },
      "text/plain": [
       "HBox(children=(HTML(value=''), FloatProgress(value=0.0, max=1197.0), HTML(value='')))"
      ]
     },
     "metadata": {}
    },
    {
     "output_type": "stream",
     "name": "stdout",
     "text": [
      "\n"
     ]
    },
    {
     "output_type": "display_data",
     "data": {
      "application/vnd.jupyter.widget-view+json": {
       "version_major": 2,
       "version_minor": 0,
       "model_id": "e11de08b1a8541e88c01dd20a09f7f0c"
      },
      "text/plain": [
       "HBox(children=(HTML(value=''), FloatProgress(value=0.0, max=280.0), HTML(value='')))"
      ]
     },
     "metadata": {}
    },
    {
     "output_type": "stream",
     "name": "stdout",
     "text": [
      "\n",
      "epoch:1 train_loss:0.25243620670608535 val_loss:1.3724029159246807\n"
     ]
    },
    {
     "output_type": "display_data",
     "data": {
      "application/vnd.jupyter.widget-view+json": {
       "version_major": 2,
       "version_minor": 0,
       "model_id": "c796b0e3c65e49bd99f95642d2e7ae4e"
      },
      "text/plain": [
       "HBox(children=(HTML(value=''), FloatProgress(value=0.0, max=1197.0), HTML(value='')))"
      ]
     },
     "metadata": {}
    },
    {
     "output_type": "stream",
     "name": "stdout",
     "text": [
      "\n"
     ]
    },
    {
     "output_type": "display_data",
     "data": {
      "application/vnd.jupyter.widget-view+json": {
       "version_major": 2,
       "version_minor": 0,
       "model_id": "0a6cb4f4ef9e4a3a93638810aa898f55"
      },
      "text/plain": [
       "HBox(children=(HTML(value=''), FloatProgress(value=0.0, max=280.0), HTML(value='')))"
      ]
     },
     "metadata": {}
    },
    {
     "output_type": "stream",
     "name": "stdout",
     "text": [
      "\n",
      "epoch:2 train_loss:0.1804294741193309 val_loss:0.6454713953839194\n",
      "\n"
     ]
    },
    {
     "output_type": "display_data",
     "data": {
      "image/png": "[encoded data removed]",
      "text/plain": [
       "<Figure size 432x288 with 1 Axes>"
      ]
     },
     "metadata": {
      "needs_background": "light"
     }
    },
    {
     "output_type": "stream",
     "name": "stdout",
     "text": [
      "best_model is saved!\n"
     ]
    },
    {
     "output_type": "stream",
     "name": "stderr",
     "text": [
      "Some weights of the model checkpoint at distilbert-base-uncased were not used when initializing DistilBertForQuestionAnswering: ['vocab_projector.bias', 'vocab_layer_norm.weight', 'vocab_projector.weight', 'vocab_transform.bias', 'vocab_transform.weight', 'vocab_layer_norm.bias']\n",
      "- This IS expected if you are initializing DistilBertForQuestionAnswering from the checkpoint of a model trained on another task or with another architecture (e.g. initializing a BertForSequenceClassification model from a BertForPreTraining model).\n",
      "- This IS NOT expected if you are initializing DistilBertForQuestionAnswering from the checkpoint of a model that you expect to be exactly identical (initializing a BertForSequenceClassification model from a BertForSequenceClassification model).\n",
      "Some weights of DistilBertForQuestionAnswering were not initialized from the model checkpoint at distilbert-base-uncased and are newly initialized: ['qa_outputs.weight', 'qa_outputs.bias']\n",
      "You should probably TRAIN this model on a down-stream task to be able to use it for predictions and inference.\n"
     ]
    },
    {
     "output_type": "display_data",
     "data": {
      "application/vnd.jupyter.widget-view+json": {
       "version_major": 2,
       "version_minor": 0,
       "model_id": "19c9fafb171140be9a253567796f30d1"
      },
      "text/plain": [
       "HBox(children=(HTML(value=''), FloatProgress(value=0.0, max=2240.0), HTML(value='')))"
      ]
     },
     "metadata": {}
    },
    {
     "output_type": "stream",
     "name": "stdout",
     "text": [
      "\n"
     ]
    }
   ],
   "metadata": {}
  },
  {
   "cell_type": "code",
   "execution_count": 5,
   "source": [
    "res"
   ],
   "outputs": [
    {
     "output_type": "execute_result",
     "data": {
      "text/html": [
       "<div>\n",
       "<style scoped>\n",
       "    .dataframe tbody tr th:only-of-type {\n",
       "        vertical-align: middle;\n",
       "    }\n",
       "\n",
       "    .dataframe tbody tr th {\n",
       "        vertical-align: top;\n",
       "    }\n",
       "\n",
       "    .dataframe thead th {\n",
       "        text-align: right;\n",
       "    }\n",
       "</style>\n",
       "<table border=\"1\" class=\"dataframe\">\n",
       "  <thead>\n",
       "    <tr style=\"text-align: right;\">\n",
       "      <th></th>\n",
       "      <th>jaccard</th>\n",
       "      <th>acc(1.0)</th>\n",
       "      <th>acc(0.75)</th>\n",
       "      <th>acc(0.5)</th>\n",
       "      <th>acc(0.25)</th>\n",
       "    </tr>\n",
       "  </thead>\n",
       "  <tbody>\n",
       "    <tr>\n",
       "      <th>0</th>\n",
       "      <td>0.836139</td>\n",
       "      <td>0.785268</td>\n",
       "      <td>0.785714</td>\n",
       "      <td>0.849107</td>\n",
       "      <td>0.887054</td>\n",
       "    </tr>\n",
       "  </tbody>\n",
       "</table>\n",
       "</div>"
      ],
      "text/plain": [
       "    jaccard  acc(1.0)  acc(0.75)  acc(0.5)  acc(0.25)\n",
       "0  0.836139  0.785268   0.785714  0.849107   0.887054"
      ]
     },
     "metadata": {},
     "execution_count": 5
    }
   ],
   "metadata": {}
  },
  {
   "cell_type": "code",
   "execution_count": 6,
   "source": [
    "table"
   ],
   "outputs": [
    {
     "output_type": "execute_result",
     "data": {
      "text/html": [
       "<div>\n",
       "<style scoped>\n",
       "    .dataframe tbody tr th:only-of-type {\n",
       "        vertical-align: middle;\n",
       "    }\n",
       "\n",
       "    .dataframe tbody tr th {\n",
       "        vertical-align: top;\n",
       "    }\n",
       "\n",
       "    .dataframe thead th {\n",
       "        text-align: right;\n",
       "    }\n",
       "</style>\n",
       "<table border=\"1\" class=\"dataframe\">\n",
       "  <thead>\n",
       "    <tr style=\"text-align: right;\">\n",
       "      <th></th>\n",
       "      <th>Y_label</th>\n",
       "      <th>predict</th>\n",
       "      <th>是否全對</th>\n",
       "    </tr>\n",
       "  </thead>\n",
       "  <tbody>\n",
       "    <tr>\n",
       "      <th>4499</th>\n",
       "      <td>METHYL METHACRYLATE</td>\n",
       "      <td>METHYL METHACRYLATE</td>\n",
       "      <td>Yes</td>\n",
       "    </tr>\n",
       "    <tr>\n",
       "      <th>3653</th>\n",
       "      <td>GRADE</td>\n",
       "      <td>GRADE</td>\n",
       "      <td>Yes</td>\n",
       "    </tr>\n",
       "    <tr>\n",
       "      <th>4883</th>\n",
       "      <td>AG12A0</td>\n",
       "      <td>ACRYLONITRILE</td>\n",
       "      <td>No</td>\n",
       "    </tr>\n",
       "    <tr>\n",
       "      <th>7498</th>\n",
       "      <td>AG12A0</td>\n",
       "      <td>ACRYLONITRILE</td>\n",
       "      <td>No</td>\n",
       "    </tr>\n",
       "    <tr>\n",
       "      <th>17941</th>\n",
       "      <td>GRADE</td>\n",
       "      <td>TAIRILIN</td>\n",
       "      <td>No</td>\n",
       "    </tr>\n",
       "    <tr>\n",
       "      <th>...</th>\n",
       "      <td>...</td>\n",
       "      <td>...</td>\n",
       "      <td>...</td>\n",
       "    </tr>\n",
       "    <tr>\n",
       "      <th>3342</th>\n",
       "      <td>GRADE</td>\n",
       "      <td>GRADE</td>\n",
       "      <td>Yes</td>\n",
       "    </tr>\n",
       "    <tr>\n",
       "      <th>16593</th>\n",
       "      <td>METHYL METHACRYLATE</td>\n",
       "      <td>METHYL METHACRYLATE</td>\n",
       "      <td>Yes</td>\n",
       "    </tr>\n",
       "    <tr>\n",
       "      <th>20414</th>\n",
       "      <td>ACID</td>\n",
       "      <td>ACID</td>\n",
       "      <td>Yes</td>\n",
       "    </tr>\n",
       "    <tr>\n",
       "      <th>593</th>\n",
       "      <td>TAISOX 7470M</td>\n",
       "      <td>TAISOX 7240M</td>\n",
       "      <td>No</td>\n",
       "    </tr>\n",
       "    <tr>\n",
       "      <th>8399</th>\n",
       "      <td>EPOXY RESIN</td>\n",
       "      <td>EPOXY RESIN</td>\n",
       "      <td>Yes</td>\n",
       "    </tr>\n",
       "  </tbody>\n",
       "</table>\n",
       "<p>2240 rows × 3 columns</p>\n",
       "</div>"
      ],
      "text/plain": [
       "                   Y_label              predict 是否全對\n",
       "4499   METHYL METHACRYLATE  METHYL METHACRYLATE  Yes\n",
       "3653                 GRADE                GRADE  Yes\n",
       "4883                AG12A0        ACRYLONITRILE   No\n",
       "7498                AG12A0        ACRYLONITRILE   No\n",
       "17941                GRADE             TAIRILIN   No\n",
       "...                    ...                  ...  ...\n",
       "3342                 GRADE                GRADE  Yes\n",
       "16593  METHYL METHACRYLATE  METHYL METHACRYLATE  Yes\n",
       "20414                 ACID                 ACID  Yes\n",
       "593           TAISOX 7470M         TAISOX 7240M   No\n",
       "8399           EPOXY RESIN          EPOXY RESIN  Yes\n",
       "\n",
       "[2240 rows x 3 columns]"
      ]
     },
     "metadata": {},
     "execution_count": 6
    }
   ],
   "metadata": {}
  },
  {
   "cell_type": "code",
   "execution_count": null,
   "source": [],
   "outputs": [],
   "metadata": {}
  }
 ],
 "metadata": {
  "orig_nbformat": 4,
  "language_info": {
   "name": "python",
   "version": "3.8.5",
   "mimetype": "text/x-python",
   "codemirror_mode": {
    "name": "ipython",
    "version": 3
   },
   "pygments_lexer": "ipython3",
   "nbconvert_exporter": "python",
   "file_extension": ".py"
  },
  "kernelspec": {
   "name": "python3",
   "display_name": "Python 3.8.5 64-bit ('base': conda)"
  },
  "interpreter": {
   "hash": "2ccee5cc862501c1aad1cf19888c2a2eca4026b72d187db43d5e889cbdc6ee97"
  }
 },
 "nbformat": 4,
 "nbformat_minor": 2
}