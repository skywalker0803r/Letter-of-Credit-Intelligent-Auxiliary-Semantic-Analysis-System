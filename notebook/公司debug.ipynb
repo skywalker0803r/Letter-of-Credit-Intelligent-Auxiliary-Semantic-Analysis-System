{
 "cells": [
  {
   "cell_type": "code",
   "execution_count": 54,
   "metadata": {},
   "outputs": [],
   "source": [
    "import pandas as pd\n",
    "# jaccard文本相似度\n",
    "def get_jaccard_sim(str1, str2):\n",
    "    a = set(str1.split()) \n",
    "    b = set(str2.split())\n",
    "    c = a.intersection(b)\n",
    "    return float(len(c)) / (len(a) + len(b) - len(c))\n",
    "公司寶典 = pd.read_csv('../data/寶典/公司寶典加尾綴(擴充版).csv',index_col=0)"
   ]
  },
  {
   "cell_type": "code",
   "execution_count": 59,
   "metadata": {},
   "outputs": [],
   "source": [
    "name = 'FORMOSA PLASTICS'\n",
    "\n",
    "def f(x):\n",
    "    if len(公司寶典[公司寶典['公司英文名稱']==x]) == 0:\n",
    "        print('模糊比對')\n",
    "        jacs = {}\n",
    "        for i in 公司寶典['公司英文名稱'].unique():\n",
    "            jacs[i] = get_jaccard_sim(x,i)\n",
    "        x = max(jacs,key=jacs.get)\n",
    "        display(公司寶典[公司寶典['公司英文名稱']==x])\n",
    "    else:\n",
    "        print('完全匹配')\n",
    "        display(公司寶典[公司寶典['公司英文名稱']==x])\n",
    "        "
   ]
  },
  {
   "cell_type": "code",
   "execution_count": 60,
   "metadata": {},
   "outputs": [
    {
     "name": "stdout",
     "output_type": "stream",
     "text": [
      "完全匹配\n"
     ]
    },
    {
     "data": {
      "text/html": [
       "<div>\n",
       "<style scoped>\n",
       "    .dataframe tbody tr th:only-of-type {\n",
       "        vertical-align: middle;\n",
       "    }\n",
       "\n",
       "    .dataframe tbody tr th {\n",
       "        vertical-align: top;\n",
       "    }\n",
       "\n",
       "    .dataframe thead th {\n",
       "        text-align: right;\n",
       "    }\n",
       "</style>\n",
       "<table border=\"1\" class=\"dataframe\">\n",
       "  <thead>\n",
       "    <tr style=\"text-align: right;\">\n",
       "      <th></th>\n",
       "      <th>代號</th>\n",
       "      <th>公司英文名稱</th>\n",
       "      <th>公司事業部門</th>\n",
       "      <th>尾綴</th>\n",
       "    </tr>\n",
       "  </thead>\n",
       "  <tbody>\n",
       "    <tr>\n",
       "      <th>35</th>\n",
       "      <td>11</td>\n",
       "      <td>FORMOSA PLASTICS</td>\n",
       "      <td>台塑塑膠部</td>\n",
       "      <td>PLASTICS</td>\n",
       "    </tr>\n",
       "    <tr>\n",
       "      <th>43</th>\n",
       "      <td>18</td>\n",
       "      <td>FORMOSA PLASTICS</td>\n",
       "      <td>台塑聚烯部</td>\n",
       "      <td>PLASTICS</td>\n",
       "    </tr>\n",
       "  </tbody>\n",
       "</table>\n",
       "</div>"
      ],
      "text/plain": [
       "    代號            公司英文名稱 公司事業部門        尾綴\n",
       "35  11  FORMOSA PLASTICS  台塑塑膠部  PLASTICS\n",
       "43  18  FORMOSA PLASTICS  台塑聚烯部  PLASTICS"
      ]
     },
     "metadata": {},
     "output_type": "display_data"
    }
   ],
   "source": [
    "f(name)"
   ]
  },
  {
   "cell_type": "code",
   "execution_count": null,
   "metadata": {},
   "outputs": [],
   "source": []
  }
 ],
 "metadata": {
  "interpreter": {
   "hash": "2ccee5cc862501c1aad1cf19888c2a2eca4026b72d187db43d5e889cbdc6ee97"
  },
  "kernelspec": {
   "display_name": "Python 3.8.5 64-bit ('base': conda)",
   "name": "python3"
  },
  "language_info": {
   "codemirror_mode": {
    "name": "ipython",
    "version": 3
   },
   "file_extension": ".py",
   "mimetype": "text/x-python",
   "name": "python",
   "nbconvert_exporter": "python",
   "pygments_lexer": "ipython3",
   "version": "3.8.5"
  },
  "orig_nbformat": 4
 },
 "nbformat": 4,
 "nbformat_minor": 2
}
