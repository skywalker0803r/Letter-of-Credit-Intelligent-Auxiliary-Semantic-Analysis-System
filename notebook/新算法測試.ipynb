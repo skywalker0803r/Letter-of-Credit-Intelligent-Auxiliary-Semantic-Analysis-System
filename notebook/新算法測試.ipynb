{
 "cells": [
  {
   "cell_type": "code",
   "execution_count": 60,
   "metadata": {},
   "outputs": [],
   "source": [
    "import requests\n",
    "import pandas as pd\n",
    "import re\n",
    "import numpy as np\n",
    "import joblib\n",
    "\n",
    "# 導入演算法\n",
    "url = 'https://gist.githubusercontent.com/skywalker0803r/14922b3cb7ca23e0de5eec59a69cec25/raw/fc99cfce652af5214867936363fc254fe68c7dc2/CountVectorizer_NearestNeighbors.py'\n",
    "exec(requests.get(url).text)\n",
    "model_path = '../models/model.pkl'\n",
    "model = joblib.load(model_path)"
   ]
  },
  {
   "cell_type": "code",
   "execution_count": 61,
   "metadata": {},
   "outputs": [],
   "source": [
    "# 輸入欄位\n",
    "x_col = ['45A','50','59','46A','47A','78']\n",
    "# EXPNO對應表\n",
    "EXPNO對應表 = pd.read_csv('../data/對應表/EXPNO對應表.csv').astype(str)\n",
    "EXPNO對應表['X'] = EXPNO對應表[x_col].sum(axis=1) # 字串串起來"
   ]
  },
  {
   "cell_type": "code",
   "execution_count": 62,
   "metadata": {},
   "outputs": [
    {
     "data": {
      "text/plain": [
       "0    48 MT PVC SUSPENSION RESIN GRADE S-65\\r\\nAT TH...\n",
       "1    TETRAHYDROFURAN AT USD 5550 TOTAL AMOUNT-USD 1...\n",
       "2    A) 198.00 M.T. OF TAIRILAC  AG15A1-H(ABS) ABS ...\n",
       "3    80 MT PVC SUSPENSION RESIN GRADE S-65S AT THE ...\n",
       "4    PVC SUSPENSION RESIN S-70R\\r\\nQUANTITY: 72 MT,...\n",
       "Name: X, dtype: object"
      ]
     },
     "execution_count": 62,
     "metadata": {},
     "output_type": "execute_result"
    }
   ],
   "source": [
    "# 測試數據\n",
    "test_data_path = '../data/測試數據/0927到2022.csv'\n",
    "x_col = ['45A','50','59','46A','47A','78']\n",
    "test_df = pd.read_csv(test_data_path).astype(str)\n",
    "test_df['X'] = test_df[x_col].sum(axis=1) # 字串串起來\n",
    "test_df['X'].head()"
   ]
  },
  {
   "cell_type": "code",
   "execution_count": 63,
   "metadata": {},
   "outputs": [],
   "source": [
    "# 預測\n",
    "x = EXPNO對應表['X'].values.tolist()[:50]\n",
    "def batch_predict(x):\n",
    "    y_pred = model.predict(x)\n",
    "    return [ EXPNO對應表.loc[EXPNO對應表.X == i,'EXPNO'].values[0] for i in y_pred]\n",
    "y_pred = batch_predict(x)\n",
    "y_test = EXPNO對應表['EXPNO'].values.tolist()[:50]"
   ]
  },
  {
   "cell_type": "code",
   "execution_count": 64,
   "metadata": {},
   "outputs": [
    {
     "data": {
      "text/plain": [
       "0.62"
      ]
     },
     "execution_count": 64,
     "metadata": {},
     "output_type": "execute_result"
    }
   ],
   "source": [
    "correct = 0\n",
    "for i,j in zip(y_pred,y_test):\n",
    "    if i == j:\n",
    "        correct += 1\n",
    "acc = correct/len(y_pred)\n",
    "acc"
   ]
  },
  {
   "cell_type": "code",
   "execution_count": null,
   "metadata": {},
   "outputs": [],
   "source": []
  }
 ],
 "metadata": {
  "interpreter": {
   "hash": "993826b923065dd66fa4bf5d15ab27fb473cbe0d9ee1e2a0f60195f6a60c263f"
  },
  "kernelspec": {
   "display_name": "Python 3.7.11 64-bit ('bert_env': conda)",
   "language": "python",
   "name": "python3"
  },
  "language_info": {
   "codemirror_mode": {
    "name": "ipython",
    "version": 3
   },
   "file_extension": ".py",
   "mimetype": "text/x-python",
   "name": "python",
   "nbconvert_exporter": "python",
   "pygments_lexer": "ipython3",
   "version": "3.7.11"
  },
  "orig_nbformat": 4
 },
 "nbformat": 4,
 "nbformat_minor": 2
}
