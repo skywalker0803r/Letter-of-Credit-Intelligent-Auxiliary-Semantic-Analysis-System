{
 "cells": [
  {
   "cell_type": "code",
   "execution_count": 2,
   "source": [
    "import pandas as pd\r\n",
    "\r\n",
    "def merge_data(path1,path2):\r\n",
    "    df1 = pd.read_excel(path1,skiprows=2)\r\n",
    "    df1 = df1.rename(columns={'信用狀號碼':'20'})\r\n",
    "    df2 = pd.read_excel(path2)\r\n",
    "    df2['from'] = path1.split('/')[-1]\r\n",
    "    df_merged = pd.merge(df1,df2,on='20',how='left')\r\n",
    "    df_merged = df_merged[df1.columns.tolist()+['from']+['45A','50']].dropna(subset=['45A','50'],axis=0)\r\n",
    "    return df_merged\r\n",
    "\r\n",
    "def merge_data2(path):\r\n",
    "    xl = pd.ExcelFile(path)\r\n",
    "    df1 = pd.read_excel(path,sheet_name=xl.sheet_names[0],skiprows=2)\r\n",
    "    df1 = df1.rename(columns={'信用狀號碼':'20'})\r\n",
    "    df2 = pd.read_excel(path,sheet_name=xl.sheet_names[1])\r\n",
    "    df2['from'] = path.split('/')[-1]\r\n",
    "    df_merged = pd.merge(df1,df2,on='20',how='left')\r\n",
    "    df_merged = df_merged[df1.columns.tolist()+['from']+['45A','50']].dropna(subset=['45A','50'],axis=0)\r\n",
    "    return df_merged\r\n",
    "\r\n",
    "df_0927 = merge_data('../data/測試數據/0927.xls','../data/測試數據/0927(0924轉入).xlsx')\r\n",
    "df_0928 = merge_data('../data/測試數據/0928.xls','../data/測試數據/0928(0927轉入).xlsx')\r\n",
    "df_0929 = merge_data('../data/測試數據/0929.xls','../data/測試數據/0929(0928轉入).xlsx')\r\n",
    "df_1004 = merge_data('../data/測試數據/1004.xls','../data/測試數據/1004(1001轉入).xlsx')\r\n",
    "df_1005 = merge_data2('../data/測試數據/1005(1004轉入).xlsx')\r\n",
    "df_1006 = merge_data('../data/測試數據/1006.xls','../data/測試數據/1006(1005轉入).xlsx')\r\n",
    "\r\n",
    "print(df_0927.shape)\r\n",
    "print(df_0928.shape)\r\n",
    "print(df_0929.shape)\r\n",
    "print(df_1004.shape)\r\n",
    "print(df_1005.shape)\r\n",
    "print(df_1006.shape)\r\n",
    "\r\n",
    "df_0927.to_csv('../data/df_0927.csv')\r\n",
    "df_0928.to_csv('../data/df_0928.csv')\r\n",
    "df_0929.to_csv('../data/df_0929.csv')\r\n",
    "df_1004.to_csv('../data/df_1004.csv')\r\n",
    "df_1005.to_csv('../data/df_1005.csv')\r\n",
    "df_1006.to_csv('../data/df_1006.csv')\r\n",
    "\r\n",
    "print('ok')"
   ],
   "outputs": [
    {
     "output_type": "stream",
     "name": "stdout",
     "text": [
      "(35, 15)\n",
      "(58, 15)\n",
      "(56, 15)\n",
      "(35, 15)\n",
      "(36, 15)\n",
      "(44, 15)\n",
      "ok\n"
     ]
    }
   ],
   "metadata": {}
  },
  {
   "cell_type": "code",
   "execution_count": null,
   "source": [],
   "outputs": [],
   "metadata": {}
  },
  {
   "cell_type": "code",
   "execution_count": null,
   "source": [],
   "outputs": [],
   "metadata": {}
  }
 ],
 "metadata": {
  "orig_nbformat": 4,
  "language_info": {
   "name": "python",
   "version": "3.8.5",
   "mimetype": "text/x-python",
   "codemirror_mode": {
    "name": "ipython",
    "version": 3
   },
   "pygments_lexer": "ipython3",
   "nbconvert_exporter": "python",
   "file_extension": ".py"
  },
  "kernelspec": {
   "name": "python3",
   "display_name": "Python 3.8.5 64-bit ('base': conda)"
  },
  "interpreter": {
   "hash": "2ccee5cc862501c1aad1cf19888c2a2eca4026b72d187db43d5e889cbdc6ee97"
  }
 },
 "nbformat": 4,
 "nbformat_minor": 2
}