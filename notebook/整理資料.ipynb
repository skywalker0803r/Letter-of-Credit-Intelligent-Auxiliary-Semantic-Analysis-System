{
 "cells": [
  {
   "cell_type": "code",
   "execution_count": 1,
   "metadata": {},
   "outputs": [
    {
     "name": "stdout",
     "output_type": "stream",
     "text": [
      "(35, 16)\n",
      "(58, 16)\n",
      "(56, 16)\n",
      "(35, 16)\n",
      "(36, 16)\n",
      "(44, 16)\n",
      "(40, 16)\n",
      "(32, 16)\n",
      "(39, 16)\n",
      "(47, 16)\n",
      "ok\n"
     ]
    }
   ],
   "source": [
    "import pandas as pd\n",
    "\n",
    "cols = ['45A','50','59']\n",
    "def merge_data(path1,path2):\n",
    "    df1 = pd.read_excel(path1,skiprows=2)\n",
    "    df1 = df1.rename(columns={'信用狀號碼':'20'})\n",
    "    df2 = pd.read_excel(path2)\n",
    "    df2['from'] = path1.split('/')[-1]\n",
    "    df_merged = pd.merge(df1,df2,on='20',how='left')\n",
    "    df_merged = df_merged[df1.columns.tolist()+['from']+cols].dropna(subset=cols,axis=0)\n",
    "    return df_merged\n",
    "\n",
    "def merge_data2(path):\n",
    "    xl = pd.ExcelFile(path)\n",
    "    df1 = pd.read_excel(path,sheet_name=xl.sheet_names[0],skiprows=2)\n",
    "    df1 = df1.rename(columns={'信用狀號碼':'20'})\n",
    "    df2 = pd.read_excel(path,sheet_name=xl.sheet_names[1])\n",
    "    df2['from'] = path.split('/')[-1]\n",
    "    df_merged = pd.merge(df1,df2,on='20',how='left')\n",
    "    df_merged = df_merged[df1.columns.tolist()+['from']+cols].dropna(subset=cols,axis=0)\n",
    "    return df_merged\n",
    "\n",
    "df_0927 = merge_data('../data/測試數據/0927.xls','../data/測試數據/0927(0924轉入).xlsx')\n",
    "df_0928 = merge_data('../data/測試數據/0928.xls','../data/測試數據/0928(0927轉入).xlsx')\n",
    "df_0929 = merge_data('../data/測試數據/0929.xls','../data/測試數據/0929(0928轉入).xlsx')\n",
    "df_1004 = merge_data('../data/測試數據/1004.xls','../data/測試數據/1004(1001轉入).xlsx')\n",
    "df_1005 = merge_data2('../data/測試數據/1005(1004轉入).xlsx')\n",
    "df_1006 = merge_data('../data/測試數據/1006.xls','../data/測試數據/1006(1005轉入).xlsx')\n",
    "df_1007 = merge_data('../data/測試數據/1007.xls','../data/測試數據/1007(1006轉入).xlsx')\n",
    "\n",
    "df_1008 = merge_data('../data/測試數據/1008.xls','../data/測試數據/1008(1007轉入).xlsx')\n",
    "df_1012 = merge_data('../data/測試數據/1012.xls','../data/測試數據/1012(1011轉入).xlsx')\n",
    "\n",
    "df_1013 = merge_data('../data/測試數據/1013.xls','../data/測試數據/1013(1012轉入).xlsx')\n",
    "\n",
    "print(df_0927.shape)\n",
    "print(df_0928.shape)\n",
    "print(df_0929.shape)\n",
    "print(df_1004.shape)\n",
    "print(df_1005.shape)\n",
    "print(df_1006.shape)\n",
    "print(df_1007.shape)\n",
    "print(df_1008.shape)\n",
    "print(df_1012.shape)\n",
    "print(df_1013.shape)\n",
    "\n",
    "\n",
    "df_0927.to_csv('../data/df_0927.csv')\n",
    "df_0928.to_csv('../data/df_0928.csv')\n",
    "df_0929.to_csv('../data/df_0929.csv')\n",
    "df_1004.to_csv('../data/df_1004.csv')\n",
    "df_1005.to_csv('../data/df_1005.csv')\n",
    "df_1006.to_csv('../data/df_1006.csv')\n",
    "df_1007.to_csv('../data/df_1007.csv')\n",
    "df_1008.to_csv('../data/df_1008.csv')\n",
    "df_1012.to_csv('../data/df_1012.csv')\n",
    "df_1013.to_csv('../data/df_1013.csv')\n",
    "\n",
    "print('ok')"
   ]
  },
  {
   "cell_type": "code",
   "execution_count": null,
   "metadata": {},
   "outputs": [],
   "source": []
  },
  {
   "cell_type": "code",
   "execution_count": null,
   "metadata": {},
   "outputs": [],
   "source": []
  }
 ],
 "metadata": {
  "interpreter": {
   "hash": "2ccee5cc862501c1aad1cf19888c2a2eca4026b72d187db43d5e889cbdc6ee97"
  },
  "kernelspec": {
   "display_name": "Python 3.8.5 64-bit ('base': conda)",
   "name": "python3"
  },
  "language_info": {
   "codemirror_mode": {
    "name": "ipython",
    "version": 3
   },
   "file_extension": ".py",
   "mimetype": "text/x-python",
   "name": "python",
   "nbconvert_exporter": "python",
   "pygments_lexer": "ipython3",
   "version": "3.8.5"
  },
  "orig_nbformat": 4
 },
 "nbformat": 4,
 "nbformat_minor": 2
}
