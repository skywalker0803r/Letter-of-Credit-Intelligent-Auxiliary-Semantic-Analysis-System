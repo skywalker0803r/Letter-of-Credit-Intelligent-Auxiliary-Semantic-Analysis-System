{
 "cells": [
  {
   "cell_type": "code",
   "execution_count": 1,
   "source": [
    "import pandas as pd\r\n",
    "import os\r\n",
    "import xlrd\r\n",
    "import re\r\n",
    "path = '../data/combined_excel.xlsx'\r\n",
    "df = pd.read_excel(path,index_col=0, engine='openpyxl')\r\n",
    "df['50'] = df['50'].astype(str)"
   ],
   "outputs": [],
   "metadata": {}
  },
  {
   "cell_type": "markdown",
   "source": [
    "# 第一種case"
   ],
   "metadata": {}
  },
  {
   "cell_type": "code",
   "execution_count": 2,
   "source": [
    "case1 = {}\r\n",
    "for k,v in zip(df['50'].index,df['50'].values):\r\n",
    "    if \"_x000D\" in v:\r\n",
    "        case1[k] = v.split('_x000D')[0][:]\r\n",
    "res1 = pd.DataFrame()\r\n",
    "res1['string_X_train'] = df.loc[case1.keys(),'50'].values\r\n",
    "res1['Y_label'] = case1.values()\r\n",
    "df = res1\r\n",
    "\r\n",
    "def preprocess(x):\r\n",
    "    x = str(x)\r\n",
    "    x = re.sub('[\\u4e00-\\u9fa5]', '', x) # 去除中文\r\n",
    "    x = re.sub(r'[^\\w\\s]','',x) # 去除標點符號\r\n",
    "    x = x.replace('\\n', '').replace('\\r', '').replace('\\t', '') # 換行符號去除\r\n",
    "    return str.strip(x) # 移除左右空白\r\n",
    "\r\n",
    "df['string_X_train'] = df['string_X_train'].apply(preprocess)\r\n",
    "df['Y_label'] = df['Y_label'].apply(preprocess)\r\n",
    "df.head()"
   ],
   "outputs": [
    {
     "output_type": "execute_result",
     "data": {
      "text/html": [
       "<div>\n",
       "<style scoped>\n",
       "    .dataframe tbody tr th:only-of-type {\n",
       "        vertical-align: middle;\n",
       "    }\n",
       "\n",
       "    .dataframe tbody tr th {\n",
       "        vertical-align: top;\n",
       "    }\n",
       "\n",
       "    .dataframe thead th {\n",
       "        text-align: right;\n",
       "    }\n",
       "</style>\n",
       "<table border=\"1\" class=\"dataframe\">\n",
       "  <thead>\n",
       "    <tr style=\"text-align: right;\">\n",
       "      <th></th>\n",
       "      <th>string_X_train</th>\n",
       "      <th>Y_label</th>\n",
       "    </tr>\n",
       "  </thead>\n",
       "  <tbody>\n",
       "    <tr>\n",
       "      <th>0</th>\n",
       "      <td>HONGKONG PROANDHAR GROUP COMPANY_x000D_LIM ITED</td>\n",
       "      <td>HONGKONG PROANDHAR GROUP COMPANY</td>\n",
       "    </tr>\n",
       "    <tr>\n",
       "      <th>1</th>\n",
       "      <td>TRAFIGURA PTE LTD_x000D_10 COLLYER QUAY_x000D_...</td>\n",
       "      <td>TRAFIGURA PTE LTD</td>\n",
       "    </tr>\n",
       "    <tr>\n",
       "      <th>2</th>\n",
       "      <td>KINGFA SCI AND TECH CO LTD_x000D_ADDRESS NO33 ...</td>\n",
       "      <td>KINGFA SCI AND TECH CO LTD</td>\n",
       "    </tr>\n",
       "    <tr>\n",
       "      <th>3</th>\n",
       "      <td>LANDMARK INTL CORP_x000D_SUITE 310GRIFFITH COR...</td>\n",
       "      <td>LANDMARK INTL CORP</td>\n",
       "    </tr>\n",
       "    <tr>\n",
       "      <th>4</th>\n",
       "      <td>DVA PLASTICS GmbH_x000D_VALENTINSKAMP 70_x000D...</td>\n",
       "      <td>DVA PLASTICS GmbH</td>\n",
       "    </tr>\n",
       "  </tbody>\n",
       "</table>\n",
       "</div>"
      ],
      "text/plain": [
       "                                      string_X_train  \\\n",
       "0    HONGKONG PROANDHAR GROUP COMPANY_x000D_LIM ITED   \n",
       "1  TRAFIGURA PTE LTD_x000D_10 COLLYER QUAY_x000D_...   \n",
       "2  KINGFA SCI AND TECH CO LTD_x000D_ADDRESS NO33 ...   \n",
       "3  LANDMARK INTL CORP_x000D_SUITE 310GRIFFITH COR...   \n",
       "4  DVA PLASTICS GmbH_x000D_VALENTINSKAMP 70_x000D...   \n",
       "\n",
       "                            Y_label  \n",
       "0  HONGKONG PROANDHAR GROUP COMPANY  \n",
       "1                 TRAFIGURA PTE LTD  \n",
       "2        KINGFA SCI AND TECH CO LTD  \n",
       "3                LANDMARK INTL CORP  \n",
       "4                 DVA PLASTICS GmbH  "
      ]
     },
     "metadata": {},
     "execution_count": 2
    }
   ],
   "metadata": {}
  },
  {
   "cell_type": "markdown",
   "source": [
    "# 起始結束標註"
   ],
   "metadata": {}
  },
  {
   "cell_type": "code",
   "execution_count": 3,
   "source": [
    "def str2index(context,string):\r\n",
    "    ys = context.find(string)\r\n",
    "    ye = ys + len(string)\r\n",
    "    return ys,ye\r\n",
    "\r\n",
    "ys_lst = []\r\n",
    "ye_lst = []\r\n",
    "for i in range(len(df)):\r\n",
    "    context= df['string_X_train'].values[i]\r\n",
    "    string = df['Y_label'].values[i]\r\n",
    "    ys,ye = str2index(context,string)\r\n",
    "    ys_lst.append(ys)\r\n",
    "    ye_lst.append(ye)\r\n",
    "\r\n",
    "df['string_Y_1'] = ys_lst\r\n",
    "df['string_Y_2'] = ye_lst\r\n",
    "df.head()"
   ],
   "outputs": [
    {
     "output_type": "execute_result",
     "data": {
      "text/html": [
       "<div>\n",
       "<style scoped>\n",
       "    .dataframe tbody tr th:only-of-type {\n",
       "        vertical-align: middle;\n",
       "    }\n",
       "\n",
       "    .dataframe tbody tr th {\n",
       "        vertical-align: top;\n",
       "    }\n",
       "\n",
       "    .dataframe thead th {\n",
       "        text-align: right;\n",
       "    }\n",
       "</style>\n",
       "<table border=\"1\" class=\"dataframe\">\n",
       "  <thead>\n",
       "    <tr style=\"text-align: right;\">\n",
       "      <th></th>\n",
       "      <th>string_X_train</th>\n",
       "      <th>Y_label</th>\n",
       "      <th>string_Y_1</th>\n",
       "      <th>string_Y_2</th>\n",
       "    </tr>\n",
       "  </thead>\n",
       "  <tbody>\n",
       "    <tr>\n",
       "      <th>0</th>\n",
       "      <td>HONGKONG PROANDHAR GROUP COMPANY_x000D_LIM ITED</td>\n",
       "      <td>HONGKONG PROANDHAR GROUP COMPANY</td>\n",
       "      <td>0</td>\n",
       "      <td>32</td>\n",
       "    </tr>\n",
       "    <tr>\n",
       "      <th>1</th>\n",
       "      <td>TRAFIGURA PTE LTD_x000D_10 COLLYER QUAY_x000D_...</td>\n",
       "      <td>TRAFIGURA PTE LTD</td>\n",
       "      <td>0</td>\n",
       "      <td>17</td>\n",
       "    </tr>\n",
       "    <tr>\n",
       "      <th>2</th>\n",
       "      <td>KINGFA SCI AND TECH CO LTD_x000D_ADDRESS NO33 ...</td>\n",
       "      <td>KINGFA SCI AND TECH CO LTD</td>\n",
       "      <td>0</td>\n",
       "      <td>26</td>\n",
       "    </tr>\n",
       "    <tr>\n",
       "      <th>3</th>\n",
       "      <td>LANDMARK INTL CORP_x000D_SUITE 310GRIFFITH COR...</td>\n",
       "      <td>LANDMARK INTL CORP</td>\n",
       "      <td>0</td>\n",
       "      <td>18</td>\n",
       "    </tr>\n",
       "    <tr>\n",
       "      <th>4</th>\n",
       "      <td>DVA PLASTICS GmbH_x000D_VALENTINSKAMP 70_x000D...</td>\n",
       "      <td>DVA PLASTICS GmbH</td>\n",
       "      <td>0</td>\n",
       "      <td>17</td>\n",
       "    </tr>\n",
       "  </tbody>\n",
       "</table>\n",
       "</div>"
      ],
      "text/plain": [
       "                                      string_X_train  \\\n",
       "0    HONGKONG PROANDHAR GROUP COMPANY_x000D_LIM ITED   \n",
       "1  TRAFIGURA PTE LTD_x000D_10 COLLYER QUAY_x000D_...   \n",
       "2  KINGFA SCI AND TECH CO LTD_x000D_ADDRESS NO33 ...   \n",
       "3  LANDMARK INTL CORP_x000D_SUITE 310GRIFFITH COR...   \n",
       "4  DVA PLASTICS GmbH_x000D_VALENTINSKAMP 70_x000D...   \n",
       "\n",
       "                            Y_label  string_Y_1  string_Y_2  \n",
       "0  HONGKONG PROANDHAR GROUP COMPANY           0          32  \n",
       "1                 TRAFIGURA PTE LTD           0          17  \n",
       "2        KINGFA SCI AND TECH CO LTD           0          26  \n",
       "3                LANDMARK INTL CORP           0          18  \n",
       "4                 DVA PLASTICS GmbH           0          17  "
      ]
     },
     "metadata": {},
     "execution_count": 3
    }
   ],
   "metadata": {}
  },
  {
   "cell_type": "code",
   "execution_count": 4,
   "source": [
    "print(df.shape)\r\n",
    "df.to_csv('../data/preprocess_for_SQUAD_開狀人.csv')"
   ],
   "outputs": [
    {
     "output_type": "stream",
     "name": "stdout",
     "text": [
      "(12378, 4)\n"
     ]
    }
   ],
   "metadata": {}
  },
  {
   "cell_type": "code",
   "execution_count": 5,
   "source": [
    "df['predict'] = [str.strip(i.split('_x000D')[0]) for i in df['string_X_train'].values]"
   ],
   "outputs": [],
   "metadata": {}
  },
  {
   "cell_type": "code",
   "execution_count": 6,
   "source": [
    "for i in range(len(df)):\r\n",
    "    if df['Y_label'].values[i] == df['predict'].values[i]:\r\n",
    "        df.loc[i,'correct'] = 'yes'\r\n",
    "    else:\r\n",
    "        df.loc[i,'correct'] = 'no'\r\n",
    "df.head()"
   ],
   "outputs": [
    {
     "output_type": "execute_result",
     "data": {
      "text/html": [
       "<div>\n",
       "<style scoped>\n",
       "    .dataframe tbody tr th:only-of-type {\n",
       "        vertical-align: middle;\n",
       "    }\n",
       "\n",
       "    .dataframe tbody tr th {\n",
       "        vertical-align: top;\n",
       "    }\n",
       "\n",
       "    .dataframe thead th {\n",
       "        text-align: right;\n",
       "    }\n",
       "</style>\n",
       "<table border=\"1\" class=\"dataframe\">\n",
       "  <thead>\n",
       "    <tr style=\"text-align: right;\">\n",
       "      <th></th>\n",
       "      <th>string_X_train</th>\n",
       "      <th>Y_label</th>\n",
       "      <th>string_Y_1</th>\n",
       "      <th>string_Y_2</th>\n",
       "      <th>predict</th>\n",
       "      <th>correct</th>\n",
       "    </tr>\n",
       "  </thead>\n",
       "  <tbody>\n",
       "    <tr>\n",
       "      <th>0</th>\n",
       "      <td>HONGKONG PROANDHAR GROUP COMPANY_x000D_LIM ITED</td>\n",
       "      <td>HONGKONG PROANDHAR GROUP COMPANY</td>\n",
       "      <td>0</td>\n",
       "      <td>32</td>\n",
       "      <td>HONGKONG PROANDHAR GROUP COMPANY</td>\n",
       "      <td>yes</td>\n",
       "    </tr>\n",
       "    <tr>\n",
       "      <th>1</th>\n",
       "      <td>TRAFIGURA PTE LTD_x000D_10 COLLYER QUAY_x000D_...</td>\n",
       "      <td>TRAFIGURA PTE LTD</td>\n",
       "      <td>0</td>\n",
       "      <td>17</td>\n",
       "      <td>TRAFIGURA PTE LTD</td>\n",
       "      <td>yes</td>\n",
       "    </tr>\n",
       "    <tr>\n",
       "      <th>2</th>\n",
       "      <td>KINGFA SCI AND TECH CO LTD_x000D_ADDRESS NO33 ...</td>\n",
       "      <td>KINGFA SCI AND TECH CO LTD</td>\n",
       "      <td>0</td>\n",
       "      <td>26</td>\n",
       "      <td>KINGFA SCI AND TECH CO LTD</td>\n",
       "      <td>yes</td>\n",
       "    </tr>\n",
       "    <tr>\n",
       "      <th>3</th>\n",
       "      <td>LANDMARK INTL CORP_x000D_SUITE 310GRIFFITH COR...</td>\n",
       "      <td>LANDMARK INTL CORP</td>\n",
       "      <td>0</td>\n",
       "      <td>18</td>\n",
       "      <td>LANDMARK INTL CORP</td>\n",
       "      <td>yes</td>\n",
       "    </tr>\n",
       "    <tr>\n",
       "      <th>4</th>\n",
       "      <td>DVA PLASTICS GmbH_x000D_VALENTINSKAMP 70_x000D...</td>\n",
       "      <td>DVA PLASTICS GmbH</td>\n",
       "      <td>0</td>\n",
       "      <td>17</td>\n",
       "      <td>DVA PLASTICS GmbH</td>\n",
       "      <td>yes</td>\n",
       "    </tr>\n",
       "  </tbody>\n",
       "</table>\n",
       "</div>"
      ],
      "text/plain": [
       "                                      string_X_train  \\\n",
       "0    HONGKONG PROANDHAR GROUP COMPANY_x000D_LIM ITED   \n",
       "1  TRAFIGURA PTE LTD_x000D_10 COLLYER QUAY_x000D_...   \n",
       "2  KINGFA SCI AND TECH CO LTD_x000D_ADDRESS NO33 ...   \n",
       "3  LANDMARK INTL CORP_x000D_SUITE 310GRIFFITH COR...   \n",
       "4  DVA PLASTICS GmbH_x000D_VALENTINSKAMP 70_x000D...   \n",
       "\n",
       "                            Y_label  string_Y_1  string_Y_2  \\\n",
       "0  HONGKONG PROANDHAR GROUP COMPANY           0          32   \n",
       "1                 TRAFIGURA PTE LTD           0          17   \n",
       "2        KINGFA SCI AND TECH CO LTD           0          26   \n",
       "3                LANDMARK INTL CORP           0          18   \n",
       "4                 DVA PLASTICS GmbH           0          17   \n",
       "\n",
       "                            predict correct  \n",
       "0  HONGKONG PROANDHAR GROUP COMPANY     yes  \n",
       "1                 TRAFIGURA PTE LTD     yes  \n",
       "2        KINGFA SCI AND TECH CO LTD     yes  \n",
       "3                LANDMARK INTL CORP     yes  \n",
       "4                 DVA PLASTICS GmbH     yes  "
      ]
     },
     "metadata": {},
     "execution_count": 6
    }
   ],
   "metadata": {}
  },
  {
   "cell_type": "code",
   "execution_count": 7,
   "source": [
    "df['correct'].value_counts()"
   ],
   "outputs": [
    {
     "output_type": "execute_result",
     "data": {
      "text/plain": [
       "yes    12378\n",
       "Name: correct, dtype: int64"
      ]
     },
     "metadata": {},
     "execution_count": 7
    }
   ],
   "metadata": {}
  },
  {
   "cell_type": "code",
   "execution_count": null,
   "source": [],
   "outputs": [],
   "metadata": {}
  }
 ],
 "metadata": {
  "kernelspec": {
   "name": "python3",
   "display_name": "Python 3.8.5 64-bit ('base': conda)"
  },
  "language_info": {
   "codemirror_mode": {
    "name": "ipython",
    "version": 3
   },
   "file_extension": ".py",
   "mimetype": "text/x-python",
   "name": "python",
   "nbconvert_exporter": "python",
   "pygments_lexer": "ipython3",
   "version": "3.8.5"
  },
  "interpreter": {
   "hash": "2ccee5cc862501c1aad1cf19888c2a2eca4026b72d187db43d5e889cbdc6ee97"
  }
 },
 "nbformat": 4,
 "nbformat_minor": 5
}