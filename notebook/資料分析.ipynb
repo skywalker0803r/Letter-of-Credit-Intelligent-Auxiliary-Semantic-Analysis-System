{
 "cells": [
  {
   "cell_type": "code",
   "execution_count": 18,
   "source": [
    "import pandas as pd\r\n",
    "\r\n",
    "df = pd.read_csv('../data/df_0927.csv',index_col=0)['50']\r\n",
    "v = df.values[0]\r\n",
    "v,v.split('_x000D')[0]"
   ],
   "outputs": [
    {
     "output_type": "execute_result",
     "data": {
      "text/plain": [
       "('DEEP JYOTI WAX TRADERS\\r\\nPRIVATE LIMITED\\r\\n157 NETAJI SUBHAS ROAD\\r\\nKOLKATA 700001, INDIA',\n",
       " 'DEEP JYOTI WAX TRADERS\\r\\nPRIVATE LIMITED\\r\\n157 NETAJI SUBHAS ROAD\\r\\nKOLKATA 700001, INDIA')"
      ]
     },
     "metadata": {},
     "execution_count": 18
    }
   ],
   "metadata": {}
  },
  {
   "cell_type": "code",
   "execution_count": 19,
   "source": [
    "df2 = pd.read_excel('../data/combined_excel.xlsx',index_col=0,engine='openpyxl')['50']\r\n",
    "v = df2.values[0]\r\n",
    "v,v.split('_x000D')[0]"
   ],
   "outputs": [
    {
     "output_type": "execute_result",
     "data": {
      "text/plain": [
       "('RYTOIL PETROCHEMICALS LLPBASEMENT 2095, I BLOCK DSIIDCNARELA INDUSTRIAL AREANEW DELHI 110040 INDIA',\n",
       " 'RYTOIL PETROCHEMICALS LLPBASEMENT 2095, I BLOCK DSIIDCNARELA INDUSTRIAL AREANEW DELHI 110040 INDIA')"
      ]
     },
     "metadata": {},
     "execution_count": 19
    }
   ],
   "metadata": {}
  },
  {
   "cell_type": "code",
   "execution_count": null,
   "source": [],
   "outputs": [],
   "metadata": {}
  }
 ],
 "metadata": {
  "orig_nbformat": 4,
  "language_info": {
   "name": "python",
   "version": "3.8.5",
   "mimetype": "text/x-python",
   "codemirror_mode": {
    "name": "ipython",
    "version": 3
   },
   "pygments_lexer": "ipython3",
   "nbconvert_exporter": "python",
   "file_extension": ".py"
  },
  "kernelspec": {
   "name": "python3",
   "display_name": "Python 3.8.5 64-bit ('base': conda)"
  },
  "interpreter": {
   "hash": "2ccee5cc862501c1aad1cf19888c2a2eca4026b72d187db43d5e889cbdc6ee97"
  }
 },
 "nbformat": 4,
 "nbformat_minor": 2
}