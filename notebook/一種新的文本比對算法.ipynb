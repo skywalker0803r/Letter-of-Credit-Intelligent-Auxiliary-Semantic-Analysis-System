{
  "nbformat": 4,
  "nbformat_minor": 0,
  "metadata": {
    "colab": {
      "name": "一種新的文本比對算法.ipynb",
      "provenance": [],
      "mount_file_id": "13jZv7V7Y1vVtwuh_ukJM0KSMSeFXNMLM",
      "authorship_tag": "ABX9TyNTiZ/F3fSj14iGH7L9SFY3",
      "include_colab_link": true
    },
    "kernelspec": {
      "name": "python3",
      "display_name": "Python 3"
    },
    "language_info": {
      "name": "python"
    },
    "accelerator": "GPU"
  },
  "cells": [
    {
      "cell_type": "markdown",
      "metadata": {
        "id": "view-in-github",
        "colab_type": "text"
      },
      "source": [
        "<a href=\"https://colab.research.google.com/github/skywalker0803r/Letter-of-Credit-Intelligent-Auxiliary-Semantic-Analysis-System/blob/main/notebook/%E4%B8%80%E7%A8%AE%E6%96%B0%E7%9A%84%E6%96%87%E6%9C%AC%E6%AF%94%E5%B0%8D%E7%AE%97%E6%B3%95.ipynb\" target=\"_parent\"><img src=\"https://colab.research.google.com/assets/colab-badge.svg\" alt=\"Open In Colab\"/></a>"
      ]
    },
    {
      "cell_type": "markdown",
      "source": [
        "# 導入算法"
      ],
      "metadata": {
        "id": "xfVhLsoeM67n"
      }
    },
    {
      "cell_type": "code",
      "execution_count": 12,
      "metadata": {
        "id": "6CDqFjjpK929"
      },
      "outputs": [],
      "source": [
        "import requests\n",
        "url = 'https://gist.githubusercontent.com/skywalker0803r/7d1c5c3e8f11b6713a7994f08b62fbe9/raw/51992fcd154ea85b99f9332165fb5b4275139138/knn_nlp.py'\n",
        "exec(requests.get(url).text)"
      ]
    },
    {
      "cell_type": "markdown",
      "source": [
        "# database"
      ],
      "metadata": {
        "id": "7AmuQFaKM9YP"
      }
    },
    {
      "cell_type": "code",
      "source": [
        "import pandas as pd\n",
        "import re\n",
        "data = pd.read_csv('/content/drive/MyDrive/NLP_dataset/Letter-of-Credit-Intelligent-Auxiliary-Semantic-Analysis-System/data/對應表/EXPNO對應表.csv')\n",
        "def preprocess_45(x):\n",
        "    x = str(x).upper() # 轉大寫字串\n",
        "    x = re.sub('[\\u4e00-\\u9fa5]', '', x) # 去除中文\n",
        "    x = re.sub(r'[^\\w\\s]','',x) # 去除標點符號\n",
        "    x = x.replace('\\n', '').replace('\\r', '').replace('\\t', '') # 換行符號去除\n",
        "    str.strip(x) # 移除左右空白\n",
        "    # 去除多重空白\n",
        "    x = x.replace('   ', ' ')\n",
        "    x = x.replace('  ', ' ')\n",
        "    # 出現在頭的 就不可能對到前後加空格的 這種情形要想想怎麼對照(加上左右空白)\n",
        "    x = ' ' + x + ' '\n",
        "    return x\n",
        "data_45 = data['45A'].apply(preprocess_45)\n",
        "data_45"
      ],
      "metadata": {
        "colab": {
          "base_uri": "https://localhost:8080/"
        },
        "id": "Dwl45IlyLEMe",
        "outputId": "3a3a4774-d344-416a-f1ae-edf8b21383e3"
      },
      "execution_count": 13,
      "outputs": [
        {
          "output_type": "execute_result",
          "data": {
            "text/plain": [
              "0        MASS PVC RESIN B57QUANTITY 175 MT AT 1300 USD...\n",
              "1        PHTHALIC ANHYDRIDE PAQUANTITY 306 MT UNIT PRI...\n",
              "2         COMMODITY LLDPE TAISOX 3470 QUANTITY 320MT 2...\n",
              "3        COMMODITY         AMOUNTPOLYESTER TEXTURED YA...\n",
              "4        COMMODITY         AMOUNTPOLYESTER TEXTURED YA...\n",
              "                              ...                        \n",
              "8226     CFR KOBE JAPANVISCOSE RAYON STAPLE FIBER15DX4...\n",
              "8227     CFR KOBE JAPANVISCOSE RAYON STAPLE FIBER15DX4...\n",
              "8228     CFR KOBE JAPANVISCOSE RAYON STAPLE FIBER15DX4...\n",
              "8229     187 MT PVC RESIN SUSPENSION GRADE S65D OF FOR...\n",
              "8230     7000 MT IN 4X20 FT CONTAINERSPVC RESIN S60AS ...\n",
              "Name: 45A, Length: 8231, dtype: object"
            ]
          },
          "metadata": {},
          "execution_count": 13
        }
      ]
    },
    {
      "cell_type": "markdown",
      "source": [
        "# 建模"
      ],
      "metadata": {
        "id": "9-Z7BFmCNhWn"
      }
    },
    {
      "cell_type": "code",
      "source": [
        "%%time\n",
        "str_max_len = 100\n",
        "model = coresystem(\n",
        "    data_45.apply(lambda x:x[:str_max_len]).values.tolist(),\n",
        "    str_max_len=str_max_len)"
      ],
      "metadata": {
        "id": "8sj2oBv-M0wk",
        "outputId": "ce51cfc0-0772-4e21-b614-10465c685849",
        "colab": {
          "base_uri": "https://localhost:8080/"
        }
      },
      "execution_count": 14,
      "outputs": [
        {
          "metadata": {
            "tags": null
          },
          "name": "stderr",
          "output_type": "stream",
          "text": [
            "Some weights of the model checkpoint at distilbert-base-uncased were not used when initializing DistilBertForQuestionAnswering: ['vocab_projector.weight', 'vocab_layer_norm.bias', 'vocab_layer_norm.weight', 'vocab_transform.bias', 'vocab_transform.weight', 'vocab_projector.bias']\n",
            "- This IS expected if you are initializing DistilBertForQuestionAnswering from the checkpoint of a model trained on another task or with another architecture (e.g. initializing a BertForSequenceClassification model from a BertForPreTraining model).\n",
            "- This IS NOT expected if you are initializing DistilBertForQuestionAnswering from the checkpoint of a model that you expect to be exactly identical (initializing a BertForSequenceClassification model from a BertForSequenceClassification model).\n",
            "Some weights of DistilBertForQuestionAnswering were not initialized from the model checkpoint at distilbert-base-uncased and are newly initialized: ['qa_outputs.weight', 'qa_outputs.bias']\n",
            "You should probably TRAIN this model on a down-stream task to be able to use it for predictions and inference.\n"
          ]
        },
        {
          "output_type": "stream",
          "name": "stdout",
          "text": [
            "CPU times: user 8min 12s, sys: 1.69 s, total: 8min 13s\n",
            "Wall time: 8min 9s\n"
          ]
        }
      ]
    },
    {
      "cell_type": "markdown",
      "source": [
        "# 先用訓練數據測試"
      ],
      "metadata": {
        "id": "K7EryGifOov_"
      }
    },
    {
      "cell_type": "code",
      "source": [
        "%%time\n",
        "test_data = np.random.choice(data_45.apply(lambda x:x[:str_max_len]).values.tolist(),size=3).tolist()\n",
        "鄰居 = model.predict(test_data)\n",
        "for i,j in zip(test_data,鄰居):\n",
        "  print(i,'\\n','上面是測試資料,下面是鄰居','\\n',j)"
      ],
      "metadata": {
        "id": "665mt_VTOLNP",
        "outputId": "f86390e2-719b-45de-ecb3-dd87ae545478",
        "colab": {
          "base_uri": "https://localhost:8080/"
        }
      },
      "execution_count": 33,
      "outputs": [
        {
          "output_type": "stream",
          "name": "stdout",
          "text": [
            " HDPE RESIN TAISOX 8040C312MT AT USD1255MTPACKING25KGS PER BAG NO PALLET ATTACHEDTOTALUSD39156000CIF \n",
            " 上面是測試資料,下面是鄰居 \n",
            "  HDPE RESIN TAISOX 8040C312MT AT USD1255MTPACKING25KGS PER BAG NO PALLET ATTACHEDTOTALUSD39156000CIF\n",
            " DESCRIPTION OF GOODS QUANTITYMT UNIT PRICEUSDMT AMOUNTUSDPC RESINGRADE NO AC2820AH 15725  385000  6 \n",
            " 上面是測試資料,下面是鄰居 \n",
            "  DESCRIPTION OF GOODS QUANTITYMT UNIT PRICEUSDMT AMOUNTUSDPC RESINGRADE NO AC2820AH 15725  385000  6\n",
            " PURIFIED TEREPHTHALIC ACID 5016000KGTRADE TERMS F O B ANY PORT IN TAIWAN  \n",
            " 上面是測試資料,下面是鄰居 \n",
            "  PURIFIED TEREPHTHALIC ACID 5016000KGTRADE TERMS F O B ANY PORT IN TAIWAN \n",
            "CPU times: user 184 ms, sys: 0 ns, total: 184 ms\n",
            "Wall time: 186 ms\n"
          ]
        }
      ]
    },
    {
      "cell_type": "markdown",
      "source": [
        "# 再用外部測試數據測試"
      ],
      "metadata": {
        "id": "Gm3G4TPqUYs3"
      }
    },
    {
      "cell_type": "code",
      "source": [
        "test_data2 = pd.read_csv('/content/drive/MyDrive/NLP_dataset/Letter-of-Credit-Intelligent-Auxiliary-Semantic-Analysis-System/data/測試數據/0927到1210.csv')\n",
        "test_data2 = test_data2['45A'].apply(preprocess_45)\n",
        "test_data2 = test_data2.apply(lambda x:x[:str_max_len]).values.tolist()\n",
        "test_data2 = np.random.choice(test_data2,size=100).tolist()\n",
        "鄰居 = model.predict(test_data2)"
      ],
      "metadata": {
        "id": "RktMoS_WUQAG"
      },
      "execution_count": 45,
      "outputs": []
    },
    {
      "cell_type": "code",
      "source": [
        "n = 100\n",
        "for i,j in zip(test_data2[:n],鄰居[:n]):\n",
        "  try:\n",
        "    j = data_45[data_45==j].sample(1).values[0]\n",
        "    print(i,'\\n','上面是測試資料,下面是鄰居','\\n',j)\n",
        "  except:\n",
        "    pass"
      ],
      "metadata": {
        "id": "HMNUF87fUrtf",
        "outputId": "c1e7c9d6-0c36-445b-c183-4d4ebc66ff94",
        "colab": {
          "base_uri": "https://localhost:8080/"
        }
      },
      "execution_count": 61,
      "outputs": [
        {
          "output_type": "stream",
          "name": "stdout",
          "text": [
            " TERMS OF SALE CIF NHAVA SHEVA PORT INDIA288 MT OF PHTHALIC ANHYDRIDE AT USD 1230 PER MTAS PER PROFO \n",
            " 上面是測試資料,下面是鄰居 \n",
            "   TERMS OF PRICE CFR AQABA PORTJORDAN COUNTRY OF ORIGIN TAIWAN84 MT OF DOP \n",
            " FOB ANY SEAPORT IN TAIWANEVA 7350M VIRGIN RESIN 25MT AT USD257000MT  \n",
            " 上面是測試資料,下面是鄰居 \n",
            "  TAIRILIN BRAND POLYESTER FILM B GRADE  12U50U 40000 KGSCIF SHANGHAI PORT CHINA \n",
            " FOB ANY SEAPORT IN TAIWANEVA 7350M VIRGIN RESIN 50MT AT USD350500MT  \n",
            " 上面是測試資料,下面是鄰居 \n",
            "  CIP SHENZHENCHINAABS RESIN GRADE NOAG15E196MTUSD240500MT \n",
            " 5250 MT PVC RESIN S60 AT USD 1860MTAS PER PROFORMA INVOICE NO A3X10211177 DATED 22OCT2021TERMS OF D \n",
            " 上面是測試資料,下面是鄰居 \n",
            "  PVC SUSPENSION RESIN GRADE S65D54 MTAT USD1640 MTAS PER SC NO T21319CIF NHAVA SHEVA INDIA \n",
            " PURIFIED ISOPHTHALIC ACID  40 MTSCIF NHAVA SHEVA INDIA  \n",
            " 上面是測試資料,下面是鄰居 \n",
            "  PURIFIED ISOPHTHALIC ACID   360 MTSCIF NHAVA SHEVA PORT INDIA \n",
            " 48 MT PROPYLENE COPOLYMER GRADE NO K9017 AT USD202000MTAS PER POC8103CIF VANCOUVER BC CANADA  \n",
            " 上面是測試資料,下面是鄰居 \n",
            "  120 MT PROPYLENE COPOLYMER GRADE NO K9017 AT USD2090MTAS PER PO C8041CIP TORONTO ONTARIO CANADA \n",
            " COMMODITY   QUANTITY  UNIT PRICE  AMOUNT       CIF SHANGHAI CHINANYLON 6 FILAMENT YARN280D14F AA GR \n",
            " 上面是測試資料,下面是鄰居 \n",
            "  EVA TAISOX 7470MQTY120MT AT USD263500MTCIF SHATIAN CHINA \n",
            " METHYLENE CHLORIDE 5850 MTAT USD900PER MTCIF BANGKOK THAILAND  \n",
            " 上面是測試資料,下面是鄰居 \n",
            "  METHYLENE CHLORIDE 585 MTAT USD730PER MTCIF BANGKOK THAILAND \n",
            " PVC RESINGRADE B57QUANTITY 35 MTRATE USD 1710 MTAMOUNT USD 59850AS PER PROFORMA INVOICE P110118A01  \n",
            " 上面是測試資料,下面是鄰居 \n",
            "  HDPE TAISOX 9020QUANTITY 200MTUNIT PRICE USD 132000MTAMOUNT USD 26400000PRICE TERM CIF QINGDAO \n",
            " TERMS OF SALE CIF NHAVA SHEVA PORT INDIA17 MT OF PVC COPOLYMER RESIN C15 AT USD 1930 PMTAS PER PROF \n",
            " 上面是測試資料,下面是鄰居 \n",
            "   TERMS OF PRICE CFR AQABA PORTJORDAN COUNTRY OF ORIGIN TAIWAN84 MT OF DOP \n",
            " PET RESIN P115CIF ANY JAPANESE PORT  \n",
            " 上面是測試資料,下面是鄰居 \n",
            "  CIF JAPAN MAIN PORT OR AIRPORTCOPPER FOIL \n",
            " COMMODITY  QUANTITY  UNIT PRICEHDPE TAISOX 8050 170MT  USD1280MTCOMMODITY  QUANTITY  UNIT PRICEHDPE \n",
            " 上面是測試資料,下面是鄰居 \n",
            "  EPOXY RESIN1 NPEL 128 QTY 19200 KGS AT USD 475 PER KGCIF JEDDAH KSA \n",
            " HIGH IMPACT POLYSTYRENE GRADE NO HP825H  252000KGSCIF ANY CHINA PORT  \n",
            " 上面是測試資料,下面是鄰居 \n",
            "  HIGH IMPACT POLYSTYRENE GRADE NO HP825H 54000KGSCIF YUEYANG PORT CHINA \n",
            " PVC RESIN S60 FOR 105 MT AS PER SALES CONTRACT NOT21B18DATED19112021 UNDER PO NO 5500001461 DATED23 \n",
            " 上面是測試資料,下面是鄰居 \n",
            "  PVC SUSPENSION RESIN GRADE S65DQTY 108 MT AT USD1290MTAS PER SC NO T20C15CIF NHAVA SHEVA INDIA \n",
            "  COMMODITY POLYPROPYLENE RESIN GRADE   QUANTITY  UNIT PRICE       KGS  USDKG B1101   48000   1435 T \n",
            " 上面是測試資料,下面是鄰居 \n",
            "  14BUTANEDIOLQUANTITY32MTS UNIT PRICEUSD3200MTCIF HUANGPU PORT \n",
            " COMMODITY  PVC PASTE RESIN PRGQUANTITY 5000MTUNIT PRICE USD 1610MTTOTAL AMOUNT USD 8050000PRICE TER \n",
            " 上面是測試資料,下面是鄰居 \n",
            "  RESIN NPSN 901X75 QTY 17600 KGS AT USD 430 PER KGCIF DAMMAM KSA \n",
            " COPPER FOIL 10 OZ 51 IN 20 OZ 50IN 30 OZ 50INCIF LAT KRABANG INCOTERMS 2020AS PER PURCHASE ORDER NO \n",
            " 上面是測試資料,下面是鄰居 \n",
            "  CIF JAPAN MAIN PORT OR AIRPORTGLASS FABRICS \n",
            " TRIS 2ETHYLHEXYL TRIMELLITATE RAW MATERIAL TOTMCIF PORT KLANGMALAYSIA  \n",
            " 上面是測試資料,下面是鄰居 \n",
            "  TRIS 2ETHYLHEXYL TRIMELLITATE RAW MATERIAL TOTMCIF PORT KLANGMALAYSIA \n",
            " COMMODITY GPPS GP5250 QUANTITY 1300MT UNIT PRICE USD1420MT CONTRACT NO Y9094ORIGIN TAIWANPACKING IN \n",
            " 上面是測試資料,下面是鄰居 \n",
            "  TRADE TERM CIF LAEM CHABANG THAILAND HIGH IMPACT POLYSTYRENE RESIN HIPS HP825H NATURAL 396000 KGM \n",
            " DESCRIPTION QUANTITYMT UNIT PRICEUSDMT TOTAL AMOUNTUSD   POLYCARBONATE RESIN TARFLON   IV2200RWW  1 \n",
            " 上面是測試資料,下面是鄰居 \n",
            "  EPOXY RESINQUANTITY32000KGSAMOUNTUSD10240000CIF HUANGPU PORT CHINA \n",
            " TERMS OF PRICE CIF ANY SOUTH KOREAN PORTORIGIN TAIWANTAIRIREX POLYSTYRENEIMPORT COUNTRY HS NO390319 \n",
            " 上面是測試資料,下面是鄰居 \n",
            "  TERMS OF PRICE CIF BUSAN PORTCOUNTRY OF ORIGIN TAIWAN ROCGLASS FIBER YARNECG7510TECG7510B9 \n",
            " PVC COPOLYMER C15 4400 MT PACKING 25 KGBAGAT USD1710MT AMOUNT USD7524000TOTAL QUANTITY 4400 MTTOTAL \n",
            " 上面是測試資料,下面是鄰居 \n",
            "  PVC RESIN B 57 1225 MTSUNIT PRICE USD 1680 PER MTAS PER SALES CONTRACT NO T21409DATED 19 APR 2021 \n",
            " 952 MT OF PROPYLENE COPOLYMER GRADE K8050 AT USD 1950 PER MTPRICE BASIS CFR ANY PORT IN USA INCOTER \n",
            " 上面是測試資料,下面是鄰居 \n",
            "  896 MT OF PP COPOLYMER YUNGSOX 3504AT USD 1260 PER MTPRICE BASIS FOB ANY PORT IN TAIWAN \n",
            " METHYLENE CHLORIDE 5850 MTAT USD900PER MTCIF BANGKOK THAILAND  \n",
            " 上面是測試資料,下面是鄰居 \n",
            "  METHYLENE CHLORIDE 585 MTAT USD730PER MTCIF BANGKOK THAILAND \n"
          ]
        }
      ]
    },
    {
      "cell_type": "code",
      "source": [
        ""
      ],
      "metadata": {
        "id": "3GmD90uXWc1d"
      },
      "execution_count": null,
      "outputs": []
    }
  ]
}