{
 "cells": [
  {
   "cell_type": "code",
   "execution_count": 2,
   "source": [
    "import pandas as pd\r\n",
    "\r\n",
    "def add_space(x):\r\n",
    "    if (' ' not in x)&(len(x)<=5):\r\n",
    "        return ' ' + x + ' '\r\n",
    "    else:\r\n",
    "        return x\r\n",
    "\r\n",
    "def product_name_postprocess(x):\r\n",
    "    x = x.replace('-',' ')\r\n",
    "    x = x.strip()\r\n",
    "    x = add_space(x)\r\n",
    "    return x\r\n",
    "\r\n",
    "df = pd.read_excel('..\\data\\寶典\\寶典.v5.20211006.xlsx',engine='openpyxl')\r\n",
    "df = df.rename(columns={'ITEMNM':'品名','DIVNM':'公司事業部門','CODIV':'公司代號'})\r\n",
    "df['品名'] = df['品名'].apply(lambda x:product_name_postprocess(x))\r\n",
    "df['RIGID'].fillna('not value',inplace=True)\r\n",
    "df['EXTN'].fillna('not value',inplace=True)\r\n",
    "品名2部門 = dict(zip(df['品名'],df['公司事業部門']))\r\n",
    "品名2代號 = dict(zip(df['品名'],df['公司代號']))\r\n",
    "NAME = 'POLYPROPYLENE RESIN GRADE'"
   ],
   "outputs": [],
   "metadata": {}
  },
  {
   "cell_type": "code",
   "execution_count": 3,
   "source": [
    "品名2部門[NAME]"
   ],
   "outputs": [
    {
     "output_type": "execute_result",
     "data": {
      "text/plain": [
       "'塑聚丙烯部'"
      ]
     },
     "metadata": {},
     "execution_count": 3
    }
   ],
   "metadata": {}
  },
  {
   "cell_type": "code",
   "execution_count": 4,
   "source": [
    "品名2代號[NAME]"
   ],
   "outputs": [
    {
     "output_type": "execute_result",
     "data": {
      "text/plain": [
       "'1P'"
      ]
     },
     "metadata": {},
     "execution_count": 4
    }
   ],
   "metadata": {}
  },
  {
   "cell_type": "code",
   "execution_count": 5,
   "source": [
    "train_df = pd.read_csv('../data/preprocess_for_SQUAD_產品.csv')\r\n",
    "train_df['Y_label'] = train_df['Y_label'].apply(lambda x:x.strip()) #針對SPEC去除左右空白\r\n",
    "train_df[(train_df['Y_label']==NAME)]"
   ],
   "outputs": [
    {
     "output_type": "execute_result",
     "data": {
      "text/html": [
       "<div>\n",
       "<style scoped>\n",
       "    .dataframe tbody tr th:only-of-type {\n",
       "        vertical-align: middle;\n",
       "    }\n",
       "\n",
       "    .dataframe tbody tr th {\n",
       "        vertical-align: top;\n",
       "    }\n",
       "\n",
       "    .dataframe thead th {\n",
       "        text-align: right;\n",
       "    }\n",
       "</style>\n",
       "<table border=\"1\" class=\"dataframe\">\n",
       "  <thead>\n",
       "    <tr style=\"text-align: right;\">\n",
       "      <th></th>\n",
       "      <th>Unnamed: 0</th>\n",
       "      <th>string_X_train</th>\n",
       "      <th>Y_label</th>\n",
       "      <th>EXPNO</th>\n",
       "      <th>from</th>\n",
       "      <th>string_Y_1</th>\n",
       "      <th>string_Y_2</th>\n",
       "    </tr>\n",
       "  </thead>\n",
       "  <tbody>\n",
       "  </tbody>\n",
       "</table>\n",
       "</div>"
      ],
      "text/plain": [
       "Empty DataFrame\n",
       "Columns: [Unnamed: 0, string_X_train, Y_label, EXPNO, from, string_Y_1, string_Y_2]\n",
       "Index: []"
      ]
     },
     "metadata": {},
     "execution_count": 5
    }
   ],
   "metadata": {}
  },
  {
   "cell_type": "code",
   "execution_count": 6,
   "source": [
    "# 根據品名從訓練資料搜索EXPNO,然後把EXPNO代入保典裡找公司部門\r\n",
    "def find_department(x):\r\n",
    "    try:\r\n",
    "        return df.loc[df['公司代號']==train_df.loc[train_df.Y_label==x,'EXPNO'].dropna().value_counts().sort_values().index[-1],'公司事業部門'].value_counts().sort_values().index[-1]\r\n",
    "    except:\r\n",
    "        return 'not from_pretrained'"
   ],
   "outputs": [],
   "metadata": {}
  },
  {
   "cell_type": "code",
   "execution_count": 7,
   "source": [
    "find_department(NAME)"
   ],
   "outputs": [
    {
     "output_type": "execute_result",
     "data": {
      "text/plain": [
       "'not from_pretrained'"
      ]
     },
     "metadata": {},
     "execution_count": 7
    }
   ],
   "metadata": {}
  },
  {
   "cell_type": "code",
   "execution_count": 8,
   "source": [
    "df[df['品名']==NAME]"
   ],
   "outputs": [
    {
     "output_type": "execute_result",
     "data": {
      "text/html": [
       "<div>\n",
       "<style scoped>\n",
       "    .dataframe tbody tr th:only-of-type {\n",
       "        vertical-align: middle;\n",
       "    }\n",
       "\n",
       "    .dataframe tbody tr th {\n",
       "        vertical-align: top;\n",
       "    }\n",
       "\n",
       "    .dataframe thead th {\n",
       "        text-align: right;\n",
       "    }\n",
       "</style>\n",
       "<table border=\"1\" class=\"dataframe\">\n",
       "  <thead>\n",
       "    <tr style=\"text-align: right;\">\n",
       "      <th></th>\n",
       "      <th>RIGID</th>\n",
       "      <th>EXTN</th>\n",
       "      <th>公司代號</th>\n",
       "      <th>公司事業部門</th>\n",
       "      <th>品名</th>\n",
       "      <th>memo</th>\n",
       "    </tr>\n",
       "  </thead>\n",
       "  <tbody>\n",
       "    <tr>\n",
       "      <th>662</th>\n",
       "      <td>工讀生</td>\n",
       "      <td>6136</td>\n",
       "      <td>1P</td>\n",
       "      <td>塑聚丙烯部</td>\n",
       "      <td>POLYPROPYLENE RESIN GRADE</td>\n",
       "      <td>NaN</td>\n",
       "    </tr>\n",
       "  </tbody>\n",
       "</table>\n",
       "</div>"
      ],
      "text/plain": [
       "    RIGID  EXTN 公司代號 公司事業部門                         品名 memo\n",
       "662   工讀生  6136   1P  塑聚丙烯部  POLYPROPYLENE RESIN GRADE  NaN"
      ]
     },
     "metadata": {},
     "execution_count": 8
    }
   ],
   "metadata": {}
  },
  {
   "cell_type": "code",
   "execution_count": 9,
   "source": [
    "train_df[train_df['Y_label']==NAME]"
   ],
   "outputs": [
    {
     "output_type": "execute_result",
     "data": {
      "text/html": [
       "<div>\n",
       "<style scoped>\n",
       "    .dataframe tbody tr th:only-of-type {\n",
       "        vertical-align: middle;\n",
       "    }\n",
       "\n",
       "    .dataframe tbody tr th {\n",
       "        vertical-align: top;\n",
       "    }\n",
       "\n",
       "    .dataframe thead th {\n",
       "        text-align: right;\n",
       "    }\n",
       "</style>\n",
       "<table border=\"1\" class=\"dataframe\">\n",
       "  <thead>\n",
       "    <tr style=\"text-align: right;\">\n",
       "      <th></th>\n",
       "      <th>Unnamed: 0</th>\n",
       "      <th>string_X_train</th>\n",
       "      <th>Y_label</th>\n",
       "      <th>EXPNO</th>\n",
       "      <th>from</th>\n",
       "      <th>string_Y_1</th>\n",
       "      <th>string_Y_2</th>\n",
       "    </tr>\n",
       "  </thead>\n",
       "  <tbody>\n",
       "  </tbody>\n",
       "</table>\n",
       "</div>"
      ],
      "text/plain": [
       "Empty DataFrame\n",
       "Columns: [Unnamed: 0, string_X_train, Y_label, EXPNO, from, string_Y_1, string_Y_2]\n",
       "Index: []"
      ]
     },
     "metadata": {},
     "execution_count": 9
    }
   ],
   "metadata": {}
  },
  {
   "cell_type": "code",
   "execution_count": 10,
   "source": [
    "a = ' QUANTITY 155 MT OF PVC  SUSPENSION RESIN S70R AT USD 1620 PER MTAS PER TRICON REF NO 376031 DATED 16092021QUANTITY 150 MT OF PVC  SUSPENSION RESIN S75 AT USD 1640 PER MTAS PER TRICON REF NO 376032 DATED 16092021TERMS OF DELIVERY CIF PIPAVAV OR MUNDRA INDIA INCOTERMS 2020 '\r\n"
   ],
   "outputs": [],
   "metadata": {}
  },
  {
   "cell_type": "code",
   "execution_count": 11,
   "source": [
    "def g(x):\r\n",
    "    x = x.replace('   ', ' ')\r\n",
    "    x = x.replace('  ', ' ')\r\n",
    "    return x"
   ],
   "outputs": [],
   "metadata": {}
  },
  {
   "cell_type": "code",
   "execution_count": 12,
   "source": [
    "a"
   ],
   "outputs": [
    {
     "output_type": "execute_result",
     "data": {
      "text/plain": [
       "' QUANTITY 155 MT OF PVC  SUSPENSION RESIN S70R AT USD 1620 PER MTAS PER TRICON REF NO 376031 DATED 16092021QUANTITY 150 MT OF PVC  SUSPENSION RESIN S75 AT USD 1640 PER MTAS PER TRICON REF NO 376032 DATED 16092021TERMS OF DELIVERY CIF PIPAVAV OR MUNDRA INDIA INCOTERMS 2020 '"
      ]
     },
     "metadata": {},
     "execution_count": 12
    }
   ],
   "metadata": {}
  },
  {
   "cell_type": "code",
   "execution_count": 13,
   "source": [
    "g(a)"
   ],
   "outputs": [
    {
     "output_type": "execute_result",
     "data": {
      "text/plain": [
       "' QUANTITY 155 MT OF PVC SUSPENSION RESIN S70R AT USD 1620 PER MTAS PER TRICON REF NO 376031 DATED 16092021QUANTITY 150 MT OF PVC SUSPENSION RESIN S75 AT USD 1640 PER MTAS PER TRICON REF NO 376032 DATED 16092021TERMS OF DELIVERY CIF PIPAVAV OR MUNDRA INDIA INCOTERMS 2020 '"
      ]
     },
     "metadata": {},
     "execution_count": 13
    }
   ],
   "metadata": {}
  },
  {
   "cell_type": "code",
   "execution_count": null,
   "source": [],
   "outputs": [],
   "metadata": {}
  }
 ],
 "metadata": {
  "orig_nbformat": 4,
  "language_info": {
   "name": "python",
   "version": "3.8.5",
   "mimetype": "text/x-python",
   "codemirror_mode": {
    "name": "ipython",
    "version": 3
   },
   "pygments_lexer": "ipython3",
   "nbconvert_exporter": "python",
   "file_extension": ".py"
  },
  "kernelspec": {
   "name": "python3",
   "display_name": "Python 3.8.5 64-bit ('base': conda)"
  },
  "interpreter": {
   "hash": "2ccee5cc862501c1aad1cf19888c2a2eca4026b72d187db43d5e889cbdc6ee97"
  }
 },
 "nbformat": 4,
 "nbformat_minor": 2
}