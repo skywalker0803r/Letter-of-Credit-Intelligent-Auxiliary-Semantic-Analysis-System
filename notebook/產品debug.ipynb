{
 "cells": [
  {
   "cell_type": "code",
   "execution_count": 38,
   "metadata": {},
   "outputs": [
    {
     "data": {
      "text/html": [
       "<div>\n",
       "<style scoped>\n",
       "    .dataframe tbody tr th:only-of-type {\n",
       "        vertical-align: middle;\n",
       "    }\n",
       "\n",
       "    .dataframe tbody tr th {\n",
       "        vertical-align: top;\n",
       "    }\n",
       "\n",
       "    .dataframe thead th {\n",
       "        text-align: right;\n",
       "    }\n",
       "</style>\n",
       "<table border=\"1\" class=\"dataframe\">\n",
       "  <thead>\n",
       "    <tr style=\"text-align: right;\">\n",
       "      <th></th>\n",
       "      <th>45A</th>\n",
       "    </tr>\n",
       "  </thead>\n",
       "  <tbody>\n",
       "    <tr>\n",
       "      <th>0</th>\n",
       "      <td>ABS RESIN</td>\n",
       "    </tr>\n",
       "  </tbody>\n",
       "</table>\n",
       "</div>"
      ],
      "text/plain": [
       "         45A\n",
       "0  ABS RESIN"
      ]
     },
     "execution_count": 38,
     "metadata": {},
     "output_type": "execute_result"
    }
   ],
   "source": [
    "import pandas as pd\n",
    "from tqdm import tqdm_notebook as tqdm\n",
    "\n",
    "# jaccard文本相似度\n",
    "def get_jaccard_sim(str1, str2):\n",
    "    a = set(str1.split()) \n",
    "    b = set(str2.split())\n",
    "    c = a.intersection(b)\n",
    "    return float(len(c)) / (len(a) + len(b) - len(c))\n",
    "\n",
    "def add_space(x):\n",
    "    if (' ' not in x)&(len(x)<=5):\n",
    "        return ' ' + x + ' '\n",
    "    else:\n",
    "        return x\n",
    "\n",
    "def product_name_postprocess(x):\n",
    "    x = str(x)\n",
    "    x = x.replace('-',' ')\n",
    "    x = x.strip()\n",
    "    x = add_space(x)\n",
    "    return x\n",
    "\n",
    "def product_name_postprocessV2(x):\n",
    "    x = str(x)\n",
    "    x = x.replace('-','')\n",
    "    x = x.strip()\n",
    "    return x\n",
    "\n",
    "def Collection_method(df,產品集合,x_col):\n",
    "    labels = {}\n",
    "    labels_max = {}\n",
    "    for i in tqdm(df.index):\n",
    "        products = []\n",
    "        for p in 產品集合:\n",
    "            if (str(p) in str(df.loc[i,x_col])) | (get_jaccard_sim(str(p),str(df.loc[i,x_col]))>=0.9): # 模糊比對\n",
    "                products.append(str(p)) # 加入候選清單\n",
    "        if len(products) > 0: # 如果有找到產品 \n",
    "            labels[i] = products # 複數個產品,之後配合公司去篩選出一個\n",
    "            labels_max[i] = max(products,key=len) # 取長度最長的產品\n",
    "        else:\n",
    "            labels[i] = 'not find'\n",
    "            labels_max[i] = 'not find'\n",
    "    predict = pd.DataFrame(index=labels.keys(),columns=['預測產品'])\n",
    "    predict['預測產品'] = labels.values()\n",
    "    predict['預測產品(取長度最長)'] = labels_max.values()\n",
    "    predict['預測產品使用方式'] = 'rule'\n",
    "    return predict\n",
    "\n",
    "# 讀取訓練資料(SPEC)\n",
    "train_df = pd.read_csv('../data/preprocess_for_SQUAD_產品.csv')[['string_X_train','Y_label','EXPNO']]\n",
    "train_df_不加空白版本 = train_df.copy()#\n",
    "train_df['Y_label'] = train_df['Y_label'].apply(lambda x:product_name_postprocess(x))\n",
    "train_df_不加空白版本['Y_label'] = train_df_不加空白版本['Y_label'].apply(lambda x:product_name_postprocessV2(x)) #品名後處理\n",
    "\n",
    "# 讀取台塑網提供之(寶典人工手動修正過刪除線問題)\n",
    "root = '../data/寶典/寶典人工處理後/'\n",
    "\n",
    "df5 = pd.read_excel(root+'寶典.v6.20211020.xlsx',engine='openpyxl')[['CODIV','DIVNM','ITEMNM']]\n",
    "df5 = df5.rename(columns={'ITEMNM':'品名','DIVNM':'公司事業部門','CODIV':'公司代號'})\n",
    "\n",
    "# 我做的寶典\n",
    "df_by_ricky = pd.read_excel(root+'寶典_by_ricky.xlsx',engine='openpyxl')[['CODIV','DIVNM','ITEMNM']]\n",
    "df_by_ricky = df_by_ricky.rename(columns={'ITEMNM':'品名','DIVNM':'公司事業部門','CODIV':'公司代號'})\n",
    "\n",
    "#df = df1.append(df2).append(df3).append(df4).append(df5) # 合併所有寶典\n",
    "df = df5.append(df_by_ricky) # 合併官方寶典和我做的寶典\n",
    "df_不加空白版本 = df.copy()\n",
    "df['品名'] = df['品名'].apply(lambda x:product_name_postprocess(x)) #品名後處理\n",
    "df_不加空白版本['品名'] = df_不加空白版本['品名'].apply(lambda x:product_name_postprocessV2(x)) #品名後處理\n",
    "\n",
    "# 製作對應表(訓練資料對代號)\n",
    "品名2代號訓練資料 = dict(zip(train_df.dropna(subset=['EXPNO'],axis=0)['Y_label'],train_df.dropna(subset=['EXPNO'],axis=0)['EXPNO']))\n",
    "\n",
    "# 製作產品集合(寶典+SPEC)\n",
    "產品集合 = set(df['品名'].values.tolist())# + train_df['Y_label'].values.tolist())\n",
    "產品集合_不加空白版本 = set(df_不加空白版本['品名'].values.tolist() + train_df_不加空白版本['Y_label'].values.tolist())\n",
    "\n",
    "# 製作對應表(寶典對部門和代號)\n",
    "品名2部門寶典 = dict(zip(df['品名'],df['公司事業部門']))\n",
    "品名2代號寶典 = dict(zip(df['品名'],df['公司代號']))\n",
    "\n",
    "def map2部門(x):\n",
    "    if x in 品名2部門寶典.keys(): #先從寶典找\n",
    "        return str(品名2部門寶典[x])\n",
    "    elif x in train_df['Y_label'].values.tolist(): #找不到從訓練資料找\n",
    "        return str(find_department(x))\n",
    "    else:# 模糊比對\n",
    "        print('模糊比對')\n",
    "        jacs = {}\n",
    "        for i in 品名2部門寶典.keys():\n",
    "            jacs[i] = get_jaccard_sim(x,i)\n",
    "        x = max(jacs,key=jacs.get) # 模糊比對\n",
    "        return map2部門(x)\n",
    "\n",
    "def map2代號(x):\n",
    "    if  x in 品名2代號寶典.keys(): #先從寶典找\n",
    "        return str(品名2代號寶典[x])\n",
    "    elif x in 品名2代號訓練資料.keys(): #找不到從訓練資料找\n",
    "        return str(品名2代號訓練資料[x])\n",
    "    else:# 模糊比對\n",
    "        print('模糊比對')\n",
    "        jacs = {}\n",
    "        for i in 品名2代號寶典.keys():\n",
    "            jacs[i] = get_jaccard_sim(x,i)\n",
    "        x = max(jacs,key=jacs.get) # 模糊比對\n",
    "        return map2代號(x)\n",
    "\n",
    "NAME = \"ABS RESIN\"\n",
    "test_df = pd.DataFrame()\n",
    "test_df['45A'] = [NAME]\n",
    "test_df"
   ]
  },
  {
   "cell_type": "code",
   "execution_count": 39,
   "metadata": {},
   "outputs": [
    {
     "name": "stderr",
     "output_type": "stream",
     "text": [
      "C:\\Users\\ricky\\AppData\\Local\\Temp/ipykernel_10536/4058755502.py:33: TqdmDeprecationWarning: This function will be removed in tqdm==5.0.0\n",
      "Please use `tqdm.notebook.tqdm` instead of `tqdm.tqdm_notebook`\n",
      "  for i in tqdm(df.index):\n"
     ]
    },
    {
     "data": {
      "application/vnd.jupyter.widget-view+json": {
       "model_id": "4aba17abaed846768fe0bfe120b51bda",
       "version_major": 2,
       "version_minor": 0
      },
      "text/plain": [
       "HBox(children=(FloatProgress(value=0.0, max=1.0), HTML(value='')))"
      ]
     },
     "metadata": {},
     "output_type": "display_data"
    },
    {
     "name": "stdout",
     "output_type": "stream",
     "text": [
      "\n"
     ]
    },
    {
     "data": {
      "text/html": [
       "<div>\n",
       "<style scoped>\n",
       "    .dataframe tbody tr th:only-of-type {\n",
       "        vertical-align: middle;\n",
       "    }\n",
       "\n",
       "    .dataframe tbody tr th {\n",
       "        vertical-align: top;\n",
       "    }\n",
       "\n",
       "    .dataframe thead th {\n",
       "        text-align: right;\n",
       "    }\n",
       "</style>\n",
       "<table border=\"1\" class=\"dataframe\">\n",
       "  <thead>\n",
       "    <tr style=\"text-align: right;\">\n",
       "      <th></th>\n",
       "      <th>預測產品</th>\n",
       "      <th>預測產品(取長度最長)</th>\n",
       "      <th>預測產品使用方式</th>\n",
       "      <th>部門</th>\n",
       "      <th>代號</th>\n",
       "    </tr>\n",
       "  </thead>\n",
       "  <tbody>\n",
       "    <tr>\n",
       "      <th>0</th>\n",
       "      <td>(ABS RESIN,)</td>\n",
       "      <td>ABS RESIN</td>\n",
       "      <td>rule</td>\n",
       "      <td>台化塑膠事業部</td>\n",
       "      <td>4A</td>\n",
       "    </tr>\n",
       "  </tbody>\n",
       "</table>\n",
       "</div>"
      ],
      "text/plain": [
       "           預測產品 預測產品(取長度最長) 預測產品使用方式       部門  代號\n",
       "0  (ABS RESIN,)   ABS RESIN     rule  台化塑膠事業部  4A"
      ]
     },
     "execution_count": 39,
     "metadata": {},
     "output_type": "execute_result"
    }
   ],
   "source": [
    "res = Collection_method(test_df,產品集合,'45A')\n",
    "res['部門'] = map2部門(res['預測產品(取長度最長)'].values[0])\n",
    "res['代號'] = map2代號(res['預測產品(取長度最長)'].values[0])\n",
    "res"
   ]
  },
  {
   "cell_type": "code",
   "execution_count": 40,
   "metadata": {},
   "outputs": [
    {
     "name": "stderr",
     "output_type": "stream",
     "text": [
      "C:\\Users\\ricky\\AppData\\Local\\Temp/ipykernel_10536/4058755502.py:33: TqdmDeprecationWarning: This function will be removed in tqdm==5.0.0\n",
      "Please use `tqdm.notebook.tqdm` instead of `tqdm.tqdm_notebook`\n",
      "  for i in tqdm(df.index):\n"
     ]
    },
    {
     "data": {
      "application/vnd.jupyter.widget-view+json": {
       "model_id": "bd59c0223d034890b8dff0ee62cda4f7",
       "version_major": 2,
       "version_minor": 0
      },
      "text/plain": [
       "HBox(children=(FloatProgress(value=0.0, max=1.0), HTML(value='')))"
      ]
     },
     "metadata": {},
     "output_type": "display_data"
    },
    {
     "name": "stdout",
     "output_type": "stream",
     "text": [
      "\n"
     ]
    },
    {
     "data": {
      "text/html": [
       "<div>\n",
       "<style scoped>\n",
       "    .dataframe tbody tr th:only-of-type {\n",
       "        vertical-align: middle;\n",
       "    }\n",
       "\n",
       "    .dataframe tbody tr th {\n",
       "        vertical-align: top;\n",
       "    }\n",
       "\n",
       "    .dataframe thead th {\n",
       "        text-align: right;\n",
       "    }\n",
       "</style>\n",
       "<table border=\"1\" class=\"dataframe\">\n",
       "  <thead>\n",
       "    <tr style=\"text-align: right;\">\n",
       "      <th></th>\n",
       "      <th>預測產品</th>\n",
       "      <th>預測產品(取長度最長)</th>\n",
       "      <th>預測產品使用方式</th>\n",
       "      <th>部門</th>\n",
       "      <th>代號</th>\n",
       "    </tr>\n",
       "  </thead>\n",
       "  <tbody>\n",
       "    <tr>\n",
       "      <th>0</th>\n",
       "      <td>(RESIN, ABS RESIN, ABS)</td>\n",
       "      <td>ABS RESIN</td>\n",
       "      <td>rule</td>\n",
       "      <td>台化塑膠事業部</td>\n",
       "      <td>4A</td>\n",
       "    </tr>\n",
       "  </tbody>\n",
       "</table>\n",
       "</div>"
      ],
      "text/plain": [
       "                      預測產品 預測產品(取長度最長) 預測產品使用方式       部門  代號\n",
       "0  (RESIN, ABS RESIN, ABS)   ABS RESIN     rule  台化塑膠事業部  4A"
      ]
     },
     "execution_count": 40,
     "metadata": {},
     "output_type": "execute_result"
    }
   ],
   "source": [
    "res = Collection_method(test_df,產品集合_不加空白版本,'45A')\n",
    "res['部門'] = map2部門(res['預測產品(取長度最長)'].values[0])\n",
    "res['代號'] = map2代號(res['預測產品(取長度最長)'].values[0])\n",
    "res"
   ]
  },
  {
   "cell_type": "code",
   "execution_count": null,
   "metadata": {},
   "outputs": [],
   "source": []
  },
  {
   "cell_type": "code",
   "execution_count": null,
   "metadata": {},
   "outputs": [],
   "source": []
  }
 ],
 "metadata": {
  "interpreter": {
   "hash": "2ccee5cc862501c1aad1cf19888c2a2eca4026b72d187db43d5e889cbdc6ee97"
  },
  "kernelspec": {
   "display_name": "Python 3.8.5 64-bit ('base': conda)",
   "name": "python3"
  },
  "language_info": {
   "codemirror_mode": {
    "name": "ipython",
    "version": 3
   },
   "file_extension": ".py",
   "mimetype": "text/x-python",
   "name": "python",
   "nbconvert_exporter": "python",
   "pygments_lexer": "ipython3",
   "version": "3.8.5"
  },
  "orig_nbformat": 4
 },
 "nbformat": 4,
 "nbformat_minor": 2
}
