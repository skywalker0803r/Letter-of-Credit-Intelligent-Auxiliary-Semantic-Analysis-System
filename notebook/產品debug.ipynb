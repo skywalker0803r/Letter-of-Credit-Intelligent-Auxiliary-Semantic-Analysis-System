{
 "cells": [
  {
   "cell_type": "code",
   "execution_count": 2,
   "metadata": {},
   "outputs": [],
   "source": [
    "import pandas as pd\n",
    "from tqdm import tqdm_notebook as tqdm\n",
    "\n",
    "def add_space(x):\n",
    "    if (' ' not in x)&(len(x)<=5):\n",
    "        return ' ' + x + ' '\n",
    "    else:\n",
    "        return x\n",
    "\n",
    "def product_name_postprocess(x):\n",
    "    x = x.replace('-',' ')\n",
    "    x = x.strip()\n",
    "    x = add_space(x)\n",
    "    return x\n",
    "\n",
    "# 讀取台塑網提供之(寶典)\n",
    "df1 = pd.read_excel('../data/寶典/台塑企業_ 產品寶典20210303.xlsx',engine='openpyxl')[['公司代號','公司事業部門','品名']]\n",
    "df2 = pd.read_excel('../data/寶典/寶典.v3.台塑網.20210901.xlsx',engine='openpyxl')[['CODIV','DIVNM','ITEMNM']].rename(columns={'ITEMNM':'品名','DIVNM':'公司事業部門','CODIV':'公司代號'})\n",
    "df3 = pd.read_excel('../data/寶典/寶典.v4.20211001.xlsx',engine='openpyxl').rename(columns={'ITEMNM':'品名','DIVNM':'公司事業部門','CODIV':'公司代號'})\n",
    "df4 = pd.read_excel('../data/寶典/寶典.v5.20211006.xlsx',engine='openpyxl').rename(columns={'ITEMNM':'品名','DIVNM':'公司事業部門','CODIV':'公司代號'})\n",
    "df = df1.append(df2).append(df3).append(df4) # 合併所有寶典\n",
    "df['品名'] = df['品名'].apply(lambda x:product_name_postprocess(x)) #品名後處理\n",
    "NAME = 'GLASS FABRICS'"
   ]
  },
  {
   "cell_type": "code",
   "execution_count": 3,
   "metadata": {},
   "outputs": [
    {
     "data": {
      "text/html": [
       "<div>\n",
       "<style scoped>\n",
       "    .dataframe tbody tr th:only-of-type {\n",
       "        vertical-align: middle;\n",
       "    }\n",
       "\n",
       "    .dataframe tbody tr th {\n",
       "        vertical-align: top;\n",
       "    }\n",
       "\n",
       "    .dataframe thead th {\n",
       "        text-align: right;\n",
       "    }\n",
       "</style>\n",
       "<table border=\"1\" class=\"dataframe\">\n",
       "  <thead>\n",
       "    <tr style=\"text-align: right;\">\n",
       "      <th></th>\n",
       "      <th>公司代號</th>\n",
       "      <th>公司事業部門</th>\n",
       "      <th>品名</th>\n",
       "      <th>RIGID</th>\n",
       "      <th>EXTN</th>\n",
       "      <th>memo</th>\n",
       "    </tr>\n",
       "  </thead>\n",
       "  <tbody>\n",
       "    <tr>\n",
       "      <th>609</th>\n",
       "      <td>2G</td>\n",
       "      <td>南亞電子部三處</td>\n",
       "      <td>GLASS FABRICS</td>\n",
       "      <td>NaN</td>\n",
       "      <td>NaN</td>\n",
       "      <td>NaN</td>\n",
       "    </tr>\n",
       "    <tr>\n",
       "      <th>983</th>\n",
       "      <td>28</td>\n",
       "      <td>電子材料事業部</td>\n",
       "      <td>GLASS FABRICS</td>\n",
       "      <td>NaN</td>\n",
       "      <td>NaN</td>\n",
       "      <td>NaN</td>\n",
       "    </tr>\n",
       "    <tr>\n",
       "      <th>253</th>\n",
       "      <td>28</td>\n",
       "      <td>電子材料事業部</td>\n",
       "      <td>GLASS FABRICS</td>\n",
       "      <td>NaN</td>\n",
       "      <td>NaN</td>\n",
       "      <td>NaN</td>\n",
       "    </tr>\n",
       "    <tr>\n",
       "      <th>461</th>\n",
       "      <td>2G</td>\n",
       "      <td>南亞電子部三處</td>\n",
       "      <td>GLASS FABRICS</td>\n",
       "      <td>NaN</td>\n",
       "      <td>NaN</td>\n",
       "      <td>NaN</td>\n",
       "    </tr>\n",
       "    <tr>\n",
       "      <th>253</th>\n",
       "      <td>28</td>\n",
       "      <td>電子材料事業部</td>\n",
       "      <td>GLASS FABRICS</td>\n",
       "      <td>NaN</td>\n",
       "      <td>NaN</td>\n",
       "      <td>NaN</td>\n",
       "    </tr>\n",
       "    <tr>\n",
       "      <th>461</th>\n",
       "      <td>2G</td>\n",
       "      <td>南亞電子部三處</td>\n",
       "      <td>GLASS FABRICS</td>\n",
       "      <td>郝璟憓</td>\n",
       "      <td>5831</td>\n",
       "      <td>NaN</td>\n",
       "    </tr>\n",
       "    <tr>\n",
       "      <th>255</th>\n",
       "      <td>28</td>\n",
       "      <td>電子材料事業部</td>\n",
       "      <td>GLASS FABRICS</td>\n",
       "      <td>NaN</td>\n",
       "      <td>NaN</td>\n",
       "      <td>NaN</td>\n",
       "    </tr>\n",
       "    <tr>\n",
       "      <th>465</th>\n",
       "      <td>2G</td>\n",
       "      <td>南亞電子部三處</td>\n",
       "      <td>GLASS FABRICS</td>\n",
       "      <td>郝璟憓</td>\n",
       "      <td>5831</td>\n",
       "      <td>NaN</td>\n",
       "    </tr>\n",
       "  </tbody>\n",
       "</table>\n",
       "</div>"
      ],
      "text/plain": [
       "    公司代號   公司事業部門             品名 RIGID  EXTN memo\n",
       "609   2G  南亞電子部三處  GLASS FABRICS   NaN   NaN  NaN\n",
       "983   28  電子材料事業部  GLASS FABRICS   NaN   NaN  NaN\n",
       "253   28  電子材料事業部  GLASS FABRICS   NaN   NaN  NaN\n",
       "461   2G  南亞電子部三處  GLASS FABRICS   NaN   NaN  NaN\n",
       "253   28  電子材料事業部  GLASS FABRICS   NaN   NaN  NaN\n",
       "461   2G  南亞電子部三處  GLASS FABRICS   郝璟憓  5831  NaN\n",
       "255   28  電子材料事業部  GLASS FABRICS   NaN   NaN  NaN\n",
       "465   2G  南亞電子部三處  GLASS FABRICS   郝璟憓  5831  NaN"
      ]
     },
     "metadata": {},
     "output_type": "display_data"
    },
    {
     "data": {
      "text/plain": [
       "2G    4\n",
       "28    3\n",
       "28    1\n",
       "Name: 公司代號, dtype: int64"
      ]
     },
     "metadata": {},
     "output_type": "display_data"
    }
   ],
   "source": [
    "display(df[df['品名']==NAME])\n",
    "display(df[df['品名']==NAME]['公司代號'].value_counts())"
   ]
  },
  {
   "cell_type": "code",
   "execution_count": 4,
   "metadata": {},
   "outputs": [
    {
     "name": "stderr",
     "output_type": "stream",
     "text": [
      "<ipython-input-4-faf643c1cda1>:2: TqdmDeprecationWarning: This function will be removed in tqdm==5.0.0\n",
      "Please use `tqdm.notebook.tqdm` instead of `tqdm.tqdm_notebook`\n",
      "  for i in tqdm(df['品名'].values):\n"
     ]
    },
    {
     "data": {
      "application/vnd.jupyter.widget-view+json": {
       "model_id": "66a003abb1c0477a91d24b84fbcd8df2",
       "version_major": 2,
       "version_minor": 0
      },
      "text/plain": [
       "HBox(children=(HTML(value=''), FloatProgress(value=0.0, max=4399.0), HTML(value='')))"
      ]
     },
     "metadata": {},
     "output_type": "display_data"
    },
    {
     "name": "stdout",
     "output_type": "stream",
     "text": [
      "\n"
     ]
    },
    {
     "name": "stderr",
     "output_type": "stream",
     "text": [
      "<ipython-input-4-faf643c1cda1>:5: TqdmDeprecationWarning: This function will be removed in tqdm==5.0.0\n",
      "Please use `tqdm.notebook.tqdm` instead of `tqdm.tqdm_notebook`\n",
      "  for i in tqdm(df['品名'].values):\n"
     ]
    },
    {
     "data": {
      "application/vnd.jupyter.widget-view+json": {
       "model_id": "d443a3606b3b437eb9597293adbe3914",
       "version_major": 2,
       "version_minor": 0
      },
      "text/plain": [
       "HBox(children=(HTML(value=''), FloatProgress(value=0.0, max=4399.0), HTML(value='')))"
      ]
     },
     "metadata": {},
     "output_type": "display_data"
    },
    {
     "name": "stdout",
     "output_type": "stream",
     "text": [
      "\n"
     ]
    }
   ],
   "source": [
    "品名2部門 = {}\n",
    "for i in tqdm(df['品名'].values):\n",
    "    品名2部門[i] = df.loc[df['品名']==i,'公司事業部門'].values.tolist()\n",
    "品名2代號 = {}\n",
    "for i in tqdm(df['品名'].values):\n",
    "    品名2代號[i] = df.loc[df['品名']==i,'公司代號'].values.tolist()"
   ]
  },
  {
   "cell_type": "code",
   "execution_count": 5,
   "metadata": {},
   "outputs": [
    {
     "data": {
      "text/plain": [
       "['南亞電子部三處',\n",
       " '電子材料事業部',\n",
       " '電子材料事業部',\n",
       " '南亞電子部三處',\n",
       " '電子材料事業部',\n",
       " '南亞電子部三處',\n",
       " '電子材料事業部',\n",
       " '南亞電子部三處']"
      ]
     },
     "metadata": {},
     "output_type": "display_data"
    },
    {
     "data": {
      "text/plain": [
       "['2G', 28, '28', '2G', '28', '2G', '28', '2G']"
      ]
     },
     "metadata": {},
     "output_type": "display_data"
    }
   ],
   "source": [
    "display(品名2部門[NAME])\n",
    "display(品名2代號[NAME])"
   ]
  },
  {
   "cell_type": "code",
   "execution_count": 6,
   "metadata": {},
   "outputs": [
    {
     "data": {
      "text/html": [
       "<div>\n",
       "<style scoped>\n",
       "    .dataframe tbody tr th:only-of-type {\n",
       "        vertical-align: middle;\n",
       "    }\n",
       "\n",
       "    .dataframe tbody tr th {\n",
       "        vertical-align: top;\n",
       "    }\n",
       "\n",
       "    .dataframe thead th {\n",
       "        text-align: right;\n",
       "    }\n",
       "</style>\n",
       "<table border=\"1\" class=\"dataframe\">\n",
       "  <thead>\n",
       "    <tr style=\"text-align: right;\">\n",
       "      <th></th>\n",
       "      <th>Unnamed: 0</th>\n",
       "      <th>string_X_train</th>\n",
       "      <th>Y_label</th>\n",
       "      <th>EXPNO</th>\n",
       "      <th>from</th>\n",
       "      <th>string_Y_1</th>\n",
       "      <th>string_Y_2</th>\n",
       "    </tr>\n",
       "  </thead>\n",
       "  <tbody>\n",
       "    <tr>\n",
       "      <th>2529</th>\n",
       "      <td>3141</td>\n",
       "      <td>GLASS FABRICS CIF JAPANESE MAIN PORT</td>\n",
       "      <td>GLASS FABRICS</td>\n",
       "      <td>2G</td>\n",
       "      <td>202102.xlsx</td>\n",
       "      <td>1</td>\n",
       "      <td>14</td>\n",
       "    </tr>\n",
       "    <tr>\n",
       "      <th>2530</th>\n",
       "      <td>3142</td>\n",
       "      <td>GLASS FABRICS CIF JAPANESE MAIN PORT</td>\n",
       "      <td>GLASS FABRICS</td>\n",
       "      <td>2G</td>\n",
       "      <td>202102.xlsx</td>\n",
       "      <td>1</td>\n",
       "      <td>14</td>\n",
       "    </tr>\n",
       "    <tr>\n",
       "      <th>2531</th>\n",
       "      <td>3143</td>\n",
       "      <td>GLASS FABRICS CIF JAPANESE MAIN PORT</td>\n",
       "      <td>GLASS FABRICS</td>\n",
       "      <td>2G</td>\n",
       "      <td>202102.xlsx</td>\n",
       "      <td>1</td>\n",
       "      <td>14</td>\n",
       "    </tr>\n",
       "    <tr>\n",
       "      <th>2532</th>\n",
       "      <td>3144</td>\n",
       "      <td>GLASS FABRICS CIF JAPANESE MAIN PORT</td>\n",
       "      <td>GLASS FABRICS</td>\n",
       "      <td>2G</td>\n",
       "      <td>202102.xlsx</td>\n",
       "      <td>1</td>\n",
       "      <td>14</td>\n",
       "    </tr>\n",
       "    <tr>\n",
       "      <th>2533</th>\n",
       "      <td>3145</td>\n",
       "      <td>GLASS FABRICS CIF JAPANESE MAIN PORT</td>\n",
       "      <td>GLASS FABRICS</td>\n",
       "      <td>2G</td>\n",
       "      <td>202102.xlsx</td>\n",
       "      <td>1</td>\n",
       "      <td>14</td>\n",
       "    </tr>\n",
       "    <tr>\n",
       "      <th>...</th>\n",
       "      <td>...</td>\n",
       "      <td>...</td>\n",
       "      <td>...</td>\n",
       "      <td>...</td>\n",
       "      <td>...</td>\n",
       "      <td>...</td>\n",
       "      <td>...</td>\n",
       "    </tr>\n",
       "    <tr>\n",
       "      <th>11299</th>\n",
       "      <td>20375</td>\n",
       "      <td>DESCRIPTION GLASS FABRICS QUANTITY560000MAMOUN...</td>\n",
       "      <td>GLASS FABRICS</td>\n",
       "      <td>2G</td>\n",
       "      <td>202012161231.xlsx</td>\n",
       "      <td>12</td>\n",
       "      <td>25</td>\n",
       "    </tr>\n",
       "    <tr>\n",
       "      <th>11300</th>\n",
       "      <td>20376</td>\n",
       "      <td>DESCRIPTION GLASS FABRICS QUANTITY560000MAMOUN...</td>\n",
       "      <td>GLASS FABRICS</td>\n",
       "      <td>2G</td>\n",
       "      <td>202012161231.xlsx</td>\n",
       "      <td>12</td>\n",
       "      <td>25</td>\n",
       "    </tr>\n",
       "    <tr>\n",
       "      <th>11301</th>\n",
       "      <td>20377</td>\n",
       "      <td>DESCRIPTION GLASS FABRICS QUANTITY560000MAMOUN...</td>\n",
       "      <td>GLASS FABRICS</td>\n",
       "      <td>2G</td>\n",
       "      <td>202012161231.xlsx</td>\n",
       "      <td>12</td>\n",
       "      <td>25</td>\n",
       "    </tr>\n",
       "    <tr>\n",
       "      <th>11302</th>\n",
       "      <td>20378</td>\n",
       "      <td>DESCRIPTION GLASS FABRICS QUANTITY560000MAMOUN...</td>\n",
       "      <td>GLASS FABRICS</td>\n",
       "      <td>2G</td>\n",
       "      <td>202012161231.xlsx</td>\n",
       "      <td>12</td>\n",
       "      <td>25</td>\n",
       "    </tr>\n",
       "    <tr>\n",
       "      <th>11307</th>\n",
       "      <td>20386</td>\n",
       "      <td>ABOUT 50000M OF  GLASS FABRICS  CC I702GAS PER...</td>\n",
       "      <td>GLASS FABRICS</td>\n",
       "      <td>NaN</td>\n",
       "      <td>202012161231.xlsx</td>\n",
       "      <td>17</td>\n",
       "      <td>30</td>\n",
       "    </tr>\n",
       "  </tbody>\n",
       "</table>\n",
       "<p>174 rows × 7 columns</p>\n",
       "</div>"
      ],
      "text/plain": [
       "       Unnamed: 0                                     string_X_train  \\\n",
       "2529         3141               GLASS FABRICS CIF JAPANESE MAIN PORT   \n",
       "2530         3142               GLASS FABRICS CIF JAPANESE MAIN PORT   \n",
       "2531         3143               GLASS FABRICS CIF JAPANESE MAIN PORT   \n",
       "2532         3144               GLASS FABRICS CIF JAPANESE MAIN PORT   \n",
       "2533         3145               GLASS FABRICS CIF JAPANESE MAIN PORT   \n",
       "...           ...                                                ...   \n",
       "11299       20375  DESCRIPTION GLASS FABRICS QUANTITY560000MAMOUN...   \n",
       "11300       20376  DESCRIPTION GLASS FABRICS QUANTITY560000MAMOUN...   \n",
       "11301       20377  DESCRIPTION GLASS FABRICS QUANTITY560000MAMOUN...   \n",
       "11302       20378  DESCRIPTION GLASS FABRICS QUANTITY560000MAMOUN...   \n",
       "11307       20386  ABOUT 50000M OF  GLASS FABRICS  CC I702GAS PER...   \n",
       "\n",
       "             Y_label EXPNO               from  string_Y_1  string_Y_2  \n",
       "2529   GLASS FABRICS    2G        202102.xlsx           1          14  \n",
       "2530   GLASS FABRICS    2G        202102.xlsx           1          14  \n",
       "2531   GLASS FABRICS    2G        202102.xlsx           1          14  \n",
       "2532   GLASS FABRICS    2G        202102.xlsx           1          14  \n",
       "2533   GLASS FABRICS    2G        202102.xlsx           1          14  \n",
       "...              ...   ...                ...         ...         ...  \n",
       "11299  GLASS FABRICS    2G  202012161231.xlsx          12          25  \n",
       "11300  GLASS FABRICS    2G  202012161231.xlsx          12          25  \n",
       "11301  GLASS FABRICS    2G  202012161231.xlsx          12          25  \n",
       "11302  GLASS FABRICS    2G  202012161231.xlsx          12          25  \n",
       "11307  GLASS FABRICS   NaN  202012161231.xlsx          17          30  \n",
       "\n",
       "[174 rows x 7 columns]"
      ]
     },
     "metadata": {},
     "output_type": "display_data"
    },
    {
     "name": "stderr",
     "output_type": "stream",
     "text": [
      "<ipython-input-6-120c27a2064d>:6: TqdmDeprecationWarning: This function will be removed in tqdm==5.0.0\n",
      "Please use `tqdm.notebook.tqdm` instead of `tqdm.tqdm_notebook`\n",
      "  for i in tqdm(train_df['Y_label'].values):\n"
     ]
    },
    {
     "data": {
      "application/vnd.jupyter.widget-view+json": {
       "model_id": "d60d4ac9a07842379de12282f030a38f",
       "version_major": 2,
       "version_minor": 0
      },
      "text/plain": [
       "HBox(children=(HTML(value=''), FloatProgress(value=0.0, max=11571.0), HTML(value='')))"
      ]
     },
     "metadata": {},
     "output_type": "display_data"
    },
    {
     "name": "stdout",
     "output_type": "stream",
     "text": [
      "\n"
     ]
    },
    {
     "data": {
      "text/plain": [
       "['2G']"
      ]
     },
     "metadata": {},
     "output_type": "display_data"
    },
    {
     "data": {
      "text/plain": [
       "['not from_pretrained']"
      ]
     },
     "metadata": {},
     "output_type": "display_data"
    }
   ],
   "source": [
    "# 從traindata裡找\n",
    "train_df = pd.read_csv('../data/preprocess_for_SQUAD_產品.csv')\n",
    "train_df['Y_label'] = train_df['Y_label'].apply(lambda x:x.strip()) #針對SPEC去除左右空白\n",
    "display(train_df[(train_df['Y_label']==NAME)])\n",
    "品名2代號訓練資料 = {}\n",
    "for i in tqdm(train_df['Y_label'].values):\n",
    "    品名2代號訓練資料[i] = train_df.dropna(subset=['EXPNO'],axis=0).loc[train_df['Y_label']==i,'EXPNO'].unique().tolist()\n",
    "# 根據品名從訓練資料搜索EXPNO,然後把EXPNO代入保典裡找公司部門\n",
    "def find_department(x):\n",
    "    try:\n",
    "        return [df.loc[df['公司代號']==品名2代號訓練資料[x],'公司事業部門'].value_counts().sort_values().index[-1]]\n",
    "    except:\n",
    "        return ['not from_pretrained']\n",
    "display(品名2代號訓練資料[NAME])\n",
    "display(find_department(NAME))"
   ]
  },
  {
   "cell_type": "code",
   "execution_count": 7,
   "metadata": {},
   "outputs": [],
   "source": [
    "import numpy as np\n",
    "\n",
    "np.save('../data/對應表/品名2部門.npy',品名2部門)\n",
    "np.save('../data/對應表/品名2代號.npy',品名2代號)\n",
    "np.save('../data/對應表/品名2代號訓練資料.npy',品名2代號訓練資料)"
   ]
  },
  {
   "cell_type": "code",
   "execution_count": null,
   "metadata": {},
   "outputs": [],
   "source": []
  }
 ],
 "metadata": {
  "interpreter": {
   "hash": "2ccee5cc862501c1aad1cf19888c2a2eca4026b72d187db43d5e889cbdc6ee97"
  },
  "kernelspec": {
   "display_name": "Python 3.8.5 64-bit ('base': conda)",
   "name": "python3"
  },
  "language_info": {
   "codemirror_mode": {
    "name": "ipython",
    "version": 3
   },
   "file_extension": ".py",
   "mimetype": "text/x-python",
   "name": "python",
   "nbconvert_exporter": "python",
   "pygments_lexer": "ipython3",
   "version": "3.8.5"
  },
  "orig_nbformat": 4
 },
 "nbformat": 4,
 "nbformat_minor": 2
}
