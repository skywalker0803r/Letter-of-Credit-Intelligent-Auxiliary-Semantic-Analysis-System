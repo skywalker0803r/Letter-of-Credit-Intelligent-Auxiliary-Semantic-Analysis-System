{
 "cells": [
  {
   "cell_type": "code",
   "execution_count": 4,
   "metadata": {},
   "outputs": [],
   "source": [
    "import pandas as pd\n",
    "from tqdm import tqdm_notebook as tqdm\n",
    "\n",
    "def add_space(x):\n",
    "    if (' ' not in x)&(len(x)<=5):\n",
    "        return ' ' + x + ' '\n",
    "    else:\n",
    "        return x\n",
    "\n",
    "def product_name_postprocess(x):\n",
    "    x = x.replace('-',' ')\n",
    "    x = x.strip()\n",
    "    x = add_space(x)\n",
    "    return x\n",
    "\n",
    "# 讀取台塑網提供之(寶典人工手動修正過刪除線問題)\n",
    "root = '../data/寶典/寶典人工處理後/'\n",
    "\n",
    "df1 = pd.read_excel(root+'台塑企業_ 產品寶典20210303.xlsx',engine='openpyxl')[['公司代號','公司事業部門','品名']]\n",
    "\n",
    "df2 = pd.read_excel(root+'寶典.v3.台塑網.20210901.xlsx',engine='openpyxl')[['CODIV','DIVNM','ITEMNM']]\n",
    "df2 = df2.rename(columns={'ITEMNM':'品名','DIVNM':'公司事業部門','CODIV':'公司代號'})\n",
    "\n",
    "df3 = pd.read_excel(root+'寶典.v4.20211001.xlsx',engine='openpyxl')[['CODIV','DIVNM','ITEMNM']]\n",
    "df3 = df3.rename(columns={'ITEMNM':'品名','DIVNM':'公司事業部門','CODIV':'公司代號'})\n",
    "\n",
    "df4 = pd.read_excel(root+'寶典.v5.20211006.xlsx',engine='openpyxl')[['CODIV','DIVNM','ITEMNM']]\n",
    "df4 = df4.rename(columns={'ITEMNM':'品名','DIVNM':'公司事業部門','CODIV':'公司代號'})\n",
    "\n",
    "df5 = pd.read_excel(root+'寶典.v6.20211020.xlsx',engine='openpyxl')[['CODIV','DIVNM','ITEMNM']]\n",
    "df5 = df5.rename(columns={'ITEMNM':'品名','DIVNM':'公司事業部門','CODIV':'公司代號'})\n",
    "\n",
    "df = df1.append(df2).append(df3).append(df4).append(df5) # 合併所有寶典\n",
    "df['品名'] = df['品名'].apply(lambda x:product_name_postprocess(x)) #品名後處理\n",
    "\n",
    "NAME = \"TETRAHYDROFURAN\""
   ]
  },
  {
   "cell_type": "code",
   "execution_count": 5,
   "metadata": {},
   "outputs": [
    {
     "data": {
      "text/html": [
       "<div>\n",
       "<style scoped>\n",
       "    .dataframe tbody tr th:only-of-type {\n",
       "        vertical-align: middle;\n",
       "    }\n",
       "\n",
       "    .dataframe tbody tr th {\n",
       "        vertical-align: top;\n",
       "    }\n",
       "\n",
       "    .dataframe thead th {\n",
       "        text-align: right;\n",
       "    }\n",
       "</style>\n",
       "<table border=\"1\" class=\"dataframe\">\n",
       "  <thead>\n",
       "    <tr style=\"text-align: right;\">\n",
       "      <th></th>\n",
       "      <th>公司代號</th>\n",
       "      <th>公司事業部門</th>\n",
       "      <th>品名</th>\n",
       "    </tr>\n",
       "  </thead>\n",
       "  <tbody>\n",
       "    <tr>\n",
       "      <th>555</th>\n",
       "      <td>2P</td>\n",
       "      <td>南亞塑四部化學品部</td>\n",
       "      <td>TETRAHYDROFURAN</td>\n",
       "    </tr>\n",
       "    <tr>\n",
       "      <th>937</th>\n",
       "      <td>24</td>\n",
       "      <td>化工第二事業部</td>\n",
       "      <td>TETRAHYDROFURAN</td>\n",
       "    </tr>\n",
       "    <tr>\n",
       "      <th>206</th>\n",
       "      <td>24</td>\n",
       "      <td>化工第二事業部</td>\n",
       "      <td>TETRAHYDROFURAN</td>\n",
       "    </tr>\n",
       "    <tr>\n",
       "      <th>407</th>\n",
       "      <td>2P</td>\n",
       "      <td>南亞塑四部化學品部</td>\n",
       "      <td>TETRAHYDROFURAN</td>\n",
       "    </tr>\n",
       "    <tr>\n",
       "      <th>206</th>\n",
       "      <td>24</td>\n",
       "      <td>化工第二事業部</td>\n",
       "      <td>TETRAHYDROFURAN</td>\n",
       "    </tr>\n",
       "    <tr>\n",
       "      <th>407</th>\n",
       "      <td>2P</td>\n",
       "      <td>南亞塑四部化學品部</td>\n",
       "      <td>TETRAHYDROFURAN</td>\n",
       "    </tr>\n",
       "    <tr>\n",
       "      <th>208</th>\n",
       "      <td>24</td>\n",
       "      <td>化工第二事業部</td>\n",
       "      <td>TETRAHYDROFURAN</td>\n",
       "    </tr>\n",
       "    <tr>\n",
       "      <th>409</th>\n",
       "      <td>2P</td>\n",
       "      <td>南亞塑四部化學品部</td>\n",
       "      <td>TETRAHYDROFURAN</td>\n",
       "    </tr>\n",
       "    <tr>\n",
       "      <th>779</th>\n",
       "      <td>2P</td>\n",
       "      <td>南亞塑四部化學品部</td>\n",
       "      <td>TETRAHYDROFURAN</td>\n",
       "    </tr>\n",
       "  </tbody>\n",
       "</table>\n",
       "</div>"
      ],
      "text/plain": [
       "    公司代號     公司事業部門               品名\n",
       "555   2P  南亞塑四部化學品部  TETRAHYDROFURAN\n",
       "937   24    化工第二事業部  TETRAHYDROFURAN\n",
       "206   24    化工第二事業部  TETRAHYDROFURAN\n",
       "407   2P  南亞塑四部化學品部  TETRAHYDROFURAN\n",
       "206   24    化工第二事業部  TETRAHYDROFURAN\n",
       "407   2P  南亞塑四部化學品部  TETRAHYDROFURAN\n",
       "208   24    化工第二事業部  TETRAHYDROFURAN\n",
       "409   2P  南亞塑四部化學品部  TETRAHYDROFURAN\n",
       "779   2P  南亞塑四部化學品部  TETRAHYDROFURAN"
      ]
     },
     "metadata": {},
     "output_type": "display_data"
    },
    {
     "data": {
      "text/plain": [
       "2P    5\n",
       "24    3\n",
       "24    1\n",
       "Name: 公司代號, dtype: int64"
      ]
     },
     "metadata": {},
     "output_type": "display_data"
    }
   ],
   "source": [
    "display(df[df['品名']==NAME])\n",
    "display(df[df['品名']==NAME]['公司代號'].value_counts())"
   ]
  },
  {
   "cell_type": "code",
   "execution_count": 6,
   "metadata": {},
   "outputs": [
    {
     "name": "stderr",
     "output_type": "stream",
     "text": [
      "C:\\Users\\ricky\\AppData\\Local\\Temp/ipykernel_8864/1830638321.py:2: TqdmDeprecationWarning: This function will be removed in tqdm==5.0.0\n",
      "Please use `tqdm.notebook.tqdm` instead of `tqdm.tqdm_notebook`\n",
      "  for i in tqdm(df['品名'].values):\n"
     ]
    },
    {
     "data": {
      "application/vnd.jupyter.widget-view+json": {
       "model_id": "b0729b2a2cee4fe39aeb04b71c733145",
       "version_major": 2,
       "version_minor": 0
      },
      "text/plain": [
       "HBox(children=(HTML(value=''), FloatProgress(value=0.0, max=5497.0), HTML(value='')))"
      ]
     },
     "metadata": {},
     "output_type": "display_data"
    },
    {
     "name": "stdout",
     "output_type": "stream",
     "text": [
      "\n"
     ]
    },
    {
     "name": "stderr",
     "output_type": "stream",
     "text": [
      "C:\\Users\\ricky\\AppData\\Local\\Temp/ipykernel_8864/1830638321.py:5: TqdmDeprecationWarning: This function will be removed in tqdm==5.0.0\n",
      "Please use `tqdm.notebook.tqdm` instead of `tqdm.tqdm_notebook`\n",
      "  for i in tqdm(df['品名'].values):\n"
     ]
    },
    {
     "data": {
      "application/vnd.jupyter.widget-view+json": {
       "model_id": "dbecc688686747e8b6cf13dbbb6e43de",
       "version_major": 2,
       "version_minor": 0
      },
      "text/plain": [
       "HBox(children=(HTML(value=''), FloatProgress(value=0.0, max=5497.0), HTML(value='')))"
      ]
     },
     "metadata": {},
     "output_type": "display_data"
    },
    {
     "name": "stdout",
     "output_type": "stream",
     "text": [
      "\n"
     ]
    }
   ],
   "source": [
    "品名2部門 = {}\n",
    "for i in tqdm(df['品名'].values):\n",
    "    品名2部門[i] = df.loc[df['品名']==i,'公司事業部門'].values.tolist()\n",
    "品名2代號 = {}\n",
    "for i in tqdm(df['品名'].values):\n",
    "    品名2代號[i] = df.loc[df['品名']==i,'公司代號'].values.tolist()"
   ]
  },
  {
   "cell_type": "code",
   "execution_count": 7,
   "metadata": {},
   "outputs": [
    {
     "data": {
      "text/plain": [
       "['南亞塑四部化學品部',\n",
       " '化工第二事業部',\n",
       " '化工第二事業部',\n",
       " '南亞塑四部化學品部',\n",
       " '化工第二事業部',\n",
       " '南亞塑四部化學品部',\n",
       " '化工第二事業部',\n",
       " '南亞塑四部化學品部',\n",
       " '南亞塑四部化學品部']"
      ]
     },
     "metadata": {},
     "output_type": "display_data"
    },
    {
     "data": {
      "text/plain": [
       "['2P', 24, '24', '2P', '24', '2P', '24', '2P', '2P']"
      ]
     },
     "metadata": {},
     "output_type": "display_data"
    }
   ],
   "source": [
    "display(品名2部門[NAME])\n",
    "display(品名2代號[NAME])"
   ]
  },
  {
   "cell_type": "code",
   "execution_count": 8,
   "metadata": {},
   "outputs": [
    {
     "data": {
      "text/plain": [
       "\"\\ntrain_df = pd.read_csv('../data/preprocess_for_SQUAD_產品.csv')\\ntrain_df['Y_label'] = train_df['Y_label'].apply(lambda x:x.strip()) #針對SPEC去除左右空白\\ndisplay(train_df[(train_df['Y_label']==NAME)])\\n品名2代號訓練資料 = {}\\nfor i in tqdm(train_df['Y_label'].values):\\n    品名2代號訓練資料[i] = train_df.dropna(subset=['EXPNO'],axis=0).loc[train_df['Y_label']==i,'EXPNO'].unique().tolist()\\n# 根據品名從訓練資料搜索EXPNO,然後把EXPNO代入保典裡找公司部門\\ndef find_department(x):\\n    try:\\n        return [df.loc[df['公司代號']==品名2代號訓練資料[x],'公司事業部門'].value_counts().sort_values().index[-1]]\\n    except:\\n        return ['not from_pretrained']\\ndisplay(品名2代號訓練資料[NAME])\\ndisplay(find_department(NAME))\\n\""
      ]
     },
     "execution_count": 8,
     "metadata": {},
     "output_type": "execute_result"
    }
   ],
   "source": [
    "# 從traindata裡找\n",
    "'''\n",
    "train_df = pd.read_csv('../data/preprocess_for_SQUAD_產品.csv')\n",
    "train_df['Y_label'] = train_df['Y_label'].apply(lambda x:x.strip()) #針對SPEC去除左右空白\n",
    "display(train_df[(train_df['Y_label']==NAME)])\n",
    "品名2代號訓練資料 = {}\n",
    "for i in tqdm(train_df['Y_label'].values):\n",
    "    品名2代號訓練資料[i] = train_df.dropna(subset=['EXPNO'],axis=0).loc[train_df['Y_label']==i,'EXPNO'].unique().tolist()\n",
    "# 根據品名從訓練資料搜索EXPNO,然後把EXPNO代入保典裡找公司部門\n",
    "def find_department(x):\n",
    "    try:\n",
    "        return [df.loc[df['公司代號']==品名2代號訓練資料[x],'公司事業部門'].value_counts().sort_values().index[-1]]\n",
    "    except:\n",
    "        return ['not from_pretrained']\n",
    "display(品名2代號訓練資料[NAME])\n",
    "display(find_department(NAME))\n",
    "'''"
   ]
  },
  {
   "cell_type": "code",
   "execution_count": 9,
   "metadata": {},
   "outputs": [
    {
     "data": {
      "text/plain": [
       "\"\\nnp.save('../data/對應表/品名2部門.npy',品名2部門)\\nnp.save('../data/對應表/品名2代號.npy',品名2代號)\\nnp.save('../data/對應表/品名2代號訓練資料.npy',品名2代號訓練資料)\\n\""
      ]
     },
     "execution_count": 9,
     "metadata": {},
     "output_type": "execute_result"
    }
   ],
   "source": [
    "import numpy as np\n",
    "'''\n",
    "np.save('../data/對應表/品名2部門.npy',品名2部門)\n",
    "np.save('../data/對應表/品名2代號.npy',品名2代號)\n",
    "np.save('../data/對應表/品名2代號訓練資料.npy',品名2代號訓練資料)\n",
    "'''"
   ]
  },
  {
   "cell_type": "code",
   "execution_count": null,
   "metadata": {},
   "outputs": [],
   "source": []
  }
 ],
 "metadata": {
  "interpreter": {
   "hash": "2ccee5cc862501c1aad1cf19888c2a2eca4026b72d187db43d5e889cbdc6ee97"
  },
  "kernelspec": {
   "display_name": "Python 3.8.5 64-bit ('base': conda)",
   "name": "python3"
  },
  "language_info": {
   "codemirror_mode": {
    "name": "ipython",
    "version": 3
   },
   "file_extension": ".py",
   "mimetype": "text/x-python",
   "name": "python",
   "nbconvert_exporter": "python",
   "pygments_lexer": "ipython3",
   "version": "3.8.5"
  },
  "orig_nbformat": 4
 },
 "nbformat": 4,
 "nbformat_minor": 2
}
