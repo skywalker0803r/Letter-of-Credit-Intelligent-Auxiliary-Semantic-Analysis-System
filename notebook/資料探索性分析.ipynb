{
 "cells": [
  {
   "cell_type": "code",
   "execution_count": 15,
   "source": [
    "import pandas as pd\r\n",
    "df1 = pd.read_excel('../data/台塑企業_ 產品寶典20210303.xlsx',engine='openpyxl').iloc[:,:-1]\r\n",
    "print(df1.shape)\r\n",
    "df1.head()"
   ],
   "outputs": [
    {
     "output_type": "stream",
     "name": "stdout",
     "text": [
      "(1097, 5)\n"
     ]
    },
    {
     "output_type": "execute_result",
     "data": {
      "text/html": [
       "<div>\n",
       "<style scoped>\n",
       "    .dataframe tbody tr th:only-of-type {\n",
       "        vertical-align: middle;\n",
       "    }\n",
       "\n",
       "    .dataframe tbody tr th {\n",
       "        vertical-align: top;\n",
       "    }\n",
       "\n",
       "    .dataframe thead th {\n",
       "        text-align: right;\n",
       "    }\n",
       "</style>\n",
       "<table border=\"1\" class=\"dataframe\">\n",
       "  <thead>\n",
       "    <tr style=\"text-align: right;\">\n",
       "      <th></th>\n",
       "      <th>RIGID</th>\n",
       "      <th>分機</th>\n",
       "      <th>公司代號</th>\n",
       "      <th>公司事業部門</th>\n",
       "      <th>品名</th>\n",
       "    </tr>\n",
       "  </thead>\n",
       "  <tbody>\n",
       "    <tr>\n",
       "      <th>0</th>\n",
       "      <td>黃淑玲</td>\n",
       "      <td>7190</td>\n",
       "      <td>11</td>\n",
       "      <td>台塑塑膠部</td>\n",
       "      <td>CAUSTIC SODA LIQUID FLAKE PEARLS MICROPEARLS</td>\n",
       "    </tr>\n",
       "    <tr>\n",
       "      <th>1</th>\n",
       "      <td>黃淑玲</td>\n",
       "      <td>7190</td>\n",
       "      <td>11</td>\n",
       "      <td>台塑塑膠部</td>\n",
       "      <td>CAUSTIC SODA LIQUID</td>\n",
       "    </tr>\n",
       "    <tr>\n",
       "      <th>2</th>\n",
       "      <td>黃淑玲</td>\n",
       "      <td>7190</td>\n",
       "      <td>11</td>\n",
       "      <td>台塑塑膠部</td>\n",
       "      <td>COMMODITY FORMOSACN</td>\n",
       "    </tr>\n",
       "    <tr>\n",
       "      <th>3</th>\n",
       "      <td>黃淑玲</td>\n",
       "      <td>7190</td>\n",
       "      <td>11</td>\n",
       "      <td>台塑塑膠部</td>\n",
       "      <td>CHLOROFORM</td>\n",
       "    </tr>\n",
       "    <tr>\n",
       "      <th>4</th>\n",
       "      <td>黃淑玲</td>\n",
       "      <td>7190</td>\n",
       "      <td>11</td>\n",
       "      <td>台塑塑膠部</td>\n",
       "      <td>ETHYLENE DICHLORIDE</td>\n",
       "    </tr>\n",
       "  </tbody>\n",
       "</table>\n",
       "</div>"
      ],
      "text/plain": [
       "  RIGID    分機 公司代號 公司事業部門                                            品名\n",
       "0   黃淑玲  7190   11  台塑塑膠部  CAUSTIC SODA LIQUID FLAKE PEARLS MICROPEARLS\n",
       "1   黃淑玲  7190   11  台塑塑膠部                           CAUSTIC SODA LIQUID\n",
       "2   黃淑玲  7190   11  台塑塑膠部                           COMMODITY FORMOSACN\n",
       "3   黃淑玲  7190   11  台塑塑膠部                                    CHLOROFORM\n",
       "4   黃淑玲  7190   11  台塑塑膠部                           ETHYLENE DICHLORIDE"
      ]
     },
     "metadata": {},
     "execution_count": 15
    }
   ],
   "metadata": {}
  },
  {
   "cell_type": "code",
   "execution_count": 16,
   "source": [
    "df2 = pd.read_excel('../data/寶典.v3.台塑網.20210901.xlsx',engine='openpyxl')\r\n",
    "print(df2.shape)\r\n",
    "df2.head()"
   ],
   "outputs": [
    {
     "output_type": "stream",
     "name": "stdout",
     "text": [
      "(1099, 5)\n"
     ]
    },
    {
     "output_type": "execute_result",
     "data": {
      "text/html": [
       "<div>\n",
       "<style scoped>\n",
       "    .dataframe tbody tr th:only-of-type {\n",
       "        vertical-align: middle;\n",
       "    }\n",
       "\n",
       "    .dataframe tbody tr th {\n",
       "        vertical-align: top;\n",
       "    }\n",
       "\n",
       "    .dataframe thead th {\n",
       "        text-align: right;\n",
       "    }\n",
       "</style>\n",
       "<table border=\"1\" class=\"dataframe\">\n",
       "  <thead>\n",
       "    <tr style=\"text-align: right;\">\n",
       "      <th></th>\n",
       "      <th>RIGID</th>\n",
       "      <th>EXTN</th>\n",
       "      <th>CODIV</th>\n",
       "      <th>DIVNM</th>\n",
       "      <th>ITEMNM</th>\n",
       "    </tr>\n",
       "  </thead>\n",
       "  <tbody>\n",
       "    <tr>\n",
       "      <th>0</th>\n",
       "      <td>黃淑誼</td>\n",
       "      <td>8405</td>\n",
       "      <td>4A</td>\n",
       "      <td>台化塑膠事業部</td>\n",
       "      <td>HIPS</td>\n",
       "    </tr>\n",
       "    <tr>\n",
       "      <th>1</th>\n",
       "      <td>黃淑誼</td>\n",
       "      <td>8405</td>\n",
       "      <td>4A</td>\n",
       "      <td>台化塑膠事業部</td>\n",
       "      <td>HIPS RESIN</td>\n",
       "    </tr>\n",
       "    <tr>\n",
       "      <th>2</th>\n",
       "      <td>黃淑誼</td>\n",
       "      <td>8405</td>\n",
       "      <td>4A</td>\n",
       "      <td>台化塑膠事業部</td>\n",
       "      <td>HIGH IMPACT POLYPROPYLENE POLYSTYRERE</td>\n",
       "    </tr>\n",
       "    <tr>\n",
       "      <th>3</th>\n",
       "      <td>黃淑誼</td>\n",
       "      <td>8405</td>\n",
       "      <td>4A</td>\n",
       "      <td>台化塑膠事業部</td>\n",
       "      <td>HP 8250 9250</td>\n",
       "    </tr>\n",
       "    <tr>\n",
       "      <th>4</th>\n",
       "      <td>黃淑誼</td>\n",
       "      <td>8405</td>\n",
       "      <td>4A</td>\n",
       "      <td>台化塑膠事業部</td>\n",
       "      <td>MATERIAL</td>\n",
       "    </tr>\n",
       "  </tbody>\n",
       "</table>\n",
       "</div>"
      ],
      "text/plain": [
       "  RIGID  EXTN CODIV    DIVNM                                 ITEMNM\n",
       "0   黃淑誼  8405    4A  台化塑膠事業部                                   HIPS\n",
       "1   黃淑誼  8405    4A  台化塑膠事業部                             HIPS RESIN\n",
       "2   黃淑誼  8405    4A  台化塑膠事業部  HIGH IMPACT POLYPROPYLENE POLYSTYRERE\n",
       "3   黃淑誼  8405    4A  台化塑膠事業部                           HP 8250 9250\n",
       "4   黃淑誼  8405    4A  台化塑膠事業部                               MATERIAL"
      ]
     },
     "metadata": {},
     "execution_count": 16
    }
   ],
   "metadata": {}
  },
  {
   "cell_type": "code",
   "execution_count": 17,
   "source": [
    "df3 = pd.read_excel('../data/寶典.v4.20211001.xlsx',engine='openpyxl')\r\n",
    "print(df3.shape)\r\n",
    "df3.head()"
   ],
   "outputs": [
    {
     "output_type": "stream",
     "name": "stdout",
     "text": [
      "(1099, 5)\n"
     ]
    },
    {
     "output_type": "execute_result",
     "data": {
      "text/html": [
       "<div>\n",
       "<style scoped>\n",
       "    .dataframe tbody tr th:only-of-type {\n",
       "        vertical-align: middle;\n",
       "    }\n",
       "\n",
       "    .dataframe tbody tr th {\n",
       "        vertical-align: top;\n",
       "    }\n",
       "\n",
       "    .dataframe thead th {\n",
       "        text-align: right;\n",
       "    }\n",
       "</style>\n",
       "<table border=\"1\" class=\"dataframe\">\n",
       "  <thead>\n",
       "    <tr style=\"text-align: right;\">\n",
       "      <th></th>\n",
       "      <th>RIGID</th>\n",
       "      <th>EXTN</th>\n",
       "      <th>CODIV</th>\n",
       "      <th>DIVNM</th>\n",
       "      <th>ITEMNM</th>\n",
       "    </tr>\n",
       "  </thead>\n",
       "  <tbody>\n",
       "    <tr>\n",
       "      <th>0</th>\n",
       "      <td>黃淑誼</td>\n",
       "      <td>8405</td>\n",
       "      <td>4A</td>\n",
       "      <td>台化塑膠事業部</td>\n",
       "      <td>HIPS</td>\n",
       "    </tr>\n",
       "    <tr>\n",
       "      <th>1</th>\n",
       "      <td>黃淑誼</td>\n",
       "      <td>8405</td>\n",
       "      <td>4A</td>\n",
       "      <td>台化塑膠事業部</td>\n",
       "      <td>HIPS RESIN</td>\n",
       "    </tr>\n",
       "    <tr>\n",
       "      <th>2</th>\n",
       "      <td>黃淑誼</td>\n",
       "      <td>8405</td>\n",
       "      <td>4A</td>\n",
       "      <td>台化塑膠事業部</td>\n",
       "      <td>HIGH IMPACT POLYPROPYLENE POLYSTYRERE</td>\n",
       "    </tr>\n",
       "    <tr>\n",
       "      <th>3</th>\n",
       "      <td>黃淑誼</td>\n",
       "      <td>8405</td>\n",
       "      <td>4A</td>\n",
       "      <td>台化塑膠事業部</td>\n",
       "      <td>HP 8250 9250</td>\n",
       "    </tr>\n",
       "    <tr>\n",
       "      <th>4</th>\n",
       "      <td>黃淑誼</td>\n",
       "      <td>8405</td>\n",
       "      <td>4A</td>\n",
       "      <td>台化塑膠事業部</td>\n",
       "      <td>MATERIAL</td>\n",
       "    </tr>\n",
       "  </tbody>\n",
       "</table>\n",
       "</div>"
      ],
      "text/plain": [
       "  RIGID  EXTN CODIV    DIVNM                                 ITEMNM\n",
       "0   黃淑誼  8405    4A  台化塑膠事業部                                   HIPS\n",
       "1   黃淑誼  8405    4A  台化塑膠事業部                             HIPS RESIN\n",
       "2   黃淑誼  8405    4A  台化塑膠事業部  HIGH IMPACT POLYPROPYLENE POLYSTYRERE\n",
       "3   黃淑誼  8405    4A  台化塑膠事業部                           HP 8250 9250\n",
       "4   黃淑誼  8405    4A  台化塑膠事業部                               MATERIAL"
      ]
     },
     "metadata": {},
     "execution_count": 17
    }
   ],
   "metadata": {}
  },
  {
   "cell_type": "code",
   "execution_count": 18,
   "source": [
    "df3['len'] = df3['ITEMNM'].apply(lambda x:len(x))\r\n",
    "df3.head()"
   ],
   "outputs": [
    {
     "output_type": "execute_result",
     "data": {
      "text/html": [
       "<div>\n",
       "<style scoped>\n",
       "    .dataframe tbody tr th:only-of-type {\n",
       "        vertical-align: middle;\n",
       "    }\n",
       "\n",
       "    .dataframe tbody tr th {\n",
       "        vertical-align: top;\n",
       "    }\n",
       "\n",
       "    .dataframe thead th {\n",
       "        text-align: right;\n",
       "    }\n",
       "</style>\n",
       "<table border=\"1\" class=\"dataframe\">\n",
       "  <thead>\n",
       "    <tr style=\"text-align: right;\">\n",
       "      <th></th>\n",
       "      <th>RIGID</th>\n",
       "      <th>EXTN</th>\n",
       "      <th>CODIV</th>\n",
       "      <th>DIVNM</th>\n",
       "      <th>ITEMNM</th>\n",
       "      <th>len</th>\n",
       "    </tr>\n",
       "  </thead>\n",
       "  <tbody>\n",
       "    <tr>\n",
       "      <th>0</th>\n",
       "      <td>黃淑誼</td>\n",
       "      <td>8405</td>\n",
       "      <td>4A</td>\n",
       "      <td>台化塑膠事業部</td>\n",
       "      <td>HIPS</td>\n",
       "      <td>4</td>\n",
       "    </tr>\n",
       "    <tr>\n",
       "      <th>1</th>\n",
       "      <td>黃淑誼</td>\n",
       "      <td>8405</td>\n",
       "      <td>4A</td>\n",
       "      <td>台化塑膠事業部</td>\n",
       "      <td>HIPS RESIN</td>\n",
       "      <td>10</td>\n",
       "    </tr>\n",
       "    <tr>\n",
       "      <th>2</th>\n",
       "      <td>黃淑誼</td>\n",
       "      <td>8405</td>\n",
       "      <td>4A</td>\n",
       "      <td>台化塑膠事業部</td>\n",
       "      <td>HIGH IMPACT POLYPROPYLENE POLYSTYRERE</td>\n",
       "      <td>37</td>\n",
       "    </tr>\n",
       "    <tr>\n",
       "      <th>3</th>\n",
       "      <td>黃淑誼</td>\n",
       "      <td>8405</td>\n",
       "      <td>4A</td>\n",
       "      <td>台化塑膠事業部</td>\n",
       "      <td>HP 8250 9250</td>\n",
       "      <td>12</td>\n",
       "    </tr>\n",
       "    <tr>\n",
       "      <th>4</th>\n",
       "      <td>黃淑誼</td>\n",
       "      <td>8405</td>\n",
       "      <td>4A</td>\n",
       "      <td>台化塑膠事業部</td>\n",
       "      <td>MATERIAL</td>\n",
       "      <td>8</td>\n",
       "    </tr>\n",
       "  </tbody>\n",
       "</table>\n",
       "</div>"
      ],
      "text/plain": [
       "  RIGID  EXTN CODIV    DIVNM                                 ITEMNM  len\n",
       "0   黃淑誼  8405    4A  台化塑膠事業部                                   HIPS    4\n",
       "1   黃淑誼  8405    4A  台化塑膠事業部                             HIPS RESIN   10\n",
       "2   黃淑誼  8405    4A  台化塑膠事業部  HIGH IMPACT POLYPROPYLENE POLYSTYRERE   37\n",
       "3   黃淑誼  8405    4A  台化塑膠事業部                           HP 8250 9250   12\n",
       "4   黃淑誼  8405    4A  台化塑膠事業部                               MATERIAL    8"
      ]
     },
     "metadata": {},
     "execution_count": 18
    }
   ],
   "metadata": {}
  },
  {
   "cell_type": "code",
   "execution_count": 19,
   "source": [
    "df3['len'].describe()"
   ],
   "outputs": [
    {
     "output_type": "execute_result",
     "data": {
      "text/plain": [
       "count    1099.000000\n",
       "mean       17.452229\n",
       "std        10.043269\n",
       "min         2.000000\n",
       "25%        10.000000\n",
       "50%        16.000000\n",
       "75%        23.000000\n",
       "max        60.000000\n",
       "Name: len, dtype: float64"
      ]
     },
     "metadata": {},
     "execution_count": 19
    }
   ],
   "metadata": {}
  },
  {
   "cell_type": "code",
   "execution_count": 20,
   "source": [
    "df3['len'].plot(kind='kde')"
   ],
   "outputs": [
    {
     "output_type": "execute_result",
     "data": {
      "text/plain": [
       "<AxesSubplot:ylabel='Density'>"
      ]
     },
     "metadata": {},
     "execution_count": 20
    },
    {
     "output_type": "display_data",
     "data": {
      "image/png": "[encoded data removed]",
      "text/plain": [
       "<Figure size 432x288 with 1 Axes>"
      ]
     },
     "metadata": {
      "needs_background": "light"
     }
    }
   ],
   "metadata": {}
  },
  {
   "cell_type": "code",
   "execution_count": null,
   "source": [],
   "outputs": [],
   "metadata": {}
  }
 ],
 "metadata": {
  "orig_nbformat": 4,
  "language_info": {
   "name": "python",
   "version": "3.8.5",
   "mimetype": "text/x-python",
   "codemirror_mode": {
    "name": "ipython",
    "version": 3
   },
   "pygments_lexer": "ipython3",
   "nbconvert_exporter": "python",
   "file_extension": ".py"
  },
  "kernelspec": {
   "name": "python3",
   "display_name": "Python 3.8.5 64-bit ('base': conda)"
  },
  "interpreter": {
   "hash": "2ccee5cc862501c1aad1cf19888c2a2eca4026b72d187db43d5e889cbdc6ee97"
  }
 },
 "nbformat": 4,
 "nbformat_minor": 2
}