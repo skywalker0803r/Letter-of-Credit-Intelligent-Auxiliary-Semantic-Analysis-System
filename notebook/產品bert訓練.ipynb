{
 "cells": [
  {
   "cell_type": "code",
   "execution_count": 6,
   "metadata": {},
   "outputs": [
    {
     "name": "stdout",
     "output_type": "stream",
     "text": [
      "True\n",
      "(14267, 6)\n"
     ]
    },
    {
     "data": {
      "text/html": [
       "<div>\n",
       "<style scoped>\n",
       "    .dataframe tbody tr th:only-of-type {\n",
       "        vertical-align: middle;\n",
       "    }\n",
       "\n",
       "    .dataframe tbody tr th {\n",
       "        vertical-align: top;\n",
       "    }\n",
       "\n",
       "    .dataframe thead th {\n",
       "        text-align: right;\n",
       "    }\n",
       "</style>\n",
       "<table border=\"1\" class=\"dataframe\">\n",
       "  <thead>\n",
       "    <tr style=\"text-align: right;\">\n",
       "      <th></th>\n",
       "      <th>string_X_train</th>\n",
       "      <th>Y_label</th>\n",
       "      <th>EXPNO</th>\n",
       "      <th>from</th>\n",
       "      <th>string_Y_1</th>\n",
       "      <th>string_Y_2</th>\n",
       "    </tr>\n",
       "  </thead>\n",
       "  <tbody>\n",
       "    <tr>\n",
       "      <th>0</th>\n",
       "      <td>SHIPMENT OFPVC SUSPENSION RESIN S65D QTY 18 MT...</td>\n",
       "      <td>PVC MASS RESIN B57</td>\n",
       "      <td>NaN</td>\n",
       "      <td>20210103.xlsx</td>\n",
       "      <td>81</td>\n",
       "      <td>99</td>\n",
       "    </tr>\n",
       "    <tr>\n",
       "      <th>1</th>\n",
       "      <td>17 MT   PVC COPOLYMER  RESIN C15  AT USD 1470 ...</td>\n",
       "      <td>PVC COPOLYMER</td>\n",
       "      <td>NaN</td>\n",
       "      <td>20210103.xlsx</td>\n",
       "      <td>8</td>\n",
       "      <td>21</td>\n",
       "    </tr>\n",
       "    <tr>\n",
       "      <th>2</th>\n",
       "      <td>TERMS OF SALE CIF NHAVA SHEVA PORT INDIA70 MT ...</td>\n",
       "      <td>PVC RESIN S60</td>\n",
       "      <td>NaN</td>\n",
       "      <td>20210103.xlsx</td>\n",
       "      <td>50</td>\n",
       "      <td>63</td>\n",
       "    </tr>\n",
       "    <tr>\n",
       "      <th>3</th>\n",
       "      <td>MASS PVC RESIN B57 QUANTITY 175 MT AT 1300 US...</td>\n",
       "      <td>MASS PVC RESIN B57</td>\n",
       "      <td>11G11F59</td>\n",
       "      <td>20210103.xlsx</td>\n",
       "      <td>1</td>\n",
       "      <td>19</td>\n",
       "    </tr>\n",
       "    <tr>\n",
       "      <th>4</th>\n",
       "      <td>PHTHALIC ANHYDRIDE  PAQUANTITY  306 MT UNIT P...</td>\n",
       "      <td>PHTHALIC ANHYDRIDE</td>\n",
       "      <td>27P11346</td>\n",
       "      <td>20210103.xlsx</td>\n",
       "      <td>1</td>\n",
       "      <td>19</td>\n",
       "    </tr>\n",
       "    <tr>\n",
       "      <th>...</th>\n",
       "      <td>...</td>\n",
       "      <td>...</td>\n",
       "      <td>...</td>\n",
       "      <td>...</td>\n",
       "      <td>...</td>\n",
       "      <td>...</td>\n",
       "    </tr>\n",
       "    <tr>\n",
       "      <th>20732</th>\n",
       "      <td>PVC SUSPENSION RESIN S65D  FOR 70MT AT USD 12...</td>\n",
       "      <td>PVC SUSPENSION RESIN S65D</td>\n",
       "      <td>NaN</td>\n",
       "      <td>20200712.xlsx</td>\n",
       "      <td>1</td>\n",
       "      <td>26</td>\n",
       "    </tr>\n",
       "    <tr>\n",
       "      <th>20733</th>\n",
       "      <td>7000 MT IN 4X20 FT CONTAINERS PVC RESIN S60 AS...</td>\n",
       "      <td>PVC RESIN S60</td>\n",
       "      <td>11G11J49</td>\n",
       "      <td>20200712.xlsx</td>\n",
       "      <td>30</td>\n",
       "      <td>43</td>\n",
       "    </tr>\n",
       "    <tr>\n",
       "      <th>20734</th>\n",
       "      <td>EPOXY  RESIN NPEF178FOB ANY PORT OF TAIWAN</td>\n",
       "      <td>RESIN</td>\n",
       "      <td>NaN</td>\n",
       "      <td>20200712.xlsx</td>\n",
       "      <td>7</td>\n",
       "      <td>12</td>\n",
       "    </tr>\n",
       "    <tr>\n",
       "      <th>20735</th>\n",
       "      <td>EPOXY RESIN NPEL 128CIF SAVANNAH GA</td>\n",
       "      <td>NPEL</td>\n",
       "      <td>NaN</td>\n",
       "      <td>20200712.xlsx</td>\n",
       "      <td>12</td>\n",
       "      <td>16</td>\n",
       "    </tr>\n",
       "    <tr>\n",
       "      <th>20736</th>\n",
       "      <td>EPOXY RESIN NPEL 127PO NO 4500537656ITEM CODE ...</td>\n",
       "      <td>NPEL</td>\n",
       "      <td>NaN</td>\n",
       "      <td>20200712.xlsx</td>\n",
       "      <td>12</td>\n",
       "      <td>16</td>\n",
       "    </tr>\n",
       "  </tbody>\n",
       "</table>\n",
       "<p>14267 rows × 6 columns</p>\n",
       "</div>"
      ],
      "text/plain": [
       "                                          string_X_train  \\\n",
       "0      SHIPMENT OFPVC SUSPENSION RESIN S65D QTY 18 MT...   \n",
       "1      17 MT   PVC COPOLYMER  RESIN C15  AT USD 1470 ...   \n",
       "2      TERMS OF SALE CIF NHAVA SHEVA PORT INDIA70 MT ...   \n",
       "3       MASS PVC RESIN B57 QUANTITY 175 MT AT 1300 US...   \n",
       "4       PHTHALIC ANHYDRIDE  PAQUANTITY  306 MT UNIT P...   \n",
       "...                                                  ...   \n",
       "20732   PVC SUSPENSION RESIN S65D  FOR 70MT AT USD 12...   \n",
       "20733  7000 MT IN 4X20 FT CONTAINERS PVC RESIN S60 AS...   \n",
       "20734         EPOXY  RESIN NPEF178FOB ANY PORT OF TAIWAN   \n",
       "20735                EPOXY RESIN NPEL 128CIF SAVANNAH GA   \n",
       "20736  EPOXY RESIN NPEL 127PO NO 4500537656ITEM CODE ...   \n",
       "\n",
       "                         Y_label     EXPNO           from  string_Y_1  \\\n",
       "0             PVC MASS RESIN B57       NaN  20210103.xlsx          81   \n",
       "1                  PVC COPOLYMER       NaN  20210103.xlsx           8   \n",
       "2                  PVC RESIN S60       NaN  20210103.xlsx          50   \n",
       "3             MASS PVC RESIN B57  11G11F59  20210103.xlsx           1   \n",
       "4             PHTHALIC ANHYDRIDE  27P11346  20210103.xlsx           1   \n",
       "...                          ...       ...            ...         ...   \n",
       "20732  PVC SUSPENSION RESIN S65D       NaN  20200712.xlsx           1   \n",
       "20733              PVC RESIN S60  11G11J49  20200712.xlsx          30   \n",
       "20734                      RESIN       NaN  20200712.xlsx           7   \n",
       "20735                       NPEL       NaN  20200712.xlsx          12   \n",
       "20736                       NPEL       NaN  20200712.xlsx          12   \n",
       "\n",
       "       string_Y_2  \n",
       "0              99  \n",
       "1              21  \n",
       "2              63  \n",
       "3              19  \n",
       "4              19  \n",
       "...           ...  \n",
       "20732          26  \n",
       "20733          43  \n",
       "20734          12  \n",
       "20735          16  \n",
       "20736          16  \n",
       "\n",
       "[14267 rows x 6 columns]"
      ]
     },
     "execution_count": 6,
     "metadata": {},
     "output_type": "execute_result"
    }
   ],
   "source": [
    "import requests\n",
    "import gc\n",
    "gc.collect()\n",
    "import pandas as pd\n",
    "import requests\n",
    "import torch\n",
    "print(torch.cuda.is_available())\n",
    "from sklearn.model_selection import train_test_split\n",
    "df = pd.read_csv('../data/preprocess_for_SQUAD_產品.csv',index_col=0)\n",
    "print(df.shape)\n",
    "df"
   ]
  },
  {
   "cell_type": "markdown",
   "metadata": {},
   "source": [
    "# # 把國家名稱剃除 品名不能有國家"
   ]
  },
  {
   "cell_type": "code",
   "execution_count": 7,
   "metadata": {},
   "outputs": [
    {
     "name": "stdout",
     "output_type": "stream",
     "text": [
      "0\n",
      "0\n",
      "0\n",
      "0\n",
      "0\n",
      "0\n",
      "0\n",
      "0\n",
      "0\n",
      "0\n"
     ]
    }
   ],
   "source": [
    "for i in ['TAIWAN','JAPAN','CHINA','AMERICA','INDIA']:\n",
    "    print(df['Y_label'].str.contains(i).sum())\n",
    "    print(df['Y_label'].str.contains(i.lower()).sum())"
   ]
  },
  {
   "cell_type": "markdown",
   "metadata": {},
   "source": [
    "# 切分訓練/驗證"
   ]
  },
  {
   "cell_type": "code",
   "execution_count": 8,
   "metadata": {},
   "outputs": [],
   "source": [
    "train_df, val_df = train_test_split(df, test_size=0.2, random_state=42)"
   ]
  },
  {
   "cell_type": "markdown",
   "metadata": {},
   "source": [
    "# 執行訓練演算法"
   ]
  },
  {
   "cell_type": "code",
   "execution_count": 9,
   "metadata": {},
   "outputs": [
    {
     "name": "stderr",
     "output_type": "stream",
     "text": [
      "Global seed set to 42\n",
      "Some weights of the model checkpoint at distilbert-base-uncased were not used when initializing DistilBertForQuestionAnswering: ['vocab_projector.bias', 'vocab_transform.bias', 'vocab_layer_norm.bias', 'vocab_projector.weight', 'vocab_layer_norm.weight', 'vocab_transform.weight']\n",
      "- This IS expected if you are initializing DistilBertForQuestionAnswering from the checkpoint of a model trained on another task or with another architecture (e.g. initializing a BertForSequenceClassification model from a BertForPreTraining model).\n",
      "- This IS NOT expected if you are initializing DistilBertForQuestionAnswering from the checkpoint of a model that you expect to be exactly identical (initializing a BertForSequenceClassification model from a BertForSequenceClassification model).\n",
      "Some weights of DistilBertForQuestionAnswering were not initialized from the model checkpoint at distilbert-base-uncased and are newly initialized: ['qa_outputs.weight', 'qa_outputs.bias']\n",
      "You should probably TRAIN this model on a down-stream task to be able to use it for predictions and inference.\n"
     ]
    },
    {
     "data": {
      "application/vnd.jupyter.widget-view+json": {
       "model_id": "6f19bb761ed848ebb7f6f76273da119a",
       "version_major": 2,
       "version_minor": 0
      },
      "text/plain": [
       "HBox(children=(FloatProgress(value=0.0, max=3.0), HTML(value='')))"
      ]
     },
     "metadata": {},
     "output_type": "display_data"
    },
    {
     "data": {
      "application/vnd.jupyter.widget-view+json": {
       "model_id": "a55f4d0c27c449be838cae974c7cda78",
       "version_major": 2,
       "version_minor": 0
      },
      "text/plain": [
       "HBox(children=(FloatProgress(value=0.0, max=1427.0), HTML(value='')))"
      ]
     },
     "metadata": {},
     "output_type": "display_data"
    },
    {
     "name": "stdout",
     "output_type": "stream",
     "text": [
      "\n"
     ]
    },
    {
     "data": {
      "application/vnd.jupyter.widget-view+json": {
       "model_id": "abc93a1973e94884ae39f94697a4dddf",
       "version_major": 2,
       "version_minor": 0
      },
      "text/plain": [
       "HBox(children=(FloatProgress(value=0.0, max=357.0), HTML(value='')))"
      ]
     },
     "metadata": {},
     "output_type": "display_data"
    },
    {
     "name": "stdout",
     "output_type": "stream",
     "text": [
      "\n",
      "epoch:0 train_loss:0.4111289225573727 val_loss:0.3038400952374625\n",
      "save best_model now_val_best_loss is:0.3038400952374625\n"
     ]
    },
    {
     "data": {
      "application/vnd.jupyter.widget-view+json": {
       "model_id": "111909d34224490985d5194668086f02",
       "version_major": 2,
       "version_minor": 0
      },
      "text/plain": [
       "HBox(children=(FloatProgress(value=0.0, max=1427.0), HTML(value='')))"
      ]
     },
     "metadata": {},
     "output_type": "display_data"
    },
    {
     "name": "stdout",
     "output_type": "stream",
     "text": [
      "\n"
     ]
    },
    {
     "data": {
      "application/vnd.jupyter.widget-view+json": {
       "model_id": "e478793be0cc46058d7b4b2c35281739",
       "version_major": 2,
       "version_minor": 0
      },
      "text/plain": [
       "HBox(children=(FloatProgress(value=0.0, max=357.0), HTML(value='')))"
      ]
     },
     "metadata": {},
     "output_type": "display_data"
    },
    {
     "name": "stdout",
     "output_type": "stream",
     "text": [
      "\n",
      "epoch:1 train_loss:0.1987289710436996 val_loss:0.15345996607871978\n",
      "save best_model now_val_best_loss is:0.15345996607871978\n"
     ]
    },
    {
     "data": {
      "application/vnd.jupyter.widget-view+json": {
       "model_id": "88dc55dd9875474f9a47501c8707364d",
       "version_major": 2,
       "version_minor": 0
      },
      "text/plain": [
       "HBox(children=(FloatProgress(value=0.0, max=1427.0), HTML(value='')))"
      ]
     },
     "metadata": {},
     "output_type": "display_data"
    },
    {
     "name": "stdout",
     "output_type": "stream",
     "text": [
      "\n"
     ]
    },
    {
     "data": {
      "application/vnd.jupyter.widget-view+json": {
       "model_id": "347a61e038b141aab2c476903ecaba7b",
       "version_major": 2,
       "version_minor": 0
      },
      "text/plain": [
       "HBox(children=(FloatProgress(value=0.0, max=357.0), HTML(value='')))"
      ]
     },
     "metadata": {},
     "output_type": "display_data"
    },
    {
     "name": "stdout",
     "output_type": "stream",
     "text": [
      "\n",
      "epoch:2 train_loss:0.10754643485007538 val_loss:0.12551134081436582\n",
      "save best_model now_val_best_loss is:0.12551134081436582\n",
      "\n"
     ]
    },
    {
     "data": {
      "image/png": "[encoded data removed]",
      "text/plain": [
       "<Figure size 432x288 with 1 Axes>"
      ]
     },
     "metadata": {
      "needs_background": "light"
     },
     "output_type": "display_data"
    },
    {
     "name": "stdout",
     "output_type": "stream",
     "text": [
      "best_model is saved!\n"
     ]
    },
    {
     "name": "stderr",
     "output_type": "stream",
     "text": [
      "Some weights of the model checkpoint at distilbert-base-uncased were not used when initializing DistilBertForQuestionAnswering: ['vocab_projector.bias', 'vocab_transform.bias', 'vocab_layer_norm.bias', 'vocab_projector.weight', 'vocab_layer_norm.weight', 'vocab_transform.weight']\n",
      "- This IS expected if you are initializing DistilBertForQuestionAnswering from the checkpoint of a model trained on another task or with another architecture (e.g. initializing a BertForSequenceClassification model from a BertForPreTraining model).\n",
      "- This IS NOT expected if you are initializing DistilBertForQuestionAnswering from the checkpoint of a model that you expect to be exactly identical (initializing a BertForSequenceClassification model from a BertForSequenceClassification model).\n",
      "Some weights of DistilBertForQuestionAnswering were not initialized from the model checkpoint at distilbert-base-uncased and are newly initialized: ['qa_outputs.weight', 'qa_outputs.bias']\n",
      "You should probably TRAIN this model on a down-stream task to be able to use it for predictions and inference.\n"
     ]
    },
    {
     "data": {
      "application/vnd.jupyter.widget-view+json": {
       "model_id": "92794ae65961464f9769f4da13cae14d",
       "version_major": 2,
       "version_minor": 0
      },
      "text/plain": [
       "HBox(children=(FloatProgress(value=0.0, max=2854.0), HTML(value='')))"
      ]
     },
     "metadata": {},
     "output_type": "display_data"
    },
    {
     "name": "stdout",
     "output_type": "stream",
     "text": [
      "\n"
     ]
    }
   ],
   "source": [
    "url = 'https://gist.githubusercontent.com/skywalker0803r/1e1d0d25999094bf8ec23dc143e02478/raw/2b751c959a1b48a14e627eaf956f9ae3df821f46/bert_train_pipeline.py'\n",
    "exec(requests.get(url).text)\n",
    "qustion = 'What is the product name?'\n",
    "model_path = '../models/Product_Data_SQuAD_model_product.pt'\n",
    "res,table = bert_train_pipeline(train_df,val_df,qustion,model_path)"
   ]
  },
  {
   "cell_type": "markdown",
   "metadata": {},
   "source": [
    "# 展示模型表現"
   ]
  },
  {
   "cell_type": "code",
   "execution_count": 10,
   "metadata": {},
   "outputs": [
    {
     "data": {
      "text/html": [
       "<div>\n",
       "<style scoped>\n",
       "    .dataframe tbody tr th:only-of-type {\n",
       "        vertical-align: middle;\n",
       "    }\n",
       "\n",
       "    .dataframe tbody tr th {\n",
       "        vertical-align: top;\n",
       "    }\n",
       "\n",
       "    .dataframe thead th {\n",
       "        text-align: right;\n",
       "    }\n",
       "</style>\n",
       "<table border=\"1\" class=\"dataframe\">\n",
       "  <thead>\n",
       "    <tr style=\"text-align: right;\">\n",
       "      <th></th>\n",
       "      <th>jaccard</th>\n",
       "      <th>acc(1.0)</th>\n",
       "      <th>acc(0.75)</th>\n",
       "      <th>acc(0.5)</th>\n",
       "      <th>acc(0.25)</th>\n",
       "    </tr>\n",
       "  </thead>\n",
       "  <tbody>\n",
       "    <tr>\n",
       "      <th>0</th>\n",
       "      <td>0.949008</td>\n",
       "      <td>0.919061</td>\n",
       "      <td>0.924667</td>\n",
       "      <td>0.951997</td>\n",
       "      <td>0.980729</td>\n",
       "    </tr>\n",
       "  </tbody>\n",
       "</table>\n",
       "</div>"
      ],
      "text/plain": [
       "    jaccard  acc(1.0)  acc(0.75)  acc(0.5)  acc(0.25)\n",
       "0  0.949008  0.919061   0.924667  0.951997   0.980729"
      ]
     },
     "metadata": {},
     "output_type": "display_data"
    },
    {
     "data": {
      "text/html": [
       "<div>\n",
       "<style scoped>\n",
       "    .dataframe tbody tr th:only-of-type {\n",
       "        vertical-align: middle;\n",
       "    }\n",
       "\n",
       "    .dataframe tbody tr th {\n",
       "        vertical-align: top;\n",
       "    }\n",
       "\n",
       "    .dataframe thead th {\n",
       "        text-align: right;\n",
       "    }\n",
       "</style>\n",
       "<table border=\"1\" class=\"dataframe\">\n",
       "  <thead>\n",
       "    <tr style=\"text-align: right;\">\n",
       "      <th></th>\n",
       "      <th>Y_label</th>\n",
       "      <th>predict</th>\n",
       "      <th>是否全對</th>\n",
       "    </tr>\n",
       "  </thead>\n",
       "  <tbody>\n",
       "    <tr>\n",
       "      <th>19401</th>\n",
       "      <td>MONO ETHYLENE GLYCOL</td>\n",
       "      <td>MONO ETHYLENE GLYCOL</td>\n",
       "      <td>Yes</td>\n",
       "    </tr>\n",
       "    <tr>\n",
       "      <th>4831</th>\n",
       "      <td>CARBON FIBER TC35</td>\n",
       "      <td>CARBON FIBER TC35</td>\n",
       "      <td>Yes</td>\n",
       "    </tr>\n",
       "    <tr>\n",
       "      <th>15341</th>\n",
       "      <td>POLYESTER PARTIALLY ORIENTED YARN</td>\n",
       "      <td>POLYESTER PARTIALLY ORIENTED YARN</td>\n",
       "      <td>Yes</td>\n",
       "    </tr>\n",
       "    <tr>\n",
       "      <th>3719</th>\n",
       "      <td>RESIN</td>\n",
       "      <td>RESIN</td>\n",
       "      <td>Yes</td>\n",
       "    </tr>\n",
       "    <tr>\n",
       "      <th>18309</th>\n",
       "      <td>PACK</td>\n",
       "      <td>PACK</td>\n",
       "      <td>Yes</td>\n",
       "    </tr>\n",
       "    <tr>\n",
       "      <th>18541</th>\n",
       "      <td>MONO ETHYLENE GLYCOL</td>\n",
       "      <td>MONO ETHYLENE GLYCOL</td>\n",
       "      <td>Yes</td>\n",
       "    </tr>\n",
       "    <tr>\n",
       "      <th>1802</th>\n",
       "      <td>IMPACT MODIFIER M31</td>\n",
       "      <td>PVC  IMPACT MODIFIER M31</td>\n",
       "      <td>No</td>\n",
       "    </tr>\n",
       "    <tr>\n",
       "      <th>5449</th>\n",
       "      <td>HDPE</td>\n",
       "      <td>HDPE</td>\n",
       "      <td>Yes</td>\n",
       "    </tr>\n",
       "    <tr>\n",
       "      <th>3711</th>\n",
       "      <td>DOTP</td>\n",
       "      <td>DOTP</td>\n",
       "      <td>Yes</td>\n",
       "    </tr>\n",
       "    <tr>\n",
       "      <th>20513</th>\n",
       "      <td>MONO ETHYLENE GLYCOL</td>\n",
       "      <td>MONO ETHYLENE GLYCOL</td>\n",
       "      <td>Yes</td>\n",
       "    </tr>\n",
       "    <tr>\n",
       "      <th>5593</th>\n",
       "      <td>FDY</td>\n",
       "      <td>FDY</td>\n",
       "      <td>Yes</td>\n",
       "    </tr>\n",
       "    <tr>\n",
       "      <th>20275</th>\n",
       "      <td>THF</td>\n",
       "      <td>THF</td>\n",
       "      <td>Yes</td>\n",
       "    </tr>\n",
       "    <tr>\n",
       "      <th>17148</th>\n",
       "      <td>ETHYL HEXYL ACRYLATE</td>\n",
       "      <td>ETHYL HEXYL ACRYLATE</td>\n",
       "      <td>Yes</td>\n",
       "    </tr>\n",
       "    <tr>\n",
       "      <th>3938</th>\n",
       "      <td>PACK</td>\n",
       "      <td>PACK</td>\n",
       "      <td>Yes</td>\n",
       "    </tr>\n",
       "    <tr>\n",
       "      <th>1469</th>\n",
       "      <td>PP</td>\n",
       "      <td>PP</td>\n",
       "      <td>Yes</td>\n",
       "    </tr>\n",
       "    <tr>\n",
       "      <th>2196</th>\n",
       "      <td>RIGID</td>\n",
       "      <td>RIGID</td>\n",
       "      <td>Yes</td>\n",
       "    </tr>\n",
       "    <tr>\n",
       "      <th>17891</th>\n",
       "      <td>PVC RESIN</td>\n",
       "      <td>PVC RESIN</td>\n",
       "      <td>Yes</td>\n",
       "    </tr>\n",
       "    <tr>\n",
       "      <th>5894</th>\n",
       "      <td>PVC SHEET</td>\n",
       "      <td>PVC SHEET</td>\n",
       "      <td>Yes</td>\n",
       "    </tr>\n",
       "    <tr>\n",
       "      <th>20112</th>\n",
       "      <td>PROPYLENE</td>\n",
       "      <td>PROPYLENE</td>\n",
       "      <td>Yes</td>\n",
       "    </tr>\n",
       "    <tr>\n",
       "      <th>17342</th>\n",
       "      <td>GPPS</td>\n",
       "      <td>GPPS</td>\n",
       "      <td>Yes</td>\n",
       "    </tr>\n",
       "    <tr>\n",
       "      <th>3922</th>\n",
       "      <td>PP</td>\n",
       "      <td>PP</td>\n",
       "      <td>Yes</td>\n",
       "    </tr>\n",
       "    <tr>\n",
       "      <th>16986</th>\n",
       "      <td>HDPE</td>\n",
       "      <td>HDPE</td>\n",
       "      <td>Yes</td>\n",
       "    </tr>\n",
       "    <tr>\n",
       "      <th>7440</th>\n",
       "      <td>TAIRIREX POLYSTYRENE</td>\n",
       "      <td>TAIRIREX POLYSTYRENE</td>\n",
       "      <td>Yes</td>\n",
       "    </tr>\n",
       "    <tr>\n",
       "      <th>19360</th>\n",
       "      <td>GPPS</td>\n",
       "      <td>GPPS</td>\n",
       "      <td>Yes</td>\n",
       "    </tr>\n",
       "    <tr>\n",
       "      <th>16795</th>\n",
       "      <td>EVA</td>\n",
       "      <td>EVA</td>\n",
       "      <td>Yes</td>\n",
       "    </tr>\n",
       "    <tr>\n",
       "      <th>956</th>\n",
       "      <td>LLDPE TAISOX</td>\n",
       "      <td>LLDPE</td>\n",
       "      <td>No</td>\n",
       "    </tr>\n",
       "    <tr>\n",
       "      <th>18968</th>\n",
       "      <td>2EH</td>\n",
       "      <td>2EH</td>\n",
       "      <td>Yes</td>\n",
       "    </tr>\n",
       "    <tr>\n",
       "      <th>7468</th>\n",
       "      <td>PP</td>\n",
       "      <td>PP</td>\n",
       "      <td>Yes</td>\n",
       "    </tr>\n",
       "    <tr>\n",
       "      <th>8184</th>\n",
       "      <td>MONO ETHYLENE GLYCOL</td>\n",
       "      <td>MONO ETHYLENE GLYCOL</td>\n",
       "      <td>Yes</td>\n",
       "    </tr>\n",
       "    <tr>\n",
       "      <th>2159</th>\n",
       "      <td>RELEASE FILM</td>\n",
       "      <td>RELEASE FILM</td>\n",
       "      <td>Yes</td>\n",
       "    </tr>\n",
       "  </tbody>\n",
       "</table>\n",
       "</div>"
      ],
      "text/plain": [
       "                                 Y_label                            predict  \\\n",
       "19401               MONO ETHYLENE GLYCOL               MONO ETHYLENE GLYCOL   \n",
       "4831                   CARBON FIBER TC35                  CARBON FIBER TC35   \n",
       "15341  POLYESTER PARTIALLY ORIENTED YARN  POLYESTER PARTIALLY ORIENTED YARN   \n",
       "3719                               RESIN                              RESIN   \n",
       "18309                               PACK                               PACK   \n",
       "18541               MONO ETHYLENE GLYCOL               MONO ETHYLENE GLYCOL   \n",
       "1802                 IMPACT MODIFIER M31           PVC  IMPACT MODIFIER M31   \n",
       "5449                                HDPE                               HDPE   \n",
       "3711                                DOTP                               DOTP   \n",
       "20513               MONO ETHYLENE GLYCOL               MONO ETHYLENE GLYCOL   \n",
       "5593                                 FDY                                FDY   \n",
       "20275                                THF                                THF   \n",
       "17148               ETHYL HEXYL ACRYLATE               ETHYL HEXYL ACRYLATE   \n",
       "3938                                PACK                               PACK   \n",
       "1469                                  PP                                 PP   \n",
       "2196                               RIGID                              RIGID   \n",
       "17891                          PVC RESIN                          PVC RESIN   \n",
       "5894                           PVC SHEET                          PVC SHEET   \n",
       "20112                          PROPYLENE                          PROPYLENE   \n",
       "17342                               GPPS                               GPPS   \n",
       "3922                                  PP                                 PP   \n",
       "16986                               HDPE                               HDPE   \n",
       "7440                TAIRIREX POLYSTYRENE               TAIRIREX POLYSTYRENE   \n",
       "19360                               GPPS                               GPPS   \n",
       "16795                                EVA                                EVA   \n",
       "956                         LLDPE TAISOX                              LLDPE   \n",
       "18968                                2EH                                2EH   \n",
       "7468                                  PP                                 PP   \n",
       "8184                MONO ETHYLENE GLYCOL               MONO ETHYLENE GLYCOL   \n",
       "2159                        RELEASE FILM                       RELEASE FILM   \n",
       "\n",
       "      是否全對  \n",
       "19401  Yes  \n",
       "4831   Yes  \n",
       "15341  Yes  \n",
       "3719   Yes  \n",
       "18309  Yes  \n",
       "18541  Yes  \n",
       "1802    No  \n",
       "5449   Yes  \n",
       "3711   Yes  \n",
       "20513  Yes  \n",
       "5593   Yes  \n",
       "20275  Yes  \n",
       "17148  Yes  \n",
       "3938   Yes  \n",
       "1469   Yes  \n",
       "2196   Yes  \n",
       "17891  Yes  \n",
       "5894   Yes  \n",
       "20112  Yes  \n",
       "17342  Yes  \n",
       "3922   Yes  \n",
       "16986  Yes  \n",
       "7440   Yes  \n",
       "19360  Yes  \n",
       "16795  Yes  \n",
       "956     No  \n",
       "18968  Yes  \n",
       "7468   Yes  \n",
       "8184   Yes  \n",
       "2159   Yes  "
      ]
     },
     "execution_count": 10,
     "metadata": {},
     "output_type": "execute_result"
    }
   ],
   "source": [
    "display(res)\n",
    "table.sample(30)"
   ]
  },
  {
   "cell_type": "code",
   "execution_count": null,
   "metadata": {},
   "outputs": [],
   "source": []
  }
 ],
 "metadata": {
  "interpreter": {
   "hash": "2ccee5cc862501c1aad1cf19888c2a2eca4026b72d187db43d5e889cbdc6ee97"
  },
  "kernelspec": {
   "display_name": "Python 3.8.5 64-bit ('base': conda)",
   "name": "python3"
  },
  "language_info": {
   "codemirror_mode": {
    "name": "ipython",
    "version": 3
   },
   "file_extension": ".py",
   "mimetype": "text/x-python",
   "name": "python",
   "nbconvert_exporter": "python",
   "pygments_lexer": "ipython3",
   "version": "3.8.5"
  }
 },
 "nbformat": 4,
 "nbformat_minor": 2
}
