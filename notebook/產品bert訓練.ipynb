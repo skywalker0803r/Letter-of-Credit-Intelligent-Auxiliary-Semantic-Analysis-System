{
 "cells": [
  {
   "cell_type": "code",
   "execution_count": 23,
   "source": [
    "import pandas as pd\r\n",
    "import numpy as np\r\n",
    "from tqdm import tqdm_notebook as tqdm\r\n",
    "from torch.optim.optimizer import Optimizer\r\n",
    "import matplotlib.pyplot as plt\r\n",
    "from copy import deepcopy\r\n",
    "import numpy as np\r\n",
    "import random\r\n",
    "import torch\r\n",
    "import warnings \r\n",
    "warnings.filterwarnings('ignore')\r\n",
    "from pytorch_lightning import seed_everything\r\n",
    "import os\r\n",
    "import gc\r\n",
    "from transformers import pipeline\r\n",
    "import requests\r\n",
    "from transformers import DistilBertTokenizerFast\r\n",
    "from transformers import DistilBertForQuestionAnswering\r\n",
    "from transformers import Trainer, TrainingArguments\r\n",
    "import torch\r\n",
    "from torch.utils.data import DataLoader\r\n",
    "import matplotlib.pyplot as plt \r\n",
    "gc.collect()"
   ],
   "outputs": [
    {
     "output_type": "execute_result",
     "data": {
      "text/plain": [
       "8714"
      ]
     },
     "metadata": {},
     "execution_count": 23
    }
   ],
   "metadata": {}
  },
  {
   "cell_type": "markdown",
   "source": [
    "# functions"
   ],
   "metadata": {}
  },
  {
   "cell_type": "code",
   "execution_count": 24,
   "source": [
    "def get_jaccard_sim(str1, str2): \r\n",
    "    a = set(str1.split()) \r\n",
    "    b = set(str2.split())\r\n",
    "    c = a.intersection(b)\r\n",
    "    return float(len(c)) / (len(a) + len(b) - len(c))\r\n",
    "\r\n",
    "def set_seed(seed = int):\r\n",
    "    '''Sets the seed of the entire notebook so results are the same every time we run.\r\n",
    "    This is for REPRODUCIBILITY.'''\r\n",
    "    np.random.seed(seed)\r\n",
    "    random_state = np.random.RandomState(seed)\r\n",
    "    random.seed(seed)\r\n",
    "    torch.manual_seed(seed)\r\n",
    "    torch.cuda.manual_seed(seed)\r\n",
    "    torch.backends.cudnn.deterministic = True\r\n",
    "    torch.backends.cudnn.benchmark = False\r\n",
    "    os.environ['PYTHONHASHSEED'] = str(seed)\r\n",
    "    seed_everything(seed)\r\n",
    "    return random_state\r\n",
    "random_state = set_seed(42)\r\n",
    "\r\n",
    "#MADGRAD \r\n",
    "exec(requests.get('https://raw.githubusercontent.com/facebookresearch/madgrad/main/madgrad/madgrad.py').text)"
   ],
   "outputs": [
    {
     "output_type": "stream",
     "name": "stderr",
     "text": [
      "Global seed set to 42\n"
     ]
    }
   ],
   "metadata": {}
  },
  {
   "cell_type": "markdown",
   "source": [
    "# load data and split data (train,val)"
   ],
   "metadata": {}
  },
  {
   "cell_type": "code",
   "execution_count": 25,
   "source": [
    "\r\n",
    "from sklearn.model_selection import train_test_split\r\n",
    "df = pd.read_csv('../data/preprocess_for_SQUAD_產品.csv',index_col=0)[['string_X_train','Y_label','string_Y_1','string_Y_2']].dropna(axis=0)\r\n",
    "print(df.shape)\r\n",
    "train_df, val_df = train_test_split(df,test_size=0.2,random_state=random_state)\r\n",
    "display(train_df.head(3)),display(val_df.head(3))"
   ],
   "outputs": [
    {
     "output_type": "stream",
     "name": "stdout",
     "text": [
      "(4492, 4)\n"
     ]
    },
    {
     "output_type": "display_data",
     "data": {
      "text/html": [
       "<div>\n",
       "<style scoped>\n",
       "    .dataframe tbody tr th:only-of-type {\n",
       "        vertical-align: middle;\n",
       "    }\n",
       "\n",
       "    .dataframe tbody tr th {\n",
       "        vertical-align: top;\n",
       "    }\n",
       "\n",
       "    .dataframe thead th {\n",
       "        text-align: right;\n",
       "    }\n",
       "</style>\n",
       "<table border=\"1\" class=\"dataframe\">\n",
       "  <thead>\n",
       "    <tr style=\"text-align: right;\">\n",
       "      <th></th>\n",
       "      <th>string_X_train</th>\n",
       "      <th>Y_label</th>\n",
       "      <th>string_Y_1</th>\n",
       "      <th>string_Y_2</th>\n",
       "    </tr>\n",
       "  </thead>\n",
       "  <tbody>\n",
       "    <tr>\n",
       "      <th>288</th>\n",
       "      <td>TERMS OF PRICE  CIF BU SAN PORTCOUNTRY OF ORIG...</td>\n",
       "      <td>SAN</td>\n",
       "      <td>23</td>\n",
       "      <td>26</td>\n",
       "    </tr>\n",
       "    <tr>\n",
       "      <th>35</th>\n",
       "      <td>POLYVINYL CHLORIDE RESIN  SUS PENSION GRADE  P...</td>\n",
       "      <td>PVC RESIN</td>\n",
       "      <td>45</td>\n",
       "      <td>54</td>\n",
       "    </tr>\n",
       "    <tr>\n",
       "      <th>6319</th>\n",
       "      <td>1 ABS  AG15A1H2 ABS AG12A03 ABS AG15AB4 AS NF2...</td>\n",
       "      <td>GP5250</td>\n",
       "      <td>98</td>\n",
       "      <td>104</td>\n",
       "    </tr>\n",
       "  </tbody>\n",
       "</table>\n",
       "</div>"
      ],
      "text/plain": [
       "                                         string_X_train    Y_label  \\\n",
       "288   TERMS OF PRICE  CIF BU SAN PORTCOUNTRY OF ORIG...        SAN   \n",
       "35    POLYVINYL CHLORIDE RESIN  SUS PENSION GRADE  P...  PVC RESIN   \n",
       "6319  1 ABS  AG15A1H2 ABS AG12A03 ABS AG15AB4 AS NF2...     GP5250   \n",
       "\n",
       "      string_Y_1  string_Y_2  \n",
       "288           23          26  \n",
       "35            45          54  \n",
       "6319          98         104  "
      ]
     },
     "metadata": {}
    },
    {
     "output_type": "display_data",
     "data": {
      "text/html": [
       "<div>\n",
       "<style scoped>\n",
       "    .dataframe tbody tr th:only-of-type {\n",
       "        vertical-align: middle;\n",
       "    }\n",
       "\n",
       "    .dataframe tbody tr th {\n",
       "        vertical-align: top;\n",
       "    }\n",
       "\n",
       "    .dataframe thead th {\n",
       "        text-align: right;\n",
       "    }\n",
       "</style>\n",
       "<table border=\"1\" class=\"dataframe\">\n",
       "  <thead>\n",
       "    <tr style=\"text-align: right;\">\n",
       "      <th></th>\n",
       "      <th>string_X_train</th>\n",
       "      <th>Y_label</th>\n",
       "      <th>string_Y_1</th>\n",
       "      <th>string_Y_2</th>\n",
       "    </tr>\n",
       "  </thead>\n",
       "  <tbody>\n",
       "    <tr>\n",
       "      <th>441</th>\n",
       "      <td>TERMS OF PRICE  CFR AQABA PORTJORDAN COUNTRY O...</td>\n",
       "      <td>DOP</td>\n",
       "      <td>71</td>\n",
       "      <td>74</td>\n",
       "    </tr>\n",
       "    <tr>\n",
       "      <th>6020</th>\n",
       "      <td>CONTRACT NO 21RTS028TAIRYFIL CARBON FIBER  TC3...</td>\n",
       "      <td>CARBON FIBER</td>\n",
       "      <td>29</td>\n",
       "      <td>41</td>\n",
       "    </tr>\n",
       "    <tr>\n",
       "      <th>2753</th>\n",
       "      <td>20 MT OF PROPYLENE  COPOLYMER GRADE NO K9017  ...</td>\n",
       "      <td>PROPYLENE</td>\n",
       "      <td>9</td>\n",
       "      <td>18</td>\n",
       "    </tr>\n",
       "  </tbody>\n",
       "</table>\n",
       "</div>"
      ],
      "text/plain": [
       "                                         string_X_train       Y_label  \\\n",
       "441   TERMS OF PRICE  CFR AQABA PORTJORDAN COUNTRY O...           DOP   \n",
       "6020  CONTRACT NO 21RTS028TAIRYFIL CARBON FIBER  TC3...  CARBON FIBER   \n",
       "2753  20 MT OF PROPYLENE  COPOLYMER GRADE NO K9017  ...     PROPYLENE   \n",
       "\n",
       "      string_Y_1  string_Y_2  \n",
       "441           71          74  \n",
       "6020          29          41  \n",
       "2753           9          18  "
      ]
     },
     "metadata": {}
    },
    {
     "output_type": "execute_result",
     "data": {
      "text/plain": [
       "(None, None)"
      ]
     },
     "metadata": {},
     "execution_count": 25
    }
   ],
   "metadata": {}
  },
  {
   "cell_type": "markdown",
   "source": [
    "# load model and tokenizer"
   ],
   "metadata": {}
  },
  {
   "cell_type": "code",
   "execution_count": 26,
   "source": [
    "tokenizer = DistilBertTokenizerFast.from_pretrained('distilbert-base-uncased')\r\n",
    "model = DistilBertForQuestionAnswering.from_pretrained(\"distilbert-base-uncased\")"
   ],
   "outputs": [
    {
     "output_type": "stream",
     "name": "stderr",
     "text": [
      "Some weights of the model checkpoint at distilbert-base-uncased were not used when initializing DistilBertForQuestionAnswering: ['vocab_transform.bias', 'vocab_layer_norm.weight', 'vocab_layer_norm.bias', 'vocab_projector.weight', 'vocab_projector.bias', 'vocab_transform.weight']\n",
      "- This IS expected if you are initializing DistilBertForQuestionAnswering from the checkpoint of a model trained on another task or with another architecture (e.g. initializing a BertForSequenceClassification model from a BertForPreTraining model).\n",
      "- This IS NOT expected if you are initializing DistilBertForQuestionAnswering from the checkpoint of a model that you expect to be exactly identical (initializing a BertForSequenceClassification model from a BertForSequenceClassification model).\n",
      "Some weights of DistilBertForQuestionAnswering were not initialized from the model checkpoint at distilbert-base-uncased and are newly initialized: ['qa_outputs.bias', 'qa_outputs.weight']\n",
      "You should probably TRAIN this model on a down-stream task to be able to use it for predictions and inference.\n"
     ]
    }
   ],
   "metadata": {}
  },
  {
   "cell_type": "markdown",
   "source": [
    "# Data preprocessing"
   ],
   "metadata": {}
  },
  {
   "cell_type": "code",
   "execution_count": 27,
   "source": [
    "def preprocessing(df):\r\n",
    "    contexts = df['string_X_train'].values.tolist()\r\n",
    "    questions = [ 'What is the product name ?' for i in range(len(df))]\r\n",
    "    answers = []\r\n",
    "    for idx in df.index:\r\n",
    "        answers.append({\r\n",
    "            'text':df.loc[idx,'Y_label'],\r\n",
    "            'answer_start':df.loc[idx,'string_Y_1'],\r\n",
    "            'answer_end':df.loc[idx,'string_Y_2'],\r\n",
    "            })\r\n",
    "    return contexts ,questions ,answers"
   ],
   "outputs": [],
   "metadata": {}
  },
  {
   "cell_type": "code",
   "execution_count": 28,
   "source": [
    "def add_token_positions(encodings, answers):\r\n",
    "    start_positions = []\r\n",
    "    end_positions = []\r\n",
    "    for i in range(len(answers)):\r\n",
    "        start_positions.append(encodings.char_to_token(i, answers[i]['answer_start']))\r\n",
    "        end_positions.append(encodings.char_to_token(i, answers[i]['answer_end'] - 1))\r\n",
    "\r\n",
    "        # if start position is None, the answer passage has been truncated\r\n",
    "        if start_positions[-1] is None:\r\n",
    "            start_positions[-1] = tokenizer.model_max_length\r\n",
    "        if end_positions[-1] is None:\r\n",
    "            end_positions[-1] = tokenizer.model_max_length\r\n",
    "\r\n",
    "    encodings.update({'start_positions': start_positions, 'end_positions': end_positions})\r\n",
    "    return encodings"
   ],
   "outputs": [],
   "metadata": {}
  },
  {
   "cell_type": "code",
   "execution_count": 29,
   "source": [
    "class SquadDataset(torch.utils.data.Dataset):\r\n",
    "    def __init__(self, encodings):\r\n",
    "        self.encodings = encodings\r\n",
    "\r\n",
    "    def __getitem__(self, idx):\r\n",
    "        return {key: torch.tensor(val[idx]) for key, val in self.encodings.items()}\r\n",
    "\r\n",
    "    def __len__(self):\r\n",
    "        return len(self.encodings.input_ids)"
   ],
   "outputs": [],
   "metadata": {}
  },
  {
   "cell_type": "code",
   "execution_count": 30,
   "source": [
    "def df2Dataloader(df):\r\n",
    "    contexts ,questions ,answers = preprocessing(df)\r\n",
    "    encodings = tokenizer(contexts, questions, truncation=True, padding=True)\r\n",
    "    encodings = add_token_positions(encodings, answers)\r\n",
    "    dataset = SquadDataset(encodings)\r\n",
    "    return DataLoader(dataset,batch_size=8)"
   ],
   "outputs": [],
   "metadata": {}
  },
  {
   "cell_type": "code",
   "execution_count": 31,
   "source": [
    "train_loader = df2Dataloader(train_df)\r\n",
    "val_loader = df2Dataloader(val_df)"
   ],
   "outputs": [],
   "metadata": {}
  },
  {
   "cell_type": "markdown",
   "source": [
    "# train model"
   ],
   "metadata": {}
  },
  {
   "cell_type": "code",
   "execution_count": 32,
   "source": [
    "device = torch.device('cuda') if torch.cuda.is_available() else torch.device('cpu')\r\n",
    "model.to(device)\r\n",
    "model.train()\r\n",
    "optimizer = MADGRAD(model.parameters() ,lr = 5e-5)"
   ],
   "outputs": [],
   "metadata": {}
  },
  {
   "cell_type": "code",
   "execution_count": 33,
   "source": [
    "def step(model,batch,optimizer,device,mode='train'):\r\n",
    "    model = model.to(device)\r\n",
    "    # change mode\r\n",
    "    if mode == 'train':\r\n",
    "        model.train()\r\n",
    "    if mode == 'val':\r\n",
    "        model.eval()\r\n",
    "    # forward pass\r\n",
    "    input_ids = batch['input_ids'].to(device)\r\n",
    "    attention_mask = batch['attention_mask'].to(device)\r\n",
    "    start_positions = batch['start_positions'].to(device)\r\n",
    "    end_positions = batch['end_positions'].to(device)\r\n",
    "    outputs = model(input_ids, attention_mask=attention_mask, start_positions=start_positions, end_positions=end_positions)\r\n",
    "    loss = outputs[0]\r\n",
    "    # update model if mode == train\r\n",
    "    if mode == 'train': \r\n",
    "        loss.backward()\r\n",
    "        optimizer.step()\r\n",
    "        optimizer.zero_grad()\r\n",
    "    return loss.item()"
   ],
   "outputs": [],
   "metadata": {}
  },
  {
   "cell_type": "code",
   "execution_count": 34,
   "source": [
    "def train_loop(model,train_loader,val_loader,optimizer,max_epochs=5):\r\n",
    "    history = {'train_loss':[],'val_loss':[]}\r\n",
    "    best_loss = np.inf\r\n",
    "    best_model = None\r\n",
    "    for epoch in tqdm(range(max_epochs)):        \r\n",
    "        epoch_train_loss = 0.0\r\n",
    "        epoch_val_loss = 0.0\r\n",
    "        for i,batch in enumerate(tqdm(train_loader)):\r\n",
    "            epoch_train_loss += step(model,batch,optimizer,device,mode='train')\r\n",
    "        for j,batch in enumerate(tqdm(val_loader)):\r\n",
    "            epoch_val_loss += step(model,batch,optimizer,device,mode='val')\r\n",
    "        history['train_loss'].append(epoch_train_loss/i)\r\n",
    "        history['val_loss'].append(epoch_val_loss/j)\r\n",
    "        print(f'epoch:{epoch} train_loss:{epoch_train_loss/i} val_loss:{epoch_val_loss/j}')\r\n",
    "        if history['val_loss'][-1] <= best_loss: \r\n",
    "            best_model = deepcopy(model.eval())\r\n",
    "            best_loss = history['val_loss'][-1]\r\n",
    "            print(f'save best_model now_val_best_loss is:{best_loss}')\r\n",
    "    return best_model.eval() ,history"
   ],
   "outputs": [],
   "metadata": {}
  },
  {
   "cell_type": "code",
   "execution_count": 35,
   "source": [
    "best_model ,history = train_loop(model,train_loader,val_loader,optimizer,max_epochs=9)"
   ],
   "outputs": [
    {
     "output_type": "display_data",
     "data": {
      "application/vnd.jupyter.widget-view+json": {
       "version_major": 2,
       "version_minor": 0,
       "model_id": "dfba0c749d0948b49668184194175045"
      },
      "text/plain": [
       "HBox(children=(HTML(value=''), FloatProgress(value=0.0, max=9.0), HTML(value='')))"
      ]
     },
     "metadata": {}
    },
    {
     "output_type": "display_data",
     "data": {
      "application/vnd.jupyter.widget-view+json": {
       "version_major": 2,
       "version_minor": 0,
       "model_id": "7cea907ee6f140ceaf64cc9281cc1af0"
      },
      "text/plain": [
       "HBox(children=(HTML(value=''), FloatProgress(value=0.0, max=450.0), HTML(value='')))"
      ]
     },
     "metadata": {}
    },
    {
     "output_type": "stream",
     "name": "stdout",
     "text": [
      "\n"
     ]
    },
    {
     "output_type": "display_data",
     "data": {
      "application/vnd.jupyter.widget-view+json": {
       "version_major": 2,
       "version_minor": 0,
       "model_id": "80fb3deaf28e4789be47cc1786d8e99b"
      },
      "text/plain": [
       "HBox(children=(HTML(value=''), FloatProgress(value=0.0, max=113.0), HTML(value='')))"
      ]
     },
     "metadata": {}
    },
    {
     "output_type": "stream",
     "name": "stdout",
     "text": [
      "\n",
      "epoch:0 train_loss:0.8654211445240706 val_loss:0.3084124014380255\n",
      "save best_model now_val_best_loss is:0.3084124014380255\n"
     ]
    },
    {
     "output_type": "display_data",
     "data": {
      "application/vnd.jupyter.widget-view+json": {
       "version_major": 2,
       "version_minor": 0,
       "model_id": "4f22ec3c5ff74053baf3d0820fddd4fe"
      },
      "text/plain": [
       "HBox(children=(HTML(value=''), FloatProgress(value=0.0, max=450.0), HTML(value='')))"
      ]
     },
     "metadata": {}
    },
    {
     "output_type": "stream",
     "name": "stdout",
     "text": [
      "\n"
     ]
    },
    {
     "output_type": "display_data",
     "data": {
      "application/vnd.jupyter.widget-view+json": {
       "version_major": 2,
       "version_minor": 0,
       "model_id": "a669bb962a784c89a97f03f3a9127e4a"
      },
      "text/plain": [
       "HBox(children=(HTML(value=''), FloatProgress(value=0.0, max=113.0), HTML(value='')))"
      ]
     },
     "metadata": {}
    },
    {
     "output_type": "stream",
     "name": "stdout",
     "text": [
      "\n",
      "epoch:1 train_loss:0.30942174078863455 val_loss:0.17497575425243536\n",
      "save best_model now_val_best_loss is:0.17497575425243536\n"
     ]
    },
    {
     "output_type": "display_data",
     "data": {
      "application/vnd.jupyter.widget-view+json": {
       "version_major": 2,
       "version_minor": 0,
       "model_id": "f3d5e12c771e48e8a599b5ac4fdfaec2"
      },
      "text/plain": [
       "HBox(children=(HTML(value=''), FloatProgress(value=0.0, max=450.0), HTML(value='')))"
      ]
     },
     "metadata": {}
    },
    {
     "output_type": "stream",
     "name": "stdout",
     "text": [
      "\n"
     ]
    },
    {
     "output_type": "display_data",
     "data": {
      "application/vnd.jupyter.widget-view+json": {
       "version_major": 2,
       "version_minor": 0,
       "model_id": "908f2382d5574a2689bb5642512cc771"
      },
      "text/plain": [
       "HBox(children=(HTML(value=''), FloatProgress(value=0.0, max=113.0), HTML(value='')))"
      ]
     },
     "metadata": {}
    },
    {
     "output_type": "stream",
     "name": "stdout",
     "text": [
      "\n",
      "epoch:2 train_loss:0.1769080366243796 val_loss:0.16205275170874042\n",
      "save best_model now_val_best_loss is:0.16205275170874042\n"
     ]
    },
    {
     "output_type": "display_data",
     "data": {
      "application/vnd.jupyter.widget-view+json": {
       "version_major": 2,
       "version_minor": 0,
       "model_id": "b4472a60f5e94eef9a6b9bde971bb5e1"
      },
      "text/plain": [
       "HBox(children=(HTML(value=''), FloatProgress(value=0.0, max=450.0), HTML(value='')))"
      ]
     },
     "metadata": {}
    },
    {
     "output_type": "stream",
     "name": "stdout",
     "text": [
      "\n"
     ]
    },
    {
     "output_type": "display_data",
     "data": {
      "application/vnd.jupyter.widget-view+json": {
       "version_major": 2,
       "version_minor": 0,
       "model_id": "ae03a46c3e1f4f3f9057e2be735b5c42"
      },
      "text/plain": [
       "HBox(children=(HTML(value=''), FloatProgress(value=0.0, max=113.0), HTML(value='')))"
      ]
     },
     "metadata": {}
    },
    {
     "output_type": "stream",
     "name": "stdout",
     "text": [
      "\n",
      "epoch:3 train_loss:0.11315948313512043 val_loss:0.11228000600437683\n",
      "save best_model now_val_best_loss is:0.11228000600437683\n"
     ]
    },
    {
     "output_type": "display_data",
     "data": {
      "application/vnd.jupyter.widget-view+json": {
       "version_major": 2,
       "version_minor": 0,
       "model_id": "1706bf266ba0498688fd08f0ca6905b4"
      },
      "text/plain": [
       "HBox(children=(HTML(value=''), FloatProgress(value=0.0, max=450.0), HTML(value='')))"
      ]
     },
     "metadata": {}
    },
    {
     "output_type": "stream",
     "name": "stdout",
     "text": [
      "\n"
     ]
    },
    {
     "output_type": "display_data",
     "data": {
      "application/vnd.jupyter.widget-view+json": {
       "version_major": 2,
       "version_minor": 0,
       "model_id": "83e94e62dc48494cb4c8dd57db826039"
      },
      "text/plain": [
       "HBox(children=(HTML(value=''), FloatProgress(value=0.0, max=113.0), HTML(value='')))"
      ]
     },
     "metadata": {}
    },
    {
     "output_type": "stream",
     "name": "stdout",
     "text": [
      "\n",
      "epoch:4 train_loss:0.1530137833020583 val_loss:1.2385400677365916\n"
     ]
    },
    {
     "output_type": "display_data",
     "data": {
      "application/vnd.jupyter.widget-view+json": {
       "version_major": 2,
       "version_minor": 0,
       "model_id": "7464d5d691bd439cb7e70084ece30d1b"
      },
      "text/plain": [
       "HBox(children=(HTML(value=''), FloatProgress(value=0.0, max=450.0), HTML(value='')))"
      ]
     },
     "metadata": {}
    },
    {
     "output_type": "stream",
     "name": "stdout",
     "text": [
      "\n"
     ]
    },
    {
     "output_type": "display_data",
     "data": {
      "application/vnd.jupyter.widget-view+json": {
       "version_major": 2,
       "version_minor": 0,
       "model_id": "49c33ebfd39945ea9833be601c2997ef"
      },
      "text/plain": [
       "HBox(children=(HTML(value=''), FloatProgress(value=0.0, max=113.0), HTML(value='')))"
      ]
     },
     "metadata": {}
    },
    {
     "output_type": "stream",
     "name": "stdout",
     "text": [
      "\n",
      "epoch:5 train_loss:1.138905886969299 val_loss:0.23412198037944368\n"
     ]
    },
    {
     "output_type": "display_data",
     "data": {
      "application/vnd.jupyter.widget-view+json": {
       "version_major": 2,
       "version_minor": 0,
       "model_id": "4e3d1f7739ec471ebfad16f6b95e916a"
      },
      "text/plain": [
       "HBox(children=(HTML(value=''), FloatProgress(value=0.0, max=450.0), HTML(value='')))"
      ]
     },
     "metadata": {}
    },
    {
     "output_type": "stream",
     "name": "stdout",
     "text": [
      "\n"
     ]
    },
    {
     "output_type": "display_data",
     "data": {
      "application/vnd.jupyter.widget-view+json": {
       "version_major": 2,
       "version_minor": 0,
       "model_id": "22406e5e9e1a498e8e5e244956a63c4c"
      },
      "text/plain": [
       "HBox(children=(HTML(value=''), FloatProgress(value=0.0, max=113.0), HTML(value='')))"
      ]
     },
     "metadata": {}
    },
    {
     "output_type": "stream",
     "name": "stdout",
     "text": [
      "\n",
      "epoch:6 train_loss:0.26965694046628047 val_loss:0.13595543799536763\n"
     ]
    },
    {
     "output_type": "display_data",
     "data": {
      "application/vnd.jupyter.widget-view+json": {
       "version_major": 2,
       "version_minor": 0,
       "model_id": "8ead7d177eb24acd8fb143b000d9daf7"
      },
      "text/plain": [
       "HBox(children=(HTML(value=''), FloatProgress(value=0.0, max=450.0), HTML(value='')))"
      ]
     },
     "metadata": {}
    },
    {
     "output_type": "stream",
     "name": "stdout",
     "text": [
      "\n"
     ]
    },
    {
     "output_type": "display_data",
     "data": {
      "application/vnd.jupyter.widget-view+json": {
       "version_major": 2,
       "version_minor": 0,
       "model_id": "72b751eb358541b2a80ef978610a7d49"
      },
      "text/plain": [
       "HBox(children=(HTML(value=''), FloatProgress(value=0.0, max=113.0), HTML(value='')))"
      ]
     },
     "metadata": {}
    },
    {
     "output_type": "stream",
     "name": "stdout",
     "text": [
      "\n",
      "epoch:7 train_loss:0.12166356623417195 val_loss:0.10948374717507445\n",
      "save best_model now_val_best_loss is:0.10948374717507445\n"
     ]
    },
    {
     "output_type": "display_data",
     "data": {
      "application/vnd.jupyter.widget-view+json": {
       "version_major": 2,
       "version_minor": 0,
       "model_id": "44d2bf26df2d4fbaba89d5e68cd87531"
      },
      "text/plain": [
       "HBox(children=(HTML(value=''), FloatProgress(value=0.0, max=450.0), HTML(value='')))"
      ]
     },
     "metadata": {}
    },
    {
     "output_type": "stream",
     "name": "stdout",
     "text": [
      "\n"
     ]
    },
    {
     "output_type": "display_data",
     "data": {
      "application/vnd.jupyter.widget-view+json": {
       "version_major": 2,
       "version_minor": 0,
       "model_id": "a819a56544114acf88296c9eb11fccaa"
      },
      "text/plain": [
       "HBox(children=(HTML(value=''), FloatProgress(value=0.0, max=113.0), HTML(value='')))"
      ]
     },
     "metadata": {}
    },
    {
     "output_type": "stream",
     "name": "stdout",
     "text": [
      "\n",
      "epoch:8 train_loss:0.07041873006534148 val_loss:0.08641943116513826\n",
      "save best_model now_val_best_loss is:0.08641943116513826\n",
      "\n"
     ]
    }
   ],
   "metadata": {}
  },
  {
   "cell_type": "markdown",
   "source": [
    "# save model"
   ],
   "metadata": {}
  },
  {
   "cell_type": "code",
   "execution_count": 36,
   "source": [
    "import matplotlib.pyplot as plt\r\n",
    "plt.plot(history['train_loss'],label='train')\r\n",
    "plt.plot(history['val_loss'],label='test')\r\n",
    "plt.legend()\r\n",
    "plt.show()"
   ],
   "outputs": [
    {
     "output_type": "display_data",
     "data": {
      "image/png": "[encoded data removed]",
      "text/plain": [
       "<Figure size 432x288 with 1 Axes>"
      ]
     },
     "metadata": {
      "needs_background": "light"
     }
    }
   ],
   "metadata": {}
  },
  {
   "cell_type": "code",
   "execution_count": 37,
   "source": [
    "model_path = '../models/Product_Data_SQuAD_model_product.pt'\r\n",
    "torch.save(best_model.state_dict(),model_path)"
   ],
   "outputs": [],
   "metadata": {}
  },
  {
   "cell_type": "markdown",
   "source": [
    "# load trained model"
   ],
   "metadata": {}
  },
  {
   "cell_type": "code",
   "execution_count": 38,
   "source": [
    "model = DistilBertForQuestionAnswering.from_pretrained(\"distilbert-base-uncased\")\r\n",
    "model.load_state_dict(torch.load(model_path))\r\n",
    "model.eval()\r\n",
    "nlp = pipeline('question-answering', model=model.to('cpu'), tokenizer=tokenizer)"
   ],
   "outputs": [
    {
     "output_type": "stream",
     "name": "stderr",
     "text": [
      "Some weights of the model checkpoint at distilbert-base-uncased were not used when initializing DistilBertForQuestionAnswering: ['vocab_transform.bias', 'vocab_layer_norm.weight', 'vocab_layer_norm.bias', 'vocab_projector.weight', 'vocab_projector.bias', 'vocab_transform.weight']\n",
      "- This IS expected if you are initializing DistilBertForQuestionAnswering from the checkpoint of a model trained on another task or with another architecture (e.g. initializing a BertForSequenceClassification model from a BertForPreTraining model).\n",
      "- This IS NOT expected if you are initializing DistilBertForQuestionAnswering from the checkpoint of a model that you expect to be exactly identical (initializing a BertForSequenceClassification model from a BertForSequenceClassification model).\n",
      "Some weights of DistilBertForQuestionAnswering were not initialized from the model checkpoint at distilbert-base-uncased and are newly initialized: ['qa_outputs.bias', 'qa_outputs.weight']\n",
      "You should probably TRAIN this model on a down-stream task to be able to use it for predictions and inference.\n"
     ]
    }
   ],
   "metadata": {}
  },
  {
   "cell_type": "markdown",
   "source": [
    "# test"
   ],
   "metadata": {}
  },
  {
   "cell_type": "code",
   "execution_count": 39,
   "source": [
    "def test_model(nlp,df):\r\n",
    "    table = pd.DataFrame()\r\n",
    "    for i in tqdm(df.index):\r\n",
    "        sample = df.loc[[i]]\r\n",
    "        string_X_train = sample['string_X_train'].values[0]\r\n",
    "        Y_label = sample['Y_label'].values[0]  \r\n",
    "        QA_input = {\r\n",
    "            'question': 'What is the product name?',\r\n",
    "            'context': string_X_train\r\n",
    "        }\r\n",
    "        res = nlp(QA_input)\r\n",
    "        predict = QA_input['context'][res['start']:res['end']]\r\n",
    "        row = pd.DataFrame({'Y_label':Y_label,'predict':predict},index=[i])\r\n",
    "        if Y_label == predict:\r\n",
    "            row['是否全對'] = 'Yes'\r\n",
    "        else:\r\n",
    "            row['是否全對'] = 'No'\r\n",
    "        table = table.append(row)\r\n",
    "    return table"
   ],
   "outputs": [],
   "metadata": {}
  },
  {
   "cell_type": "code",
   "execution_count": 40,
   "source": [
    "table = test_model(nlp,val_df)\r\n",
    "display(table)"
   ],
   "outputs": [
    {
     "output_type": "display_data",
     "data": {
      "application/vnd.jupyter.widget-view+json": {
       "version_major": 2,
       "version_minor": 0,
       "model_id": "26f7b7558ab84c64bcc0b49671848af6"
      },
      "text/plain": [
       "HBox(children=(HTML(value=''), FloatProgress(value=0.0, max=899.0), HTML(value='')))"
      ]
     },
     "metadata": {}
    },
    {
     "output_type": "stream",
     "name": "stdout",
     "text": [
      "\n"
     ]
    },
    {
     "output_type": "display_data",
     "data": {
      "text/html": [
       "<div>\n",
       "<style scoped>\n",
       "    .dataframe tbody tr th:only-of-type {\n",
       "        vertical-align: middle;\n",
       "    }\n",
       "\n",
       "    .dataframe tbody tr th {\n",
       "        vertical-align: top;\n",
       "    }\n",
       "\n",
       "    .dataframe thead th {\n",
       "        text-align: right;\n",
       "    }\n",
       "</style>\n",
       "<table border=\"1\" class=\"dataframe\">\n",
       "  <thead>\n",
       "    <tr style=\"text-align: right;\">\n",
       "      <th></th>\n",
       "      <th>Y_label</th>\n",
       "      <th>predict</th>\n",
       "      <th>是否全對</th>\n",
       "    </tr>\n",
       "  </thead>\n",
       "  <tbody>\n",
       "    <tr>\n",
       "      <th>441</th>\n",
       "      <td>DOP</td>\n",
       "      <td>DOP</td>\n",
       "      <td>Yes</td>\n",
       "    </tr>\n",
       "    <tr>\n",
       "      <th>6020</th>\n",
       "      <td>CARBON FIBER</td>\n",
       "      <td>CARBON FIBER</td>\n",
       "      <td>Yes</td>\n",
       "    </tr>\n",
       "    <tr>\n",
       "      <th>2753</th>\n",
       "      <td>PROPYLENE</td>\n",
       "      <td>PROPYLENE</td>\n",
       "      <td>Yes</td>\n",
       "    </tr>\n",
       "    <tr>\n",
       "      <th>2960</th>\n",
       "      <td>PURIFIED ISOPHTHALIC ACID</td>\n",
       "      <td>ISOPHTHALIC ACID</td>\n",
       "      <td>No</td>\n",
       "    </tr>\n",
       "    <tr>\n",
       "      <th>2050</th>\n",
       "      <td>DOTP</td>\n",
       "      <td>DOTP</td>\n",
       "      <td>Yes</td>\n",
       "    </tr>\n",
       "    <tr>\n",
       "      <th>...</th>\n",
       "      <td>...</td>\n",
       "      <td>...</td>\n",
       "      <td>...</td>\n",
       "    </tr>\n",
       "    <tr>\n",
       "      <th>19332</th>\n",
       "      <td>PRECIPITATED CALCIUM CARBONATE</td>\n",
       "      <td>CALCIUM CARBONATE</td>\n",
       "      <td>No</td>\n",
       "    </tr>\n",
       "    <tr>\n",
       "      <th>20145</th>\n",
       "      <td>PP RESIN</td>\n",
       "      <td>PP  RESIN  PP1005  PP RESIN</td>\n",
       "      <td>No</td>\n",
       "    </tr>\n",
       "    <tr>\n",
       "      <th>7003</th>\n",
       "      <td>PP 5090T</td>\n",
       "      <td>PP</td>\n",
       "      <td>No</td>\n",
       "    </tr>\n",
       "    <tr>\n",
       "      <th>4296</th>\n",
       "      <td>HDPE 8001</td>\n",
       "      <td>HDPE</td>\n",
       "      <td>No</td>\n",
       "    </tr>\n",
       "    <tr>\n",
       "      <th>20141</th>\n",
       "      <td>PP RESIN</td>\n",
       "      <td>PP  RESIN  PP1005  PP RESIN</td>\n",
       "      <td>No</td>\n",
       "    </tr>\n",
       "  </tbody>\n",
       "</table>\n",
       "<p>899 rows × 3 columns</p>\n",
       "</div>"
      ],
      "text/plain": [
       "                              Y_label                      predict 是否全對\n",
       "441                               DOP                          DOP  Yes\n",
       "6020                     CARBON FIBER                 CARBON FIBER  Yes\n",
       "2753                        PROPYLENE                    PROPYLENE  Yes\n",
       "2960        PURIFIED ISOPHTHALIC ACID             ISOPHTHALIC ACID   No\n",
       "2050                             DOTP                         DOTP  Yes\n",
       "...                               ...                          ...  ...\n",
       "19332  PRECIPITATED CALCIUM CARBONATE            CALCIUM CARBONATE   No\n",
       "20145                        PP RESIN  PP  RESIN  PP1005  PP RESIN   No\n",
       "7003                         PP 5090T                           PP   No\n",
       "4296                        HDPE 8001                         HDPE   No\n",
       "20141                        PP RESIN  PP  RESIN  PP1005  PP RESIN   No\n",
       "\n",
       "[899 rows x 3 columns]"
      ]
     },
     "metadata": {}
    }
   ],
   "metadata": {}
  },
  {
   "cell_type": "code",
   "execution_count": 41,
   "source": [
    "display(table[table['是否全對']=='Yes'])"
   ],
   "outputs": [
    {
     "output_type": "display_data",
     "data": {
      "text/html": [
       "<div>\n",
       "<style scoped>\n",
       "    .dataframe tbody tr th:only-of-type {\n",
       "        vertical-align: middle;\n",
       "    }\n",
       "\n",
       "    .dataframe tbody tr th {\n",
       "        vertical-align: top;\n",
       "    }\n",
       "\n",
       "    .dataframe thead th {\n",
       "        text-align: right;\n",
       "    }\n",
       "</style>\n",
       "<table border=\"1\" class=\"dataframe\">\n",
       "  <thead>\n",
       "    <tr style=\"text-align: right;\">\n",
       "      <th></th>\n",
       "      <th>Y_label</th>\n",
       "      <th>predict</th>\n",
       "      <th>是否全對</th>\n",
       "    </tr>\n",
       "  </thead>\n",
       "  <tbody>\n",
       "    <tr>\n",
       "      <th>441</th>\n",
       "      <td>DOP</td>\n",
       "      <td>DOP</td>\n",
       "      <td>Yes</td>\n",
       "    </tr>\n",
       "    <tr>\n",
       "      <th>6020</th>\n",
       "      <td>CARBON FIBER</td>\n",
       "      <td>CARBON FIBER</td>\n",
       "      <td>Yes</td>\n",
       "    </tr>\n",
       "    <tr>\n",
       "      <th>2753</th>\n",
       "      <td>PROPYLENE</td>\n",
       "      <td>PROPYLENE</td>\n",
       "      <td>Yes</td>\n",
       "    </tr>\n",
       "    <tr>\n",
       "      <th>2050</th>\n",
       "      <td>DOTP</td>\n",
       "      <td>DOTP</td>\n",
       "      <td>Yes</td>\n",
       "    </tr>\n",
       "    <tr>\n",
       "      <th>3258</th>\n",
       "      <td>INA</td>\n",
       "      <td>INA</td>\n",
       "      <td>Yes</td>\n",
       "    </tr>\n",
       "    <tr>\n",
       "      <th>...</th>\n",
       "      <td>...</td>\n",
       "      <td>...</td>\n",
       "      <td>...</td>\n",
       "    </tr>\n",
       "    <tr>\n",
       "      <th>19799</th>\n",
       "      <td>RESIN</td>\n",
       "      <td>RESIN</td>\n",
       "      <td>Yes</td>\n",
       "    </tr>\n",
       "    <tr>\n",
       "      <th>15748</th>\n",
       "      <td>POLYESTER PARTIALY ORIENTED YARN</td>\n",
       "      <td>POLYESTER PARTIALY ORIENTED YARN</td>\n",
       "      <td>Yes</td>\n",
       "    </tr>\n",
       "    <tr>\n",
       "      <th>1724</th>\n",
       "      <td>MALEIC ANHYDRIDE</td>\n",
       "      <td>MALEIC ANHYDRIDE</td>\n",
       "      <td>Yes</td>\n",
       "    </tr>\n",
       "    <tr>\n",
       "      <th>8275</th>\n",
       "      <td>INA</td>\n",
       "      <td>INA</td>\n",
       "      <td>Yes</td>\n",
       "    </tr>\n",
       "    <tr>\n",
       "      <th>20102</th>\n",
       "      <td>PP</td>\n",
       "      <td>PP</td>\n",
       "      <td>Yes</td>\n",
       "    </tr>\n",
       "  </tbody>\n",
       "</table>\n",
       "<p>511 rows × 3 columns</p>\n",
       "</div>"
      ],
      "text/plain": [
       "                                Y_label                           predict 是否全對\n",
       "441                                 DOP                               DOP  Yes\n",
       "6020                       CARBON FIBER                      CARBON FIBER  Yes\n",
       "2753                          PROPYLENE                         PROPYLENE  Yes\n",
       "2050                               DOTP                              DOTP  Yes\n",
       "3258                                INA                               INA  Yes\n",
       "...                                 ...                               ...  ...\n",
       "19799                             RESIN                             RESIN  Yes\n",
       "15748  POLYESTER PARTIALY ORIENTED YARN  POLYESTER PARTIALY ORIENTED YARN  Yes\n",
       "1724                   MALEIC ANHYDRIDE                  MALEIC ANHYDRIDE  Yes\n",
       "8275                                INA                               INA  Yes\n",
       "20102                                PP                                PP  Yes\n",
       "\n",
       "[511 rows x 3 columns]"
      ]
     },
     "metadata": {}
    }
   ],
   "metadata": {}
  },
  {
   "cell_type": "code",
   "execution_count": 42,
   "source": [
    "display(table[table['是否全對']=='No'])"
   ],
   "outputs": [
    {
     "output_type": "display_data",
     "data": {
      "text/html": [
       "<div>\n",
       "<style scoped>\n",
       "    .dataframe tbody tr th:only-of-type {\n",
       "        vertical-align: middle;\n",
       "    }\n",
       "\n",
       "    .dataframe tbody tr th {\n",
       "        vertical-align: top;\n",
       "    }\n",
       "\n",
       "    .dataframe thead th {\n",
       "        text-align: right;\n",
       "    }\n",
       "</style>\n",
       "<table border=\"1\" class=\"dataframe\">\n",
       "  <thead>\n",
       "    <tr style=\"text-align: right;\">\n",
       "      <th></th>\n",
       "      <th>Y_label</th>\n",
       "      <th>predict</th>\n",
       "      <th>是否全對</th>\n",
       "    </tr>\n",
       "  </thead>\n",
       "  <tbody>\n",
       "    <tr>\n",
       "      <th>2960</th>\n",
       "      <td>PURIFIED ISOPHTHALIC ACID</td>\n",
       "      <td>ISOPHTHALIC ACID</td>\n",
       "      <td>No</td>\n",
       "    </tr>\n",
       "    <tr>\n",
       "      <th>5174</th>\n",
       "      <td>ABS RESIN</td>\n",
       "      <td>52000KGSABS RESIN</td>\n",
       "      <td>No</td>\n",
       "    </tr>\n",
       "    <tr>\n",
       "      <th>6845</th>\n",
       "      <td>PE</td>\n",
       "      <td>LLDPE</td>\n",
       "      <td>No</td>\n",
       "    </tr>\n",
       "    <tr>\n",
       "      <th>19902</th>\n",
       "      <td>EVA</td>\n",
       "      <td>BUTANEDIOL</td>\n",
       "      <td>No</td>\n",
       "    </tr>\n",
       "    <tr>\n",
       "      <th>7965</th>\n",
       "      <td>WOVEN GLASS EPOXY PREPREG</td>\n",
       "      <td>GLASS EPOXY PREPREG</td>\n",
       "      <td>No</td>\n",
       "    </tr>\n",
       "    <tr>\n",
       "      <th>...</th>\n",
       "      <td>...</td>\n",
       "      <td>...</td>\n",
       "      <td>...</td>\n",
       "    </tr>\n",
       "    <tr>\n",
       "      <th>19332</th>\n",
       "      <td>PRECIPITATED CALCIUM CARBONATE</td>\n",
       "      <td>CALCIUM CARBONATE</td>\n",
       "      <td>No</td>\n",
       "    </tr>\n",
       "    <tr>\n",
       "      <th>20145</th>\n",
       "      <td>PP RESIN</td>\n",
       "      <td>PP  RESIN  PP1005  PP RESIN</td>\n",
       "      <td>No</td>\n",
       "    </tr>\n",
       "    <tr>\n",
       "      <th>7003</th>\n",
       "      <td>PP 5090T</td>\n",
       "      <td>PP</td>\n",
       "      <td>No</td>\n",
       "    </tr>\n",
       "    <tr>\n",
       "      <th>4296</th>\n",
       "      <td>HDPE 8001</td>\n",
       "      <td>HDPE</td>\n",
       "      <td>No</td>\n",
       "    </tr>\n",
       "    <tr>\n",
       "      <th>20141</th>\n",
       "      <td>PP RESIN</td>\n",
       "      <td>PP  RESIN  PP1005  PP RESIN</td>\n",
       "      <td>No</td>\n",
       "    </tr>\n",
       "  </tbody>\n",
       "</table>\n",
       "<p>388 rows × 3 columns</p>\n",
       "</div>"
      ],
      "text/plain": [
       "                              Y_label                      predict 是否全對\n",
       "2960        PURIFIED ISOPHTHALIC ACID             ISOPHTHALIC ACID   No\n",
       "5174                        ABS RESIN            52000KGSABS RESIN   No\n",
       "6845                               PE                        LLDPE   No\n",
       "19902                             EVA                   BUTANEDIOL   No\n",
       "7965        WOVEN GLASS EPOXY PREPREG          GLASS EPOXY PREPREG   No\n",
       "...                               ...                          ...  ...\n",
       "19332  PRECIPITATED CALCIUM CARBONATE            CALCIUM CARBONATE   No\n",
       "20145                        PP RESIN  PP  RESIN  PP1005  PP RESIN   No\n",
       "7003                         PP 5090T                           PP   No\n",
       "4296                        HDPE 8001                         HDPE   No\n",
       "20141                        PP RESIN  PP  RESIN  PP1005  PP RESIN   No\n",
       "\n",
       "[388 rows x 3 columns]"
      ]
     },
     "metadata": {}
    }
   ],
   "metadata": {}
  },
  {
   "cell_type": "markdown",
   "source": [
    "# claculate acc and jaccard"
   ],
   "metadata": {}
  },
  {
   "cell_type": "code",
   "execution_count": 43,
   "source": [
    "def get_acc(df,t=1):\r\n",
    "    correct = []\r\n",
    "    correct_label = []\r\n",
    "    for i in df.index:\r\n",
    "        jac = get_jaccard_sim(df.loc[i,'Y_label'],df.loc[i,'predict'])\r\n",
    "        if jac >= t:\r\n",
    "            correct.append('yes')\r\n",
    "        else:\r\n",
    "            correct.append('no')\r\n",
    "    a = pd.Series(correct)\r\n",
    "    return a.value_counts()['yes']/len(a)"
   ],
   "outputs": [],
   "metadata": {}
  },
  {
   "cell_type": "code",
   "execution_count": 44,
   "source": [
    "print('jaccard_avg_score:',np.mean([ get_jaccard_sim(table['Y_label'].loc[i],table['predict'].loc[i]) for i in table.index]))\r\n",
    "print('acc:',get_acc(table,1))\r\n",
    "print('放水acc:',get_acc(table,0.75))\r\n",
    "print('放水acc:',get_acc(table,0.5))\r\n",
    "print('放水acc:',get_acc(table,0.25))"
   ],
   "outputs": [
    {
     "output_type": "stream",
     "name": "stdout",
     "text": [
      "jaccard_avg_score: 0.7188635520949203\n",
      "acc: 0.5939933259176863\n",
      "放水acc: 0.6028921023359288\n",
      "放水acc: 0.7652947719688543\n",
      "放水acc: 0.8464961067853171\n"
     ]
    }
   ],
   "metadata": {}
  },
  {
   "cell_type": "code",
   "execution_count": null,
   "source": [],
   "outputs": [],
   "metadata": {}
  },
  {
   "cell_type": "code",
   "execution_count": null,
   "source": [],
   "outputs": [],
   "metadata": {}
  },
  {
   "cell_type": "code",
   "execution_count": null,
   "source": [],
   "outputs": [],
   "metadata": {}
  },
  {
   "cell_type": "code",
   "execution_count": null,
   "source": [],
   "outputs": [],
   "metadata": {}
  },
  {
   "cell_type": "code",
   "execution_count": null,
   "source": [],
   "outputs": [],
   "metadata": {}
  },
  {
   "cell_type": "code",
   "execution_count": null,
   "source": [],
   "outputs": [],
   "metadata": {}
  },
  {
   "cell_type": "code",
   "execution_count": null,
   "source": [],
   "outputs": [],
   "metadata": {}
  },
  {
   "cell_type": "code",
   "execution_count": null,
   "source": [],
   "outputs": [],
   "metadata": {}
  }
 ],
 "metadata": {
  "interpreter": {
   "hash": "2ccee5cc862501c1aad1cf19888c2a2eca4026b72d187db43d5e889cbdc6ee97"
  },
  "kernelspec": {
   "name": "python3",
   "display_name": "Python 3.8.5 64-bit ('base': conda)"
  },
  "language_info": {
   "codemirror_mode": {
    "name": "ipython",
    "version": 3
   },
   "file_extension": ".py",
   "mimetype": "text/x-python",
   "name": "python",
   "nbconvert_exporter": "python",
   "pygments_lexer": "ipython3",
   "version": "3.8.5"
  }
 },
 "nbformat": 4,
 "nbformat_minor": 2
}