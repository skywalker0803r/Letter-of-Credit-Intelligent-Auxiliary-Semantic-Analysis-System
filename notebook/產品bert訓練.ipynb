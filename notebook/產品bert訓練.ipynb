{
 "cells": [
  {
   "cell_type": "code",
   "execution_count": 5,
   "metadata": {},
   "outputs": [
    {
     "name": "stdout",
     "output_type": "stream",
     "text": [
      "True\n",
      "(11571, 6)\n"
     ]
    },
    {
     "data": {
      "text/html": [
       "<div>\n",
       "<style scoped>\n",
       "    .dataframe tbody tr th:only-of-type {\n",
       "        vertical-align: middle;\n",
       "    }\n",
       "\n",
       "    .dataframe tbody tr th {\n",
       "        vertical-align: top;\n",
       "    }\n",
       "\n",
       "    .dataframe thead th {\n",
       "        text-align: right;\n",
       "    }\n",
       "</style>\n",
       "<table border=\"1\" class=\"dataframe\">\n",
       "  <thead>\n",
       "    <tr style=\"text-align: right;\">\n",
       "      <th></th>\n",
       "      <th>string_X_train</th>\n",
       "      <th>Y_label</th>\n",
       "      <th>EXPNO</th>\n",
       "      <th>from</th>\n",
       "      <th>string_Y_1</th>\n",
       "      <th>string_Y_2</th>\n",
       "    </tr>\n",
       "  </thead>\n",
       "  <tbody>\n",
       "    <tr>\n",
       "      <th>0</th>\n",
       "      <td>SHIPMENT OFPVC SUSPENSION RESIN S65D QTY 18 MT...</td>\n",
       "      <td>PVC MASS RESIN B57</td>\n",
       "      <td>NaN</td>\n",
       "      <td>20210103.xlsx</td>\n",
       "      <td>81</td>\n",
       "      <td>99</td>\n",
       "    </tr>\n",
       "    <tr>\n",
       "      <th>2</th>\n",
       "      <td>TERMS OF SALE CIF NHAVA SHEVA PORT INDIA70 MT ...</td>\n",
       "      <td>PVC RESIN S60</td>\n",
       "      <td>NaN</td>\n",
       "      <td>20210103.xlsx</td>\n",
       "      <td>50</td>\n",
       "      <td>63</td>\n",
       "    </tr>\n",
       "    <tr>\n",
       "      <th>3</th>\n",
       "      <td>MASS  PVC RESIN B57 QUANTITY 175 MT AT 1300 US...</td>\n",
       "      <td>PVC RESIN B57</td>\n",
       "      <td>11</td>\n",
       "      <td>20210103.xlsx</td>\n",
       "      <td>6</td>\n",
       "      <td>19</td>\n",
       "    </tr>\n",
       "    <tr>\n",
       "      <th>4</th>\n",
       "      <td>PHTHALIC ANHYDRIDE  PAQUANTITY  306 MT UNIT P...</td>\n",
       "      <td>PHTHALIC ANHYDRIDE</td>\n",
       "      <td>27</td>\n",
       "      <td>20210103.xlsx</td>\n",
       "      <td>1</td>\n",
       "      <td>19</td>\n",
       "    </tr>\n",
       "    <tr>\n",
       "      <th>5</th>\n",
       "      <td>COMMODITY LLDPE  TAISOX 3470  QUANTITY 320MT 2...</td>\n",
       "      <td>TAISOX 3470</td>\n",
       "      <td>18</td>\n",
       "      <td>20210103.xlsx</td>\n",
       "      <td>17</td>\n",
       "      <td>28</td>\n",
       "    </tr>\n",
       "    <tr>\n",
       "      <th>...</th>\n",
       "      <td>...</td>\n",
       "      <td>...</td>\n",
       "      <td>...</td>\n",
       "      <td>...</td>\n",
       "      <td>...</td>\n",
       "      <td>...</td>\n",
       "    </tr>\n",
       "    <tr>\n",
       "      <th>20732</th>\n",
       "      <td>PVC SUSPENSION RESIN  S65D FOR 70MT AT USD 12...</td>\n",
       "      <td>PVC SUSPENSION RESIN</td>\n",
       "      <td>NaN</td>\n",
       "      <td>20200712.xlsx</td>\n",
       "      <td>1</td>\n",
       "      <td>21</td>\n",
       "    </tr>\n",
       "    <tr>\n",
       "      <th>20733</th>\n",
       "      <td>7000 MT IN 4X20 FT CONTAINERS PVC RESIN S60 AS...</td>\n",
       "      <td>PVC RESIN S60</td>\n",
       "      <td>11</td>\n",
       "      <td>20200712.xlsx</td>\n",
       "      <td>30</td>\n",
       "      <td>43</td>\n",
       "    </tr>\n",
       "    <tr>\n",
       "      <th>20734</th>\n",
       "      <td>EPOXY RESIN NPEF178FOB ANY PORT OF TAIWAN</td>\n",
       "      <td>EPOXY RESIN</td>\n",
       "      <td>NaN</td>\n",
       "      <td>20200712.xlsx</td>\n",
       "      <td>1</td>\n",
       "      <td>12</td>\n",
       "    </tr>\n",
       "    <tr>\n",
       "      <th>20735</th>\n",
       "      <td>EPOXY RESIN NPEL128CIF SAVANNAH GA</td>\n",
       "      <td>EPOXY RESIN</td>\n",
       "      <td>NaN</td>\n",
       "      <td>20200712.xlsx</td>\n",
       "      <td>1</td>\n",
       "      <td>12</td>\n",
       "    </tr>\n",
       "    <tr>\n",
       "      <th>20736</th>\n",
       "      <td>EPOXY RESIN NPEL127PO NO 4500537656ITEM CODE ...</td>\n",
       "      <td>EPOXY RESIN</td>\n",
       "      <td>NaN</td>\n",
       "      <td>20200712.xlsx</td>\n",
       "      <td>1</td>\n",
       "      <td>12</td>\n",
       "    </tr>\n",
       "  </tbody>\n",
       "</table>\n",
       "<p>11571 rows × 6 columns</p>\n",
       "</div>"
      ],
      "text/plain": [
       "                                          string_X_train  \\\n",
       "0      SHIPMENT OFPVC SUSPENSION RESIN S65D QTY 18 MT...   \n",
       "2      TERMS OF SALE CIF NHAVA SHEVA PORT INDIA70 MT ...   \n",
       "3      MASS  PVC RESIN B57 QUANTITY 175 MT AT 1300 US...   \n",
       "4       PHTHALIC ANHYDRIDE  PAQUANTITY  306 MT UNIT P...   \n",
       "5      COMMODITY LLDPE  TAISOX 3470  QUANTITY 320MT 2...   \n",
       "...                                                  ...   \n",
       "20732   PVC SUSPENSION RESIN  S65D FOR 70MT AT USD 12...   \n",
       "20733  7000 MT IN 4X20 FT CONTAINERS PVC RESIN S60 AS...   \n",
       "20734          EPOXY RESIN NPEF178FOB ANY PORT OF TAIWAN   \n",
       "20735                 EPOXY RESIN NPEL128CIF SAVANNAH GA   \n",
       "20736   EPOXY RESIN NPEL127PO NO 4500537656ITEM CODE ...   \n",
       "\n",
       "                    Y_label EXPNO           from  string_Y_1  string_Y_2  \n",
       "0        PVC MASS RESIN B57   NaN  20210103.xlsx          81          99  \n",
       "2             PVC RESIN S60   NaN  20210103.xlsx          50          63  \n",
       "3             PVC RESIN B57    11  20210103.xlsx           6          19  \n",
       "4        PHTHALIC ANHYDRIDE    27  20210103.xlsx           1          19  \n",
       "5               TAISOX 3470    18  20210103.xlsx          17          28  \n",
       "...                     ...   ...            ...         ...         ...  \n",
       "20732  PVC SUSPENSION RESIN   NaN  20200712.xlsx           1          21  \n",
       "20733         PVC RESIN S60    11  20200712.xlsx          30          43  \n",
       "20734           EPOXY RESIN   NaN  20200712.xlsx           1          12  \n",
       "20735           EPOXY RESIN   NaN  20200712.xlsx           1          12  \n",
       "20736           EPOXY RESIN   NaN  20200712.xlsx           1          12  \n",
       "\n",
       "[11571 rows x 6 columns]"
      ]
     },
     "execution_count": 5,
     "metadata": {},
     "output_type": "execute_result"
    }
   ],
   "source": [
    "import requests\n",
    "import gc\n",
    "gc.collect()\n",
    "import pandas as pd\n",
    "import requests\n",
    "import torch\n",
    "print(torch.cuda.is_available())\n",
    "from sklearn.model_selection import train_test_split\n",
    "df = pd.read_csv('../data/preprocess_for_SQUAD_產品.csv',index_col=0)\n",
    "print(df.shape)\n",
    "df"
   ]
  },
  {
   "cell_type": "code",
   "execution_count": 6,
   "metadata": {},
   "outputs": [
    {
     "name": "stdout",
     "output_type": "stream",
     "text": [
      "0\n",
      "0\n",
      "0\n",
      "0\n",
      "0\n",
      "0\n",
      "0\n",
      "0\n",
      "0\n",
      "0\n"
     ]
    }
   ],
   "source": [
    "# 把國家名稱剃除 品名不能有國家\n",
    "for i in ['TAIWAN','JAPAN','CHINA','AMERICA','INDIA']:\n",
    "    print(df['Y_label'].str.contains(i).sum())\n",
    "    print(df['Y_label'].str.contains(i.lower()).sum())"
   ]
  },
  {
   "cell_type": "code",
   "execution_count": 7,
   "metadata": {},
   "outputs": [
    {
     "name": "stderr",
     "output_type": "stream",
     "text": [
      "Global seed set to 42\n",
      "Some weights of the model checkpoint at distilbert-base-uncased were not used when initializing DistilBertForQuestionAnswering: ['vocab_layer_norm.weight', 'vocab_transform.bias', 'vocab_layer_norm.bias', 'vocab_projector.bias', 'vocab_projector.weight', 'vocab_transform.weight']\n",
      "- This IS expected if you are initializing DistilBertForQuestionAnswering from the checkpoint of a model trained on another task or with another architecture (e.g. initializing a BertForSequenceClassification model from a BertForPreTraining model).\n",
      "- This IS NOT expected if you are initializing DistilBertForQuestionAnswering from the checkpoint of a model that you expect to be exactly identical (initializing a BertForSequenceClassification model from a BertForSequenceClassification model).\n",
      "Some weights of DistilBertForQuestionAnswering were not initialized from the model checkpoint at distilbert-base-uncased and are newly initialized: ['qa_outputs.bias', 'qa_outputs.weight']\n",
      "You should probably TRAIN this model on a down-stream task to be able to use it for predictions and inference.\n"
     ]
    },
    {
     "data": {
      "application/vnd.jupyter.widget-view+json": {
       "model_id": "37e46f00ae364895944f1e57cd097c1e",
       "version_major": 2,
       "version_minor": 0
      },
      "text/plain": [
       "HBox(children=(FloatProgress(value=0.0, max=3.0), HTML(value='')))"
      ]
     },
     "metadata": {},
     "output_type": "display_data"
    },
    {
     "data": {
      "application/vnd.jupyter.widget-view+json": {
       "model_id": "31b1eb7d13f948b6bca126b4e52f6e01",
       "version_major": 2,
       "version_minor": 0
      },
      "text/plain": [
       "HBox(children=(FloatProgress(value=0.0, max=1157.0), HTML(value='')))"
      ]
     },
     "metadata": {},
     "output_type": "display_data"
    },
    {
     "name": "stdout",
     "output_type": "stream",
     "text": [
      "\n"
     ]
    },
    {
     "data": {
      "application/vnd.jupyter.widget-view+json": {
       "model_id": "2907a8d1995a41b8b7ecc0fa2d04b5d6",
       "version_major": 2,
       "version_minor": 0
      },
      "text/plain": [
       "HBox(children=(FloatProgress(value=0.0, max=290.0), HTML(value='')))"
      ]
     },
     "metadata": {},
     "output_type": "display_data"
    },
    {
     "name": "stdout",
     "output_type": "stream",
     "text": [
      "\n",
      "epoch:0 train_loss:0.33780780027555135 val_loss:0.13595897340368612\n",
      "save best_model now_val_best_loss is:0.13595897340368612\n"
     ]
    },
    {
     "data": {
      "application/vnd.jupyter.widget-view+json": {
       "model_id": "ed4b612c6688434dac545b534d60934a",
       "version_major": 2,
       "version_minor": 0
      },
      "text/plain": [
       "HBox(children=(FloatProgress(value=0.0, max=1157.0), HTML(value='')))"
      ]
     },
     "metadata": {},
     "output_type": "display_data"
    },
    {
     "name": "stdout",
     "output_type": "stream",
     "text": [
      "\n"
     ]
    },
    {
     "data": {
      "application/vnd.jupyter.widget-view+json": {
       "model_id": "b92afcefe6b3450ca3eaf37330ba5e22",
       "version_major": 2,
       "version_minor": 0
      },
      "text/plain": [
       "HBox(children=(FloatProgress(value=0.0, max=290.0), HTML(value='')))"
      ]
     },
     "metadata": {},
     "output_type": "display_data"
    },
    {
     "name": "stdout",
     "output_type": "stream",
     "text": [
      "\n",
      "epoch:1 train_loss:0.3363317700710707 val_loss:0.23970624987196312\n"
     ]
    },
    {
     "data": {
      "application/vnd.jupyter.widget-view+json": {
       "model_id": "4f19961d97964b78871c8570c712c2ab",
       "version_major": 2,
       "version_minor": 0
      },
      "text/plain": [
       "HBox(children=(FloatProgress(value=0.0, max=1157.0), HTML(value='')))"
      ]
     },
     "metadata": {},
     "output_type": "display_data"
    },
    {
     "name": "stdout",
     "output_type": "stream",
     "text": [
      "\n"
     ]
    },
    {
     "data": {
      "application/vnd.jupyter.widget-view+json": {
       "model_id": "e7d2c98686ce4afe976de46060f7df40",
       "version_major": 2,
       "version_minor": 0
      },
      "text/plain": [
       "HBox(children=(FloatProgress(value=0.0, max=290.0), HTML(value='')))"
      ]
     },
     "metadata": {},
     "output_type": "display_data"
    },
    {
     "name": "stdout",
     "output_type": "stream",
     "text": [
      "\n",
      "epoch:2 train_loss:0.2335204759520981 val_loss:0.20049287367509\n",
      "\n"
     ]
    },
    {
     "data": {
      "image/png": "[encoded data removed]",
      "text/plain": [
       "<Figure size 432x288 with 1 Axes>"
      ]
     },
     "metadata": {
      "needs_background": "light"
     },
     "output_type": "display_data"
    },
    {
     "name": "stdout",
     "output_type": "stream",
     "text": [
      "best_model is saved!\n"
     ]
    },
    {
     "name": "stderr",
     "output_type": "stream",
     "text": [
      "Some weights of the model checkpoint at distilbert-base-uncased were not used when initializing DistilBertForQuestionAnswering: ['vocab_layer_norm.weight', 'vocab_transform.bias', 'vocab_layer_norm.bias', 'vocab_projector.bias', 'vocab_projector.weight', 'vocab_transform.weight']\n",
      "- This IS expected if you are initializing DistilBertForQuestionAnswering from the checkpoint of a model trained on another task or with another architecture (e.g. initializing a BertForSequenceClassification model from a BertForPreTraining model).\n",
      "- This IS NOT expected if you are initializing DistilBertForQuestionAnswering from the checkpoint of a model that you expect to be exactly identical (initializing a BertForSequenceClassification model from a BertForSequenceClassification model).\n",
      "Some weights of DistilBertForQuestionAnswering were not initialized from the model checkpoint at distilbert-base-uncased and are newly initialized: ['qa_outputs.bias', 'qa_outputs.weight']\n",
      "You should probably TRAIN this model on a down-stream task to be able to use it for predictions and inference.\n"
     ]
    },
    {
     "data": {
      "application/vnd.jupyter.widget-view+json": {
       "model_id": "eb9b81119245439dab6285c8453f3bf9",
       "version_major": 2,
       "version_minor": 0
      },
      "text/plain": [
       "HBox(children=(FloatProgress(value=0.0, max=2315.0), HTML(value='')))"
      ]
     },
     "metadata": {},
     "output_type": "display_data"
    },
    {
     "name": "stdout",
     "output_type": "stream",
     "text": [
      "\n"
     ]
    }
   ],
   "source": [
    "# 切分訓練/驗證\n",
    "train_df, val_df = train_test_split(df, test_size=0.2, random_state=42)\n",
    "# 執行訓練演算法\n",
    "url = 'https://gist.githubusercontent.com/skywalker0803r/1e1d0d25999094bf8ec23dc143e02478/raw/2b751c959a1b48a14e627eaf956f9ae3df821f46/bert_train_pipeline.py'\n",
    "exec(requests.get(url).text)\n",
    "qustion = 'What is the product name?'\n",
    "model_path = '../models/Product_Data_SQuAD_model_product.pt'\n",
    "res,table = bert_train_pipeline(train_df,val_df,qustion,model_path)"
   ]
  },
  {
   "cell_type": "code",
   "execution_count": 8,
   "metadata": {},
   "outputs": [
    {
     "data": {
      "text/html": [
       "<div>\n",
       "<style scoped>\n",
       "    .dataframe tbody tr th:only-of-type {\n",
       "        vertical-align: middle;\n",
       "    }\n",
       "\n",
       "    .dataframe tbody tr th {\n",
       "        vertical-align: top;\n",
       "    }\n",
       "\n",
       "    .dataframe thead th {\n",
       "        text-align: right;\n",
       "    }\n",
       "</style>\n",
       "<table border=\"1\" class=\"dataframe\">\n",
       "  <thead>\n",
       "    <tr style=\"text-align: right;\">\n",
       "      <th></th>\n",
       "      <th>jaccard</th>\n",
       "      <th>acc(1.0)</th>\n",
       "      <th>acc(0.75)</th>\n",
       "      <th>acc(0.5)</th>\n",
       "      <th>acc(0.25)</th>\n",
       "    </tr>\n",
       "  </thead>\n",
       "  <tbody>\n",
       "    <tr>\n",
       "      <th>0</th>\n",
       "      <td>0.9584</td>\n",
       "      <td>0.933909</td>\n",
       "      <td>0.933909</td>\n",
       "      <td>0.968898</td>\n",
       "      <td>0.988769</td>\n",
       "    </tr>\n",
       "  </tbody>\n",
       "</table>\n",
       "</div>"
      ],
      "text/plain": [
       "   jaccard  acc(1.0)  acc(0.75)  acc(0.5)  acc(0.25)\n",
       "0   0.9584  0.933909   0.933909  0.968898   0.988769"
      ]
     },
     "metadata": {},
     "output_type": "display_data"
    },
    {
     "data": {
      "text/html": [
       "<div>\n",
       "<style scoped>\n",
       "    .dataframe tbody tr th:only-of-type {\n",
       "        vertical-align: middle;\n",
       "    }\n",
       "\n",
       "    .dataframe tbody tr th {\n",
       "        vertical-align: top;\n",
       "    }\n",
       "\n",
       "    .dataframe thead th {\n",
       "        text-align: right;\n",
       "    }\n",
       "</style>\n",
       "<table border=\"1\" class=\"dataframe\">\n",
       "  <thead>\n",
       "    <tr style=\"text-align: right;\">\n",
       "      <th></th>\n",
       "      <th>Y_label</th>\n",
       "      <th>predict</th>\n",
       "      <th>是否全對</th>\n",
       "    </tr>\n",
       "  </thead>\n",
       "  <tbody>\n",
       "    <tr>\n",
       "      <th>1916</th>\n",
       "      <td>GLASS EPOXY PREPREG</td>\n",
       "      <td>GLASS EPOXY PREPREG</td>\n",
       "      <td>Yes</td>\n",
       "    </tr>\n",
       "    <tr>\n",
       "      <th>16846</th>\n",
       "      <td>BISPHENOLA</td>\n",
       "      <td>BISPHENOLA</td>\n",
       "      <td>Yes</td>\n",
       "    </tr>\n",
       "    <tr>\n",
       "      <th>16805</th>\n",
       "      <td>GRADE</td>\n",
       "      <td>GRADE</td>\n",
       "      <td>Yes</td>\n",
       "    </tr>\n",
       "    <tr>\n",
       "      <th>14923</th>\n",
       "      <td>YARN</td>\n",
       "      <td>GRADE</td>\n",
       "      <td>No</td>\n",
       "    </tr>\n",
       "    <tr>\n",
       "      <th>3520</th>\n",
       "      <td>SUPER ABSORBENT POLYMER</td>\n",
       "      <td>SUPER ABSORBENT POLYMER</td>\n",
       "      <td>Yes</td>\n",
       "    </tr>\n",
       "    <tr>\n",
       "      <th>6566</th>\n",
       "      <td>EPOXY RESIN</td>\n",
       "      <td>EPOXY RESIN</td>\n",
       "      <td>Yes</td>\n",
       "    </tr>\n",
       "    <tr>\n",
       "      <th>8353</th>\n",
       "      <td>YARN</td>\n",
       "      <td>YARN</td>\n",
       "      <td>Yes</td>\n",
       "    </tr>\n",
       "    <tr>\n",
       "      <th>20522</th>\n",
       "      <td>PROPYLENE COPOLYMER</td>\n",
       "      <td>PROPYLENE COPOLYMER</td>\n",
       "      <td>Yes</td>\n",
       "    </tr>\n",
       "    <tr>\n",
       "      <th>20024</th>\n",
       "      <td>GRADE</td>\n",
       "      <td>GRADE</td>\n",
       "      <td>Yes</td>\n",
       "    </tr>\n",
       "    <tr>\n",
       "      <th>5816</th>\n",
       "      <td>PHTHALIC ANHYDRIDE</td>\n",
       "      <td>PHTHALIC ANHYDRIDE</td>\n",
       "      <td>Yes</td>\n",
       "    </tr>\n",
       "  </tbody>\n",
       "</table>\n",
       "</div>"
      ],
      "text/plain": [
       "                       Y_label                  predict 是否全對\n",
       "1916       GLASS EPOXY PREPREG      GLASS EPOXY PREPREG  Yes\n",
       "16846               BISPHENOLA               BISPHENOLA  Yes\n",
       "16805                    GRADE                    GRADE  Yes\n",
       "14923                     YARN                    GRADE   No\n",
       "3520   SUPER ABSORBENT POLYMER  SUPER ABSORBENT POLYMER  Yes\n",
       "6566               EPOXY RESIN              EPOXY RESIN  Yes\n",
       "8353                      YARN                     YARN  Yes\n",
       "20522      PROPYLENE COPOLYMER      PROPYLENE COPOLYMER  Yes\n",
       "20024                    GRADE                    GRADE  Yes\n",
       "5816        PHTHALIC ANHYDRIDE       PHTHALIC ANHYDRIDE  Yes"
      ]
     },
     "execution_count": 8,
     "metadata": {},
     "output_type": "execute_result"
    }
   ],
   "source": [
    "# 模型表現\n",
    "display(res)\n",
    "table.sample(10)"
   ]
  }
 ],
 "metadata": {
  "interpreter": {
   "hash": "2ccee5cc862501c1aad1cf19888c2a2eca4026b72d187db43d5e889cbdc6ee97"
  },
  "kernelspec": {
   "display_name": "Python 3.8.5 64-bit ('base': conda)",
   "name": "python3"
  },
  "language_info": {
   "codemirror_mode": {
    "name": "ipython",
    "version": 3
   },
   "file_extension": ".py",
   "mimetype": "text/x-python",
   "name": "python",
   "nbconvert_exporter": "python",
   "pygments_lexer": "ipython3",
   "version": "3.8.5"
  }
 },
 "nbformat": 4,
 "nbformat_minor": 2
}
