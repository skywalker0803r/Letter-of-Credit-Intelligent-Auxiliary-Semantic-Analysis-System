{
 "cells": [
  {
   "cell_type": "code",
   "execution_count": 108,
   "source": [
    "import pandas as pd\r\n",
    "import numpy as np\r\n",
    "from tqdm import tqdm_notebook as tqdm\r\n",
    "from torch.optim.optimizer import Optimizer\r\n",
    "import matplotlib.pyplot as plt\r\n",
    "from copy import deepcopy\r\n",
    "import numpy as np\r\n",
    "import random\r\n",
    "import torch\r\n",
    "import warnings \r\n",
    "warnings.filterwarnings('ignore')\r\n",
    "from pytorch_lightning import seed_everything\r\n",
    "import os\r\n",
    "import gc\r\n",
    "from transformers import pipeline\r\n",
    "import requests\r\n",
    "from transformers import DistilBertTokenizerFast\r\n",
    "from transformers import DistilBertForQuestionAnswering\r\n",
    "from transformers import Trainer, TrainingArguments\r\n",
    "import torch\r\n",
    "from torch.utils.data import DataLoader\r\n",
    "import matplotlib.pyplot as plt \r\n",
    "gc.collect()"
   ],
   "outputs": [
    {
     "output_type": "execute_result",
     "data": {
      "text/plain": [
       "9211"
      ]
     },
     "metadata": {},
     "execution_count": 108
    }
   ],
   "metadata": {}
  },
  {
   "cell_type": "markdown",
   "source": [
    "# functions"
   ],
   "metadata": {}
  },
  {
   "cell_type": "code",
   "execution_count": 109,
   "source": [
    "def get_jaccard_sim(str1, str2): \r\n",
    "    a = set(str1.split()) \r\n",
    "    b = set(str2.split())\r\n",
    "    c = a.intersection(b)\r\n",
    "    return float(len(c)) / (len(a) + len(b) - len(c))\r\n",
    "\r\n",
    "def set_seed(seed = int):\r\n",
    "    '''Sets the seed of the entire notebook so results are the same every time we run.\r\n",
    "    This is for REPRODUCIBILITY.'''\r\n",
    "    np.random.seed(seed)\r\n",
    "    random_state = np.random.RandomState(seed)\r\n",
    "    random.seed(seed)\r\n",
    "    torch.manual_seed(seed)\r\n",
    "    torch.cuda.manual_seed(seed)\r\n",
    "    torch.backends.cudnn.deterministic = True\r\n",
    "    torch.backends.cudnn.benchmark = False\r\n",
    "    os.environ['PYTHONHASHSEED'] = str(seed)\r\n",
    "    seed_everything(seed)\r\n",
    "    return random_state\r\n",
    "random_state = set_seed(42)\r\n",
    "\r\n",
    "#MADGRAD \r\n",
    "exec(requests.get('https://raw.githubusercontent.com/facebookresearch/madgrad/main/madgrad/madgrad.py').text)"
   ],
   "outputs": [
    {
     "output_type": "stream",
     "name": "stderr",
     "text": [
      "Global seed set to 42\n"
     ]
    }
   ],
   "metadata": {}
  },
  {
   "cell_type": "markdown",
   "source": [
    "# load data and split data (train,val)"
   ],
   "metadata": {}
  },
  {
   "cell_type": "code",
   "execution_count": 110,
   "source": [
    "\r\n",
    "from sklearn.model_selection import train_test_split\r\n",
    "df = pd.read_csv('../data/preprocess_for_SQUAD_產品.csv',index_col=0)[['string_X_train','Y_label','string_Y_1','string_Y_2']].dropna(axis=0)\r\n",
    "print(df.shape)\r\n",
    "train_df, val_df = train_test_split(df,test_size=0.2,random_state=random_state)\r\n",
    "display(train_df.head(3)),display(val_df.head(3))"
   ],
   "outputs": [
    {
     "output_type": "stream",
     "name": "stdout",
     "text": [
      "(1970, 4)\n"
     ]
    },
    {
     "output_type": "display_data",
     "data": {
      "text/html": [
       "<div>\n",
       "<style scoped>\n",
       "    .dataframe tbody tr th:only-of-type {\n",
       "        vertical-align: middle;\n",
       "    }\n",
       "\n",
       "    .dataframe tbody tr th {\n",
       "        vertical-align: top;\n",
       "    }\n",
       "\n",
       "    .dataframe thead th {\n",
       "        text-align: right;\n",
       "    }\n",
       "</style>\n",
       "<table border=\"1\" class=\"dataframe\">\n",
       "  <thead>\n",
       "    <tr style=\"text-align: right;\">\n",
       "      <th></th>\n",
       "      <th>string_X_train</th>\n",
       "      <th>Y_label</th>\n",
       "      <th>string_Y_1</th>\n",
       "      <th>string_Y_2</th>\n",
       "    </tr>\n",
       "  </thead>\n",
       "  <tbody>\n",
       "    <tr>\n",
       "      <th>6662</th>\n",
       "      <td>CIF ANY CHINESE PORT1ABS RESIN GRADE NO AF3537...</td>\n",
       "      <td>AF3537</td>\n",
       "      <td>40</td>\n",
       "      <td>46</td>\n",
       "    </tr>\n",
       "    <tr>\n",
       "      <th>3339</th>\n",
       "      <td>TERMS OF PRICE  CFR GUAYAQUIL ECUADOR COUNTRY ...</td>\n",
       "      <td>MALEIC ANHYDRIDE</td>\n",
       "      <td>64</td>\n",
       "      <td>80</td>\n",
       "    </tr>\n",
       "    <tr>\n",
       "      <th>4540</th>\n",
       "      <td>54000 KGS  PHTHALIC ANHYDRIDE  AS PER APPLICAN...</td>\n",
       "      <td>PHTHALIC ANHYDRIDE</td>\n",
       "      <td>11</td>\n",
       "      <td>29</td>\n",
       "    </tr>\n",
       "  </tbody>\n",
       "</table>\n",
       "</div>"
      ],
      "text/plain": [
       "                                         string_X_train             Y_label  \\\n",
       "6662  CIF ANY CHINESE PORT1ABS RESIN GRADE NO AF3537...              AF3537   \n",
       "3339  TERMS OF PRICE  CFR GUAYAQUIL ECUADOR COUNTRY ...    MALEIC ANHYDRIDE   \n",
       "4540  54000 KGS  PHTHALIC ANHYDRIDE  AS PER APPLICAN...  PHTHALIC ANHYDRIDE   \n",
       "\n",
       "      string_Y_1  string_Y_2  \n",
       "6662          40          46  \n",
       "3339          64          80  \n",
       "4540          11          29  "
      ]
     },
     "metadata": {}
    },
    {
     "output_type": "display_data",
     "data": {
      "text/html": [
       "<div>\n",
       "<style scoped>\n",
       "    .dataframe tbody tr th:only-of-type {\n",
       "        vertical-align: middle;\n",
       "    }\n",
       "\n",
       "    .dataframe tbody tr th {\n",
       "        vertical-align: top;\n",
       "    }\n",
       "\n",
       "    .dataframe thead th {\n",
       "        text-align: right;\n",
       "    }\n",
       "</style>\n",
       "<table border=\"1\" class=\"dataframe\">\n",
       "  <thead>\n",
       "    <tr style=\"text-align: right;\">\n",
       "      <th></th>\n",
       "      <th>string_X_train</th>\n",
       "      <th>Y_label</th>\n",
       "      <th>string_Y_1</th>\n",
       "      <th>string_Y_2</th>\n",
       "    </tr>\n",
       "  </thead>\n",
       "  <tbody>\n",
       "    <tr>\n",
       "      <th>4198</th>\n",
       "      <td>COPPER CLAD LAMINATES   7800 SHEETSAS PER PUR...</td>\n",
       "      <td>COPPER CLAD LAMINATES</td>\n",
       "      <td>1</td>\n",
       "      <td>22</td>\n",
       "    </tr>\n",
       "    <tr>\n",
       "      <th>4229</th>\n",
       "      <td>CIF JAPAN MAIN PORT OR AIRPORT COPPER FOIL</td>\n",
       "      <td>COPPER FOIL</td>\n",
       "      <td>31</td>\n",
       "      <td>42</td>\n",
       "    </tr>\n",
       "    <tr>\n",
       "      <th>7863</th>\n",
       "      <td>COPPER CLAD LAMINATES 4420 SHT  USD 1065604OR...</td>\n",
       "      <td>COPPER CLAD LAMINATES</td>\n",
       "      <td>1</td>\n",
       "      <td>22</td>\n",
       "    </tr>\n",
       "  </tbody>\n",
       "</table>\n",
       "</div>"
      ],
      "text/plain": [
       "                                         string_X_train  \\\n",
       "4198   COPPER CLAD LAMINATES   7800 SHEETSAS PER PUR...   \n",
       "4229        CIF JAPAN MAIN PORT OR AIRPORT COPPER FOIL    \n",
       "7863   COPPER CLAD LAMINATES 4420 SHT  USD 1065604OR...   \n",
       "\n",
       "                    Y_label  string_Y_1  string_Y_2  \n",
       "4198  COPPER CLAD LAMINATES           1          22  \n",
       "4229            COPPER FOIL          31          42  \n",
       "7863  COPPER CLAD LAMINATES           1          22  "
      ]
     },
     "metadata": {}
    },
    {
     "output_type": "execute_result",
     "data": {
      "text/plain": [
       "(None, None)"
      ]
     },
     "metadata": {},
     "execution_count": 110
    }
   ],
   "metadata": {}
  },
  {
   "cell_type": "markdown",
   "source": [
    "# load model and tokenizer"
   ],
   "metadata": {}
  },
  {
   "cell_type": "code",
   "execution_count": 111,
   "source": [
    "tokenizer = DistilBertTokenizerFast.from_pretrained('distilbert-base-uncased')\r\n",
    "model = DistilBertForQuestionAnswering.from_pretrained(\"distilbert-base-uncased\")"
   ],
   "outputs": [
    {
     "output_type": "stream",
     "name": "stderr",
     "text": [
      "Some weights of the model checkpoint at distilbert-base-uncased were not used when initializing DistilBertForQuestionAnswering: ['vocab_transform.weight', 'vocab_layer_norm.bias', 'vocab_transform.bias', 'vocab_projector.weight', 'vocab_layer_norm.weight', 'vocab_projector.bias']\n",
      "- This IS expected if you are initializing DistilBertForQuestionAnswering from the checkpoint of a model trained on another task or with another architecture (e.g. initializing a BertForSequenceClassification model from a BertForPreTraining model).\n",
      "- This IS NOT expected if you are initializing DistilBertForQuestionAnswering from the checkpoint of a model that you expect to be exactly identical (initializing a BertForSequenceClassification model from a BertForSequenceClassification model).\n",
      "Some weights of DistilBertForQuestionAnswering were not initialized from the model checkpoint at distilbert-base-uncased and are newly initialized: ['qa_outputs.bias', 'qa_outputs.weight']\n",
      "You should probably TRAIN this model on a down-stream task to be able to use it for predictions and inference.\n"
     ]
    }
   ],
   "metadata": {}
  },
  {
   "cell_type": "markdown",
   "source": [
    "# Data preprocessing"
   ],
   "metadata": {}
  },
  {
   "cell_type": "code",
   "execution_count": 112,
   "source": [
    "def preprocessing(df):\r\n",
    "    contexts = df['string_X_train'].values.tolist()\r\n",
    "    questions = [ 'What is the product name ?' for i in range(len(df))]\r\n",
    "    answers = []\r\n",
    "    for idx in df.index:\r\n",
    "        answers.append({\r\n",
    "            'text':df.loc[idx,'Y_label'],\r\n",
    "            'answer_start':df.loc[idx,'string_Y_1'],\r\n",
    "            'answer_end':df.loc[idx,'string_Y_2'],\r\n",
    "            })\r\n",
    "    return contexts ,questions ,answers"
   ],
   "outputs": [],
   "metadata": {}
  },
  {
   "cell_type": "code",
   "execution_count": 113,
   "source": [
    "def add_token_positions(encodings, answers):\r\n",
    "    start_positions = []\r\n",
    "    end_positions = []\r\n",
    "    for i in range(len(answers)):\r\n",
    "        start_positions.append(encodings.char_to_token(i, answers[i]['answer_start']))\r\n",
    "        end_positions.append(encodings.char_to_token(i, answers[i]['answer_end'] - 1))\r\n",
    "\r\n",
    "        # if start position is None, the answer passage has been truncated\r\n",
    "        if start_positions[-1] is None:\r\n",
    "            start_positions[-1] = tokenizer.model_max_length\r\n",
    "        if end_positions[-1] is None:\r\n",
    "            end_positions[-1] = tokenizer.model_max_length\r\n",
    "\r\n",
    "    encodings.update({'start_positions': start_positions, 'end_positions': end_positions})\r\n",
    "    return encodings"
   ],
   "outputs": [],
   "metadata": {}
  },
  {
   "cell_type": "code",
   "execution_count": 114,
   "source": [
    "class SquadDataset(torch.utils.data.Dataset):\r\n",
    "    def __init__(self, encodings):\r\n",
    "        self.encodings = encodings\r\n",
    "\r\n",
    "    def __getitem__(self, idx):\r\n",
    "        return {key: torch.tensor(val[idx]) for key, val in self.encodings.items()}\r\n",
    "\r\n",
    "    def __len__(self):\r\n",
    "        return len(self.encodings.input_ids)"
   ],
   "outputs": [],
   "metadata": {}
  },
  {
   "cell_type": "code",
   "execution_count": 115,
   "source": [
    "def df2Dataloader(df):\r\n",
    "    contexts ,questions ,answers = preprocessing(df)\r\n",
    "    encodings = tokenizer(contexts, questions, truncation=True, padding=True)\r\n",
    "    encodings = add_token_positions(encodings, answers)\r\n",
    "    dataset = SquadDataset(encodings)\r\n",
    "    return DataLoader(dataset,batch_size=8)"
   ],
   "outputs": [],
   "metadata": {}
  },
  {
   "cell_type": "code",
   "execution_count": 116,
   "source": [
    "train_loader = df2Dataloader(train_df)\r\n",
    "val_loader = df2Dataloader(val_df)"
   ],
   "outputs": [],
   "metadata": {}
  },
  {
   "cell_type": "markdown",
   "source": [
    "# train model"
   ],
   "metadata": {}
  },
  {
   "cell_type": "code",
   "execution_count": 117,
   "source": [
    "device = torch.device('cuda') if torch.cuda.is_available() else torch.device('cpu')\r\n",
    "model.to(device)\r\n",
    "model.train()\r\n",
    "optimizer = MADGRAD(model.parameters() ,lr = 5e-5)"
   ],
   "outputs": [],
   "metadata": {}
  },
  {
   "cell_type": "code",
   "execution_count": 118,
   "source": [
    "def step(model,batch,optimizer,device,mode='train'):\r\n",
    "    model = model.to(device)\r\n",
    "    # change mode\r\n",
    "    if mode == 'train':\r\n",
    "        model.train()\r\n",
    "    if mode == 'val':\r\n",
    "        model.eval()\r\n",
    "    # forward pass\r\n",
    "    input_ids = batch['input_ids'].to(device)\r\n",
    "    attention_mask = batch['attention_mask'].to(device)\r\n",
    "    start_positions = batch['start_positions'].to(device)\r\n",
    "    end_positions = batch['end_positions'].to(device)\r\n",
    "    outputs = model(input_ids, attention_mask=attention_mask, start_positions=start_positions, end_positions=end_positions)\r\n",
    "    loss = outputs[0]\r\n",
    "    # update model if mode == train\r\n",
    "    if mode == 'train': \r\n",
    "        loss.backward()\r\n",
    "        optimizer.step()\r\n",
    "        optimizer.zero_grad()\r\n",
    "    return loss.item()"
   ],
   "outputs": [],
   "metadata": {}
  },
  {
   "cell_type": "code",
   "execution_count": 119,
   "source": [
    "def train_loop(model,train_loader,val_loader,optimizer,max_epochs=5):\r\n",
    "    history = {'train_loss':[],'val_loss':[]}\r\n",
    "    best_loss = np.inf\r\n",
    "    best_model = None\r\n",
    "    for epoch in tqdm(range(max_epochs)):        \r\n",
    "        epoch_train_loss = 0.0\r\n",
    "        epoch_val_loss = 0.0\r\n",
    "        for i,batch in enumerate(tqdm(train_loader)):\r\n",
    "            epoch_train_loss += step(model,batch,optimizer,device,mode='train')\r\n",
    "        for j,batch in enumerate(tqdm(val_loader)):\r\n",
    "            epoch_val_loss += step(model,batch,optimizer,device,mode='val')\r\n",
    "        history['train_loss'].append(epoch_train_loss/i)\r\n",
    "        history['val_loss'].append(epoch_val_loss/j)\r\n",
    "        print(f'epoch:{epoch} train_loss:{epoch_train_loss/i} val_loss:{epoch_val_loss/j}')\r\n",
    "        if history['val_loss'][-1] <= best_loss: \r\n",
    "            best_model = deepcopy(model.eval())\r\n",
    "            best_loss = history['val_loss'][-1]\r\n",
    "            print(f'save best_model now_val_best_loss is:{best_loss}')\r\n",
    "    return best_model.eval() ,history"
   ],
   "outputs": [],
   "metadata": {}
  },
  {
   "cell_type": "code",
   "execution_count": 120,
   "source": [
    "best_model ,history = train_loop(model,train_loader,val_loader,optimizer,max_epochs=3)"
   ],
   "outputs": [
    {
     "output_type": "display_data",
     "data": {
      "application/vnd.jupyter.widget-view+json": {
       "version_major": 2,
       "version_minor": 0,
       "model_id": "e5715c870df94d6f887960559bd05933"
      },
      "text/plain": [
       "HBox(children=(HTML(value=''), FloatProgress(value=0.0, max=3.0), HTML(value='')))"
      ]
     },
     "metadata": {}
    },
    {
     "output_type": "display_data",
     "data": {
      "application/vnd.jupyter.widget-view+json": {
       "version_major": 2,
       "version_minor": 0,
       "model_id": "a7dc71c81c034825904b9eaf1177fe92"
      },
      "text/plain": [
       "HBox(children=(HTML(value=''), FloatProgress(value=0.0, max=197.0), HTML(value='')))"
      ]
     },
     "metadata": {}
    },
    {
     "output_type": "stream",
     "name": "stdout",
     "text": [
      "\n"
     ]
    },
    {
     "output_type": "display_data",
     "data": {
      "application/vnd.jupyter.widget-view+json": {
       "version_major": 2,
       "version_minor": 0,
       "model_id": "439d679c61954a5db34a7580fc6cc285"
      },
      "text/plain": [
       "HBox(children=(HTML(value=''), FloatProgress(value=0.0, max=50.0), HTML(value='')))"
      ]
     },
     "metadata": {}
    },
    {
     "output_type": "stream",
     "name": "stdout",
     "text": [
      "\n",
      "epoch:0 train_loss:0.7224985809797155 val_loss:0.38872667546479067\n",
      "save best_model now_val_best_loss is:0.38872667546479067\n"
     ]
    },
    {
     "output_type": "display_data",
     "data": {
      "application/vnd.jupyter.widget-view+json": {
       "version_major": 2,
       "version_minor": 0,
       "model_id": "b9bb56967fca4eaab016282b235d77f5"
      },
      "text/plain": [
       "HBox(children=(HTML(value=''), FloatProgress(value=0.0, max=197.0), HTML(value='')))"
      ]
     },
     "metadata": {}
    },
    {
     "output_type": "stream",
     "name": "stdout",
     "text": [
      "\n"
     ]
    },
    {
     "output_type": "display_data",
     "data": {
      "application/vnd.jupyter.widget-view+json": {
       "version_major": 2,
       "version_minor": 0,
       "model_id": "56a73c0224464ab2bfb0ba238d7eccf6"
      },
      "text/plain": [
       "HBox(children=(HTML(value=''), FloatProgress(value=0.0, max=50.0), HTML(value='')))"
      ]
     },
     "metadata": {}
    },
    {
     "output_type": "stream",
     "name": "stdout",
     "text": [
      "\n",
      "epoch:1 train_loss:0.3427637981616759 val_loss:0.31082048506609034\n",
      "save best_model now_val_best_loss is:0.31082048506609034\n"
     ]
    },
    {
     "output_type": "display_data",
     "data": {
      "application/vnd.jupyter.widget-view+json": {
       "version_major": 2,
       "version_minor": 0,
       "model_id": "a8e81466996546e7b93b1bd275735744"
      },
      "text/plain": [
       "HBox(children=(HTML(value=''), FloatProgress(value=0.0, max=197.0), HTML(value='')))"
      ]
     },
     "metadata": {}
    },
    {
     "output_type": "stream",
     "name": "stdout",
     "text": [
      "\n"
     ]
    },
    {
     "output_type": "display_data",
     "data": {
      "application/vnd.jupyter.widget-view+json": {
       "version_major": 2,
       "version_minor": 0,
       "model_id": "bda6d97e089e42bd91dc28d751617867"
      },
      "text/plain": [
       "HBox(children=(HTML(value=''), FloatProgress(value=0.0, max=50.0), HTML(value='')))"
      ]
     },
     "metadata": {}
    },
    {
     "output_type": "stream",
     "name": "stdout",
     "text": [
      "\n",
      "epoch:2 train_loss:0.15959212697070682 val_loss:0.1967456847719126\n",
      "save best_model now_val_best_loss is:0.1967456847719126\n",
      "\n"
     ]
    }
   ],
   "metadata": {}
  },
  {
   "cell_type": "markdown",
   "source": [
    "# save model"
   ],
   "metadata": {}
  },
  {
   "cell_type": "code",
   "execution_count": 121,
   "source": [
    "import matplotlib.pyplot as plt\r\n",
    "plt.plot(history['train_loss'],label='train')\r\n",
    "plt.plot(history['val_loss'],label='test')\r\n",
    "plt.legend()\r\n",
    "plt.show()"
   ],
   "outputs": [
    {
     "output_type": "display_data",
     "data": {
      "image/png": "[encoded data removed]",
      "text/plain": [
       "<Figure size 432x288 with 1 Axes>"
      ]
     },
     "metadata": {
      "needs_background": "light"
     }
    }
   ],
   "metadata": {}
  },
  {
   "cell_type": "code",
   "execution_count": 122,
   "source": [
    "model_path = '../models/Product_Data_SQuAD_model_product.pt'\r\n",
    "torch.save(best_model.state_dict(),model_path)"
   ],
   "outputs": [],
   "metadata": {}
  },
  {
   "cell_type": "markdown",
   "source": [
    "# load trained model"
   ],
   "metadata": {}
  },
  {
   "cell_type": "code",
   "execution_count": 123,
   "source": [
    "model = DistilBertForQuestionAnswering.from_pretrained(\"distilbert-base-uncased\")\r\n",
    "model.load_state_dict(torch.load(model_path))\r\n",
    "model.eval()\r\n",
    "nlp = pipeline('question-answering', model=model.to('cpu'), tokenizer=tokenizer)"
   ],
   "outputs": [
    {
     "output_type": "stream",
     "name": "stderr",
     "text": [
      "Some weights of the model checkpoint at distilbert-base-uncased were not used when initializing DistilBertForQuestionAnswering: ['vocab_transform.weight', 'vocab_layer_norm.bias', 'vocab_transform.bias', 'vocab_projector.weight', 'vocab_layer_norm.weight', 'vocab_projector.bias']\n",
      "- This IS expected if you are initializing DistilBertForQuestionAnswering from the checkpoint of a model trained on another task or with another architecture (e.g. initializing a BertForSequenceClassification model from a BertForPreTraining model).\n",
      "- This IS NOT expected if you are initializing DistilBertForQuestionAnswering from the checkpoint of a model that you expect to be exactly identical (initializing a BertForSequenceClassification model from a BertForSequenceClassification model).\n",
      "Some weights of DistilBertForQuestionAnswering were not initialized from the model checkpoint at distilbert-base-uncased and are newly initialized: ['qa_outputs.bias', 'qa_outputs.weight']\n",
      "You should probably TRAIN this model on a down-stream task to be able to use it for predictions and inference.\n"
     ]
    }
   ],
   "metadata": {}
  },
  {
   "cell_type": "markdown",
   "source": [
    "# test"
   ],
   "metadata": {}
  },
  {
   "cell_type": "code",
   "execution_count": 124,
   "source": [
    "def test_model(nlp,df):\r\n",
    "    table = pd.DataFrame()\r\n",
    "    for i in tqdm(df.index):\r\n",
    "        sample = df.loc[[i]]\r\n",
    "        string_X_train = sample['string_X_train'].values[0]\r\n",
    "        Y_label = sample['Y_label'].values[0]  \r\n",
    "        QA_input = {\r\n",
    "            'question': 'What is the product name?',\r\n",
    "            'context': string_X_train\r\n",
    "        }\r\n",
    "        res = nlp(QA_input)\r\n",
    "        predict = QA_input['context'][res['start']:res['end']]\r\n",
    "        row = pd.DataFrame({'Y_label':Y_label,'predict':predict},index=[i])\r\n",
    "        if Y_label == predict:\r\n",
    "            row['是否全對'] = 'Yes'\r\n",
    "        else:\r\n",
    "            row['是否全對'] = 'No'\r\n",
    "        table = table.append(row)\r\n",
    "    return table"
   ],
   "outputs": [],
   "metadata": {}
  },
  {
   "cell_type": "code",
   "execution_count": 125,
   "source": [
    "table = test_model(nlp,val_df)\r\n",
    "display(table)"
   ],
   "outputs": [
    {
     "output_type": "display_data",
     "data": {
      "application/vnd.jupyter.widget-view+json": {
       "version_major": 2,
       "version_minor": 0,
       "model_id": "8fc6c720217d4630aaac132e4b4be838"
      },
      "text/plain": [
       "HBox(children=(HTML(value=''), FloatProgress(value=0.0, max=394.0), HTML(value='')))"
      ]
     },
     "metadata": {}
    },
    {
     "output_type": "stream",
     "name": "stdout",
     "text": [
      "\n"
     ]
    },
    {
     "output_type": "display_data",
     "data": {
      "text/html": [
       "<div>\n",
       "<style scoped>\n",
       "    .dataframe tbody tr th:only-of-type {\n",
       "        vertical-align: middle;\n",
       "    }\n",
       "\n",
       "    .dataframe tbody tr th {\n",
       "        vertical-align: top;\n",
       "    }\n",
       "\n",
       "    .dataframe thead th {\n",
       "        text-align: right;\n",
       "    }\n",
       "</style>\n",
       "<table border=\"1\" class=\"dataframe\">\n",
       "  <thead>\n",
       "    <tr style=\"text-align: right;\">\n",
       "      <th></th>\n",
       "      <th>Y_label</th>\n",
       "      <th>predict</th>\n",
       "      <th>是否全對</th>\n",
       "    </tr>\n",
       "  </thead>\n",
       "  <tbody>\n",
       "    <tr>\n",
       "      <th>4198</th>\n",
       "      <td>COPPER CLAD LAMINATES</td>\n",
       "      <td>COPPER CLAD LAMINATES</td>\n",
       "      <td>Yes</td>\n",
       "    </tr>\n",
       "    <tr>\n",
       "      <th>4229</th>\n",
       "      <td>COPPER FOIL</td>\n",
       "      <td>COPPER FOIL</td>\n",
       "      <td>Yes</td>\n",
       "    </tr>\n",
       "    <tr>\n",
       "      <th>7863</th>\n",
       "      <td>COPPER CLAD LAMINATES</td>\n",
       "      <td>COPPER CLAD LAMINATES</td>\n",
       "      <td>Yes</td>\n",
       "    </tr>\n",
       "    <tr>\n",
       "      <th>6145</th>\n",
       "      <td>GLASS FABRICS</td>\n",
       "      <td>GLASS FABRICS</td>\n",
       "      <td>Yes</td>\n",
       "    </tr>\n",
       "    <tr>\n",
       "      <th>5814</th>\n",
       "      <td>FIBER GRADE</td>\n",
       "      <td>FIBER GRADE</td>\n",
       "      <td>Yes</td>\n",
       "    </tr>\n",
       "    <tr>\n",
       "      <th>...</th>\n",
       "      <td>...</td>\n",
       "      <td>...</td>\n",
       "      <td>...</td>\n",
       "    </tr>\n",
       "    <tr>\n",
       "      <th>858</th>\n",
       "      <td>NPEL 128</td>\n",
       "      <td>EPOXY RESIN1</td>\n",
       "      <td>No</td>\n",
       "    </tr>\n",
       "    <tr>\n",
       "      <th>20126</th>\n",
       "      <td>POLYESTER STAPLE FIBER</td>\n",
       "      <td>POLYESTER STAPLE FIBER</td>\n",
       "      <td>Yes</td>\n",
       "    </tr>\n",
       "    <tr>\n",
       "      <th>6731</th>\n",
       "      <td>POLYESTER FILM B GRADE</td>\n",
       "      <td>POLYESTER FILM B GRADE</td>\n",
       "      <td>Yes</td>\n",
       "    </tr>\n",
       "    <tr>\n",
       "      <th>5624</th>\n",
       "      <td>TAISOX 9001</td>\n",
       "      <td>TAISOX 9001</td>\n",
       "      <td>Yes</td>\n",
       "    </tr>\n",
       "    <tr>\n",
       "      <th>2451</th>\n",
       "      <td>COPPER CLAD LAMINATES</td>\n",
       "      <td>COPPER CLAD LAMINATES</td>\n",
       "      <td>Yes</td>\n",
       "    </tr>\n",
       "  </tbody>\n",
       "</table>\n",
       "<p>394 rows × 3 columns</p>\n",
       "</div>"
      ],
      "text/plain": [
       "                      Y_label                 predict 是否全對\n",
       "4198    COPPER CLAD LAMINATES   COPPER CLAD LAMINATES  Yes\n",
       "4229              COPPER FOIL             COPPER FOIL  Yes\n",
       "7863    COPPER CLAD LAMINATES   COPPER CLAD LAMINATES  Yes\n",
       "6145            GLASS FABRICS           GLASS FABRICS  Yes\n",
       "5814              FIBER GRADE             FIBER GRADE  Yes\n",
       "...                       ...                     ...  ...\n",
       "858                  NPEL 128            EPOXY RESIN1   No\n",
       "20126  POLYESTER STAPLE FIBER  POLYESTER STAPLE FIBER  Yes\n",
       "6731   POLYESTER FILM B GRADE  POLYESTER FILM B GRADE  Yes\n",
       "5624              TAISOX 9001             TAISOX 9001  Yes\n",
       "2451    COPPER CLAD LAMINATES   COPPER CLAD LAMINATES  Yes\n",
       "\n",
       "[394 rows x 3 columns]"
      ]
     },
     "metadata": {}
    }
   ],
   "metadata": {}
  },
  {
   "cell_type": "code",
   "execution_count": 126,
   "source": [
    "display(table[table['是否全對']=='Yes'])"
   ],
   "outputs": [
    {
     "output_type": "display_data",
     "data": {
      "text/html": [
       "<div>\n",
       "<style scoped>\n",
       "    .dataframe tbody tr th:only-of-type {\n",
       "        vertical-align: middle;\n",
       "    }\n",
       "\n",
       "    .dataframe tbody tr th {\n",
       "        vertical-align: top;\n",
       "    }\n",
       "\n",
       "    .dataframe thead th {\n",
       "        text-align: right;\n",
       "    }\n",
       "</style>\n",
       "<table border=\"1\" class=\"dataframe\">\n",
       "  <thead>\n",
       "    <tr style=\"text-align: right;\">\n",
       "      <th></th>\n",
       "      <th>Y_label</th>\n",
       "      <th>predict</th>\n",
       "      <th>是否全對</th>\n",
       "    </tr>\n",
       "  </thead>\n",
       "  <tbody>\n",
       "    <tr>\n",
       "      <th>4198</th>\n",
       "      <td>COPPER CLAD LAMINATES</td>\n",
       "      <td>COPPER CLAD LAMINATES</td>\n",
       "      <td>Yes</td>\n",
       "    </tr>\n",
       "    <tr>\n",
       "      <th>4229</th>\n",
       "      <td>COPPER FOIL</td>\n",
       "      <td>COPPER FOIL</td>\n",
       "      <td>Yes</td>\n",
       "    </tr>\n",
       "    <tr>\n",
       "      <th>7863</th>\n",
       "      <td>COPPER CLAD LAMINATES</td>\n",
       "      <td>COPPER CLAD LAMINATES</td>\n",
       "      <td>Yes</td>\n",
       "    </tr>\n",
       "    <tr>\n",
       "      <th>6145</th>\n",
       "      <td>GLASS FABRICS</td>\n",
       "      <td>GLASS FABRICS</td>\n",
       "      <td>Yes</td>\n",
       "    </tr>\n",
       "    <tr>\n",
       "      <th>5814</th>\n",
       "      <td>FIBER GRADE</td>\n",
       "      <td>FIBER GRADE</td>\n",
       "      <td>Yes</td>\n",
       "    </tr>\n",
       "    <tr>\n",
       "      <th>...</th>\n",
       "      <td>...</td>\n",
       "      <td>...</td>\n",
       "      <td>...</td>\n",
       "    </tr>\n",
       "    <tr>\n",
       "      <th>6735</th>\n",
       "      <td>COPPER FOIL</td>\n",
       "      <td>COPPER FOIL</td>\n",
       "      <td>Yes</td>\n",
       "    </tr>\n",
       "    <tr>\n",
       "      <th>20126</th>\n",
       "      <td>POLYESTER STAPLE FIBER</td>\n",
       "      <td>POLYESTER STAPLE FIBER</td>\n",
       "      <td>Yes</td>\n",
       "    </tr>\n",
       "    <tr>\n",
       "      <th>6731</th>\n",
       "      <td>POLYESTER FILM B GRADE</td>\n",
       "      <td>POLYESTER FILM B GRADE</td>\n",
       "      <td>Yes</td>\n",
       "    </tr>\n",
       "    <tr>\n",
       "      <th>5624</th>\n",
       "      <td>TAISOX 9001</td>\n",
       "      <td>TAISOX 9001</td>\n",
       "      <td>Yes</td>\n",
       "    </tr>\n",
       "    <tr>\n",
       "      <th>2451</th>\n",
       "      <td>COPPER CLAD LAMINATES</td>\n",
       "      <td>COPPER CLAD LAMINATES</td>\n",
       "      <td>Yes</td>\n",
       "    </tr>\n",
       "  </tbody>\n",
       "</table>\n",
       "<p>357 rows × 3 columns</p>\n",
       "</div>"
      ],
      "text/plain": [
       "                      Y_label                 predict 是否全對\n",
       "4198    COPPER CLAD LAMINATES   COPPER CLAD LAMINATES  Yes\n",
       "4229              COPPER FOIL             COPPER FOIL  Yes\n",
       "7863    COPPER CLAD LAMINATES   COPPER CLAD LAMINATES  Yes\n",
       "6145            GLASS FABRICS           GLASS FABRICS  Yes\n",
       "5814              FIBER GRADE             FIBER GRADE  Yes\n",
       "...                       ...                     ...  ...\n",
       "6735              COPPER FOIL             COPPER FOIL  Yes\n",
       "20126  POLYESTER STAPLE FIBER  POLYESTER STAPLE FIBER  Yes\n",
       "6731   POLYESTER FILM B GRADE  POLYESTER FILM B GRADE  Yes\n",
       "5624              TAISOX 9001             TAISOX 9001  Yes\n",
       "2451    COPPER CLAD LAMINATES   COPPER CLAD LAMINATES  Yes\n",
       "\n",
       "[357 rows x 3 columns]"
      ]
     },
     "metadata": {}
    }
   ],
   "metadata": {}
  },
  {
   "cell_type": "code",
   "execution_count": 127,
   "source": [
    "display(table[table['是否全對']=='No'])"
   ],
   "outputs": [
    {
     "output_type": "display_data",
     "data": {
      "text/html": [
       "<div>\n",
       "<style scoped>\n",
       "    .dataframe tbody tr th:only-of-type {\n",
       "        vertical-align: middle;\n",
       "    }\n",
       "\n",
       "    .dataframe tbody tr th {\n",
       "        vertical-align: top;\n",
       "    }\n",
       "\n",
       "    .dataframe thead th {\n",
       "        text-align: right;\n",
       "    }\n",
       "</style>\n",
       "<table border=\"1\" class=\"dataframe\">\n",
       "  <thead>\n",
       "    <tr style=\"text-align: right;\">\n",
       "      <th></th>\n",
       "      <th>Y_label</th>\n",
       "      <th>predict</th>\n",
       "      <th>是否全對</th>\n",
       "    </tr>\n",
       "  </thead>\n",
       "  <tbody>\n",
       "    <tr>\n",
       "      <th>6964</th>\n",
       "      <td>TAISOX 8010</td>\n",
       "      <td>TAISOX 9001</td>\n",
       "      <td>No</td>\n",
       "    </tr>\n",
       "    <tr>\n",
       "      <th>2853</th>\n",
       "      <td>COPPER CLAD LAMINATES</td>\n",
       "      <td>GLASS EPOXY  COPPER CLAD LAMINATES</td>\n",
       "      <td>No</td>\n",
       "    </tr>\n",
       "    <tr>\n",
       "      <th>2364</th>\n",
       "      <td>BOPP FILM PL50</td>\n",
       "      <td>BOPP FILM</td>\n",
       "      <td>No</td>\n",
       "    </tr>\n",
       "    <tr>\n",
       "      <th>7183</th>\n",
       "      <td>AX4100</td>\n",
       "      <td>AG15A1</td>\n",
       "      <td>No</td>\n",
       "    </tr>\n",
       "    <tr>\n",
       "      <th>17527</th>\n",
       "      <td>POLYESTER TEXTURED YARN</td>\n",
       "      <td>YARN</td>\n",
       "      <td>No</td>\n",
       "    </tr>\n",
       "    <tr>\n",
       "      <th>3081</th>\n",
       "      <td>AE8000</td>\n",
       "      <td>AG10NP</td>\n",
       "      <td>No</td>\n",
       "    </tr>\n",
       "    <tr>\n",
       "      <th>20265</th>\n",
       "      <td>PVC SUSPENSION RESIN S 70</td>\n",
       "      <td>S 70</td>\n",
       "      <td>No</td>\n",
       "    </tr>\n",
       "    <tr>\n",
       "      <th>3753</th>\n",
       "      <td>MIN 99 PCT</td>\n",
       "      <td>CAUSTIC SODA MICROPEARLS</td>\n",
       "      <td>No</td>\n",
       "    </tr>\n",
       "    <tr>\n",
       "      <th>4771</th>\n",
       "      <td>COPPER CLAD LAMINATES</td>\n",
       "      <td>GLASS EPOXY PREPREG4639</td>\n",
       "      <td>No</td>\n",
       "    </tr>\n",
       "    <tr>\n",
       "      <th>6488</th>\n",
       "      <td>ANC100</td>\n",
       "      <td>AF3535</td>\n",
       "      <td>No</td>\n",
       "    </tr>\n",
       "    <tr>\n",
       "      <th>4777</th>\n",
       "      <td>COPPER CLAD LAMINATES</td>\n",
       "      <td>GLASS EPOXY PREPREG4639</td>\n",
       "      <td>No</td>\n",
       "    </tr>\n",
       "    <tr>\n",
       "      <th>5848</th>\n",
       "      <td>TEREPHTHALATE FILM</td>\n",
       "      <td>POLYETHYLENE  TEREPHTHALATE FILM</td>\n",
       "      <td>No</td>\n",
       "    </tr>\n",
       "    <tr>\n",
       "      <th>4766</th>\n",
       "      <td>COPPER CLAD LAMINATES</td>\n",
       "      <td>GLASS EPOXY PREPREG4639</td>\n",
       "      <td>No</td>\n",
       "    </tr>\n",
       "    <tr>\n",
       "      <th>6793</th>\n",
       "      <td>YUNGSOX 3204</td>\n",
       "      <td>YUNGSOX 3015FOR</td>\n",
       "      <td>No</td>\n",
       "    </tr>\n",
       "    <tr>\n",
       "      <th>4025</th>\n",
       "      <td>AG12A1</td>\n",
       "      <td>AG15AB</td>\n",
       "      <td>No</td>\n",
       "    </tr>\n",
       "    <tr>\n",
       "      <th>6802</th>\n",
       "      <td>PP SYNTHETIC PAPER</td>\n",
       "      <td>SYNTHETIC PAPER</td>\n",
       "      <td>No</td>\n",
       "    </tr>\n",
       "    <tr>\n",
       "      <th>951</th>\n",
       "      <td>SYNTHETIC PAPER</td>\n",
       "      <td>RIGID PVC SHEET  APET FILM PET FILM  PP FILM  ...</td>\n",
       "      <td>No</td>\n",
       "    </tr>\n",
       "    <tr>\n",
       "      <th>5847</th>\n",
       "      <td>TEREPHTHALATE FILM</td>\n",
       "      <td>POLYETHYLENE  TEREPHTHALATE FILM</td>\n",
       "      <td>No</td>\n",
       "    </tr>\n",
       "    <tr>\n",
       "      <th>6963</th>\n",
       "      <td>TAISOX 8010</td>\n",
       "      <td>TAISOX 9001</td>\n",
       "      <td>No</td>\n",
       "    </tr>\n",
       "    <tr>\n",
       "      <th>5507</th>\n",
       "      <td>AG12A0</td>\n",
       "      <td>AE8000</td>\n",
       "      <td>No</td>\n",
       "    </tr>\n",
       "    <tr>\n",
       "      <th>1668</th>\n",
       "      <td>AG12A0</td>\n",
       "      <td>AF3535ABS</td>\n",
       "      <td>No</td>\n",
       "    </tr>\n",
       "    <tr>\n",
       "      <th>4772</th>\n",
       "      <td>COPPER CLAD LAMINATES</td>\n",
       "      <td>GLASS EPOXY PREPREG4639</td>\n",
       "      <td>No</td>\n",
       "    </tr>\n",
       "    <tr>\n",
       "      <th>2429</th>\n",
       "      <td>GP5250</td>\n",
       "      <td>GPPS  GP5250</td>\n",
       "      <td>No</td>\n",
       "    </tr>\n",
       "    <tr>\n",
       "      <th>19627</th>\n",
       "      <td>SILICONISED FIBER</td>\n",
       "      <td>POLYESTE STAPLE FIBER LOW MELT</td>\n",
       "      <td>No</td>\n",
       "    </tr>\n",
       "    <tr>\n",
       "      <th>20531</th>\n",
       "      <td>POLYESTER STAPLE FIBER</td>\n",
       "      <td>TAIRILIN BRAND  POLYESTER</td>\n",
       "      <td>No</td>\n",
       "    </tr>\n",
       "    <tr>\n",
       "      <th>5864</th>\n",
       "      <td>6210GCFNC1</td>\n",
       "      <td>6210GCFBK3</td>\n",
       "      <td>No</td>\n",
       "    </tr>\n",
       "    <tr>\n",
       "      <th>6962</th>\n",
       "      <td>TAISOX 8010</td>\n",
       "      <td>TAISOX 9001</td>\n",
       "      <td>No</td>\n",
       "    </tr>\n",
       "    <tr>\n",
       "      <th>1667</th>\n",
       "      <td>AG12A0</td>\n",
       "      <td>AF3535ABS</td>\n",
       "      <td>No</td>\n",
       "    </tr>\n",
       "    <tr>\n",
       "      <th>7135</th>\n",
       "      <td>6210GCFIV1</td>\n",
       "      <td>6210GCFBK3</td>\n",
       "      <td>No</td>\n",
       "    </tr>\n",
       "    <tr>\n",
       "      <th>3774</th>\n",
       "      <td>COPPER CLAD LAMINATES</td>\n",
       "      <td>COPPER CLAD LAMINATES  AND GLASS EPOXY PREPREG...</td>\n",
       "      <td>No</td>\n",
       "    </tr>\n",
       "    <tr>\n",
       "      <th>2582</th>\n",
       "      <td>YUNGSOX 3204</td>\n",
       "      <td>YUNGSOX 3015</td>\n",
       "      <td>No</td>\n",
       "    </tr>\n",
       "    <tr>\n",
       "      <th>7846</th>\n",
       "      <td>STYRENE MONOMER</td>\n",
       "      <td>STYRENE</td>\n",
       "      <td>No</td>\n",
       "    </tr>\n",
       "    <tr>\n",
       "      <th>7558</th>\n",
       "      <td>AG12A1</td>\n",
       "      <td>AG10NPAK</td>\n",
       "      <td>No</td>\n",
       "    </tr>\n",
       "    <tr>\n",
       "      <th>4912</th>\n",
       "      <td>TAISOX 3490</td>\n",
       "      <td>TAISOX 3470</td>\n",
       "      <td>No</td>\n",
       "    </tr>\n",
       "    <tr>\n",
       "      <th>2123</th>\n",
       "      <td>ANC120</td>\n",
       "      <td>GP5350AT</td>\n",
       "      <td>No</td>\n",
       "    </tr>\n",
       "    <tr>\n",
       "      <th>2176</th>\n",
       "      <td>BRIGHT HIGH TENACITY</td>\n",
       "      <td>HIGH TENACITY</td>\n",
       "      <td>No</td>\n",
       "    </tr>\n",
       "    <tr>\n",
       "      <th>858</th>\n",
       "      <td>NPEL 128</td>\n",
       "      <td>EPOXY RESIN1</td>\n",
       "      <td>No</td>\n",
       "    </tr>\n",
       "  </tbody>\n",
       "</table>\n",
       "</div>"
      ],
      "text/plain": [
       "                         Y_label  \\\n",
       "6964                 TAISOX 8010   \n",
       "2853       COPPER CLAD LAMINATES   \n",
       "2364              BOPP FILM PL50   \n",
       "7183                      AX4100   \n",
       "17527    POLYESTER TEXTURED YARN   \n",
       "3081                      AE8000   \n",
       "20265  PVC SUSPENSION RESIN S 70   \n",
       "3753                  MIN 99 PCT   \n",
       "4771       COPPER CLAD LAMINATES   \n",
       "6488                      ANC100   \n",
       "4777       COPPER CLAD LAMINATES   \n",
       "5848          TEREPHTHALATE FILM   \n",
       "4766       COPPER CLAD LAMINATES   \n",
       "6793                YUNGSOX 3204   \n",
       "4025                      AG12A1   \n",
       "6802          PP SYNTHETIC PAPER   \n",
       "951              SYNTHETIC PAPER   \n",
       "5847          TEREPHTHALATE FILM   \n",
       "6963                 TAISOX 8010   \n",
       "5507                      AG12A0   \n",
       "1668                      AG12A0   \n",
       "4772       COPPER CLAD LAMINATES   \n",
       "2429                      GP5250   \n",
       "19627          SILICONISED FIBER   \n",
       "20531     POLYESTER STAPLE FIBER   \n",
       "5864                  6210GCFNC1   \n",
       "6962                 TAISOX 8010   \n",
       "1667                      AG12A0   \n",
       "7135                  6210GCFIV1   \n",
       "3774       COPPER CLAD LAMINATES   \n",
       "2582                YUNGSOX 3204   \n",
       "7846             STYRENE MONOMER   \n",
       "7558                      AG12A1   \n",
       "4912                 TAISOX 3490   \n",
       "2123                      ANC120   \n",
       "2176        BRIGHT HIGH TENACITY   \n",
       "858                     NPEL 128   \n",
       "\n",
       "                                                 predict 是否全對  \n",
       "6964                                         TAISOX 9001   No  \n",
       "2853                  GLASS EPOXY  COPPER CLAD LAMINATES   No  \n",
       "2364                                           BOPP FILM   No  \n",
       "7183                                              AG15A1   No  \n",
       "17527                                               YARN   No  \n",
       "3081                                              AG10NP   No  \n",
       "20265                                               S 70   No  \n",
       "3753                            CAUSTIC SODA MICROPEARLS   No  \n",
       "4771                             GLASS EPOXY PREPREG4639   No  \n",
       "6488                                              AF3535   No  \n",
       "4777                             GLASS EPOXY PREPREG4639   No  \n",
       "5848                    POLYETHYLENE  TEREPHTHALATE FILM   No  \n",
       "4766                             GLASS EPOXY PREPREG4639   No  \n",
       "6793                                     YUNGSOX 3015FOR   No  \n",
       "4025                                              AG15AB   No  \n",
       "6802                                     SYNTHETIC PAPER   No  \n",
       "951    RIGID PVC SHEET  APET FILM PET FILM  PP FILM  ...   No  \n",
       "5847                    POLYETHYLENE  TEREPHTHALATE FILM   No  \n",
       "6963                                         TAISOX 9001   No  \n",
       "5507                                              AE8000   No  \n",
       "1668                                           AF3535ABS   No  \n",
       "4772                             GLASS EPOXY PREPREG4639   No  \n",
       "2429                                        GPPS  GP5250   No  \n",
       "19627                     POLYESTE STAPLE FIBER LOW MELT   No  \n",
       "20531                          TAIRILIN BRAND  POLYESTER   No  \n",
       "5864                                          6210GCFBK3   No  \n",
       "6962                                         TAISOX 9001   No  \n",
       "1667                                           AF3535ABS   No  \n",
       "7135                                          6210GCFBK3   No  \n",
       "3774   COPPER CLAD LAMINATES  AND GLASS EPOXY PREPREG...   No  \n",
       "2582                                        YUNGSOX 3015   No  \n",
       "7846                                             STYRENE   No  \n",
       "7558                                            AG10NPAK   No  \n",
       "4912                                         TAISOX 3470   No  \n",
       "2123                                            GP5350AT   No  \n",
       "2176                                       HIGH TENACITY   No  \n",
       "858                                         EPOXY RESIN1   No  "
      ]
     },
     "metadata": {}
    }
   ],
   "metadata": {}
  },
  {
   "cell_type": "markdown",
   "source": [
    "# claculate acc and jaccard"
   ],
   "metadata": {}
  },
  {
   "cell_type": "code",
   "execution_count": 128,
   "source": [
    "def get_acc(df,t=1):\r\n",
    "    correct = []\r\n",
    "    correct_label = []\r\n",
    "    for i in df.index:\r\n",
    "        jac = get_jaccard_sim(df.loc[i,'Y_label'],df.loc[i,'predict'])\r\n",
    "        if jac >= t:\r\n",
    "            correct.append('yes')\r\n",
    "        else:\r\n",
    "            correct.append('no')\r\n",
    "    a = pd.Series(correct)\r\n",
    "    return a.value_counts()['yes']/len(a)"
   ],
   "outputs": [],
   "metadata": {}
  },
  {
   "cell_type": "code",
   "execution_count": 129,
   "source": [
    "print('jaccard_avg_score:',np.mean([ get_jaccard_sim(table['Y_label'].loc[i],table['predict'].loc[i]) for i in table.index]))\r\n",
    "print('acc:',get_acc(table,1))\r\n",
    "print('放水acc:',get_acc(table,0.75))\r\n",
    "print('放水acc:',get_acc(table,0.5))\r\n",
    "print('放水acc:',get_acc(table,0.25))"
   ],
   "outputs": [
    {
     "output_type": "stream",
     "name": "stdout",
     "text": [
      "jaccard_avg_score: 0.9281323019901702\n",
      "acc: 0.9060913705583756\n",
      "放水acc: 0.9060913705583756\n",
      "放水acc: 0.9263959390862944\n",
      "放水acc: 0.949238578680203\n"
     ]
    }
   ],
   "metadata": {}
  },
  {
   "cell_type": "code",
   "execution_count": null,
   "source": [],
   "outputs": [],
   "metadata": {}
  },
  {
   "cell_type": "code",
   "execution_count": null,
   "source": [],
   "outputs": [],
   "metadata": {}
  },
  {
   "cell_type": "code",
   "execution_count": null,
   "source": [],
   "outputs": [],
   "metadata": {}
  },
  {
   "cell_type": "code",
   "execution_count": null,
   "source": [],
   "outputs": [],
   "metadata": {}
  },
  {
   "cell_type": "code",
   "execution_count": null,
   "source": [],
   "outputs": [],
   "metadata": {}
  },
  {
   "cell_type": "code",
   "execution_count": null,
   "source": [],
   "outputs": [],
   "metadata": {}
  },
  {
   "cell_type": "code",
   "execution_count": null,
   "source": [],
   "outputs": [],
   "metadata": {}
  },
  {
   "cell_type": "code",
   "execution_count": null,
   "source": [],
   "outputs": [],
   "metadata": {}
  }
 ],
 "metadata": {
  "interpreter": {
   "hash": "2ccee5cc862501c1aad1cf19888c2a2eca4026b72d187db43d5e889cbdc6ee97"
  },
  "kernelspec": {
   "name": "python3",
   "display_name": "Python 3.8.5 64-bit ('base': conda)"
  },
  "language_info": {
   "codemirror_mode": {
    "name": "ipython",
    "version": 3
   },
   "file_extension": ".py",
   "mimetype": "text/x-python",
   "name": "python",
   "nbconvert_exporter": "python",
   "pygments_lexer": "ipython3",
   "version": "3.8.5"
  }
 },
 "nbformat": 4,
 "nbformat_minor": 2
}