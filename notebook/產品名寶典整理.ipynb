{
 "cells": [
  {
   "cell_type": "code",
   "execution_count": 2,
   "metadata": {},
   "outputs": [
    {
     "name": "stdout",
     "output_type": "stream",
     "text": [
      "寶典.v3.台塑網.20210901.xlsx (1099, 3)\n",
      "寶典.v4.20211001.xlsx (1100, 3)\n",
      "寶典.v5.20211006.xlsx (1103, 3)\n",
      "寶典.v6.20211020.xlsx (1109, 3)\n"
     ]
    }
   ],
   "source": [
    "import pandas as pd\n",
    "import os\n",
    "root = '../data/寶典/'\n",
    "files = os.listdir(root)\n",
    "dfs = []\n",
    "for f in files:\n",
    "    try:\n",
    "        path = root+f\n",
    "        xls = pd.ExcelFile(path)\n",
    "        sheets = xls.sheet_names\n",
    "        df = pd.read_excel(path,sheet_name=sheets[-1])[['CODIV','DIVNM','ITEMNM']].dropna(axis=0)\n",
    "        dfs.append(df)\n",
    "        print(f,df.shape)\n",
    "    except:\n",
    "        pass\n"
   ]
  },
  {
   "cell_type": "code",
   "execution_count": 3,
   "metadata": {},
   "outputs": [
    {
     "data": {
      "text/html": [
       "<div>\n",
       "<style scoped>\n",
       "    .dataframe tbody tr th:only-of-type {\n",
       "        vertical-align: middle;\n",
       "    }\n",
       "\n",
       "    .dataframe tbody tr th {\n",
       "        vertical-align: top;\n",
       "    }\n",
       "\n",
       "    .dataframe thead th {\n",
       "        text-align: right;\n",
       "    }\n",
       "</style>\n",
       "<table border=\"1\" class=\"dataframe\">\n",
       "  <thead>\n",
       "    <tr style=\"text-align: right;\">\n",
       "      <th></th>\n",
       "      <th>CODIV</th>\n",
       "      <th>DIVNM</th>\n",
       "      <th>ITEMNM</th>\n",
       "    </tr>\n",
       "  </thead>\n",
       "  <tbody>\n",
       "    <tr>\n",
       "      <th>1047</th>\n",
       "      <td>60</td>\n",
       "      <td>國外處</td>\n",
       "      <td>GASOLINE</td>\n",
       "    </tr>\n",
       "    <tr>\n",
       "      <th>1057</th>\n",
       "      <td>61</td>\n",
       "      <td>台塑石化</td>\n",
       "      <td>GASOLINE</td>\n",
       "    </tr>\n",
       "    <tr>\n",
       "      <th>1108</th>\n",
       "      <td>6B</td>\n",
       "      <td>油品事業部</td>\n",
       "      <td>GASOLINE</td>\n",
       "    </tr>\n",
       "  </tbody>\n",
       "</table>\n",
       "</div>"
      ],
      "text/plain": [
       "     CODIV  DIVNM    ITEMNM\n",
       "1047    60    國外處  GASOLINE\n",
       "1057    61   台塑石化  GASOLINE\n",
       "1108    6B  油品事業部  GASOLINE"
      ]
     },
     "execution_count": 3,
     "metadata": {},
     "output_type": "execute_result"
    }
   ],
   "source": [
    "a = dfs[-1]\n",
    "a[a['ITEMNM']=='GASOLINE']"
   ]
  },
  {
   "cell_type": "code",
   "execution_count": 4,
   "metadata": {},
   "outputs": [
    {
     "name": "stdout",
     "output_type": "stream",
     "text": [
      "0\n"
     ]
    }
   ],
   "source": [
    "import xlrd\n",
    "\n",
    "# Load xls file\n",
    "data = xlrd.open_workbook('..\\data\\寶典\\寶典.v6.20211020.xlsx')\n",
    "for n in range(len(data.sheet_names())):\n",
    "    print(n)"
   ]
  },
  {
   "cell_type": "code",
   "execution_count": 1,
   "metadata": {},
   "outputs": [],
   "source": [
    "import pandas as pd\n",
    "from pandas.io.excel._openpyxl import _OpenpyxlReader\n",
    "from pandas._typing import Scalar\n",
    "from typing import List\n",
    "from pandas.io.excel._odfreader import _ODFReader\n",
    "from pandas.io.excel._xlrd import _XlrdReader\n",
    "\n",
    "class CustomReader(_OpenpyxlReader):\n",
    "    def get_sheet_data(self, sheet, convert_float: bool) -> List[List[Scalar]]:\n",
    "        data = []\n",
    "        for row in sheet.rows:\n",
    "            first = row[1] # I need the strikethrough check on this cell only\n",
    "            if first.value is not None and first.font.strike: continue\n",
    "            else:\n",
    "                data.append([self._convert_cell(cell, convert_float) for cell in row])\n",
    "        return data\n",
    "\n",
    "class CustomExcelFile(pd.ExcelFile):\n",
    "\n",
    "    _engines = {\"xlrd\": _XlrdReader, \"openpyxl\": CustomReader, \"odf\": _ODFReader}"
   ]
  },
  {
   "cell_type": "code",
   "execution_count": 3,
   "metadata": {},
   "outputs": [
    {
     "name": "stdout",
     "output_type": "stream",
     "text": [
      "(1104, 6)\n"
     ]
    },
    {
     "data": {
      "text/html": [
       "<div>\n",
       "<style scoped>\n",
       "    .dataframe tbody tr th:only-of-type {\n",
       "        vertical-align: middle;\n",
       "    }\n",
       "\n",
       "    .dataframe tbody tr th {\n",
       "        vertical-align: top;\n",
       "    }\n",
       "\n",
       "    .dataframe thead th {\n",
       "        text-align: right;\n",
       "    }\n",
       "</style>\n",
       "<table border=\"1\" class=\"dataframe\">\n",
       "  <thead>\n",
       "    <tr style=\"text-align: right;\">\n",
       "      <th></th>\n",
       "      <th>RIGID</th>\n",
       "      <th>EXTN</th>\n",
       "      <th>CODIV</th>\n",
       "      <th>DIVNM</th>\n",
       "      <th>ITEMNM</th>\n",
       "      <th>memo</th>\n",
       "    </tr>\n",
       "  </thead>\n",
       "  <tbody>\n",
       "    <tr>\n",
       "      <th>1044</th>\n",
       "      <td>NaN</td>\n",
       "      <td>NaN</td>\n",
       "      <td>61</td>\n",
       "      <td>NaN</td>\n",
       "      <td>GASOLINE</td>\n",
       "      <td>10/20+</td>\n",
       "    </tr>\n",
       "    <tr>\n",
       "      <th>1049</th>\n",
       "      <td>陳惠慈</td>\n",
       "      <td>7237</td>\n",
       "      <td>61</td>\n",
       "      <td>台塑石化</td>\n",
       "      <td>GASOLINE</td>\n",
       "      <td>NaN</td>\n",
       "    </tr>\n",
       "  </tbody>\n",
       "</table>\n",
       "</div>"
      ],
      "text/plain": [
       "     RIGID  EXTN CODIV DIVNM    ITEMNM    memo\n",
       "1044   NaN   NaN    61   NaN  GASOLINE  10/20+\n",
       "1049   陳惠慈  7237    61  台塑石化  GASOLINE     NaN"
      ]
     },
     "execution_count": 3,
     "metadata": {},
     "output_type": "execute_result"
    }
   ],
   "source": [
    "excel = CustomExcelFile('..\\data\\寶典\\寶典.v6.20211020.xlsx', engine=\"openpyxl\")\n",
    "df = excel.parse()\n",
    "print(df.shape)\n",
    "df[df.ITEMNM=='GASOLINE']"
   ]
  },
  {
   "cell_type": "code",
   "execution_count": 6,
   "metadata": {},
   "outputs": [
    {
     "data": {
      "text/plain": [
       "ITEMNM\n",
       "PVC COPOLYMER                3\n",
       "ALKYLATE                     3\n",
       "PP RESIN                     3\n",
       "KNITTED FABRIC               2\n",
       "GASOLINE                     2\n",
       "                            ..\n",
       "POLYETHYLENE PE              1\n",
       "POLYETHYLENE LLDPE3470       1\n",
       " TAIRILIN BRAND PET CHIPS    1\n",
       "PROPYLENE COPOLYMER          0\n",
       "BUTANDIOL                    0\n",
       "Name: CODIV, Length: 1046, dtype: int64"
      ]
     },
     "execution_count": 6,
     "metadata": {},
     "output_type": "execute_result"
    }
   ],
   "source": [
    "df.groupby('ITEMNM')['CODIV'].nunique().sort_values(ascending=False)"
   ]
  },
  {
   "cell_type": "code",
   "execution_count": 7,
   "metadata": {},
   "outputs": [
    {
     "data": {
      "text/html": [
       "<div>\n",
       "<style scoped>\n",
       "    .dataframe tbody tr th:only-of-type {\n",
       "        vertical-align: middle;\n",
       "    }\n",
       "\n",
       "    .dataframe tbody tr th {\n",
       "        vertical-align: top;\n",
       "    }\n",
       "\n",
       "    .dataframe thead th {\n",
       "        text-align: right;\n",
       "    }\n",
       "</style>\n",
       "<table border=\"1\" class=\"dataframe\">\n",
       "  <thead>\n",
       "    <tr style=\"text-align: right;\">\n",
       "      <th></th>\n",
       "      <th>RIGID</th>\n",
       "      <th>EXTN</th>\n",
       "      <th>CODIV</th>\n",
       "      <th>DIVNM</th>\n",
       "      <th>ITEMNM</th>\n",
       "      <th>memo</th>\n",
       "    </tr>\n",
       "  </thead>\n",
       "  <tbody>\n",
       "    <tr>\n",
       "      <th>6</th>\n",
       "      <td>黃淑玲</td>\n",
       "      <td>7190</td>\n",
       "      <td>11</td>\n",
       "      <td>台塑塑膠部</td>\n",
       "      <td>PVC COPOLYMER</td>\n",
       "      <td>NaN</td>\n",
       "    </tr>\n",
       "    <tr>\n",
       "      <th>230</th>\n",
       "      <td>李佩珍</td>\n",
       "      <td>6445</td>\n",
       "      <td>18</td>\n",
       "      <td>台塑聚烯部</td>\n",
       "      <td>PVC COPOLYMER</td>\n",
       "      <td>NaN</td>\n",
       "    </tr>\n",
       "    <tr>\n",
       "      <th>787</th>\n",
       "      <td>NaN</td>\n",
       "      <td>NaN</td>\n",
       "      <td>2P</td>\n",
       "      <td>南亞塑四部化學品部</td>\n",
       "      <td>PVC COPOLYMER</td>\n",
       "      <td>NaN</td>\n",
       "    </tr>\n",
       "  </tbody>\n",
       "</table>\n",
       "</div>"
      ],
      "text/plain": [
       "    RIGID  EXTN CODIV      DIVNM         ITEMNM memo\n",
       "6     黃淑玲  7190    11      台塑塑膠部  PVC COPOLYMER  NaN\n",
       "230   李佩珍  6445    18      台塑聚烯部  PVC COPOLYMER  NaN\n",
       "787   NaN   NaN    2P  南亞塑四部化學品部  PVC COPOLYMER  NaN"
      ]
     },
     "execution_count": 7,
     "metadata": {},
     "output_type": "execute_result"
    }
   ],
   "source": [
    "df[df.ITEMNM=='PVC COPOLYMER']"
   ]
  },
  {
   "cell_type": "code",
   "execution_count": null,
   "metadata": {},
   "outputs": [],
   "source": []
  }
 ],
 "metadata": {
  "interpreter": {
   "hash": "2ccee5cc862501c1aad1cf19888c2a2eca4026b72d187db43d5e889cbdc6ee97"
  },
  "kernelspec": {
   "display_name": "Python 3.8.5 64-bit ('base': conda)",
   "name": "python3"
  },
  "language_info": {
   "codemirror_mode": {
    "name": "ipython",
    "version": 3
   },
   "file_extension": ".py",
   "mimetype": "text/x-python",
   "name": "python",
   "nbconvert_exporter": "python",
   "pygments_lexer": "ipython3",
   "version": "3.8.5"
  },
  "orig_nbformat": 4
 },
 "nbformat": 4,
 "nbformat_minor": 2
}
