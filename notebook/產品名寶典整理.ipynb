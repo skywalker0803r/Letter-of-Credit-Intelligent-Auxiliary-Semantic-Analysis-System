{
 "cells": [
  {
   "cell_type": "code",
   "execution_count": 23,
   "metadata": {},
   "outputs": [
    {
     "name": "stdout",
     "output_type": "stream",
     "text": [
      "寶典.v3.台塑網.20210901.xlsx (1099, 3)\n",
      "寶典.v4.20211001.xlsx (1100, 3)\n",
      "寶典.v5.20211006.xlsx (1103, 3)\n",
      "寶典.v6.20211020.xlsx (1109, 3)\n"
     ]
    }
   ],
   "source": [
    "import pandas as pd\n",
    "import os\n",
    "root = '../data/寶典/'\n",
    "files = os.listdir(root)\n",
    "for f in files:\n",
    "    path = root+f\n",
    "    xls = pd.ExcelFile(path)\n",
    "    sheets = xls.sheet_names\n",
    "    df = pd.read_excel(path,sheet_name=sheets[-1])[['CODIV','DIVNM','ITEMNM']].dropna(axis=0)\n",
    "    print(f,df.shape)\n"
   ]
  },
  {
   "cell_type": "code",
   "execution_count": null,
   "metadata": {},
   "outputs": [],
   "source": []
  }
 ],
 "metadata": {
  "interpreter": {
   "hash": "67850ea2aeb1dc41e111180fab12737ec1e014bd74fe6ccafc8a9315d74a4a04"
  },
  "kernelspec": {
   "display_name": "Python 3.8.3 64-bit ('base': conda)",
   "name": "python3"
  },
  "language_info": {
   "codemirror_mode": {
    "name": "ipython",
    "version": 3
   },
   "file_extension": ".py",
   "mimetype": "text/x-python",
   "name": "python",
   "nbconvert_exporter": "python",
   "pygments_lexer": "ipython3",
   "version": "3.8.3"
  },
  "orig_nbformat": 4
 },
 "nbformat": 4,
 "nbformat_minor": 2
}
