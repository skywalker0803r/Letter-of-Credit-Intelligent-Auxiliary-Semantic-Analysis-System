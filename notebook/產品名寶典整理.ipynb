{
 "cells": [
  {
   "cell_type": "code",
   "execution_count": 13,
   "metadata": {},
   "outputs": [
    {
     "name": "stdout",
     "output_type": "stream",
     "text": [
      "寶典.v3.台塑網.20210901.xlsx (1099, 3)\n",
      "寶典.v4.20211001.xlsx (1100, 3)\n",
      "寶典.v5.20211006.xlsx (1101, 3)\n",
      "寶典.v6.20211020.xlsx (1100, 3)\n"
     ]
    }
   ],
   "source": [
    "import pandas as pd\n",
    "import os\n",
    "root = '../data/寶典/寶典人工處理後/'\n",
    "files = os.listdir(root)\n",
    "dfs = []\n",
    "fs = []\n",
    "for f in files:\n",
    "    try:\n",
    "        path = root+f\n",
    "        xls = pd.ExcelFile(path)\n",
    "        sheets = xls.sheet_names\n",
    "        df = pd.read_excel(path,sheet_name=sheets[-1])[['CODIV','DIVNM','ITEMNM']].dropna(axis=0)\n",
    "        dfs.append(df)\n",
    "        fs.append(f)\n",
    "        print(f,df.shape)\n",
    "    except:\n",
    "        pass\n"
   ]
  },
  {
   "cell_type": "code",
   "execution_count": 14,
   "metadata": {},
   "outputs": [
    {
     "name": "stdout",
     "output_type": "stream",
     "text": [
      "寶典.v3.台塑網.20210901.xlsx (1099, 3)\n",
      "寶典.v4.20211001.xlsx (1100, 3)\n",
      "寶典.v5.20211006.xlsx (1101, 3)\n",
      "寶典.v6.20211020.xlsx (1100, 3)\n"
     ]
    }
   ],
   "source": [
    "# 在excel先人工把刪除線改成not find 然後用python 去掉not find\n",
    "for i,fname in zip(range(len(dfs)),fs):\n",
    "    dfs[i] = dfs[i][dfs[i]['ITEMNM'] != 'not find']\n",
    "    print(fname,dfs[i].shape)\n",
    "    dfs[i].to_excel(root+fname)"
   ]
  },
  {
   "cell_type": "code",
   "execution_count": null,
   "metadata": {},
   "outputs": [],
   "source": []
  }
 ],
 "metadata": {
  "interpreter": {
   "hash": "2ccee5cc862501c1aad1cf19888c2a2eca4026b72d187db43d5e889cbdc6ee97"
  },
  "kernelspec": {
   "display_name": "Python 3.8.5 64-bit ('base': conda)",
   "name": "python3"
  },
  "language_info": {
   "codemirror_mode": {
    "name": "ipython",
    "version": 3
   },
   "file_extension": ".py",
   "mimetype": "text/x-python",
   "name": "python",
   "nbconvert_exporter": "python",
   "pygments_lexer": "ipython3",
   "version": "3.8.5"
  },
  "orig_nbformat": 4
 },
 "nbformat": 4,
 "nbformat_minor": 2
}
