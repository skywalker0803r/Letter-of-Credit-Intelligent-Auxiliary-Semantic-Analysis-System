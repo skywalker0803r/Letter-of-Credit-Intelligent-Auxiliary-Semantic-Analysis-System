{
 "cells": [
  {
   "cell_type": "code",
   "execution_count": 51,
   "source": [
    "import pandas as pd\r\n",
    "def split_x(x,n=20):\r\n",
    "    results = []\r\n",
    "    \r\n",
    "    # case1\r\n",
    "    if '+1)' in x:\r\n",
    "        for i in range(1,n):\r\n",
    "            text = x[x.find(f'+{i})'):x.find(f'+{i+1})')]\r\n",
    "            if len(text) != 0:\r\n",
    "                results.append(str(text))\r\n",
    "    \r\n",
    "    # case2\r\n",
    "    elif '1.' in x:\r\n",
    "        for i in range(1,n):\r\n",
    "            text = x[x.find(f'{i}.'):x.find(f'{i+1}.')]\r\n",
    "            if len(text) != 0:\r\n",
    "                results.append(str(text))\r\n",
    "    \r\n",
    "    return results"
   ],
   "outputs": [],
   "metadata": {}
  },
  {
   "cell_type": "code",
   "execution_count": 52,
   "source": [
    "df = pd.read_excel('../data/combined_excel.xlsx',index_col=0)[['46A','47A']]\r\n",
    "df"
   ],
   "outputs": [
    {
     "output_type": "execute_result",
     "data": {
      "text/plain": [
       "                                                    46A  \\\n",
       "3     1. SIGNED COMMERCIAL INVOICE IN 3 ORIGINALS AN...   \n",
       "4     1. SIGNED COMMERCIAL INVOICE IN ORIGINAL AND 4...   \n",
       "5     1.SIGNED COMMERCIAL INVOICE IN 03 ORIGINALS AN...   \n",
       "7     +SIGNED COMMERCIAL INVOICE IN TRIPLICATE INDIC...   \n",
       "9     +SIGNED COMMERCIAL INVOICE IN TRIPLICATE INDIC...   \n",
       "...                                                 ...   \n",
       "8403  1.SIGNED COMMERCIAL INVOICE IN 3 ORIGINALS IND...   \n",
       "8413  + COMMERCIAL INVOICE IN 3 ORIGINAL\\r\\n+ 2/3 SE...   \n",
       "8414  +SIGNED AND STAMPED COMMERCIAL INVOICE IN 3 OR...   \n",
       "8415  +SIGNED AND STAMPED COMMERCIAL INVOICE IN 3 OR...   \n",
       "8416  +SIGNED AND STAMPED COMMERCIAL INVOICE IN 3 OR...   \n",
       "\n",
       "                                                    47A  \n",
       "3     1. ALL DOCUMENTS MUST BE IN ENGLISH.2. ALL DOC...  \n",
       "4     (A) ALL DOCUMENTS AND DRAFTS (IF CALLED FOR UN...  \n",
       "5     +ALL DOCUMENTS MUST MADE IN ENGLISH.+ALL DOCUM...  \n",
       "7     ALL DRAFT(S) DRAWN HEREUNDER MUST BE MARKED ''...  \n",
       "9     ALL DRAFT(S) DRAWN HEREUNDER MUST BE MARKED ''...  \n",
       "...                                                 ...  \n",
       "8403  1. ALL DOCUMENTS MUST BE DATED, SIGNED AND ISS...  \n",
       "8413  + T.T.REIMBURSEMENT : PROHIBITED\\r\\n+ INSURANC...  \n",
       "8414  +KINDLY ASSIST US TO RELAY THIS CREDIT TO CITI...  \n",
       "8415  +KINDLY ASSIST US TO RELAY THIS CREDIT TO CITI...  \n",
       "8416  +KINDLY ASSIST US TO RELAY THIS CREDIT TO CITI...  \n",
       "\n",
       "[3643 rows x 2 columns]"
      ],
      "text/html": [
       "<div>\n",
       "<style scoped>\n",
       "    .dataframe tbody tr th:only-of-type {\n",
       "        vertical-align: middle;\n",
       "    }\n",
       "\n",
       "    .dataframe tbody tr th {\n",
       "        vertical-align: top;\n",
       "    }\n",
       "\n",
       "    .dataframe thead th {\n",
       "        text-align: right;\n",
       "    }\n",
       "</style>\n",
       "<table border=\"1\" class=\"dataframe\">\n",
       "  <thead>\n",
       "    <tr style=\"text-align: right;\">\n",
       "      <th></th>\n",
       "      <th>46A</th>\n",
       "      <th>47A</th>\n",
       "    </tr>\n",
       "  </thead>\n",
       "  <tbody>\n",
       "    <tr>\n",
       "      <th>3</th>\n",
       "      <td>1. SIGNED COMMERCIAL INVOICE IN 3 ORIGINALS AN...</td>\n",
       "      <td>1. ALL DOCUMENTS MUST BE IN ENGLISH.2. ALL DOC...</td>\n",
       "    </tr>\n",
       "    <tr>\n",
       "      <th>4</th>\n",
       "      <td>1. SIGNED COMMERCIAL INVOICE IN ORIGINAL AND 4...</td>\n",
       "      <td>(A) ALL DOCUMENTS AND DRAFTS (IF CALLED FOR UN...</td>\n",
       "    </tr>\n",
       "    <tr>\n",
       "      <th>5</th>\n",
       "      <td>1.SIGNED COMMERCIAL INVOICE IN 03 ORIGINALS AN...</td>\n",
       "      <td>+ALL DOCUMENTS MUST MADE IN ENGLISH.+ALL DOCUM...</td>\n",
       "    </tr>\n",
       "    <tr>\n",
       "      <th>7</th>\n",
       "      <td>+SIGNED COMMERCIAL INVOICE IN TRIPLICATE INDIC...</td>\n",
       "      <td>ALL DRAFT(S) DRAWN HEREUNDER MUST BE MARKED ''...</td>\n",
       "    </tr>\n",
       "    <tr>\n",
       "      <th>9</th>\n",
       "      <td>+SIGNED COMMERCIAL INVOICE IN TRIPLICATE INDIC...</td>\n",
       "      <td>ALL DRAFT(S) DRAWN HEREUNDER MUST BE MARKED ''...</td>\n",
       "    </tr>\n",
       "    <tr>\n",
       "      <th>...</th>\n",
       "      <td>...</td>\n",
       "      <td>...</td>\n",
       "    </tr>\n",
       "    <tr>\n",
       "      <th>8403</th>\n",
       "      <td>1.SIGNED COMMERCIAL INVOICE IN 3 ORIGINALS IND...</td>\n",
       "      <td>1. ALL DOCUMENTS MUST BE DATED, SIGNED AND ISS...</td>\n",
       "    </tr>\n",
       "    <tr>\n",
       "      <th>8413</th>\n",
       "      <td>+ COMMERCIAL INVOICE IN 3 ORIGINAL\\r\\n+ 2/3 SE...</td>\n",
       "      <td>+ T.T.REIMBURSEMENT : PROHIBITED\\r\\n+ INSURANC...</td>\n",
       "    </tr>\n",
       "    <tr>\n",
       "      <th>8414</th>\n",
       "      <td>+SIGNED AND STAMPED COMMERCIAL INVOICE IN 3 OR...</td>\n",
       "      <td>+KINDLY ASSIST US TO RELAY THIS CREDIT TO CITI...</td>\n",
       "    </tr>\n",
       "    <tr>\n",
       "      <th>8415</th>\n",
       "      <td>+SIGNED AND STAMPED COMMERCIAL INVOICE IN 3 OR...</td>\n",
       "      <td>+KINDLY ASSIST US TO RELAY THIS CREDIT TO CITI...</td>\n",
       "    </tr>\n",
       "    <tr>\n",
       "      <th>8416</th>\n",
       "      <td>+SIGNED AND STAMPED COMMERCIAL INVOICE IN 3 OR...</td>\n",
       "      <td>+KINDLY ASSIST US TO RELAY THIS CREDIT TO CITI...</td>\n",
       "    </tr>\n",
       "  </tbody>\n",
       "</table>\n",
       "<p>3643 rows × 2 columns</p>\n",
       "</div>"
      ]
     },
     "metadata": {},
     "execution_count": 52
    }
   ],
   "metadata": {}
  },
  {
   "cell_type": "code",
   "execution_count": 53,
   "source": [
    "x = df['46A'].values[172]\r\n",
    "x"
   ],
   "outputs": [
    {
     "output_type": "execute_result",
     "data": {
      "text/plain": [
       "\"+1) SIGNED COMMERCIAL INVOICES IN TRIPLICATE CERTIFYING\\r\\nMERCHANDISE ARE OF TAIWAN ORIGIN INDICATING H.S. CODE NO.\\r\\n3903.3000 AND ALSO CERTIFY THAT GOODS SHIPPED ARE AS PER\\r\\nBENEFICIARY'S PROFORMA INVOICE NO. B2018 DATED: 29-JAN-2021 AND\\r\\nAPPLICANT'S PURCHASE ORDER NO.TCL-L-2021-02-13520 DATED:\\r\\n02-FEB-2021\\r\\n+2) FULL SET OF ORIGINAL CLEAN 'LADEN ON BOARD' MARINE BILL\\r\\nOF LADING MADE OUT OR ENDORSED TO THE ORDER OF MCB BANK LIMITED,\\r\\nCORPORATE MAIN BOULEVARD GULBERG BRANCH, LAHORE-PAKISTAN\\r\\nSHOWING FREIGHT PREPAID BEARING THIS L/C NUMBER AND\\r\\nMARKED NOTIFY TO\\r\\nA) TREET CORPORATION LIMITED\\r\\n72-B, KOTLAKHPAT INDUSTRIAL AREA, LAHORE-PAKISTAN.\\r\\nB) TREET CORPORATION LIMITED\\r\\n6-B (A1) SAEED HAI ROAD MUHAMMAD ALI COOPERATIVE HOUSING\\r\\nSOCIETY, KARACHI.\\r\\nC) MCB BANK LIMITED\\r\\nCORPORATE MAIN BOULEVARD GULBERG BRANCH,\\r\\nLAHORE-PAKISTAN.\\r\\n+3) PACKING LIST IN TRIPLICATE.\\r\\n+4)ALL SHIPMENT DETAILS TO BE SENT WITHIN FIVE WORKING DAYS\\r\\nFROM SHIPMENT TO APPLICANT THROUGH EMAIL AT\\r\\n''IMPORT(AT)TREETONLINE.COM'' AND TO M/S IGI INSURANCE LIMITED,\\r\\n1ST FLOOR, 5-F.C.C. SYED MARATIB ALI ROAD, GULBERG, LAHORE,\\r\\nPAKISTAN THROUGH E-MAIL AT ''INSURANCE.LAHORE(AT)IGI.COM.PK''\\r\\nSHOWING POLICY NO. 2020/06/LHRMIMDO02070 DATED: 01-07-2020 AND\\r\\nSHOWING PORT OF LOADING, PORT OF DISCHARGE, VESSEL NAME,\\r\\nB/L NO., INVOICE VALUE, DATE OF SHIPMENT AND COMMODITY. SUCH\\r\\nCOPIES OF SHIPMENT ADVICES MUST BE PRESENTED WITH THE ORIGINAL\\r\\nDOCUMENTS.\\r\\n+5)CERTIFICATE FROM SHIPPING COMPANY OR THEIR AGENT\\r\\nCERTIFYING THAT SHIPMENT/TRANSHIPMENT HAS NOT BEEN EFFECTED\\r\\nTHROUGH A VESSEL CARRYING A FLAG FROM A COUNTRY BELLIGERENT\\r\\nTO THE STATE OF PAKISTAN AND/OR WHICH HAS NO DIPLOMATIC\\r\\nRELATIONSHIP WITH PAKISTAN AND VESSEL IS COMPLYING\\r\\nINSTITUTE CLASSIFICATION CLAUSE.\\r\\n+6)A CERTIFICATE FROM THE BENEFICIARY TO THE EFFECT THAT ONE SET\\r\\nOF INVOICE AND PACKING LIST HAS BEEN PLACED ON THE INNER SIDE\\r\\nTHE DOOR OF EACH CONTAINER IN CASE OF FCL CARGO OR ATTACHED TO\\r\\nTHE GOODS OR PACKAGES AT AN OBVIOUS PLACE IN CASE OF LCL CARGO.\\r\\n+7) BENEFICIARY CERTIFICATE REQUIRED CONFIRMTING THAT ONE SET OF\\r\\nNON NEGOTIABLE DOCUMENTS (INCLUDING SHIPMENT INVOICE, PACKING\\r\\nLIST, COPY OF B/L) HAS BEEN SENT DIRECTLY TO APPLICANT\\r\\nBY E-MAIL AT ''TAIMOOR.SHEIKH(AT)TREETONLINE.COM'' . COPY OF\\r\\nE-MAIL SENT MEASSAGE COPIES MUST BE PRESENTED ALONG WITH\\r\\nCERTIFICATE.\""
      ]
     },
     "metadata": {},
     "execution_count": 53
    }
   ],
   "metadata": {}
  },
  {
   "cell_type": "code",
   "execution_count": 54,
   "source": [
    "for i in split_x(x):\r\n",
    "    print(i)\r\n",
    "    print('-----------')"
   ],
   "outputs": [
    {
     "output_type": "stream",
     "name": "stdout",
     "text": [
      "+1) SIGNED COMMERCIAL INVOICES IN TRIPLICATE CERTIFYING\n",
      "MERCHANDISE ARE OF TAIWAN ORIGIN INDICATING H.S. CODE NO.\n",
      "3903.3000 AND ALSO CERTIFY THAT GOODS SHIPPED ARE AS PER\n",
      "BENEFICIARY'S PROFORMA INVOICE NO. B2018 DATED: 29-JAN-2021 AND\n",
      "APPLICANT'S PURCHASE ORDER NO.TCL-L-2021-02-13520 DATED:\n",
      "02-FEB-2021\n",
      "\n",
      "-----------\n",
      "+2) FULL SET OF ORIGINAL CLEAN 'LADEN ON BOARD' MARINE BILL\n",
      "OF LADING MADE OUT OR ENDORSED TO THE ORDER OF MCB BANK LIMITED,\n",
      "CORPORATE MAIN BOULEVARD GULBERG BRANCH, LAHORE-PAKISTAN\n",
      "SHOWING FREIGHT PREPAID BEARING THIS L/C NUMBER AND\n",
      "MARKED NOTIFY TO\n",
      "A) TREET CORPORATION LIMITED\n",
      "72-B, KOTLAKHPAT INDUSTRIAL AREA, LAHORE-PAKISTAN.\n",
      "B) TREET CORPORATION LIMITED\n",
      "6-B (A1) SAEED HAI ROAD MUHAMMAD ALI COOPERATIVE HOUSING\n",
      "SOCIETY, KARACHI.\n",
      "C) MCB BANK LIMITED\n",
      "CORPORATE MAIN BOULEVARD GULBERG BRANCH,\n",
      "LAHORE-PAKISTAN.\n",
      "\n",
      "-----------\n",
      "+3) PACKING LIST IN TRIPLICATE.\n",
      "\n",
      "-----------\n",
      "+4)ALL SHIPMENT DETAILS TO BE SENT WITHIN FIVE WORKING DAYS\n",
      "FROM SHIPMENT TO APPLICANT THROUGH EMAIL AT\n",
      "''IMPORT(AT)TREETONLINE.COM'' AND TO M/S IGI INSURANCE LIMITED,\n",
      "1ST FLOOR, 5-F.C.C. SYED MARATIB ALI ROAD, GULBERG, LAHORE,\n",
      "PAKISTAN THROUGH E-MAIL AT ''INSURANCE.LAHORE(AT)IGI.COM.PK''\n",
      "SHOWING POLICY NO. 2020/06/LHRMIMDO02070 DATED: 01-07-2020 AND\n",
      "SHOWING PORT OF LOADING, PORT OF DISCHARGE, VESSEL NAME,\n",
      "B/L NO., INVOICE VALUE, DATE OF SHIPMENT AND COMMODITY. SUCH\n",
      "COPIES OF SHIPMENT ADVICES MUST BE PRESENTED WITH THE ORIGINAL\n",
      "DOCUMENTS.\n",
      "\n",
      "-----------\n",
      "+5)CERTIFICATE FROM SHIPPING COMPANY OR THEIR AGENT\n",
      "CERTIFYING THAT SHIPMENT/TRANSHIPMENT HAS NOT BEEN EFFECTED\n",
      "THROUGH A VESSEL CARRYING A FLAG FROM A COUNTRY BELLIGERENT\n",
      "TO THE STATE OF PAKISTAN AND/OR WHICH HAS NO DIPLOMATIC\n",
      "RELATIONSHIP WITH PAKISTAN AND VESSEL IS COMPLYING\n",
      "INSTITUTE CLASSIFICATION CLAUSE.\n",
      "\n",
      "-----------\n",
      "+6)A CERTIFICATE FROM THE BENEFICIARY TO THE EFFECT THAT ONE SET\n",
      "OF INVOICE AND PACKING LIST HAS BEEN PLACED ON THE INNER SIDE\n",
      "THE DOOR OF EACH CONTAINER IN CASE OF FCL CARGO OR ATTACHED TO\n",
      "THE GOODS OR PACKAGES AT AN OBVIOUS PLACE IN CASE OF LCL CARGO.\n",
      "\n",
      "-----------\n",
      "+7) BENEFICIARY CERTIFICATE REQUIRED CONFIRMTING THAT ONE SET OF\n",
      "NON NEGOTIABLE DOCUMENTS (INCLUDING SHIPMENT INVOICE, PACKING\n",
      "LIST, COPY OF B/L) HAS BEEN SENT DIRECTLY TO APPLICANT\n",
      "BY E-MAIL AT ''TAIMOOR.SHEIKH(AT)TREETONLINE.COM'' . COPY OF\n",
      "E-MAIL SENT MEASSAGE COPIES MUST BE PRESENTED ALONG WITH\n",
      "CERTIFICATE\n",
      "-----------\n"
     ]
    }
   ],
   "metadata": {}
  },
  {
   "cell_type": "code",
   "execution_count": 55,
   "source": [
    "x = df['46A'].values[0]\r\n",
    "for i in split_x(x):\r\n",
    "    print(i)\r\n",
    "    print('-----------')"
   ],
   "outputs": [
    {
     "output_type": "stream",
     "name": "stdout",
     "text": [
      "1. SIGNED COMMERCIAL INVOICE IN 3 ORIGINALS AND 3 COPIES.\n",
      "-----------\n",
      "2. FULL SET OF SIGNED 'CLEAN ON BOARD' OCEAN BILLS OF LADINGMADE OUT TO ORDER OF LETTER OF CREDIT ISSUING BANK MARKEDFREIGHT PREPAID EVIDENCING SHIPMENT OF MERCHANDISE DESCRIBEDABOVE. BILLS OF LADING MUST STATE FULL NAME AND ADDRESS OF BOTHAPPLICANT AND ICICI BANK LTD, SHALIMAR TOWER, 31/54 M.G.MARG,HAZRATGANJ, LUCKNOW 226001,UTTAR PRADESH, INDIA AS PARTIES TOBE NOTIFIED. SHORT FORM,FREIGHT FORWARDERS AND LASHBILLS OF LADING ARE NOT ACCEPTABLE.14 DAYS FREE DETENTION TIMESHOULD BE GIVEN AT DISCHARGE PORT AND THE SAME SHOULD BEMENTIONED EITHER ON THE BILL OF LADING OR BY A SEPARATECERTIFICATE FROM SHIPPING COMPANY OR FROM THEIR AGENTS MUSTACCOMPANY ORIGINAL DOCUMENTS.\n",
      "-----------\n",
      "3.MARINE INSURANCE POLICY OR CERTIFICATE (1 ORIGINAL PLUS 1COPY) DATED NOT LATER THAN THE DATE OF BILLS OF LADING SIGNEDAND ISSUED BY INSURANCE COMPANY MADE TO ORDER AND BLANKENDORSED FOR 110 PCT OF CIF VALUE OF GOODS SUPPLIED, COVERINGINSTITUTE CARGO CLAUSE (A), INSTITUTE WAR CLAUSE (CARGO) ANDINSTITUTE STRIKES CLAUSE (CARGO), FROM BENEFICIARY'S WAREHOUSETO APPLICANT'S WAREHOUSE\n",
      "-----------\n",
      "4. PACKING LIST IN 3 ORIGINALS AND 2 COPIES.\n",
      "-----------\n",
      "5. CERTIFICATE OF ORIGIN ISSUED BY CHAMBER OF COMMERCE IN 1ORIGINAL AND 2 COPIES.\n",
      "-----------\n",
      "6. CERTIFICATE ISSUED BY THE CARRIER OR ITS AGENT CERTIFYINGTHAT THE CARRYING VESSEL IS NOT MORE THAN 25 YEARS OLD ANDSEAWORTHY IN 2 ORIGINALS AND 1 COPY.\n",
      "-----------\n",
      "7. CERTIFICATE OF ANALYSIS IN 2 ORIGINALS AND 2 COPIES\n",
      "-----------\n"
     ]
    }
   ],
   "metadata": {}
  },
  {
   "cell_type": "code",
   "execution_count": 56,
   "source": [
    "x = df['47A'].values[0]\r\n",
    "for i in split_x(x):\r\n",
    "    print(i)\r\n",
    "    print('-----------')"
   ],
   "outputs": [
    {
     "output_type": "stream",
     "name": "stdout",
     "text": [
      "1. ALL DOCUMENTS MUST BE IN ENGLISH.\n",
      "-----------\n",
      "2. ALL DOCUMENTS MUST MENTION OUR LC NUMBER AND DATE.\n",
      "-----------\n",
      "3. DISCREPANCY FEE OF USD 100/- PER SET OF DISCREPANT DOCUMENTSPRESENTED WILL BE DEDUCTED FROM BILL PROCEEDS .\n",
      "-----------\n",
      "4. NEGOTIATING BANK MUST SEND ORIGINAL SET OF DOCUMENTS IN ONELOT TO THE FOLLOWING ADDRESS BY COURIER:ICICI BANK LTD, SHALIMAR TOWER, 31/54 M.G.MARG, HAZRATGANJ,LUCKNOW 226001,UTTAR PRADESH, INDIA\n",
      "-----------\n",
      "5. NOTWITHSTANDING THE CONTENT OF ARTICLE 16 OF UCP 600 , INTHE EVENT THAT WE OBSERVE DISCREPANCIES IN DOCUMENTS WE SHALLPROVIDE OUR NOTICE OF REFUSAL IN ACCORDANCE THEREWITH AND IF WEELECT TO CONTACT THE APPLICANT FOR A WAIVER, AND WE RECEIVE ANACCEPTABLE WAIVER, WE SHALL EFFECT SETTLEMENT ACCORDING TO THELC TERMS AND THE DOCUMENTS WILL BE RELEASED WITHOUT FURTHERNOTICE TO YOU, UNLESS WE ARE IN RECEIPT OF YOUR INSTRUCTION TOTHE CONTRARY PRIOR TO SUCH RELEASE.\n",
      "-----------\n",
      "6. THIS LC WOULD BE SUBJECT TO US, EU, UN, INDIA AND/OR OTHERSANCTIONS (INCLUDING DUE TO USE OF A CORRESPONDENT BANK).CONSEQUENTLY, PROCESSING OF THIS LC WOULD BE SUBJECT TO THESAME.\n",
      "-----------\n",
      "7. BILL OF LADING MUST MENTION IEC NO. AAGFO9565N, HS CODE39041090, GST NO. 09AAGFO9565N1ZB, PAN NO. AAGF09565N, EMAILADDRESS: OJUSPETROCHEM(AT)GMAIL.COM\n",
      "-----------\n",
      "8. FIELD 48 PERIOD OF PRESENTATION WITHIN21 DAYS FROM THE DATE OFBILL OF LADING BUT WITHIN THEVALIDITY OF CREDIT\n",
      "-----------\n",
      "9. TYPOGRAPHICAL ERRORS AND MINOR SPELLING MISTAKE AS PRESENTEDBY THE BENEFICIARY ACCEPTABLE EXCEPT FOR ERRORS IN PRICE,AMOUNT, QUANTITY, GOODS DESCRIPTION AND DUE DATE.\n",
      "-----------\n",
      "10.THIRD PARTY DOCUMENT ACCEPTABLE EXCEPT DRAFT AND INVOICE.\n",
      "-----------\n",
      "11.PHOTOCOPIES IN LIEU OF COPIES SHALL BE ACCEPTABLE\n",
      "-----------\n"
     ]
    }
   ],
   "metadata": {}
  },
  {
   "cell_type": "code",
   "execution_count": 57,
   "source": [
    "x = df['46A'].values[5]\r\n",
    "x"
   ],
   "outputs": [
    {
     "output_type": "execute_result",
     "data": {
      "text/plain": [
       "'+1.SIGNED COMMERCIAL INVOICE IN 3 ORIGINAL (S) INDICATINGTHIS L/C NO. AND CONTRACT NO.2.PACKING LIST/WEIGHT MEMO IN 3 ORIGINAL(S) INDICATINGQUANTITY/GROSS AND NET WEIGHTS OF EACH PACKAGE AND PACKINGCONDITIONS AS CALLED FOR BY THE L/C.3.CERTIFICATE OF WOOD PACKING MATERIAL OR CERTIFICATE OF NON-WOODPACKING MATERIAL IN 2 ORIGINALS ISSUED BY BENEFICIARY.4.BL REQUEST AS BELOWFOR ITEM 1:FULL (3/3) SET OF ORIGINAL(S) OF CLEAN SHIPPED ON BOARD OCEANBILL OF LADING MADE OUT TO ORDER OFVIETINBANK BA DINH BRANCH,MARKED FREIGHT PREPAID, NOTIFY PLASTICCHEMICALS JOINT STOCK COMPANY (PLASCHEM). ADD: NO. 562 NGUYEN VANCU STR., LONG BIEN DIST,HA NOI, VIETNAM,BL SHOW HSCODE:3901,SHOWING THE NAME, ADDRESS AND TELEPHONE NO. OF THEAGENT OF SHIPPING LINE IN VIETNAM, BL NOT INDICATING THIS LC NO.,CONTRACT NO., UNIT PRICE AND PRICE TERM.FOR ITEM 2: FULL (3/3) SET OF ORIGINAL(S) OF CLEAN SHIPPED ONBOARD OCEAN BILL OF LADING MADE OUT TO ORDER AND BLANK ENDORSED,MARKED FREIGHT PREPAID, NOTIFY HUAKANG PACKAGING TECHNOLOGYCO.,LTD. TRAPEANG MUL,CHEUNG KOU,PREY NOB,PREAH SIHANOUK,18101CAMBODIAN ATTN: WILSON TEL:096-833-0448 EMAIL:CASEY.LI@JX-HUAYUE.COM REGISTRATION NUMBER : 00046813,BL SHOW HSCODE:3901,SHOWING THE NAME, ADDRESS AND TELEPHONE NO. OF THEAGENT OF SHIPPING LINE IN DESTINATION, BL NOT INDICATING THIS LCNO., CONTRACT NO., UNIT PRICE AND PRICE TERM.5.CERTIFICATE OF ORIGIN ISSUED BY BENEFICIARY IN 2 ORIGINAL(S).6.INSURANCE POLICY OR CERTIFICATE IN DUPLICATE, BLANK ENDORSED,FOR 110% OF INVOICE VALUE COVERING INSTITUTE CARGO CLAUSES (A),INSTITUTE WAR CLAUSES AND INSTITUTE STRIKE CLAUSES SHOWING CLAIMSPAYABLE IN DESTINATION IN THE CURRENCY OF THE DRAFT.'"
      ]
     },
     "metadata": {},
     "execution_count": 57
    }
   ],
   "metadata": {}
  },
  {
   "cell_type": "code",
   "execution_count": 58,
   "source": [
    "for i in split_x(x):\r\n",
    "    print(i)"
   ],
   "outputs": [
    {
     "output_type": "stream",
     "name": "stdout",
     "text": [
      "1.SIGNED COMMERCIAL INVOICE IN 3 ORIGINAL (S) INDICATINGTHIS L/C NO. AND CONTRACT NO.\n",
      "2.PACKING LIST/WEIGHT MEMO IN 3 ORIGINAL(S) INDICATINGQUANTITY/GROSS AND NET WEIGHTS OF EACH PACKAGE AND PACKINGCONDITIONS AS CALLED FOR BY THE L/C.\n",
      "3.CERTIFICATE OF WOOD PACKING MATERIAL OR CERTIFICATE OF NON-WOODPACKING MATERIAL IN 2 ORIGINALS ISSUED BY BENEFICIARY.\n",
      "4.BL REQUEST AS BELOWFOR ITEM 1:FULL (3/3) SET OF ORIGINAL(S) OF CLEAN SHIPPED ON BOARD OCEANBILL OF LADING MADE OUT TO ORDER OFVIETINBANK BA DINH BRANCH,MARKED FREIGHT PREPAID, NOTIFY PLASTICCHEMICALS JOINT STOCK COMPANY (PLASCHEM). ADD: NO. 562 NGUYEN VANCU STR., LONG BIEN DIST,HA NOI, VIETNAM,BL SHOW HSCODE:3901,SHOWING THE NAME, ADDRESS AND TELEPHONE NO. OF THEAGENT OF SHIPPING LINE IN VIETNAM, BL NOT INDICATING THIS LC NO.,CONTRACT NO., UNIT PRICE AND PRICE TERM.FOR ITEM 2: FULL (3/3) SET OF ORIGINAL(S) OF CLEAN SHIPPED ONBOARD OCEAN BILL OF LADING MADE OUT TO ORDER AND BLANK ENDORSED,MARKED FREIGHT PREPAID, NOTIFY HUAKANG PACKAGING TECHNOLOGYCO.,LTD. TRAPEANG MUL,CHEUNG KOU,PREY NOB,PREAH SIHANOUK,18101CAMBODIAN ATTN: WILSON TEL:096-833-0448 EMAIL:CASEY.LI@JX-HUAYUE.COM REGISTRATION NUMBER : 00046813,BL SHOW HSCODE:3901,SHOWING THE NAME, ADDRESS AND TELEPHONE NO. OF THEAGENT OF SHIPPING LINE IN DESTINATION, BL NOT INDICATING THIS LCNO., CONTRACT NO., UNIT PRICE AND PRICE TERM.\n",
      "5.CERTIFICATE OF ORIGIN ISSUED BY BENEFICIARY IN 2 ORIGINAL(S).\n",
      "6.INSURANCE POLICY OR CERTIFICATE IN DUPLICATE, BLANK ENDORSED,FOR 110% OF INVOICE VALUE COVERING INSTITUTE CARGO CLAUSES (A),INSTITUTE WAR CLAUSES AND INSTITUTE STRIKE CLAUSES SHOWING CLAIMSPAYABLE IN DESTINATION IN THE CURRENCY OF THE DRAFT\n"
     ]
    }
   ],
   "metadata": {}
  },
  {
   "cell_type": "code",
   "execution_count": null,
   "source": [],
   "outputs": [],
   "metadata": {}
  }
 ],
 "metadata": {
  "orig_nbformat": 4,
  "language_info": {
   "name": "python",
   "version": "3.8.5",
   "mimetype": "text/x-python",
   "codemirror_mode": {
    "name": "ipython",
    "version": 3
   },
   "pygments_lexer": "ipython3",
   "nbconvert_exporter": "python",
   "file_extension": ".py"
  },
  "kernelspec": {
   "name": "python3",
   "display_name": "Python 3.8.5 64-bit ('base': conda)"
  },
  "interpreter": {
   "hash": "2ccee5cc862501c1aad1cf19888c2a2eca4026b72d187db43d5e889cbdc6ee97"
  }
 },
 "nbformat": 4,
 "nbformat_minor": 2
}