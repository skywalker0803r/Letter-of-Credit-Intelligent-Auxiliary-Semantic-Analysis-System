{
 "cells": [
  {
   "cell_type": "code",
   "execution_count": 1,
   "metadata": {},
   "outputs": [
    {
     "name": "stdout",
     "output_type": "stream",
     "text": [
      "(3731, 8)\n"
     ]
    },
    {
     "data": {
      "text/html": [
       "<div>\n",
       "<style scoped>\n",
       "    .dataframe tbody tr th:only-of-type {\n",
       "        vertical-align: middle;\n",
       "    }\n",
       "\n",
       "    .dataframe tbody tr th {\n",
       "        vertical-align: top;\n",
       "    }\n",
       "\n",
       "    .dataframe thead th {\n",
       "        text-align: right;\n",
       "    }\n",
       "</style>\n",
       "<table border=\"1\" class=\"dataframe\">\n",
       "  <thead>\n",
       "    <tr style=\"text-align: right;\">\n",
       "      <th></th>\n",
       "      <th>46A</th>\n",
       "      <th>47A</th>\n",
       "      <th>78</th>\n",
       "      <th>LCBK</th>\n",
       "      <th>string_X_train</th>\n",
       "      <th>Y_label</th>\n",
       "      <th>string_Y_1</th>\n",
       "      <th>string_Y_2</th>\n",
       "    </tr>\n",
       "  </thead>\n",
       "  <tbody>\n",
       "    <tr>\n",
       "      <th>16</th>\n",
       "      <td>+SIGNED COMMERCIAL INVOICE IN 3 ORIGINALS INDI...</td>\n",
       "      <td>+APPLICANT'S ADDRESS:19F, HAICANG BUSINESS BUI...</td>\n",
       "      <td>+TO NEGOTIATING BANK ONLY : PLEASE FORWARD ALL...</td>\n",
       "      <td>CTBC BANK CO., LTD</td>\n",
       "      <td>SIGNED COMMERCIAL INVOICE IN 3 ORIGINALS INDI...</td>\n",
       "      <td>CTBC BANK CO LTD</td>\n",
       "      <td>1860</td>\n",
       "      <td>1876</td>\n",
       "    </tr>\n",
       "    <tr>\n",
       "      <th>18</th>\n",
       "      <td>+ SIGNED COMMERCIAL INVOICE IN TRIPLICATE+ FUL...</td>\n",
       "      <td>+A DISCREPANCY FEE OF USD80.00(OR EQUIVALENT) ...</td>\n",
       "      <td>+ALL DOCUMENTS MUST BE FORWARDED DIRECTLY TO O...</td>\n",
       "      <td>INDUSTRIAL BANK OF KOREA, SEOUL</td>\n",
       "      <td>SIGNED COMMERCIAL INVOICE IN TRIPLICATE FULL ...</td>\n",
       "      <td>INDUSTRIAL BANK OF KOREA SEOUL</td>\n",
       "      <td>874</td>\n",
       "      <td>904</td>\n",
       "    </tr>\n",
       "    <tr>\n",
       "      <th>19</th>\n",
       "      <td>+ SIGNED COMMERCIAL INVOICE IN TRIPLICATE+ FUL...</td>\n",
       "      <td>+A DISCREPANCY FEE OF USD80.00(OR EQUIVALENT) ...</td>\n",
       "      <td>+ALL DOCUMENTS MUST BE FORWARDED DIRECTLY TO O...</td>\n",
       "      <td>INDUSTRIAL BANK OF KOREA, SEOUL</td>\n",
       "      <td>SIGNED COMMERCIAL INVOICE IN TRIPLICATE FULL ...</td>\n",
       "      <td>INDUSTRIAL BANK OF KOREA SEOUL</td>\n",
       "      <td>874</td>\n",
       "      <td>904</td>\n",
       "    </tr>\n",
       "    <tr>\n",
       "      <th>22</th>\n",
       "      <td>+SIGNED COMMERCIAL INVOICE IN 2 ORIGINALINDICA...</td>\n",
       "      <td>+THIS L/C IS PAYABLE 30 DAYS AFTER B/L DATE (B...</td>\n",
       "      <td>+TO NEGOTIATING BANK ONLY: PLEASE FORWARD ALL ...</td>\n",
       "      <td>CTBC BANK CO., LTD.</td>\n",
       "      <td>SIGNED COMMERCIAL INVOICE IN 2 ORIGINALINDICA...</td>\n",
       "      <td>CTBC BANK CO LTD</td>\n",
       "      <td>4924</td>\n",
       "      <td>4940</td>\n",
       "    </tr>\n",
       "    <tr>\n",
       "      <th>23</th>\n",
       "      <td>+SIGNED COMMERCIAL INVOICE IN 2 ORIGINALINDICA...</td>\n",
       "      <td>+THIS L/C IS PAYABLE 30 DAYS AFTER B/L DATE (B...</td>\n",
       "      <td>+TO NEGOTIATING BANK ONLY: PLEASE FORWARD ALL ...</td>\n",
       "      <td>CTBC BANK CO., LTD.</td>\n",
       "      <td>SIGNED COMMERCIAL INVOICE IN 2 ORIGINALINDICA...</td>\n",
       "      <td>CTBC BANK CO LTD</td>\n",
       "      <td>4924</td>\n",
       "      <td>4940</td>\n",
       "    </tr>\n",
       "  </tbody>\n",
       "</table>\n",
       "</div>"
      ],
      "text/plain": [
       "                                                  46A  \\\n",
       "16  +SIGNED COMMERCIAL INVOICE IN 3 ORIGINALS INDI...   \n",
       "18  + SIGNED COMMERCIAL INVOICE IN TRIPLICATE+ FUL...   \n",
       "19  + SIGNED COMMERCIAL INVOICE IN TRIPLICATE+ FUL...   \n",
       "22  +SIGNED COMMERCIAL INVOICE IN 2 ORIGINALINDICA...   \n",
       "23  +SIGNED COMMERCIAL INVOICE IN 2 ORIGINALINDICA...   \n",
       "\n",
       "                                                  47A  \\\n",
       "16  +APPLICANT'S ADDRESS:19F, HAICANG BUSINESS BUI...   \n",
       "18  +A DISCREPANCY FEE OF USD80.00(OR EQUIVALENT) ...   \n",
       "19  +A DISCREPANCY FEE OF USD80.00(OR EQUIVALENT) ...   \n",
       "22  +THIS L/C IS PAYABLE 30 DAYS AFTER B/L DATE (B...   \n",
       "23  +THIS L/C IS PAYABLE 30 DAYS AFTER B/L DATE (B...   \n",
       "\n",
       "                                                   78  \\\n",
       "16  +TO NEGOTIATING BANK ONLY : PLEASE FORWARD ALL...   \n",
       "18  +ALL DOCUMENTS MUST BE FORWARDED DIRECTLY TO O...   \n",
       "19  +ALL DOCUMENTS MUST BE FORWARDED DIRECTLY TO O...   \n",
       "22  +TO NEGOTIATING BANK ONLY: PLEASE FORWARD ALL ...   \n",
       "23  +TO NEGOTIATING BANK ONLY: PLEASE FORWARD ALL ...   \n",
       "\n",
       "                               LCBK  \\\n",
       "16               CTBC BANK CO., LTD   \n",
       "18  INDUSTRIAL BANK OF KOREA, SEOUL   \n",
       "19  INDUSTRIAL BANK OF KOREA, SEOUL   \n",
       "22              CTBC BANK CO., LTD.   \n",
       "23              CTBC BANK CO., LTD.   \n",
       "\n",
       "                                       string_X_train  \\\n",
       "16   SIGNED COMMERCIAL INVOICE IN 3 ORIGINALS INDI...   \n",
       "18   SIGNED COMMERCIAL INVOICE IN TRIPLICATE FULL ...   \n",
       "19   SIGNED COMMERCIAL INVOICE IN TRIPLICATE FULL ...   \n",
       "22   SIGNED COMMERCIAL INVOICE IN 2 ORIGINALINDICA...   \n",
       "23   SIGNED COMMERCIAL INVOICE IN 2 ORIGINALINDICA...   \n",
       "\n",
       "                           Y_label  string_Y_1  string_Y_2  \n",
       "16                CTBC BANK CO LTD        1860        1876  \n",
       "18  INDUSTRIAL BANK OF KOREA SEOUL         874         904  \n",
       "19  INDUSTRIAL BANK OF KOREA SEOUL         874         904  \n",
       "22                CTBC BANK CO LTD        4924        4940  \n",
       "23                CTBC BANK CO LTD        4924        4940  "
      ]
     },
     "metadata": {},
     "output_type": "display_data"
    },
    {
     "name": "stdout",
     "output_type": "stream",
     "text": [
      "(2984, 8)\n",
      "(747, 8)\n"
     ]
    },
    {
     "name": "stderr",
     "output_type": "stream",
     "text": [
      "Global seed set to 42\n",
      "Some weights of the model checkpoint at distilbert-base-uncased were not used when initializing DistilBertForQuestionAnswering: ['vocab_layer_norm.weight', 'vocab_projector.bias', 'vocab_projector.weight', 'vocab_layer_norm.bias', 'vocab_transform.weight', 'vocab_transform.bias']\n",
      "- This IS expected if you are initializing DistilBertForQuestionAnswering from the checkpoint of a model trained on another task or with another architecture (e.g. initializing a BertForSequenceClassification model from a BertForPreTraining model).\n",
      "- This IS NOT expected if you are initializing DistilBertForQuestionAnswering from the checkpoint of a model that you expect to be exactly identical (initializing a BertForSequenceClassification model from a BertForSequenceClassification model).\n",
      "Some weights of DistilBertForQuestionAnswering were not initialized from the model checkpoint at distilbert-base-uncased and are newly initialized: ['qa_outputs.bias', 'qa_outputs.weight']\n",
      "You should probably TRAIN this model on a down-stream task to be able to use it for predictions and inference.\n"
     ]
    },
    {
     "data": {
      "application/vnd.jupyter.widget-view+json": {
       "model_id": "5b94aac5d3874f97955b813f4f51985e",
       "version_major": 2,
       "version_minor": 0
      },
      "text/plain": [
       "HBox(children=(HTML(value=''), FloatProgress(value=0.0, max=5.0), HTML(value='')))"
      ]
     },
     "metadata": {},
     "output_type": "display_data"
    },
    {
     "data": {
      "application/vnd.jupyter.widget-view+json": {
       "model_id": "a67d875bcb6c4303ab54ca858c0727c5",
       "version_major": 2,
       "version_minor": 0
      },
      "text/plain": [
       "HBox(children=(HTML(value=''), FloatProgress(value=0.0, max=373.0), HTML(value='')))"
      ]
     },
     "metadata": {},
     "output_type": "display_data"
    },
    {
     "name": "stdout",
     "output_type": "stream",
     "text": [
      "\n"
     ]
    },
    {
     "data": {
      "application/vnd.jupyter.widget-view+json": {
       "model_id": "0434ec3825be4a5a801ad183e5a5c645",
       "version_major": 2,
       "version_minor": 0
      },
      "text/plain": [
       "HBox(children=(HTML(value=''), FloatProgress(value=0.0, max=94.0), HTML(value='')))"
      ]
     },
     "metadata": {},
     "output_type": "display_data"
    },
    {
     "name": "stdout",
     "output_type": "stream",
     "text": [
      "\n",
      "epoch:0 train_loss:0.7983141725617511 val_loss:0.34928780666963066\n",
      "save best_model now_val_best_loss is:0.34928780666963066\n"
     ]
    },
    {
     "data": {
      "application/vnd.jupyter.widget-view+json": {
       "model_id": "448d4c0155a247a3af38117856c28eaa",
       "version_major": 2,
       "version_minor": 0
      },
      "text/plain": [
       "HBox(children=(HTML(value=''), FloatProgress(value=0.0, max=373.0), HTML(value='')))"
      ]
     },
     "metadata": {},
     "output_type": "display_data"
    },
    {
     "name": "stdout",
     "output_type": "stream",
     "text": [
      "\n"
     ]
    },
    {
     "data": {
      "application/vnd.jupyter.widget-view+json": {
       "model_id": "d068dcea098342d99abba0ed43db5e18",
       "version_major": 2,
       "version_minor": 0
      },
      "text/plain": [
       "HBox(children=(HTML(value=''), FloatProgress(value=0.0, max=94.0), HTML(value='')))"
      ]
     },
     "metadata": {},
     "output_type": "display_data"
    },
    {
     "name": "stdout",
     "output_type": "stream",
     "text": [
      "\n",
      "epoch:1 train_loss:0.35152327765270025 val_loss:0.265665465375028\n",
      "save best_model now_val_best_loss is:0.265665465375028\n"
     ]
    },
    {
     "data": {
      "application/vnd.jupyter.widget-view+json": {
       "model_id": "6d84483a7dc04addb1c05fde69fac247",
       "version_major": 2,
       "version_minor": 0
      },
      "text/plain": [
       "HBox(children=(HTML(value=''), FloatProgress(value=0.0, max=373.0), HTML(value='')))"
      ]
     },
     "metadata": {},
     "output_type": "display_data"
    },
    {
     "name": "stdout",
     "output_type": "stream",
     "text": [
      "\n"
     ]
    },
    {
     "data": {
      "application/vnd.jupyter.widget-view+json": {
       "model_id": "139e144ab836410eb3fd883c57704ae2",
       "version_major": 2,
       "version_minor": 0
      },
      "text/plain": [
       "HBox(children=(HTML(value=''), FloatProgress(value=0.0, max=94.0), HTML(value='')))"
      ]
     },
     "metadata": {},
     "output_type": "display_data"
    },
    {
     "name": "stdout",
     "output_type": "stream",
     "text": [
      "\n",
      "epoch:2 train_loss:0.26152961434166183 val_loss:0.23397944604737625\n",
      "save best_model now_val_best_loss is:0.23397944604737625\n"
     ]
    },
    {
     "data": {
      "application/vnd.jupyter.widget-view+json": {
       "model_id": "fc3457629251495eb1bc0d145e406a18",
       "version_major": 2,
       "version_minor": 0
      },
      "text/plain": [
       "HBox(children=(HTML(value=''), FloatProgress(value=0.0, max=373.0), HTML(value='')))"
      ]
     },
     "metadata": {},
     "output_type": "display_data"
    },
    {
     "name": "stdout",
     "output_type": "stream",
     "text": [
      "\n"
     ]
    },
    {
     "data": {
      "application/vnd.jupyter.widget-view+json": {
       "model_id": "84257a7101c24a0eafc2c26ea7bcec1f",
       "version_major": 2,
       "version_minor": 0
      },
      "text/plain": [
       "HBox(children=(HTML(value=''), FloatProgress(value=0.0, max=94.0), HTML(value='')))"
      ]
     },
     "metadata": {},
     "output_type": "display_data"
    },
    {
     "name": "stdout",
     "output_type": "stream",
     "text": [
      "\n",
      "epoch:3 train_loss:0.15785441367493588 val_loss:0.2610001520075965\n"
     ]
    },
    {
     "data": {
      "application/vnd.jupyter.widget-view+json": {
       "model_id": "e972ef2f9e814c629e327c0e68458ca5",
       "version_major": 2,
       "version_minor": 0
      },
      "text/plain": [
       "HBox(children=(HTML(value=''), FloatProgress(value=0.0, max=373.0), HTML(value='')))"
      ]
     },
     "metadata": {},
     "output_type": "display_data"
    },
    {
     "name": "stdout",
     "output_type": "stream",
     "text": [
      "\n"
     ]
    },
    {
     "data": {
      "application/vnd.jupyter.widget-view+json": {
       "model_id": "790712d8f3ed488c8645d664835e986a",
       "version_major": 2,
       "version_minor": 0
      },
      "text/plain": [
       "HBox(children=(HTML(value=''), FloatProgress(value=0.0, max=94.0), HTML(value='')))"
      ]
     },
     "metadata": {},
     "output_type": "display_data"
    },
    {
     "name": "stdout",
     "output_type": "stream",
     "text": [
      "\n",
      "epoch:4 train_loss:0.2129169247660508 val_loss:0.2609356690738951\n",
      "\n"
     ]
    },
    {
     "data": {
      "image/png": "[encoded data removed]",
      "text/plain": [
       "<Figure size 432x288 with 1 Axes>"
      ]
     },
     "metadata": {
      "needs_background": "light"
     },
     "output_type": "display_data"
    },
    {
     "name": "stdout",
     "output_type": "stream",
     "text": [
      "best_model is saved!\n"
     ]
    },
    {
     "name": "stderr",
     "output_type": "stream",
     "text": [
      "Some weights of the model checkpoint at distilbert-base-uncased were not used when initializing DistilBertForQuestionAnswering: ['vocab_layer_norm.weight', 'vocab_projector.bias', 'vocab_projector.weight', 'vocab_layer_norm.bias', 'vocab_transform.weight', 'vocab_transform.bias']\n",
      "- This IS expected if you are initializing DistilBertForQuestionAnswering from the checkpoint of a model trained on another task or with another architecture (e.g. initializing a BertForSequenceClassification model from a BertForPreTraining model).\n",
      "- This IS NOT expected if you are initializing DistilBertForQuestionAnswering from the checkpoint of a model that you expect to be exactly identical (initializing a BertForSequenceClassification model from a BertForSequenceClassification model).\n",
      "Some weights of DistilBertForQuestionAnswering were not initialized from the model checkpoint at distilbert-base-uncased and are newly initialized: ['qa_outputs.bias', 'qa_outputs.weight']\n",
      "You should probably TRAIN this model on a down-stream task to be able to use it for predictions and inference.\n"
     ]
    },
    {
     "data": {
      "application/vnd.jupyter.widget-view+json": {
       "model_id": "d1de7721718644b88104faa653eda109",
       "version_major": 2,
       "version_minor": 0
      },
      "text/plain": [
       "HBox(children=(HTML(value=''), FloatProgress(value=0.0, max=747.0), HTML(value='')))"
      ]
     },
     "metadata": {},
     "output_type": "display_data"
    },
    {
     "name": "stdout",
     "output_type": "stream",
     "text": [
      "\n"
     ]
    },
    {
     "data": {
      "text/html": [
       "<div>\n",
       "<style scoped>\n",
       "    .dataframe tbody tr th:only-of-type {\n",
       "        vertical-align: middle;\n",
       "    }\n",
       "\n",
       "    .dataframe tbody tr th {\n",
       "        vertical-align: top;\n",
       "    }\n",
       "\n",
       "    .dataframe thead th {\n",
       "        text-align: right;\n",
       "    }\n",
       "</style>\n",
       "<table border=\"1\" class=\"dataframe\">\n",
       "  <thead>\n",
       "    <tr style=\"text-align: right;\">\n",
       "      <th></th>\n",
       "      <th>jaccard</th>\n",
       "      <th>acc(1.0)</th>\n",
       "      <th>acc(0.75)</th>\n",
       "      <th>acc(0.5)</th>\n",
       "      <th>acc(0.25)</th>\n",
       "    </tr>\n",
       "  </thead>\n",
       "  <tbody>\n",
       "    <tr>\n",
       "      <th>0</th>\n",
       "      <td>0.836859</td>\n",
       "      <td>0.686747</td>\n",
       "      <td>0.716198</td>\n",
       "      <td>0.894244</td>\n",
       "      <td>0.950469</td>\n",
       "    </tr>\n",
       "  </tbody>\n",
       "</table>\n",
       "</div>"
      ],
      "text/plain": [
       "    jaccard  acc(1.0)  acc(0.75)  acc(0.5)  acc(0.25)\n",
       "0  0.836859  0.686747   0.716198  0.894244   0.950469"
      ]
     },
     "metadata": {},
     "output_type": "display_data"
    },
    {
     "data": {
      "text/html": [
       "<div>\n",
       "<style scoped>\n",
       "    .dataframe tbody tr th:only-of-type {\n",
       "        vertical-align: middle;\n",
       "    }\n",
       "\n",
       "    .dataframe tbody tr th {\n",
       "        vertical-align: top;\n",
       "    }\n",
       "\n",
       "    .dataframe thead th {\n",
       "        text-align: right;\n",
       "    }\n",
       "</style>\n",
       "<table border=\"1\" class=\"dataframe\">\n",
       "  <thead>\n",
       "    <tr style=\"text-align: right;\">\n",
       "      <th></th>\n",
       "      <th>Y_label</th>\n",
       "      <th>predict</th>\n",
       "      <th>是否全對</th>\n",
       "    </tr>\n",
       "  </thead>\n",
       "  <tbody>\n",
       "    <tr>\n",
       "      <th>7209</th>\n",
       "      <td>KEB HANA BANK</td>\n",
       "      <td>KEB HANA BANK</td>\n",
       "      <td>Yes</td>\n",
       "    </tr>\n",
       "    <tr>\n",
       "      <th>19459</th>\n",
       "      <td>CHINA CITIC BANK</td>\n",
       "      <td>SERVICECHINA CITIC BANK</td>\n",
       "      <td>No</td>\n",
       "    </tr>\n",
       "    <tr>\n",
       "      <th>7585</th>\n",
       "      <td>SHINHAN BANK</td>\n",
       "      <td>SHINHAN BANK</td>\n",
       "      <td>Yes</td>\n",
       "    </tr>\n",
       "    <tr>\n",
       "      <th>15330</th>\n",
       "      <td>MUFG BANK LTD</td>\n",
       "      <td>MUFG BANK LTD</td>\n",
       "      <td>Yes</td>\n",
       "    </tr>\n",
       "    <tr>\n",
       "      <th>1644</th>\n",
       "      <td>CTBC BANK CO LTD</td>\n",
       "      <td>CTBC BANK CO LTD</td>\n",
       "      <td>Yes</td>\n",
       "    </tr>\n",
       "    <tr>\n",
       "      <th>...</th>\n",
       "      <td>...</td>\n",
       "      <td>...</td>\n",
       "      <td>...</td>\n",
       "    </tr>\n",
       "    <tr>\n",
       "      <th>5404</th>\n",
       "      <td>NONGHYUP BANK</td>\n",
       "      <td>NONGHYUP BANK</td>\n",
       "      <td>Yes</td>\n",
       "    </tr>\n",
       "    <tr>\n",
       "      <th>15244</th>\n",
       "      <td>BANK OF BARODA</td>\n",
       "      <td>OFBANK OF BARODADUBAI</td>\n",
       "      <td>No</td>\n",
       "    </tr>\n",
       "    <tr>\n",
       "      <th>15834</th>\n",
       "      <td>INDUSTRIAL BANK OF KOREA SEOUL</td>\n",
       "      <td>INDUSTRIAL BANK OF KOREAMARKED</td>\n",
       "      <td>No</td>\n",
       "    </tr>\n",
       "    <tr>\n",
       "      <th>934</th>\n",
       "      <td>OCBC WING HANG BANK CHINA LIMITED</td>\n",
       "      <td>OCBC WING HANG BANK CHINA  LIMITED</td>\n",
       "      <td>No</td>\n",
       "    </tr>\n",
       "    <tr>\n",
       "      <th>5419</th>\n",
       "      <td>FUBON BANK HONG KONG LIMITED</td>\n",
       "      <td>FUBON BANK HONG KONG LIMITED</td>\n",
       "      <td>Yes</td>\n",
       "    </tr>\n",
       "  </tbody>\n",
       "</table>\n",
       "<p>747 rows × 3 columns</p>\n",
       "</div>"
      ],
      "text/plain": [
       "                                 Y_label                             predict  \\\n",
       "7209                       KEB HANA BANK                       KEB HANA BANK   \n",
       "19459                   CHINA CITIC BANK             SERVICECHINA CITIC BANK   \n",
       "7585                        SHINHAN BANK                        SHINHAN BANK   \n",
       "15330                      MUFG BANK LTD                       MUFG BANK LTD   \n",
       "1644                    CTBC BANK CO LTD                    CTBC BANK CO LTD   \n",
       "...                                  ...                                 ...   \n",
       "5404                       NONGHYUP BANK                       NONGHYUP BANK   \n",
       "15244                     BANK OF BARODA               OFBANK OF BARODADUBAI   \n",
       "15834     INDUSTRIAL BANK OF KOREA SEOUL      INDUSTRIAL BANK OF KOREAMARKED   \n",
       "934    OCBC WING HANG BANK CHINA LIMITED  OCBC WING HANG BANK CHINA  LIMITED   \n",
       "5419        FUBON BANK HONG KONG LIMITED        FUBON BANK HONG KONG LIMITED   \n",
       "\n",
       "      是否全對  \n",
       "7209   Yes  \n",
       "19459   No  \n",
       "7585   Yes  \n",
       "15330  Yes  \n",
       "1644   Yes  \n",
       "...    ...  \n",
       "5404   Yes  \n",
       "15244   No  \n",
       "15834   No  \n",
       "934     No  \n",
       "5419   Yes  \n",
       "\n",
       "[747 rows x 3 columns]"
      ]
     },
     "metadata": {},
     "output_type": "display_data"
    }
   ],
   "source": [
    "import pandas as pd\n",
    "import requests\n",
    "from sklearn.model_selection import train_test_split\n",
    "df = pd.read_csv('../data/preprocess_for_SQUAD_銀行.csv',index_col=0)\n",
    "print(df.shape)\n",
    "display(df.head())\n",
    "train_df, val_df = train_test_split(df, test_size=0.2, random_state=42)\n",
    "print(train_df.shape)\n",
    "print(val_df.shape)\n",
    "url = 'https://gist.githubusercontent.com/skywalker0803r/1e1d0d25999094bf8ec23dc143e02478/raw/0ac62d4a6efe4b7f9cc58ff8ff614aca7603fa25/bert_train_pipeline.py'\n",
    "exec(requests.get(url).text)\n",
    "res,table = bert_train_pipeline(train_df,val_df,\n",
    "                                qustion = 'What is the bank name?',\n",
    "                                model_path = '../models/Product_Data_SQuAD_model_銀行.pt',\n",
    "                                max_epochs = 5,\n",
    "                                )\n",
    "display(res)\n",
    "display(table)"
   ]
  },
  {
   "cell_type": "code",
   "execution_count": null,
   "metadata": {},
   "outputs": [],
   "source": []
  }
 ],
 "metadata": {
  "interpreter": {
   "hash": "2ccee5cc862501c1aad1cf19888c2a2eca4026b72d187db43d5e889cbdc6ee97"
  },
  "kernelspec": {
   "display_name": "Python 3.8.5 64-bit ('base': conda)",
   "name": "python3"
  },
  "language_info": {
   "codemirror_mode": {
    "name": "ipython",
    "version": 3
   },
   "file_extension": ".py",
   "mimetype": "text/x-python",
   "name": "python",
   "nbconvert_exporter": "python",
   "pygments_lexer": "ipython3",
   "version": "3.8.5"
  }
 },
 "nbformat": 4,
 "nbformat_minor": 2
}
