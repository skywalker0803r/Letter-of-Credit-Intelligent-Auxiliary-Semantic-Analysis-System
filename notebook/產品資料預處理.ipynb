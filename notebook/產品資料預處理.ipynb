{
 "cells": [
  {
   "cell_type": "code",
   "execution_count": 1,
   "source": [
    "import pandas as pd\r\n",
    "from tqdm import tqdm_notebook as tqdm\r\n",
    "import wordninja\r\n",
    "from wordninja import LanguageModel\r\n",
    "import re\r\n",
    "import numpy as np\r\n",
    "import gzip\r\n",
    "import shutil\r\n",
    "\r\n",
    "def preprocess(x):\r\n",
    "    x = re.sub('[\\u4e00-\\u9fa5]', '', x) # 1.去除中文\r\n",
    "    x = re.sub('[’!\"#$%&\\'()*+,/:;<=>?@[\\\\]^_`{|}~，。,.]', '', x) # 2.去除標點符號\r\n",
    "    x = x.replace('\\n', '').replace('\\r', '').replace('\\t', '') # 3.去除換行符號\r\n",
    "    x = str.strip(x) # 4.移除左右空白\r\n",
    "    return x\r\n",
    "\r\n",
    "# 資料讀取\r\n",
    "df = pd.read_excel('../data/combined_excel.xlsx',index_col=0).astype(str)[['45A','SPEC']]\r\n",
    "# 文本preprocess\r\n",
    "df['45A'] = df['45A'].apply(preprocess)\r\n",
    "df['SPEC'] = df['SPEC'].apply(preprocess)\r\n",
    "\r\n",
    "# 寶典集合(新增版)\r\n",
    "b1 = pd.read_excel('../data\\台塑企業_ 產品寶典20210303.xlsx').iloc[:,:5]\r\n",
    "b2 = pd.read_excel('../data\\寶典.v3.台塑網.20210901.xlsx').iloc[:,:5]\r\n",
    "b2.columns = b1.columns\r\n",
    "產品集合 = set(b1.append(b2)['品名'].values.tolist())\r\n",
    "\r\n",
    "def Collection_method(df,產品集合):\r\n",
    "    labels = {}\r\n",
    "    for i in tqdm(df.index):\r\n",
    "        products = []\r\n",
    "        for p in 產品集合:# 在寶典中搜索\r\n",
    "            if p in df.loc[i,'45A']: \r\n",
    "                products.append(p)\r\n",
    "        try:\r\n",
    "            labels[i] = max(products,key=len) # 選最長的產品\r\n",
    "        except:\r\n",
    "            labels[i] = np.nan # 找不到就算了\r\n",
    "    predict = pd.DataFrame(index=labels.keys(),columns=['Baodian_predict'])\r\n",
    "    predict['Baodian_predict'] = labels.values()\r\n",
    "    return predict\r\n",
    "predict = Collection_method(df,產品集合)\r\n",
    "# 將寶典標註結果加入\r\n",
    "df = df.join(predict)\r\n",
    "\r\n",
    "# 製作Y_label\r\n",
    "ok_ = 0\r\n",
    "no_ = 0\r\n",
    "y_label = []\r\n",
    "for i in tqdm(range(len(df))):\r\n",
    "    # 1.判斷SPEC是否匹配\r\n",
    "    if str(df['SPEC'].values[i]) in str(df['45A'].values[i]):\r\n",
    "        y_label.append(df['SPEC'].values[i])\r\n",
    "        ok_ += 1\r\n",
    "        continue #continue：強制跳出 ❮本次❯ 迴圈，繼續進入下一圈\r\n",
    "    \r\n",
    "    # 2.如果SPEC無法匹配到則可以判斷寶典是否匹配\r\n",
    "    if str(df['Baodian_predict'].values[i]) in str(df['45A'].values[i]):\r\n",
    "        y_label.append(df['Baodian_predict'].values[i])\r\n",
    "        ok_ += 1\r\n",
    "        continue #continue：強制跳出 ❮本次❯ 迴圈，繼續進入下一圈\r\n",
    "    \r\n",
    "    # 3.如果都不匹配 則會觸發以下程序\r\n",
    "    no_ += 1\r\n",
    "    y_label.append(np.nan)\r\n",
    "\r\n",
    "df['Y_label'] = y_label\r\n",
    "\r\n",
    "# 寶典集合(新增版)\r\n",
    "b1 = pd.read_excel('../data\\台塑企業_ 產品寶典20210303.xlsx').iloc[:,:5]\r\n",
    "b2 = pd.read_excel('../data\\寶典.v3.台塑網.20210901.xlsx').iloc[:,:5]\r\n",
    "b2.columns = b1.columns\r\n",
    "產品集合 = list(set(b1.append(b2)['品名'].values.tolist()))\r\n",
    "產品集合 = [str(i).lower() for i in 產品集合]\r\n",
    "\r\n",
    "# wordninja 詞匯集合\r\n",
    "with open('../data/wordninja_words.txt',encoding=\"utf-8\") as f:\r\n",
    "    wordninja_words_lst = f.read().split('\\n')\r\n",
    "\r\n",
    "# SPEC 詞匯集合\r\n",
    "SPEC集合 = df['Y_label'].values.tolist()\r\n",
    "SPEC集合 = [str(i).lower() for i in SPEC集合]\r\n",
    "\r\n",
    "# 三者加相成全部集合\r\n",
    "全部集合 = list(set(產品集合 + SPEC集合 + wordninja_words_lst))\r\n",
    "\r\n",
    "# 寫成txt檔保存\r\n",
    "with open('全部集合.txt', 'w',encoding=\"utf-8\") as f:\r\n",
    "    lines = [i + '\\n' for i in 全部集合]\r\n",
    "    f.writelines(lines)\r\n",
    "\r\n",
    "# 將txt檔讀取近來變成gz檔保存\r\n",
    "with open('全部集合.txt', 'rb') as f_in, gzip.open('全部集合.txt.gz', 'wb') as f_out:\r\n",
    "    shutil.copyfileobj(f_in, f_out)\r\n",
    "\r\n",
    "# 客製化斷詞模型\r\n",
    "class LanguageModel2(LanguageModel):\r\n",
    "    def split(self, s):\r\n",
    "        _SPLIT_RE = re.compile(\"[^a-zA-Z0-9-']+\")\r\n",
    "        l = [self._split(x) for x in _SPLIT_RE.split(s)]\r\n",
    "        return [item for sublist in l for item in sublist]\r\n",
    "\r\n",
    "# 對45A執行斷詞\r\n",
    "lm = LanguageModel2('全部集合.txt.gz')\r\n",
    "display(' '.join(lm.split(df['45A'].values[0])))\r\n",
    "lst = []\r\n",
    "for i in tqdm(range(len(df))):\r\n",
    "    lst.append(' '.join(lm.split(df['45A'].values[i])))\r\n",
    "df['45A'] = lst\r\n",
    "\r\n",
    "# 清洗數據\r\n",
    "df = df.dropna(subset=['45A','Y_label'],axis=0).reset_index(drop=True)\r\n",
    "keep_lst = []\r\n",
    "for i in range(len(df)):\r\n",
    "    # 判斷Y_label 是否有在 45A以內\r\n",
    "    if df.iloc[i]['Y_label'] in df.iloc[i]['45A']:\r\n",
    "        keep_lst.append(i)\r\n",
    "df = df.iloc[keep_lst]\r\n",
    "\r\n",
    "# 起始結束位置標註\r\n",
    "def str2index(context,string):\r\n",
    "    ys = context.find(string)\r\n",
    "    ye = ys + len(string)\r\n",
    "    return ys,ye\r\n",
    "\r\n",
    "ys_lst = []\r\n",
    "ye_lst = []\r\n",
    "for i in range(len(df)):\r\n",
    "    context= df['45A'].values[i]\r\n",
    "    string = df['Y_label'].values[i]\r\n",
    "    ys,ye = str2index(context,string)\r\n",
    "    ys_lst.append(ys)\r\n",
    "    ye_lst.append(ye)\r\n",
    "df['string_Y_1'] = ys_lst\r\n",
    "df['string_Y_2'] = ye_lst\r\n",
    "df.head()"
   ],
   "outputs": [
    {
     "output_type": "stream",
     "name": "stderr",
     "text": [
      "<ipython-input-1-6782052fce5f>:31: TqdmDeprecationWarning: This function will be removed in tqdm==5.0.0\n",
      "Please use `tqdm.notebook.tqdm` instead of `tqdm.tqdm_notebook`\n",
      "  for i in tqdm(df.index):\n"
     ]
    },
    {
     "output_type": "display_data",
     "data": {
      "text/plain": [
       "HBox(children=(HTML(value=''), FloatProgress(value=0.0, max=4239.0), HTML(value='')))"
      ],
      "application/vnd.jupyter.widget-view+json": {
       "version_major": 2,
       "version_minor": 0,
       "model_id": "fc7c6ba991864e41999131e2cfe3a07d"
      }
     },
     "metadata": {}
    },
    {
     "output_type": "stream",
     "name": "stdout",
     "text": [
      "\n"
     ]
    },
    {
     "output_type": "stream",
     "name": "stderr",
     "text": [
      "<ipython-input-1-6782052fce5f>:51: TqdmDeprecationWarning: This function will be removed in tqdm==5.0.0\n",
      "Please use `tqdm.notebook.tqdm` instead of `tqdm.tqdm_notebook`\n",
      "  for i in tqdm(range(len(df))):\n"
     ]
    },
    {
     "output_type": "display_data",
     "data": {
      "text/plain": [
       "HBox(children=(HTML(value=''), FloatProgress(value=0.0, max=4239.0), HTML(value='')))"
      ],
      "application/vnd.jupyter.widget-view+json": {
       "version_major": 2,
       "version_minor": 0,
       "model_id": "221077125a2945af84f0d934b4c9c1bd"
      }
     },
     "metadata": {}
    },
    {
     "output_type": "stream",
     "name": "stdout",
     "text": [
      "\n"
     ]
    },
    {
     "output_type": "display_data",
     "data": {
      "text/plain": [
       "'MASS PVC RESIN B-57 QUANTITY 175 MT AT 1300 USD MT AS PER PROFORMA INVOICE NO A 0 B 002 - 11 D A T E D 10 - 12 - 2020 C I F PIPA VAV PORT INDIA INC O TERMS 2010'"
      ]
     },
     "metadata": {}
    },
    {
     "output_type": "stream",
     "name": "stderr",
     "text": [
      "<ipython-input-1-6782052fce5f>:108: TqdmDeprecationWarning: This function will be removed in tqdm==5.0.0\n",
      "Please use `tqdm.notebook.tqdm` instead of `tqdm.tqdm_notebook`\n",
      "  for i in tqdm(range(len(df))):\n"
     ]
    },
    {
     "output_type": "display_data",
     "data": {
      "text/plain": [
       "HBox(children=(HTML(value=''), FloatProgress(value=0.0, max=4239.0), HTML(value='')))"
      ],
      "application/vnd.jupyter.widget-view+json": {
       "version_major": 2,
       "version_minor": 0,
       "model_id": "625e2889539648a3bffe9c040e9b4ea1"
      }
     },
     "metadata": {}
    },
    {
     "output_type": "stream",
     "name": "stdout",
     "text": [
      "\n"
     ]
    },
    {
     "output_type": "execute_result",
     "data": {
      "text/plain": [
       "                                                 45A  \\\n",
       "0  MASS PVC RESIN B-57 QUANTITY 175 MT AT 1300 US...   \n",
       "1  PHTHALIC ANHYDRIDE PA QUANTITY 306 MT UNIT PRI...   \n",
       "2  COMMODITY LLDPE TAISOX 3470 QUANTITY 320 MT 2 ...   \n",
       "5  ITEM 1 HDPE TAISOX 8010 200 MT USD 1100 MT CON...   \n",
       "6  ITEM 1 HDPE TAISOX 8010 200 MT USD 1100 MT CON...   \n",
       "\n",
       "                                              SPEC        Baodian_predict  \\\n",
       "0                              MASS PVC RESIN B-57         PVC RESIN B-57   \n",
       "1                               PHTHALIC ANHYDRIDE  PHTHALIC ANHYDRIDE PA   \n",
       "2  LINEAR LOW DENSITYPOLYETHYLENE RESINTAISOX 3470           LLDPE TAISOX   \n",
       "5                   HIGH DENSITYPOLYETHYLENE RESIN       HDPE TAISOX 8010   \n",
       "6      ETHYLENE VINYL ACETATECOPOLYMERTAISOX 7360M       HDPE TAISOX 8010   \n",
       "\n",
       "               Y_label  string_Y_1  string_Y_2  \n",
       "0  MASS PVC RESIN B-57           0          19  \n",
       "1   PHTHALIC ANHYDRIDE           0          18  \n",
       "2         LLDPE TAISOX          10          22  \n",
       "5     HDPE TAISOX 8010           7          23  \n",
       "6     HDPE TAISOX 8010           7          23  "
      ],
      "text/html": [
       "<div>\n",
       "<style scoped>\n",
       "    .dataframe tbody tr th:only-of-type {\n",
       "        vertical-align: middle;\n",
       "    }\n",
       "\n",
       "    .dataframe tbody tr th {\n",
       "        vertical-align: top;\n",
       "    }\n",
       "\n",
       "    .dataframe thead th {\n",
       "        text-align: right;\n",
       "    }\n",
       "</style>\n",
       "<table border=\"1\" class=\"dataframe\">\n",
       "  <thead>\n",
       "    <tr style=\"text-align: right;\">\n",
       "      <th></th>\n",
       "      <th>45A</th>\n",
       "      <th>SPEC</th>\n",
       "      <th>Baodian_predict</th>\n",
       "      <th>Y_label</th>\n",
       "      <th>string_Y_1</th>\n",
       "      <th>string_Y_2</th>\n",
       "    </tr>\n",
       "  </thead>\n",
       "  <tbody>\n",
       "    <tr>\n",
       "      <th>0</th>\n",
       "      <td>MASS PVC RESIN B-57 QUANTITY 175 MT AT 1300 US...</td>\n",
       "      <td>MASS PVC RESIN B-57</td>\n",
       "      <td>PVC RESIN B-57</td>\n",
       "      <td>MASS PVC RESIN B-57</td>\n",
       "      <td>0</td>\n",
       "      <td>19</td>\n",
       "    </tr>\n",
       "    <tr>\n",
       "      <th>1</th>\n",
       "      <td>PHTHALIC ANHYDRIDE PA QUANTITY 306 MT UNIT PRI...</td>\n",
       "      <td>PHTHALIC ANHYDRIDE</td>\n",
       "      <td>PHTHALIC ANHYDRIDE PA</td>\n",
       "      <td>PHTHALIC ANHYDRIDE</td>\n",
       "      <td>0</td>\n",
       "      <td>18</td>\n",
       "    </tr>\n",
       "    <tr>\n",
       "      <th>2</th>\n",
       "      <td>COMMODITY LLDPE TAISOX 3470 QUANTITY 320 MT 2 ...</td>\n",
       "      <td>LINEAR LOW DENSITYPOLYETHYLENE RESINTAISOX 3470</td>\n",
       "      <td>LLDPE TAISOX</td>\n",
       "      <td>LLDPE TAISOX</td>\n",
       "      <td>10</td>\n",
       "      <td>22</td>\n",
       "    </tr>\n",
       "    <tr>\n",
       "      <th>5</th>\n",
       "      <td>ITEM 1 HDPE TAISOX 8010 200 MT USD 1100 MT CON...</td>\n",
       "      <td>HIGH DENSITYPOLYETHYLENE RESIN</td>\n",
       "      <td>HDPE TAISOX 8010</td>\n",
       "      <td>HDPE TAISOX 8010</td>\n",
       "      <td>7</td>\n",
       "      <td>23</td>\n",
       "    </tr>\n",
       "    <tr>\n",
       "      <th>6</th>\n",
       "      <td>ITEM 1 HDPE TAISOX 8010 200 MT USD 1100 MT CON...</td>\n",
       "      <td>ETHYLENE VINYL ACETATECOPOLYMERTAISOX 7360M</td>\n",
       "      <td>HDPE TAISOX 8010</td>\n",
       "      <td>HDPE TAISOX 8010</td>\n",
       "      <td>7</td>\n",
       "      <td>23</td>\n",
       "    </tr>\n",
       "  </tbody>\n",
       "</table>\n",
       "</div>"
      ]
     },
     "metadata": {},
     "execution_count": 1
    }
   ],
   "metadata": {}
  },
  {
   "cell_type": "code",
   "execution_count": 2,
   "source": [
    "# 檢查\r\n",
    "assert df['45A'].values[0][df['string_Y_1'].values[0]:df['string_Y_2'].values[0]] == df['Y_label'].values[0]\r\n",
    "for i in np.random.choice(df.index,size=10):\r\n",
    "    print(df.loc[i,'45A'][df.loc[i,'string_Y_1']:df.loc[i,'string_Y_2']],'|',df.loc[i,'Y_label'])\r\n",
    "print(df.shape)"
   ],
   "outputs": [
    {
     "output_type": "stream",
     "name": "stdout",
     "text": [
      "EVA TAISOX 7350 | EVA TAISOX 7350\n",
      "PROPYLENE | PROPYLENE\n",
      "TAIRYFIL CARBON | TAIRYFIL CARBON\n",
      "DINP | DINP\n",
      "EVA TAISOX | EVA TAISOX\n",
      "CARBON FIBER | CARBON FIBER\n",
      "LLDPE TAISOX | LLDPE TAISOX\n",
      "PLASTIC RESIN | PLASTIC RESIN\n",
      "PVC SUSPENSION RESIN | PVC SUSPENSION RESIN\n",
      "ABS RESIN GRADE NO AG20GF | ABS RESIN GRADE NO AG20GF\n",
      "(4052, 6)\n"
     ]
    }
   ],
   "metadata": {}
  },
  {
   "cell_type": "code",
   "execution_count": 3,
   "source": [
    "# 保存\r\n",
    "df.to_csv('../data/preprocess_for_SQUAD_產品.csv')"
   ],
   "outputs": [],
   "metadata": {}
  }
 ],
 "metadata": {
  "kernelspec": {
   "name": "python3",
   "display_name": "Python 3.8.5 64-bit ('base': conda)"
  },
  "language_info": {
   "codemirror_mode": {
    "name": "ipython",
    "version": 3
   },
   "file_extension": ".py",
   "mimetype": "text/x-python",
   "name": "python",
   "nbconvert_exporter": "python",
   "pygments_lexer": "ipython3",
   "version": "3.8.5"
  },
  "interpreter": {
   "hash": "2ccee5cc862501c1aad1cf19888c2a2eca4026b72d187db43d5e889cbdc6ee97"
  }
 },
 "nbformat": 4,
 "nbformat_minor": 4
}