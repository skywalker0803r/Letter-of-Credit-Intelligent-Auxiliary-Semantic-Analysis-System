{
 "cells": [
  {
   "cell_type": "code",
   "execution_count": 13,
   "source": [
    "import pandas as pd\r\n",
    "from tqdm import tqdm_notebook as tqdm\r\n",
    "import wordninja\r\n",
    "from wordninja import LanguageModel\r\n",
    "import re\r\n",
    "import numpy as np\r\n",
    "import gzip\r\n",
    "import shutil\r\n",
    "\r\n",
    "def preprocess(x):\r\n",
    "    x = str(x)\r\n",
    "    x = re.sub('[\\u4e00-\\u9fa5]', '', x) # 去除中文\r\n",
    "    x = re.sub(r'[^\\w\\s]','',x) # 去除標點符號\r\n",
    "    x = x.replace('\\n', '').replace('\\r', '').replace('\\t', '') # 換行符號去除\r\n",
    "    return str.strip(x) # 移除左右空白"
   ],
   "outputs": [],
   "metadata": {}
  },
  {
   "cell_type": "code",
   "execution_count": 14,
   "source": [
    "x = 'xxxapplexxx'\r\n",
    "y = 'apple'\r\n",
    "x = x[:x.find(y)] + ' ' + y + ' ' + x[x.find(y)+len(y):]\r\n",
    "x"
   ],
   "outputs": [
    {
     "output_type": "execute_result",
     "data": {
      "text/plain": [
       "'xxx apple xxx'"
      ]
     },
     "metadata": {},
     "execution_count": 14
    }
   ],
   "metadata": {}
  },
  {
   "cell_type": "markdown",
   "source": [
    "# 資料讀取"
   ],
   "metadata": {}
  },
  {
   "cell_type": "code",
   "execution_count": 15,
   "source": [
    "df = pd.read_excel('../data/combined_excel.xlsx',index_col=0)\r\n",
    "df = df.rename(columns={'45A':'string_X_train','SPEC':'Y_label'})\r\n",
    "df = df[['string_X_train','Y_label','EXPNO']].dropna(axis=0)\r\n",
    "df['string_X_train'] = df['string_X_train'].apply(preprocess)\r\n",
    "df['Y_label'] = df['Y_label'].apply(lambda x:x.split('\\n'))\r\n",
    "for idx in tqdm(df.index):\r\n",
    "    for p in df.loc[idx,'Y_label']:\r\n",
    "        if p in df.loc[idx,'string_X_train']:\r\n",
    "            df.loc[idx,'p'] = p\r\n",
    "            continue\r\n",
    "        else:\r\n",
    "            df.loc[idx,'p'] = 'not find'\r\n",
    "print(df[df['p']!='not find'].shape)\r\n",
    "df = df[df['p']!='not find']\r\n",
    "df['Y_label'] = df['p']\r\n",
    "df = df.drop(['p'],axis=1)\r\n",
    "\r\n",
    "for i in tqdm(df.index):\r\n",
    "    x,y = df.loc[i,'string_X_train'],df.loc[i,'Y_label']\r\n",
    "    df.loc[i,'string_X_train'] = x[:x.find(y)] + ' ' + y + ' ' + x[x.find(y)+len(y):]\r\n",
    "print(df.shape)\r\n",
    "df.head(10)"
   ],
   "outputs": [
    {
     "output_type": "stream",
     "name": "stderr",
     "text": [
      "<ipython-input-15-a4745f83696b>:6: TqdmDeprecationWarning: This function will be removed in tqdm==5.0.0\n",
      "Please use `tqdm.notebook.tqdm` instead of `tqdm.tqdm_notebook`\n",
      "  for idx in tqdm(df.index):\n"
     ]
    },
    {
     "output_type": "display_data",
     "data": {
      "application/vnd.jupyter.widget-view+json": {
       "version_major": 2,
       "version_minor": 0,
       "model_id": "1f04bc01283f41248f2c39a0f95d2231"
      },
      "text/plain": [
       "HBox(children=(HTML(value=''), FloatProgress(value=0.0, max=8570.0), HTML(value='')))"
      ]
     },
     "metadata": {}
    },
    {
     "output_type": "stream",
     "name": "stdout",
     "text": [
      "\n",
      "(1970, 4)\n"
     ]
    },
    {
     "output_type": "stream",
     "name": "stderr",
     "text": [
      "<ipython-input-15-a4745f83696b>:18: TqdmDeprecationWarning: This function will be removed in tqdm==5.0.0\n",
      "Please use `tqdm.notebook.tqdm` instead of `tqdm.tqdm_notebook`\n",
      "  for i in tqdm(df.index):\n"
     ]
    },
    {
     "output_type": "display_data",
     "data": {
      "application/vnd.jupyter.widget-view+json": {
       "version_major": 2,
       "version_minor": 0,
       "model_id": "09c8a30dbf2d413bb3d52939578fa3f3"
      },
      "text/plain": [
       "HBox(children=(HTML(value=''), FloatProgress(value=0.0, max=1970.0), HTML(value='')))"
      ]
     },
     "metadata": {}
    },
    {
     "output_type": "stream",
     "name": "stdout",
     "text": [
      "\n",
      "(1970, 3)\n"
     ]
    },
    {
     "output_type": "execute_result",
     "data": {
      "text/html": [
       "<div>\n",
       "<style scoped>\n",
       "    .dataframe tbody tr th:only-of-type {\n",
       "        vertical-align: middle;\n",
       "    }\n",
       "\n",
       "    .dataframe tbody tr th {\n",
       "        vertical-align: top;\n",
       "    }\n",
       "\n",
       "    .dataframe thead th {\n",
       "        text-align: right;\n",
       "    }\n",
       "</style>\n",
       "<table border=\"1\" class=\"dataframe\">\n",
       "  <thead>\n",
       "    <tr style=\"text-align: right;\">\n",
       "      <th></th>\n",
       "      <th>string_X_train</th>\n",
       "      <th>Y_label</th>\n",
       "      <th>EXPNO</th>\n",
       "    </tr>\n",
       "  </thead>\n",
       "  <tbody>\n",
       "    <tr>\n",
       "      <th>4</th>\n",
       "      <td>PHTHALIC ANHYDRIDE  PAQUANTITY  306 MT UNIT P...</td>\n",
       "      <td>PHTHALIC ANHYDRIDE</td>\n",
       "      <td>27</td>\n",
       "    </tr>\n",
       "    <tr>\n",
       "      <th>5</th>\n",
       "      <td>COMMODITY LLDPE  TAISOX 3470  QUANTITY 320MT 2...</td>\n",
       "      <td>TAISOX 3470</td>\n",
       "      <td>18</td>\n",
       "    </tr>\n",
       "    <tr>\n",
       "      <th>7</th>\n",
       "      <td>COMMODITY                                     ...</td>\n",
       "      <td>ORIENTED YARN</td>\n",
       "      <td>25</td>\n",
       "    </tr>\n",
       "    <tr>\n",
       "      <th>8</th>\n",
       "      <td>COMMODITY                                     ...</td>\n",
       "      <td>ORIENTED YARN</td>\n",
       "      <td>25</td>\n",
       "    </tr>\n",
       "    <tr>\n",
       "      <th>9</th>\n",
       "      <td>COMMODITY                                     ...</td>\n",
       "      <td>POLYESTER FILAMENT YARN</td>\n",
       "      <td>25</td>\n",
       "    </tr>\n",
       "    <tr>\n",
       "      <th>10</th>\n",
       "      <td>COMMODITY                                     ...</td>\n",
       "      <td>ORIENTED YARN</td>\n",
       "      <td>25</td>\n",
       "    </tr>\n",
       "    <tr>\n",
       "      <th>11</th>\n",
       "      <td>COMMODITY                                     ...</td>\n",
       "      <td>ORIENTED YARN</td>\n",
       "      <td>25</td>\n",
       "    </tr>\n",
       "    <tr>\n",
       "      <th>31</th>\n",
       "      <td>PRODUCT    TETRAHYDROFURAN  998 PCT MINQUANTIT...</td>\n",
       "      <td>TETRAHYDROFURAN</td>\n",
       "      <td>2P</td>\n",
       "    </tr>\n",
       "    <tr>\n",
       "      <th>44</th>\n",
       "      <td>COMMODITY LLDPE  TAISOX 3470 QUANTITY 11200 MT...</td>\n",
       "      <td>TAISOX 3470</td>\n",
       "      <td>18</td>\n",
       "    </tr>\n",
       "    <tr>\n",
       "      <th>62</th>\n",
       "      <td>HDPE  TAISOX 9020 1000 MTUNIT PRICE USD106000M...</td>\n",
       "      <td>TAISOX 9020</td>\n",
       "      <td>18</td>\n",
       "    </tr>\n",
       "  </tbody>\n",
       "</table>\n",
       "</div>"
      ],
      "text/plain": [
       "                                       string_X_train  \\\n",
       "4    PHTHALIC ANHYDRIDE  PAQUANTITY  306 MT UNIT P...   \n",
       "5   COMMODITY LLDPE  TAISOX 3470  QUANTITY 320MT 2...   \n",
       "7   COMMODITY                                     ...   \n",
       "8   COMMODITY                                     ...   \n",
       "9   COMMODITY                                     ...   \n",
       "10  COMMODITY                                     ...   \n",
       "11  COMMODITY                                     ...   \n",
       "31  PRODUCT    TETRAHYDROFURAN  998 PCT MINQUANTIT...   \n",
       "44  COMMODITY LLDPE  TAISOX 3470 QUANTITY 11200 MT...   \n",
       "62  HDPE  TAISOX 9020 1000 MTUNIT PRICE USD106000M...   \n",
       "\n",
       "                    Y_label EXPNO  \n",
       "4        PHTHALIC ANHYDRIDE    27  \n",
       "5               TAISOX 3470    18  \n",
       "7             ORIENTED YARN    25  \n",
       "8             ORIENTED YARN    25  \n",
       "9   POLYESTER FILAMENT YARN    25  \n",
       "10            ORIENTED YARN    25  \n",
       "11            ORIENTED YARN    25  \n",
       "31          TETRAHYDROFURAN    2P  \n",
       "44              TAISOX 3470    18  \n",
       "62              TAISOX 9020    18  "
      ]
     },
     "metadata": {},
     "execution_count": 15
    }
   ],
   "metadata": {}
  },
  {
   "cell_type": "code",
   "execution_count": 16,
   "source": [
    "# 起始結束位置標註\r\n",
    "def str2index(context,string):\r\n",
    "    ys = context.find(string)\r\n",
    "    ye = ys + len(string)\r\n",
    "    return ys,ye\r\n",
    "\r\n",
    "ys_lst,ye_lst = [],[]\r\n",
    "for i in range(len(df)):\r\n",
    "    ys,ye = str2index(df['string_X_train'].values[i],df['Y_label'].values[i])\r\n",
    "    ys_lst.append(ys),ye_lst.append(ye)\r\n",
    "    \r\n",
    "df['string_Y_1'] = ys_lst\r\n",
    "df['string_Y_2'] = ye_lst\r\n",
    "print(1,df.shape)\r\n",
    "\r\n",
    "df = df[df['Y_label']!=''] # 去掉空值\r\n",
    "print(2,df.shape)\r\n",
    "\r\n",
    "df = df.loc[df['string_Y_1']!=-1,:] # 去掉找不到答案的\r\n",
    "print(3,df.shape)\r\n",
    "\r\n",
    "df = df.dropna(subset=['string_X_train','Y_label'],axis=0) # 去掉NAN\r\n",
    "print(4,df.shape)\r\n",
    "\r\n",
    "df.head(10)"
   ],
   "outputs": [
    {
     "output_type": "stream",
     "name": "stdout",
     "text": [
      "1 (1970, 5)\n",
      "2 (1970, 5)\n",
      "3 (1970, 5)\n",
      "4 (1970, 5)\n"
     ]
    },
    {
     "output_type": "execute_result",
     "data": {
      "text/html": [
       "<div>\n",
       "<style scoped>\n",
       "    .dataframe tbody tr th:only-of-type {\n",
       "        vertical-align: middle;\n",
       "    }\n",
       "\n",
       "    .dataframe tbody tr th {\n",
       "        vertical-align: top;\n",
       "    }\n",
       "\n",
       "    .dataframe thead th {\n",
       "        text-align: right;\n",
       "    }\n",
       "</style>\n",
       "<table border=\"1\" class=\"dataframe\">\n",
       "  <thead>\n",
       "    <tr style=\"text-align: right;\">\n",
       "      <th></th>\n",
       "      <th>string_X_train</th>\n",
       "      <th>Y_label</th>\n",
       "      <th>EXPNO</th>\n",
       "      <th>string_Y_1</th>\n",
       "      <th>string_Y_2</th>\n",
       "    </tr>\n",
       "  </thead>\n",
       "  <tbody>\n",
       "    <tr>\n",
       "      <th>4</th>\n",
       "      <td>PHTHALIC ANHYDRIDE  PAQUANTITY  306 MT UNIT P...</td>\n",
       "      <td>PHTHALIC ANHYDRIDE</td>\n",
       "      <td>27</td>\n",
       "      <td>1</td>\n",
       "      <td>19</td>\n",
       "    </tr>\n",
       "    <tr>\n",
       "      <th>5</th>\n",
       "      <td>COMMODITY LLDPE  TAISOX 3470  QUANTITY 320MT 2...</td>\n",
       "      <td>TAISOX 3470</td>\n",
       "      <td>18</td>\n",
       "      <td>17</td>\n",
       "      <td>28</td>\n",
       "    </tr>\n",
       "    <tr>\n",
       "      <th>7</th>\n",
       "      <td>COMMODITY                                     ...</td>\n",
       "      <td>ORIENTED YARN</td>\n",
       "      <td>25</td>\n",
       "      <td>121</td>\n",
       "      <td>134</td>\n",
       "    </tr>\n",
       "    <tr>\n",
       "      <th>8</th>\n",
       "      <td>COMMODITY                                     ...</td>\n",
       "      <td>ORIENTED YARN</td>\n",
       "      <td>25</td>\n",
       "      <td>121</td>\n",
       "      <td>134</td>\n",
       "    </tr>\n",
       "    <tr>\n",
       "      <th>9</th>\n",
       "      <td>COMMODITY                                     ...</td>\n",
       "      <td>POLYESTER FILAMENT YARN</td>\n",
       "      <td>25</td>\n",
       "      <td>147</td>\n",
       "      <td>170</td>\n",
       "    </tr>\n",
       "    <tr>\n",
       "      <th>10</th>\n",
       "      <td>COMMODITY                                     ...</td>\n",
       "      <td>ORIENTED YARN</td>\n",
       "      <td>25</td>\n",
       "      <td>121</td>\n",
       "      <td>134</td>\n",
       "    </tr>\n",
       "    <tr>\n",
       "      <th>11</th>\n",
       "      <td>COMMODITY                                     ...</td>\n",
       "      <td>ORIENTED YARN</td>\n",
       "      <td>25</td>\n",
       "      <td>121</td>\n",
       "      <td>134</td>\n",
       "    </tr>\n",
       "    <tr>\n",
       "      <th>31</th>\n",
       "      <td>PRODUCT    TETRAHYDROFURAN  998 PCT MINQUANTIT...</td>\n",
       "      <td>TETRAHYDROFURAN</td>\n",
       "      <td>2P</td>\n",
       "      <td>11</td>\n",
       "      <td>26</td>\n",
       "    </tr>\n",
       "    <tr>\n",
       "      <th>44</th>\n",
       "      <td>COMMODITY LLDPE  TAISOX 3470 QUANTITY 11200 MT...</td>\n",
       "      <td>TAISOX 3470</td>\n",
       "      <td>18</td>\n",
       "      <td>17</td>\n",
       "      <td>28</td>\n",
       "    </tr>\n",
       "    <tr>\n",
       "      <th>62</th>\n",
       "      <td>HDPE  TAISOX 9020 1000 MTUNIT PRICE USD106000M...</td>\n",
       "      <td>TAISOX 9020</td>\n",
       "      <td>18</td>\n",
       "      <td>6</td>\n",
       "      <td>17</td>\n",
       "    </tr>\n",
       "  </tbody>\n",
       "</table>\n",
       "</div>"
      ],
      "text/plain": [
       "                                       string_X_train  \\\n",
       "4    PHTHALIC ANHYDRIDE  PAQUANTITY  306 MT UNIT P...   \n",
       "5   COMMODITY LLDPE  TAISOX 3470  QUANTITY 320MT 2...   \n",
       "7   COMMODITY                                     ...   \n",
       "8   COMMODITY                                     ...   \n",
       "9   COMMODITY                                     ...   \n",
       "10  COMMODITY                                     ...   \n",
       "11  COMMODITY                                     ...   \n",
       "31  PRODUCT    TETRAHYDROFURAN  998 PCT MINQUANTIT...   \n",
       "44  COMMODITY LLDPE  TAISOX 3470 QUANTITY 11200 MT...   \n",
       "62  HDPE  TAISOX 9020 1000 MTUNIT PRICE USD106000M...   \n",
       "\n",
       "                    Y_label EXPNO  string_Y_1  string_Y_2  \n",
       "4        PHTHALIC ANHYDRIDE    27           1          19  \n",
       "5               TAISOX 3470    18          17          28  \n",
       "7             ORIENTED YARN    25         121         134  \n",
       "8             ORIENTED YARN    25         121         134  \n",
       "9   POLYESTER FILAMENT YARN    25         147         170  \n",
       "10            ORIENTED YARN    25         121         134  \n",
       "11            ORIENTED YARN    25         121         134  \n",
       "31          TETRAHYDROFURAN    2P          11          26  \n",
       "44              TAISOX 3470    18          17          28  \n",
       "62              TAISOX 9020    18           6          17  "
      ]
     },
     "metadata": {},
     "execution_count": 16
    }
   ],
   "metadata": {}
  },
  {
   "cell_type": "code",
   "execution_count": 17,
   "source": [
    "# 最後檢查 Y1 Y2 位置 和 Y_LABEL要對應上\r\n",
    "for i in tqdm(df.index):\r\n",
    "    a = df.loc[i,'string_X_train'][df.loc[i,'string_Y_1']:df.loc[i,'string_Y_2']]\r\n",
    "    b = df.loc[i,'Y_label']\r\n",
    "    assert a==b"
   ],
   "outputs": [
    {
     "output_type": "stream",
     "name": "stderr",
     "text": [
      "<ipython-input-17-4ec65d08a61a>:2: TqdmDeprecationWarning: This function will be removed in tqdm==5.0.0\n",
      "Please use `tqdm.notebook.tqdm` instead of `tqdm.tqdm_notebook`\n",
      "  for i in tqdm(df.index):\n"
     ]
    },
    {
     "output_type": "display_data",
     "data": {
      "application/vnd.jupyter.widget-view+json": {
       "version_major": 2,
       "version_minor": 0,
       "model_id": "2f40bf20aad44797a5d791ca5d1b5c7f"
      },
      "text/plain": [
       "HBox(children=(HTML(value=''), FloatProgress(value=0.0, max=1970.0), HTML(value='')))"
      ]
     },
     "metadata": {}
    },
    {
     "output_type": "stream",
     "name": "stdout",
     "text": [
      "\n"
     ]
    }
   ],
   "metadata": {}
  },
  {
   "cell_type": "code",
   "execution_count": 18,
   "source": [
    "from termcolor import colored\r\n",
    "\r\n",
    "# 實際感受一下\r\n",
    "def str2index(context,string):\r\n",
    "    if type(string) != str:\r\n",
    "        print(string)\r\n",
    "    ys = context.find(string)\r\n",
    "    ye = ys + len(string)\r\n",
    "    return ys,ye\r\n",
    "\r\n",
    "def color_output(text_input,text_output):\r\n",
    "    ys,ye = str2index(text_input,text_output)\r\n",
    "    left = text_input[:ys]\r\n",
    "    mid = text_output\r\n",
    "    right = text_input[ye:]\r\n",
    "    print(left,colored(mid,'red'),right)\r\n",
    "\r\n",
    "for j in range(10):\r\n",
    "    i = np.random.randint(low=0,high=len(df))\r\n",
    "    x = df['string_X_train'].values[i]\r\n",
    "    p = df['Y_label'].values[i]\r\n",
    "    print(j)\r\n",
    "    color_output(x,p)\r\n",
    "    print(colored(p,'green'))"
   ],
   "outputs": [
    {
     "output_type": "stream",
     "name": "stdout",
     "text": [
      "0\n",
      "1 COMMODITY EVA TAISOX 7350M QUANTITY 50 MT  UNIT PRICE USD 2555 MT SUBTOTAL PRICES USD 127750 PACKING STANDARD EXPORT PACKING ORIGIN TAIWAN PRICE TERM CIF CHINA MAIN PORT CONTRACT NO H0DV232 COMMODITY HDPE   \u001b[31mTAISOX 9001\u001b[0m   QUANTITY 100 MT  UNIT PRICE USD 1145 MT SUBTOTAL PRICES USD 114500 PACKING STANDARD EXPORT PACKING ORIGIN TAIWAN PRICE TERM CIF CHINA MAIN PORT CONTRACT NO H0DV353 COMMODITY HDPE TAISOX 8010 QUANTITY 600 MT  UNIT PRICE USD 1145 MT SUBTOTAL PRICES USD 687000 PACKING STANDARD EXPORT PACKING ORIGIN TAIWAN PRICE TERM CIF CHINA MAIN PORT CONTRACT NO H0DV364 COMMODITY HDPE TAISOX 9001 QUANTITY 700 MT  UNIT PRICE USD 1145 MT SUBTOTAL PRICES USD 801500 PACKING STANDARD EXPORT PACKING ORIGIN TAIWAN PRICE TERM CIF CHINA MAIN PORT CONTRACT NO H0DV37\n",
      "\u001b[32mTAISOX 9001\u001b[0m\n",
      "1\n",
      "1800 MT   \u001b[31mPHTHALIC ANHYDRIDE\u001b[0m   PA AT THE RATE OF USD 102000 PER MT AND OTHER DETAILS AS PER BENEFICIARYS PROFORMA INVOICE  NO NP1448 DATED 06042021 CFR KARACHI PORT PAKISTAN INCOTERMS 2020\n",
      "\u001b[32mPHTHALIC ANHYDRIDE\u001b[0m\n",
      "2\n",
      "ITEM 1 360 MTS OF ABS   \u001b[31mAG12A0\u001b[0m   Y1090 AT USD213000MT         CIF CHINESE PORT CHINA\n",
      "\u001b[32mAG12A0\u001b[0m\n",
      "3\n",
      "WOVEN   \u001b[31mGLASS EPOXY PREPREG\u001b[0m   NYP1 76282116 NYP1 2113 NP140B1080  FOR USE IN THE MANUFACTURE OF LAMINATED PLASTIC SHEETSROLLS TUBES AND RODS WHICH ARE SOLD TO A VARIETY OFMANUFACTURING COMPANIES FOR THE MANUFACTURE OF THEIR PRODUCTSCOST INSURANCE  FREIGHT NEW YORK NY USA\n",
      "\u001b[32mGLASS EPOXY PREPREG\u001b[0m\n",
      "4\n",
      "WOVEN   \u001b[31mGLASS EPOXY PREPREG\u001b[0m   NYP17628 NYP1 2113 FOR USE IN THEMANUFACTURE OF LAMINATED PLASTIC SHEETS ROLLS TUBES AND RODSWHICH ARE SOLD TO A VARIETY OF MANUFACTURING COMPANIES FOR THEMANUFACTURE OF THEIR PRODUCTSCOST INSURANCE  FREIGHT NEW YORK NY USA\n",
      "\u001b[32mGLASS EPOXY PREPREG\u001b[0m\n",
      "5\n",
      "COVERING SHIPMENT OF 36 MT   \u001b[31mPHTHALIC ANHYDRIDE\u001b[0m  AT THE RATE OF USD 101000 PER MTTOTAL AMOUNT USD 3636000AS PER BENEFICIARYS PROFORMA INVOICE NO NP1466DATED 09APR2021INCOTERM 2020  CIF NHAVA SHEVA PORT INDIA\n",
      "\u001b[32mPHTHALIC ANHYDRIDE\u001b[0m\n",
      "6\n",
      "ABS AG10NPAKQUANTITY 16200000KGS   UNIT PRICE USD2450KGABS AG15AAHQUANTITY 14400000 KGS   UNIT PRICE USD2380KGABS   \u001b[31mAG12A1\u001b[0m  QUANTITY21600000 KGS    UNIT PRICE USD2400KGTRADE TERMCIF SHANGHAICHINA\n",
      "\u001b[32mAG12A1\u001b[0m\n",
      "7\n",
      "  \u001b[31mCOPPER CLAD LAMINATES\u001b[0m    7800 SHEETSAS PER PURCHASE ORDER NO PO0078278 AND PO0078775TRADE TERM CIF PENANG PORT MALAYSIA\n",
      "\u001b[32mCOPPER CLAD LAMINATES\u001b[0m\n",
      "8\n",
      "1 20 MT   \u001b[31mMALEIC ANHYDRIDE\u001b[0m   BRIQUETTE TYPEAS PER SALES CONFIRMATION SC NO NM41140DATED 20214132 SHIPMENT TERMS CIF MANILA PHILIPPINES\n",
      "\u001b[32mMALEIC ANHYDRIDE\u001b[0m\n",
      "9\n",
      "  \u001b[31mPVC SUSPENSION RESIN S65D\u001b[0m  144 MT AT USD 168000 PMTAS PER PI NO 21N05M02A DTD 15042021INCOTERMS 2010 CIF KOLKATA SEAPORT INDIA\n",
      "\u001b[32mPVC SUSPENSION RESIN S65D\u001b[0m\n"
     ]
    }
   ],
   "metadata": {}
  },
  {
   "cell_type": "code",
   "execution_count": 19,
   "source": [
    "# 保存\r\n",
    "print(df.shape)\r\n",
    "df.to_csv('../data/preprocess_for_SQUAD_產品.csv')"
   ],
   "outputs": [
    {
     "output_type": "stream",
     "name": "stdout",
     "text": [
      "(1970, 5)\n"
     ]
    }
   ],
   "metadata": {}
  },
  {
   "cell_type": "code",
   "execution_count": null,
   "source": [],
   "outputs": [],
   "metadata": {}
  }
 ],
 "metadata": {
  "interpreter": {
   "hash": "2ccee5cc862501c1aad1cf19888c2a2eca4026b72d187db43d5e889cbdc6ee97"
  },
  "kernelspec": {
   "name": "python3",
   "display_name": "Python 3.8.5 64-bit ('base': conda)"
  },
  "language_info": {
   "codemirror_mode": {
    "name": "ipython",
    "version": 3
   },
   "file_extension": ".py",
   "mimetype": "text/x-python",
   "name": "python",
   "nbconvert_exporter": "python",
   "pygments_lexer": "ipython3",
   "version": "3.8.5"
  }
 },
 "nbformat": 4,
 "nbformat_minor": 4
}