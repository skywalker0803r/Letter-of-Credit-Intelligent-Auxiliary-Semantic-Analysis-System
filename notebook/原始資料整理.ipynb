{
 "cells": [
  {
   "cell_type": "code",
   "execution_count": 3,
   "metadata": {},
   "outputs": [
    {
     "name": "stderr",
     "output_type": "stream",
     "text": [
      "C:\\Users\\ricky\\anaconda3\\envs\\bert_env\\lib\\site-packages\\ipykernel_launcher.py:18: TqdmDeprecationWarning: This function will be removed in tqdm==5.0.0\n",
      "Please use `tqdm.notebook.tqdm` instead of `tqdm.tqdm_notebook`\n"
     ]
    },
    {
     "data": {
      "application/vnd.jupyter.widget-view+json": {
       "model_id": "66fdfa1687e94450828416290e4a17ae",
       "version_major": 2,
       "version_minor": 0
      },
      "text/plain": [
       "  0%|          | 0/12 [00:00<?, ?it/s]"
      ]
     },
     "metadata": {},
     "output_type": "display_data"
    },
    {
     "data": {
      "application/vnd.jupyter.widget-view+json": {
       "model_id": "0fddb501d4a44a6dad47a3b3f4edb4f8",
       "version_major": 2,
       "version_minor": 0
      },
      "text/plain": [
       "  0%|          | 0/19 [00:00<?, ?it/s]"
      ]
     },
     "metadata": {},
     "output_type": "display_data"
    }
   ],
   "source": [
    "import pandas as pd\n",
    "import os\n",
    "from tqdm import tqdm_notebook as tqdm\n",
    "\n",
    "# 必要欄位\n",
    "cols = ['59','45A',\n",
    "        '46A','47A',\n",
    "        '31D','44C',#'47A',\n",
    "        '48','71D','78',\n",
    "        #'59',\n",
    "        '50','51A','51D',#'45A',\n",
    "        '20',\n",
    "        'LTADDRESS.1']\n",
    "\n",
    "# 讀入電文資料\n",
    "def load_df(path=None):\n",
    "    df = pd.DataFrame()\n",
    "    for l in tqdm(sorted(os.listdir(path))):\n",
    "        d = pd.read_excel(path + l,sheet_name='mt700')[cols]\n",
    "        d['from'] = l\n",
    "        df = df.append(d)\n",
    "    return df.reset_index(drop=True)\n",
    "df1 = load_df(path='../data/電文資料/p1/')\n",
    "df2 = load_df(path='../data/電文資料/p2/')\n",
    "df = df1.append(df2).reset_index(drop=True)\n",
    "\n",
    "# 讀入ERP資料\n",
    "def load_erp(path=None,sheet_name=None):\n",
    "    df_erp = pd.read_excel(path,sheet_name=sheet_name)[['LCNO','EXPNO','LCBK','CU1','SPEC']]\n",
    "    df_erp['EXPNO'] = [ i[:] for i in df_erp['EXPNO']]\n",
    "    return df_erp\n",
    "df_erp1 = load_erp('../data/ERP資料/TB01.202101-06.xlsx','202101-06')\n",
    "df_erp2 = load_erp('../data/ERP資料/TB01.202007-202106.xlsx','202007-202106')\n",
    "df_erp = df_erp1.append(df_erp2).reset_index(drop=True)\n",
    "\n",
    "# 根據LCNO合併 df and df_erp \n",
    "df_merged = pd.merge(df.rename(columns={'20':'LCNO'}),df_erp,on='LCNO',how='left')\n",
    "display(df_merged.head())\n",
    "df_merged.to_excel('../data/combined_excel.xlsx')\n",
    "print(df_merged.shape)"
   ]
  },
  {
   "cell_type": "code",
   "execution_count": null,
   "metadata": {},
   "outputs": [
    {
     "name": "stdout",
     "output_type": "stream",
     "text": [
      "['59', '45A', '46A', '47A', '31D', '44C', '48', '71D', '78', '50', '51A', '51D', 'LCNO', 'LTADDRESS.1', 'from', 'EXPNO', 'LCBK', 'CU1', 'SPEC']\n"
     ]
    }
   ],
   "source": [
    "print(df_merged.columns.tolist())"
   ]
  },
  {
   "cell_type": "code",
   "execution_count": null,
   "metadata": {},
   "outputs": [],
   "source": []
  }
 ],
 "metadata": {
  "interpreter": {
   "hash": "2ccee5cc862501c1aad1cf19888c2a2eca4026b72d187db43d5e889cbdc6ee97"
  },
  "kernelspec": {
   "display_name": "Python 3.8.5 64-bit ('base': conda)",
   "name": "python3"
  },
  "language_info": {
   "codemirror_mode": {
    "name": "ipython",
    "version": 3
   },
   "file_extension": ".py",
   "mimetype": "text/x-python",
   "name": "python",
   "nbconvert_exporter": "python",
   "pygments_lexer": "ipython3",
   "version": "3.7.11"
  }
 },
 "nbformat": 4,
 "nbformat_minor": 4
}
