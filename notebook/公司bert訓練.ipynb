{
 "cells": [
  {
   "cell_type": "code",
   "execution_count": 5,
   "metadata": {},
   "outputs": [
    {
     "name": "stdout",
     "output_type": "stream",
     "text": [
      "(14376, 7)\n"
     ]
    },
    {
     "name": "stderr",
     "output_type": "stream",
     "text": [
      "Global seed set to 42\n",
      "Some weights of the model checkpoint at distilbert-base-uncased were not used when initializing DistilBertForQuestionAnswering: ['vocab_transform.weight', 'vocab_transform.bias', 'vocab_layer_norm.weight', 'vocab_projector.weight', 'vocab_projector.bias', 'vocab_layer_norm.bias']\n",
      "- This IS expected if you are initializing DistilBertForQuestionAnswering from the checkpoint of a model trained on another task or with another architecture (e.g. initializing a BertForSequenceClassification model from a BertForPreTraining model).\n",
      "- This IS NOT expected if you are initializing DistilBertForQuestionAnswering from the checkpoint of a model that you expect to be exactly identical (initializing a BertForSequenceClassification model from a BertForSequenceClassification model).\n",
      "Some weights of DistilBertForQuestionAnswering were not initialized from the model checkpoint at distilbert-base-uncased and are newly initialized: ['qa_outputs.bias', 'qa_outputs.weight']\n",
      "You should probably TRAIN this model on a down-stream task to be able to use it for predictions and inference.\n"
     ]
    },
    {
     "data": {
      "application/vnd.jupyter.widget-view+json": {
       "model_id": "647493698df945748876c090732d726f",
       "version_major": 2,
       "version_minor": 0
      },
      "text/plain": [
       "HBox(children=(HTML(value=''), FloatProgress(value=0.0, max=3.0), HTML(value='')))"
      ]
     },
     "metadata": {},
     "output_type": "display_data"
    },
    {
     "data": {
      "application/vnd.jupyter.widget-view+json": {
       "model_id": "063ab71a91bb42dc8783153575c6ede7",
       "version_major": 2,
       "version_minor": 0
      },
      "text/plain": [
       "HBox(children=(HTML(value=''), FloatProgress(value=0.0, max=1438.0), HTML(value='')))"
      ]
     },
     "metadata": {},
     "output_type": "display_data"
    },
    {
     "name": "stdout",
     "output_type": "stream",
     "text": [
      "\n"
     ]
    },
    {
     "data": {
      "application/vnd.jupyter.widget-view+json": {
       "model_id": "2108f761548f48899102b31397ea45ae",
       "version_major": 2,
       "version_minor": 0
      },
      "text/plain": [
       "HBox(children=(HTML(value=''), FloatProgress(value=0.0, max=360.0), HTML(value='')))"
      ]
     },
     "metadata": {},
     "output_type": "display_data"
    },
    {
     "name": "stdout",
     "output_type": "stream",
     "text": [
      "\n",
      "epoch:0 train_loss:0.021009062292003593 val_loss:2.55761213618643e-06\n",
      "save best_model now_val_best_loss is:2.55761213618643e-06\n"
     ]
    },
    {
     "data": {
      "application/vnd.jupyter.widget-view+json": {
       "model_id": "969b09867dc04044b564b1b5134d5c3d",
       "version_major": 2,
       "version_minor": 0
      },
      "text/plain": [
       "HBox(children=(HTML(value=''), FloatProgress(value=0.0, max=1438.0), HTML(value='')))"
      ]
     },
     "metadata": {},
     "output_type": "display_data"
    },
    {
     "name": "stdout",
     "output_type": "stream",
     "text": [
      "\n"
     ]
    },
    {
     "data": {
      "application/vnd.jupyter.widget-view+json": {
       "model_id": "2e9bc17972104fa0a5a4d9fd6796798b",
       "version_major": 2,
       "version_minor": 0
      },
      "text/plain": [
       "HBox(children=(HTML(value=''), FloatProgress(value=0.0, max=360.0), HTML(value='')))"
      ]
     },
     "metadata": {},
     "output_type": "display_data"
    },
    {
     "name": "stdout",
     "output_type": "stream",
     "text": [
      "\n",
      "epoch:1 train_loss:3.841823319931752e-05 val_loss:2.9689016171289652e-05\n"
     ]
    },
    {
     "data": {
      "application/vnd.jupyter.widget-view+json": {
       "model_id": "7ef28c7bdb334e5ebe9257950073f19a",
       "version_major": 2,
       "version_minor": 0
      },
      "text/plain": [
       "HBox(children=(HTML(value=''), FloatProgress(value=0.0, max=1438.0), HTML(value='')))"
      ]
     },
     "metadata": {},
     "output_type": "display_data"
    },
    {
     "name": "stdout",
     "output_type": "stream",
     "text": [
      "\n"
     ]
    },
    {
     "data": {
      "application/vnd.jupyter.widget-view+json": {
       "model_id": "f8a89d8afb364b89a0b674c2a815aabd",
       "version_major": 2,
       "version_minor": 0
      },
      "text/plain": [
       "HBox(children=(HTML(value=''), FloatProgress(value=0.0, max=360.0), HTML(value='')))"
      ]
     },
     "metadata": {},
     "output_type": "display_data"
    },
    {
     "name": "stdout",
     "output_type": "stream",
     "text": [
      "\n",
      "epoch:2 train_loss:3.7097417273886756e-05 val_loss:1.3446522591221362e-06\n",
      "save best_model now_val_best_loss is:1.3446522591221362e-06\n",
      "\n"
     ]
    },
    {
     "data": {
      "image/png": "[encoded data removed]",
      "text/plain": [
       "<Figure size 432x288 with 1 Axes>"
      ]
     },
     "metadata": {
      "needs_background": "light"
     },
     "output_type": "display_data"
    },
    {
     "name": "stdout",
     "output_type": "stream",
     "text": [
      "best_model is saved!\n"
     ]
    },
    {
     "name": "stderr",
     "output_type": "stream",
     "text": [
      "Some weights of the model checkpoint at distilbert-base-uncased were not used when initializing DistilBertForQuestionAnswering: ['vocab_transform.weight', 'vocab_transform.bias', 'vocab_layer_norm.weight', 'vocab_projector.weight', 'vocab_projector.bias', 'vocab_layer_norm.bias']\n",
      "- This IS expected if you are initializing DistilBertForQuestionAnswering from the checkpoint of a model trained on another task or with another architecture (e.g. initializing a BertForSequenceClassification model from a BertForPreTraining model).\n",
      "- This IS NOT expected if you are initializing DistilBertForQuestionAnswering from the checkpoint of a model that you expect to be exactly identical (initializing a BertForSequenceClassification model from a BertForSequenceClassification model).\n",
      "Some weights of DistilBertForQuestionAnswering were not initialized from the model checkpoint at distilbert-base-uncased and are newly initialized: ['qa_outputs.bias', 'qa_outputs.weight']\n",
      "You should probably TRAIN this model on a down-stream task to be able to use it for predictions and inference.\n"
     ]
    },
    {
     "data": {
      "application/vnd.jupyter.widget-view+json": {
       "model_id": "7f3ad328a27c400a837c28b42e2eac4f",
       "version_major": 2,
       "version_minor": 0
      },
      "text/plain": [
       "HBox(children=(HTML(value=''), FloatProgress(value=0.0, max=2876.0), HTML(value='')))"
      ]
     },
     "metadata": {},
     "output_type": "display_data"
    },
    {
     "name": "stdout",
     "output_type": "stream",
     "text": [
      "\n"
     ]
    }
   ],
   "source": [
    "import requests\n",
    "import gc\n",
    "gc.collect()\n",
    "import pandas as pd\n",
    "import requests\n",
    "from sklearn.model_selection import train_test_split\n",
    "df = pd.read_csv('../data/preprocess_for_SQUAD_公司.csv',index_col=0)\n",
    "print(df.shape)\n",
    "train_df, val_df = train_test_split(df, test_size=0.2, random_state=42)\n",
    "url = 'https://gist.githubusercontent.com/skywalker0803r/1e1d0d25999094bf8ec23dc143e02478/raw/0ac62d4a6efe4b7f9cc58ff8ff614aca7603fa25/bert_train_pipeline.py'\n",
    "exec(requests.get(url).text)\n",
    "qustion = 'What is the company name?'\n",
    "model_path = '../models/Product_Data_SQuAD_model_公司.pt'\n",
    "res,table = bert_train_pipeline(train_df,val_df,qustion,model_path,start_idx_from_0=True)"
   ]
  },
  {
   "cell_type": "code",
   "execution_count": 6,
   "metadata": {},
   "outputs": [
    {
     "data": {
      "text/html": [
       "<div>\n",
       "<style scoped>\n",
       "    .dataframe tbody tr th:only-of-type {\n",
       "        vertical-align: middle;\n",
       "    }\n",
       "\n",
       "    .dataframe tbody tr th {\n",
       "        vertical-align: top;\n",
       "    }\n",
       "\n",
       "    .dataframe thead th {\n",
       "        text-align: right;\n",
       "    }\n",
       "</style>\n",
       "<table border=\"1\" class=\"dataframe\">\n",
       "  <thead>\n",
       "    <tr style=\"text-align: right;\">\n",
       "      <th></th>\n",
       "      <th>jaccard</th>\n",
       "      <th>acc(1.0)</th>\n",
       "      <th>acc(0.75)</th>\n",
       "      <th>acc(0.5)</th>\n",
       "      <th>acc(0.25)</th>\n",
       "    </tr>\n",
       "  </thead>\n",
       "  <tbody>\n",
       "    <tr>\n",
       "      <th>0</th>\n",
       "      <td>0.928686</td>\n",
       "      <td>0.830668</td>\n",
       "      <td>0.830668</td>\n",
       "      <td>0.998609</td>\n",
       "      <td>1.0</td>\n",
       "    </tr>\n",
       "  </tbody>\n",
       "</table>\n",
       "</div>"
      ],
      "text/plain": [
       "    jaccard  acc(1.0)  acc(0.75)  acc(0.5)  acc(0.25)\n",
       "0  0.928686  0.830668   0.830668  0.998609        1.0"
      ]
     },
     "execution_count": 6,
     "metadata": {},
     "output_type": "execute_result"
    }
   ],
   "source": [
    "res"
   ]
  },
  {
   "cell_type": "code",
   "execution_count": 7,
   "metadata": {},
   "outputs": [
    {
     "data": {
      "text/html": [
       "<div>\n",
       "<style scoped>\n",
       "    .dataframe tbody tr th:only-of-type {\n",
       "        vertical-align: middle;\n",
       "    }\n",
       "\n",
       "    .dataframe tbody tr th {\n",
       "        vertical-align: top;\n",
       "    }\n",
       "\n",
       "    .dataframe thead th {\n",
       "        text-align: right;\n",
       "    }\n",
       "</style>\n",
       "<table border=\"1\" class=\"dataframe\">\n",
       "  <thead>\n",
       "    <tr style=\"text-align: right;\">\n",
       "      <th></th>\n",
       "      <th>Y_label</th>\n",
       "      <th>predict</th>\n",
       "      <th>是否全對</th>\n",
       "    </tr>\n",
       "  </thead>\n",
       "  <tbody>\n",
       "    <tr>\n",
       "      <th>8293</th>\n",
       "      <td>FORMOSA CHEMICALS AND FIBRE CORP</td>\n",
       "      <td>FORMOSA CHEMICALS AND FIBRE CORP</td>\n",
       "      <td>Yes</td>\n",
       "    </tr>\n",
       "    <tr>\n",
       "      <th>16805</th>\n",
       "      <td>FORMOSA CHEMICALS AND FIBRECORPORATION</td>\n",
       "      <td>FORMOSA CHEMICALS AND FIBRECORPORATIONNO</td>\n",
       "      <td>No</td>\n",
       "    </tr>\n",
       "    <tr>\n",
       "      <th>20126</th>\n",
       "      <td>NAN YA PLASTICS CORPORATION</td>\n",
       "      <td>NAN YA PLASTICS CORPORATION</td>\n",
       "      <td>Yes</td>\n",
       "    </tr>\n",
       "    <tr>\n",
       "      <th>1277</th>\n",
       "      <td>FORMOSA PLASTICS CORPORATION</td>\n",
       "      <td>FORMOSA PLASTICS CORPORATION</td>\n",
       "      <td>Yes</td>\n",
       "    </tr>\n",
       "    <tr>\n",
       "      <th>4090</th>\n",
       "      <td>NAN YA PLASTICS CORPORATION</td>\n",
       "      <td>NAN YA PLASTICS CORPORATION</td>\n",
       "      <td>Yes</td>\n",
       "    </tr>\n",
       "    <tr>\n",
       "      <th>5819</th>\n",
       "      <td>FORMOSA CHEMICALS AND FIBRE CORP</td>\n",
       "      <td>FORMOSA CHEMICALS AND FIBRE CORP</td>\n",
       "      <td>Yes</td>\n",
       "    </tr>\n",
       "    <tr>\n",
       "      <th>6788</th>\n",
       "      <td>FORMOSA PLASTICS CORPORATION</td>\n",
       "      <td>FORMOSA PLASTICS CORPORATION</td>\n",
       "      <td>Yes</td>\n",
       "    </tr>\n",
       "    <tr>\n",
       "      <th>1434</th>\n",
       "      <td>FORMOSA PLASTICS CORPORATION</td>\n",
       "      <td>FORMOSA PLASTICS CORPORATION</td>\n",
       "      <td>Yes</td>\n",
       "    </tr>\n",
       "    <tr>\n",
       "      <th>16027</th>\n",
       "      <td>NAN YA PLASTICS CORP</td>\n",
       "      <td>NAN YA PLASTICS CORP3F</td>\n",
       "      <td>No</td>\n",
       "    </tr>\n",
       "    <tr>\n",
       "      <th>1288</th>\n",
       "      <td>FORMOSA PLASTICS CORPORATION</td>\n",
       "      <td>FORMOSA PLASTICS CORPORATION</td>\n",
       "      <td>Yes</td>\n",
       "    </tr>\n",
       "  </tbody>\n",
       "</table>\n",
       "</div>"
      ],
      "text/plain": [
       "                                      Y_label  \\\n",
       "8293         FORMOSA CHEMICALS AND FIBRE CORP   \n",
       "16805  FORMOSA CHEMICALS AND FIBRECORPORATION   \n",
       "20126             NAN YA PLASTICS CORPORATION   \n",
       "1277             FORMOSA PLASTICS CORPORATION   \n",
       "4090              NAN YA PLASTICS CORPORATION   \n",
       "5819         FORMOSA CHEMICALS AND FIBRE CORP   \n",
       "6788             FORMOSA PLASTICS CORPORATION   \n",
       "1434             FORMOSA PLASTICS CORPORATION   \n",
       "16027                    NAN YA PLASTICS CORP   \n",
       "1288             FORMOSA PLASTICS CORPORATION   \n",
       "\n",
       "                                        predict 是否全對  \n",
       "8293           FORMOSA CHEMICALS AND FIBRE CORP  Yes  \n",
       "16805  FORMOSA CHEMICALS AND FIBRECORPORATIONNO   No  \n",
       "20126               NAN YA PLASTICS CORPORATION  Yes  \n",
       "1277               FORMOSA PLASTICS CORPORATION  Yes  \n",
       "4090                NAN YA PLASTICS CORPORATION  Yes  \n",
       "5819           FORMOSA CHEMICALS AND FIBRE CORP  Yes  \n",
       "6788               FORMOSA PLASTICS CORPORATION  Yes  \n",
       "1434               FORMOSA PLASTICS CORPORATION  Yes  \n",
       "16027                    NAN YA PLASTICS CORP3F   No  \n",
       "1288               FORMOSA PLASTICS CORPORATION  Yes  "
      ]
     },
     "execution_count": 7,
     "metadata": {},
     "output_type": "execute_result"
    }
   ],
   "source": [
    "table.sample(10)"
   ]
  },
  {
   "cell_type": "code",
   "execution_count": 8,
   "metadata": {},
   "outputs": [
    {
     "data": {
      "text/html": [
       "<div>\n",
       "<style scoped>\n",
       "    .dataframe tbody tr th:only-of-type {\n",
       "        vertical-align: middle;\n",
       "    }\n",
       "\n",
       "    .dataframe tbody tr th {\n",
       "        vertical-align: top;\n",
       "    }\n",
       "\n",
       "    .dataframe thead th {\n",
       "        text-align: right;\n",
       "    }\n",
       "</style>\n",
       "<table border=\"1\" class=\"dataframe\">\n",
       "  <thead>\n",
       "    <tr style=\"text-align: right;\">\n",
       "      <th></th>\n",
       "      <th>Y_label</th>\n",
       "      <th>predict</th>\n",
       "      <th>是否全對</th>\n",
       "    </tr>\n",
       "  </thead>\n",
       "  <tbody>\n",
       "    <tr>\n",
       "      <th>7729</th>\n",
       "      <td>NAN YA PLASTICS CORP</td>\n",
       "      <td>NAN YA PLASTICS CORP201</td>\n",
       "      <td>No</td>\n",
       "    </tr>\n",
       "    <tr>\n",
       "      <th>19275</th>\n",
       "      <td>FORMOSA CHEMICALS AND FIBRECORPORATION</td>\n",
       "      <td>FORMOSA CHEMICALS AND FIBRECORPORATION201</td>\n",
       "      <td>No</td>\n",
       "    </tr>\n",
       "    <tr>\n",
       "      <th>16113</th>\n",
       "      <td>FORMOSA CHEMICALS AND FIBRECORPORATION</td>\n",
       "      <td>FORMOSA CHEMICALS AND FIBRECORPORATION201TUNG</td>\n",
       "      <td>No</td>\n",
       "    </tr>\n",
       "    <tr>\n",
       "      <th>4630</th>\n",
       "      <td>FORMOSA CHEMICALS ANDFIBRE CORPORATION</td>\n",
       "      <td>FORMOSA CHEMICALS ANDFIBRE CORPORATION201</td>\n",
       "      <td>No</td>\n",
       "    </tr>\n",
       "    <tr>\n",
       "      <th>1645</th>\n",
       "      <td>FORMOSA CHEMICALS AND FIBRECORPORATION</td>\n",
       "      <td>FORMOSA CHEMICALS AND FIBRECORPORATION201</td>\n",
       "      <td>No</td>\n",
       "    </tr>\n",
       "    <tr>\n",
       "      <th>2217</th>\n",
       "      <td>NAN YA PLASTICS CORP</td>\n",
       "      <td>NAN YA PLASTICS CORP3F</td>\n",
       "      <td>No</td>\n",
       "    </tr>\n",
       "    <tr>\n",
       "      <th>3026</th>\n",
       "      <td>FORMOSA CHEMICALS AND FIBRECORPORATION</td>\n",
       "      <td>FORMOSA CHEMICALS AND FIBRECORPORATIONNO201</td>\n",
       "      <td>No</td>\n",
       "    </tr>\n",
       "    <tr>\n",
       "      <th>5576</th>\n",
       "      <td>FORMOSA CHEMICALS AND FIBRECORPORATION</td>\n",
       "      <td>FORMOSA CHEMICALS AND FIBRECORPORATION201</td>\n",
       "      <td>No</td>\n",
       "    </tr>\n",
       "    <tr>\n",
       "      <th>18719</th>\n",
       "      <td>FORMOSA CHEMICALS ANDFIBRE CORPORATION</td>\n",
       "      <td>FORMOSA CHEMICALS ANDFIBRE CORPORATION201</td>\n",
       "      <td>No</td>\n",
       "    </tr>\n",
       "    <tr>\n",
       "      <th>16055</th>\n",
       "      <td>NAN YA PLASTICS CORP</td>\n",
       "      <td>NAN YA PLASTICS CORPNO101SHUIGUAN</td>\n",
       "      <td>No</td>\n",
       "    </tr>\n",
       "  </tbody>\n",
       "</table>\n",
       "</div>"
      ],
      "text/plain": [
       "                                      Y_label  \\\n",
       "7729                     NAN YA PLASTICS CORP   \n",
       "19275  FORMOSA CHEMICALS AND FIBRECORPORATION   \n",
       "16113  FORMOSA CHEMICALS AND FIBRECORPORATION   \n",
       "4630   FORMOSA CHEMICALS ANDFIBRE CORPORATION   \n",
       "1645   FORMOSA CHEMICALS AND FIBRECORPORATION   \n",
       "2217                     NAN YA PLASTICS CORP   \n",
       "3026   FORMOSA CHEMICALS AND FIBRECORPORATION   \n",
       "5576   FORMOSA CHEMICALS AND FIBRECORPORATION   \n",
       "18719  FORMOSA CHEMICALS ANDFIBRE CORPORATION   \n",
       "16055                    NAN YA PLASTICS CORP   \n",
       "\n",
       "                                             predict 是否全對  \n",
       "7729                         NAN YA PLASTICS CORP201   No  \n",
       "19275      FORMOSA CHEMICALS AND FIBRECORPORATION201   No  \n",
       "16113  FORMOSA CHEMICALS AND FIBRECORPORATION201TUNG   No  \n",
       "4630       FORMOSA CHEMICALS ANDFIBRE CORPORATION201   No  \n",
       "1645       FORMOSA CHEMICALS AND FIBRECORPORATION201   No  \n",
       "2217                          NAN YA PLASTICS CORP3F   No  \n",
       "3026     FORMOSA CHEMICALS AND FIBRECORPORATIONNO201   No  \n",
       "5576       FORMOSA CHEMICALS AND FIBRECORPORATION201   No  \n",
       "18719      FORMOSA CHEMICALS ANDFIBRE CORPORATION201   No  \n",
       "16055              NAN YA PLASTICS CORPNO101SHUIGUAN   No  "
      ]
     },
     "execution_count": 8,
     "metadata": {},
     "output_type": "execute_result"
    }
   ],
   "source": [
    "table[table['是否全對']=='No'].sample(10)"
   ]
  },
  {
   "cell_type": "code",
   "execution_count": null,
   "metadata": {},
   "outputs": [],
   "source": []
  }
 ],
 "metadata": {
  "interpreter": {
   "hash": "2ccee5cc862501c1aad1cf19888c2a2eca4026b72d187db43d5e889cbdc6ee97"
  },
  "kernelspec": {
   "display_name": "Python 3.8.5 64-bit ('base': conda)",
   "name": "python3"
  },
  "language_info": {
   "codemirror_mode": {
    "name": "ipython",
    "version": 3
   },
   "file_extension": ".py",
   "mimetype": "text/x-python",
   "name": "python",
   "nbconvert_exporter": "python",
   "pygments_lexer": "ipython3",
   "version": "3.8.5"
  },
  "orig_nbformat": 4
 },
 "nbformat": 4,
 "nbformat_minor": 2
}
