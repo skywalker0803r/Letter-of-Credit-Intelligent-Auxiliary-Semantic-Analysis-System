{
 "cells": [
  {
   "cell_type": "code",
   "execution_count": 1,
   "metadata": {},
   "outputs": [
    {
     "name": "stdout",
     "output_type": "stream",
     "text": [
      "(1790, 47)\n"
     ]
    },
    {
     "data": {
      "text/html": [
       "<div>\n",
       "<style scoped>\n",
       "    .dataframe tbody tr th:only-of-type {\n",
       "        vertical-align: middle;\n",
       "    }\n",
       "\n",
       "    .dataframe tbody tr th {\n",
       "        vertical-align: top;\n",
       "    }\n",
       "\n",
       "    .dataframe thead th {\n",
       "        text-align: right;\n",
       "    }\n",
       "</style>\n",
       "<table border=\"1\" class=\"dataframe\">\n",
       "  <thead>\n",
       "    <tr style=\"text-align: right;\">\n",
       "      <th></th>\n",
       "      <th>45A</th>\n",
       "      <th>項次</th>\n",
       "      <th>電文代號</th>\n",
       "      <th>銀行</th>\n",
       "      <th>20</th>\n",
       "      <th>回傳代碼</th>\n",
       "      <th>回傳訊息</th>\n",
       "      <th>建檔日期</th>\n",
       "      <th>受益人</th>\n",
       "      <th>金額</th>\n",
       "      <th>...</th>\n",
       "      <th>EXPNO jac</th>\n",
       "      <th>EXPNO 產品名</th>\n",
       "      <th>EXPNO 開狀人</th>\n",
       "      <th>EXPNO 受益人</th>\n",
       "      <th>EXPNO 開狀銀行</th>\n",
       "      <th>EXPNO 產品名分數</th>\n",
       "      <th>EXPNO 開狀人分數</th>\n",
       "      <th>EXPNO 受益人分數</th>\n",
       "      <th>EXPNO 開狀銀行分數</th>\n",
       "      <th>與前案一致</th>\n",
       "    </tr>\n",
       "  </thead>\n",
       "  <tbody>\n",
       "    <tr>\n",
       "      <th>0</th>\n",
       "      <td>48 MT PVC SUSPENSION RESIN GRADE S65AT THE RA...</td>\n",
       "      <td>8</td>\n",
       "      <td>mt700</td>\n",
       "      <td>16</td>\n",
       "      <td>0006MLC00034022</td>\n",
       "      <td>200</td>\n",
       "      <td>{\"MESSAGE\":\"\",\"CODE\":200}</td>\n",
       "      <td>2021/09/24 12:31:17</td>\n",
       "      <td>FORMOSA PLASTICS</td>\n",
       "      <td>USD136080,00</td>\n",
       "      <td>...</td>\n",
       "      <td>1.066667</td>\n",
       "      <td>MASS PVC RESIN B-57</td>\n",
       "      <td>OJUS PETROCHEMICALS LLPC</td>\n",
       "      <td>FORMOSA PLASTICS CORPORATION</td>\n",
       "      <td>ICICI BANK LTD.,\\nSHALIMAR TOWER, 31/54 M.G.MA...</td>\n",
       "      <td>0.400000</td>\n",
       "      <td>0.0</td>\n",
       "      <td>0.666667</td>\n",
       "      <td>0.0</td>\n",
       "      <td>True</td>\n",
       "    </tr>\n",
       "    <tr>\n",
       "      <th>1</th>\n",
       "      <td>TETRAHYDROFURAN AT USD 5550 TOTAL AMOUNTUSD 1...</td>\n",
       "      <td>10</td>\n",
       "      <td>mt700</td>\n",
       "      <td>16</td>\n",
       "      <td>001LM01212660007</td>\n",
       "      <td>200</td>\n",
       "      <td>{\"MESSAGE\":\"\",\"CODE\":200}</td>\n",
       "      <td>2021/09/24 12:32:17</td>\n",
       "      <td>NAN YA PLASTICS</td>\n",
       "      <td>USD111000,</td>\n",
       "      <td>...</td>\n",
       "      <td>0.750000</td>\n",
       "      <td>(鄰苯二甲酐)\\nPHTHALIC ANHYDRIDE</td>\n",
       "      <td>AHMED SAEED AFIFI FACTORY CO FORRESINS LTD</td>\n",
       "      <td>NAN YA PLASTICS CORPORATION</td>\n",
       "      <td>NATIONAL COMMERCIAL BANK, THE\\n(HEAD OFFICE)</td>\n",
       "      <td>0.000000</td>\n",
       "      <td>0.0</td>\n",
       "      <td>0.750000</td>\n",
       "      <td>0.0</td>\n",
       "      <td>False</td>\n",
       "    </tr>\n",
       "    <tr>\n",
       "      <th>2</th>\n",
       "      <td>A 19800 MT OF TAIRILAC AG15A1HABS ABS RESINAT...</td>\n",
       "      <td>11</td>\n",
       "      <td>mt700</td>\n",
       "      <td>16</td>\n",
       "      <td>0393MLC00068522</td>\n",
       "      <td>200</td>\n",
       "      <td>{\"MESSAGE\":\"\",\"CODE\":200}</td>\n",
       "      <td>2021/09/24 12:33:05</td>\n",
       "      <td>FORMOSA CHEMICALS AND FIBRE</td>\n",
       "      <td>USD736110,00</td>\n",
       "      <td>...</td>\n",
       "      <td>1.133333</td>\n",
       "      <td>ABS RESIN GRADE\\nAG15A1-H\\n丙烯-丁二烯-\\n苯乙烯共聚合物</td>\n",
       "      <td>SHANTILAL MAHENDRAKUMAR AND COSHILPIN COMMERCI...</td>\n",
       "      <td>FORMOSA CHEMICALS AND FIBRE CORP</td>\n",
       "      <td>BANK OF MAHARASHTRA</td>\n",
       "      <td>0.333333</td>\n",
       "      <td>0.0</td>\n",
       "      <td>0.800000</td>\n",
       "      <td>0.0</td>\n",
       "      <td>True</td>\n",
       "    </tr>\n",
       "    <tr>\n",
       "      <th>3</th>\n",
       "      <td>80 MT PVC SUSPENSION RESIN GRADE S65S AT THE ...</td>\n",
       "      <td>12</td>\n",
       "      <td>mt700</td>\n",
       "      <td>16</td>\n",
       "      <td>0505121IM0000553</td>\n",
       "      <td>200</td>\n",
       "      <td>{\"MESSAGE\":\"\",\"CODE\":200}</td>\n",
       "      <td>2021/09/24 12:01:28</td>\n",
       "      <td>FORMOSA PLASTICS</td>\n",
       "      <td>USD154710,00</td>\n",
       "      <td>...</td>\n",
       "      <td>1.066667</td>\n",
       "      <td>MASS PVC RESIN B-57</td>\n",
       "      <td>OJUS PETROCHEMICALS LLPC</td>\n",
       "      <td>FORMOSA PLASTICS CORPORATION</td>\n",
       "      <td>ICICI BANK LTD.,\\nSHALIMAR TOWER, 31/54 M.G.MA...</td>\n",
       "      <td>0.400000</td>\n",
       "      <td>0.0</td>\n",
       "      <td>0.666667</td>\n",
       "      <td>0.0</td>\n",
       "      <td>True</td>\n",
       "    </tr>\n",
       "    <tr>\n",
       "      <th>4</th>\n",
       "      <td>PVC SUSPENSION RESIN S70RQUANTITY 72 MT UNIT ...</td>\n",
       "      <td>13</td>\n",
       "      <td>mt700</td>\n",
       "      <td>16</td>\n",
       "      <td>0799M21SA0000380</td>\n",
       "      <td>200</td>\n",
       "      <td>{\"MESSAGE\":\"\",\"CODE\":200}</td>\n",
       "      <td>2021/09/24 12:01:04</td>\n",
       "      <td>FORMOSA PLASTICS</td>\n",
       "      <td>USD152640,</td>\n",
       "      <td>...</td>\n",
       "      <td>1.066667</td>\n",
       "      <td>MASS PVC RESIN B-57</td>\n",
       "      <td>OJUS PETROCHEMICALS LLPC</td>\n",
       "      <td>FORMOSA PLASTICS CORPORATION</td>\n",
       "      <td>ICICI BANK LTD.,\\nSHALIMAR TOWER, 31/54 M.G.MA...</td>\n",
       "      <td>0.400000</td>\n",
       "      <td>0.0</td>\n",
       "      <td>0.666667</td>\n",
       "      <td>0.0</td>\n",
       "      <td>True</td>\n",
       "    </tr>\n",
       "  </tbody>\n",
       "</table>\n",
       "<p>5 rows × 47 columns</p>\n",
       "</div>"
      ],
      "text/plain": [
       "                                                 45A  項次   電文代號  銀行  \\\n",
       "0   48 MT PVC SUSPENSION RESIN GRADE S65AT THE RA...   8  mt700  16   \n",
       "1   TETRAHYDROFURAN AT USD 5550 TOTAL AMOUNTUSD 1...  10  mt700  16   \n",
       "2   A 19800 MT OF TAIRILAC AG15A1HABS ABS RESINAT...  11  mt700  16   \n",
       "3   80 MT PVC SUSPENSION RESIN GRADE S65S AT THE ...  12  mt700  16   \n",
       "4   PVC SUSPENSION RESIN S70RQUANTITY 72 MT UNIT ...  13  mt700  16   \n",
       "\n",
       "                 20  回傳代碼                       回傳訊息                 建檔日期  \\\n",
       "0   0006MLC00034022   200  {\"MESSAGE\":\"\",\"CODE\":200}  2021/09/24 12:31:17   \n",
       "1  001LM01212660007   200  {\"MESSAGE\":\"\",\"CODE\":200}  2021/09/24 12:32:17   \n",
       "2   0393MLC00068522   200  {\"MESSAGE\":\"\",\"CODE\":200}  2021/09/24 12:33:05   \n",
       "3  0505121IM0000553   200  {\"MESSAGE\":\"\",\"CODE\":200}  2021/09/24 12:01:28   \n",
       "4  0799M21SA0000380   200  {\"MESSAGE\":\"\",\"CODE\":200}  2021/09/24 12:01:04   \n",
       "\n",
       "                           受益人            金額  ... EXPNO jac  \\\n",
       "0             FORMOSA PLASTICS  USD136080,00  ...  1.066667   \n",
       "1              NAN YA PLASTICS    USD111000,  ...  0.750000   \n",
       "2  FORMOSA CHEMICALS AND FIBRE  USD736110,00  ...  1.133333   \n",
       "3             FORMOSA PLASTICS  USD154710,00  ...  1.066667   \n",
       "4             FORMOSA PLASTICS    USD152640,  ...  1.066667   \n",
       "\n",
       "                                      EXPNO 產品名  \\\n",
       "0                           MASS PVC RESIN B-57   \n",
       "1                   (鄰苯二甲酐)\\nPHTHALIC ANHYDRIDE   \n",
       "2  ABS RESIN GRADE\\nAG15A1-H\\n丙烯-丁二烯-\\n苯乙烯共聚合物   \n",
       "3                           MASS PVC RESIN B-57   \n",
       "4                           MASS PVC RESIN B-57   \n",
       "\n",
       "                                           EXPNO 開狀人  \\\n",
       "0                           OJUS PETROCHEMICALS LLPC   \n",
       "1         AHMED SAEED AFIFI FACTORY CO FORRESINS LTD   \n",
       "2  SHANTILAL MAHENDRAKUMAR AND COSHILPIN COMMERCI...   \n",
       "3                           OJUS PETROCHEMICALS LLPC   \n",
       "4                           OJUS PETROCHEMICALS LLPC   \n",
       "\n",
       "                          EXPNO 受益人  \\\n",
       "0      FORMOSA PLASTICS CORPORATION   \n",
       "1       NAN YA PLASTICS CORPORATION   \n",
       "2  FORMOSA CHEMICALS AND FIBRE CORP   \n",
       "3      FORMOSA PLASTICS CORPORATION   \n",
       "4      FORMOSA PLASTICS CORPORATION   \n",
       "\n",
       "                                          EXPNO 開狀銀行 EXPNO 產品名分數 EXPNO 開狀人分數  \\\n",
       "0  ICICI BANK LTD.,\\nSHALIMAR TOWER, 31/54 M.G.MA...    0.400000         0.0   \n",
       "1       NATIONAL COMMERCIAL BANK, THE\\n(HEAD OFFICE)    0.000000         0.0   \n",
       "2                                BANK OF MAHARASHTRA    0.333333         0.0   \n",
       "3  ICICI BANK LTD.,\\nSHALIMAR TOWER, 31/54 M.G.MA...    0.400000         0.0   \n",
       "4  ICICI BANK LTD.,\\nSHALIMAR TOWER, 31/54 M.G.MA...    0.400000         0.0   \n",
       "\n",
       "  EXPNO 受益人分數 EXPNO 開狀銀行分數  與前案一致  \n",
       "0    0.666667          0.0   True  \n",
       "1    0.750000          0.0  False  \n",
       "2    0.800000          0.0   True  \n",
       "3    0.666667          0.0   True  \n",
       "4    0.666667          0.0   True  \n",
       "\n",
       "[5 rows x 47 columns]"
      ]
     },
     "execution_count": 1,
     "metadata": {},
     "output_type": "execute_result"
    }
   ],
   "source": [
    "import pandas as pd\n",
    "from tqdm import tqdm\n",
    "\n",
    "df = pd.read_excel('../predict_result/0927到1210測試結果.xlsx')\n",
    "print(df.shape)\n",
    "df.head()"
   ]
  },
  {
   "cell_type": "code",
   "execution_count": 2,
   "metadata": {},
   "outputs": [
    {
     "data": {
      "text/plain": [
       "Index(['45A', '項次', '電文代號', '銀行', '20', '回傳代碼', '回傳訊息', '建檔日期', '受益人', '金額',\n",
       "       '推薦公司事業部', '是否已轉MIS', 'MEMO', 'from', '50', '59', '46A', '47A', '78',\n",
       "       'LTADDRESS.1', 'memo', 'Unnamed: 5', '預測產品', '預測產品(取長度最長)', '預測產品使用方式',\n",
       "       '根據產品預測部門', '根據產品預測代號', '預測開狀人', '利用公司名稱預測公司代號', 'DIVSION',\n",
       "       'DIVSION預測代號', '集成預測代號', '銀行輸入', '開狀銀行', '正確與否', '錯誤原因', 'EXPNO',\n",
       "       'EXPNO jac', 'EXPNO 產品名', 'EXPNO 開狀人', 'EXPNO 受益人', 'EXPNO 開狀銀行',\n",
       "       'EXPNO 產品名分數', 'EXPNO 開狀人分數', 'EXPNO 受益人分數', 'EXPNO 開狀銀行分數', '與前案一致'],\n",
       "      dtype='object')"
      ]
     },
     "execution_count": 2,
     "metadata": {},
     "output_type": "execute_result"
    }
   ],
   "source": [
    "df.columns"
   ]
  },
  {
   "cell_type": "code",
   "execution_count": 3,
   "metadata": {},
   "outputs": [],
   "source": [
    "def save_color_df(df,save_path,x_cols=['45A','50','59','銀行輸入'],y_cols=['預測產品(取長度最長)','預測開狀人','受益人','開狀銀行']):\n",
    "    # 建立writer\n",
    "    writer = pd.ExcelWriter(save_path, engine='xlsxwriter')\n",
    "    # 將 df 第一個 row 變成欄位名稱\n",
    "    new_df = pd.DataFrame()\n",
    "    for i in df.columns:\n",
    "        new_df[i] = [i] + df[i].values.tolist() \n",
    "    df = new_df\n",
    "    # 存檔\n",
    "    df.to_excel(writer, sheet_name='Sheet1', header=False, index=False)\n",
    "    # 參數設定\n",
    "    workbook  = writer.book\n",
    "    worksheet = writer.sheets['Sheet1']\n",
    "    cell_format_red = workbook.add_format({'font_color': 'red'})\n",
    "    cell_format_default = workbook.add_format({'bold': False})\n",
    "    worksheet.write_row('A1',df.columns.tolist())\n",
    "    # 定義反紅功能函數\n",
    "    def add_word_color(df,x_col,y_col):\n",
    "        for row in range(0,len(df)):\n",
    "            word = df.iloc[row,:][y_col]\n",
    "            detect_col_idx = df.columns.tolist().index(x_col)\n",
    "            try:\n",
    "                # 1st case, wrong word is at the start and there is additional text\n",
    "                if (df.iloc[row,detect_col_idx].index(word) == 0) \\\n",
    "                and (len(df.iloc[row,detect_col_idx]) != len(word)):\n",
    "                    worksheet.write_rich_string(row,detect_col_idx,cell_format_red,\n",
    "                        word,cell_format_default,df.iloc[row,detect_col_idx][len(word):])\n",
    "\n",
    "                # 2nd case, wrong word is at the middle of the string\n",
    "                elif (df.iloc[row,detect_col_idx].index(word) > 0) \\\n",
    "                and (df.iloc[row,detect_col_idx].index(word) != len(df.iloc[row,detect_col_idx])-len(word)) \\\n",
    "                and ('Typo:' not in df.iloc[row,detect_col_idx]):\n",
    "                    starting_point = df.iloc[row,detect_col_idx].index(word)\n",
    "                    worksheet.write_rich_string(row, detect_col_idx, cell_format_default,\n",
    "                                        df.iloc[row,detect_col_idx][0:starting_point],\n",
    "                                        cell_format_red, word, cell_format_default,\n",
    "                                        df.iloc[row,detect_col_idx][starting_point+len(word):])\n",
    "\n",
    "                # 3rd case, wrong word is at the end of the string\n",
    "                elif (df.iloc[row,detect_col_idx].index(word) > 0) \\\n",
    "                and (df.iloc[row,detect_col_idx].index(word) == len(df.iloc[row,detect_col_idx])-len(word)):\n",
    "                    starting_point = df.iloc[row,detect_col_idx].index(word)\n",
    "                    worksheet.write_rich_string(row, detect_col_idx, cell_format_default,\n",
    "                                                df.iloc[row,detect_col_idx][0:starting_point],\n",
    "                                                cell_format_red, word)\n",
    "\n",
    "                # 4th case, wrong word is the only one in the string\n",
    "                elif (df.iloc[row,detect_col_idx].index(word) == 0) \\\n",
    "                and (len(df.iloc[row,detect_col_idx]) == len(word)):\n",
    "                    worksheet.write(row, detect_col_idx, word, cell_format_red)\n",
    "\n",
    "            except ValueError:\n",
    "                continue\n",
    "    \n",
    "    # 執行多次反紅功能函數\n",
    "    for x,y in zip(x_cols,y_cols):\n",
    "        add_word_color(df,x,y)\n",
    "    \n",
    "    # 存檔\n",
    "    writer.save()"
   ]
  },
  {
   "cell_type": "code",
   "execution_count": 4,
   "metadata": {},
   "outputs": [
    {
     "name": "stderr",
     "output_type": "stream",
     "text": [
      "  5%|▍         | 2/44 [00:00<00:04,  8.78it/s]"
     ]
    },
    {
     "name": "stdout",
     "output_type": "stream",
     "text": [
      "../data/測試結果/0927測試結果.xlsx (34, 47)\n",
      "../data/測試結果/0928測試結果.xlsx (56, 47)\n"
     ]
    },
    {
     "name": "stderr",
     "output_type": "stream",
     "text": [
      " 11%|█▏        | 5/44 [00:00<00:03, 10.72it/s]"
     ]
    },
    {
     "name": "stdout",
     "output_type": "stream",
     "text": [
      "../data/測試結果/0929測試結果.xlsx (50, 47)\n",
      "../data/測試結果/1004測試結果.xlsx (34, 47)\n",
      "../data/測試結果/1005測試結果.xlsx (30, 47)\n"
     ]
    },
    {
     "name": "stderr",
     "output_type": "stream",
     "text": [
      " 16%|█▌        | 7/44 [00:00<00:03, 10.22it/s]"
     ]
    },
    {
     "name": "stdout",
     "output_type": "stream",
     "text": [
      "../data/測試結果/1006測試結果.xlsx (41, 47)\n",
      "../data/測試結果/1007測試結果.xlsx (36, 47)\n",
      "../data/測試結果/1008測試結果.xlsx (31, 47)\n"
     ]
    },
    {
     "name": "stderr",
     "output_type": "stream",
     "text": [
      " 20%|██        | 9/44 [00:00<00:03, 11.05it/s]"
     ]
    },
    {
     "name": "stdout",
     "output_type": "stream",
     "text": [
      "../data/測試結果/1012測試結果.xlsx (35, 47)\n",
      "../data/測試結果/1013測試結果.xlsx (43, 47)\n"
     ]
    },
    {
     "name": "stderr",
     "output_type": "stream",
     "text": [
      " 25%|██▌       | 11/44 [00:01<00:03, 10.58it/s]"
     ]
    },
    {
     "name": "stdout",
     "output_type": "stream",
     "text": [
      "../data/測試結果/1018測試結果.xlsx (39, 47)\n",
      "../data/測試結果/1019測試結果.xlsx (26, 47)\n"
     ]
    },
    {
     "name": "stderr",
     "output_type": "stream",
     "text": [
      " 30%|██▉       | 13/44 [00:01<00:03,  9.93it/s]"
     ]
    },
    {
     "name": "stdout",
     "output_type": "stream",
     "text": [
      "../data/測試結果/1020測試結果.xlsx (45, 47)\n",
      "../data/測試結果/1021測試結果.xlsx (36, 47)\n"
     ]
    },
    {
     "name": "stderr",
     "output_type": "stream",
     "text": [
      " 34%|███▍      | 15/44 [00:01<00:02,  9.72it/s]"
     ]
    },
    {
     "name": "stdout",
     "output_type": "stream",
     "text": [
      "../data/測試結果/1022測試結果.xlsx (52, 47)\n",
      "../data/測試結果/1023測試結果.xlsx (33, 47)\n"
     ]
    },
    {
     "name": "stderr",
     "output_type": "stream",
     "text": [
      " 43%|████▎     | 19/44 [00:01<00:02,  9.92it/s]"
     ]
    },
    {
     "name": "stdout",
     "output_type": "stream",
     "text": [
      "../data/測試結果/1026測試結果.xlsx (51, 47)\n",
      "../data/測試結果/1027測試結果.xlsx (42, 47)\n",
      "../data/測試結果/1028測試結果.xlsx (38, 47)\n"
     ]
    },
    {
     "name": "stderr",
     "output_type": "stream",
     "text": [
      " 48%|████▊     | 21/44 [00:02<00:02, 10.67it/s]"
     ]
    },
    {
     "name": "stdout",
     "output_type": "stream",
     "text": [
      "../data/測試結果/1029測試結果.xlsx (54, 47)\n",
      "../data/測試結果/1101測試結果.xlsx (1, 47)\n",
      "../data/測試結果/1102測試結果.xlsx (65, 47)\n"
     ]
    },
    {
     "name": "stderr",
     "output_type": "stream",
     "text": [
      " 52%|█████▏    | 23/44 [00:02<00:02,  9.68it/s]"
     ]
    },
    {
     "name": "stdout",
     "output_type": "stream",
     "text": [
      "../data/測試結果/1103測試結果.xlsx (40, 47)\n",
      "../data/測試結果/1104測試結果.xlsx (50, 47)\n"
     ]
    },
    {
     "name": "stderr",
     "output_type": "stream",
     "text": [
      " 57%|█████▋    | 25/44 [00:02<00:02,  9.35it/s]"
     ]
    },
    {
     "name": "stdout",
     "output_type": "stream",
     "text": [
      "../data/測試結果/1105測試結果.xlsx (35, 47)\n",
      "../data/測試結果/1113測試結果.xlsx (36, 47)\n"
     ]
    },
    {
     "name": "stderr",
     "output_type": "stream",
     "text": [
      " 64%|██████▎   | 28/44 [00:02<00:01,  9.28it/s]"
     ]
    },
    {
     "name": "stdout",
     "output_type": "stream",
     "text": [
      "../data/測試結果/1116測試結果.xlsx (47, 47)\n",
      "../data/測試結果/1117測試結果.xlsx (38, 47)\n",
      "../data/測試結果/1118測試結果.xlsx (32, 47)\n"
     ]
    },
    {
     "name": "stderr",
     "output_type": "stream",
     "text": [
      " 73%|███████▎  | 32/44 [00:03<00:01,  9.97it/s]"
     ]
    },
    {
     "name": "stdout",
     "output_type": "stream",
     "text": [
      "../data/測試結果/1119測試結果.xlsx (34, 47)\n",
      "../data/測試結果/1122測試結果.xlsx (37, 47)\n",
      "../data/測試結果/1123測試結果.xlsx (41, 47)\n"
     ]
    },
    {
     "name": "stderr",
     "output_type": "stream",
     "text": [
      " 77%|███████▋  | 34/44 [00:03<00:01,  9.18it/s]"
     ]
    },
    {
     "name": "stdout",
     "output_type": "stream",
     "text": [
      "../data/測試結果/1125測試結果.xlsx (35, 47)\n",
      "../data/測試結果/1126測試結果.xlsx (73, 47)\n"
     ]
    },
    {
     "name": "stderr",
     "output_type": "stream",
     "text": [
      " 80%|███████▉  | 35/44 [00:03<00:00,  9.08it/s]"
     ]
    },
    {
     "name": "stdout",
     "output_type": "stream",
     "text": [
      "../data/測試結果/1129測試結果.xlsx (38, 47)\n",
      "../data/測試結果/1130測試結果.xlsx (32, 47)\n"
     ]
    },
    {
     "name": "stderr",
     "output_type": "stream",
     "text": [
      " 86%|████████▋ | 38/44 [00:03<00:00,  8.25it/s]"
     ]
    },
    {
     "name": "stdout",
     "output_type": "stream",
     "text": [
      "../data/測試結果/1201測試結果.xlsx (47, 47)\n",
      "../data/測試結果/1202測試結果.xlsx (59, 47)\n"
     ]
    },
    {
     "name": "stderr",
     "output_type": "stream",
     "text": [
      " 91%|█████████ | 40/44 [00:04<00:00,  8.70it/s]"
     ]
    },
    {
     "name": "stdout",
     "output_type": "stream",
     "text": [
      "../data/測試結果/1203測試結果.xlsx (44, 47)\n",
      "../data/測試結果/1206測試結果.xlsx (33, 47)\n"
     ]
    },
    {
     "name": "stderr",
     "output_type": "stream",
     "text": [
      " 98%|█████████▊| 43/44 [00:04<00:00,  9.01it/s]"
     ]
    },
    {
     "name": "stdout",
     "output_type": "stream",
     "text": [
      "../data/測試結果/1207測試結果.xlsx (46, 47)\n",
      "../data/測試結果/1208測試結果.xlsx (39, 47)\n",
      "../data/測試結果/1209測試結果.xlsx (36, 47)\n"
     ]
    },
    {
     "name": "stderr",
     "output_type": "stream",
     "text": [
      "100%|██████████| 44/44 [00:04<00:00,  9.42it/s]"
     ]
    },
    {
     "name": "stdout",
     "output_type": "stream",
     "text": [
      "../data/測試結果/1210測試結果.xlsx (46, 47)\n"
     ]
    },
    {
     "name": "stderr",
     "output_type": "stream",
     "text": [
      "\n"
     ]
    }
   ],
   "source": [
    "for fname in tqdm(sorted([ i for i in df['from'].unique()])):\n",
    "    d = df.loc[df['from']==fname]\n",
    "    save_name = '../data/測試結果/'+fname[:4]+'測試結果.xlsx'\n",
    "    save_color_df(d,save_name)\n",
    "    print(save_name,d.shape)\n",
    "    "
   ]
  },
  {
   "cell_type": "code",
   "execution_count": null,
   "metadata": {},
   "outputs": [],
   "source": []
  }
 ],
 "metadata": {
  "interpreter": {
   "hash": "2ccee5cc862501c1aad1cf19888c2a2eca4026b72d187db43d5e889cbdc6ee97"
  },
  "kernelspec": {
   "display_name": "Python 3.8.5 64-bit ('base': conda)",
   "name": "python3"
  },
  "language_info": {
   "codemirror_mode": {
    "name": "ipython",
    "version": 3
   },
   "file_extension": ".py",
   "mimetype": "text/x-python",
   "name": "python",
   "nbconvert_exporter": "python",
   "pygments_lexer": "ipython3",
   "version": "3.7.11"
  },
  "orig_nbformat": 4
 },
 "nbformat": 4,
 "nbformat_minor": 2
}
