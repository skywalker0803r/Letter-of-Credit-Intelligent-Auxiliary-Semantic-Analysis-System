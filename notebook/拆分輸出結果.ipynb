{
 "cells": [
  {
   "cell_type": "code",
   "execution_count": 34,
   "metadata": {},
   "outputs": [
    {
     "data": {
      "text/html": [
       "<div>\n",
       "<style scoped>\n",
       "    .dataframe tbody tr th:only-of-type {\n",
       "        vertical-align: middle;\n",
       "    }\n",
       "\n",
       "    .dataframe tbody tr th {\n",
       "        vertical-align: top;\n",
       "    }\n",
       "\n",
       "    .dataframe thead th {\n",
       "        text-align: right;\n",
       "    }\n",
       "</style>\n",
       "<table border=\"1\" class=\"dataframe\">\n",
       "  <thead>\n",
       "    <tr style=\"text-align: right;\">\n",
       "      <th></th>\n",
       "      <th>45A</th>\n",
       "      <th>項次</th>\n",
       "      <th>電文代號</th>\n",
       "      <th>銀行</th>\n",
       "      <th>20</th>\n",
       "      <th>回傳代碼</th>\n",
       "      <th>回傳訊息</th>\n",
       "      <th>建檔日期</th>\n",
       "      <th>受益人</th>\n",
       "      <th>金額</th>\n",
       "      <th>...</th>\n",
       "      <th>根據產品預測部門</th>\n",
       "      <th>根據產品預測代號</th>\n",
       "      <th>預測開狀人</th>\n",
       "      <th>利用公司名稱預測公司代號</th>\n",
       "      <th>集成預測代號</th>\n",
       "      <th>銀行輸入</th>\n",
       "      <th>開狀銀行</th>\n",
       "      <th>正確與否</th>\n",
       "      <th>錯誤原因</th>\n",
       "      <th>信用狀代碼(LCNO)</th>\n",
       "    </tr>\n",
       "  </thead>\n",
       "  <tbody>\n",
       "    <tr>\n",
       "      <th>0</th>\n",
       "      <td>48 MT PVC SUSPENSION RESIN GRADE S65AT THE RA...</td>\n",
       "      <td>8</td>\n",
       "      <td>mt700</td>\n",
       "      <td>16</td>\n",
       "      <td>0006MLC00034022</td>\n",
       "      <td>200</td>\n",
       "      <td>{\"MESSAGE\":\"\",\"CODE\":200}</td>\n",
       "      <td>2021/09/24 12:31:17</td>\n",
       "      <td>FORMOSA PLASTICS CORPORATION</td>\n",
       "      <td>USD136080,00</td>\n",
       "      <td>...</td>\n",
       "      <td>['台塑塑膠部', '台化塑膠事業部', '台化塑膠事業部']</td>\n",
       "      <td>['11', '4A', '11']</td>\n",
       "      <td>DEEP JYOTI WAX TRADERS</td>\n",
       "      <td>11</td>\n",
       "      <td>11</td>\n",
       "      <td>1. SIGNED COMMERCIAL INVOICE IN TWO ORIGINAL.\\...</td>\n",
       "      <td>ICICI BANK LTD</td>\n",
       "      <td>yes</td>\n",
       "      <td>無錯誤</td>\n",
       "      <td>0006MLC00047821</td>\n",
       "    </tr>\n",
       "    <tr>\n",
       "      <th>1</th>\n",
       "      <td>TETRAHYDROFURAN AT USD 5550 TOTAL AMOUNTUSD 1...</td>\n",
       "      <td>10</td>\n",
       "      <td>mt700</td>\n",
       "      <td>16</td>\n",
       "      <td>001LM01212660007</td>\n",
       "      <td>200</td>\n",
       "      <td>{\"MESSAGE\":\"\",\"CODE\":200}</td>\n",
       "      <td>2021/09/24 12:32:17</td>\n",
       "      <td>NAN YA PLASTICS CORPORATION</td>\n",
       "      <td>USD111000,</td>\n",
       "      <td>...</td>\n",
       "      <td>['南亞塑四部化學品部']</td>\n",
       "      <td>['2P']</td>\n",
       "      <td>TETRAHYDROFURAN AT USD 5550 TOTAL AMOUNTUSD 1...</td>\n",
       "      <td>27</td>\n",
       "      <td>2P</td>\n",
       "      <td>+1.SIGNED COMMERCIAL INVOICES IN 6 COPIES FOR ...</td>\n",
       "      <td>YES BANK LIMITED</td>\n",
       "      <td>no</td>\n",
       "      <td>訓練使用的數據跟此份測試資料的代號不一致(可能還需釐清廠方提供數據是否有錯誤)</td>\n",
       "      <td>594LM01210050004</td>\n",
       "    </tr>\n",
       "    <tr>\n",
       "      <th>2</th>\n",
       "      <td>A 19800 MT OF TAIRILAC AG15A1HABS ABS RESINAT...</td>\n",
       "      <td>11</td>\n",
       "      <td>mt700</td>\n",
       "      <td>16</td>\n",
       "      <td>0393MLC00068522</td>\n",
       "      <td>200</td>\n",
       "      <td>{\"MESSAGE\":\"\",\"CODE\":200}</td>\n",
       "      <td>2021/09/24 12:33:05</td>\n",
       "      <td>FORMOSA CHEMICALS AND FIBRECORPORATION</td>\n",
       "      <td>USD736110,00</td>\n",
       "      <td>...</td>\n",
       "      <td>['台化塑膠事業部', '台化塑膠事業部', '台化塑膠事業部', '台化塑膠事業部']</td>\n",
       "      <td>['4A', '4A', '4A', '4A']</td>\n",
       "      <td>SUPREME PETROCHEM LIMITED</td>\n",
       "      <td>41</td>\n",
       "      <td>4A</td>\n",
       "      <td>1.SIGNED COMMERCIAL INVOICE IN 3  COPIES,  CER...</td>\n",
       "      <td>ICICI BANK LTD</td>\n",
       "      <td>yes</td>\n",
       "      <td>無錯誤</td>\n",
       "      <td>001LM01211750013</td>\n",
       "    </tr>\n",
       "    <tr>\n",
       "      <th>3</th>\n",
       "      <td>80 MT PVC SUSPENSION RESIN GRADE S65S AT THE ...</td>\n",
       "      <td>12</td>\n",
       "      <td>mt700</td>\n",
       "      <td>16</td>\n",
       "      <td>0505121IM0000553</td>\n",
       "      <td>200</td>\n",
       "      <td>{\"MESSAGE\":\"\",\"CODE\":200}</td>\n",
       "      <td>2021/09/24 12:01:28</td>\n",
       "      <td>FORMOSA PLASTICS CORPORATION</td>\n",
       "      <td>USD154710,00</td>\n",
       "      <td>...</td>\n",
       "      <td>['台塑塑膠部', '台化塑膠事業部', '台化塑膠事業部']</td>\n",
       "      <td>['11', '4A', '11']</td>\n",
       "      <td>RMG POLYVINYL INDIA LIMITED</td>\n",
       "      <td>11</td>\n",
       "      <td>11</td>\n",
       "      <td>1. DRAFT FOR 100 PERCENT OF THE INVOICE VALUE....</td>\n",
       "      <td>MEGA INTERNATIONAL COMMERCIAL</td>\n",
       "      <td>yes</td>\n",
       "      <td>無錯誤</td>\n",
       "      <td>0172FOSU2115003</td>\n",
       "    </tr>\n",
       "    <tr>\n",
       "      <th>4</th>\n",
       "      <td>PVC SUSPENSION RESIN S70RQUANTITY 72 MT UNIT ...</td>\n",
       "      <td>13</td>\n",
       "      <td>mt700</td>\n",
       "      <td>16</td>\n",
       "      <td>0799M21SA0000380</td>\n",
       "      <td>200</td>\n",
       "      <td>{\"MESSAGE\":\"\",\"CODE\":200}</td>\n",
       "      <td>2021/09/24 12:01:04</td>\n",
       "      <td>FORMOSA PLASTICS CORPORATION</td>\n",
       "      <td>USD152640,</td>\n",
       "      <td>...</td>\n",
       "      <td>['台塑塑膠部', '台化塑膠事業部']</td>\n",
       "      <td>['11', '4A']</td>\n",
       "      <td>KTM KIMYEVI MADDELER ITHALAT</td>\n",
       "      <td>11</td>\n",
       "      <td>11</td>\n",
       "      <td>1. COMMERCIAL INVOICE IN 2 ORIGINALS AND 2 COP...</td>\n",
       "      <td>CITITWTX</td>\n",
       "      <td>yes</td>\n",
       "      <td>無錯誤</td>\n",
       "      <td>0799M20SA0000268</td>\n",
       "    </tr>\n",
       "  </tbody>\n",
       "</table>\n",
       "<p>5 rows × 34 columns</p>\n",
       "</div>"
      ],
      "text/plain": [
       "                                                 45A  項次   電文代號  銀行  \\\n",
       "0   48 MT PVC SUSPENSION RESIN GRADE S65AT THE RA...   8  mt700  16   \n",
       "1   TETRAHYDROFURAN AT USD 5550 TOTAL AMOUNTUSD 1...  10  mt700  16   \n",
       "2   A 19800 MT OF TAIRILAC AG15A1HABS ABS RESINAT...  11  mt700  16   \n",
       "3   80 MT PVC SUSPENSION RESIN GRADE S65S AT THE ...  12  mt700  16   \n",
       "4   PVC SUSPENSION RESIN S70RQUANTITY 72 MT UNIT ...  13  mt700  16   \n",
       "\n",
       "                 20  回傳代碼                       回傳訊息                 建檔日期  \\\n",
       "0   0006MLC00034022   200  {\"MESSAGE\":\"\",\"CODE\":200}  2021/09/24 12:31:17   \n",
       "1  001LM01212660007   200  {\"MESSAGE\":\"\",\"CODE\":200}  2021/09/24 12:32:17   \n",
       "2   0393MLC00068522   200  {\"MESSAGE\":\"\",\"CODE\":200}  2021/09/24 12:33:05   \n",
       "3  0505121IM0000553   200  {\"MESSAGE\":\"\",\"CODE\":200}  2021/09/24 12:01:28   \n",
       "4  0799M21SA0000380   200  {\"MESSAGE\":\"\",\"CODE\":200}  2021/09/24 12:01:04   \n",
       "\n",
       "                                      受益人            金額  ...  \\\n",
       "0            FORMOSA PLASTICS CORPORATION  USD136080,00  ...   \n",
       "1             NAN YA PLASTICS CORPORATION    USD111000,  ...   \n",
       "2  FORMOSA CHEMICALS AND FIBRECORPORATION  USD736110,00  ...   \n",
       "3            FORMOSA PLASTICS CORPORATION  USD154710,00  ...   \n",
       "4            FORMOSA PLASTICS CORPORATION    USD152640,  ...   \n",
       "\n",
       "                                       根據產品預測部門                  根據產品預測代號  \\\n",
       "0               ['台塑塑膠部', '台化塑膠事業部', '台化塑膠事業部']        ['11', '4A', '11']   \n",
       "1                                 ['南亞塑四部化學品部']                    ['2P']   \n",
       "2  ['台化塑膠事業部', '台化塑膠事業部', '台化塑膠事業部', '台化塑膠事業部']  ['4A', '4A', '4A', '4A']   \n",
       "3               ['台塑塑膠部', '台化塑膠事業部', '台化塑膠事業部']        ['11', '4A', '11']   \n",
       "4                          ['台塑塑膠部', '台化塑膠事業部']              ['11', '4A']   \n",
       "\n",
       "                                               預測開狀人 利用公司名稱預測公司代號 集成預測代號  \\\n",
       "0                             DEEP JYOTI WAX TRADERS           11     11   \n",
       "1   TETRAHYDROFURAN AT USD 5550 TOTAL AMOUNTUSD 1...           27     2P   \n",
       "2                          SUPREME PETROCHEM LIMITED           41     4A   \n",
       "3                        RMG POLYVINYL INDIA LIMITED           11     11   \n",
       "4                       KTM KIMYEVI MADDELER ITHALAT           11     11   \n",
       "\n",
       "                                                銀行輸入  \\\n",
       "0  1. SIGNED COMMERCIAL INVOICE IN TWO ORIGINAL.\\...   \n",
       "1  +1.SIGNED COMMERCIAL INVOICES IN 6 COPIES FOR ...   \n",
       "2  1.SIGNED COMMERCIAL INVOICE IN 3  COPIES,  CER...   \n",
       "3  1. DRAFT FOR 100 PERCENT OF THE INVOICE VALUE....   \n",
       "4  1. COMMERCIAL INVOICE IN 2 ORIGINALS AND 2 COP...   \n",
       "\n",
       "                            開狀銀行 正確與否  \\\n",
       "0                 ICICI BANK LTD  yes   \n",
       "1               YES BANK LIMITED   no   \n",
       "2                 ICICI BANK LTD  yes   \n",
       "3  MEGA INTERNATIONAL COMMERCIAL  yes   \n",
       "4                       CITITWTX  yes   \n",
       "\n",
       "                                      錯誤原因       信用狀代碼(LCNO)  \n",
       "0                                      無錯誤   0006MLC00047821  \n",
       "1  訓練使用的數據跟此份測試資料的代號不一致(可能還需釐清廠方提供數據是否有錯誤)  594LM01210050004  \n",
       "2                                      無錯誤  001LM01211750013  \n",
       "3                                      無錯誤   0172FOSU2115003  \n",
       "4                                      無錯誤  0799M20SA0000268  \n",
       "\n",
       "[5 rows x 34 columns]"
      ]
     },
     "execution_count": 34,
     "metadata": {},
     "output_type": "execute_result"
    }
   ],
   "source": [
    "import pandas as pd\n",
    "from tqdm import tqdm\n",
    "\n",
    "df = pd.read_excel('../predict_result/0927到1022測試結果.xlsx')\n",
    "df.head()"
   ]
  },
  {
   "cell_type": "code",
   "execution_count": 35,
   "metadata": {},
   "outputs": [
    {
     "data": {
      "text/plain": [
       "Index(['45A', '項次', '電文代號', '銀行', '20', '回傳代碼', '回傳訊息', '建檔日期', '受益人', '金額',\n",
       "       '推薦公司事業部', '是否已轉MIS', 'MEMO', 'from', '50', '59', '46A', '47A', '78',\n",
       "       'memo', 'Unnamed: 5', '預測產品', '預測產品(取長度最長)', '預測產品使用方式', '根據產品預測部門',\n",
       "       '根據產品預測代號', '預測開狀人', '利用公司名稱預測公司代號', '集成預測代號', '銀行輸入', '開狀銀行', '正確與否',\n",
       "       '錯誤原因', '信用狀代碼(LCNO)'],\n",
       "      dtype='object')"
      ]
     },
     "execution_count": 35,
     "metadata": {},
     "output_type": "execute_result"
    }
   ],
   "source": [
    "df.columns"
   ]
  },
  {
   "cell_type": "code",
   "execution_count": 36,
   "metadata": {},
   "outputs": [],
   "source": [
    "def save_color_df(df,save_path,x_cols=['45A','50','59','銀行輸入'],y_cols=['預測產品(取長度最長)','預測開狀人','受益人','開狀銀行']):\n",
    "    # 建立writer\n",
    "    writer = pd.ExcelWriter(save_path, engine='xlsxwriter')\n",
    "    # 將 df 第一個 row 變成欄位名稱\n",
    "    new_df = pd.DataFrame()\n",
    "    for i in df.columns:\n",
    "        new_df[i] = [i] + df[i].values.tolist() \n",
    "    df = new_df\n",
    "    # 存檔\n",
    "    df.to_excel(writer, sheet_name='Sheet1', header=False, index=False)\n",
    "    # 參數設定\n",
    "    workbook  = writer.book\n",
    "    worksheet = writer.sheets['Sheet1']\n",
    "    cell_format_red = workbook.add_format({'font_color': 'red'})\n",
    "    cell_format_default = workbook.add_format({'bold': False})\n",
    "    worksheet.write_row('A1',df.columns.tolist())\n",
    "    # 定義反紅功能函數\n",
    "    def add_word_color(df,x_col,y_col):\n",
    "        for row in range(0,len(df)):\n",
    "            word = df.iloc[row,:][y_col]\n",
    "            detect_col_idx = df.columns.tolist().index(x_col)\n",
    "            try:\n",
    "                # 1st case, wrong word is at the start and there is additional text\n",
    "                if (df.iloc[row,detect_col_idx].index(word) == 0) \\\n",
    "                and (len(df.iloc[row,detect_col_idx]) != len(word)):\n",
    "                    worksheet.write_rich_string(row,detect_col_idx,cell_format_red,\n",
    "                        word,cell_format_default,df.iloc[row,detect_col_idx][len(word):])\n",
    "\n",
    "                # 2nd case, wrong word is at the middle of the string\n",
    "                elif (df.iloc[row,detect_col_idx].index(word) > 0) \\\n",
    "                and (df.iloc[row,detect_col_idx].index(word) != len(df.iloc[row,detect_col_idx])-len(word)) \\\n",
    "                and ('Typo:' not in df.iloc[row,detect_col_idx]):\n",
    "                    starting_point = df.iloc[row,detect_col_idx].index(word)\n",
    "                    worksheet.write_rich_string(row, detect_col_idx, cell_format_default,\n",
    "                                        df.iloc[row,detect_col_idx][0:starting_point],\n",
    "                                        cell_format_red, word, cell_format_default,\n",
    "                                        df.iloc[row,detect_col_idx][starting_point+len(word):])\n",
    "\n",
    "                # 3rd case, wrong word is at the end of the string\n",
    "                elif (df.iloc[row,detect_col_idx].index(word) > 0) \\\n",
    "                and (df.iloc[row,detect_col_idx].index(word) == len(df.iloc[row,detect_col_idx])-len(word)):\n",
    "                    starting_point = df.iloc[row,detect_col_idx].index(word)\n",
    "                    worksheet.write_rich_string(row, detect_col_idx, cell_format_default,\n",
    "                                                df.iloc[row,detect_col_idx][0:starting_point],\n",
    "                                                cell_format_red, word)\n",
    "\n",
    "                # 4th case, wrong word is the only one in the string\n",
    "                elif (df.iloc[row,detect_col_idx].index(word) == 0) \\\n",
    "                and (len(df.iloc[row,detect_col_idx]) == len(word)):\n",
    "                    worksheet.write(row, detect_col_idx, word, cell_format_red)\n",
    "\n",
    "            except ValueError:\n",
    "                continue\n",
    "    \n",
    "    # 執行多次反紅功能函數\n",
    "    for x,y in zip(x_cols,y_cols):\n",
    "        add_word_color(df,x,y)\n",
    "    \n",
    "    # 存檔\n",
    "    writer.save()"
   ]
  },
  {
   "cell_type": "code",
   "execution_count": 37,
   "metadata": {},
   "outputs": [
    {
     "name": "stderr",
     "output_type": "stream",
     "text": [
      "  7%|▋         | 1/15 [00:00<00:02,  5.03it/s]"
     ]
    },
    {
     "name": "stdout",
     "output_type": "stream",
     "text": [
      "../data/測試結果/0927測試結果.xlsx (34, 34)\n"
     ]
    },
    {
     "name": "stderr",
     "output_type": "stream",
     "text": [
      " 13%|█▎        | 2/15 [00:00<00:02,  4.56it/s]"
     ]
    },
    {
     "name": "stdout",
     "output_type": "stream",
     "text": [
      "../data/測試結果/0928測試結果.xlsx (56, 34)\n"
     ]
    },
    {
     "name": "stderr",
     "output_type": "stream",
     "text": [
      " 20%|██        | 3/15 [00:00<00:02,  4.51it/s]"
     ]
    },
    {
     "name": "stdout",
     "output_type": "stream",
     "text": [
      "../data/測試結果/0929測試結果.xlsx (50, 34)\n"
     ]
    },
    {
     "name": "stderr",
     "output_type": "stream",
     "text": [
      " 33%|███▎      | 5/15 [00:01<00:02,  4.93it/s]"
     ]
    },
    {
     "name": "stdout",
     "output_type": "stream",
     "text": [
      "../data/測試結果/1004測試結果.xlsx (34, 34)\n",
      "../data/測試結果/1005測試結果.xlsx (30, 34)\n"
     ]
    },
    {
     "name": "stderr",
     "output_type": "stream",
     "text": [
      " 47%|████▋     | 7/15 [00:01<00:01,  5.30it/s]"
     ]
    },
    {
     "name": "stdout",
     "output_type": "stream",
     "text": [
      "../data/測試結果/1006測試結果.xlsx (41, 34)\n",
      "../data/測試結果/1007測試結果.xlsx (36, 34)\n"
     ]
    },
    {
     "name": "stderr",
     "output_type": "stream",
     "text": [
      " 60%|██████    | 9/15 [00:01<00:01,  5.75it/s]"
     ]
    },
    {
     "name": "stdout",
     "output_type": "stream",
     "text": [
      "../data/測試結果/1008測試結果.xlsx (31, 34)\n",
      "../data/測試結果/1012測試結果.xlsx (35, 34)\n"
     ]
    },
    {
     "name": "stderr",
     "output_type": "stream",
     "text": [
      " 67%|██████▋   | 10/15 [00:01<00:00,  5.30it/s]"
     ]
    },
    {
     "name": "stdout",
     "output_type": "stream",
     "text": [
      "../data/測試結果/1013測試結果.xlsx (43, 34)\n"
     ]
    },
    {
     "name": "stderr",
     "output_type": "stream",
     "text": [
      " 80%|████████  | 12/15 [00:02<00:00,  5.29it/s]"
     ]
    },
    {
     "name": "stdout",
     "output_type": "stream",
     "text": [
      "../data/測試結果/1018測試結果.xlsx (39, 34)\n",
      "../data/測試結果/1019測試結果.xlsx (26, 34)\n"
     ]
    },
    {
     "name": "stderr",
     "output_type": "stream",
     "text": [
      " 93%|█████████▎| 14/15 [00:02<00:00,  5.07it/s]"
     ]
    },
    {
     "name": "stdout",
     "output_type": "stream",
     "text": [
      "../data/測試結果/1020測試結果.xlsx (45, 34)\n",
      "../data/測試結果/1021測試結果.xlsx (36, 34)\n"
     ]
    },
    {
     "name": "stderr",
     "output_type": "stream",
     "text": [
      "100%|██████████| 15/15 [00:03<00:00,  4.92it/s]"
     ]
    },
    {
     "name": "stdout",
     "output_type": "stream",
     "text": [
      "../data/測試結果/1022測試結果.xlsx (52, 34)\n"
     ]
    },
    {
     "name": "stderr",
     "output_type": "stream",
     "text": [
      "\n"
     ]
    }
   ],
   "source": [
    "for fname in tqdm(sorted([ i for i in df['from'].unique()])):\n",
    "    d = df.loc[df['from']==fname]\n",
    "    save_name = '../data/測試結果/'+fname[:4]+'測試結果.xlsx'\n",
    "    save_color_df(d,save_name)\n",
    "    print(save_name,d.shape)\n",
    "    "
   ]
  },
  {
   "cell_type": "code",
   "execution_count": null,
   "metadata": {},
   "outputs": [],
   "source": []
  }
 ],
 "metadata": {
  "interpreter": {
   "hash": "2ccee5cc862501c1aad1cf19888c2a2eca4026b72d187db43d5e889cbdc6ee97"
  },
  "kernelspec": {
   "display_name": "Python 3.8.5 64-bit ('base': conda)",
   "name": "python3"
  },
  "language_info": {
   "codemirror_mode": {
    "name": "ipython",
    "version": 3
   },
   "file_extension": ".py",
   "mimetype": "text/x-python",
   "name": "python",
   "nbconvert_exporter": "python",
   "pygments_lexer": "ipython3",
   "version": "3.8.5"
  },
  "orig_nbformat": 4
 },
 "nbformat": 4,
 "nbformat_minor": 2
}
