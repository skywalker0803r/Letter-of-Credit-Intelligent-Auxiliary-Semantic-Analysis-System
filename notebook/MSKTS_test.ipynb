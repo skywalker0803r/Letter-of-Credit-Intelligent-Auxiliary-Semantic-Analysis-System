{
  "nbformat": 4,
  "nbformat_minor": 0,
  "metadata": {
    "colab": {
      "name": "MSKTS_test.ipynb",
      "provenance": [],
      "mount_file_id": "1RYtRwMV9LnkMqdTPZDegNXLCsN-QeXIj",
      "authorship_tag": "ABX9TyPW4cEqtGhsmUBnZobGgZoe",
      "include_colab_link": true
    },
    "kernelspec": {
      "name": "python3",
      "display_name": "Python 3"
    },
    "language_info": {
      "name": "python"
    }
  },
  "cells": [
    {
      "cell_type": "markdown",
      "metadata": {
        "id": "view-in-github",
        "colab_type": "text"
      },
      "source": [
        "<a href=\"https://colab.research.google.com/github/skywalker0803r/Letter-of-Credit-Intelligent-Auxiliary-Semantic-Analysis-System/blob/main/notebook/MSKTS_test.ipynb\" target=\"_parent\"><img src=\"https://colab.research.google.com/assets/colab-badge.svg\" alt=\"Open In Colab\"/></a>"
      ]
    },
    {
      "cell_type": "markdown",
      "source": [
        "# 載入算法"
      ],
      "metadata": {
        "id": "nXjtkL0k42ga"
      }
    },
    {
      "cell_type": "code",
      "source": [
        "import re \n",
        "  \n",
        "str1 = \"7953abcd[)12!zfee\"\n",
        "print (\"Original alphanumeric string : \", str1) \n",
        "\n",
        "def clean_text(str1): \n",
        "  char = \"\" \n",
        "  for x in str(str1):\n",
        "    if x.isalpha(): \n",
        "      char = \"\".join([char, x])\n",
        "  return char \n",
        "  \n",
        "print (\"Extracted characters from the alphanumeric string: \", clean_text(str1)) "
      ],
      "metadata": {
        "colab": {
          "base_uri": "https://localhost:8080/"
        },
        "id": "Hxrfh8k96KXq",
        "outputId": "5c6c2675-414c-41f8-9e5f-a5fc8007e969"
      },
      "execution_count": 68,
      "outputs": [
        {
          "output_type": "stream",
          "name": "stdout",
          "text": [
            "Original alphanumeric string :  7953abcd[)12!zfee\n",
            "Extracted characters from the alphanumeric string:  abcdzfee\n"
          ]
        }
      ]
    },
    {
      "cell_type": "code",
      "execution_count": 69,
      "metadata": {
        "colab": {
          "base_uri": "https://localhost:8080/"
        },
        "id": "0U_XEJOFeViO",
        "outputId": "59dce232-294f-4e73-ae16-d3e632d92b66"
      },
      "outputs": [
        {
          "output_type": "execute_result",
          "data": {
            "text/plain": [
              "[('A', 2.3575188830395972), ('C', 0.5172808422980086), ('B', 0.0)]"
            ]
          },
          "metadata": {},
          "execution_count": 69
        }
      ],
      "source": [
        "import requests\n",
        "url = 'https://gist.githubusercontent.com/skywalker0803r/7c00d680d731b99ab549dd40a96006ce/raw/25bdbba19b745f4dacf51ccf9de0123e21062c80/MSKTS.py'\n",
        "exec(requests.get(url).text)\n",
        "model = MSKTS()\n",
        "data = ['a','b','c','d','e']\n",
        "model.fit(data)\n",
        "output = model.predict('a',k=3)\n",
        "output"
      ]
    },
    {
      "cell_type": "markdown",
      "source": [
        "# load database"
      ],
      "metadata": {
        "id": "mrpwCVqk4Wki"
      }
    },
    {
      "cell_type": "code",
      "source": [
        "import pandas as pd\n",
        "\n",
        "database = pd.read_excel('/content/drive/MyDrive/NLP_dataset/Letter-of-Credit-Intelligent-Auxiliary-Semantic-Analysis-System/data/combined_excel.xlsx')\n",
        "database.head()"
      ],
      "metadata": {
        "colab": {
          "base_uri": "https://localhost:8080/",
          "height": 687
        },
        "id": "Dnw4lWUjxxSK",
        "outputId": "7053d3fa-8e93-4d0d-acbc-754ba9e86999"
      },
      "execution_count": 70,
      "outputs": [
        {
          "output_type": "execute_result",
          "data": {
            "text/html": [
              "\n",
              "  <div id=\"df-c567dd88-5f95-4a73-9089-6b13c6c7968c\">\n",
              "    <div class=\"colab-df-container\">\n",
              "      <div>\n",
              "<style scoped>\n",
              "    .dataframe tbody tr th:only-of-type {\n",
              "        vertical-align: middle;\n",
              "    }\n",
              "\n",
              "    .dataframe tbody tr th {\n",
              "        vertical-align: top;\n",
              "    }\n",
              "\n",
              "    .dataframe thead th {\n",
              "        text-align: right;\n",
              "    }\n",
              "</style>\n",
              "<table border=\"1\" class=\"dataframe\">\n",
              "  <thead>\n",
              "    <tr style=\"text-align: right;\">\n",
              "      <th></th>\n",
              "      <th>Unnamed: 0</th>\n",
              "      <th>59</th>\n",
              "      <th>45A</th>\n",
              "      <th>46A</th>\n",
              "      <th>47A</th>\n",
              "      <th>31D</th>\n",
              "      <th>44C</th>\n",
              "      <th>48</th>\n",
              "      <th>71D</th>\n",
              "      <th>78</th>\n",
              "      <th>50</th>\n",
              "      <th>51A</th>\n",
              "      <th>51D</th>\n",
              "      <th>LCNO</th>\n",
              "      <th>from</th>\n",
              "      <th>EXPNO</th>\n",
              "      <th>LCBK</th>\n",
              "      <th>CU1</th>\n",
              "      <th>SPEC</th>\n",
              "    </tr>\n",
              "  </thead>\n",
              "  <tbody>\n",
              "    <tr>\n",
              "      <th>0</th>\n",
              "      <td>0</td>\n",
              "      <td>FORMOSA PLASTICS CORPORATION201,TUNG HWA NORTH...</td>\n",
              "      <td>SHIPMENT OFPVC SUSPENSION RESIN S-65D QTY 18 M...</td>\n",
              "      <td>1. FULL SET OF(3 NEGOTIABLE COPIES PLUS 3 NON-...</td>\n",
              "      <td>1.ORIGINAL DOCUMENTS TO BE SENT IN ONE LOT BY ...</td>\n",
              "      <td>210215TAIWAN</td>\n",
              "      <td>210131</td>\n",
              "      <td>15/FROM SHIPMENT DATE</td>\n",
              "      <td>ALL CHARGES OUTSIDE INDIA TOTHE BENEFICIARYS A...</td>\n",
              "      <td>WE SHALL REMIT THE PROCEEDS TO YOU UPON RECEIP...</td>\n",
              "      <td>RYTOIL PETROCHEMICALS LLPBASEMENT 2095, I BLOC...</td>\n",
              "      <td>ORBCINBBLUP</td>\n",
              "      <td>NaN</td>\n",
              "      <td>08761FLC0003220</td>\n",
              "      <td>017-202101-03.xlsx</td>\n",
              "      <td>NaN</td>\n",
              "      <td>NaN</td>\n",
              "      <td>NaN</td>\n",
              "      <td>NaN</td>\n",
              "    </tr>\n",
              "    <tr>\n",
              "      <th>1</th>\n",
              "      <td>1</td>\n",
              "      <td>FORMOSA PLASTICS CORPORATION201, TUNG HWA NORT...</td>\n",
              "      <td>17 MT  PVC COPOLYMER RESIN, C-15  AT USD 1470 ...</td>\n",
              "      <td>1.DRAFTS FOR 100PCT OF INVOICE VALUE..2.COMPLE...</td>\n",
              "      <td>1.ALL DOCUMENT MUST MENTION OUR LC NUMBER AND ...</td>\n",
              "      <td>210319TAIWAN</td>\n",
              "      <td>210226</td>\n",
              "      <td>NaN</td>\n",
              "      <td>ALL CHARGES OUTSIDE INDIA ARETO THE ACCOUNT OF...</td>\n",
              "      <td>REFER FIELD 47A.</td>\n",
              "      <td>S R POLYVINYL LTD4261/3, JAI MATA MARKET TRI N...</td>\n",
              "      <td>NaN</td>\n",
              "      <td>NaN</td>\n",
              "      <td>OLC0005200038327</td>\n",
              "      <td>017-202101-03.xlsx</td>\n",
              "      <td>NaN</td>\n",
              "      <td>NaN</td>\n",
              "      <td>NaN</td>\n",
              "      <td>NaN</td>\n",
              "    </tr>\n",
              "    <tr>\n",
              "      <th>2</th>\n",
              "      <td>2</td>\n",
              "      <td>FORMOSA PLASTICS CORPORATION201. TUNG HWA N. R...</td>\n",
              "      <td>+TERMS OF SALE: CIF NHAVA SHEVA PORT, INDIA++7...</td>\n",
              "      <td>+1. SHIPPED ON BOARD OCEAN BILLS OF LADING (FU...</td>\n",
              "      <td>+1. DOCUMENTS TO BE SENT DIRECTLY TO US IN ONE...</td>\n",
              "      <td>210302TAIWAN</td>\n",
              "      <td>210215</td>\n",
              "      <td>NaN</td>\n",
              "      <td>+ALL ADVISING CHARGES AND OTHERBANK CHARGES OU...</td>\n",
              "      <td>WE HEREBY UNDERTAKE WITH DRAWERS AND/OR BONAFI...</td>\n",
              "      <td>OSWAL CABLE PRODUCTS PVT LTDA 93/1 WAZIRPUR GR...</td>\n",
              "      <td>NaN</td>\n",
              "      <td>NaN</td>\n",
              "      <td>5545607231</td>\n",
              "      <td>017-202101-03.xlsx</td>\n",
              "      <td>NaN</td>\n",
              "      <td>NaN</td>\n",
              "      <td>NaN</td>\n",
              "      <td>NaN</td>\n",
              "    </tr>\n",
              "    <tr>\n",
              "      <th>3</th>\n",
              "      <td>3</td>\n",
              "      <td>FORMOSA PLASTICS CORPORATION201,TUNG HWA N ROA...</td>\n",
              "      <td>MASS PVC RESIN, B-57QUANTITY 175 MT AT 1300 US...</td>\n",
              "      <td>1. SIGNED COMMERCIAL INVOICE IN 3 ORIGINALS AN...</td>\n",
              "      <td>1. ALL DOCUMENTS MUST BE IN ENGLISH.2. ALL DOC...</td>\n",
              "      <td>210321TAIWAN</td>\n",
              "      <td>210228</td>\n",
              "      <td>21/(REFER FIELD 47A CLAUSE NO.8)</td>\n",
              "      <td>ALL BANK CHARGES OUTSIDE INDIA ARETO THE ACCOU...</td>\n",
              "      <td>+UPON RECEIPT OF CREDIT COMPLIANT DOCUMENTS AT...</td>\n",
              "      <td>OJUS PETROCHEMICALS LLPC 289 NIRALA NAGAR LUCK...</td>\n",
              "      <td>NaN</td>\n",
              "      <td>NaN</td>\n",
              "      <td>6281MLC00000321</td>\n",
              "      <td>017-202101-03.xlsx</td>\n",
              "      <td>11G11F59</td>\n",
              "      <td>ICICI BANK LTD.,\\nSHALIMAR TOWER, 31/54 M.G.MA...</td>\n",
              "      <td>OJUS PETROCHEMICALS LLPC 289 NIRALA\\n NAGAR LU...</td>\n",
              "      <td>MASS PVC RESIN B-57</td>\n",
              "    </tr>\n",
              "    <tr>\n",
              "      <th>4</th>\n",
              "      <td>4</td>\n",
              "      <td>NAN YA PLASTICS CORPORATION201 TUN HWA NORTH R...</td>\n",
              "      <td>PHTHALIC ANHYDRIDE (PA)QUANTITY = 306 MT UNIT ...</td>\n",
              "      <td>1. SIGNED COMMERCIAL INVOICE IN ORIGINAL AND 4...</td>\n",
              "      <td>(A) ALL DOCUMENTS AND DRAFTS (IF CALLED FOR UN...</td>\n",
              "      <td>210221TAIWAN</td>\n",
              "      <td>NaN</td>\n",
              "      <td>021</td>\n",
              "      <td>NaN</td>\n",
              "      <td>IN REIMBURSEMENT OF NEGOTIATION MADE BY YOUIN ...</td>\n",
              "      <td>AHMED SAEED AFIFI FACTORY CO. FORRESINS LTD. P...</td>\n",
              "      <td>NaN</td>\n",
              "      <td>NaN</td>\n",
              "      <td>L072875</td>\n",
              "      <td>017-202101-03.xlsx</td>\n",
              "      <td>27P11346</td>\n",
              "      <td>NATIONAL COMMERCIAL BANK, THE\\n(HEAD OFFICE)</td>\n",
              "      <td>AHMED SAEED AFIFI FACTORY CO. FORRE\\nSINS LTD....</td>\n",
              "      <td>(鄰苯二甲酐)\\nPHTHALIC ANHYDRIDE</td>\n",
              "    </tr>\n",
              "  </tbody>\n",
              "</table>\n",
              "</div>\n",
              "      <button class=\"colab-df-convert\" onclick=\"convertToInteractive('df-c567dd88-5f95-4a73-9089-6b13c6c7968c')\"\n",
              "              title=\"Convert this dataframe to an interactive table.\"\n",
              "              style=\"display:none;\">\n",
              "        \n",
              "  <svg xmlns=\"http://www.w3.org/2000/svg\" height=\"24px\"viewBox=\"0 0 24 24\"\n",
              "       width=\"24px\">\n",
              "    <path d=\"M0 0h24v24H0V0z\" fill=\"none\"/>\n",
              "    <path d=\"M18.56 5.44l.94 2.06.94-2.06 2.06-.94-2.06-.94-.94-2.06-.94 2.06-2.06.94zm-11 1L8.5 8.5l.94-2.06 2.06-.94-2.06-.94L8.5 2.5l-.94 2.06-2.06.94zm10 10l.94 2.06.94-2.06 2.06-.94-2.06-.94-.94-2.06-.94 2.06-2.06.94z\"/><path d=\"M17.41 7.96l-1.37-1.37c-.4-.4-.92-.59-1.43-.59-.52 0-1.04.2-1.43.59L10.3 9.45l-7.72 7.72c-.78.78-.78 2.05 0 2.83L4 21.41c.39.39.9.59 1.41.59.51 0 1.02-.2 1.41-.59l7.78-7.78 2.81-2.81c.8-.78.8-2.07 0-2.86zM5.41 20L4 18.59l7.72-7.72 1.47 1.35L5.41 20z\"/>\n",
              "  </svg>\n",
              "      </button>\n",
              "      \n",
              "  <style>\n",
              "    .colab-df-container {\n",
              "      display:flex;\n",
              "      flex-wrap:wrap;\n",
              "      gap: 12px;\n",
              "    }\n",
              "\n",
              "    .colab-df-convert {\n",
              "      background-color: #E8F0FE;\n",
              "      border: none;\n",
              "      border-radius: 50%;\n",
              "      cursor: pointer;\n",
              "      display: none;\n",
              "      fill: #1967D2;\n",
              "      height: 32px;\n",
              "      padding: 0 0 0 0;\n",
              "      width: 32px;\n",
              "    }\n",
              "\n",
              "    .colab-df-convert:hover {\n",
              "      background-color: #E2EBFA;\n",
              "      box-shadow: 0px 1px 2px rgba(60, 64, 67, 0.3), 0px 1px 3px 1px rgba(60, 64, 67, 0.15);\n",
              "      fill: #174EA6;\n",
              "    }\n",
              "\n",
              "    [theme=dark] .colab-df-convert {\n",
              "      background-color: #3B4455;\n",
              "      fill: #D2E3FC;\n",
              "    }\n",
              "\n",
              "    [theme=dark] .colab-df-convert:hover {\n",
              "      background-color: #434B5C;\n",
              "      box-shadow: 0px 1px 3px 1px rgba(0, 0, 0, 0.15);\n",
              "      filter: drop-shadow(0px 1px 2px rgba(0, 0, 0, 0.3));\n",
              "      fill: #FFFFFF;\n",
              "    }\n",
              "  </style>\n",
              "\n",
              "      <script>\n",
              "        const buttonEl =\n",
              "          document.querySelector('#df-c567dd88-5f95-4a73-9089-6b13c6c7968c button.colab-df-convert');\n",
              "        buttonEl.style.display =\n",
              "          google.colab.kernel.accessAllowed ? 'block' : 'none';\n",
              "\n",
              "        async function convertToInteractive(key) {\n",
              "          const element = document.querySelector('#df-c567dd88-5f95-4a73-9089-6b13c6c7968c');\n",
              "          const dataTable =\n",
              "            await google.colab.kernel.invokeFunction('convertToInteractive',\n",
              "                                                     [key], {});\n",
              "          if (!dataTable) return;\n",
              "\n",
              "          const docLinkHtml = 'Like what you see? Visit the ' +\n",
              "            '<a target=\"_blank\" href=https://colab.research.google.com/notebooks/data_table.ipynb>data table notebook</a>'\n",
              "            + ' to learn more about interactive tables.';\n",
              "          element.innerHTML = '';\n",
              "          dataTable['output_type'] = 'display_data';\n",
              "          await google.colab.output.renderOutput(dataTable, element);\n",
              "          const docLink = document.createElement('div');\n",
              "          docLink.innerHTML = docLinkHtml;\n",
              "          element.appendChild(docLink);\n",
              "        }\n",
              "      </script>\n",
              "    </div>\n",
              "  </div>\n",
              "  "
            ],
            "text/plain": [
              "   Unnamed: 0  ...                         SPEC\n",
              "0           0  ...                          NaN\n",
              "1           1  ...                          NaN\n",
              "2           2  ...                          NaN\n",
              "3           3  ...          MASS PVC RESIN B-57\n",
              "4           4  ...  (鄰苯二甲酐)\\nPHTHALIC ANHYDRIDE\n",
              "\n",
              "[5 rows x 19 columns]"
            ]
          },
          "metadata": {},
          "execution_count": 70
        }
      ]
    },
    {
      "cell_type": "markdown",
      "source": [
        "# fit model"
      ],
      "metadata": {
        "id": "bodB5uci4ZCW"
      }
    },
    {
      "cell_type": "code",
      "source": [
        "model = MSKTS()\n",
        "database['處理過的資料'] = database['45A'].apply(clean_text)\n",
        "database['處理過的資料'].values.tolist()[:5]"
      ],
      "metadata": {
        "colab": {
          "base_uri": "https://localhost:8080/"
        },
        "id": "7aZ3NJzd4DaB",
        "outputId": "9e9896bb-6c56-4641-c0b7-1e362c803bd1"
      },
      "execution_count": 71,
      "outputs": [
        {
          "output_type": "execute_result",
          "data": {
            "text/plain": [
              "['SHIPMENTOFPVCSUSPENSIONRESINSDQTYMTPVCSUSPENSIONRESINSQTYMTPVCMASSRESINBQTYMTASPERPROFORMAINVOICENOAADTHSNCODEINCOTERMSCIFMUNDRAPORTINDIA',\n",
              " 'MTPVCCOPOLYMERRESINCATUSDPERMTASPERPROFORMAINVOICENOLVNCDTSTDECEMBERINCOTERMCIFMUNDRASEAPORTINDIA',\n",
              " 'TERMSOFSALECIFNHAVASHEVAPORTINDIAMTOFPVCRESINSATUSDPMTASPERPROFORMAINVOICENOQDATEDDEC',\n",
              " 'MASSPVCRESINBQUANTITYMTATUSDMTASPERPROFORMAINVOICENOABDATEDCIFPIPAVAVPORTINDIAINCOTERMS',\n",
              " 'PHTHALICANHYDRIDEPAQUANTITYMTUNITPRICEUSDMTCIFJEDDAHSEAPORTKSAASPERINCOTERMS']"
            ]
          },
          "metadata": {},
          "execution_count": 71
        }
      ]
    },
    {
      "cell_type": "code",
      "source": [
        "model.fit(database['處理過的資料'].values.tolist())"
      ],
      "metadata": {
        "id": "5Gmbk5ew7bh_"
      },
      "execution_count": 72,
      "outputs": []
    },
    {
      "cell_type": "markdown",
      "source": [
        "# load test data"
      ],
      "metadata": {
        "id": "34dW8u0q4czU"
      }
    },
    {
      "cell_type": "code",
      "source": [
        "test_data = pd.read_csv('/content/drive/MyDrive/NLP_dataset/Letter-of-Credit-Intelligent-Auxiliary-Semantic-Analysis-System/data/測試數據/0927到1022.csv')\n",
        "test_data.head()"
      ],
      "metadata": {
        "colab": {
          "base_uri": "https://localhost:8080/",
          "height": 722
        },
        "id": "9oj6XTfp4dGr",
        "outputId": "3a8cffa9-49e4-47ab-8911-0b719c117dc7"
      },
      "execution_count": 73,
      "outputs": [
        {
          "output_type": "execute_result",
          "data": {
            "text/html": [
              "\n",
              "  <div id=\"df-db94c12a-5334-48ac-a109-0f1bdb6eae3f\">\n",
              "    <div class=\"colab-df-container\">\n",
              "      <div>\n",
              "<style scoped>\n",
              "    .dataframe tbody tr th:only-of-type {\n",
              "        vertical-align: middle;\n",
              "    }\n",
              "\n",
              "    .dataframe tbody tr th {\n",
              "        vertical-align: top;\n",
              "    }\n",
              "\n",
              "    .dataframe thead th {\n",
              "        text-align: right;\n",
              "    }\n",
              "</style>\n",
              "<table border=\"1\" class=\"dataframe\">\n",
              "  <thead>\n",
              "    <tr style=\"text-align: right;\">\n",
              "      <th></th>\n",
              "      <th>Unnamed: 0</th>\n",
              "      <th>項次</th>\n",
              "      <th>電文代號</th>\n",
              "      <th>銀行</th>\n",
              "      <th>20</th>\n",
              "      <th>回傳代碼</th>\n",
              "      <th>回傳訊息</th>\n",
              "      <th>建檔日期</th>\n",
              "      <th>受益人</th>\n",
              "      <th>金額</th>\n",
              "      <th>推薦公司事業部</th>\n",
              "      <th>是否已轉MIS</th>\n",
              "      <th>MEMO</th>\n",
              "      <th>from</th>\n",
              "      <th>45A</th>\n",
              "      <th>50</th>\n",
              "      <th>59</th>\n",
              "      <th>46A</th>\n",
              "      <th>47A</th>\n",
              "      <th>78</th>\n",
              "      <th>memo</th>\n",
              "      <th>Unnamed: 5</th>\n",
              "    </tr>\n",
              "  </thead>\n",
              "  <tbody>\n",
              "    <tr>\n",
              "      <th>0</th>\n",
              "      <td>7</td>\n",
              "      <td>8</td>\n",
              "      <td>mt700</td>\n",
              "      <td>16</td>\n",
              "      <td>0006MLC00034022</td>\n",
              "      <td>200</td>\n",
              "      <td>{\"MESSAGE\":\"\",\"CODE\":200}</td>\n",
              "      <td>2021/09/24 12:31:17</td>\n",
              "      <td>FORMOSA PLASTICS CORPORATION\\n201 TUNG HWA NOR...</td>\n",
              "      <td>USD136080,00</td>\n",
              "      <td>11</td>\n",
              "      <td>Y</td>\n",
              "      <td>NaN</td>\n",
              "      <td>0927.xls</td>\n",
              "      <td>48 MT PVC SUSPENSION RESIN GRADE S-65\\r\\nAT TH...</td>\n",
              "      <td>DEEP JYOTI WAX TRADERS\\r\\nPRIVATE LIMITED\\r\\n1...</td>\n",
              "      <td>FORMOSA PLASTICS CORPORATION\\r\\n201 TUNG HWA N...</td>\n",
              "      <td>1. SIGNED COMMERCIAL INVOICE IN TWO ORIGINAL.\\...</td>\n",
              "      <td>1. ALL DOCUMENTS MUST BE IN ENGLISH.\\r\\n2. ALL...</td>\n",
              "      <td>UPON RECEIPT OF CREDIT COMPLIANT DOCUMENTS AT ...</td>\n",
              "      <td>NaN</td>\n",
              "      <td>NaN</td>\n",
              "    </tr>\n",
              "    <tr>\n",
              "      <th>1</th>\n",
              "      <td>9</td>\n",
              "      <td>10</td>\n",
              "      <td>mt700</td>\n",
              "      <td>16</td>\n",
              "      <td>001LM01212660007</td>\n",
              "      <td>200</td>\n",
              "      <td>{\"MESSAGE\":\"\",\"CODE\":200}</td>\n",
              "      <td>2021/09/24 12:32:17</td>\n",
              "      <td>NAN YA PLASTICS CORPORATION\\nREFER FIELD 47A C...</td>\n",
              "      <td>USD111000,</td>\n",
              "      <td>24</td>\n",
              "      <td>Y</td>\n",
              "      <td>NaN</td>\n",
              "      <td>0927.xls</td>\n",
              "      <td>TETRAHYDROFURAN AT USD 5550 TOTAL AMOUNT-USD 1...</td>\n",
              "      <td>UJIN PHARMACHEM\\r\\nREFER FIELD 47A POINT NO.12</td>\n",
              "      <td>NAN YA PLASTICS CORPORATION\\r\\nREFER FIELD 47A...</td>\n",
              "      <td>+1.SIGNED COMMERCIAL INVOICES IN 6 COPIES FOR ...</td>\n",
              "      <td>+1.ALL DOCUMENT MUST BE IN ENGLISH LANGUAGE.\\r...</td>\n",
              "      <td>IN REIMBURSEMENT,WE SHALL REMIT PROCEEDS ON TH...</td>\n",
              "      <td>NaN</td>\n",
              "      <td>NaN</td>\n",
              "    </tr>\n",
              "    <tr>\n",
              "      <th>2</th>\n",
              "      <td>10</td>\n",
              "      <td>11</td>\n",
              "      <td>mt700</td>\n",
              "      <td>16</td>\n",
              "      <td>0393MLC00068522</td>\n",
              "      <td>200</td>\n",
              "      <td>{\"MESSAGE\":\"\",\"CODE\":200}</td>\n",
              "      <td>2021/09/24 12:33:05</td>\n",
              "      <td>FORMOSA CHEMICALS AND FIBRE\\nCORPORATION, 201,...</td>\n",
              "      <td>USD736110,00</td>\n",
              "      <td>4A</td>\n",
              "      <td>Y</td>\n",
              "      <td>NaN</td>\n",
              "      <td>0927.xls</td>\n",
              "      <td>A) 198.00 M.T. OF TAIRILAC  AG15A1-H(ABS) ABS ...</td>\n",
              "      <td>SUPREME PETROCHEM LIMITED\\r\\nREFER FIELD 47A C...</td>\n",
              "      <td>FORMOSA CHEMICALS AND FIBRE\\r\\nCORPORATION, 20...</td>\n",
              "      <td>1.SIGNED COMMERCIAL INVOICE IN 3  COPIES,  CER...</td>\n",
              "      <td>1.ALL DOCUMENTS MUST BE IN ENGLISH.\\r\\n2. ALL ...</td>\n",
              "      <td>+ NEGOTIATING BANK CAN CLAIM REIMBURSEMENT ON ...</td>\n",
              "      <td>NaN</td>\n",
              "      <td>NaN</td>\n",
              "    </tr>\n",
              "    <tr>\n",
              "      <th>3</th>\n",
              "      <td>11</td>\n",
              "      <td>12</td>\n",
              "      <td>mt700</td>\n",
              "      <td>16</td>\n",
              "      <td>0505121IM0000553</td>\n",
              "      <td>200</td>\n",
              "      <td>{\"MESSAGE\":\"\",\"CODE\":200}</td>\n",
              "      <td>2021/09/24 12:01:28</td>\n",
              "      <td>FORMOSA PLASTICS CORPORATION\\n201 TUNG HWA, NO...</td>\n",
              "      <td>USD154710,00</td>\n",
              "      <td>11</td>\n",
              "      <td>Y</td>\n",
              "      <td>NaN</td>\n",
              "      <td>0927.xls</td>\n",
              "      <td>80 MT PVC SUSPENSION RESIN GRADE S-65S AT THE ...</td>\n",
              "      <td>RMG POLYVINYL INDIA LIMITED\\r\\n10/1, INDUSTRIA...</td>\n",
              "      <td>FORMOSA PLASTICS CORPORATION\\r\\n201 TUNG HWA, ...</td>\n",
              "      <td>1. DRAFT FOR 100 PERCENT OF THE INVOICE VALUE....</td>\n",
              "      <td>1.INLAND HAULAGE CHARGES FROM NHAVA SHEVA PORT...</td>\n",
              "      <td>1. WE WILL REMIT THE PROCEEDS TO THE NEGOTIATI...</td>\n",
              "      <td>NaN</td>\n",
              "      <td>NaN</td>\n",
              "    </tr>\n",
              "    <tr>\n",
              "      <th>4</th>\n",
              "      <td>12</td>\n",
              "      <td>13</td>\n",
              "      <td>mt700</td>\n",
              "      <td>16</td>\n",
              "      <td>0799M21SA0000380</td>\n",
              "      <td>200</td>\n",
              "      <td>{\"MESSAGE\":\"\",\"CODE\":200}</td>\n",
              "      <td>2021/09/24 12:01:04</td>\n",
              "      <td>FORMOSA PLASTICS CORPORATION\\n201, TUNG HWA N....</td>\n",
              "      <td>USD152640,</td>\n",
              "      <td>11</td>\n",
              "      <td>Y</td>\n",
              "      <td>NaN</td>\n",
              "      <td>0927.xls</td>\n",
              "      <td>PVC SUSPENSION RESIN S-70R\\r\\nQUANTITY: 72 MT,...</td>\n",
              "      <td>KTM KIMYEVI MADDELER ITHALAT\\r\\nIHRACAT SANAYI...</td>\n",
              "      <td>FORMOSA PLASTICS CORPORATION\\r\\n201, TUNG HWA ...</td>\n",
              "      <td>1. COMMERCIAL INVOICE IN 2 ORIGINALS AND 2 COP...</td>\n",
              "      <td>UNLESS OTHERWISE STIPULATED IN THE CREDIT\\r\\n1...</td>\n",
              "      <td>UPON OUR RECEIPT OF STRICTLY COMPLYING DOCUMEN...</td>\n",
              "      <td>NaN</td>\n",
              "      <td>NaN</td>\n",
              "    </tr>\n",
              "  </tbody>\n",
              "</table>\n",
              "</div>\n",
              "      <button class=\"colab-df-convert\" onclick=\"convertToInteractive('df-db94c12a-5334-48ac-a109-0f1bdb6eae3f')\"\n",
              "              title=\"Convert this dataframe to an interactive table.\"\n",
              "              style=\"display:none;\">\n",
              "        \n",
              "  <svg xmlns=\"http://www.w3.org/2000/svg\" height=\"24px\"viewBox=\"0 0 24 24\"\n",
              "       width=\"24px\">\n",
              "    <path d=\"M0 0h24v24H0V0z\" fill=\"none\"/>\n",
              "    <path d=\"M18.56 5.44l.94 2.06.94-2.06 2.06-.94-2.06-.94-.94-2.06-.94 2.06-2.06.94zm-11 1L8.5 8.5l.94-2.06 2.06-.94-2.06-.94L8.5 2.5l-.94 2.06-2.06.94zm10 10l.94 2.06.94-2.06 2.06-.94-2.06-.94-.94-2.06-.94 2.06-2.06.94z\"/><path d=\"M17.41 7.96l-1.37-1.37c-.4-.4-.92-.59-1.43-.59-.52 0-1.04.2-1.43.59L10.3 9.45l-7.72 7.72c-.78.78-.78 2.05 0 2.83L4 21.41c.39.39.9.59 1.41.59.51 0 1.02-.2 1.41-.59l7.78-7.78 2.81-2.81c.8-.78.8-2.07 0-2.86zM5.41 20L4 18.59l7.72-7.72 1.47 1.35L5.41 20z\"/>\n",
              "  </svg>\n",
              "      </button>\n",
              "      \n",
              "  <style>\n",
              "    .colab-df-container {\n",
              "      display:flex;\n",
              "      flex-wrap:wrap;\n",
              "      gap: 12px;\n",
              "    }\n",
              "\n",
              "    .colab-df-convert {\n",
              "      background-color: #E8F0FE;\n",
              "      border: none;\n",
              "      border-radius: 50%;\n",
              "      cursor: pointer;\n",
              "      display: none;\n",
              "      fill: #1967D2;\n",
              "      height: 32px;\n",
              "      padding: 0 0 0 0;\n",
              "      width: 32px;\n",
              "    }\n",
              "\n",
              "    .colab-df-convert:hover {\n",
              "      background-color: #E2EBFA;\n",
              "      box-shadow: 0px 1px 2px rgba(60, 64, 67, 0.3), 0px 1px 3px 1px rgba(60, 64, 67, 0.15);\n",
              "      fill: #174EA6;\n",
              "    }\n",
              "\n",
              "    [theme=dark] .colab-df-convert {\n",
              "      background-color: #3B4455;\n",
              "      fill: #D2E3FC;\n",
              "    }\n",
              "\n",
              "    [theme=dark] .colab-df-convert:hover {\n",
              "      background-color: #434B5C;\n",
              "      box-shadow: 0px 1px 3px 1px rgba(0, 0, 0, 0.15);\n",
              "      filter: drop-shadow(0px 1px 2px rgba(0, 0, 0, 0.3));\n",
              "      fill: #FFFFFF;\n",
              "    }\n",
              "  </style>\n",
              "\n",
              "      <script>\n",
              "        const buttonEl =\n",
              "          document.querySelector('#df-db94c12a-5334-48ac-a109-0f1bdb6eae3f button.colab-df-convert');\n",
              "        buttonEl.style.display =\n",
              "          google.colab.kernel.accessAllowed ? 'block' : 'none';\n",
              "\n",
              "        async function convertToInteractive(key) {\n",
              "          const element = document.querySelector('#df-db94c12a-5334-48ac-a109-0f1bdb6eae3f');\n",
              "          const dataTable =\n",
              "            await google.colab.kernel.invokeFunction('convertToInteractive',\n",
              "                                                     [key], {});\n",
              "          if (!dataTable) return;\n",
              "\n",
              "          const docLinkHtml = 'Like what you see? Visit the ' +\n",
              "            '<a target=\"_blank\" href=https://colab.research.google.com/notebooks/data_table.ipynb>data table notebook</a>'\n",
              "            + ' to learn more about interactive tables.';\n",
              "          element.innerHTML = '';\n",
              "          dataTable['output_type'] = 'display_data';\n",
              "          await google.colab.output.renderOutput(dataTable, element);\n",
              "          const docLink = document.createElement('div');\n",
              "          docLink.innerHTML = docLinkHtml;\n",
              "          element.appendChild(docLink);\n",
              "        }\n",
              "      </script>\n",
              "    </div>\n",
              "  </div>\n",
              "  "
            ],
            "text/plain": [
              "   Unnamed: 0  項次  ... memo Unnamed: 5\n",
              "0           7   8  ...  NaN        NaN\n",
              "1           9  10  ...  NaN        NaN\n",
              "2          10  11  ...  NaN        NaN\n",
              "3          11  12  ...  NaN        NaN\n",
              "4          12  13  ...  NaN        NaN\n",
              "\n",
              "[5 rows x 22 columns]"
            ]
          },
          "metadata": {},
          "execution_count": 73
        }
      ]
    },
    {
      "cell_type": "markdown",
      "source": [
        "# test model"
      ],
      "metadata": {
        "id": "LLyrWSFe4bIs"
      }
    },
    {
      "cell_type": "code",
      "source": [
        "test_data['處理後的資料'] = test_data['45A'].apply(clean_text)"
      ],
      "metadata": {
        "id": "_GyxH9f84N3i"
      },
      "execution_count": 74,
      "outputs": []
    },
    {
      "cell_type": "code",
      "source": [
        "output = model.predict(test_data['處理後的資料'][0],k=3)\n",
        "output"
      ],
      "metadata": {
        "colab": {
          "base_uri": "https://localhost:8080/"
        },
        "id": "l6hPXyAS5Hoa",
        "outputId": "c7e91d48-ad50-4f16-f0ec-35114bf13e3d"
      },
      "execution_count": 75,
      "outputs": [
        {
          "output_type": "execute_result",
          "data": {
            "text/plain": [
              "[('SHIPMENTOFPVCSUSPENSIONRESINSDQTYMTPVCSUSPENSIONRESINSQTYMTPVCMASSRESINBQTYMTASPERPROFORMAINVOICENOAADTHSNCODEINCOTERMSCIFMUNDRAPORTINDIA',\n",
              "  1.7976931348623157e+308),\n",
              " ('TERMSOFSALECIFNHAVASHEVAPORTINDIAMTOFPVCRESINSATUSDPMTASPERPROFORMAINVOICENOQDATEDDEC',\n",
              "  1.7976931348623157e+308),\n",
              " ('MASSPVCRESINBQUANTITYMTATUSDMTASPERPROFORMAINVOICENOABDATEDCIFPIPAVAVPORTINDIAINCOTERMS',\n",
              "  1.7976931348623157e+308)]"
            ]
          },
          "metadata": {},
          "execution_count": 75
        }
      ]
    },
    {
      "cell_type": "code",
      "source": [
        "output = [i[0] for i in output]\n",
        "output"
      ],
      "metadata": {
        "colab": {
          "base_uri": "https://localhost:8080/"
        },
        "id": "G8ypVyXTAIw9",
        "outputId": "9711d096-d37a-4976-c08d-4f6b1518863b"
      },
      "execution_count": 76,
      "outputs": [
        {
          "output_type": "execute_result",
          "data": {
            "text/plain": [
              "['SHIPMENTOFPVCSUSPENSIONRESINSDQTYMTPVCSUSPENSIONRESINSQTYMTPVCMASSRESINBQTYMTASPERPROFORMAINVOICENOAADTHSNCODEINCOTERMSCIFMUNDRAPORTINDIA',\n",
              " 'TERMSOFSALECIFNHAVASHEVAPORTINDIAMTOFPVCRESINSATUSDPMTASPERPROFORMAINVOICENOQDATEDDEC',\n",
              " 'MASSPVCRESINBQUANTITYMTATUSDMTASPERPROFORMAINVOICENOABDATEDCIFPIPAVAVPORTINDIAINCOTERMS']"
            ]
          },
          "metadata": {},
          "execution_count": 76
        }
      ]
    },
    {
      "cell_type": "code",
      "source": [
        "候選答案清單 = database.loc[database['處理過的資料'].isin(output),'EXPNO'].values.tolist()\n",
        "候選答案清單 = [str(i)[:2] for i in 候選答案清單]\n",
        "候選答案清單"
      ],
      "metadata": {
        "colab": {
          "base_uri": "https://localhost:8080/"
        },
        "id": "dPwMytWN5mOD",
        "outputId": "ff3b2c9d-f239-4732-9474-f562873ef739"
      },
      "execution_count": 77,
      "outputs": [
        {
          "output_type": "execute_result",
          "data": {
            "text/plain": [
              "['na', 'na', '11']"
            ]
          },
          "metadata": {},
          "execution_count": 77
        }
      ]
    },
    {
      "cell_type": "code",
      "source": [
        "真正答案 = test_data['推薦公司事業部'][0]\n",
        "真正答案"
      ],
      "metadata": {
        "colab": {
          "base_uri": "https://localhost:8080/",
          "height": 35
        },
        "id": "XTUB5P_3_8tD",
        "outputId": "3968cba7-b0fa-4ac3-f121-145c6f7cb659"
      },
      "execution_count": 78,
      "outputs": [
        {
          "output_type": "execute_result",
          "data": {
            "application/vnd.google.colaboratory.intrinsic+json": {
              "type": "string"
            },
            "text/plain": [
              "'11'"
            ]
          },
          "metadata": {},
          "execution_count": 78
        }
      ]
    },
    {
      "cell_type": "code",
      "source": [
        "真正答案 in 候選答案清單"
      ],
      "metadata": {
        "colab": {
          "base_uri": "https://localhost:8080/"
        },
        "id": "vF1Y3WgvBHcb",
        "outputId": "fb7b5e72-8ad5-491e-98a7-c2afce5d3522"
      },
      "execution_count": 79,
      "outputs": [
        {
          "output_type": "execute_result",
          "data": {
            "text/plain": [
              "True"
            ]
          },
          "metadata": {},
          "execution_count": 79
        }
      ]
    },
    {
      "cell_type": "code",
      "source": [
        ""
      ],
      "metadata": {
        "id": "U6vzjMw5BqwU"
      },
      "execution_count": 79,
      "outputs": []
    }
  ]
}